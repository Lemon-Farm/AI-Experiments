{
  "cells": [
    {
      "cell_type": "code",
      "execution_count": 14,
      "metadata": {
        "id": "ErvO-OF94ueq"
      },
      "outputs": [],
      "source": [
        "import torch\n",
        "import torch.nn as nn\n",
        "import torch.optim as optim\n",
        "import torch.nn.init as init\n",
        "import torch.nn.functional as F\n",
        "import os\n",
        "import random\n",
        "import numpy as np\n",
        "import matplotlib.pyplot as plt\n",
        "from torchvision import datasets, transforms\n",
        "from torch.utils.data import Dataset, DataLoader,Subset\n",
        "from tqdm import tqdm\n",
        "import pandas as pd\n",
        "from torch.optim.lr_scheduler import StepLR"
      ]
    },
    {
      "cell_type": "code",
      "execution_count": 20,
      "metadata": {
        "id": "44MQr3Uv4uer"
      },
      "outputs": [],
      "source": [
        "# 데이터 전처리 (CIFAR10은 3채널 이미지)\n",
        "transform = transforms.Compose([\n",
        "    transforms.ToTensor(),\n",
        "    transforms.Normalize(mean=[0.4914, 0.4822, 0.4465], std=[0.2023, 0.1994, 0.2010])\n",
        "])\n",
        "\n",
        "# CIFAR10 학습 및 테스트 데이터셋 불러오기\n",
        "train_dataset = datasets.CIFAR10(root='./data', train=True, transform=transform, download=True)\n",
        "test_dataset = datasets.CIFAR10(root='./data', train=False, transform=transform, download=True)\n",
        "\n",
        "# CIFAR10의 targets는 리스트로 되어 있으므로 tensor로 변환\n",
        "targets = torch.tensor(train_dataset.targets)\n",
        "\n",
        "num_samples_per_class = 200\n",
        "selected_indices = []\n",
        "\n",
        "# 0부터 9까지 각 클래스별로 인덱스를 추출하고, 랜덤하게 num_samples_per_class개 선택\n",
        "for class_label in range(10):\n",
        "    # 해당 클래스의 인덱스 추출\n",
        "    indices = (targets == class_label).nonzero(as_tuple=True)[0]\n",
        "    # 인덱스를 랜덤하게 섞은 후 원하는 개수만 선택\n",
        "    selected = indices[torch.randperm(len(indices))[:num_samples_per_class]]\n",
        "    selected_indices.extend(selected.tolist())\n",
        "\n",
        "# 선택한 인덱스만 남긴 서브셋 생성\n",
        "train_dataset = Subset(train_dataset, selected_indices)"
      ]
    },
    {
      "cell_type": "code",
      "execution_count": 21,
      "metadata": {
        "id": "FGzD9gLh4uer"
      },
      "outputs": [],
      "source": [
        "class MyNet(nn.Module):\n",
        "    def __init__(self, GN = False):\n",
        "        super(MyNet, self).__init__()\n",
        "        self.GN = GN\n",
        "\n",
        "        self.conv1 = nn.Conv2d(in_channels = 3, out_channels = 16, kernel_size = 3, padding = 1)\n",
        "        self.norm1 = nn.BatchNorm2d(16) if not GN else nn.GroupNorm(num_groups = 4, num_channels = 16)\n",
        "        self.conv2 = nn.Conv2d(in_channels = 16, out_channels = 32, kernel_size = 3, padding = 1)\n",
        "        self.norm2 = nn.BatchNorm2d(32) if not GN else nn.GroupNorm(num_groups = 8, num_channels = 32)\n",
        "        self.conv3 = nn.Conv2d(in_channels = 32, out_channels = 64, kernel_size = 3, padding = 1)\n",
        "        self.norm3 = nn.BatchNorm2d(64) if not GN else nn.GroupNorm(num_groups = 8, num_channels = 64)\n",
        "\n",
        "        self.relu = nn.ReLU()\n",
        "        self.pool = nn.MaxPool2d(kernel_size = 2, stride = 2)\n",
        "        self.classifier = nn.Linear(in_features=64 * 4 * 4, out_features=10)\n",
        "\n",
        "    def forward(self, x):\n",
        "        x = self.relu(self.norm1(self.conv1(x)))\n",
        "        x = self.pool(x)\n",
        "        x = self.relu(self.norm2(self.conv2(x)))\n",
        "        x = self.pool(x)\n",
        "        x = self.relu(self.norm3(self.conv3(x)))\n",
        "        x = self.pool(x)\n",
        "        x = x.view(x.size(0), -1)\n",
        "        x = self.classifier(x)\n",
        "        return x"
      ]
    },
    {
      "cell_type": "code",
      "source": [
        "def experiment(seed):\n",
        "    device = torch.device(\"cuda\" if torch.cuda.is_available() else \"cpu\")\n",
        "    batch_sizes = [2, 4, 8, 16, 32, 64, 128]\n",
        "    Accuracies = {\"BatchNorm\" : list(), \"GroupNorm\" : list()}\n",
        "    num_epochs = 10\n",
        "\n",
        "    def worker_init_fn(worker_id):\n",
        "        # 메인 프로세스의 torch.random.seed()로부터 worker에 고유 seed 부여\n",
        "        worker_seed = torch.initial_seed() % 2**32  # torch.initial_seed()는 메인 seed와 worker_id에 기반하여 결정됨\n",
        "        np.random.seed(worker_seed)\n",
        "        random.seed(worker_seed)\n",
        "\n",
        "    # 매 실험이 동일한 조건에서 시작하기 위해 시드 고정\n",
        "    print(f\"[Seed : {seed}] Experiment Start\")\n",
        "\n",
        "    for batch_size in batch_sizes:\n",
        "        # 시드 고정\n",
        "        torch.manual_seed(seed)\n",
        "        torch.cuda.manual_seed(seed)\n",
        "        torch.cuda.manual_seed_all(seed)\n",
        "        np.random.seed(seed)\n",
        "        random.seed(seed)\n",
        "        torch.backends.cudnn.deterministic = True\n",
        "        torch.backends.cudnn.benchmark = False\n",
        "\n",
        "        # DataLoader 생성\n",
        "        train_loader = DataLoader(train_dataset, batch_size=batch_size, shuffle=True, num_workers=8, pin_memory=True, worker_init_fn = worker_init_fn)\n",
        "        test_loader = DataLoader(test_dataset, batch_size=1024, shuffle=False, num_workers=8, pin_memory=True, worker_init_fn = worker_init_fn)\n",
        "        models = (model1:=MyNet(GN = False), model2:=MyNet(GN = True))\n",
        "        scaler = torch.amp.grad_scaler.GradScaler()\n",
        "\n",
        "        print(f\"ㅡㅡㅡㅡㅡㅡㅡㅡㅡㅡㅡㅡbatch_size: {batch_size}ㅡㅡㅡㅡㅡㅡㅡㅡㅡㅡㅡㅡㅡ\")\n",
        "        for model in models:\n",
        "            model.to(device)\n",
        "            criterion = nn.CrossEntropyLoss()\n",
        "            optimizer = optim.SGD(model.parameters(), lr=0.0195, momentum=0.91, weight_decay=0.0)\n",
        "            scheduler = torch.optim.lr_scheduler.CosineAnnealingLR(optimizer, T_max=num_epochs, eta_min=0.003)\n",
        "            #Train Code\n",
        "            for epoch in range(num_epochs):\n",
        "                model.train()\n",
        "                epoch_loss = 0.0\n",
        "                progress_bar = tqdm(train_loader, desc=f\"{'BatchNorm' if not model.GN else 'GroupNorm'} with epoch {epoch + 1}\")\n",
        "                for (data, target) in progress_bar:\n",
        "                    data, target = data.to(device), target.to(device)\n",
        "                    optimizer.zero_grad()\n",
        "\n",
        "                    with torch.amp.autocast(device_type=\"cuda\", dtype=torch.bfloat16):\n",
        "                        output = model(data)\n",
        "                        loss = criterion(output, target)\n",
        "                    epoch_loss += loss.item()\n",
        "                    scaler.scale(loss).backward()\n",
        "                    scaler.step(optimizer)\n",
        "                    scaler.update()\n",
        "                    progress_bar.set_postfix({\"Loss\": loss.item()})\n",
        "                scheduler.step()\n",
        "                print(f\"Epoch {epoch + 1}, Loss: {epoch_loss / len(train_loader)}, lr = {optimizer.param_groups[0]['lr']}\")\n",
        "\n",
        "        for model in models:\n",
        "            #Test Code\n",
        "            model.to(device)\n",
        "            model.eval()\n",
        "            correct = 0\n",
        "            with torch.no_grad():\n",
        "                for _, (data, target) in enumerate(test_loader):\n",
        "                    data, target = data.to(device), target.to(device)\n",
        "                    output = model(data)\n",
        "                    correct += (output.argmax(dim=1) == target).sum().item()\n",
        "            top1_acc = 100 * correct / len(test_loader.dataset)\n",
        "            if model.GN == False:\n",
        "                Accuracies[\"BatchNorm\"].append(top1_acc)\n",
        "            else:\n",
        "                Accuracies[\"GroupNorm\"].append(top1_acc)\n",
        "            print(f\"Norm : {'GroupNorm' if model.GN else 'BatchNorm'}, Batch Size: {batch_size}, Top1 Accuracy: {top1_acc:.2f}%\")\n",
        "            del model\n",
        "            torch.cuda.empty_cache()\n",
        "        print(f\"ㅡㅡㅡㅡㅡㅡㅡㅡㅡㅡㅡㅡbatch_size: {batch_size}ㅡㅡㅡㅡㅡㅡㅡㅡㅡㅡㅡㅡㅡ\\n\")\n",
        "\n",
        "    return Accuracies\n",
        "\n",
        "\n",
        "if __name__ == \"__main__\":\n",
        "    results = []\n",
        "    print(\"\\n\\n\")\n",
        "    #Please...\n",
        "    seed = 84035\n",
        "    results.append(experiment(seed))"
      ],
      "metadata": {
        "colab": {
          "base_uri": "https://localhost:8080/"
        },
        "id": "eyLL9jq0UpvF",
        "outputId": "3c4fc2ff-e9ad-4646-a92b-529b472cc207"
      },
      "execution_count": 25,
      "outputs": [
        {
          "output_type": "stream",
          "name": "stdout",
          "text": [
            "\n",
            "\n",
            "\n",
            "[Seed : 84035] Experiment Start\n",
            "ㅡㅡㅡㅡㅡㅡㅡㅡㅡㅡㅡㅡbatch_size: 2ㅡㅡㅡㅡㅡㅡㅡㅡㅡㅡㅡㅡㅡ\n"
          ]
        },
        {
          "output_type": "stream",
          "name": "stderr",
          "text": [
            "BatchNorm with epoch 1: 100%|██████████| 1000/1000 [00:05<00:00, 197.82it/s, Loss=2.47]\n"
          ]
        },
        {
          "output_type": "stream",
          "name": "stdout",
          "text": [
            "Epoch 1, Loss: 2.5063441915512086, lr = 0.019096216259435018\n"
          ]
        },
        {
          "output_type": "stream",
          "name": "stderr",
          "text": [
            "BatchNorm with epoch 2: 100%|██████████| 1000/1000 [00:05<00:00, 197.05it/s, Loss=2.74]\n"
          ]
        },
        {
          "output_type": "stream",
          "name": "stdout",
          "text": [
            "Epoch 2, Loss: 2.32829296875, lr = 0.017924390203593318\n"
          ]
        },
        {
          "output_type": "stream",
          "name": "stderr",
          "text": [
            "BatchNorm with epoch 3: 100%|██████████| 1000/1000 [00:05<00:00, 192.56it/s, Loss=2.27]\n"
          ]
        },
        {
          "output_type": "stream",
          "name": "stdout",
          "text": [
            "Epoch 3, Loss: 2.32803125, lr = 0.016099228331412904\n"
          ]
        },
        {
          "output_type": "stream",
          "name": "stderr",
          "text": [
            "BatchNorm with epoch 4: 100%|██████████| 1000/1000 [00:05<00:00, 198.81it/s, Loss=2.19]\n"
          ]
        },
        {
          "output_type": "stream",
          "name": "stdout",
          "text": [
            "Epoch 4, Loss: 2.3246015625, lr = 0.013799390203593317\n"
          ]
        },
        {
          "output_type": "stream",
          "name": "stderr",
          "text": [
            "BatchNorm with epoch 5: 100%|██████████| 1000/1000 [00:05<00:00, 195.21it/s, Loss=2.34]\n"
          ]
        },
        {
          "output_type": "stream",
          "name": "stdout",
          "text": [
            "Epoch 5, Loss: 2.3205625, lr = 0.011250000000000003\n"
          ]
        },
        {
          "output_type": "stream",
          "name": "stderr",
          "text": [
            "BatchNorm with epoch 6: 100%|██████████| 1000/1000 [00:04<00:00, 200.20it/s, Loss=2.29]\n"
          ]
        },
        {
          "output_type": "stream",
          "name": "stdout",
          "text": [
            "Epoch 6, Loss: 2.31853125, lr = 0.008700609796406687\n"
          ]
        },
        {
          "output_type": "stream",
          "name": "stderr",
          "text": [
            "BatchNorm with epoch 7: 100%|██████████| 1000/1000 [00:05<00:00, 194.51it/s, Loss=2.39]\n"
          ]
        },
        {
          "output_type": "stream",
          "name": "stdout",
          "text": [
            "Epoch 7, Loss: 2.31475390625, lr = 0.006400771668587099\n"
          ]
        },
        {
          "output_type": "stream",
          "name": "stderr",
          "text": [
            "BatchNorm with epoch 8: 100%|██████████| 1000/1000 [00:04<00:00, 201.66it/s, Loss=2.35]\n"
          ]
        },
        {
          "output_type": "stream",
          "name": "stdout",
          "text": [
            "Epoch 8, Loss: 2.31207421875, lr = 0.004575609796406685\n"
          ]
        },
        {
          "output_type": "stream",
          "name": "stderr",
          "text": [
            "BatchNorm with epoch 9: 100%|██████████| 1000/1000 [00:05<00:00, 199.27it/s, Loss=2.28]\n"
          ]
        },
        {
          "output_type": "stream",
          "name": "stdout",
          "text": [
            "Epoch 9, Loss: 2.311203125, lr = 0.0034037837405649835\n"
          ]
        },
        {
          "output_type": "stream",
          "name": "stderr",
          "text": [
            "BatchNorm with epoch 10: 100%|██████████| 1000/1000 [00:05<00:00, 196.08it/s, Loss=2.31]\n"
          ]
        },
        {
          "output_type": "stream",
          "name": "stdout",
          "text": [
            "Epoch 10, Loss: 2.308, lr = 0.003\n"
          ]
        },
        {
          "output_type": "stream",
          "name": "stderr",
          "text": [
            "GroupNorm with epoch 1: 100%|██████████| 1000/1000 [00:05<00:00, 189.17it/s, Loss=1.5]\n"
          ]
        },
        {
          "output_type": "stream",
          "name": "stdout",
          "text": [
            "Epoch 1, Loss: 2.3952578125, lr = 0.019096216259435018\n"
          ]
        },
        {
          "output_type": "stream",
          "name": "stderr",
          "text": [
            "GroupNorm with epoch 2: 100%|██████████| 1000/1000 [00:05<00:00, 186.24it/s, Loss=2.24]\n"
          ]
        },
        {
          "output_type": "stream",
          "name": "stdout",
          "text": [
            "Epoch 2, Loss: 2.221513671875, lr = 0.017924390203593318\n"
          ]
        },
        {
          "output_type": "stream",
          "name": "stderr",
          "text": [
            "GroupNorm with epoch 3: 100%|██████████| 1000/1000 [00:05<00:00, 191.30it/s, Loss=2]\n"
          ]
        },
        {
          "output_type": "stream",
          "name": "stdout",
          "text": [
            "Epoch 3, Loss: 2.165470703125, lr = 0.016099228331412904\n"
          ]
        },
        {
          "output_type": "stream",
          "name": "stderr",
          "text": [
            "GroupNorm with epoch 4: 100%|██████████| 1000/1000 [00:05<00:00, 184.88it/s, Loss=2.17]\n"
          ]
        },
        {
          "output_type": "stream",
          "name": "stdout",
          "text": [
            "Epoch 4, Loss: 2.1130927734375, lr = 0.013799390203593317\n"
          ]
        },
        {
          "output_type": "stream",
          "name": "stderr",
          "text": [
            "GroupNorm with epoch 5: 100%|██████████| 1000/1000 [00:05<00:00, 188.01it/s, Loss=2.18]\n"
          ]
        },
        {
          "output_type": "stream",
          "name": "stdout",
          "text": [
            "Epoch 5, Loss: 2.07131396484375, lr = 0.011250000000000003\n"
          ]
        },
        {
          "output_type": "stream",
          "name": "stderr",
          "text": [
            "GroupNorm with epoch 6: 100%|██████████| 1000/1000 [00:05<00:00, 187.19it/s, Loss=1.79]\n"
          ]
        },
        {
          "output_type": "stream",
          "name": "stdout",
          "text": [
            "Epoch 6, Loss: 2.0412646484375, lr = 0.008700609796406687\n"
          ]
        },
        {
          "output_type": "stream",
          "name": "stderr",
          "text": [
            "GroupNorm with epoch 7: 100%|██████████| 1000/1000 [00:05<00:00, 189.91it/s, Loss=3.16]\n"
          ]
        },
        {
          "output_type": "stream",
          "name": "stdout",
          "text": [
            "Epoch 7, Loss: 1.9980654296875, lr = 0.006400771668587099\n"
          ]
        },
        {
          "output_type": "stream",
          "name": "stderr",
          "text": [
            "GroupNorm with epoch 8: 100%|██████████| 1000/1000 [00:05<00:00, 184.95it/s, Loss=1.38]\n"
          ]
        },
        {
          "output_type": "stream",
          "name": "stdout",
          "text": [
            "Epoch 8, Loss: 1.9591728515625, lr = 0.004575609796406685\n"
          ]
        },
        {
          "output_type": "stream",
          "name": "stderr",
          "text": [
            "GroupNorm with epoch 9: 100%|██████████| 1000/1000 [00:05<00:00, 185.97it/s, Loss=2]\n"
          ]
        },
        {
          "output_type": "stream",
          "name": "stdout",
          "text": [
            "Epoch 9, Loss: 1.92204833984375, lr = 0.0034037837405649835\n"
          ]
        },
        {
          "output_type": "stream",
          "name": "stderr",
          "text": [
            "GroupNorm with epoch 10: 100%|██████████| 1000/1000 [00:05<00:00, 185.68it/s, Loss=1.61]\n"
          ]
        },
        {
          "output_type": "stream",
          "name": "stdout",
          "text": [
            "Epoch 10, Loss: 1.89773779296875, lr = 0.003\n",
            "Norm : BatchNorm, Batch Size: 2, Top1 Accuracy: 10.01%\n",
            "Norm : GroupNorm, Batch Size: 2, Top1 Accuracy: 30.89%\n",
            "ㅡㅡㅡㅡㅡㅡㅡㅡㅡㅡㅡㅡbatch_size: 2ㅡㅡㅡㅡㅡㅡㅡㅡㅡㅡㅡㅡㅡ\n",
            "\n",
            "ㅡㅡㅡㅡㅡㅡㅡㅡㅡㅡㅡㅡbatch_size: 4ㅡㅡㅡㅡㅡㅡㅡㅡㅡㅡㅡㅡㅡ\n"
          ]
        },
        {
          "output_type": "stream",
          "name": "stderr",
          "text": [
            "BatchNorm with epoch 1: 100%|██████████| 500/500 [00:02<00:00, 182.15it/s, Loss=2.45]\n"
          ]
        },
        {
          "output_type": "stream",
          "name": "stdout",
          "text": [
            "Epoch 1, Loss: 2.5188019466400147, lr = 0.019096216259435018\n"
          ]
        },
        {
          "output_type": "stream",
          "name": "stderr",
          "text": [
            "BatchNorm with epoch 2: 100%|██████████| 500/500 [00:02<00:00, 179.87it/s, Loss=2.29]\n"
          ]
        },
        {
          "output_type": "stream",
          "name": "stdout",
          "text": [
            "Epoch 2, Loss: 2.165431640625, lr = 0.017924390203593318\n"
          ]
        },
        {
          "output_type": "stream",
          "name": "stderr",
          "text": [
            "BatchNorm with epoch 3: 100%|██████████| 500/500 [00:02<00:00, 180.78it/s, Loss=1.85]\n"
          ]
        },
        {
          "output_type": "stream",
          "name": "stdout",
          "text": [
            "Epoch 3, Loss: 2.098256103515625, lr = 0.016099228331412904\n"
          ]
        },
        {
          "output_type": "stream",
          "name": "stderr",
          "text": [
            "BatchNorm with epoch 4: 100%|██████████| 500/500 [00:02<00:00, 175.54it/s, Loss=1.27]\n"
          ]
        },
        {
          "output_type": "stream",
          "name": "stdout",
          "text": [
            "Epoch 4, Loss: 2.008490966796875, lr = 0.013799390203593317\n"
          ]
        },
        {
          "output_type": "stream",
          "name": "stderr",
          "text": [
            "BatchNorm with epoch 5: 100%|██████████| 500/500 [00:02<00:00, 180.52it/s, Loss=2.12]\n"
          ]
        },
        {
          "output_type": "stream",
          "name": "stdout",
          "text": [
            "Epoch 5, Loss: 1.964688720703125, lr = 0.011250000000000003\n"
          ]
        },
        {
          "output_type": "stream",
          "name": "stderr",
          "text": [
            "BatchNorm with epoch 6: 100%|██████████| 500/500 [00:02<00:00, 184.15it/s, Loss=2.85]\n"
          ]
        },
        {
          "output_type": "stream",
          "name": "stdout",
          "text": [
            "Epoch 6, Loss: 1.9130543212890625, lr = 0.008700609796406687\n"
          ]
        },
        {
          "output_type": "stream",
          "name": "stderr",
          "text": [
            "BatchNorm with epoch 7: 100%|██████████| 500/500 [00:02<00:00, 181.73it/s, Loss=2.08]\n"
          ]
        },
        {
          "output_type": "stream",
          "name": "stdout",
          "text": [
            "Epoch 7, Loss: 1.8556974487304687, lr = 0.006400771668587099\n"
          ]
        },
        {
          "output_type": "stream",
          "name": "stderr",
          "text": [
            "BatchNorm with epoch 8: 100%|██████████| 500/500 [00:02<00:00, 170.79it/s, Loss=2.16]\n"
          ]
        },
        {
          "output_type": "stream",
          "name": "stdout",
          "text": [
            "Epoch 8, Loss: 1.8110447998046875, lr = 0.004575609796406685\n"
          ]
        },
        {
          "output_type": "stream",
          "name": "stderr",
          "text": [
            "BatchNorm with epoch 9: 100%|██████████| 500/500 [00:02<00:00, 175.62it/s, Loss=1.87]\n"
          ]
        },
        {
          "output_type": "stream",
          "name": "stdout",
          "text": [
            "Epoch 9, Loss: 1.76528369140625, lr = 0.0034037837405649835\n"
          ]
        },
        {
          "output_type": "stream",
          "name": "stderr",
          "text": [
            "BatchNorm with epoch 10: 100%|██████████| 500/500 [00:02<00:00, 177.33it/s, Loss=1.59]\n"
          ]
        },
        {
          "output_type": "stream",
          "name": "stdout",
          "text": [
            "Epoch 10, Loss: 1.705188232421875, lr = 0.003\n"
          ]
        },
        {
          "output_type": "stream",
          "name": "stderr",
          "text": [
            "GroupNorm with epoch 1: 100%|██████████| 500/500 [00:02<00:00, 174.48it/s, Loss=2.13]\n"
          ]
        },
        {
          "output_type": "stream",
          "name": "stdout",
          "text": [
            "Epoch 1, Loss: 2.3623720703125, lr = 0.019096216259435018\n"
          ]
        },
        {
          "output_type": "stream",
          "name": "stderr",
          "text": [
            "GroupNorm with epoch 2: 100%|██████████| 500/500 [00:02<00:00, 167.66it/s, Loss=2.2]\n"
          ]
        },
        {
          "output_type": "stream",
          "name": "stdout",
          "text": [
            "Epoch 2, Loss: 2.0910322265625, lr = 0.017924390203593318\n"
          ]
        },
        {
          "output_type": "stream",
          "name": "stderr",
          "text": [
            "GroupNorm with epoch 3: 100%|██████████| 500/500 [00:02<00:00, 173.63it/s, Loss=1.92]\n"
          ]
        },
        {
          "output_type": "stream",
          "name": "stdout",
          "text": [
            "Epoch 3, Loss: 2.01254736328125, lr = 0.016099228331412904\n"
          ]
        },
        {
          "output_type": "stream",
          "name": "stderr",
          "text": [
            "GroupNorm with epoch 4: 100%|██████████| 500/500 [00:02<00:00, 172.23it/s, Loss=1.54]\n"
          ]
        },
        {
          "output_type": "stream",
          "name": "stdout",
          "text": [
            "Epoch 4, Loss: 1.95042529296875, lr = 0.013799390203593317\n"
          ]
        },
        {
          "output_type": "stream",
          "name": "stderr",
          "text": [
            "GroupNorm with epoch 5: 100%|██████████| 500/500 [00:02<00:00, 173.86it/s, Loss=2.15]\n"
          ]
        },
        {
          "output_type": "stream",
          "name": "stdout",
          "text": [
            "Epoch 5, Loss: 1.862899658203125, lr = 0.011250000000000003\n"
          ]
        },
        {
          "output_type": "stream",
          "name": "stderr",
          "text": [
            "GroupNorm with epoch 6: 100%|██████████| 500/500 [00:02<00:00, 167.83it/s, Loss=1.54]\n"
          ]
        },
        {
          "output_type": "stream",
          "name": "stdout",
          "text": [
            "Epoch 6, Loss: 1.776974365234375, lr = 0.008700609796406687\n"
          ]
        },
        {
          "output_type": "stream",
          "name": "stderr",
          "text": [
            "GroupNorm with epoch 7: 100%|██████████| 500/500 [00:02<00:00, 173.10it/s, Loss=3.01]\n"
          ]
        },
        {
          "output_type": "stream",
          "name": "stdout",
          "text": [
            "Epoch 7, Loss: 1.6830673828125, lr = 0.006400771668587099\n"
          ]
        },
        {
          "output_type": "stream",
          "name": "stderr",
          "text": [
            "GroupNorm with epoch 8: 100%|██████████| 500/500 [00:02<00:00, 173.56it/s, Loss=1.27]\n"
          ]
        },
        {
          "output_type": "stream",
          "name": "stdout",
          "text": [
            "Epoch 8, Loss: 1.5978892822265625, lr = 0.004575609796406685\n"
          ]
        },
        {
          "output_type": "stream",
          "name": "stderr",
          "text": [
            "GroupNorm with epoch 9: 100%|██████████| 500/500 [00:02<00:00, 170.67it/s, Loss=1.61]\n"
          ]
        },
        {
          "output_type": "stream",
          "name": "stdout",
          "text": [
            "Epoch 9, Loss: 1.5192166137695313, lr = 0.0034037837405649835\n"
          ]
        },
        {
          "output_type": "stream",
          "name": "stderr",
          "text": [
            "GroupNorm with epoch 10: 100%|██████████| 500/500 [00:02<00:00, 168.89it/s, Loss=1.8]\n"
          ]
        },
        {
          "output_type": "stream",
          "name": "stdout",
          "text": [
            "Epoch 10, Loss: 1.457596923828125, lr = 0.003\n",
            "Norm : BatchNorm, Batch Size: 4, Top1 Accuracy: 33.81%\n",
            "Norm : GroupNorm, Batch Size: 4, Top1 Accuracy: 40.46%\n",
            "ㅡㅡㅡㅡㅡㅡㅡㅡㅡㅡㅡㅡbatch_size: 4ㅡㅡㅡㅡㅡㅡㅡㅡㅡㅡㅡㅡㅡ\n",
            "\n",
            "ㅡㅡㅡㅡㅡㅡㅡㅡㅡㅡㅡㅡbatch_size: 8ㅡㅡㅡㅡㅡㅡㅡㅡㅡㅡㅡㅡㅡ\n"
          ]
        },
        {
          "output_type": "stream",
          "name": "stderr",
          "text": [
            "BatchNorm with epoch 1: 100%|██████████| 250/250 [00:01<00:00, 147.00it/s, Loss=1.68]\n"
          ]
        },
        {
          "output_type": "stream",
          "name": "stdout",
          "text": [
            "Epoch 1, Loss: 2.5526159420013426, lr = 0.019096216259435018\n"
          ]
        },
        {
          "output_type": "stream",
          "name": "stderr",
          "text": [
            "BatchNorm with epoch 2: 100%|██████████| 250/250 [00:01<00:00, 148.99it/s, Loss=1.59]\n"
          ]
        },
        {
          "output_type": "stream",
          "name": "stdout",
          "text": [
            "Epoch 2, Loss: 1.921796142578125, lr = 0.017924390203593318\n"
          ]
        },
        {
          "output_type": "stream",
          "name": "stderr",
          "text": [
            "BatchNorm with epoch 3: 100%|██████████| 250/250 [00:01<00:00, 148.93it/s, Loss=1.74]\n"
          ]
        },
        {
          "output_type": "stream",
          "name": "stdout",
          "text": [
            "Epoch 3, Loss: 1.8307808837890625, lr = 0.016099228331412904\n"
          ]
        },
        {
          "output_type": "stream",
          "name": "stderr",
          "text": [
            "BatchNorm with epoch 4: 100%|██████████| 250/250 [00:01<00:00, 151.25it/s, Loss=1.71]\n"
          ]
        },
        {
          "output_type": "stream",
          "name": "stdout",
          "text": [
            "Epoch 4, Loss: 1.703808837890625, lr = 0.013799390203593317\n"
          ]
        },
        {
          "output_type": "stream",
          "name": "stderr",
          "text": [
            "BatchNorm with epoch 5: 100%|██████████| 250/250 [00:01<00:00, 142.80it/s, Loss=2.41]\n"
          ]
        },
        {
          "output_type": "stream",
          "name": "stdout",
          "text": [
            "Epoch 5, Loss: 1.6305090942382812, lr = 0.011250000000000003\n"
          ]
        },
        {
          "output_type": "stream",
          "name": "stderr",
          "text": [
            "BatchNorm with epoch 6: 100%|██████████| 250/250 [00:01<00:00, 143.86it/s, Loss=2.57]\n"
          ]
        },
        {
          "output_type": "stream",
          "name": "stdout",
          "text": [
            "Epoch 6, Loss: 1.5434568481445312, lr = 0.008700609796406687\n"
          ]
        },
        {
          "output_type": "stream",
          "name": "stderr",
          "text": [
            "BatchNorm with epoch 7: 100%|██████████| 250/250 [00:01<00:00, 148.99it/s, Loss=1.32]\n"
          ]
        },
        {
          "output_type": "stream",
          "name": "stdout",
          "text": [
            "Epoch 7, Loss: 1.444636489868164, lr = 0.006400771668587099\n"
          ]
        },
        {
          "output_type": "stream",
          "name": "stderr",
          "text": [
            "BatchNorm with epoch 8: 100%|██████████| 250/250 [00:01<00:00, 146.98it/s, Loss=1.88]\n"
          ]
        },
        {
          "output_type": "stream",
          "name": "stdout",
          "text": [
            "Epoch 8, Loss: 1.361552490234375, lr = 0.004575609796406685\n"
          ]
        },
        {
          "output_type": "stream",
          "name": "stderr",
          "text": [
            "BatchNorm with epoch 9: 100%|██████████| 250/250 [00:01<00:00, 148.82it/s, Loss=1.8]\n"
          ]
        },
        {
          "output_type": "stream",
          "name": "stdout",
          "text": [
            "Epoch 9, Loss: 1.2877698974609375, lr = 0.0034037837405649835\n"
          ]
        },
        {
          "output_type": "stream",
          "name": "stderr",
          "text": [
            "BatchNorm with epoch 10: 100%|██████████| 250/250 [00:01<00:00, 147.61it/s, Loss=0.888]\n"
          ]
        },
        {
          "output_type": "stream",
          "name": "stdout",
          "text": [
            "Epoch 10, Loss: 1.212416051864624, lr = 0.003\n"
          ]
        },
        {
          "output_type": "stream",
          "name": "stderr",
          "text": [
            "GroupNorm with epoch 1: 100%|██████████| 250/250 [00:01<00:00, 145.19it/s, Loss=1.95]\n"
          ]
        },
        {
          "output_type": "stream",
          "name": "stdout",
          "text": [
            "Epoch 1, Loss: 2.39961767578125, lr = 0.019096216259435018\n"
          ]
        },
        {
          "output_type": "stream",
          "name": "stderr",
          "text": [
            "GroupNorm with epoch 2: 100%|██████████| 250/250 [00:01<00:00, 138.13it/s, Loss=2.14]\n"
          ]
        },
        {
          "output_type": "stream",
          "name": "stdout",
          "text": [
            "Epoch 2, Loss: 1.9947626953125, lr = 0.017924390203593318\n"
          ]
        },
        {
          "output_type": "stream",
          "name": "stderr",
          "text": [
            "GroupNorm with epoch 3: 100%|██████████| 250/250 [00:01<00:00, 142.60it/s, Loss=1.71]\n"
          ]
        },
        {
          "output_type": "stream",
          "name": "stdout",
          "text": [
            "Epoch 3, Loss: 1.86502783203125, lr = 0.016099228331412904\n"
          ]
        },
        {
          "output_type": "stream",
          "name": "stderr",
          "text": [
            "GroupNorm with epoch 4: 100%|██████████| 250/250 [00:01<00:00, 145.21it/s, Loss=1.41]\n"
          ]
        },
        {
          "output_type": "stream",
          "name": "stdout",
          "text": [
            "Epoch 4, Loss: 1.72112646484375, lr = 0.013799390203593317\n"
          ]
        },
        {
          "output_type": "stream",
          "name": "stderr",
          "text": [
            "GroupNorm with epoch 5: 100%|██████████| 250/250 [00:01<00:00, 142.29it/s, Loss=1.49]\n"
          ]
        },
        {
          "output_type": "stream",
          "name": "stdout",
          "text": [
            "Epoch 5, Loss: 1.5988638916015625, lr = 0.011250000000000003\n"
          ]
        },
        {
          "output_type": "stream",
          "name": "stderr",
          "text": [
            "GroupNorm with epoch 6: 100%|██████████| 250/250 [00:01<00:00, 143.86it/s, Loss=1.59]\n"
          ]
        },
        {
          "output_type": "stream",
          "name": "stdout",
          "text": [
            "Epoch 6, Loss: 1.5033892211914062, lr = 0.008700609796406687\n"
          ]
        },
        {
          "output_type": "stream",
          "name": "stderr",
          "text": [
            "GroupNorm with epoch 7: 100%|██████████| 250/250 [00:01<00:00, 143.43it/s, Loss=2.33]\n"
          ]
        },
        {
          "output_type": "stream",
          "name": "stdout",
          "text": [
            "Epoch 7, Loss: 1.393476318359375, lr = 0.006400771668587099\n"
          ]
        },
        {
          "output_type": "stream",
          "name": "stderr",
          "text": [
            "GroupNorm with epoch 8: 100%|██████████| 250/250 [00:01<00:00, 138.18it/s, Loss=1.65]\n"
          ]
        },
        {
          "output_type": "stream",
          "name": "stdout",
          "text": [
            "Epoch 8, Loss: 1.2366007995605468, lr = 0.004575609796406685\n"
          ]
        },
        {
          "output_type": "stream",
          "name": "stderr",
          "text": [
            "GroupNorm with epoch 9: 100%|██████████| 250/250 [00:01<00:00, 139.24it/s, Loss=1.01]\n"
          ]
        },
        {
          "output_type": "stream",
          "name": "stdout",
          "text": [
            "Epoch 9, Loss: 1.1367041931152344, lr = 0.0034037837405649835\n"
          ]
        },
        {
          "output_type": "stream",
          "name": "stderr",
          "text": [
            "GroupNorm with epoch 10: 100%|██████████| 250/250 [00:01<00:00, 142.07it/s, Loss=1.61]"
          ]
        },
        {
          "output_type": "stream",
          "name": "stdout",
          "text": [
            "Epoch 10, Loss: 1.0358809356689453, lr = 0.003\n"
          ]
        },
        {
          "output_type": "stream",
          "name": "stderr",
          "text": [
            "\n"
          ]
        },
        {
          "output_type": "stream",
          "name": "stdout",
          "text": [
            "Norm : BatchNorm, Batch Size: 8, Top1 Accuracy: 44.55%\n",
            "Norm : GroupNorm, Batch Size: 8, Top1 Accuracy: 44.27%\n",
            "ㅡㅡㅡㅡㅡㅡㅡㅡㅡㅡㅡㅡbatch_size: 8ㅡㅡㅡㅡㅡㅡㅡㅡㅡㅡㅡㅡㅡ\n",
            "\n",
            "ㅡㅡㅡㅡㅡㅡㅡㅡㅡㅡㅡㅡbatch_size: 16ㅡㅡㅡㅡㅡㅡㅡㅡㅡㅡㅡㅡㅡ\n"
          ]
        },
        {
          "output_type": "stream",
          "name": "stderr",
          "text": [
            "BatchNorm with epoch 1: 100%|██████████| 125/125 [00:01<00:00, 103.50it/s, Loss=1.63]\n"
          ]
        },
        {
          "output_type": "stream",
          "name": "stdout",
          "text": [
            "Epoch 1, Loss: 2.5638763389587402, lr = 0.019096216259435018\n"
          ]
        },
        {
          "output_type": "stream",
          "name": "stderr",
          "text": [
            "BatchNorm with epoch 2: 100%|██████████| 125/125 [00:01<00:00, 109.54it/s, Loss=1.92]\n"
          ]
        },
        {
          "output_type": "stream",
          "name": "stdout",
          "text": [
            "Epoch 2, Loss: 1.7526065673828124, lr = 0.017924390203593318\n"
          ]
        },
        {
          "output_type": "stream",
          "name": "stderr",
          "text": [
            "BatchNorm with epoch 3: 100%|██████████| 125/125 [00:01<00:00, 110.38it/s, Loss=1.38]\n"
          ]
        },
        {
          "output_type": "stream",
          "name": "stdout",
          "text": [
            "Epoch 3, Loss: 1.59046142578125, lr = 0.016099228331412904\n"
          ]
        },
        {
          "output_type": "stream",
          "name": "stderr",
          "text": [
            "BatchNorm with epoch 4: 100%|██████████| 125/125 [00:01<00:00, 108.13it/s, Loss=1.82]\n"
          ]
        },
        {
          "output_type": "stream",
          "name": "stdout",
          "text": [
            "Epoch 4, Loss: 1.483140625, lr = 0.013799390203593317\n"
          ]
        },
        {
          "output_type": "stream",
          "name": "stderr",
          "text": [
            "BatchNorm with epoch 5: 100%|██████████| 125/125 [00:01<00:00, 107.69it/s, Loss=2.06]\n"
          ]
        },
        {
          "output_type": "stream",
          "name": "stdout",
          "text": [
            "Epoch 5, Loss: 1.3404232940673828, lr = 0.011250000000000003\n"
          ]
        },
        {
          "output_type": "stream",
          "name": "stderr",
          "text": [
            "BatchNorm with epoch 6: 100%|██████████| 125/125 [00:01<00:00, 99.64it/s, Loss=1.89] \n"
          ]
        },
        {
          "output_type": "stream",
          "name": "stdout",
          "text": [
            "Epoch 6, Loss: 1.218834587097168, lr = 0.008700609796406687\n"
          ]
        },
        {
          "output_type": "stream",
          "name": "stderr",
          "text": [
            "BatchNorm with epoch 7: 100%|██████████| 125/125 [00:01<00:00, 107.75it/s, Loss=0.905]\n"
          ]
        },
        {
          "output_type": "stream",
          "name": "stdout",
          "text": [
            "Epoch 7, Loss: 1.0922798957824706, lr = 0.006400771668587099\n"
          ]
        },
        {
          "output_type": "stream",
          "name": "stderr",
          "text": [
            "BatchNorm with epoch 8: 100%|██████████| 125/125 [00:01<00:00, 111.13it/s, Loss=1.4]\n"
          ]
        },
        {
          "output_type": "stream",
          "name": "stdout",
          "text": [
            "Epoch 8, Loss: 0.9679416689872742, lr = 0.004575609796406685\n"
          ]
        },
        {
          "output_type": "stream",
          "name": "stderr",
          "text": [
            "BatchNorm with epoch 9: 100%|██████████| 125/125 [00:01<00:00, 108.98it/s, Loss=1.11]\n"
          ]
        },
        {
          "output_type": "stream",
          "name": "stdout",
          "text": [
            "Epoch 9, Loss: 0.8627166519165039, lr = 0.0034037837405649835\n"
          ]
        },
        {
          "output_type": "stream",
          "name": "stderr",
          "text": [
            "BatchNorm with epoch 10: 100%|██████████| 125/125 [00:01<00:00, 108.18it/s, Loss=0.565]\n"
          ]
        },
        {
          "output_type": "stream",
          "name": "stdout",
          "text": [
            "Epoch 10, Loss: 0.7720935821533204, lr = 0.003\n"
          ]
        },
        {
          "output_type": "stream",
          "name": "stderr",
          "text": [
            "GroupNorm with epoch 1: 100%|██████████| 125/125 [00:01<00:00, 105.05it/s, Loss=1.94]\n"
          ]
        },
        {
          "output_type": "stream",
          "name": "stdout",
          "text": [
            "Epoch 1, Loss: 2.3140205078125, lr = 0.019096216259435018\n"
          ]
        },
        {
          "output_type": "stream",
          "name": "stderr",
          "text": [
            "GroupNorm with epoch 2: 100%|██████████| 125/125 [00:01<00:00, 106.63it/s, Loss=1.84]\n"
          ]
        },
        {
          "output_type": "stream",
          "name": "stdout",
          "text": [
            "Epoch 2, Loss: 1.83598486328125, lr = 0.017924390203593318\n"
          ]
        },
        {
          "output_type": "stream",
          "name": "stderr",
          "text": [
            "GroupNorm with epoch 3: 100%|██████████| 125/125 [00:01<00:00, 103.93it/s, Loss=1.68]\n"
          ]
        },
        {
          "output_type": "stream",
          "name": "stdout",
          "text": [
            "Epoch 3, Loss: 1.652361083984375, lr = 0.016099228331412904\n"
          ]
        },
        {
          "output_type": "stream",
          "name": "stderr",
          "text": [
            "GroupNorm with epoch 4: 100%|██████████| 125/125 [00:01<00:00, 107.45it/s, Loss=1.65]\n"
          ]
        },
        {
          "output_type": "stream",
          "name": "stdout",
          "text": [
            "Epoch 4, Loss: 1.5169794921875, lr = 0.013799390203593317\n"
          ]
        },
        {
          "output_type": "stream",
          "name": "stderr",
          "text": [
            "GroupNorm with epoch 5: 100%|██████████| 125/125 [00:01<00:00, 105.47it/s, Loss=1.09]\n"
          ]
        },
        {
          "output_type": "stream",
          "name": "stdout",
          "text": [
            "Epoch 5, Loss: 1.3703609619140624, lr = 0.011250000000000003\n"
          ]
        },
        {
          "output_type": "stream",
          "name": "stderr",
          "text": [
            "GroupNorm with epoch 6: 100%|██████████| 125/125 [00:01<00:00, 100.50it/s, Loss=1.11]\n"
          ]
        },
        {
          "output_type": "stream",
          "name": "stdout",
          "text": [
            "Epoch 6, Loss: 1.2308350219726563, lr = 0.008700609796406687\n"
          ]
        },
        {
          "output_type": "stream",
          "name": "stderr",
          "text": [
            "GroupNorm with epoch 7: 100%|██████████| 125/125 [00:01<00:00, 105.86it/s, Loss=1.73]\n"
          ]
        },
        {
          "output_type": "stream",
          "name": "stdout",
          "text": [
            "Epoch 7, Loss: 1.1084058227539062, lr = 0.006400771668587099\n"
          ]
        },
        {
          "output_type": "stream",
          "name": "stderr",
          "text": [
            "GroupNorm with epoch 8: 100%|██████████| 125/125 [00:01<00:00, 103.26it/s, Loss=1.14]\n"
          ]
        },
        {
          "output_type": "stream",
          "name": "stdout",
          "text": [
            "Epoch 8, Loss: 0.9776029129028321, lr = 0.004575609796406685\n"
          ]
        },
        {
          "output_type": "stream",
          "name": "stderr",
          "text": [
            "GroupNorm with epoch 9: 100%|██████████| 125/125 [00:01<00:00, 104.37it/s, Loss=0.553]\n"
          ]
        },
        {
          "output_type": "stream",
          "name": "stdout",
          "text": [
            "Epoch 9, Loss: 0.8583373680114746, lr = 0.0034037837405649835\n"
          ]
        },
        {
          "output_type": "stream",
          "name": "stderr",
          "text": [
            "GroupNorm with epoch 10: 100%|██████████| 125/125 [00:01<00:00, 103.28it/s, Loss=0.843]"
          ]
        },
        {
          "output_type": "stream",
          "name": "stdout",
          "text": [
            "Epoch 10, Loss: 0.7374589881896972, lr = 0.003\n"
          ]
        },
        {
          "output_type": "stream",
          "name": "stderr",
          "text": [
            "\n"
          ]
        },
        {
          "output_type": "stream",
          "name": "stdout",
          "text": [
            "Norm : BatchNorm, Batch Size: 16, Top1 Accuracy: 49.68%\n",
            "Norm : GroupNorm, Batch Size: 16, Top1 Accuracy: 48.85%\n",
            "ㅡㅡㅡㅡㅡㅡㅡㅡㅡㅡㅡㅡbatch_size: 16ㅡㅡㅡㅡㅡㅡㅡㅡㅡㅡㅡㅡㅡ\n",
            "\n",
            "ㅡㅡㅡㅡㅡㅡㅡㅡㅡㅡㅡㅡbatch_size: 32ㅡㅡㅡㅡㅡㅡㅡㅡㅡㅡㅡㅡㅡ\n"
          ]
        },
        {
          "output_type": "stream",
          "name": "stderr",
          "text": [
            "BatchNorm with epoch 1: 100%|██████████| 63/63 [00:00<00:00, 68.47it/s, Loss=2]\n"
          ]
        },
        {
          "output_type": "stream",
          "name": "stdout",
          "text": [
            "Epoch 1, Loss: 2.5422254214211115, lr = 0.019096216259435018\n"
          ]
        },
        {
          "output_type": "stream",
          "name": "stderr",
          "text": [
            "BatchNorm with epoch 2: 100%|██████████| 63/63 [00:00<00:00, 70.67it/s, Loss=1.71]\n"
          ]
        },
        {
          "output_type": "stream",
          "name": "stdout",
          "text": [
            "Epoch 2, Loss: 1.6625498817080544, lr = 0.017924390203593318\n"
          ]
        },
        {
          "output_type": "stream",
          "name": "stderr",
          "text": [
            "BatchNorm with epoch 3: 100%|██████████| 63/63 [00:00<00:00, 69.57it/s, Loss=1.34]\n"
          ]
        },
        {
          "output_type": "stream",
          "name": "stdout",
          "text": [
            "Epoch 3, Loss: 1.3915844720507424, lr = 0.016099228331412904\n"
          ]
        },
        {
          "output_type": "stream",
          "name": "stderr",
          "text": [
            "BatchNorm with epoch 4: 100%|██████████| 63/63 [00:00<00:00, 70.86it/s, Loss=1.48]\n"
          ]
        },
        {
          "output_type": "stream",
          "name": "stdout",
          "text": [
            "Epoch 4, Loss: 1.2906414743453738, lr = 0.013799390203593317\n"
          ]
        },
        {
          "output_type": "stream",
          "name": "stderr",
          "text": [
            "BatchNorm with epoch 5: 100%|██████████| 63/63 [00:00<00:00, 67.33it/s, Loss=1.57]\n"
          ]
        },
        {
          "output_type": "stream",
          "name": "stdout",
          "text": [
            "Epoch 5, Loss: 1.1430077779860723, lr = 0.011250000000000003\n"
          ]
        },
        {
          "output_type": "stream",
          "name": "stderr",
          "text": [
            "BatchNorm with epoch 6: 100%|██████████| 63/63 [00:00<00:00, 69.80it/s, Loss=1.68]\n"
          ]
        },
        {
          "output_type": "stream",
          "name": "stdout",
          "text": [
            "Epoch 6, Loss: 0.9948065432291182, lr = 0.008700609796406687\n"
          ]
        },
        {
          "output_type": "stream",
          "name": "stderr",
          "text": [
            "BatchNorm with epoch 7: 100%|██████████| 63/63 [00:00<00:00, 70.81it/s, Loss=0.792]\n"
          ]
        },
        {
          "output_type": "stream",
          "name": "stdout",
          "text": [
            "Epoch 7, Loss: 0.8751753265895541, lr = 0.006400771668587099\n"
          ]
        },
        {
          "output_type": "stream",
          "name": "stderr",
          "text": [
            "BatchNorm with epoch 8: 100%|██████████| 63/63 [00:00<00:00, 73.02it/s, Loss=1.01]\n"
          ]
        },
        {
          "output_type": "stream",
          "name": "stdout",
          "text": [
            "Epoch 8, Loss: 0.7639446409921797, lr = 0.004575609796406685\n"
          ]
        },
        {
          "output_type": "stream",
          "name": "stderr",
          "text": [
            "BatchNorm with epoch 9: 100%|██████████| 63/63 [00:00<00:00, 70.93it/s, Loss=0.874]\n"
          ]
        },
        {
          "output_type": "stream",
          "name": "stdout",
          "text": [
            "Epoch 9, Loss: 0.67491810000132, lr = 0.0034037837405649835\n"
          ]
        },
        {
          "output_type": "stream",
          "name": "stderr",
          "text": [
            "BatchNorm with epoch 10: 100%|██████████| 63/63 [00:00<00:00, 70.95it/s, Loss=0.491]\n"
          ]
        },
        {
          "output_type": "stream",
          "name": "stdout",
          "text": [
            "Epoch 10, Loss: 0.5913346840275658, lr = 0.003\n"
          ]
        },
        {
          "output_type": "stream",
          "name": "stderr",
          "text": [
            "GroupNorm with epoch 1: 100%|██████████| 63/63 [00:00<00:00, 67.89it/s, Loss=1.92]\n"
          ]
        },
        {
          "output_type": "stream",
          "name": "stdout",
          "text": [
            "Epoch 1, Loss: 2.374087379092262, lr = 0.019096216259435018\n"
          ]
        },
        {
          "output_type": "stream",
          "name": "stderr",
          "text": [
            "GroupNorm with epoch 2: 100%|██████████| 63/63 [00:00<00:00, 70.98it/s, Loss=1.62]\n"
          ]
        },
        {
          "output_type": "stream",
          "name": "stdout",
          "text": [
            "Epoch 2, Loss: 1.7869936019655257, lr = 0.017924390203593318\n"
          ]
        },
        {
          "output_type": "stream",
          "name": "stderr",
          "text": [
            "GroupNorm with epoch 3: 100%|██████████| 63/63 [00:00<00:00, 70.22it/s, Loss=1.35]\n"
          ]
        },
        {
          "output_type": "stream",
          "name": "stdout",
          "text": [
            "Epoch 3, Loss: 1.6239710005502852, lr = 0.016099228331412904\n"
          ]
        },
        {
          "output_type": "stream",
          "name": "stderr",
          "text": [
            "GroupNorm with epoch 4: 100%|██████████| 63/63 [00:00<00:00, 70.73it/s, Loss=1.39]\n"
          ]
        },
        {
          "output_type": "stream",
          "name": "stdout",
          "text": [
            "Epoch 4, Loss: 1.4659345112149678, lr = 0.013799390203593317\n"
          ]
        },
        {
          "output_type": "stream",
          "name": "stderr",
          "text": [
            "GroupNorm with epoch 5: 100%|██████████| 63/63 [00:00<00:00, 70.14it/s, Loss=1.12]\n"
          ]
        },
        {
          "output_type": "stream",
          "name": "stdout",
          "text": [
            "Epoch 5, Loss: 1.3480423821343317, lr = 0.011250000000000003\n"
          ]
        },
        {
          "output_type": "stream",
          "name": "stderr",
          "text": [
            "GroupNorm with epoch 6: 100%|██████████| 63/63 [00:00<00:00, 70.57it/s, Loss=0.967]\n"
          ]
        },
        {
          "output_type": "stream",
          "name": "stdout",
          "text": [
            "Epoch 6, Loss: 1.2266094873821924, lr = 0.008700609796406687\n"
          ]
        },
        {
          "output_type": "stream",
          "name": "stderr",
          "text": [
            "GroupNorm with epoch 7: 100%|██████████| 63/63 [00:00<00:00, 68.17it/s, Loss=1.72]\n"
          ]
        },
        {
          "output_type": "stream",
          "name": "stdout",
          "text": [
            "Epoch 7, Loss: 1.1102680478777205, lr = 0.006400771668587099\n"
          ]
        },
        {
          "output_type": "stream",
          "name": "stderr",
          "text": [
            "GroupNorm with epoch 8: 100%|██████████| 63/63 [00:00<00:00, 67.03it/s, Loss=1.02]\n"
          ]
        },
        {
          "output_type": "stream",
          "name": "stdout",
          "text": [
            "Epoch 8, Loss: 0.9956340562729609, lr = 0.004575609796406685\n"
          ]
        },
        {
          "output_type": "stream",
          "name": "stderr",
          "text": [
            "GroupNorm with epoch 9: 100%|██████████| 63/63 [00:00<00:00, 68.31it/s, Loss=0.647]\n"
          ]
        },
        {
          "output_type": "stream",
          "name": "stdout",
          "text": [
            "Epoch 9, Loss: 0.8816720909542508, lr = 0.0034037837405649835\n"
          ]
        },
        {
          "output_type": "stream",
          "name": "stderr",
          "text": [
            "GroupNorm with epoch 10: 100%|██████████| 63/63 [00:00<00:00, 68.92it/s, Loss=1.21]"
          ]
        },
        {
          "output_type": "stream",
          "name": "stdout",
          "text": [
            "Epoch 10, Loss: 0.7883719603220621, lr = 0.003\n"
          ]
        },
        {
          "output_type": "stream",
          "name": "stderr",
          "text": [
            "\n"
          ]
        },
        {
          "output_type": "stream",
          "name": "stdout",
          "text": [
            "Norm : BatchNorm, Batch Size: 32, Top1 Accuracy: 52.16%\n",
            "Norm : GroupNorm, Batch Size: 32, Top1 Accuracy: 50.65%\n",
            "ㅡㅡㅡㅡㅡㅡㅡㅡㅡㅡㅡㅡbatch_size: 32ㅡㅡㅡㅡㅡㅡㅡㅡㅡㅡㅡㅡㅡ\n",
            "\n",
            "ㅡㅡㅡㅡㅡㅡㅡㅡㅡㅡㅡㅡbatch_size: 64ㅡㅡㅡㅡㅡㅡㅡㅡㅡㅡㅡㅡㅡ\n"
          ]
        },
        {
          "output_type": "stream",
          "name": "stderr",
          "text": [
            "BatchNorm with epoch 1: 100%|██████████| 32/32 [00:00<00:00, 37.54it/s, Loss=2.06]\n"
          ]
        },
        {
          "output_type": "stream",
          "name": "stdout",
          "text": [
            "Epoch 1, Loss: 2.418718636035919, lr = 0.019096216259435018\n"
          ]
        },
        {
          "output_type": "stream",
          "name": "stderr",
          "text": [
            "BatchNorm with epoch 2: 100%|██████████| 32/32 [00:00<00:00, 41.03it/s, Loss=1.85]\n"
          ]
        },
        {
          "output_type": "stream",
          "name": "stdout",
          "text": [
            "Epoch 2, Loss: 1.7842752486467361, lr = 0.017924390203593318\n"
          ]
        },
        {
          "output_type": "stream",
          "name": "stderr",
          "text": [
            "BatchNorm with epoch 3: 100%|██████████| 32/32 [00:00<00:00, 40.72it/s, Loss=1.48]\n"
          ]
        },
        {
          "output_type": "stream",
          "name": "stdout",
          "text": [
            "Epoch 3, Loss: 1.406663667410612, lr = 0.016099228331412904\n"
          ]
        },
        {
          "output_type": "stream",
          "name": "stderr",
          "text": [
            "BatchNorm with epoch 4: 100%|██████████| 32/32 [00:00<00:00, 40.55it/s, Loss=1.5]\n"
          ]
        },
        {
          "output_type": "stream",
          "name": "stdout",
          "text": [
            "Epoch 4, Loss: 1.2283280864357948, lr = 0.013799390203593317\n"
          ]
        },
        {
          "output_type": "stream",
          "name": "stderr",
          "text": [
            "BatchNorm with epoch 5: 100%|██████████| 32/32 [00:00<00:00, 40.30it/s, Loss=1.93]\n"
          ]
        },
        {
          "output_type": "stream",
          "name": "stdout",
          "text": [
            "Epoch 5, Loss: 1.0611022673547268, lr = 0.011250000000000003\n"
          ]
        },
        {
          "output_type": "stream",
          "name": "stderr",
          "text": [
            "BatchNorm with epoch 6: 100%|██████████| 32/32 [00:00<00:00, 39.46it/s, Loss=1.21]\n"
          ]
        },
        {
          "output_type": "stream",
          "name": "stdout",
          "text": [
            "Epoch 6, Loss: 0.9136212207376957, lr = 0.008700609796406687\n"
          ]
        },
        {
          "output_type": "stream",
          "name": "stderr",
          "text": [
            "BatchNorm with epoch 7: 100%|██████████| 32/32 [00:00<00:00, 41.45it/s, Loss=0.56]\n"
          ]
        },
        {
          "output_type": "stream",
          "name": "stdout",
          "text": [
            "Epoch 7, Loss: 0.7763608451932669, lr = 0.006400771668587099\n"
          ]
        },
        {
          "output_type": "stream",
          "name": "stderr",
          "text": [
            "BatchNorm with epoch 8: 100%|██████████| 32/32 [00:00<00:00, 40.21it/s, Loss=1.16]\n"
          ]
        },
        {
          "output_type": "stream",
          "name": "stdout",
          "text": [
            "Epoch 8, Loss: 0.6866602376103401, lr = 0.004575609796406685\n"
          ]
        },
        {
          "output_type": "stream",
          "name": "stderr",
          "text": [
            "BatchNorm with epoch 9: 100%|██████████| 32/32 [00:00<00:00, 38.11it/s, Loss=0.838]\n"
          ]
        },
        {
          "output_type": "stream",
          "name": "stdout",
          "text": [
            "Epoch 9, Loss: 0.6048409976065159, lr = 0.0034037837405649835\n"
          ]
        },
        {
          "output_type": "stream",
          "name": "stderr",
          "text": [
            "BatchNorm with epoch 10: 100%|██████████| 32/32 [00:00<00:00, 38.40it/s, Loss=0.68]\n"
          ]
        },
        {
          "output_type": "stream",
          "name": "stdout",
          "text": [
            "Epoch 10, Loss: 0.5377979502081871, lr = 0.003\n"
          ]
        },
        {
          "output_type": "stream",
          "name": "stderr",
          "text": [
            "GroupNorm with epoch 1: 100%|██████████| 32/32 [00:00<00:00, 39.34it/s, Loss=2.02]\n"
          ]
        },
        {
          "output_type": "stream",
          "name": "stdout",
          "text": [
            "Epoch 1, Loss: 2.2593560218811035, lr = 0.019096216259435018\n"
          ]
        },
        {
          "output_type": "stream",
          "name": "stderr",
          "text": [
            "GroupNorm with epoch 2: 100%|██████████| 32/32 [00:00<00:00, 38.67it/s, Loss=1.7]\n"
          ]
        },
        {
          "output_type": "stream",
          "name": "stdout",
          "text": [
            "Epoch 2, Loss: 1.8042762279510498, lr = 0.017924390203593318\n"
          ]
        },
        {
          "output_type": "stream",
          "name": "stderr",
          "text": [
            "GroupNorm with epoch 3: 100%|██████████| 32/32 [00:00<00:00, 40.09it/s, Loss=1.42]\n"
          ]
        },
        {
          "output_type": "stream",
          "name": "stdout",
          "text": [
            "Epoch 3, Loss: 1.548153281211853, lr = 0.016099228331412904\n"
          ]
        },
        {
          "output_type": "stream",
          "name": "stderr",
          "text": [
            "GroupNorm with epoch 4: 100%|██████████| 32/32 [00:00<00:00, 39.24it/s, Loss=1.58]\n"
          ]
        },
        {
          "output_type": "stream",
          "name": "stdout",
          "text": [
            "Epoch 4, Loss: 1.4459386467933655, lr = 0.013799390203593317\n"
          ]
        },
        {
          "output_type": "stream",
          "name": "stderr",
          "text": [
            "GroupNorm with epoch 5: 100%|██████████| 32/32 [00:00<00:00, 39.41it/s, Loss=1.08]\n"
          ]
        },
        {
          "output_type": "stream",
          "name": "stdout",
          "text": [
            "Epoch 5, Loss: 1.292189508676529, lr = 0.011250000000000003\n"
          ]
        },
        {
          "output_type": "stream",
          "name": "stderr",
          "text": [
            "GroupNorm with epoch 6: 100%|██████████| 32/32 [00:00<00:00, 40.05it/s, Loss=1.12]\n"
          ]
        },
        {
          "output_type": "stream",
          "name": "stdout",
          "text": [
            "Epoch 6, Loss: 1.2081634849309921, lr = 0.008700609796406687\n"
          ]
        },
        {
          "output_type": "stream",
          "name": "stderr",
          "text": [
            "GroupNorm with epoch 7: 100%|██████████| 32/32 [00:00<00:00, 39.85it/s, Loss=1.6]\n"
          ]
        },
        {
          "output_type": "stream",
          "name": "stdout",
          "text": [
            "Epoch 7, Loss: 1.042917512357235, lr = 0.006400771668587099\n"
          ]
        },
        {
          "output_type": "stream",
          "name": "stderr",
          "text": [
            "GroupNorm with epoch 8: 100%|██████████| 32/32 [00:00<00:00, 39.78it/s, Loss=1.11]\n"
          ]
        },
        {
          "output_type": "stream",
          "name": "stdout",
          "text": [
            "Epoch 8, Loss: 0.9397448115050793, lr = 0.004575609796406685\n"
          ]
        },
        {
          "output_type": "stream",
          "name": "stderr",
          "text": [
            "GroupNorm with epoch 9: 100%|██████████| 32/32 [00:00<00:00, 38.95it/s, Loss=0.362]\n"
          ]
        },
        {
          "output_type": "stream",
          "name": "stdout",
          "text": [
            "Epoch 9, Loss: 0.7712185475975275, lr = 0.0034037837405649835\n"
          ]
        },
        {
          "output_type": "stream",
          "name": "stderr",
          "text": [
            "GroupNorm with epoch 10: 100%|██████████| 32/32 [00:00<00:00, 40.69it/s, Loss=1.04]"
          ]
        },
        {
          "output_type": "stream",
          "name": "stdout",
          "text": [
            "Epoch 10, Loss: 0.6787593513727188, lr = 0.003\n"
          ]
        },
        {
          "output_type": "stream",
          "name": "stderr",
          "text": [
            "\n"
          ]
        },
        {
          "output_type": "stream",
          "name": "stdout",
          "text": [
            "Norm : BatchNorm, Batch Size: 64, Top1 Accuracy: 53.18%\n",
            "Norm : GroupNorm, Batch Size: 64, Top1 Accuracy: 51.37%\n",
            "ㅡㅡㅡㅡㅡㅡㅡㅡㅡㅡㅡㅡbatch_size: 64ㅡㅡㅡㅡㅡㅡㅡㅡㅡㅡㅡㅡㅡ\n",
            "\n",
            "ㅡㅡㅡㅡㅡㅡㅡㅡㅡㅡㅡㅡbatch_size: 128ㅡㅡㅡㅡㅡㅡㅡㅡㅡㅡㅡㅡㅡ\n"
          ]
        },
        {
          "output_type": "stream",
          "name": "stderr",
          "text": [
            "BatchNorm with epoch 1: 100%|██████████| 16/16 [00:00<00:00, 18.79it/s, Loss=1.87]\n"
          ]
        },
        {
          "output_type": "stream",
          "name": "stdout",
          "text": [
            "Epoch 1, Loss: 2.2674289494752884, lr = 0.019096216259435018\n"
          ]
        },
        {
          "output_type": "stream",
          "name": "stderr",
          "text": [
            "BatchNorm with epoch 2: 100%|██████████| 16/16 [00:00<00:00, 19.51it/s, Loss=1.65]\n"
          ]
        },
        {
          "output_type": "stream",
          "name": "stdout",
          "text": [
            "Epoch 2, Loss: 1.8166959434747696, lr = 0.017924390203593318\n"
          ]
        },
        {
          "output_type": "stream",
          "name": "stderr",
          "text": [
            "BatchNorm with epoch 3: 100%|██████████| 16/16 [00:00<00:00, 20.43it/s, Loss=1.38]\n"
          ]
        },
        {
          "output_type": "stream",
          "name": "stdout",
          "text": [
            "Epoch 3, Loss: 1.4921727254986763, lr = 0.016099228331412904\n"
          ]
        },
        {
          "output_type": "stream",
          "name": "stderr",
          "text": [
            "BatchNorm with epoch 4: 100%|██████████| 16/16 [00:00<00:00, 20.44it/s, Loss=1.01]\n"
          ]
        },
        {
          "output_type": "stream",
          "name": "stdout",
          "text": [
            "Epoch 4, Loss: 1.242840215563774, lr = 0.013799390203593317\n"
          ]
        },
        {
          "output_type": "stream",
          "name": "stderr",
          "text": [
            "BatchNorm with epoch 5: 100%|██████████| 16/16 [00:00<00:00, 20.37it/s, Loss=1.33]\n"
          ]
        },
        {
          "output_type": "stream",
          "name": "stdout",
          "text": [
            "Epoch 5, Loss: 1.0922566428780556, lr = 0.011250000000000003\n"
          ]
        },
        {
          "output_type": "stream",
          "name": "stderr",
          "text": [
            "BatchNorm with epoch 6: 100%|██████████| 16/16 [00:00<00:00, 19.97it/s, Loss=0.989]\n"
          ]
        },
        {
          "output_type": "stream",
          "name": "stdout",
          "text": [
            "Epoch 6, Loss: 0.8959674276411533, lr = 0.008700609796406687\n"
          ]
        },
        {
          "output_type": "stream",
          "name": "stderr",
          "text": [
            "BatchNorm with epoch 7: 100%|██████████| 16/16 [00:00<00:00, 20.59it/s, Loss=0.8]\n"
          ]
        },
        {
          "output_type": "stream",
          "name": "stdout",
          "text": [
            "Epoch 7, Loss: 0.7670979909598827, lr = 0.006400771668587099\n"
          ]
        },
        {
          "output_type": "stream",
          "name": "stderr",
          "text": [
            "BatchNorm with epoch 8: 100%|██████████| 16/16 [00:00<00:00, 20.42it/s, Loss=0.659]\n"
          ]
        },
        {
          "output_type": "stream",
          "name": "stdout",
          "text": [
            "Epoch 8, Loss: 0.653864536434412, lr = 0.004575609796406685\n"
          ]
        },
        {
          "output_type": "stream",
          "name": "stderr",
          "text": [
            "BatchNorm with epoch 9: 100%|██████████| 16/16 [00:00<00:00, 20.42it/s, Loss=0.536]\n"
          ]
        },
        {
          "output_type": "stream",
          "name": "stdout",
          "text": [
            "Epoch 9, Loss: 0.5839893370866776, lr = 0.0034037837405649835\n"
          ]
        },
        {
          "output_type": "stream",
          "name": "stderr",
          "text": [
            "BatchNorm with epoch 10: 100%|██████████| 16/16 [00:00<00:00, 20.09it/s, Loss=0.55]\n"
          ]
        },
        {
          "output_type": "stream",
          "name": "stdout",
          "text": [
            "Epoch 10, Loss: 0.5340876877307892, lr = 0.003\n"
          ]
        },
        {
          "output_type": "stream",
          "name": "stderr",
          "text": [
            "GroupNorm with epoch 1: 100%|██████████| 16/16 [00:00<00:00, 20.28it/s, Loss=1.85]\n"
          ]
        },
        {
          "output_type": "stream",
          "name": "stdout",
          "text": [
            "Epoch 1, Loss: 2.313912011682987, lr = 0.019096216259435018\n"
          ]
        },
        {
          "output_type": "stream",
          "name": "stderr",
          "text": [
            "GroupNorm with epoch 2: 100%|██████████| 16/16 [00:00<00:00, 20.19it/s, Loss=1.57]\n"
          ]
        },
        {
          "output_type": "stream",
          "name": "stdout",
          "text": [
            "Epoch 2, Loss: 1.8323049545288086, lr = 0.017924390203593318\n"
          ]
        },
        {
          "output_type": "stream",
          "name": "stderr",
          "text": [
            "GroupNorm with epoch 3: 100%|██████████| 16/16 [00:00<00:00, 20.87it/s, Loss=1.65]\n"
          ]
        },
        {
          "output_type": "stream",
          "name": "stdout",
          "text": [
            "Epoch 3, Loss: 1.5719726085662842, lr = 0.016099228331412904\n"
          ]
        },
        {
          "output_type": "stream",
          "name": "stderr",
          "text": [
            "GroupNorm with epoch 4: 100%|██████████| 16/16 [00:00<00:00, 20.59it/s, Loss=1.54]\n"
          ]
        },
        {
          "output_type": "stream",
          "name": "stdout",
          "text": [
            "Epoch 4, Loss: 1.5338684394955635, lr = 0.013799390203593317\n"
          ]
        },
        {
          "output_type": "stream",
          "name": "stderr",
          "text": [
            "GroupNorm with epoch 5: 100%|██████████| 16/16 [00:00<00:00, 20.28it/s, Loss=1.35]\n"
          ]
        },
        {
          "output_type": "stream",
          "name": "stdout",
          "text": [
            "Epoch 5, Loss: 1.407292678952217, lr = 0.011250000000000003\n"
          ]
        },
        {
          "output_type": "stream",
          "name": "stderr",
          "text": [
            "GroupNorm with epoch 6: 100%|██████████| 16/16 [00:00<00:00, 19.81it/s, Loss=1.26]\n"
          ]
        },
        {
          "output_type": "stream",
          "name": "stdout",
          "text": [
            "Epoch 6, Loss: 1.2751536145806313, lr = 0.008700609796406687\n"
          ]
        },
        {
          "output_type": "stream",
          "name": "stderr",
          "text": [
            "GroupNorm with epoch 7: 100%|██████████| 16/16 [00:00<00:00, 19.82it/s, Loss=1.24]\n"
          ]
        },
        {
          "output_type": "stream",
          "name": "stdout",
          "text": [
            "Epoch 7, Loss: 1.134903259575367, lr = 0.006400771668587099\n"
          ]
        },
        {
          "output_type": "stream",
          "name": "stderr",
          "text": [
            "GroupNorm with epoch 8: 100%|██████████| 16/16 [00:00<00:00, 20.65it/s, Loss=1.06]\n"
          ]
        },
        {
          "output_type": "stream",
          "name": "stdout",
          "text": [
            "Epoch 8, Loss: 1.0004252418875694, lr = 0.004575609796406685\n"
          ]
        },
        {
          "output_type": "stream",
          "name": "stderr",
          "text": [
            "GroupNorm with epoch 9: 100%|██████████| 16/16 [00:00<00:00, 19.91it/s, Loss=0.939]\n"
          ]
        },
        {
          "output_type": "stream",
          "name": "stdout",
          "text": [
            "Epoch 9, Loss: 0.8927670046687126, lr = 0.0034037837405649835\n"
          ]
        },
        {
          "output_type": "stream",
          "name": "stderr",
          "text": [
            "GroupNorm with epoch 10: 100%|██████████| 16/16 [00:00<00:00, 19.98it/s, Loss=0.851]"
          ]
        },
        {
          "output_type": "stream",
          "name": "stdout",
          "text": [
            "Epoch 10, Loss: 0.8196087554097176, lr = 0.003\n"
          ]
        },
        {
          "output_type": "stream",
          "name": "stderr",
          "text": [
            "\n"
          ]
        },
        {
          "output_type": "stream",
          "name": "stdout",
          "text": [
            "Norm : BatchNorm, Batch Size: 128, Top1 Accuracy: 52.05%\n",
            "Norm : GroupNorm, Batch Size: 128, Top1 Accuracy: 50.09%\n",
            "ㅡㅡㅡㅡㅡㅡㅡㅡㅡㅡㅡㅡbatch_size: 128ㅡㅡㅡㅡㅡㅡㅡㅡㅡㅡㅡㅡㅡ\n",
            "\n"
          ]
        }
      ]
    },
    {
      "cell_type": "code",
      "execution_count": 27,
      "metadata": {
        "id": "C5nw1oET4ues",
        "colab": {
          "base_uri": "https://localhost:8080/"
        },
        "outputId": "f25c45de-b342-4cc0-ebd5-71c0c1335109"
      },
      "outputs": [
        {
          "output_type": "stream",
          "name": "stdout",
          "text": [
            "[Experiment Result]\n",
            "                  BatchNorm  GroupNorm  Differences\n",
            "batch_size : 2        10.01      30.89        20.88\n",
            "batch_size : 4        33.81      40.46         6.65\n",
            "batch_size : 8        44.55      44.27         0.28\n",
            "batch_size : 16       49.68      48.85         0.83\n",
            "batch_size : 32       52.16      50.65         1.51\n",
            "batch_size : 64       53.18      51.37         1.81\n",
            "batch_size : 128      52.05      50.09         1.96\n"
          ]
        }
      ],
      "source": [
        "dfs = []\n",
        "print(f\"[Experiment Result]\")\n",
        "Accuracies = results[0]\n",
        "differences = [relu - sig for sig, relu in zip(Accuracies[\"BatchNorm\"], Accuracies[\"GroupNorm\"])]\n",
        "\n",
        "index = [f\"batch_size : {i}\" for i in [2, 4, 8, 16, 32, 64, 128]]\n",
        "data = {\n",
        "    \"BatchNorm\": Accuracies[\"BatchNorm\"],\n",
        "    \"GroupNorm\": Accuracies[\"GroupNorm\"],\n",
        "    \"Differences\": np.abs(differences)\n",
        "}\n",
        "\n",
        "df = pd.DataFrame(data, index=index)\n",
        "dfs.append(df)\n",
        "\n",
        "print(df)"
      ]
    }
  ],
  "metadata": {
    "accelerator": "GPU",
    "colab": {
      "gpuType": "T4",
      "machine_shape": "hm",
      "provenance": []
    },
    "kernelspec": {
      "display_name": "Python 3",
      "name": "python3"
    },
    "language_info": {
      "name": "python",
      "version": "3.13.2"
    }
  },
  "nbformat": 4,
  "nbformat_minor": 0
}