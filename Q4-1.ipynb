{
  "cells": [
    {
      "cell_type": "code",
      "execution_count": 1,
      "metadata": {
        "id": "karQ2oe-OtyV"
      },
      "outputs": [],
      "source": [
        "import torch\n",
        "import torch.nn as nn\n",
        "import torch.optim as optim\n",
        "import torch.nn.functional as F\n",
        "import numpy as np\n",
        "import matplotlib.pyplot as plt\n",
        "from torchvision import datasets, transforms\n",
        "from torch.utils.data import Dataset, DataLoader,Subset\n",
        "from tqdm import tqdm"
      ]
    },
    {
      "cell_type": "code",
      "execution_count": 20,
      "metadata": {
        "id": "GVnB8SM7OtyX"
      },
      "outputs": [],
      "source": [
        "import torch\n",
        "from torchvision import datasets, transforms\n",
        "from torch.utils.data import DataLoader, Subset\n",
        "\n",
        "# 데이터 전처리 (CIFAR10은 3채널 이미지)\n",
        "transform = transforms.Compose([\n",
        "    transforms.ToTensor(),\n",
        "    transforms.Normalize((0.4914, 0.4822, 0.4465), (0.2023, 0.1994, 0.2010))\n",
        "])\n",
        "\n",
        "# CIFAR10 학습 및 테스트 데이터셋 불러오기\n",
        "train_dataset = datasets.CIFAR10(root='./data', train=True, transform=transform, download=True)\n",
        "test_dataset = datasets.CIFAR10(root='./data', train=False, transform=transform, download=True)\n",
        "\n",
        "# CIFAR10의 targets는 리스트로 되어 있으므로 tensor로 변환\n",
        "targets = torch.tensor(train_dataset.targets)\n",
        "\n",
        "num_samples_per_class = 300\n",
        "selected_indices = []\n",
        "\n",
        "# 0부터 9까지 각 클래스별로 인덱스를 추출하고, 랜덤하게 num_samples_per_class개 선택\n",
        "for class_label in range(10):\n",
        "    # 해당 클래스의 인덱스 추출\n",
        "    indices = (targets == class_label).nonzero(as_tuple=True)[0]\n",
        "    # 인덱스를 랜덤하게 섞은 후 원하는 개수만 선택\n",
        "    selected = indices[torch.randperm(len(indices))[:num_samples_per_class]]\n",
        "    selected_indices.extend(selected.tolist())\n",
        "\n",
        "# 선택한 인덱스만 남긴 서브셋 생성\n",
        "train_dataset = Subset(train_dataset, selected_indices)\n",
        "\n",
        "# DataLoader 생성\n",
        "train_loader = DataLoader(train_dataset, batch_size=128, shuffle=True)\n",
        "test_loader = DataLoader(test_dataset, batch_size=256, shuffle=False)\n"
      ]
    },
    {
      "cell_type": "code",
      "execution_count": 21,
      "metadata": {
        "id": "X3fZa_hsOtyX"
      },
      "outputs": [],
      "source": [
        "# K = 2P + 1 to make the output size same as the input size\n",
        "class SigmoidCNN(nn.Module):\n",
        "    def __init__(self, num_blocks):\n",
        "        super(SigmoidCNN, self).__init__()\n",
        "        def build_block():\n",
        "            return nn.Sequential(\n",
        "                nn.Conv2d(in_channels=18, out_channels=18, kernel_size=3, stride=1, padding=1),\n",
        "                nn.BatchNorm2d(18),\n",
        "                nn.Sigmoid()\n",
        "            )\n",
        "\n",
        "        self.num_blocks = num_blocks\n",
        "        self.base = nn.Sequential(\n",
        "        nn.Conv2d(in_channels=3, out_channels=18, kernel_size=3, stride=1, padding=1),\n",
        "        nn.BatchNorm2d(18),\n",
        "        nn.Sigmoid())\n",
        "        self.pool = nn.AdaptiveAvgPool2d(1)\n",
        "        self.blocks = nn.ModuleList([build_block() for _ in range(self.num_blocks)])\n",
        "        self.classifier = nn.Linear(in_features=18, out_features=10)\n",
        "\n",
        "    def forward(self, x):\n",
        "        x = self.base(x)\n",
        "        for block in self.blocks:\n",
        "            x = block(x)\n",
        "        x = self.pool(x)\n",
        "        x = x.view(x.size(0), -1)\n",
        "        x = self.classifier(x)\n",
        "        return x\n",
        "\n",
        "class ReLUCNN(nn.Module):\n",
        "    def __init__(self, num_blocks):\n",
        "        super(ReLUCNN, self).__init__()\n",
        "        def build_block():\n",
        "            return nn.Sequential(\n",
        "                nn.Conv2d(in_channels=18, out_channels=18, kernel_size=3, stride=1, padding=1),\n",
        "                nn.BatchNorm2d(18),\n",
        "                nn.ReLU()\n",
        "            )\n",
        "        self.num_blocks = num_blocks\n",
        "        self.base = nn.Sequential(\n",
        "        nn.Conv2d(in_channels=3, out_channels=18, kernel_size=3, stride=1, padding=1),\n",
        "        nn.BatchNorm2d(18),\n",
        "        nn.ReLU())\n",
        "        self.pool = nn.AdaptiveAvgPool2d(1)\n",
        "        self.blocks = nn.ModuleList([build_block() for _ in range(self.num_blocks)])\n",
        "        self.classifier = nn.Linear(in_features=18, out_features=10)\n",
        "\n",
        "    def forward(self, x):\n",
        "        x = self.base(x)\n",
        "        for block in self.blocks:\n",
        "            x = block(x)\n",
        "        x = self.pool(x)\n",
        "        x = x.view(x.size(0), -1)\n",
        "        x = self.classifier(x)\n",
        "        return x"
      ]
    },
    {
      "cell_type": "code",
      "execution_count": 22,
      "metadata": {
        "colab": {
          "base_uri": "https://localhost:8080/"
        },
        "id": "rugMlg25OtyY",
        "outputId": "10a3a8c1-a9bb-47a6-83e4-746ac8c6932b"
      },
      "outputs": [
        {
          "output_type": "stream",
          "name": "stdout",
          "text": [
            "ㅡㅡㅡㅡㅡㅡㅡㅡㅡㅡㅡㅡNum_Blocks: 1ㅡㅡㅡㅡㅡㅡㅡㅡㅡㅡㅡㅡㅡ\n",
            "Model : SigmoidCNNBlock Number: 1, Top1 Accuracy: 21.24%\n",
            "Model : ReLUCNNBlock Number: 1, Top1 Accuracy: 24.35%\n",
            "ㅡㅡㅡㅡㅡㅡㅡㅡㅡㅡㅡㅡNum_Blocks: 1ㅡㅡㅡㅡㅡㅡㅡㅡㅡㅡㅡㅡㅡ\n",
            "\n",
            "ㅡㅡㅡㅡㅡㅡㅡㅡㅡㅡㅡㅡNum_Blocks: 2ㅡㅡㅡㅡㅡㅡㅡㅡㅡㅡㅡㅡㅡ\n",
            "Model : SigmoidCNNBlock Number: 2, Top1 Accuracy: 22.26%\n",
            "Model : ReLUCNNBlock Number: 2, Top1 Accuracy: 29.61%\n",
            "ㅡㅡㅡㅡㅡㅡㅡㅡㅡㅡㅡㅡNum_Blocks: 2ㅡㅡㅡㅡㅡㅡㅡㅡㅡㅡㅡㅡㅡ\n",
            "\n",
            "ㅡㅡㅡㅡㅡㅡㅡㅡㅡㅡㅡㅡNum_Blocks: 3ㅡㅡㅡㅡㅡㅡㅡㅡㅡㅡㅡㅡㅡ\n",
            "Model : SigmoidCNNBlock Number: 3, Top1 Accuracy: 22.01%\n",
            "Model : ReLUCNNBlock Number: 3, Top1 Accuracy: 33.28%\n",
            "ㅡㅡㅡㅡㅡㅡㅡㅡㅡㅡㅡㅡNum_Blocks: 3ㅡㅡㅡㅡㅡㅡㅡㅡㅡㅡㅡㅡㅡ\n",
            "\n",
            "ㅡㅡㅡㅡㅡㅡㅡㅡㅡㅡㅡㅡNum_Blocks: 4ㅡㅡㅡㅡㅡㅡㅡㅡㅡㅡㅡㅡㅡ\n",
            "Model : SigmoidCNNBlock Number: 4, Top1 Accuracy: 23.21%\n",
            "Model : ReLUCNNBlock Number: 4, Top1 Accuracy: 37.63%\n",
            "ㅡㅡㅡㅡㅡㅡㅡㅡㅡㅡㅡㅡNum_Blocks: 4ㅡㅡㅡㅡㅡㅡㅡㅡㅡㅡㅡㅡㅡ\n",
            "\n",
            "ㅡㅡㅡㅡㅡㅡㅡㅡㅡㅡㅡㅡNum_Blocks: 5ㅡㅡㅡㅡㅡㅡㅡㅡㅡㅡㅡㅡㅡ\n",
            "Model : SigmoidCNNBlock Number: 5, Top1 Accuracy: 21.22%\n",
            "Model : ReLUCNNBlock Number: 5, Top1 Accuracy: 35.13%\n",
            "ㅡㅡㅡㅡㅡㅡㅡㅡㅡㅡㅡㅡNum_Blocks: 5ㅡㅡㅡㅡㅡㅡㅡㅡㅡㅡㅡㅡㅡ\n",
            "\n",
            "ㅡㅡㅡㅡㅡㅡㅡㅡㅡㅡㅡㅡNum_Blocks: 6ㅡㅡㅡㅡㅡㅡㅡㅡㅡㅡㅡㅡㅡ\n",
            "Model : SigmoidCNNBlock Number: 6, Top1 Accuracy: 21.78%\n",
            "Model : ReLUCNNBlock Number: 6, Top1 Accuracy: 39.83%\n",
            "ㅡㅡㅡㅡㅡㅡㅡㅡㅡㅡㅡㅡNum_Blocks: 6ㅡㅡㅡㅡㅡㅡㅡㅡㅡㅡㅡㅡㅡ\n",
            "\n",
            "ㅡㅡㅡㅡㅡㅡㅡㅡㅡㅡㅡㅡNum_Blocks: 7ㅡㅡㅡㅡㅡㅡㅡㅡㅡㅡㅡㅡㅡ\n",
            "Model : SigmoidCNNBlock Number: 7, Top1 Accuracy: 23.78%\n",
            "Model : ReLUCNNBlock Number: 7, Top1 Accuracy: 36.87%\n",
            "ㅡㅡㅡㅡㅡㅡㅡㅡㅡㅡㅡㅡNum_Blocks: 7ㅡㅡㅡㅡㅡㅡㅡㅡㅡㅡㅡㅡㅡ\n",
            "\n",
            "ㅡㅡㅡㅡㅡㅡㅡㅡㅡㅡㅡㅡNum_Blocks: 8ㅡㅡㅡㅡㅡㅡㅡㅡㅡㅡㅡㅡㅡ\n",
            "Model : SigmoidCNNBlock Number: 8, Top1 Accuracy: 18.97%\n",
            "Model : ReLUCNNBlock Number: 8, Top1 Accuracy: 38.14%\n",
            "ㅡㅡㅡㅡㅡㅡㅡㅡㅡㅡㅡㅡNum_Blocks: 8ㅡㅡㅡㅡㅡㅡㅡㅡㅡㅡㅡㅡㅡ\n",
            "\n"
          ]
        }
      ],
      "source": [
        "device = torch.device(\"cuda\" if torch.cuda.is_available() else \"cpu\")\n",
        "Accuracies = {\"Sigmoid\" : list(), \"ReLU\" : list()}\n",
        "for i in range(8):\n",
        "    models = (model1:=SigmoidCNN(i), model2:=ReLUCNN(i))\n",
        "    print(f\"ㅡㅡㅡㅡㅡㅡㅡㅡㅡㅡㅡㅡNum_Blocks: {i+1}ㅡㅡㅡㅡㅡㅡㅡㅡㅡㅡㅡㅡㅡ\")\n",
        "    for model in models:\n",
        "        model.to(device)\n",
        "        criterion = nn.CrossEntropyLoss()\n",
        "        optimizer = optim.AdamW(model.parameters(), lr=0.001)\n",
        "        #Train Code\n",
        "        for epoch in range(10):\n",
        "            model.train()\n",
        "            for batch_idx, (data, target) in enumerate(train_loader):\n",
        "                data, target = data.to(device), target.to(device)\n",
        "                optimizer.zero_grad()\n",
        "                output = model(data)\n",
        "                loss = criterion(output, target)\n",
        "                loss.backward()\n",
        "                optimizer.step()\n",
        "\n",
        "    for model in models:\n",
        "        #Test Code\n",
        "        model.to(device)\n",
        "        model.eval()\n",
        "        correct = 0\n",
        "        with torch.no_grad():\n",
        "            for batch_idx, (data, target) in enumerate(test_loader):\n",
        "                data, target = data.to(device), target.to(device)\n",
        "                output = model(data) # size = (64, 10)\n",
        "                correct += (output.argmax(dim=1) == target).sum().item()\n",
        "        top1_acc = 100 * correct / len(test_loader.dataset)\n",
        "        if model.__class__.__name__ == \"SigmoidCNN\":\n",
        "            Accuracies[\"Sigmoid\"].append(top1_acc)\n",
        "        else:\n",
        "            Accuracies[\"ReLU\"].append(top1_acc)\n",
        "        print(f\"Model : {model.__class__.__name__}Block Number: {i+1}, Top1 Accuracy: {top1_acc:.2f}%\")\n",
        "    print(f\"ㅡㅡㅡㅡㅡㅡㅡㅡㅡㅡㅡㅡNum_Blocks: {i+1}ㅡㅡㅡㅡㅡㅡㅡㅡㅡㅡㅡㅡㅡ\\n\")\n"
      ]
    },
    {
      "cell_type": "code",
      "source": [
        "# 결과 정리\n",
        "import pandas as pd\n",
        "\n",
        "# ReLU 정확도에서 Sigmoid 정확도를 뺀 값 계산\n",
        "differences = [relu - sig for sig, relu in zip(Accuracies[\"Sigmoid\"], Accuracies[\"ReLU\"])]\n",
        "\n",
        "index = [f\"Num_Blocks : {i}\" for i in range(1, 9)]\n",
        "data = {\n",
        "    \"Sigmoid\": Accuracies[\"Sigmoid\"],\n",
        "    \"ReLU\": Accuracies[\"ReLU\"],\n",
        "    \"Differences\": differences\n",
        "}\n",
        "df = pd.DataFrame(data, index=index)\n",
        "\n",
        "print(df)\n"
      ],
      "metadata": {
        "colab": {
          "base_uri": "https://localhost:8080/"
        },
        "id": "YKznWlHIYb6v",
        "outputId": "7a94edb5-bd57-4216-bf0b-3d9310c0ae66"
      },
      "execution_count": 23,
      "outputs": [
        {
          "output_type": "stream",
          "name": "stdout",
          "text": [
            "                Sigmoid   ReLU  Differences\n",
            "Num_Blocks : 1    21.24  24.35         3.11\n",
            "Num_Blocks : 2    22.26  29.61         7.35\n",
            "Num_Blocks : 3    22.01  33.28        11.27\n",
            "Num_Blocks : 4    23.21  37.63        14.42\n",
            "Num_Blocks : 5    21.22  35.13        13.91\n",
            "Num_Blocks : 6    21.78  39.83        18.05\n",
            "Num_Blocks : 7    23.78  36.87        13.09\n",
            "Num_Blocks : 8    18.97  38.14        19.17\n"
          ]
        }
      ]
    }
  ],
  "metadata": {
    "accelerator": "GPU",
    "colab": {
      "gpuType": "T4",
      "provenance": [],
      "machine_shape": "hm"
    },
    "kernelspec": {
      "display_name": "Python 3",
      "name": "python3"
    },
    "language_info": {
      "codemirror_mode": {
        "name": "ipython",
        "version": 3
      },
      "file_extension": ".py",
      "mimetype": "text/x-python",
      "name": "python",
      "nbconvert_exporter": "python",
      "pygments_lexer": "ipython3",
      "version": "3.13.2"
    }
  },
  "nbformat": 4,
  "nbformat_minor": 0
}