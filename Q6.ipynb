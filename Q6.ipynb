{
  "nbformat": 4,
  "nbformat_minor": 0,
  "metadata": {
    "colab": {
      "provenance": [],
      "machine_shape": "hm",
      "gpuType": "T4"
    },
    "kernelspec": {
      "name": "python3",
      "display_name": "Python 3"
    },
    "language_info": {
      "name": "python"
    },
    "accelerator": "GPU"
  },
  "cells": [
    {
      "cell_type": "code",
      "execution_count": 1,
      "metadata": {
        "id": "Udj6vtrhHL6Y"
      },
      "outputs": [],
      "source": [
        "import torch\n",
        "import torch.nn as nn\n",
        "import torch.optim as optim\n",
        "import torch.nn.init as init\n",
        "import torch.nn.functional as F\n",
        "import os\n",
        "import random\n",
        "import numpy as np\n",
        "import matplotlib.pyplot as plt\n",
        "from torchvision import datasets, transforms\n",
        "from torch.utils.data import Dataset, DataLoader,Subset\n",
        "from tqdm import tqdm\n",
        "import pandas as pd\n",
        "import torch.optim.lr_scheduler"
      ]
    },
    {
      "cell_type": "code",
      "source": [
        "# 데이터 전처리 (CIFAR10은 3채널 이미지)\n",
        "transform = transforms.Compose([\n",
        "    transforms.ToTensor(),\n",
        "    transforms.Normalize(mean=[0.4914, 0.4822, 0.4465], std=[0.2023, 0.1994, 0.2010])\n",
        "])\n",
        "\n",
        "# CIFAR10 학습 및 테스트 데이터셋 불러오기\n",
        "train_dataset = datasets.CIFAR10(root='./data', train=True, transform=transform, download=True)\n",
        "test_dataset = datasets.CIFAR10(root='./data', train=False, transform=transform, download=True)\n",
        "\n",
        "# CIFAR10의 targets는 리스트로 되어 있으므로 tensor로 변환\n",
        "targets = torch.tensor(train_dataset.targets)\n",
        "\n",
        "num_samples_per_class = 500\n",
        "selected_indices = []\n",
        "\n",
        "# 0부터 9까지 각 클래스별로 인덱스를 추출하고, 랜덤하게 num_samples_per_class개 선택\n",
        "for class_label in range(10):\n",
        "    # 해당 클래스의 인덱스 추출\n",
        "    indices = (targets == class_label).nonzero(as_tuple=True)[0]\n",
        "    # 인덱스를 랜덤하게 섞은 후 원하는 개수만 선택\n",
        "    selected = indices[torch.randperm(len(indices))[:num_samples_per_class]]\n",
        "    selected_indices.extend(selected.tolist())\n",
        "\n",
        "# 선택한 인덱스만 남긴 서브셋 생성\n",
        "train_dataset = Subset(train_dataset, selected_indices)"
      ],
      "metadata": {
        "id": "ntmRDgqvHMte"
      },
      "execution_count": 27,
      "outputs": []
    },
    {
      "cell_type": "code",
      "source": [
        "class MyLayer(nn.Module):\n",
        "    def __init__(self, in_channels, out_channels, sequence):\n",
        "        super(MyLayer, self).__init__()\n",
        "        if sequence == 1:\n",
        "            self.layer = nn.Sequential(\n",
        "                nn.Conv2d(in_channels = in_channels, out_channels = out_channels, kernel_size = 3, padding = 1),\n",
        "                nn.BatchNorm2d(out_channels),\n",
        "                nn.ReLU()\n",
        "            )\n",
        "        elif sequence == 2:\n",
        "            self.layer = nn.Sequential(\n",
        "                nn.Conv2d(in_channels = in_channels, out_channels = out_channels, kernel_size = 3, padding = 1),\n",
        "                nn.ReLU(),\n",
        "                nn.BatchNorm2d(out_channels),\n",
        "            )\n",
        "        elif sequence == 3:\n",
        "            self.layer = nn.Sequential(\n",
        "                nn.Conv2d(in_channels = in_channels, out_channels = out_channels, kernel_size = 3, padding = 1),\n",
        "                nn.LeakyReLU(),\n",
        "                nn.BatchNorm2d(out_channels),\n",
        "            )\n",
        "\n",
        "    def forward(self, x):\n",
        "        return self.layer(x)\n",
        "\n",
        "\n",
        "class MyNet(nn.Module):\n",
        "    def __init__(self, sequence):\n",
        "        super(MyNet, self).__init__()\n",
        "        self.sequence = sequence\n",
        "\n",
        "        self.layer1 = MyLayer(3, 16, sequence)\n",
        "        self.layer2 = MyLayer(16, 32, sequence)\n",
        "        self.layer3 = MyLayer(32, 64, sequence)\n",
        "        self.layer4 = MyLayer(64, 128, sequence)\n",
        "        self.layer5 = MyLayer(128, 64, sequence)\n",
        "        self.layer6 = MyLayer(64, 32, sequence)\n",
        "        self.layer7 = MyLayer(32, 16, sequence)\n",
        "        self.layer8 = MyLayer(16, 10, sequence)\n",
        "\n",
        "        self.pool = nn.MaxPool2d(kernel_size = 2, stride = 2)\n",
        "        self.classifier = nn.Linear(in_features=10 * 2 * 2, out_features=10)\n",
        "\n",
        "    def forward(self, x):\n",
        "        x = self.layer1(x)\n",
        "        x = self.layer2(x)\n",
        "        x = self.pool(x)\n",
        "        x = self.layer3(x)\n",
        "        x = self.layer4(x)\n",
        "        x = self.pool(x)\n",
        "        x = self.layer5(x)\n",
        "        x = self.layer6(x)\n",
        "        x = self.pool(x)\n",
        "        x = self.layer7(x)\n",
        "        x = self.layer8(x)\n",
        "        x = self.pool(x)\n",
        "        x = x.view(x.size(0), -1)\n",
        "        x = self.classifier(x)\n",
        "        return x"
      ],
      "metadata": {
        "id": "9OJpXFaAHOd2"
      },
      "execution_count": 28,
      "outputs": []
    },
    {
      "cell_type": "code",
      "source": [
        "def experiment(seed):\n",
        "    device = torch.device(\"cuda\" if torch.cuda.is_available() else \"cpu\")\n",
        "    Accuracies = []\n",
        "    num_epochs = 50\n",
        "\n",
        "    def worker_init_fn(worker_id):\n",
        "        # 메인 프로세스의 torch.random.seed()로부터 worker에 고유 seed 부여\n",
        "        worker_seed = torch.initial_seed() % 2**32  # torch.initial_seed()는 메인 seed와 worker_id에 기반하여 결정됨\n",
        "        np.random.seed(worker_seed)\n",
        "        random.seed(worker_seed)\n",
        "\n",
        "    # 매 실험이 동일한 조건에서 시작하기 위해 시드 고정\n",
        "    print(f\"[Seed : {seed}] Experiment Start\")\n",
        "\n",
        "    # DataLoader 생성\n",
        "    train_loader = DataLoader(train_dataset, batch_size=256, shuffle=True, num_workers=8, pin_memory=True, worker_init_fn = worker_init_fn)\n",
        "    test_loader = DataLoader(test_dataset, batch_size=256, shuffle=False, num_workers=8, pin_memory=True, worker_init_fn = worker_init_fn)\n",
        "    models = (model1:=MyNet(1), model2:=MyNet(2), model3:=MyNet(3))\n",
        "    scaler = torch.amp.grad_scaler.GradScaler()\n",
        "\n",
        "    for model in models:\n",
        "        # 시드 고정\n",
        "        torch.manual_seed(seed)\n",
        "        torch.cuda.manual_seed(seed)\n",
        "        torch.cuda.manual_seed_all(seed)\n",
        "        np.random.seed(seed)\n",
        "        random.seed(seed)\n",
        "        torch.backends.cudnn.deterministic = True\n",
        "        torch.backends.cudnn.benchmark = False\n",
        "\n",
        "        model.to(device)\n",
        "        criterion = nn.CrossEntropyLoss()\n",
        "        optimizer = optim.SGD(model.parameters(), lr=0.0195, momentum=0.91, weight_decay=0.0)\n",
        "        scheduler = torch.optim.lr_scheduler.StepLR(optimizer, step_size=20, gamma=0.1)\n",
        "            #Train Code\n",
        "        for epoch in range(num_epochs):\n",
        "            model.train()\n",
        "            epoch_loss = 0.0\n",
        "            progress_bar = tqdm(train_loader, desc=f\"{'Conv->BN->ReLU' if model.sequence == 1 else 'Conv->ReLU->BN' if model.sequence == 2 else 'Conv->LeakyReLU->BN'} with epoch {epoch + 1}\")\n",
        "            for (data, target) in progress_bar:\n",
        "                data, target = data.to(device), target.to(device)\n",
        "                optimizer.zero_grad()\n",
        "\n",
        "                with torch.amp.autocast(device_type=\"cuda\", dtype=torch.bfloat16):\n",
        "                    output = model(data)\n",
        "                    loss = criterion(output, target)\n",
        "                epoch_loss += loss.item()\n",
        "                scaler.scale(loss).backward()\n",
        "                scaler.step(optimizer)\n",
        "                scaler.update()\n",
        "                progress_bar.set_postfix({\"Loss\": loss.item()})\n",
        "            scheduler.step()\n",
        "            print(f\"Epoch {epoch + 1}, Loss: {epoch_loss / len(train_loader)}, lr = {optimizer.param_groups[0]['lr']}\")\n",
        "\n",
        "    for model in models:\n",
        "        #Test Code\n",
        "        model.to(device)\n",
        "        model.eval()\n",
        "        correct = 0\n",
        "        with torch.no_grad():\n",
        "            for _, (data, target) in enumerate(test_loader):\n",
        "                data, target = data.to(device), target.to(device)\n",
        "                output = model(data)\n",
        "                correct += (output.argmax(dim=1) == target).sum().item()\n",
        "        top1_acc = 100 * correct / len(test_loader.dataset)\n",
        "        if model.sequence == 1:\n",
        "            Accuracies.append(top1_acc)\n",
        "        elif model.sequence == 2:\n",
        "            Accuracies.append(top1_acc)\n",
        "        else:\n",
        "            Accuracies.append(top1_acc)\n",
        "        print(f\"sequence : {'Conv->BN->ReLU' if model.sequence == 1 else 'Conv->ReLU->BN' if model.sequence == 2 else 'Conv->LeakyReLU->BN'}, Top1 Accuracy: {top1_acc:.2f}%\")\n",
        "        del model\n",
        "        torch.cuda.empty_cache()\n",
        "\n",
        "    return Accuracies\n",
        "\n",
        "\n",
        "if __name__ == \"__main__\":\n",
        "    results = []\n",
        "    num_experiments = 3\n",
        "    for i in range(num_experiments):\n",
        "        seed = random.randint(0, 100000)\n",
        "        results.append(experiment(seed))"
      ],
      "metadata": {
        "id": "Pq1Qka2pHPwp",
        "colab": {
          "base_uri": "https://localhost:8080/"
        },
        "outputId": "c518fc6f-53f6-4a5e-954f-272f37113a9b"
      },
      "execution_count": 39,
      "outputs": [
        {
          "output_type": "stream",
          "name": "stdout",
          "text": [
            "[Seed : 99584] Experiment Start\n"
          ]
        },
        {
          "output_type": "stream",
          "name": "stderr",
          "text": [
            "Conv->BN->ReLU with epoch 1: 100%|██████████| 20/20 [00:04<00:00,  4.24it/s, Loss=1.69]\n"
          ]
        },
        {
          "output_type": "stream",
          "name": "stdout",
          "text": [
            "Epoch 1, Loss: 1.9801063299179078, lr = 0.0195\n"
          ]
        },
        {
          "output_type": "stream",
          "name": "stderr",
          "text": [
            "Conv->BN->ReLU with epoch 2: 100%|██████████| 20/20 [00:04<00:00,  4.24it/s, Loss=1.38]\n"
          ]
        },
        {
          "output_type": "stream",
          "name": "stdout",
          "text": [
            "Epoch 2, Loss: 1.580157995223999, lr = 0.0195\n"
          ]
        },
        {
          "output_type": "stream",
          "name": "stderr",
          "text": [
            "Conv->BN->ReLU with epoch 3: 100%|██████████| 20/20 [00:04<00:00,  4.23it/s, Loss=1.34]\n"
          ]
        },
        {
          "output_type": "stream",
          "name": "stdout",
          "text": [
            "Epoch 3, Loss: 1.396165955066681, lr = 0.0195\n"
          ]
        },
        {
          "output_type": "stream",
          "name": "stderr",
          "text": [
            "Conv->BN->ReLU with epoch 4: 100%|██████████| 20/20 [00:04<00:00,  4.24it/s, Loss=1.19]\n"
          ]
        },
        {
          "output_type": "stream",
          "name": "stdout",
          "text": [
            "Epoch 4, Loss: 1.2580003023147583, lr = 0.0195\n"
          ]
        },
        {
          "output_type": "stream",
          "name": "stderr",
          "text": [
            "Conv->BN->ReLU with epoch 5: 100%|██████████| 20/20 [00:04<00:00,  4.25it/s, Loss=1.23]\n"
          ]
        },
        {
          "output_type": "stream",
          "name": "stdout",
          "text": [
            "Epoch 5, Loss: 1.1291388809680938, lr = 0.0195\n"
          ]
        },
        {
          "output_type": "stream",
          "name": "stderr",
          "text": [
            "Conv->BN->ReLU with epoch 6: 100%|██████████| 20/20 [00:04<00:00,  4.25it/s, Loss=0.962]\n"
          ]
        },
        {
          "output_type": "stream",
          "name": "stdout",
          "text": [
            "Epoch 6, Loss: 1.002275860309601, lr = 0.0195\n"
          ]
        },
        {
          "output_type": "stream",
          "name": "stderr",
          "text": [
            "Conv->BN->ReLU with epoch 7: 100%|██████████| 20/20 [00:04<00:00,  4.22it/s, Loss=0.945]\n"
          ]
        },
        {
          "output_type": "stream",
          "name": "stdout",
          "text": [
            "Epoch 7, Loss: 0.879583117365837, lr = 0.0195\n"
          ]
        },
        {
          "output_type": "stream",
          "name": "stderr",
          "text": [
            "Conv->BN->ReLU with epoch 8: 100%|██████████| 20/20 [00:04<00:00,  4.25it/s, Loss=0.891]\n"
          ]
        },
        {
          "output_type": "stream",
          "name": "stdout",
          "text": [
            "Epoch 8, Loss: 0.7564272850751876, lr = 0.0195\n"
          ]
        },
        {
          "output_type": "stream",
          "name": "stderr",
          "text": [
            "Conv->BN->ReLU with epoch 9: 100%|██████████| 20/20 [00:04<00:00,  4.29it/s, Loss=0.756]\n"
          ]
        },
        {
          "output_type": "stream",
          "name": "stdout",
          "text": [
            "Epoch 9, Loss: 0.6470294743776321, lr = 0.0195\n"
          ]
        },
        {
          "output_type": "stream",
          "name": "stderr",
          "text": [
            "Conv->BN->ReLU with epoch 10: 100%|██████████| 20/20 [00:04<00:00,  4.24it/s, Loss=0.568]\n"
          ]
        },
        {
          "output_type": "stream",
          "name": "stdout",
          "text": [
            "Epoch 10, Loss: 0.5194175884127616, lr = 0.0195\n"
          ]
        },
        {
          "output_type": "stream",
          "name": "stderr",
          "text": [
            "Conv->BN->ReLU with epoch 11: 100%|██████████| 20/20 [00:04<00:00,  4.24it/s, Loss=0.434]\n"
          ]
        },
        {
          "output_type": "stream",
          "name": "stdout",
          "text": [
            "Epoch 11, Loss: 0.45857333540916445, lr = 0.0195\n"
          ]
        },
        {
          "output_type": "stream",
          "name": "stderr",
          "text": [
            "Conv->BN->ReLU with epoch 12: 100%|██████████| 20/20 [00:04<00:00,  4.23it/s, Loss=0.389]\n"
          ]
        },
        {
          "output_type": "stream",
          "name": "stdout",
          "text": [
            "Epoch 12, Loss: 0.4035284534096718, lr = 0.0195\n"
          ]
        },
        {
          "output_type": "stream",
          "name": "stderr",
          "text": [
            "Conv->BN->ReLU with epoch 13: 100%|██████████| 20/20 [00:04<00:00,  4.24it/s, Loss=0.373]\n"
          ]
        },
        {
          "output_type": "stream",
          "name": "stdout",
          "text": [
            "Epoch 13, Loss: 0.32458329349756243, lr = 0.0195\n"
          ]
        },
        {
          "output_type": "stream",
          "name": "stderr",
          "text": [
            "Conv->BN->ReLU with epoch 14: 100%|██████████| 20/20 [00:04<00:00,  4.23it/s, Loss=0.23]\n"
          ]
        },
        {
          "output_type": "stream",
          "name": "stdout",
          "text": [
            "Epoch 14, Loss: 0.23237124010920523, lr = 0.0195\n"
          ]
        },
        {
          "output_type": "stream",
          "name": "stderr",
          "text": [
            "Conv->BN->ReLU with epoch 15: 100%|██████████| 20/20 [00:04<00:00,  4.21it/s, Loss=0.205]\n"
          ]
        },
        {
          "output_type": "stream",
          "name": "stdout",
          "text": [
            "Epoch 15, Loss: 0.1607439335435629, lr = 0.0195\n"
          ]
        },
        {
          "output_type": "stream",
          "name": "stderr",
          "text": [
            "Conv->BN->ReLU with epoch 16: 100%|██████████| 20/20 [00:04<00:00,  4.25it/s, Loss=0.112]\n"
          ]
        },
        {
          "output_type": "stream",
          "name": "stdout",
          "text": [
            "Epoch 16, Loss: 0.11685351058840751, lr = 0.0195\n"
          ]
        },
        {
          "output_type": "stream",
          "name": "stderr",
          "text": [
            "Conv->BN->ReLU with epoch 17: 100%|██████████| 20/20 [00:04<00:00,  4.24it/s, Loss=0.061]\n"
          ]
        },
        {
          "output_type": "stream",
          "name": "stdout",
          "text": [
            "Epoch 17, Loss: 0.0890186158940196, lr = 0.0195\n"
          ]
        },
        {
          "output_type": "stream",
          "name": "stderr",
          "text": [
            "Conv->BN->ReLU with epoch 18: 100%|██████████| 20/20 [00:04<00:00,  4.27it/s, Loss=0.126]\n"
          ]
        },
        {
          "output_type": "stream",
          "name": "stdout",
          "text": [
            "Epoch 18, Loss: 0.06951667852699757, lr = 0.0195\n"
          ]
        },
        {
          "output_type": "stream",
          "name": "stderr",
          "text": [
            "Conv->BN->ReLU with epoch 19: 100%|██████████| 20/20 [00:04<00:00,  4.23it/s, Loss=0.0238]\n"
          ]
        },
        {
          "output_type": "stream",
          "name": "stdout",
          "text": [
            "Epoch 19, Loss: 0.04824436856433749, lr = 0.0195\n"
          ]
        },
        {
          "output_type": "stream",
          "name": "stderr",
          "text": [
            "Conv->BN->ReLU with epoch 20: 100%|██████████| 20/20 [00:04<00:00,  4.25it/s, Loss=0.0182]\n"
          ]
        },
        {
          "output_type": "stream",
          "name": "stdout",
          "text": [
            "Epoch 20, Loss: 0.027656775061041118, lr = 0.0019500000000000001\n"
          ]
        },
        {
          "output_type": "stream",
          "name": "stderr",
          "text": [
            "Conv->BN->ReLU with epoch 21: 100%|██████████| 20/20 [00:04<00:00,  4.28it/s, Loss=0.00901]\n"
          ]
        },
        {
          "output_type": "stream",
          "name": "stdout",
          "text": [
            "Epoch 21, Loss: 0.011289050686173141, lr = 0.0019500000000000001\n"
          ]
        },
        {
          "output_type": "stream",
          "name": "stderr",
          "text": [
            "Conv->BN->ReLU with epoch 22: 100%|██████████| 20/20 [00:04<00:00,  4.24it/s, Loss=0.00504]\n"
          ]
        },
        {
          "output_type": "stream",
          "name": "stdout",
          "text": [
            "Epoch 22, Loss: 0.0064487170428037645, lr = 0.0019500000000000001\n"
          ]
        },
        {
          "output_type": "stream",
          "name": "stderr",
          "text": [
            "Conv->BN->ReLU with epoch 23: 100%|██████████| 20/20 [00:04<00:00,  4.25it/s, Loss=0.00497]\n"
          ]
        },
        {
          "output_type": "stream",
          "name": "stdout",
          "text": [
            "Epoch 23, Loss: 0.004953635018318891, lr = 0.0019500000000000001\n"
          ]
        },
        {
          "output_type": "stream",
          "name": "stderr",
          "text": [
            "Conv->BN->ReLU with epoch 24: 100%|██████████| 20/20 [00:04<00:00,  4.24it/s, Loss=0.00428]\n"
          ]
        },
        {
          "output_type": "stream",
          "name": "stdout",
          "text": [
            "Epoch 24, Loss: 0.004570299270562827, lr = 0.0019500000000000001\n"
          ]
        },
        {
          "output_type": "stream",
          "name": "stderr",
          "text": [
            "Conv->BN->ReLU with epoch 25: 100%|██████████| 20/20 [00:04<00:00,  4.23it/s, Loss=0.00465]\n"
          ]
        },
        {
          "output_type": "stream",
          "name": "stdout",
          "text": [
            "Epoch 25, Loss: 0.003911213134415448, lr = 0.0019500000000000001\n"
          ]
        },
        {
          "output_type": "stream",
          "name": "stderr",
          "text": [
            "Conv->BN->ReLU with epoch 26: 100%|██████████| 20/20 [00:04<00:00,  4.25it/s, Loss=0.00353]\n"
          ]
        },
        {
          "output_type": "stream",
          "name": "stdout",
          "text": [
            "Epoch 26, Loss: 0.0037219557561911643, lr = 0.0019500000000000001\n"
          ]
        },
        {
          "output_type": "stream",
          "name": "stderr",
          "text": [
            "Conv->BN->ReLU with epoch 27: 100%|██████████| 20/20 [00:04<00:00,  4.26it/s, Loss=0.00369]\n"
          ]
        },
        {
          "output_type": "stream",
          "name": "stdout",
          "text": [
            "Epoch 27, Loss: 0.003395857976283878, lr = 0.0019500000000000001\n"
          ]
        },
        {
          "output_type": "stream",
          "name": "stderr",
          "text": [
            "Conv->BN->ReLU with epoch 28: 100%|██████████| 20/20 [00:04<00:00,  4.23it/s, Loss=0.00225]\n"
          ]
        },
        {
          "output_type": "stream",
          "name": "stdout",
          "text": [
            "Epoch 28, Loss: 0.0032951159519143403, lr = 0.0019500000000000001\n"
          ]
        },
        {
          "output_type": "stream",
          "name": "stderr",
          "text": [
            "Conv->BN->ReLU with epoch 29: 100%|██████████| 20/20 [00:04<00:00,  4.25it/s, Loss=0.00316]\n"
          ]
        },
        {
          "output_type": "stream",
          "name": "stdout",
          "text": [
            "Epoch 29, Loss: 0.00318021698622033, lr = 0.0019500000000000001\n"
          ]
        },
        {
          "output_type": "stream",
          "name": "stderr",
          "text": [
            "Conv->BN->ReLU with epoch 30: 100%|██████████| 20/20 [00:04<00:00,  4.25it/s, Loss=0.00387]\n"
          ]
        },
        {
          "output_type": "stream",
          "name": "stdout",
          "text": [
            "Epoch 30, Loss: 0.0029560630209743977, lr = 0.0019500000000000001\n"
          ]
        },
        {
          "output_type": "stream",
          "name": "stderr",
          "text": [
            "Conv->BN->ReLU with epoch 31: 100%|██████████| 20/20 [00:04<00:00,  4.24it/s, Loss=0.00256]\n"
          ]
        },
        {
          "output_type": "stream",
          "name": "stdout",
          "text": [
            "Epoch 31, Loss: 0.0029921849723905324, lr = 0.0019500000000000001\n"
          ]
        },
        {
          "output_type": "stream",
          "name": "stderr",
          "text": [
            "Conv->BN->ReLU with epoch 32: 100%|██████████| 20/20 [00:04<00:00,  4.23it/s, Loss=0.00249]\n"
          ]
        },
        {
          "output_type": "stream",
          "name": "stdout",
          "text": [
            "Epoch 32, Loss: 0.002763256523758173, lr = 0.0019500000000000001\n"
          ]
        },
        {
          "output_type": "stream",
          "name": "stderr",
          "text": [
            "Conv->BN->ReLU with epoch 33: 100%|██████████| 20/20 [00:04<00:00,  4.26it/s, Loss=0.00283]\n"
          ]
        },
        {
          "output_type": "stream",
          "name": "stdout",
          "text": [
            "Epoch 33, Loss: 0.002682796446606517, lr = 0.0019500000000000001\n"
          ]
        },
        {
          "output_type": "stream",
          "name": "stderr",
          "text": [
            "Conv->BN->ReLU with epoch 34: 100%|██████████| 20/20 [00:04<00:00,  4.23it/s, Loss=0.00251]\n"
          ]
        },
        {
          "output_type": "stream",
          "name": "stdout",
          "text": [
            "Epoch 34, Loss: 0.002668876526877284, lr = 0.0019500000000000001\n"
          ]
        },
        {
          "output_type": "stream",
          "name": "stderr",
          "text": [
            "Conv->BN->ReLU with epoch 35: 100%|██████████| 20/20 [00:04<00:00,  4.25it/s, Loss=0.003]\n"
          ]
        },
        {
          "output_type": "stream",
          "name": "stdout",
          "text": [
            "Epoch 35, Loss: 0.0025507430429570375, lr = 0.0019500000000000001\n"
          ]
        },
        {
          "output_type": "stream",
          "name": "stderr",
          "text": [
            "Conv->BN->ReLU with epoch 36: 100%|██████████| 20/20 [00:04<00:00,  4.23it/s, Loss=0.00211]\n"
          ]
        },
        {
          "output_type": "stream",
          "name": "stdout",
          "text": [
            "Epoch 36, Loss: 0.0025026154471561313, lr = 0.0019500000000000001\n"
          ]
        },
        {
          "output_type": "stream",
          "name": "stderr",
          "text": [
            "Conv->BN->ReLU with epoch 37: 100%|██████████| 20/20 [00:04<00:00,  4.23it/s, Loss=0.00264]\n"
          ]
        },
        {
          "output_type": "stream",
          "name": "stdout",
          "text": [
            "Epoch 37, Loss: 0.002391517616342753, lr = 0.0019500000000000001\n"
          ]
        },
        {
          "output_type": "stream",
          "name": "stderr",
          "text": [
            "Conv->BN->ReLU with epoch 38: 100%|██████████| 20/20 [00:04<00:00,  4.24it/s, Loss=0.00265]\n"
          ]
        },
        {
          "output_type": "stream",
          "name": "stdout",
          "text": [
            "Epoch 38, Loss: 0.002426038694102317, lr = 0.0019500000000000001\n"
          ]
        },
        {
          "output_type": "stream",
          "name": "stderr",
          "text": [
            "Conv->BN->ReLU with epoch 39: 100%|██████████| 20/20 [00:04<00:00,  4.24it/s, Loss=0.0024]\n"
          ]
        },
        {
          "output_type": "stream",
          "name": "stdout",
          "text": [
            "Epoch 39, Loss: 0.0022542200982570647, lr = 0.0019500000000000001\n"
          ]
        },
        {
          "output_type": "stream",
          "name": "stderr",
          "text": [
            "Conv->BN->ReLU with epoch 40: 100%|██████████| 20/20 [00:04<00:00,  4.24it/s, Loss=0.00495]\n"
          ]
        },
        {
          "output_type": "stream",
          "name": "stdout",
          "text": [
            "Epoch 40, Loss: 0.002346369600854814, lr = 0.00019500000000000002\n"
          ]
        },
        {
          "output_type": "stream",
          "name": "stderr",
          "text": [
            "Conv->BN->ReLU with epoch 41: 100%|██████████| 20/20 [00:04<00:00,  4.26it/s, Loss=0.00235]\n"
          ]
        },
        {
          "output_type": "stream",
          "name": "stdout",
          "text": [
            "Epoch 41, Loss: 0.002157723077107221, lr = 0.00019500000000000002\n"
          ]
        },
        {
          "output_type": "stream",
          "name": "stderr",
          "text": [
            "Conv->BN->ReLU with epoch 42: 100%|██████████| 20/20 [00:04<00:00,  4.24it/s, Loss=0.00213]\n"
          ]
        },
        {
          "output_type": "stream",
          "name": "stdout",
          "text": [
            "Epoch 42, Loss: 0.00212312254589051, lr = 0.00019500000000000002\n"
          ]
        },
        {
          "output_type": "stream",
          "name": "stderr",
          "text": [
            "Conv->BN->ReLU with epoch 43: 100%|██████████| 20/20 [00:04<00:00,  4.24it/s, Loss=0.00419]\n"
          ]
        },
        {
          "output_type": "stream",
          "name": "stdout",
          "text": [
            "Epoch 43, Loss: 0.0023224314907565715, lr = 0.00019500000000000002\n"
          ]
        },
        {
          "output_type": "stream",
          "name": "stderr",
          "text": [
            "Conv->BN->ReLU with epoch 44: 100%|██████████| 20/20 [00:04<00:00,  4.17it/s, Loss=0.00223]\n"
          ]
        },
        {
          "output_type": "stream",
          "name": "stdout",
          "text": [
            "Epoch 44, Loss: 0.0021543010487221183, lr = 0.00019500000000000002\n"
          ]
        },
        {
          "output_type": "stream",
          "name": "stderr",
          "text": [
            "Conv->BN->ReLU with epoch 45: 100%|██████████| 20/20 [00:04<00:00,  4.25it/s, Loss=0.00207]\n"
          ]
        },
        {
          "output_type": "stream",
          "name": "stdout",
          "text": [
            "Epoch 45, Loss: 0.0021633684867993, lr = 0.00019500000000000002\n"
          ]
        },
        {
          "output_type": "stream",
          "name": "stderr",
          "text": [
            "Conv->BN->ReLU with epoch 46: 100%|██████████| 20/20 [00:04<00:00,  4.26it/s, Loss=0.00223]\n"
          ]
        },
        {
          "output_type": "stream",
          "name": "stdout",
          "text": [
            "Epoch 46, Loss: 0.0021123859100043775, lr = 0.00019500000000000002\n"
          ]
        },
        {
          "output_type": "stream",
          "name": "stderr",
          "text": [
            "Conv->BN->ReLU with epoch 47: 100%|██████████| 20/20 [00:04<00:00,  4.25it/s, Loss=0.00341]\n"
          ]
        },
        {
          "output_type": "stream",
          "name": "stdout",
          "text": [
            "Epoch 47, Loss: 0.0021782302646897733, lr = 0.00019500000000000002\n"
          ]
        },
        {
          "output_type": "stream",
          "name": "stderr",
          "text": [
            "Conv->BN->ReLU with epoch 48: 100%|██████████| 20/20 [00:04<00:00,  4.22it/s, Loss=0.00207]\n"
          ]
        },
        {
          "output_type": "stream",
          "name": "stdout",
          "text": [
            "Epoch 48, Loss: 0.0021619695820845664, lr = 0.00019500000000000002\n"
          ]
        },
        {
          "output_type": "stream",
          "name": "stderr",
          "text": [
            "Conv->BN->ReLU with epoch 49: 100%|██████████| 20/20 [00:04<00:00,  4.23it/s, Loss=0.0035]\n"
          ]
        },
        {
          "output_type": "stream",
          "name": "stdout",
          "text": [
            "Epoch 49, Loss: 0.002246279921382666, lr = 0.00019500000000000002\n"
          ]
        },
        {
          "output_type": "stream",
          "name": "stderr",
          "text": [
            "Conv->BN->ReLU with epoch 50: 100%|██████████| 20/20 [00:04<00:00,  4.25it/s, Loss=0.00293]\n"
          ]
        },
        {
          "output_type": "stream",
          "name": "stdout",
          "text": [
            "Epoch 50, Loss: 0.0021743377554230394, lr = 0.00019500000000000002\n"
          ]
        },
        {
          "output_type": "stream",
          "name": "stderr",
          "text": [
            "Conv->ReLU->BN with epoch 1: 100%|██████████| 20/20 [00:04<00:00,  4.23it/s, Loss=1.7]\n"
          ]
        },
        {
          "output_type": "stream",
          "name": "stdout",
          "text": [
            "Epoch 1, Loss: 1.9891799330711364, lr = 0.0195\n"
          ]
        },
        {
          "output_type": "stream",
          "name": "stderr",
          "text": [
            "Conv->ReLU->BN with epoch 2: 100%|██████████| 20/20 [00:04<00:00,  4.23it/s, Loss=1.56]\n"
          ]
        },
        {
          "output_type": "stream",
          "name": "stdout",
          "text": [
            "Epoch 2, Loss: 1.6461831152439117, lr = 0.0195\n"
          ]
        },
        {
          "output_type": "stream",
          "name": "stderr",
          "text": [
            "Conv->ReLU->BN with epoch 3: 100%|██████████| 20/20 [00:04<00:00,  4.24it/s, Loss=1.36]\n"
          ]
        },
        {
          "output_type": "stream",
          "name": "stdout",
          "text": [
            "Epoch 3, Loss: 1.4872816801071167, lr = 0.0195\n"
          ]
        },
        {
          "output_type": "stream",
          "name": "stderr",
          "text": [
            "Conv->ReLU->BN with epoch 4: 100%|██████████| 20/20 [00:04<00:00,  4.23it/s, Loss=1.36]\n"
          ]
        },
        {
          "output_type": "stream",
          "name": "stdout",
          "text": [
            "Epoch 4, Loss: 1.3613610863685608, lr = 0.0195\n"
          ]
        },
        {
          "output_type": "stream",
          "name": "stderr",
          "text": [
            "Conv->ReLU->BN with epoch 5: 100%|██████████| 20/20 [00:04<00:00,  4.23it/s, Loss=1.34]\n"
          ]
        },
        {
          "output_type": "stream",
          "name": "stdout",
          "text": [
            "Epoch 5, Loss: 1.2833385944366456, lr = 0.0195\n"
          ]
        },
        {
          "output_type": "stream",
          "name": "stderr",
          "text": [
            "Conv->ReLU->BN with epoch 6: 100%|██████████| 20/20 [00:04<00:00,  4.20it/s, Loss=1.15]\n"
          ]
        },
        {
          "output_type": "stream",
          "name": "stdout",
          "text": [
            "Epoch 6, Loss: 1.1684198677539825, lr = 0.0195\n"
          ]
        },
        {
          "output_type": "stream",
          "name": "stderr",
          "text": [
            "Conv->ReLU->BN with epoch 7: 100%|██████████| 20/20 [00:04<00:00,  4.21it/s, Loss=1.13]\n"
          ]
        },
        {
          "output_type": "stream",
          "name": "stdout",
          "text": [
            "Epoch 7, Loss: 1.065263420343399, lr = 0.0195\n"
          ]
        },
        {
          "output_type": "stream",
          "name": "stderr",
          "text": [
            "Conv->ReLU->BN with epoch 8: 100%|██████████| 20/20 [00:04<00:00,  4.22it/s, Loss=1.08]\n"
          ]
        },
        {
          "output_type": "stream",
          "name": "stdout",
          "text": [
            "Epoch 8, Loss: 0.9706100255250931, lr = 0.0195\n"
          ]
        },
        {
          "output_type": "stream",
          "name": "stderr",
          "text": [
            "Conv->ReLU->BN with epoch 9: 100%|██████████| 20/20 [00:04<00:00,  4.25it/s, Loss=0.999]\n"
          ]
        },
        {
          "output_type": "stream",
          "name": "stdout",
          "text": [
            "Epoch 9, Loss: 0.8544375598430634, lr = 0.0195\n"
          ]
        },
        {
          "output_type": "stream",
          "name": "stderr",
          "text": [
            "Conv->ReLU->BN with epoch 10: 100%|██████████| 20/20 [00:04<00:00,  4.25it/s, Loss=0.742]\n"
          ]
        },
        {
          "output_type": "stream",
          "name": "stdout",
          "text": [
            "Epoch 10, Loss: 0.7596061944961547, lr = 0.0195\n"
          ]
        },
        {
          "output_type": "stream",
          "name": "stderr",
          "text": [
            "Conv->ReLU->BN with epoch 11: 100%|██████████| 20/20 [00:04<00:00,  4.21it/s, Loss=0.752]\n"
          ]
        },
        {
          "output_type": "stream",
          "name": "stdout",
          "text": [
            "Epoch 11, Loss: 0.6697785913944244, lr = 0.0195\n"
          ]
        },
        {
          "output_type": "stream",
          "name": "stderr",
          "text": [
            "Conv->ReLU->BN with epoch 12: 100%|██████████| 20/20 [00:04<00:00,  4.26it/s, Loss=0.66]\n"
          ]
        },
        {
          "output_type": "stream",
          "name": "stdout",
          "text": [
            "Epoch 12, Loss: 0.6119806781411171, lr = 0.0195\n"
          ]
        },
        {
          "output_type": "stream",
          "name": "stderr",
          "text": [
            "Conv->ReLU->BN with epoch 13: 100%|██████████| 20/20 [00:04<00:00,  4.24it/s, Loss=0.704]\n"
          ]
        },
        {
          "output_type": "stream",
          "name": "stdout",
          "text": [
            "Epoch 13, Loss: 0.517294728755951, lr = 0.0195\n"
          ]
        },
        {
          "output_type": "stream",
          "name": "stderr",
          "text": [
            "Conv->ReLU->BN with epoch 14: 100%|██████████| 20/20 [00:04<00:00,  4.24it/s, Loss=0.499]\n"
          ]
        },
        {
          "output_type": "stream",
          "name": "stdout",
          "text": [
            "Epoch 14, Loss: 0.3885873511433601, lr = 0.0195\n"
          ]
        },
        {
          "output_type": "stream",
          "name": "stderr",
          "text": [
            "Conv->ReLU->BN with epoch 15: 100%|██████████| 20/20 [00:04<00:00,  4.25it/s, Loss=0.366]\n"
          ]
        },
        {
          "output_type": "stream",
          "name": "stdout",
          "text": [
            "Epoch 15, Loss: 0.33989367634058, lr = 0.0195\n"
          ]
        },
        {
          "output_type": "stream",
          "name": "stderr",
          "text": [
            "Conv->ReLU->BN with epoch 16: 100%|██████████| 20/20 [00:04<00:00,  4.21it/s, Loss=0.37]\n"
          ]
        },
        {
          "output_type": "stream",
          "name": "stdout",
          "text": [
            "Epoch 16, Loss: 0.29072675183415414, lr = 0.0195\n"
          ]
        },
        {
          "output_type": "stream",
          "name": "stderr",
          "text": [
            "Conv->ReLU->BN with epoch 17: 100%|██████████| 20/20 [00:04<00:00,  4.25it/s, Loss=0.333]\n"
          ]
        },
        {
          "output_type": "stream",
          "name": "stdout",
          "text": [
            "Epoch 17, Loss: 0.25311601236462594, lr = 0.0195\n"
          ]
        },
        {
          "output_type": "stream",
          "name": "stderr",
          "text": [
            "Conv->ReLU->BN with epoch 18: 100%|██████████| 20/20 [00:04<00:00,  4.26it/s, Loss=0.258]\n"
          ]
        },
        {
          "output_type": "stream",
          "name": "stdout",
          "text": [
            "Epoch 18, Loss: 0.25240333154797556, lr = 0.0195\n"
          ]
        },
        {
          "output_type": "stream",
          "name": "stderr",
          "text": [
            "Conv->ReLU->BN with epoch 19: 100%|██████████| 20/20 [00:04<00:00,  4.27it/s, Loss=0.256]\n"
          ]
        },
        {
          "output_type": "stream",
          "name": "stdout",
          "text": [
            "Epoch 19, Loss: 0.20609812662005425, lr = 0.0195\n"
          ]
        },
        {
          "output_type": "stream",
          "name": "stderr",
          "text": [
            "Conv->ReLU->BN with epoch 20: 100%|██████████| 20/20 [00:04<00:00,  4.24it/s, Loss=0.242]\n"
          ]
        },
        {
          "output_type": "stream",
          "name": "stdout",
          "text": [
            "Epoch 20, Loss: 0.17638627886772157, lr = 0.0019500000000000001\n"
          ]
        },
        {
          "output_type": "stream",
          "name": "stderr",
          "text": [
            "Conv->ReLU->BN with epoch 21: 100%|██████████| 20/20 [00:04<00:00,  4.25it/s, Loss=0.0532]\n"
          ]
        },
        {
          "output_type": "stream",
          "name": "stdout",
          "text": [
            "Epoch 21, Loss: 0.0826987823471427, lr = 0.0019500000000000001\n"
          ]
        },
        {
          "output_type": "stream",
          "name": "stderr",
          "text": [
            "Conv->ReLU->BN with epoch 22: 100%|██████████| 20/20 [00:04<00:00,  4.26it/s, Loss=0.0488]\n"
          ]
        },
        {
          "output_type": "stream",
          "name": "stdout",
          "text": [
            "Epoch 22, Loss: 0.03553434386849404, lr = 0.0019500000000000001\n"
          ]
        },
        {
          "output_type": "stream",
          "name": "stderr",
          "text": [
            "Conv->ReLU->BN with epoch 23: 100%|██████████| 20/20 [00:04<00:00,  4.20it/s, Loss=0.0268]\n"
          ]
        },
        {
          "output_type": "stream",
          "name": "stdout",
          "text": [
            "Epoch 23, Loss: 0.022519374173134564, lr = 0.0019500000000000001\n"
          ]
        },
        {
          "output_type": "stream",
          "name": "stderr",
          "text": [
            "Conv->ReLU->BN with epoch 24: 100%|██████████| 20/20 [00:04<00:00,  4.28it/s, Loss=0.0149]\n"
          ]
        },
        {
          "output_type": "stream",
          "name": "stdout",
          "text": [
            "Epoch 24, Loss: 0.018141300510615112, lr = 0.0019500000000000001\n"
          ]
        },
        {
          "output_type": "stream",
          "name": "stderr",
          "text": [
            "Conv->ReLU->BN with epoch 25: 100%|██████████| 20/20 [00:04<00:00,  4.24it/s, Loss=0.0149]\n"
          ]
        },
        {
          "output_type": "stream",
          "name": "stdout",
          "text": [
            "Epoch 25, Loss: 0.014597731409594417, lr = 0.0019500000000000001\n"
          ]
        },
        {
          "output_type": "stream",
          "name": "stderr",
          "text": [
            "Conv->ReLU->BN with epoch 26: 100%|██████████| 20/20 [00:04<00:00,  4.26it/s, Loss=0.0109]\n"
          ]
        },
        {
          "output_type": "stream",
          "name": "stdout",
          "text": [
            "Epoch 26, Loss: 0.013230758812278509, lr = 0.0019500000000000001\n"
          ]
        },
        {
          "output_type": "stream",
          "name": "stderr",
          "text": [
            "Conv->ReLU->BN with epoch 27: 100%|██████████| 20/20 [00:04<00:00,  4.25it/s, Loss=0.0122]\n"
          ]
        },
        {
          "output_type": "stream",
          "name": "stdout",
          "text": [
            "Epoch 27, Loss: 0.011923890747129916, lr = 0.0019500000000000001\n"
          ]
        },
        {
          "output_type": "stream",
          "name": "stderr",
          "text": [
            "Conv->ReLU->BN with epoch 28: 100%|██████████| 20/20 [00:04<00:00,  4.24it/s, Loss=0.0132]\n"
          ]
        },
        {
          "output_type": "stream",
          "name": "stdout",
          "text": [
            "Epoch 28, Loss: 0.011430599587038159, lr = 0.0019500000000000001\n"
          ]
        },
        {
          "output_type": "stream",
          "name": "stderr",
          "text": [
            "Conv->ReLU->BN with epoch 29: 100%|██████████| 20/20 [00:04<00:00,  4.24it/s, Loss=0.0103]\n"
          ]
        },
        {
          "output_type": "stream",
          "name": "stdout",
          "text": [
            "Epoch 29, Loss: 0.010086320945993066, lr = 0.0019500000000000001\n"
          ]
        },
        {
          "output_type": "stream",
          "name": "stderr",
          "text": [
            "Conv->ReLU->BN with epoch 30: 100%|██████████| 20/20 [00:04<00:00,  4.25it/s, Loss=0.014]\n"
          ]
        },
        {
          "output_type": "stream",
          "name": "stdout",
          "text": [
            "Epoch 30, Loss: 0.009518466470763088, lr = 0.0019500000000000001\n"
          ]
        },
        {
          "output_type": "stream",
          "name": "stderr",
          "text": [
            "Conv->ReLU->BN with epoch 31: 100%|██████████| 20/20 [00:04<00:00,  4.24it/s, Loss=0.0108]\n"
          ]
        },
        {
          "output_type": "stream",
          "name": "stdout",
          "text": [
            "Epoch 31, Loss: 0.009215179644525052, lr = 0.0019500000000000001\n"
          ]
        },
        {
          "output_type": "stream",
          "name": "stderr",
          "text": [
            "Conv->ReLU->BN with epoch 32: 100%|██████████| 20/20 [00:04<00:00,  4.24it/s, Loss=0.00801]\n"
          ]
        },
        {
          "output_type": "stream",
          "name": "stdout",
          "text": [
            "Epoch 32, Loss: 0.008353953808546066, lr = 0.0019500000000000001\n"
          ]
        },
        {
          "output_type": "stream",
          "name": "stderr",
          "text": [
            "Conv->ReLU->BN with epoch 33: 100%|██████████| 20/20 [00:04<00:00,  4.27it/s, Loss=0.00941]\n"
          ]
        },
        {
          "output_type": "stream",
          "name": "stdout",
          "text": [
            "Epoch 33, Loss: 0.008047605282627046, lr = 0.0019500000000000001\n"
          ]
        },
        {
          "output_type": "stream",
          "name": "stderr",
          "text": [
            "Conv->ReLU->BN with epoch 34: 100%|██████████| 20/20 [00:04<00:00,  4.27it/s, Loss=0.00655]\n"
          ]
        },
        {
          "output_type": "stream",
          "name": "stdout",
          "text": [
            "Epoch 34, Loss: 0.007663126080296933, lr = 0.0019500000000000001\n"
          ]
        },
        {
          "output_type": "stream",
          "name": "stderr",
          "text": [
            "Conv->ReLU->BN with epoch 35: 100%|██████████| 20/20 [00:04<00:00,  4.26it/s, Loss=0.00626]\n"
          ]
        },
        {
          "output_type": "stream",
          "name": "stdout",
          "text": [
            "Epoch 35, Loss: 0.0072047780500724915, lr = 0.0019500000000000001\n"
          ]
        },
        {
          "output_type": "stream",
          "name": "stderr",
          "text": [
            "Conv->ReLU->BN with epoch 36: 100%|██████████| 20/20 [00:04<00:00,  4.27it/s, Loss=0.0064]\n"
          ]
        },
        {
          "output_type": "stream",
          "name": "stdout",
          "text": [
            "Epoch 36, Loss: 0.006949329236522317, lr = 0.0019500000000000001\n"
          ]
        },
        {
          "output_type": "stream",
          "name": "stderr",
          "text": [
            "Conv->ReLU->BN with epoch 37: 100%|██████████| 20/20 [00:04<00:00,  4.23it/s, Loss=0.0073]\n"
          ]
        },
        {
          "output_type": "stream",
          "name": "stdout",
          "text": [
            "Epoch 37, Loss: 0.0064463950227946045, lr = 0.0019500000000000001\n"
          ]
        },
        {
          "output_type": "stream",
          "name": "stderr",
          "text": [
            "Conv->ReLU->BN with epoch 38: 100%|██████████| 20/20 [00:04<00:00,  4.25it/s, Loss=0.00632]\n"
          ]
        },
        {
          "output_type": "stream",
          "name": "stdout",
          "text": [
            "Epoch 38, Loss: 0.006543570454232395, lr = 0.0019500000000000001\n"
          ]
        },
        {
          "output_type": "stream",
          "name": "stderr",
          "text": [
            "Conv->ReLU->BN with epoch 39: 100%|██████████| 20/20 [00:04<00:00,  4.22it/s, Loss=0.00987]\n"
          ]
        },
        {
          "output_type": "stream",
          "name": "stdout",
          "text": [
            "Epoch 39, Loss: 0.006203648541122675, lr = 0.0019500000000000001\n"
          ]
        },
        {
          "output_type": "stream",
          "name": "stderr",
          "text": [
            "Conv->ReLU->BN with epoch 40: 100%|██████████| 20/20 [00:04<00:00,  4.25it/s, Loss=0.00684]\n"
          ]
        },
        {
          "output_type": "stream",
          "name": "stdout",
          "text": [
            "Epoch 40, Loss: 0.0059194371569901705, lr = 0.00019500000000000002\n"
          ]
        },
        {
          "output_type": "stream",
          "name": "stderr",
          "text": [
            "Conv->ReLU->BN with epoch 41: 100%|██████████| 20/20 [00:04<00:00,  4.27it/s, Loss=0.00613]\n"
          ]
        },
        {
          "output_type": "stream",
          "name": "stdout",
          "text": [
            "Epoch 41, Loss: 0.005623931903392077, lr = 0.00019500000000000002\n"
          ]
        },
        {
          "output_type": "stream",
          "name": "stderr",
          "text": [
            "Conv->ReLU->BN with epoch 42: 100%|██████████| 20/20 [00:04<00:00,  4.29it/s, Loss=0.00566]\n"
          ]
        },
        {
          "output_type": "stream",
          "name": "stdout",
          "text": [
            "Epoch 42, Loss: 0.005614436068572104, lr = 0.00019500000000000002\n"
          ]
        },
        {
          "output_type": "stream",
          "name": "stderr",
          "text": [
            "Conv->ReLU->BN with epoch 43: 100%|██████████| 20/20 [00:04<00:00,  4.27it/s, Loss=0.00588]\n"
          ]
        },
        {
          "output_type": "stream",
          "name": "stdout",
          "text": [
            "Epoch 43, Loss: 0.00609340921510011, lr = 0.00019500000000000002\n"
          ]
        },
        {
          "output_type": "stream",
          "name": "stderr",
          "text": [
            "Conv->ReLU->BN with epoch 44: 100%|██████████| 20/20 [00:04<00:00,  4.27it/s, Loss=0.0058]\n"
          ]
        },
        {
          "output_type": "stream",
          "name": "stdout",
          "text": [
            "Epoch 44, Loss: 0.005683046765625477, lr = 0.00019500000000000002\n"
          ]
        },
        {
          "output_type": "stream",
          "name": "stderr",
          "text": [
            "Conv->ReLU->BN with epoch 45: 100%|██████████| 20/20 [00:04<00:00,  4.25it/s, Loss=0.00678]\n"
          ]
        },
        {
          "output_type": "stream",
          "name": "stdout",
          "text": [
            "Epoch 45, Loss: 0.005598216294310987, lr = 0.00019500000000000002\n"
          ]
        },
        {
          "output_type": "stream",
          "name": "stderr",
          "text": [
            "Conv->ReLU->BN with epoch 46: 100%|██████████| 20/20 [00:04<00:00,  4.25it/s, Loss=0.00452]\n"
          ]
        },
        {
          "output_type": "stream",
          "name": "stdout",
          "text": [
            "Epoch 46, Loss: 0.005452779144980014, lr = 0.00019500000000000002\n"
          ]
        },
        {
          "output_type": "stream",
          "name": "stderr",
          "text": [
            "Conv->ReLU->BN with epoch 47: 100%|██████████| 20/20 [00:04<00:00,  4.25it/s, Loss=0.00886]\n"
          ]
        },
        {
          "output_type": "stream",
          "name": "stdout",
          "text": [
            "Epoch 47, Loss: 0.00563252114225179, lr = 0.00019500000000000002\n"
          ]
        },
        {
          "output_type": "stream",
          "name": "stderr",
          "text": [
            "Conv->ReLU->BN with epoch 48: 100%|██████████| 20/20 [00:04<00:00,  4.28it/s, Loss=0.00491]\n"
          ]
        },
        {
          "output_type": "stream",
          "name": "stdout",
          "text": [
            "Epoch 48, Loss: 0.005534805078059435, lr = 0.00019500000000000002\n"
          ]
        },
        {
          "output_type": "stream",
          "name": "stderr",
          "text": [
            "Conv->ReLU->BN with epoch 49: 100%|██████████| 20/20 [00:04<00:00,  4.26it/s, Loss=0.00688]\n"
          ]
        },
        {
          "output_type": "stream",
          "name": "stdout",
          "text": [
            "Epoch 49, Loss: 0.005752551066689193, lr = 0.00019500000000000002\n"
          ]
        },
        {
          "output_type": "stream",
          "name": "stderr",
          "text": [
            "Conv->ReLU->BN with epoch 50: 100%|██████████| 20/20 [00:04<00:00,  4.27it/s, Loss=0.00792]\n"
          ]
        },
        {
          "output_type": "stream",
          "name": "stdout",
          "text": [
            "Epoch 50, Loss: 0.005447435542009771, lr = 0.00019500000000000002\n"
          ]
        },
        {
          "output_type": "stream",
          "name": "stderr",
          "text": [
            "Conv->LeakyReLU->BN with epoch 1: 100%|██████████| 20/20 [00:04<00:00,  4.26it/s, Loss=1.73]\n"
          ]
        },
        {
          "output_type": "stream",
          "name": "stdout",
          "text": [
            "Epoch 1, Loss: 2.004052597284317, lr = 0.0195\n"
          ]
        },
        {
          "output_type": "stream",
          "name": "stderr",
          "text": [
            "Conv->LeakyReLU->BN with epoch 2: 100%|██████████| 20/20 [00:04<00:00,  4.24it/s, Loss=1.46]\n"
          ]
        },
        {
          "output_type": "stream",
          "name": "stdout",
          "text": [
            "Epoch 2, Loss: 1.6081092000007629, lr = 0.0195\n"
          ]
        },
        {
          "output_type": "stream",
          "name": "stderr",
          "text": [
            "Conv->LeakyReLU->BN with epoch 3: 100%|██████████| 20/20 [00:04<00:00,  4.28it/s, Loss=1.29]\n"
          ]
        },
        {
          "output_type": "stream",
          "name": "stdout",
          "text": [
            "Epoch 3, Loss: 1.4337880194187165, lr = 0.0195\n"
          ]
        },
        {
          "output_type": "stream",
          "name": "stderr",
          "text": [
            "Conv->LeakyReLU->BN with epoch 4: 100%|██████████| 20/20 [00:04<00:00,  4.22it/s, Loss=1.25]\n"
          ]
        },
        {
          "output_type": "stream",
          "name": "stdout",
          "text": [
            "Epoch 4, Loss: 1.3129416882991791, lr = 0.0195\n"
          ]
        },
        {
          "output_type": "stream",
          "name": "stderr",
          "text": [
            "Conv->LeakyReLU->BN with epoch 5: 100%|██████████| 20/20 [00:04<00:00,  4.25it/s, Loss=1.2]\n"
          ]
        },
        {
          "output_type": "stream",
          "name": "stdout",
          "text": [
            "Epoch 5, Loss: 1.2178214848041535, lr = 0.0195\n"
          ]
        },
        {
          "output_type": "stream",
          "name": "stderr",
          "text": [
            "Conv->LeakyReLU->BN with epoch 6: 100%|██████████| 20/20 [00:04<00:00,  4.24it/s, Loss=1.11]\n"
          ]
        },
        {
          "output_type": "stream",
          "name": "stdout",
          "text": [
            "Epoch 6, Loss: 1.098591947555542, lr = 0.0195\n"
          ]
        },
        {
          "output_type": "stream",
          "name": "stderr",
          "text": [
            "Conv->LeakyReLU->BN with epoch 7: 100%|██████████| 20/20 [00:04<00:00,  4.24it/s, Loss=0.965]\n"
          ]
        },
        {
          "output_type": "stream",
          "name": "stdout",
          "text": [
            "Epoch 7, Loss: 0.9573869556188583, lr = 0.0195\n"
          ]
        },
        {
          "output_type": "stream",
          "name": "stderr",
          "text": [
            "Conv->LeakyReLU->BN with epoch 8: 100%|██████████| 20/20 [00:04<00:00,  4.23it/s, Loss=0.929]\n"
          ]
        },
        {
          "output_type": "stream",
          "name": "stdout",
          "text": [
            "Epoch 8, Loss: 0.8759512394666672, lr = 0.0195\n"
          ]
        },
        {
          "output_type": "stream",
          "name": "stderr",
          "text": [
            "Conv->LeakyReLU->BN with epoch 9: 100%|██████████| 20/20 [00:04<00:00,  4.25it/s, Loss=0.987]\n"
          ]
        },
        {
          "output_type": "stream",
          "name": "stdout",
          "text": [
            "Epoch 9, Loss: 0.7758109033107757, lr = 0.0195\n"
          ]
        },
        {
          "output_type": "stream",
          "name": "stderr",
          "text": [
            "Conv->LeakyReLU->BN with epoch 10: 100%|██████████| 20/20 [00:04<00:00,  4.23it/s, Loss=0.701]\n"
          ]
        },
        {
          "output_type": "stream",
          "name": "stdout",
          "text": [
            "Epoch 10, Loss: 0.6874174654483796, lr = 0.0195\n"
          ]
        },
        {
          "output_type": "stream",
          "name": "stderr",
          "text": [
            "Conv->LeakyReLU->BN with epoch 11: 100%|██████████| 20/20 [00:04<00:00,  4.22it/s, Loss=0.58]\n"
          ]
        },
        {
          "output_type": "stream",
          "name": "stdout",
          "text": [
            "Epoch 11, Loss: 0.5991035953164101, lr = 0.0195\n"
          ]
        },
        {
          "output_type": "stream",
          "name": "stderr",
          "text": [
            "Conv->LeakyReLU->BN with epoch 12: 100%|██████████| 20/20 [00:04<00:00,  4.22it/s, Loss=0.578]\n"
          ]
        },
        {
          "output_type": "stream",
          "name": "stdout",
          "text": [
            "Epoch 12, Loss: 0.5214078202843666, lr = 0.0195\n"
          ]
        },
        {
          "output_type": "stream",
          "name": "stderr",
          "text": [
            "Conv->LeakyReLU->BN with epoch 13: 100%|██████████| 20/20 [00:04<00:00,  4.12it/s, Loss=0.615]\n"
          ]
        },
        {
          "output_type": "stream",
          "name": "stdout",
          "text": [
            "Epoch 13, Loss: 0.4409078314900398, lr = 0.0195\n"
          ]
        },
        {
          "output_type": "stream",
          "name": "stderr",
          "text": [
            "Conv->LeakyReLU->BN with epoch 14: 100%|██████████| 20/20 [00:04<00:00,  4.20it/s, Loss=0.506]\n"
          ]
        },
        {
          "output_type": "stream",
          "name": "stdout",
          "text": [
            "Epoch 14, Loss: 0.3815347597002983, lr = 0.0195\n"
          ]
        },
        {
          "output_type": "stream",
          "name": "stderr",
          "text": [
            "Conv->LeakyReLU->BN with epoch 15: 100%|██████████| 20/20 [00:04<00:00,  4.21it/s, Loss=0.306]\n"
          ]
        },
        {
          "output_type": "stream",
          "name": "stdout",
          "text": [
            "Epoch 15, Loss: 0.3015947312116623, lr = 0.0195\n"
          ]
        },
        {
          "output_type": "stream",
          "name": "stderr",
          "text": [
            "Conv->LeakyReLU->BN with epoch 16: 100%|██████████| 20/20 [00:04<00:00,  4.23it/s, Loss=0.211]\n"
          ]
        },
        {
          "output_type": "stream",
          "name": "stdout",
          "text": [
            "Epoch 16, Loss: 0.2787823095917702, lr = 0.0195\n"
          ]
        },
        {
          "output_type": "stream",
          "name": "stderr",
          "text": [
            "Conv->LeakyReLU->BN with epoch 17: 100%|██████████| 20/20 [00:04<00:00,  4.25it/s, Loss=0.243]\n"
          ]
        },
        {
          "output_type": "stream",
          "name": "stdout",
          "text": [
            "Epoch 17, Loss: 0.24802299290895463, lr = 0.0195\n"
          ]
        },
        {
          "output_type": "stream",
          "name": "stderr",
          "text": [
            "Conv->LeakyReLU->BN with epoch 18: 100%|██████████| 20/20 [00:04<00:00,  4.25it/s, Loss=0.186]\n"
          ]
        },
        {
          "output_type": "stream",
          "name": "stdout",
          "text": [
            "Epoch 18, Loss: 0.212965951859951, lr = 0.0195\n"
          ]
        },
        {
          "output_type": "stream",
          "name": "stderr",
          "text": [
            "Conv->LeakyReLU->BN with epoch 19: 100%|██████████| 20/20 [00:04<00:00,  4.21it/s, Loss=0.13]\n"
          ]
        },
        {
          "output_type": "stream",
          "name": "stdout",
          "text": [
            "Epoch 19, Loss: 0.1601473968476057, lr = 0.0195\n"
          ]
        },
        {
          "output_type": "stream",
          "name": "stderr",
          "text": [
            "Conv->LeakyReLU->BN with epoch 20: 100%|██████████| 20/20 [00:04<00:00,  4.19it/s, Loss=0.219]\n"
          ]
        },
        {
          "output_type": "stream",
          "name": "stdout",
          "text": [
            "Epoch 20, Loss: 0.11340358704328538, lr = 0.0019500000000000001\n"
          ]
        },
        {
          "output_type": "stream",
          "name": "stderr",
          "text": [
            "Conv->LeakyReLU->BN with epoch 21: 100%|██████████| 20/20 [00:04<00:00,  4.18it/s, Loss=0.0515]\n"
          ]
        },
        {
          "output_type": "stream",
          "name": "stdout",
          "text": [
            "Epoch 21, Loss: 0.03934155283495784, lr = 0.0019500000000000001\n"
          ]
        },
        {
          "output_type": "stream",
          "name": "stderr",
          "text": [
            "Conv->LeakyReLU->BN with epoch 22: 100%|██████████| 20/20 [00:04<00:00,  4.20it/s, Loss=0.0217]\n"
          ]
        },
        {
          "output_type": "stream",
          "name": "stdout",
          "text": [
            "Epoch 22, Loss: 0.020587156573310495, lr = 0.0019500000000000001\n"
          ]
        },
        {
          "output_type": "stream",
          "name": "stderr",
          "text": [
            "Conv->LeakyReLU->BN with epoch 23: 100%|██████████| 20/20 [00:04<00:00,  4.23it/s, Loss=0.0132]\n"
          ]
        },
        {
          "output_type": "stream",
          "name": "stdout",
          "text": [
            "Epoch 23, Loss: 0.014403643179684877, lr = 0.0019500000000000001\n"
          ]
        },
        {
          "output_type": "stream",
          "name": "stderr",
          "text": [
            "Conv->LeakyReLU->BN with epoch 24: 100%|██████████| 20/20 [00:04<00:00,  4.24it/s, Loss=0.0145]\n"
          ]
        },
        {
          "output_type": "stream",
          "name": "stdout",
          "text": [
            "Epoch 24, Loss: 0.012575503112748266, lr = 0.0019500000000000001\n"
          ]
        },
        {
          "output_type": "stream",
          "name": "stderr",
          "text": [
            "Conv->LeakyReLU->BN with epoch 25: 100%|██████████| 20/20 [00:04<00:00,  4.23it/s, Loss=0.0106]\n"
          ]
        },
        {
          "output_type": "stream",
          "name": "stdout",
          "text": [
            "Epoch 25, Loss: 0.010705098207108677, lr = 0.0019500000000000001\n"
          ]
        },
        {
          "output_type": "stream",
          "name": "stderr",
          "text": [
            "Conv->LeakyReLU->BN with epoch 26: 100%|██████████| 20/20 [00:04<00:00,  4.22it/s, Loss=0.0105]\n"
          ]
        },
        {
          "output_type": "stream",
          "name": "stdout",
          "text": [
            "Epoch 26, Loss: 0.009744079131633044, lr = 0.0019500000000000001\n"
          ]
        },
        {
          "output_type": "stream",
          "name": "stderr",
          "text": [
            "Conv->LeakyReLU->BN with epoch 27: 100%|██████████| 20/20 [00:04<00:00,  4.27it/s, Loss=0.00937]\n"
          ]
        },
        {
          "output_type": "stream",
          "name": "stdout",
          "text": [
            "Epoch 27, Loss: 0.008780400361865759, lr = 0.0019500000000000001\n"
          ]
        },
        {
          "output_type": "stream",
          "name": "stderr",
          "text": [
            "Conv->LeakyReLU->BN with epoch 28: 100%|██████████| 20/20 [00:04<00:00,  4.23it/s, Loss=0.00879]\n"
          ]
        },
        {
          "output_type": "stream",
          "name": "stdout",
          "text": [
            "Epoch 28, Loss: 0.008426333614625036, lr = 0.0019500000000000001\n"
          ]
        },
        {
          "output_type": "stream",
          "name": "stderr",
          "text": [
            "Conv->LeakyReLU->BN with epoch 29: 100%|██████████| 20/20 [00:04<00:00,  4.24it/s, Loss=0.011]\n"
          ]
        },
        {
          "output_type": "stream",
          "name": "stdout",
          "text": [
            "Epoch 29, Loss: 0.007774317683652043, lr = 0.0019500000000000001\n"
          ]
        },
        {
          "output_type": "stream",
          "name": "stderr",
          "text": [
            "Conv->LeakyReLU->BN with epoch 30: 100%|██████████| 20/20 [00:04<00:00,  4.24it/s, Loss=0.0102]\n"
          ]
        },
        {
          "output_type": "stream",
          "name": "stdout",
          "text": [
            "Epoch 30, Loss: 0.007259216858074069, lr = 0.0019500000000000001\n"
          ]
        },
        {
          "output_type": "stream",
          "name": "stderr",
          "text": [
            "Conv->LeakyReLU->BN with epoch 31: 100%|██████████| 20/20 [00:04<00:00,  4.24it/s, Loss=0.00835]\n"
          ]
        },
        {
          "output_type": "stream",
          "name": "stdout",
          "text": [
            "Epoch 31, Loss: 0.0072068834444507955, lr = 0.0019500000000000001\n"
          ]
        },
        {
          "output_type": "stream",
          "name": "stderr",
          "text": [
            "Conv->LeakyReLU->BN with epoch 32: 100%|██████████| 20/20 [00:04<00:00,  4.27it/s, Loss=0.00827]\n"
          ]
        },
        {
          "output_type": "stream",
          "name": "stdout",
          "text": [
            "Epoch 32, Loss: 0.006633513118140399, lr = 0.0019500000000000001\n"
          ]
        },
        {
          "output_type": "stream",
          "name": "stderr",
          "text": [
            "Conv->LeakyReLU->BN with epoch 33: 100%|██████████| 20/20 [00:04<00:00,  4.25it/s, Loss=0.00692]\n"
          ]
        },
        {
          "output_type": "stream",
          "name": "stdout",
          "text": [
            "Epoch 33, Loss: 0.0064529985655099155, lr = 0.0019500000000000001\n"
          ]
        },
        {
          "output_type": "stream",
          "name": "stderr",
          "text": [
            "Conv->LeakyReLU->BN with epoch 34: 100%|██████████| 20/20 [00:04<00:00,  4.26it/s, Loss=0.00731]\n"
          ]
        },
        {
          "output_type": "stream",
          "name": "stdout",
          "text": [
            "Epoch 34, Loss: 0.006159244268201291, lr = 0.0019500000000000001\n"
          ]
        },
        {
          "output_type": "stream",
          "name": "stderr",
          "text": [
            "Conv->LeakyReLU->BN with epoch 35: 100%|██████████| 20/20 [00:04<00:00,  4.23it/s, Loss=0.00569]\n"
          ]
        },
        {
          "output_type": "stream",
          "name": "stdout",
          "text": [
            "Epoch 35, Loss: 0.005764928227290511, lr = 0.0019500000000000001\n"
          ]
        },
        {
          "output_type": "stream",
          "name": "stderr",
          "text": [
            "Conv->LeakyReLU->BN with epoch 36: 100%|██████████| 20/20 [00:04<00:00,  4.22it/s, Loss=0.00654]\n"
          ]
        },
        {
          "output_type": "stream",
          "name": "stdout",
          "text": [
            "Epoch 36, Loss: 0.005759933218359947, lr = 0.0019500000000000001\n"
          ]
        },
        {
          "output_type": "stream",
          "name": "stderr",
          "text": [
            "Conv->LeakyReLU->BN with epoch 37: 100%|██████████| 20/20 [00:04<00:00,  4.23it/s, Loss=0.00627]\n"
          ]
        },
        {
          "output_type": "stream",
          "name": "stdout",
          "text": [
            "Epoch 37, Loss: 0.005241542775183916, lr = 0.0019500000000000001\n"
          ]
        },
        {
          "output_type": "stream",
          "name": "stderr",
          "text": [
            "Conv->LeakyReLU->BN with epoch 38: 100%|██████████| 20/20 [00:04<00:00,  4.22it/s, Loss=0.00445]\n"
          ]
        },
        {
          "output_type": "stream",
          "name": "stdout",
          "text": [
            "Epoch 38, Loss: 0.005129692330956459, lr = 0.0019500000000000001\n"
          ]
        },
        {
          "output_type": "stream",
          "name": "stderr",
          "text": [
            "Conv->LeakyReLU->BN with epoch 39: 100%|██████████| 20/20 [00:04<00:00,  4.27it/s, Loss=0.00723]\n"
          ]
        },
        {
          "output_type": "stream",
          "name": "stdout",
          "text": [
            "Epoch 39, Loss: 0.004994491906836629, lr = 0.0019500000000000001\n"
          ]
        },
        {
          "output_type": "stream",
          "name": "stderr",
          "text": [
            "Conv->LeakyReLU->BN with epoch 40: 100%|██████████| 20/20 [00:04<00:00,  4.25it/s, Loss=0.00537]\n"
          ]
        },
        {
          "output_type": "stream",
          "name": "stdout",
          "text": [
            "Epoch 40, Loss: 0.004834226635284722, lr = 0.00019500000000000002\n"
          ]
        },
        {
          "output_type": "stream",
          "name": "stderr",
          "text": [
            "Conv->LeakyReLU->BN with epoch 41: 100%|██████████| 20/20 [00:04<00:00,  4.22it/s, Loss=0.00549]\n"
          ]
        },
        {
          "output_type": "stream",
          "name": "stdout",
          "text": [
            "Epoch 41, Loss: 0.004653641278855503, lr = 0.00019500000000000002\n"
          ]
        },
        {
          "output_type": "stream",
          "name": "stderr",
          "text": [
            "Conv->LeakyReLU->BN with epoch 42: 100%|██████████| 20/20 [00:04<00:00,  4.24it/s, Loss=0.00516]\n"
          ]
        },
        {
          "output_type": "stream",
          "name": "stdout",
          "text": [
            "Epoch 42, Loss: 0.00455244155600667, lr = 0.00019500000000000002\n"
          ]
        },
        {
          "output_type": "stream",
          "name": "stderr",
          "text": [
            "Conv->LeakyReLU->BN with epoch 43: 100%|██████████| 20/20 [00:04<00:00,  4.23it/s, Loss=0.00564]\n"
          ]
        },
        {
          "output_type": "stream",
          "name": "stdout",
          "text": [
            "Epoch 43, Loss: 0.004865355766378343, lr = 0.00019500000000000002\n"
          ]
        },
        {
          "output_type": "stream",
          "name": "stderr",
          "text": [
            "Conv->LeakyReLU->BN with epoch 44: 100%|██████████| 20/20 [00:04<00:00,  4.25it/s, Loss=0.0048]\n"
          ]
        },
        {
          "output_type": "stream",
          "name": "stdout",
          "text": [
            "Epoch 44, Loss: 0.00452721796464175, lr = 0.00019500000000000002\n"
          ]
        },
        {
          "output_type": "stream",
          "name": "stderr",
          "text": [
            "Conv->LeakyReLU->BN with epoch 45: 100%|██████████| 20/20 [00:04<00:00,  4.22it/s, Loss=0.00529]\n"
          ]
        },
        {
          "output_type": "stream",
          "name": "stdout",
          "text": [
            "Epoch 45, Loss: 0.004630471230484545, lr = 0.00019500000000000002\n"
          ]
        },
        {
          "output_type": "stream",
          "name": "stderr",
          "text": [
            "Conv->LeakyReLU->BN with epoch 46: 100%|██████████| 20/20 [00:04<00:00,  4.24it/s, Loss=0.00411]\n"
          ]
        },
        {
          "output_type": "stream",
          "name": "stdout",
          "text": [
            "Epoch 46, Loss: 0.00452911825850606, lr = 0.00019500000000000002\n"
          ]
        },
        {
          "output_type": "stream",
          "name": "stderr",
          "text": [
            "Conv->LeakyReLU->BN with epoch 47: 100%|██████████| 20/20 [00:04<00:00,  4.24it/s, Loss=0.00783]\n"
          ]
        },
        {
          "output_type": "stream",
          "name": "stdout",
          "text": [
            "Epoch 47, Loss: 0.004688298748806119, lr = 0.00019500000000000002\n"
          ]
        },
        {
          "output_type": "stream",
          "name": "stderr",
          "text": [
            "Conv->LeakyReLU->BN with epoch 48: 100%|██████████| 20/20 [00:04<00:00,  4.23it/s, Loss=0.00494]\n"
          ]
        },
        {
          "output_type": "stream",
          "name": "stdout",
          "text": [
            "Epoch 48, Loss: 0.004541018651798368, lr = 0.00019500000000000002\n"
          ]
        },
        {
          "output_type": "stream",
          "name": "stderr",
          "text": [
            "Conv->LeakyReLU->BN with epoch 49: 100%|██████████| 20/20 [00:04<00:00,  4.21it/s, Loss=0.00553]\n"
          ]
        },
        {
          "output_type": "stream",
          "name": "stdout",
          "text": [
            "Epoch 49, Loss: 0.004779184749349952, lr = 0.00019500000000000002\n"
          ]
        },
        {
          "output_type": "stream",
          "name": "stderr",
          "text": [
            "Conv->LeakyReLU->BN with epoch 50: 100%|██████████| 20/20 [00:04<00:00,  4.24it/s, Loss=0.0049]"
          ]
        },
        {
          "output_type": "stream",
          "name": "stdout",
          "text": [
            "Epoch 50, Loss: 0.004499243735335767, lr = 0.00019500000000000002\n"
          ]
        },
        {
          "output_type": "stream",
          "name": "stderr",
          "text": [
            "\n"
          ]
        },
        {
          "output_type": "stream",
          "name": "stdout",
          "text": [
            "sequence : Conv->BN->ReLU, Top1 Accuracy: 62.32%\n",
            "sequence : Conv->ReLU->BN, Top1 Accuracy: 59.56%\n",
            "sequence : Conv->LeakyReLU->BN, Top1 Accuracy: 60.97%\n",
            "[Seed : 88351] Experiment Start\n"
          ]
        },
        {
          "output_type": "stream",
          "name": "stderr",
          "text": [
            "Conv->BN->ReLU with epoch 1: 100%|██████████| 20/20 [00:04<00:00,  4.23it/s, Loss=1.75]\n"
          ]
        },
        {
          "output_type": "stream",
          "name": "stdout",
          "text": [
            "Epoch 1, Loss: 2.000548982620239, lr = 0.0195\n"
          ]
        },
        {
          "output_type": "stream",
          "name": "stderr",
          "text": [
            "Conv->BN->ReLU with epoch 2: 100%|██████████| 20/20 [00:04<00:00,  4.25it/s, Loss=1.41]\n"
          ]
        },
        {
          "output_type": "stream",
          "name": "stdout",
          "text": [
            "Epoch 2, Loss: 1.5755846440792083, lr = 0.0195\n"
          ]
        },
        {
          "output_type": "stream",
          "name": "stderr",
          "text": [
            "Conv->BN->ReLU with epoch 3: 100%|██████████| 20/20 [00:04<00:00,  4.23it/s, Loss=1.36]\n"
          ]
        },
        {
          "output_type": "stream",
          "name": "stdout",
          "text": [
            "Epoch 3, Loss: 1.386961245536804, lr = 0.0195\n"
          ]
        },
        {
          "output_type": "stream",
          "name": "stderr",
          "text": [
            "Conv->BN->ReLU with epoch 4: 100%|██████████| 20/20 [00:04<00:00,  4.26it/s, Loss=1.26]\n"
          ]
        },
        {
          "output_type": "stream",
          "name": "stdout",
          "text": [
            "Epoch 4, Loss: 1.2486624598503113, lr = 0.0195\n"
          ]
        },
        {
          "output_type": "stream",
          "name": "stderr",
          "text": [
            "Conv->BN->ReLU with epoch 5: 100%|██████████| 20/20 [00:04<00:00,  4.26it/s, Loss=1.12]\n"
          ]
        },
        {
          "output_type": "stream",
          "name": "stdout",
          "text": [
            "Epoch 5, Loss: 1.135193222761154, lr = 0.0195\n"
          ]
        },
        {
          "output_type": "stream",
          "name": "stderr",
          "text": [
            "Conv->BN->ReLU with epoch 6: 100%|██████████| 20/20 [00:04<00:00,  4.26it/s, Loss=0.924]\n"
          ]
        },
        {
          "output_type": "stream",
          "name": "stdout",
          "text": [
            "Epoch 6, Loss: 1.0133052468299866, lr = 0.0195\n"
          ]
        },
        {
          "output_type": "stream",
          "name": "stderr",
          "text": [
            "Conv->BN->ReLU with epoch 7: 100%|██████████| 20/20 [00:04<00:00,  4.20it/s, Loss=0.722]\n"
          ]
        },
        {
          "output_type": "stream",
          "name": "stdout",
          "text": [
            "Epoch 7, Loss: 0.8937682509422302, lr = 0.0195\n"
          ]
        },
        {
          "output_type": "stream",
          "name": "stderr",
          "text": [
            "Conv->BN->ReLU with epoch 8: 100%|██████████| 20/20 [00:04<00:00,  4.24it/s, Loss=0.738]\n"
          ]
        },
        {
          "output_type": "stream",
          "name": "stdout",
          "text": [
            "Epoch 8, Loss: 0.7850879341363907, lr = 0.0195\n"
          ]
        },
        {
          "output_type": "stream",
          "name": "stderr",
          "text": [
            "Conv->BN->ReLU with epoch 9: 100%|██████████| 20/20 [00:04<00:00,  4.24it/s, Loss=0.856]\n"
          ]
        },
        {
          "output_type": "stream",
          "name": "stdout",
          "text": [
            "Epoch 9, Loss: 0.6696423590183258, lr = 0.0195\n"
          ]
        },
        {
          "output_type": "stream",
          "name": "stderr",
          "text": [
            "Conv->BN->ReLU with epoch 10: 100%|██████████| 20/20 [00:04<00:00,  4.23it/s, Loss=0.595]\n"
          ]
        },
        {
          "output_type": "stream",
          "name": "stdout",
          "text": [
            "Epoch 10, Loss: 0.5700231045484543, lr = 0.0195\n"
          ]
        },
        {
          "output_type": "stream",
          "name": "stderr",
          "text": [
            "Conv->BN->ReLU with epoch 11: 100%|██████████| 20/20 [00:04<00:00,  4.25it/s, Loss=0.43]\n"
          ]
        },
        {
          "output_type": "stream",
          "name": "stdout",
          "text": [
            "Epoch 11, Loss: 0.4815214857459068, lr = 0.0195\n"
          ]
        },
        {
          "output_type": "stream",
          "name": "stderr",
          "text": [
            "Conv->BN->ReLU with epoch 12: 100%|██████████| 20/20 [00:04<00:00,  4.23it/s, Loss=0.526]\n"
          ]
        },
        {
          "output_type": "stream",
          "name": "stdout",
          "text": [
            "Epoch 12, Loss: 0.3628160908818245, lr = 0.0195\n"
          ]
        },
        {
          "output_type": "stream",
          "name": "stderr",
          "text": [
            "Conv->BN->ReLU with epoch 13: 100%|██████████| 20/20 [00:04<00:00,  4.24it/s, Loss=0.279]\n"
          ]
        },
        {
          "output_type": "stream",
          "name": "stdout",
          "text": [
            "Epoch 13, Loss: 0.3072511613368988, lr = 0.0195\n"
          ]
        },
        {
          "output_type": "stream",
          "name": "stderr",
          "text": [
            "Conv->BN->ReLU with epoch 14: 100%|██████████| 20/20 [00:04<00:00,  4.25it/s, Loss=0.2]\n"
          ]
        },
        {
          "output_type": "stream",
          "name": "stdout",
          "text": [
            "Epoch 14, Loss: 0.22433096617460252, lr = 0.0195\n"
          ]
        },
        {
          "output_type": "stream",
          "name": "stderr",
          "text": [
            "Conv->BN->ReLU with epoch 15: 100%|██████████| 20/20 [00:04<00:00,  4.26it/s, Loss=0.135]\n"
          ]
        },
        {
          "output_type": "stream",
          "name": "stdout",
          "text": [
            "Epoch 15, Loss: 0.1615201562643051, lr = 0.0195\n"
          ]
        },
        {
          "output_type": "stream",
          "name": "stderr",
          "text": [
            "Conv->BN->ReLU with epoch 16: 100%|██████████| 20/20 [00:04<00:00,  4.24it/s, Loss=0.0821]\n"
          ]
        },
        {
          "output_type": "stream",
          "name": "stdout",
          "text": [
            "Epoch 16, Loss: 0.11309757754206658, lr = 0.0195\n"
          ]
        },
        {
          "output_type": "stream",
          "name": "stderr",
          "text": [
            "Conv->BN->ReLU with epoch 17: 100%|██████████| 20/20 [00:04<00:00,  4.23it/s, Loss=0.0653]\n"
          ]
        },
        {
          "output_type": "stream",
          "name": "stdout",
          "text": [
            "Epoch 17, Loss: 0.08792343344539404, lr = 0.0195\n"
          ]
        },
        {
          "output_type": "stream",
          "name": "stderr",
          "text": [
            "Conv->BN->ReLU with epoch 18: 100%|██████████| 20/20 [00:04<00:00,  4.25it/s, Loss=0.0779]\n"
          ]
        },
        {
          "output_type": "stream",
          "name": "stdout",
          "text": [
            "Epoch 18, Loss: 0.06150409672409296, lr = 0.0195\n"
          ]
        },
        {
          "output_type": "stream",
          "name": "stderr",
          "text": [
            "Conv->BN->ReLU with epoch 19: 100%|██████████| 20/20 [00:04<00:00,  4.24it/s, Loss=0.0832]\n"
          ]
        },
        {
          "output_type": "stream",
          "name": "stdout",
          "text": [
            "Epoch 19, Loss: 0.042423274274915455, lr = 0.0195\n"
          ]
        },
        {
          "output_type": "stream",
          "name": "stderr",
          "text": [
            "Conv->BN->ReLU with epoch 20: 100%|██████████| 20/20 [00:04<00:00,  4.24it/s, Loss=0.063]\n"
          ]
        },
        {
          "output_type": "stream",
          "name": "stdout",
          "text": [
            "Epoch 20, Loss: 0.030693706683814527, lr = 0.0019500000000000001\n"
          ]
        },
        {
          "output_type": "stream",
          "name": "stderr",
          "text": [
            "Conv->BN->ReLU with epoch 21: 100%|██████████| 20/20 [00:04<00:00,  4.24it/s, Loss=0.00812]\n"
          ]
        },
        {
          "output_type": "stream",
          "name": "stdout",
          "text": [
            "Epoch 21, Loss: 0.01259091291576624, lr = 0.0019500000000000001\n"
          ]
        },
        {
          "output_type": "stream",
          "name": "stderr",
          "text": [
            "Conv->BN->ReLU with epoch 22: 100%|██████████| 20/20 [00:04<00:00,  4.25it/s, Loss=0.00793]\n"
          ]
        },
        {
          "output_type": "stream",
          "name": "stdout",
          "text": [
            "Epoch 22, Loss: 0.0068147711921483275, lr = 0.0019500000000000001\n"
          ]
        },
        {
          "output_type": "stream",
          "name": "stderr",
          "text": [
            "Conv->BN->ReLU with epoch 23: 100%|██████████| 20/20 [00:04<00:00,  4.25it/s, Loss=0.00498]\n"
          ]
        },
        {
          "output_type": "stream",
          "name": "stdout",
          "text": [
            "Epoch 23, Loss: 0.005387765332125127, lr = 0.0019500000000000001\n"
          ]
        },
        {
          "output_type": "stream",
          "name": "stderr",
          "text": [
            "Conv->BN->ReLU with epoch 24: 100%|██████████| 20/20 [00:04<00:00,  4.23it/s, Loss=0.00363]\n"
          ]
        },
        {
          "output_type": "stream",
          "name": "stdout",
          "text": [
            "Epoch 24, Loss: 0.004702321707736701, lr = 0.0019500000000000001\n"
          ]
        },
        {
          "output_type": "stream",
          "name": "stderr",
          "text": [
            "Conv->BN->ReLU with epoch 25: 100%|██████████| 20/20 [00:04<00:00,  4.27it/s, Loss=0.0043]\n"
          ]
        },
        {
          "output_type": "stream",
          "name": "stdout",
          "text": [
            "Epoch 25, Loss: 0.004457867750898003, lr = 0.0019500000000000001\n"
          ]
        },
        {
          "output_type": "stream",
          "name": "stderr",
          "text": [
            "Conv->BN->ReLU with epoch 26: 100%|██████████| 20/20 [00:04<00:00,  4.25it/s, Loss=0.00521]\n"
          ]
        },
        {
          "output_type": "stream",
          "name": "stdout",
          "text": [
            "Epoch 26, Loss: 0.004092991747893393, lr = 0.0019500000000000001\n"
          ]
        },
        {
          "output_type": "stream",
          "name": "stderr",
          "text": [
            "Conv->BN->ReLU with epoch 27: 100%|██████████| 20/20 [00:04<00:00,  4.26it/s, Loss=0.00403]\n"
          ]
        },
        {
          "output_type": "stream",
          "name": "stdout",
          "text": [
            "Epoch 27, Loss: 0.003939506132155657, lr = 0.0019500000000000001\n"
          ]
        },
        {
          "output_type": "stream",
          "name": "stderr",
          "text": [
            "Conv->BN->ReLU with epoch 28: 100%|██████████| 20/20 [00:04<00:00,  4.25it/s, Loss=0.00429]\n"
          ]
        },
        {
          "output_type": "stream",
          "name": "stdout",
          "text": [
            "Epoch 28, Loss: 0.0036955505842342974, lr = 0.0019500000000000001\n"
          ]
        },
        {
          "output_type": "stream",
          "name": "stderr",
          "text": [
            "Conv->BN->ReLU with epoch 29: 100%|██████████| 20/20 [00:04<00:00,  4.21it/s, Loss=0.00313]\n"
          ]
        },
        {
          "output_type": "stream",
          "name": "stdout",
          "text": [
            "Epoch 29, Loss: 0.0033429958741180597, lr = 0.0019500000000000001\n"
          ]
        },
        {
          "output_type": "stream",
          "name": "stderr",
          "text": [
            "Conv->BN->ReLU with epoch 30: 100%|██████████| 20/20 [00:04<00:00,  4.24it/s, Loss=0.0027]\n"
          ]
        },
        {
          "output_type": "stream",
          "name": "stdout",
          "text": [
            "Epoch 30, Loss: 0.0032741121598519386, lr = 0.0019500000000000001\n"
          ]
        },
        {
          "output_type": "stream",
          "name": "stderr",
          "text": [
            "Conv->BN->ReLU with epoch 31: 100%|██████████| 20/20 [00:04<00:00,  4.24it/s, Loss=0.00252]\n"
          ]
        },
        {
          "output_type": "stream",
          "name": "stdout",
          "text": [
            "Epoch 31, Loss: 0.0031602077302522956, lr = 0.0019500000000000001\n"
          ]
        },
        {
          "output_type": "stream",
          "name": "stderr",
          "text": [
            "Conv->BN->ReLU with epoch 32: 100%|██████████| 20/20 [00:04<00:00,  4.25it/s, Loss=0.00392]\n"
          ]
        },
        {
          "output_type": "stream",
          "name": "stdout",
          "text": [
            "Epoch 32, Loss: 0.0031129497569054366, lr = 0.0019500000000000001\n"
          ]
        },
        {
          "output_type": "stream",
          "name": "stderr",
          "text": [
            "Conv->BN->ReLU with epoch 33: 100%|██████████| 20/20 [00:04<00:00,  4.23it/s, Loss=0.00317]\n"
          ]
        },
        {
          "output_type": "stream",
          "name": "stdout",
          "text": [
            "Epoch 33, Loss: 0.0028452408616431056, lr = 0.0019500000000000001\n"
          ]
        },
        {
          "output_type": "stream",
          "name": "stderr",
          "text": [
            "Conv->BN->ReLU with epoch 34: 100%|██████████| 20/20 [00:04<00:00,  4.26it/s, Loss=0.00316]\n"
          ]
        },
        {
          "output_type": "stream",
          "name": "stdout",
          "text": [
            "Epoch 34, Loss: 0.0027907444979064166, lr = 0.0019500000000000001\n"
          ]
        },
        {
          "output_type": "stream",
          "name": "stderr",
          "text": [
            "Conv->BN->ReLU with epoch 35: 100%|██████████| 20/20 [00:04<00:00,  4.23it/s, Loss=0.00319]\n"
          ]
        },
        {
          "output_type": "stream",
          "name": "stdout",
          "text": [
            "Epoch 35, Loss: 0.002711448282934725, lr = 0.0019500000000000001\n"
          ]
        },
        {
          "output_type": "stream",
          "name": "stderr",
          "text": [
            "Conv->BN->ReLU with epoch 36: 100%|██████████| 20/20 [00:04<00:00,  4.16it/s, Loss=0.00394]\n"
          ]
        },
        {
          "output_type": "stream",
          "name": "stdout",
          "text": [
            "Epoch 36, Loss: 0.00266778813675046, lr = 0.0019500000000000001\n"
          ]
        },
        {
          "output_type": "stream",
          "name": "stderr",
          "text": [
            "Conv->BN->ReLU with epoch 37: 100%|██████████| 20/20 [00:04<00:00,  4.25it/s, Loss=0.0023]\n"
          ]
        },
        {
          "output_type": "stream",
          "name": "stdout",
          "text": [
            "Epoch 37, Loss: 0.002521894208621234, lr = 0.0019500000000000001\n"
          ]
        },
        {
          "output_type": "stream",
          "name": "stderr",
          "text": [
            "Conv->BN->ReLU with epoch 38: 100%|██████████| 20/20 [00:04<00:00,  4.26it/s, Loss=0.00293]\n"
          ]
        },
        {
          "output_type": "stream",
          "name": "stdout",
          "text": [
            "Epoch 38, Loss: 0.00246194388018921, lr = 0.0019500000000000001\n"
          ]
        },
        {
          "output_type": "stream",
          "name": "stderr",
          "text": [
            "Conv->BN->ReLU with epoch 39: 100%|██████████| 20/20 [00:04<00:00,  4.24it/s, Loss=0.00278]\n"
          ]
        },
        {
          "output_type": "stream",
          "name": "stdout",
          "text": [
            "Epoch 39, Loss: 0.0024739647749811413, lr = 0.0019500000000000001\n"
          ]
        },
        {
          "output_type": "stream",
          "name": "stderr",
          "text": [
            "Conv->BN->ReLU with epoch 40: 100%|██████████| 20/20 [00:04<00:00,  4.22it/s, Loss=0.00271]\n"
          ]
        },
        {
          "output_type": "stream",
          "name": "stdout",
          "text": [
            "Epoch 40, Loss: 0.0023027318879030646, lr = 0.00019500000000000002\n"
          ]
        },
        {
          "output_type": "stream",
          "name": "stderr",
          "text": [
            "Conv->BN->ReLU with epoch 41: 100%|██████████| 20/20 [00:04<00:00,  4.22it/s, Loss=0.00272]\n"
          ]
        },
        {
          "output_type": "stream",
          "name": "stdout",
          "text": [
            "Epoch 41, Loss: 0.002285374654456973, lr = 0.00019500000000000002\n"
          ]
        },
        {
          "output_type": "stream",
          "name": "stderr",
          "text": [
            "Conv->BN->ReLU with epoch 42: 100%|██████████| 20/20 [00:04<00:00,  4.24it/s, Loss=0.00206]\n"
          ]
        },
        {
          "output_type": "stream",
          "name": "stdout",
          "text": [
            "Epoch 42, Loss: 0.0022929537342861296, lr = 0.00019500000000000002\n"
          ]
        },
        {
          "output_type": "stream",
          "name": "stderr",
          "text": [
            "Conv->BN->ReLU with epoch 43: 100%|██████████| 20/20 [00:04<00:00,  4.22it/s, Loss=0.00276]\n"
          ]
        },
        {
          "output_type": "stream",
          "name": "stdout",
          "text": [
            "Epoch 43, Loss: 0.0022970597958192228, lr = 0.00019500000000000002\n"
          ]
        },
        {
          "output_type": "stream",
          "name": "stderr",
          "text": [
            "Conv->BN->ReLU with epoch 44: 100%|██████████| 20/20 [00:04<00:00,  4.28it/s, Loss=0.00254]\n"
          ]
        },
        {
          "output_type": "stream",
          "name": "stdout",
          "text": [
            "Epoch 44, Loss: 0.002248039108235389, lr = 0.00019500000000000002\n"
          ]
        },
        {
          "output_type": "stream",
          "name": "stderr",
          "text": [
            "Conv->BN->ReLU with epoch 45: 100%|██████████| 20/20 [00:04<00:00,  4.23it/s, Loss=0.00294]\n"
          ]
        },
        {
          "output_type": "stream",
          "name": "stdout",
          "text": [
            "Epoch 45, Loss: 0.002304932347033173, lr = 0.00019500000000000002\n"
          ]
        },
        {
          "output_type": "stream",
          "name": "stderr",
          "text": [
            "Conv->BN->ReLU with epoch 46: 100%|██████████| 20/20 [00:04<00:00,  4.24it/s, Loss=0.00241]\n"
          ]
        },
        {
          "output_type": "stream",
          "name": "stdout",
          "text": [
            "Epoch 46, Loss: 0.0023219519527629016, lr = 0.00019500000000000002\n"
          ]
        },
        {
          "output_type": "stream",
          "name": "stderr",
          "text": [
            "Conv->BN->ReLU with epoch 47: 100%|██████████| 20/20 [00:04<00:00,  4.26it/s, Loss=0.00251]\n"
          ]
        },
        {
          "output_type": "stream",
          "name": "stdout",
          "text": [
            "Epoch 47, Loss: 0.0022869135136716068, lr = 0.00019500000000000002\n"
          ]
        },
        {
          "output_type": "stream",
          "name": "stderr",
          "text": [
            "Conv->BN->ReLU with epoch 48: 100%|██████████| 20/20 [00:04<00:00,  4.24it/s, Loss=0.00308]\n"
          ]
        },
        {
          "output_type": "stream",
          "name": "stdout",
          "text": [
            "Epoch 48, Loss: 0.0022899123025126754, lr = 0.00019500000000000002\n"
          ]
        },
        {
          "output_type": "stream",
          "name": "stderr",
          "text": [
            "Conv->BN->ReLU with epoch 49: 100%|██████████| 20/20 [00:04<00:00,  4.26it/s, Loss=0.00309]\n"
          ]
        },
        {
          "output_type": "stream",
          "name": "stdout",
          "text": [
            "Epoch 49, Loss: 0.002275656722486019, lr = 0.00019500000000000002\n"
          ]
        },
        {
          "output_type": "stream",
          "name": "stderr",
          "text": [
            "Conv->BN->ReLU with epoch 50: 100%|██████████| 20/20 [00:04<00:00,  4.26it/s, Loss=0.00226]\n"
          ]
        },
        {
          "output_type": "stream",
          "name": "stdout",
          "text": [
            "Epoch 50, Loss: 0.002299058728385717, lr = 0.00019500000000000002\n"
          ]
        },
        {
          "output_type": "stream",
          "name": "stderr",
          "text": [
            "Conv->ReLU->BN with epoch 1: 100%|██████████| 20/20 [00:04<00:00,  4.25it/s, Loss=1.89]\n"
          ]
        },
        {
          "output_type": "stream",
          "name": "stdout",
          "text": [
            "Epoch 1, Loss: 2.0309005200862886, lr = 0.0195\n"
          ]
        },
        {
          "output_type": "stream",
          "name": "stderr",
          "text": [
            "Conv->ReLU->BN with epoch 2: 100%|██████████| 20/20 [00:04<00:00,  4.26it/s, Loss=1.51]\n"
          ]
        },
        {
          "output_type": "stream",
          "name": "stdout",
          "text": [
            "Epoch 2, Loss: 1.6275838017463684, lr = 0.0195\n"
          ]
        },
        {
          "output_type": "stream",
          "name": "stderr",
          "text": [
            "Conv->ReLU->BN with epoch 3: 100%|██████████| 20/20 [00:04<00:00,  4.23it/s, Loss=1.47]\n"
          ]
        },
        {
          "output_type": "stream",
          "name": "stdout",
          "text": [
            "Epoch 3, Loss: 1.4679478645324706, lr = 0.0195\n"
          ]
        },
        {
          "output_type": "stream",
          "name": "stderr",
          "text": [
            "Conv->ReLU->BN with epoch 4: 100%|██████████| 20/20 [00:04<00:00,  4.26it/s, Loss=1.39]\n"
          ]
        },
        {
          "output_type": "stream",
          "name": "stdout",
          "text": [
            "Epoch 4, Loss: 1.3609124064445495, lr = 0.0195\n"
          ]
        },
        {
          "output_type": "stream",
          "name": "stderr",
          "text": [
            "Conv->ReLU->BN with epoch 5: 100%|██████████| 20/20 [00:04<00:00,  4.21it/s, Loss=1.22]\n"
          ]
        },
        {
          "output_type": "stream",
          "name": "stdout",
          "text": [
            "Epoch 5, Loss: 1.244194084405899, lr = 0.0195\n"
          ]
        },
        {
          "output_type": "stream",
          "name": "stderr",
          "text": [
            "Conv->ReLU->BN with epoch 6: 100%|██████████| 20/20 [00:04<00:00,  4.24it/s, Loss=1.2]\n"
          ]
        },
        {
          "output_type": "stream",
          "name": "stdout",
          "text": [
            "Epoch 6, Loss: 1.140367752313614, lr = 0.0195\n"
          ]
        },
        {
          "output_type": "stream",
          "name": "stderr",
          "text": [
            "Conv->ReLU->BN with epoch 7: 100%|██████████| 20/20 [00:04<00:00,  4.22it/s, Loss=0.895]\n"
          ]
        },
        {
          "output_type": "stream",
          "name": "stdout",
          "text": [
            "Epoch 7, Loss: 1.0798672020435334, lr = 0.0195\n"
          ]
        },
        {
          "output_type": "stream",
          "name": "stderr",
          "text": [
            "Conv->ReLU->BN with epoch 8: 100%|██████████| 20/20 [00:04<00:00,  4.24it/s, Loss=0.854]\n"
          ]
        },
        {
          "output_type": "stream",
          "name": "stdout",
          "text": [
            "Epoch 8, Loss: 0.9692136198282242, lr = 0.0195\n"
          ]
        },
        {
          "output_type": "stream",
          "name": "stderr",
          "text": [
            "Conv->ReLU->BN with epoch 9: 100%|██████████| 20/20 [00:04<00:00,  4.22it/s, Loss=1.02]\n"
          ]
        },
        {
          "output_type": "stream",
          "name": "stdout",
          "text": [
            "Epoch 9, Loss: 0.8877720326185227, lr = 0.0195\n"
          ]
        },
        {
          "output_type": "stream",
          "name": "stderr",
          "text": [
            "Conv->ReLU->BN with epoch 10: 100%|██████████| 20/20 [00:04<00:00,  4.26it/s, Loss=0.933]\n"
          ]
        },
        {
          "output_type": "stream",
          "name": "stdout",
          "text": [
            "Epoch 10, Loss: 0.8060859084129334, lr = 0.0195\n"
          ]
        },
        {
          "output_type": "stream",
          "name": "stderr",
          "text": [
            "Conv->ReLU->BN with epoch 11: 100%|██████████| 20/20 [00:04<00:00,  4.25it/s, Loss=0.631]\n"
          ]
        },
        {
          "output_type": "stream",
          "name": "stdout",
          "text": [
            "Epoch 11, Loss: 0.6882121831178665, lr = 0.0195\n"
          ]
        },
        {
          "output_type": "stream",
          "name": "stderr",
          "text": [
            "Conv->ReLU->BN with epoch 12: 100%|██████████| 20/20 [00:04<00:00,  4.23it/s, Loss=0.634]\n"
          ]
        },
        {
          "output_type": "stream",
          "name": "stdout",
          "text": [
            "Epoch 12, Loss: 0.6199712947010994, lr = 0.0195\n"
          ]
        },
        {
          "output_type": "stream",
          "name": "stderr",
          "text": [
            "Conv->ReLU->BN with epoch 13: 100%|██████████| 20/20 [00:04<00:00,  4.27it/s, Loss=0.697]\n"
          ]
        },
        {
          "output_type": "stream",
          "name": "stdout",
          "text": [
            "Epoch 13, Loss: 0.5540510088205337, lr = 0.0195\n"
          ]
        },
        {
          "output_type": "stream",
          "name": "stderr",
          "text": [
            "Conv->ReLU->BN with epoch 14: 100%|██████████| 20/20 [00:04<00:00,  4.23it/s, Loss=0.672]\n"
          ]
        },
        {
          "output_type": "stream",
          "name": "stdout",
          "text": [
            "Epoch 14, Loss: 0.4876261368393898, lr = 0.0195\n"
          ]
        },
        {
          "output_type": "stream",
          "name": "stderr",
          "text": [
            "Conv->ReLU->BN with epoch 15: 100%|██████████| 20/20 [00:04<00:00,  4.24it/s, Loss=0.429]\n"
          ]
        },
        {
          "output_type": "stream",
          "name": "stdout",
          "text": [
            "Epoch 15, Loss: 0.43640491664409636, lr = 0.0195\n"
          ]
        },
        {
          "output_type": "stream",
          "name": "stderr",
          "text": [
            "Conv->ReLU->BN with epoch 16: 100%|██████████| 20/20 [00:04<00:00,  4.24it/s, Loss=0.487]\n"
          ]
        },
        {
          "output_type": "stream",
          "name": "stdout",
          "text": [
            "Epoch 16, Loss: 0.3832627207040787, lr = 0.0195\n"
          ]
        },
        {
          "output_type": "stream",
          "name": "stderr",
          "text": [
            "Conv->ReLU->BN with epoch 17: 100%|██████████| 20/20 [00:04<00:00,  4.23it/s, Loss=0.275]\n"
          ]
        },
        {
          "output_type": "stream",
          "name": "stdout",
          "text": [
            "Epoch 17, Loss: 0.32653583586215973, lr = 0.0195\n"
          ]
        },
        {
          "output_type": "stream",
          "name": "stderr",
          "text": [
            "Conv->ReLU->BN with epoch 18: 100%|██████████| 20/20 [00:04<00:00,  4.12it/s, Loss=0.298]\n"
          ]
        },
        {
          "output_type": "stream",
          "name": "stdout",
          "text": [
            "Epoch 18, Loss: 0.23512262031435965, lr = 0.0195\n"
          ]
        },
        {
          "output_type": "stream",
          "name": "stderr",
          "text": [
            "Conv->ReLU->BN with epoch 19: 100%|██████████| 20/20 [00:04<00:00,  4.22it/s, Loss=0.248]\n"
          ]
        },
        {
          "output_type": "stream",
          "name": "stdout",
          "text": [
            "Epoch 19, Loss: 0.18008395805954933, lr = 0.0195\n"
          ]
        },
        {
          "output_type": "stream",
          "name": "stderr",
          "text": [
            "Conv->ReLU->BN with epoch 20: 100%|██████████| 20/20 [00:04<00:00,  4.23it/s, Loss=0.228]\n"
          ]
        },
        {
          "output_type": "stream",
          "name": "stdout",
          "text": [
            "Epoch 20, Loss: 0.16710067130625247, lr = 0.0019500000000000001\n"
          ]
        },
        {
          "output_type": "stream",
          "name": "stderr",
          "text": [
            "Conv->ReLU->BN with epoch 21: 100%|██████████| 20/20 [00:04<00:00,  4.22it/s, Loss=0.0597]\n"
          ]
        },
        {
          "output_type": "stream",
          "name": "stdout",
          "text": [
            "Epoch 21, Loss: 0.0882003515958786, lr = 0.0019500000000000001\n"
          ]
        },
        {
          "output_type": "stream",
          "name": "stderr",
          "text": [
            "Conv->ReLU->BN with epoch 22: 100%|██████████| 20/20 [00:04<00:00,  4.25it/s, Loss=0.0346]\n"
          ]
        },
        {
          "output_type": "stream",
          "name": "stdout",
          "text": [
            "Epoch 22, Loss: 0.03493042811751366, lr = 0.0019500000000000001\n"
          ]
        },
        {
          "output_type": "stream",
          "name": "stderr",
          "text": [
            "Conv->ReLU->BN with epoch 23: 100%|██████████| 20/20 [00:04<00:00,  4.22it/s, Loss=0.026]\n"
          ]
        },
        {
          "output_type": "stream",
          "name": "stdout",
          "text": [
            "Epoch 23, Loss: 0.02190313031896949, lr = 0.0019500000000000001\n"
          ]
        },
        {
          "output_type": "stream",
          "name": "stderr",
          "text": [
            "Conv->ReLU->BN with epoch 24: 100%|██████████| 20/20 [00:04<00:00,  4.24it/s, Loss=0.0123]\n"
          ]
        },
        {
          "output_type": "stream",
          "name": "stdout",
          "text": [
            "Epoch 24, Loss: 0.01728719808161259, lr = 0.0019500000000000001\n"
          ]
        },
        {
          "output_type": "stream",
          "name": "stderr",
          "text": [
            "Conv->ReLU->BN with epoch 25: 100%|██████████| 20/20 [00:04<00:00,  4.22it/s, Loss=0.017]\n"
          ]
        },
        {
          "output_type": "stream",
          "name": "stdout",
          "text": [
            "Epoch 25, Loss: 0.01471223020926118, lr = 0.0019500000000000001\n"
          ]
        },
        {
          "output_type": "stream",
          "name": "stderr",
          "text": [
            "Conv->ReLU->BN with epoch 26: 100%|██████████| 20/20 [00:04<00:00,  4.24it/s, Loss=0.0161]\n"
          ]
        },
        {
          "output_type": "stream",
          "name": "stdout",
          "text": [
            "Epoch 26, Loss: 0.012674045003950595, lr = 0.0019500000000000001\n"
          ]
        },
        {
          "output_type": "stream",
          "name": "stderr",
          "text": [
            "Conv->ReLU->BN with epoch 27: 100%|██████████| 20/20 [00:04<00:00,  4.23it/s, Loss=0.0122]\n"
          ]
        },
        {
          "output_type": "stream",
          "name": "stdout",
          "text": [
            "Epoch 27, Loss: 0.012021714821457863, lr = 0.0019500000000000001\n"
          ]
        },
        {
          "output_type": "stream",
          "name": "stderr",
          "text": [
            "Conv->ReLU->BN with epoch 28: 100%|██████████| 20/20 [00:04<00:00,  4.24it/s, Loss=0.00947]\n"
          ]
        },
        {
          "output_type": "stream",
          "name": "stdout",
          "text": [
            "Epoch 28, Loss: 0.011105207912623882, lr = 0.0019500000000000001\n"
          ]
        },
        {
          "output_type": "stream",
          "name": "stderr",
          "text": [
            "Conv->ReLU->BN with epoch 29: 100%|██████████| 20/20 [00:04<00:00,  4.25it/s, Loss=0.00867]\n"
          ]
        },
        {
          "output_type": "stream",
          "name": "stdout",
          "text": [
            "Epoch 29, Loss: 0.01004536640830338, lr = 0.0019500000000000001\n"
          ]
        },
        {
          "output_type": "stream",
          "name": "stderr",
          "text": [
            "Conv->ReLU->BN with epoch 30: 100%|██████████| 20/20 [00:04<00:00,  4.25it/s, Loss=0.00816]\n"
          ]
        },
        {
          "output_type": "stream",
          "name": "stdout",
          "text": [
            "Epoch 30, Loss: 0.009617823711596429, lr = 0.0019500000000000001\n"
          ]
        },
        {
          "output_type": "stream",
          "name": "stderr",
          "text": [
            "Conv->ReLU->BN with epoch 31: 100%|██████████| 20/20 [00:04<00:00,  4.26it/s, Loss=0.012]\n"
          ]
        },
        {
          "output_type": "stream",
          "name": "stdout",
          "text": [
            "Epoch 31, Loss: 0.009033069340512156, lr = 0.0019500000000000001\n"
          ]
        },
        {
          "output_type": "stream",
          "name": "stderr",
          "text": [
            "Conv->ReLU->BN with epoch 32: 100%|██████████| 20/20 [00:04<00:00,  4.19it/s, Loss=0.00706]\n"
          ]
        },
        {
          "output_type": "stream",
          "name": "stdout",
          "text": [
            "Epoch 32, Loss: 0.008612003619782626, lr = 0.0019500000000000001\n"
          ]
        },
        {
          "output_type": "stream",
          "name": "stderr",
          "text": [
            "Conv->ReLU->BN with epoch 33: 100%|██████████| 20/20 [00:04<00:00,  4.25it/s, Loss=0.00761]\n"
          ]
        },
        {
          "output_type": "stream",
          "name": "stdout",
          "text": [
            "Epoch 33, Loss: 0.007710420456714928, lr = 0.0019500000000000001\n"
          ]
        },
        {
          "output_type": "stream",
          "name": "stderr",
          "text": [
            "Conv->ReLU->BN with epoch 34: 100%|██████████| 20/20 [00:04<00:00,  4.22it/s, Loss=0.00734]\n"
          ]
        },
        {
          "output_type": "stream",
          "name": "stdout",
          "text": [
            "Epoch 34, Loss: 0.007735825725831091, lr = 0.0019500000000000001\n"
          ]
        },
        {
          "output_type": "stream",
          "name": "stderr",
          "text": [
            "Conv->ReLU->BN with epoch 35: 100%|██████████| 20/20 [00:04<00:00,  4.24it/s, Loss=0.00882]\n"
          ]
        },
        {
          "output_type": "stream",
          "name": "stdout",
          "text": [
            "Epoch 35, Loss: 0.007359473826363682, lr = 0.0019500000000000001\n"
          ]
        },
        {
          "output_type": "stream",
          "name": "stderr",
          "text": [
            "Conv->ReLU->BN with epoch 36: 100%|██████████| 20/20 [00:04<00:00,  4.25it/s, Loss=0.0116]\n"
          ]
        },
        {
          "output_type": "stream",
          "name": "stdout",
          "text": [
            "Epoch 36, Loss: 0.00714544034563005, lr = 0.0019500000000000001\n"
          ]
        },
        {
          "output_type": "stream",
          "name": "stderr",
          "text": [
            "Conv->ReLU->BN with epoch 37: 100%|██████████| 20/20 [00:04<00:00,  4.23it/s, Loss=0.00783]\n"
          ]
        },
        {
          "output_type": "stream",
          "name": "stdout",
          "text": [
            "Epoch 37, Loss: 0.00657462514936924, lr = 0.0019500000000000001\n"
          ]
        },
        {
          "output_type": "stream",
          "name": "stderr",
          "text": [
            "Conv->ReLU->BN with epoch 38: 100%|██████████| 20/20 [00:04<00:00,  4.24it/s, Loss=0.00754]\n"
          ]
        },
        {
          "output_type": "stream",
          "name": "stdout",
          "text": [
            "Epoch 38, Loss: 0.0063123301370069385, lr = 0.0019500000000000001\n"
          ]
        },
        {
          "output_type": "stream",
          "name": "stderr",
          "text": [
            "Conv->ReLU->BN with epoch 39: 100%|██████████| 20/20 [00:04<00:00,  4.19it/s, Loss=0.00883]\n"
          ]
        },
        {
          "output_type": "stream",
          "name": "stdout",
          "text": [
            "Epoch 39, Loss: 0.006274360255338252, lr = 0.0019500000000000001\n"
          ]
        },
        {
          "output_type": "stream",
          "name": "stderr",
          "text": [
            "Conv->ReLU->BN with epoch 40: 100%|██████████| 20/20 [00:04<00:00,  4.24it/s, Loss=0.00603]\n"
          ]
        },
        {
          "output_type": "stream",
          "name": "stdout",
          "text": [
            "Epoch 40, Loss: 0.005801811488345266, lr = 0.00019500000000000002\n"
          ]
        },
        {
          "output_type": "stream",
          "name": "stderr",
          "text": [
            "Conv->ReLU->BN with epoch 41: 100%|██████████| 20/20 [00:04<00:00,  4.24it/s, Loss=0.00686]\n"
          ]
        },
        {
          "output_type": "stream",
          "name": "stdout",
          "text": [
            "Epoch 41, Loss: 0.0058406668715178965, lr = 0.00019500000000000002\n"
          ]
        },
        {
          "output_type": "stream",
          "name": "stderr",
          "text": [
            "Conv->ReLU->BN with epoch 42: 100%|██████████| 20/20 [00:04<00:00,  4.25it/s, Loss=0.00611]\n"
          ]
        },
        {
          "output_type": "stream",
          "name": "stdout",
          "text": [
            "Epoch 42, Loss: 0.00574767254292965, lr = 0.00019500000000000002\n"
          ]
        },
        {
          "output_type": "stream",
          "name": "stderr",
          "text": [
            "Conv->ReLU->BN with epoch 43: 100%|██████████| 20/20 [00:04<00:00,  4.25it/s, Loss=0.00613]\n"
          ]
        },
        {
          "output_type": "stream",
          "name": "stdout",
          "text": [
            "Epoch 43, Loss: 0.005585390445776284, lr = 0.00019500000000000002\n"
          ]
        },
        {
          "output_type": "stream",
          "name": "stderr",
          "text": [
            "Conv->ReLU->BN with epoch 44: 100%|██████████| 20/20 [00:04<00:00,  4.18it/s, Loss=0.00586]\n"
          ]
        },
        {
          "output_type": "stream",
          "name": "stdout",
          "text": [
            "Epoch 44, Loss: 0.005552288610488176, lr = 0.00019500000000000002\n"
          ]
        },
        {
          "output_type": "stream",
          "name": "stderr",
          "text": [
            "Conv->ReLU->BN with epoch 45: 100%|██████████| 20/20 [00:04<00:00,  4.26it/s, Loss=0.00673]\n"
          ]
        },
        {
          "output_type": "stream",
          "name": "stdout",
          "text": [
            "Epoch 45, Loss: 0.005654029129073024, lr = 0.00019500000000000002\n"
          ]
        },
        {
          "output_type": "stream",
          "name": "stderr",
          "text": [
            "Conv->ReLU->BN with epoch 46: 100%|██████████| 20/20 [00:04<00:00,  4.25it/s, Loss=0.00672]\n"
          ]
        },
        {
          "output_type": "stream",
          "name": "stdout",
          "text": [
            "Epoch 46, Loss: 0.005595211731269955, lr = 0.00019500000000000002\n"
          ]
        },
        {
          "output_type": "stream",
          "name": "stderr",
          "text": [
            "Conv->ReLU->BN with epoch 47: 100%|██████████| 20/20 [00:04<00:00,  4.25it/s, Loss=0.0103]\n"
          ]
        },
        {
          "output_type": "stream",
          "name": "stdout",
          "text": [
            "Epoch 47, Loss: 0.005832883040420711, lr = 0.00019500000000000002\n"
          ]
        },
        {
          "output_type": "stream",
          "name": "stderr",
          "text": [
            "Conv->ReLU->BN with epoch 48: 100%|██████████| 20/20 [00:04<00:00,  4.25it/s, Loss=0.00736]\n"
          ]
        },
        {
          "output_type": "stream",
          "name": "stdout",
          "text": [
            "Epoch 48, Loss: 0.0056260839570313696, lr = 0.00019500000000000002\n"
          ]
        },
        {
          "output_type": "stream",
          "name": "stderr",
          "text": [
            "Conv->ReLU->BN with epoch 49: 100%|██████████| 20/20 [00:04<00:00,  4.24it/s, Loss=0.00566]\n"
          ]
        },
        {
          "output_type": "stream",
          "name": "stdout",
          "text": [
            "Epoch 49, Loss: 0.005607665702700615, lr = 0.00019500000000000002\n"
          ]
        },
        {
          "output_type": "stream",
          "name": "stderr",
          "text": [
            "Conv->ReLU->BN with epoch 50: 100%|██████████| 20/20 [00:04<00:00,  4.26it/s, Loss=0.007]\n"
          ]
        },
        {
          "output_type": "stream",
          "name": "stdout",
          "text": [
            "Epoch 50, Loss: 0.005565792368724942, lr = 0.00019500000000000002\n"
          ]
        },
        {
          "output_type": "stream",
          "name": "stderr",
          "text": [
            "Conv->LeakyReLU->BN with epoch 1: 100%|██████████| 20/20 [00:04<00:00,  4.24it/s, Loss=1.81]\n"
          ]
        },
        {
          "output_type": "stream",
          "name": "stdout",
          "text": [
            "Epoch 1, Loss: 2.0661547064781187, lr = 0.0195\n"
          ]
        },
        {
          "output_type": "stream",
          "name": "stderr",
          "text": [
            "Conv->LeakyReLU->BN with epoch 2: 100%|██████████| 20/20 [00:04<00:00,  4.24it/s, Loss=1.52]\n"
          ]
        },
        {
          "output_type": "stream",
          "name": "stdout",
          "text": [
            "Epoch 2, Loss: 1.6364109814167023, lr = 0.0195\n"
          ]
        },
        {
          "output_type": "stream",
          "name": "stderr",
          "text": [
            "Conv->LeakyReLU->BN with epoch 3: 100%|██████████| 20/20 [00:04<00:00,  4.22it/s, Loss=1.38]\n"
          ]
        },
        {
          "output_type": "stream",
          "name": "stdout",
          "text": [
            "Epoch 3, Loss: 1.4403739392757415, lr = 0.0195\n"
          ]
        },
        {
          "output_type": "stream",
          "name": "stderr",
          "text": [
            "Conv->LeakyReLU->BN with epoch 4: 100%|██████████| 20/20 [00:04<00:00,  4.25it/s, Loss=1.35]\n"
          ]
        },
        {
          "output_type": "stream",
          "name": "stdout",
          "text": [
            "Epoch 4, Loss: 1.3031920075416565, lr = 0.0195\n"
          ]
        },
        {
          "output_type": "stream",
          "name": "stderr",
          "text": [
            "Conv->LeakyReLU->BN with epoch 5: 100%|██████████| 20/20 [00:04<00:00,  4.24it/s, Loss=1.08]\n"
          ]
        },
        {
          "output_type": "stream",
          "name": "stdout",
          "text": [
            "Epoch 5, Loss: 1.1878816723823546, lr = 0.0195\n"
          ]
        },
        {
          "output_type": "stream",
          "name": "stderr",
          "text": [
            "Conv->LeakyReLU->BN with epoch 6: 100%|██████████| 20/20 [00:04<00:00,  4.19it/s, Loss=1.23]\n"
          ]
        },
        {
          "output_type": "stream",
          "name": "stdout",
          "text": [
            "Epoch 6, Loss: 1.0795748859643937, lr = 0.0195\n"
          ]
        },
        {
          "output_type": "stream",
          "name": "stderr",
          "text": [
            "Conv->LeakyReLU->BN with epoch 7: 100%|██████████| 20/20 [00:04<00:00,  4.25it/s, Loss=0.867]\n"
          ]
        },
        {
          "output_type": "stream",
          "name": "stdout",
          "text": [
            "Epoch 7, Loss: 0.9815467655658722, lr = 0.0195\n"
          ]
        },
        {
          "output_type": "stream",
          "name": "stderr",
          "text": [
            "Conv->LeakyReLU->BN with epoch 8: 100%|██████████| 20/20 [00:04<00:00,  4.24it/s, Loss=0.671]\n"
          ]
        },
        {
          "output_type": "stream",
          "name": "stdout",
          "text": [
            "Epoch 8, Loss: 0.8663151234388351, lr = 0.0195\n"
          ]
        },
        {
          "output_type": "stream",
          "name": "stderr",
          "text": [
            "Conv->LeakyReLU->BN with epoch 9: 100%|██████████| 20/20 [00:04<00:00,  4.26it/s, Loss=0.975]\n"
          ]
        },
        {
          "output_type": "stream",
          "name": "stdout",
          "text": [
            "Epoch 9, Loss: 0.7611224293708801, lr = 0.0195\n"
          ]
        },
        {
          "output_type": "stream",
          "name": "stderr",
          "text": [
            "Conv->LeakyReLU->BN with epoch 10: 100%|██████████| 20/20 [00:04<00:00,  4.28it/s, Loss=0.888]\n"
          ]
        },
        {
          "output_type": "stream",
          "name": "stdout",
          "text": [
            "Epoch 10, Loss: 0.7201717346906662, lr = 0.0195\n"
          ]
        },
        {
          "output_type": "stream",
          "name": "stderr",
          "text": [
            "Conv->LeakyReLU->BN with epoch 11: 100%|██████████| 20/20 [00:04<00:00,  4.25it/s, Loss=0.534]\n"
          ]
        },
        {
          "output_type": "stream",
          "name": "stdout",
          "text": [
            "Epoch 11, Loss: 0.5880849599838257, lr = 0.0195\n"
          ]
        },
        {
          "output_type": "stream",
          "name": "stderr",
          "text": [
            "Conv->LeakyReLU->BN with epoch 12: 100%|██████████| 20/20 [00:04<00:00,  4.23it/s, Loss=0.556]\n"
          ]
        },
        {
          "output_type": "stream",
          "name": "stdout",
          "text": [
            "Epoch 12, Loss: 0.4920352816581726, lr = 0.0195\n"
          ]
        },
        {
          "output_type": "stream",
          "name": "stderr",
          "text": [
            "Conv->LeakyReLU->BN with epoch 13: 100%|██████████| 20/20 [00:04<00:00,  4.24it/s, Loss=0.516]\n"
          ]
        },
        {
          "output_type": "stream",
          "name": "stdout",
          "text": [
            "Epoch 13, Loss: 0.4511862114071846, lr = 0.0195\n"
          ]
        },
        {
          "output_type": "stream",
          "name": "stderr",
          "text": [
            "Conv->LeakyReLU->BN with epoch 14: 100%|██████████| 20/20 [00:04<00:00,  4.26it/s, Loss=0.41]\n"
          ]
        },
        {
          "output_type": "stream",
          "name": "stdout",
          "text": [
            "Epoch 14, Loss: 0.4083602339029312, lr = 0.0195\n"
          ]
        },
        {
          "output_type": "stream",
          "name": "stderr",
          "text": [
            "Conv->LeakyReLU->BN with epoch 15: 100%|██████████| 20/20 [00:04<00:00,  4.22it/s, Loss=0.326]\n"
          ]
        },
        {
          "output_type": "stream",
          "name": "stdout",
          "text": [
            "Epoch 15, Loss: 0.33505981490015985, lr = 0.0195\n"
          ]
        },
        {
          "output_type": "stream",
          "name": "stderr",
          "text": [
            "Conv->LeakyReLU->BN with epoch 16: 100%|██████████| 20/20 [00:04<00:00,  4.22it/s, Loss=0.244]\n"
          ]
        },
        {
          "output_type": "stream",
          "name": "stdout",
          "text": [
            "Epoch 16, Loss: 0.2574136257171631, lr = 0.0195\n"
          ]
        },
        {
          "output_type": "stream",
          "name": "stderr",
          "text": [
            "Conv->LeakyReLU->BN with epoch 17: 100%|██████████| 20/20 [00:04<00:00,  4.25it/s, Loss=0.221]\n"
          ]
        },
        {
          "output_type": "stream",
          "name": "stdout",
          "text": [
            "Epoch 17, Loss: 0.18116320706903935, lr = 0.0195\n"
          ]
        },
        {
          "output_type": "stream",
          "name": "stderr",
          "text": [
            "Conv->LeakyReLU->BN with epoch 18: 100%|██████████| 20/20 [00:04<00:00,  4.23it/s, Loss=0.093]\n"
          ]
        },
        {
          "output_type": "stream",
          "name": "stdout",
          "text": [
            "Epoch 18, Loss: 0.11969769597053528, lr = 0.0195\n"
          ]
        },
        {
          "output_type": "stream",
          "name": "stderr",
          "text": [
            "Conv->LeakyReLU->BN with epoch 19: 100%|██████████| 20/20 [00:04<00:00,  4.23it/s, Loss=0.0612]\n"
          ]
        },
        {
          "output_type": "stream",
          "name": "stdout",
          "text": [
            "Epoch 19, Loss: 0.076629139482975, lr = 0.0195\n"
          ]
        },
        {
          "output_type": "stream",
          "name": "stderr",
          "text": [
            "Conv->LeakyReLU->BN with epoch 20: 100%|██████████| 20/20 [00:04<00:00,  4.24it/s, Loss=0.0645]\n"
          ]
        },
        {
          "output_type": "stream",
          "name": "stdout",
          "text": [
            "Epoch 20, Loss: 0.049783752486109736, lr = 0.0019500000000000001\n"
          ]
        },
        {
          "output_type": "stream",
          "name": "stderr",
          "text": [
            "Conv->LeakyReLU->BN with epoch 21: 100%|██████████| 20/20 [00:04<00:00,  4.25it/s, Loss=0.0171]\n"
          ]
        },
        {
          "output_type": "stream",
          "name": "stdout",
          "text": [
            "Epoch 21, Loss: 0.024184558540582657, lr = 0.0019500000000000001\n"
          ]
        },
        {
          "output_type": "stream",
          "name": "stderr",
          "text": [
            "Conv->LeakyReLU->BN with epoch 22: 100%|██████████| 20/20 [00:04<00:00,  4.22it/s, Loss=0.0135]\n"
          ]
        },
        {
          "output_type": "stream",
          "name": "stdout",
          "text": [
            "Epoch 22, Loss: 0.01151934489607811, lr = 0.0019500000000000001\n"
          ]
        },
        {
          "output_type": "stream",
          "name": "stderr",
          "text": [
            "Conv->LeakyReLU->BN with epoch 23: 100%|██████████| 20/20 [00:04<00:00,  4.25it/s, Loss=0.00938]\n"
          ]
        },
        {
          "output_type": "stream",
          "name": "stdout",
          "text": [
            "Epoch 23, Loss: 0.009179972251877189, lr = 0.0019500000000000001\n"
          ]
        },
        {
          "output_type": "stream",
          "name": "stderr",
          "text": [
            "Conv->LeakyReLU->BN with epoch 24: 100%|██████████| 20/20 [00:04<00:00,  4.22it/s, Loss=0.00552]\n"
          ]
        },
        {
          "output_type": "stream",
          "name": "stdout",
          "text": [
            "Epoch 24, Loss: 0.007670483808033169, lr = 0.0019500000000000001\n"
          ]
        },
        {
          "output_type": "stream",
          "name": "stderr",
          "text": [
            "Conv->LeakyReLU->BN with epoch 25: 100%|██████████| 20/20 [00:04<00:00,  4.20it/s, Loss=0.00668]\n"
          ]
        },
        {
          "output_type": "stream",
          "name": "stdout",
          "text": [
            "Epoch 25, Loss: 0.006820555147714913, lr = 0.0019500000000000001\n"
          ]
        },
        {
          "output_type": "stream",
          "name": "stderr",
          "text": [
            "Conv->LeakyReLU->BN with epoch 26: 100%|██████████| 20/20 [00:04<00:00,  4.25it/s, Loss=0.00988]\n"
          ]
        },
        {
          "output_type": "stream",
          "name": "stdout",
          "text": [
            "Epoch 26, Loss: 0.006396264093928039, lr = 0.0019500000000000001\n"
          ]
        },
        {
          "output_type": "stream",
          "name": "stderr",
          "text": [
            "Conv->LeakyReLU->BN with epoch 27: 100%|██████████| 20/20 [00:04<00:00,  4.25it/s, Loss=0.0058]\n"
          ]
        },
        {
          "output_type": "stream",
          "name": "stdout",
          "text": [
            "Epoch 27, Loss: 0.005840396252460777, lr = 0.0019500000000000001\n"
          ]
        },
        {
          "output_type": "stream",
          "name": "stderr",
          "text": [
            "Conv->LeakyReLU->BN with epoch 28: 100%|██████████| 20/20 [00:04<00:00,  4.27it/s, Loss=0.00671]\n"
          ]
        },
        {
          "output_type": "stream",
          "name": "stdout",
          "text": [
            "Epoch 28, Loss: 0.005437166034244001, lr = 0.0019500000000000001\n"
          ]
        },
        {
          "output_type": "stream",
          "name": "stderr",
          "text": [
            "Conv->LeakyReLU->BN with epoch 29: 100%|██████████| 20/20 [00:04<00:00,  4.22it/s, Loss=0.00413]\n"
          ]
        },
        {
          "output_type": "stream",
          "name": "stdout",
          "text": [
            "Epoch 29, Loss: 0.004822584334760904, lr = 0.0019500000000000001\n"
          ]
        },
        {
          "output_type": "stream",
          "name": "stderr",
          "text": [
            "Conv->LeakyReLU->BN with epoch 30: 100%|██████████| 20/20 [00:04<00:00,  4.21it/s, Loss=0.00429]\n"
          ]
        },
        {
          "output_type": "stream",
          "name": "stdout",
          "text": [
            "Epoch 30, Loss: 0.0048560623312368986, lr = 0.0019500000000000001\n"
          ]
        },
        {
          "output_type": "stream",
          "name": "stderr",
          "text": [
            "Conv->LeakyReLU->BN with epoch 31: 100%|██████████| 20/20 [00:04<00:00,  4.22it/s, Loss=0.00445]\n"
          ]
        },
        {
          "output_type": "stream",
          "name": "stdout",
          "text": [
            "Epoch 31, Loss: 0.004624300496652722, lr = 0.0019500000000000001\n"
          ]
        },
        {
          "output_type": "stream",
          "name": "stderr",
          "text": [
            "Conv->LeakyReLU->BN with epoch 32: 100%|██████████| 20/20 [00:04<00:00,  4.23it/s, Loss=0.00525]\n"
          ]
        },
        {
          "output_type": "stream",
          "name": "stdout",
          "text": [
            "Epoch 32, Loss: 0.004599288525059819, lr = 0.0019500000000000001\n"
          ]
        },
        {
          "output_type": "stream",
          "name": "stderr",
          "text": [
            "Conv->LeakyReLU->BN with epoch 33: 100%|██████████| 20/20 [00:04<00:00,  4.23it/s, Loss=0.00563]\n"
          ]
        },
        {
          "output_type": "stream",
          "name": "stdout",
          "text": [
            "Epoch 33, Loss: 0.004037456051446497, lr = 0.0019500000000000001\n"
          ]
        },
        {
          "output_type": "stream",
          "name": "stderr",
          "text": [
            "Conv->LeakyReLU->BN with epoch 34: 100%|██████████| 20/20 [00:04<00:00,  4.25it/s, Loss=0.00414]\n"
          ]
        },
        {
          "output_type": "stream",
          "name": "stdout",
          "text": [
            "Epoch 34, Loss: 0.00395529386587441, lr = 0.0019500000000000001\n"
          ]
        },
        {
          "output_type": "stream",
          "name": "stderr",
          "text": [
            "Conv->LeakyReLU->BN with epoch 35: 100%|██████████| 20/20 [00:04<00:00,  4.22it/s, Loss=0.00503]\n"
          ]
        },
        {
          "output_type": "stream",
          "name": "stdout",
          "text": [
            "Epoch 35, Loss: 0.003906546859070659, lr = 0.0019500000000000001\n"
          ]
        },
        {
          "output_type": "stream",
          "name": "stderr",
          "text": [
            "Conv->LeakyReLU->BN with epoch 36: 100%|██████████| 20/20 [00:04<00:00,  4.26it/s, Loss=0.00701]\n"
          ]
        },
        {
          "output_type": "stream",
          "name": "stdout",
          "text": [
            "Epoch 36, Loss: 0.00386087941005826, lr = 0.0019500000000000001\n"
          ]
        },
        {
          "output_type": "stream",
          "name": "stderr",
          "text": [
            "Conv->LeakyReLU->BN with epoch 37: 100%|██████████| 20/20 [00:04<00:00,  4.22it/s, Loss=0.00381]\n"
          ]
        },
        {
          "output_type": "stream",
          "name": "stdout",
          "text": [
            "Epoch 37, Loss: 0.0036058575147762894, lr = 0.0019500000000000001\n"
          ]
        },
        {
          "output_type": "stream",
          "name": "stderr",
          "text": [
            "Conv->LeakyReLU->BN with epoch 38: 100%|██████████| 20/20 [00:04<00:00,  4.24it/s, Loss=0.0043]\n"
          ]
        },
        {
          "output_type": "stream",
          "name": "stdout",
          "text": [
            "Epoch 38, Loss: 0.003423524764366448, lr = 0.0019500000000000001\n"
          ]
        },
        {
          "output_type": "stream",
          "name": "stderr",
          "text": [
            "Conv->LeakyReLU->BN with epoch 39: 100%|██████████| 20/20 [00:04<00:00,  4.24it/s, Loss=0.00398]\n"
          ]
        },
        {
          "output_type": "stream",
          "name": "stdout",
          "text": [
            "Epoch 39, Loss: 0.003383936616592109, lr = 0.0019500000000000001\n"
          ]
        },
        {
          "output_type": "stream",
          "name": "stderr",
          "text": [
            "Conv->LeakyReLU->BN with epoch 40: 100%|██████████| 20/20 [00:04<00:00,  4.24it/s, Loss=0.00401]\n"
          ]
        },
        {
          "output_type": "stream",
          "name": "stdout",
          "text": [
            "Epoch 40, Loss: 0.0032720952993258836, lr = 0.00019500000000000002\n"
          ]
        },
        {
          "output_type": "stream",
          "name": "stderr",
          "text": [
            "Conv->LeakyReLU->BN with epoch 41: 100%|██████████| 20/20 [00:04<00:00,  4.24it/s, Loss=0.00318]\n"
          ]
        },
        {
          "output_type": "stream",
          "name": "stdout",
          "text": [
            "Epoch 41, Loss: 0.0032000763225369156, lr = 0.00019500000000000002\n"
          ]
        },
        {
          "output_type": "stream",
          "name": "stderr",
          "text": [
            "Conv->LeakyReLU->BN with epoch 42: 100%|██████████| 20/20 [00:04<00:00,  4.19it/s, Loss=0.00315]\n"
          ]
        },
        {
          "output_type": "stream",
          "name": "stdout",
          "text": [
            "Epoch 42, Loss: 0.003126232314389199, lr = 0.00019500000000000002\n"
          ]
        },
        {
          "output_type": "stream",
          "name": "stderr",
          "text": [
            "Conv->LeakyReLU->BN with epoch 43: 100%|██████████| 20/20 [00:04<00:00,  4.23it/s, Loss=0.00355]\n"
          ]
        },
        {
          "output_type": "stream",
          "name": "stdout",
          "text": [
            "Epoch 43, Loss: 0.0030995479552075266, lr = 0.00019500000000000002\n"
          ]
        },
        {
          "output_type": "stream",
          "name": "stderr",
          "text": [
            "Conv->LeakyReLU->BN with epoch 44: 100%|██████████| 20/20 [00:04<00:00,  4.22it/s, Loss=0.00319]\n"
          ]
        },
        {
          "output_type": "stream",
          "name": "stdout",
          "text": [
            "Epoch 44, Loss: 0.003130765538662672, lr = 0.00019500000000000002\n"
          ]
        },
        {
          "output_type": "stream",
          "name": "stderr",
          "text": [
            "Conv->LeakyReLU->BN with epoch 45: 100%|██████████| 20/20 [00:04<00:00,  4.23it/s, Loss=0.00336]\n"
          ]
        },
        {
          "output_type": "stream",
          "name": "stdout",
          "text": [
            "Epoch 45, Loss: 0.0031244264100678265, lr = 0.00019500000000000002\n"
          ]
        },
        {
          "output_type": "stream",
          "name": "stderr",
          "text": [
            "Conv->LeakyReLU->BN with epoch 46: 100%|██████████| 20/20 [00:04<00:00,  4.19it/s, Loss=0.00403]\n"
          ]
        },
        {
          "output_type": "stream",
          "name": "stdout",
          "text": [
            "Epoch 46, Loss: 0.0032177418237552048, lr = 0.00019500000000000002\n"
          ]
        },
        {
          "output_type": "stream",
          "name": "stderr",
          "text": [
            "Conv->LeakyReLU->BN with epoch 47: 100%|██████████| 20/20 [00:04<00:00,  4.17it/s, Loss=0.00281]\n"
          ]
        },
        {
          "output_type": "stream",
          "name": "stdout",
          "text": [
            "Epoch 47, Loss: 0.0031299748923629524, lr = 0.00019500000000000002\n"
          ]
        },
        {
          "output_type": "stream",
          "name": "stderr",
          "text": [
            "Conv->LeakyReLU->BN with epoch 48: 100%|██████████| 20/20 [00:04<00:00,  4.22it/s, Loss=0.0044]\n"
          ]
        },
        {
          "output_type": "stream",
          "name": "stdout",
          "text": [
            "Epoch 48, Loss: 0.003264822671189904, lr = 0.00019500000000000002\n"
          ]
        },
        {
          "output_type": "stream",
          "name": "stderr",
          "text": [
            "Conv->LeakyReLU->BN with epoch 49: 100%|██████████| 20/20 [00:04<00:00,  4.24it/s, Loss=0.00386]\n"
          ]
        },
        {
          "output_type": "stream",
          "name": "stdout",
          "text": [
            "Epoch 49, Loss: 0.003142108418978751, lr = 0.00019500000000000002\n"
          ]
        },
        {
          "output_type": "stream",
          "name": "stderr",
          "text": [
            "Conv->LeakyReLU->BN with epoch 50: 100%|██████████| 20/20 [00:04<00:00,  4.22it/s, Loss=0.00449]"
          ]
        },
        {
          "output_type": "stream",
          "name": "stdout",
          "text": [
            "Epoch 50, Loss: 0.003200122551061213, lr = 0.00019500000000000002\n"
          ]
        },
        {
          "output_type": "stream",
          "name": "stderr",
          "text": [
            "\n"
          ]
        },
        {
          "output_type": "stream",
          "name": "stdout",
          "text": [
            "sequence : Conv->BN->ReLU, Top1 Accuracy: 62.23%\n",
            "sequence : Conv->ReLU->BN, Top1 Accuracy: 56.54%\n",
            "sequence : Conv->LeakyReLU->BN, Top1 Accuracy: 59.87%\n",
            "[Seed : 97531] Experiment Start\n"
          ]
        },
        {
          "output_type": "stream",
          "name": "stderr",
          "text": [
            "Conv->BN->ReLU with epoch 1: 100%|██████████| 20/20 [00:04<00:00,  4.23it/s, Loss=1.64]\n"
          ]
        },
        {
          "output_type": "stream",
          "name": "stdout",
          "text": [
            "Epoch 1, Loss: 2.0089935839176176, lr = 0.0195\n"
          ]
        },
        {
          "output_type": "stream",
          "name": "stderr",
          "text": [
            "Conv->BN->ReLU with epoch 2: 100%|██████████| 20/20 [00:04<00:00,  4.23it/s, Loss=1.62]\n"
          ]
        },
        {
          "output_type": "stream",
          "name": "stdout",
          "text": [
            "Epoch 2, Loss: 1.6160308301448822, lr = 0.0195\n"
          ]
        },
        {
          "output_type": "stream",
          "name": "stderr",
          "text": [
            "Conv->BN->ReLU with epoch 3: 100%|██████████| 20/20 [00:04<00:00,  4.22it/s, Loss=1.48]\n"
          ]
        },
        {
          "output_type": "stream",
          "name": "stdout",
          "text": [
            "Epoch 3, Loss: 1.448846983909607, lr = 0.0195\n"
          ]
        },
        {
          "output_type": "stream",
          "name": "stderr",
          "text": [
            "Conv->BN->ReLU with epoch 4: 100%|██████████| 20/20 [00:04<00:00,  4.24it/s, Loss=1.35]\n"
          ]
        },
        {
          "output_type": "stream",
          "name": "stdout",
          "text": [
            "Epoch 4, Loss: 1.3112918138504028, lr = 0.0195\n"
          ]
        },
        {
          "output_type": "stream",
          "name": "stderr",
          "text": [
            "Conv->BN->ReLU with epoch 5: 100%|██████████| 20/20 [00:04<00:00,  4.24it/s, Loss=1.27]\n"
          ]
        },
        {
          "output_type": "stream",
          "name": "stdout",
          "text": [
            "Epoch 5, Loss: 1.165348732471466, lr = 0.0195\n"
          ]
        },
        {
          "output_type": "stream",
          "name": "stderr",
          "text": [
            "Conv->BN->ReLU with epoch 6: 100%|██████████| 20/20 [00:04<00:00,  4.20it/s, Loss=0.985]\n"
          ]
        },
        {
          "output_type": "stream",
          "name": "stdout",
          "text": [
            "Epoch 6, Loss: 0.9840494155883789, lr = 0.0195\n"
          ]
        },
        {
          "output_type": "stream",
          "name": "stderr",
          "text": [
            "Conv->BN->ReLU with epoch 7: 100%|██████████| 20/20 [00:04<00:00,  4.21it/s, Loss=0.904]\n"
          ]
        },
        {
          "output_type": "stream",
          "name": "stdout",
          "text": [
            "Epoch 7, Loss: 0.8765673696994781, lr = 0.0195\n"
          ]
        },
        {
          "output_type": "stream",
          "name": "stderr",
          "text": [
            "Conv->BN->ReLU with epoch 8: 100%|██████████| 20/20 [00:04<00:00,  4.25it/s, Loss=0.834]\n"
          ]
        },
        {
          "output_type": "stream",
          "name": "stdout",
          "text": [
            "Epoch 8, Loss: 0.7430483371019363, lr = 0.0195\n"
          ]
        },
        {
          "output_type": "stream",
          "name": "stderr",
          "text": [
            "Conv->BN->ReLU with epoch 9: 100%|██████████| 20/20 [00:04<00:00,  4.24it/s, Loss=0.661]\n"
          ]
        },
        {
          "output_type": "stream",
          "name": "stdout",
          "text": [
            "Epoch 9, Loss: 0.6494443535804748, lr = 0.0195\n"
          ]
        },
        {
          "output_type": "stream",
          "name": "stderr",
          "text": [
            "Conv->BN->ReLU with epoch 10: 100%|██████████| 20/20 [00:04<00:00,  4.24it/s, Loss=0.818]\n"
          ]
        },
        {
          "output_type": "stream",
          "name": "stdout",
          "text": [
            "Epoch 10, Loss: 0.5579494714736939, lr = 0.0195\n"
          ]
        },
        {
          "output_type": "stream",
          "name": "stderr",
          "text": [
            "Conv->BN->ReLU with epoch 11: 100%|██████████| 20/20 [00:04<00:00,  4.24it/s, Loss=0.472]\n"
          ]
        },
        {
          "output_type": "stream",
          "name": "stdout",
          "text": [
            "Epoch 11, Loss: 0.4859413981437683, lr = 0.0195\n"
          ]
        },
        {
          "output_type": "stream",
          "name": "stderr",
          "text": [
            "Conv->BN->ReLU with epoch 12: 100%|██████████| 20/20 [00:04<00:00,  4.23it/s, Loss=0.372]\n"
          ]
        },
        {
          "output_type": "stream",
          "name": "stdout",
          "text": [
            "Epoch 12, Loss: 0.41018605083227155, lr = 0.0195\n"
          ]
        },
        {
          "output_type": "stream",
          "name": "stderr",
          "text": [
            "Conv->BN->ReLU with epoch 13: 100%|██████████| 20/20 [00:04<00:00,  4.24it/s, Loss=0.318]\n"
          ]
        },
        {
          "output_type": "stream",
          "name": "stdout",
          "text": [
            "Epoch 13, Loss: 0.3254009947180748, lr = 0.0195\n"
          ]
        },
        {
          "output_type": "stream",
          "name": "stderr",
          "text": [
            "Conv->BN->ReLU with epoch 14: 100%|██████████| 20/20 [00:04<00:00,  4.24it/s, Loss=0.373]\n"
          ]
        },
        {
          "output_type": "stream",
          "name": "stdout",
          "text": [
            "Epoch 14, Loss: 0.2675048239529133, lr = 0.0195\n"
          ]
        },
        {
          "output_type": "stream",
          "name": "stderr",
          "text": [
            "Conv->BN->ReLU with epoch 15: 100%|██████████| 20/20 [00:04<00:00,  4.23it/s, Loss=0.22]\n"
          ]
        },
        {
          "output_type": "stream",
          "name": "stdout",
          "text": [
            "Epoch 15, Loss: 0.20038891360163688, lr = 0.0195\n"
          ]
        },
        {
          "output_type": "stream",
          "name": "stderr",
          "text": [
            "Conv->BN->ReLU with epoch 16: 100%|██████████| 20/20 [00:04<00:00,  4.24it/s, Loss=0.152]\n"
          ]
        },
        {
          "output_type": "stream",
          "name": "stdout",
          "text": [
            "Epoch 16, Loss: 0.1567344345152378, lr = 0.0195\n"
          ]
        },
        {
          "output_type": "stream",
          "name": "stderr",
          "text": [
            "Conv->BN->ReLU with epoch 17: 100%|██████████| 20/20 [00:04<00:00,  4.22it/s, Loss=0.128]\n"
          ]
        },
        {
          "output_type": "stream",
          "name": "stdout",
          "text": [
            "Epoch 17, Loss: 0.09430674538016319, lr = 0.0195\n"
          ]
        },
        {
          "output_type": "stream",
          "name": "stderr",
          "text": [
            "Conv->BN->ReLU with epoch 18: 100%|██████████| 20/20 [00:04<00:00,  4.17it/s, Loss=0.0464]\n"
          ]
        },
        {
          "output_type": "stream",
          "name": "stdout",
          "text": [
            "Epoch 18, Loss: 0.06867980044335127, lr = 0.0195\n"
          ]
        },
        {
          "output_type": "stream",
          "name": "stderr",
          "text": [
            "Conv->BN->ReLU with epoch 19: 100%|██████████| 20/20 [00:04<00:00,  4.22it/s, Loss=0.0299]\n"
          ]
        },
        {
          "output_type": "stream",
          "name": "stdout",
          "text": [
            "Epoch 19, Loss: 0.03709392547607422, lr = 0.0195\n"
          ]
        },
        {
          "output_type": "stream",
          "name": "stderr",
          "text": [
            "Conv->BN->ReLU with epoch 20: 100%|██████████| 20/20 [00:04<00:00,  4.23it/s, Loss=0.0119]\n"
          ]
        },
        {
          "output_type": "stream",
          "name": "stdout",
          "text": [
            "Epoch 20, Loss: 0.01585264573805034, lr = 0.0019500000000000001\n"
          ]
        },
        {
          "output_type": "stream",
          "name": "stderr",
          "text": [
            "Conv->BN->ReLU with epoch 21: 100%|██████████| 20/20 [00:04<00:00,  4.25it/s, Loss=0.0068]\n"
          ]
        },
        {
          "output_type": "stream",
          "name": "stdout",
          "text": [
            "Epoch 21, Loss: 0.006718403426930308, lr = 0.0019500000000000001\n"
          ]
        },
        {
          "output_type": "stream",
          "name": "stderr",
          "text": [
            "Conv->BN->ReLU with epoch 22: 100%|██████████| 20/20 [00:04<00:00,  4.24it/s, Loss=0.00641]\n"
          ]
        },
        {
          "output_type": "stream",
          "name": "stdout",
          "text": [
            "Epoch 22, Loss: 0.005339662707410753, lr = 0.0019500000000000001\n"
          ]
        },
        {
          "output_type": "stream",
          "name": "stderr",
          "text": [
            "Conv->BN->ReLU with epoch 23: 100%|██████████| 20/20 [00:04<00:00,  4.23it/s, Loss=0.00343]\n"
          ]
        },
        {
          "output_type": "stream",
          "name": "stdout",
          "text": [
            "Epoch 23, Loss: 0.00449841171503067, lr = 0.0019500000000000001\n"
          ]
        },
        {
          "output_type": "stream",
          "name": "stderr",
          "text": [
            "Conv->BN->ReLU with epoch 24: 100%|██████████| 20/20 [00:04<00:00,  4.25it/s, Loss=0.00315]\n"
          ]
        },
        {
          "output_type": "stream",
          "name": "stdout",
          "text": [
            "Epoch 24, Loss: 0.004046349972486496, lr = 0.0019500000000000001\n"
          ]
        },
        {
          "output_type": "stream",
          "name": "stderr",
          "text": [
            "Conv->BN->ReLU with epoch 25: 100%|██████████| 20/20 [00:04<00:00,  4.26it/s, Loss=0.00336]\n"
          ]
        },
        {
          "output_type": "stream",
          "name": "stdout",
          "text": [
            "Epoch 25, Loss: 0.003826681606005877, lr = 0.0019500000000000001\n"
          ]
        },
        {
          "output_type": "stream",
          "name": "stderr",
          "text": [
            "Conv->BN->ReLU with epoch 26: 100%|██████████| 20/20 [00:04<00:00,  4.24it/s, Loss=0.00404]\n"
          ]
        },
        {
          "output_type": "stream",
          "name": "stdout",
          "text": [
            "Epoch 26, Loss: 0.0036832739133387804, lr = 0.0019500000000000001\n"
          ]
        },
        {
          "output_type": "stream",
          "name": "stderr",
          "text": [
            "Conv->BN->ReLU with epoch 27: 100%|██████████| 20/20 [00:04<00:00,  4.22it/s, Loss=0.0046]\n"
          ]
        },
        {
          "output_type": "stream",
          "name": "stdout",
          "text": [
            "Epoch 27, Loss: 0.0035910866456106303, lr = 0.0019500000000000001\n"
          ]
        },
        {
          "output_type": "stream",
          "name": "stderr",
          "text": [
            "Conv->BN->ReLU with epoch 28: 100%|██████████| 20/20 [00:04<00:00,  4.22it/s, Loss=0.00382]\n"
          ]
        },
        {
          "output_type": "stream",
          "name": "stdout",
          "text": [
            "Epoch 28, Loss: 0.0032566146226599814, lr = 0.0019500000000000001\n"
          ]
        },
        {
          "output_type": "stream",
          "name": "stderr",
          "text": [
            "Conv->BN->ReLU with epoch 29: 100%|██████████| 20/20 [00:04<00:00,  4.25it/s, Loss=0.00316]\n"
          ]
        },
        {
          "output_type": "stream",
          "name": "stdout",
          "text": [
            "Epoch 29, Loss: 0.0031609945581294596, lr = 0.0019500000000000001\n"
          ]
        },
        {
          "output_type": "stream",
          "name": "stderr",
          "text": [
            "Conv->BN->ReLU with epoch 30: 100%|██████████| 20/20 [00:04<00:00,  4.20it/s, Loss=0.00384]\n"
          ]
        },
        {
          "output_type": "stream",
          "name": "stdout",
          "text": [
            "Epoch 30, Loss: 0.0030329746310599147, lr = 0.0019500000000000001\n"
          ]
        },
        {
          "output_type": "stream",
          "name": "stderr",
          "text": [
            "Conv->BN->ReLU with epoch 31: 100%|██████████| 20/20 [00:04<00:00,  4.23it/s, Loss=0.00252]\n"
          ]
        },
        {
          "output_type": "stream",
          "name": "stdout",
          "text": [
            "Epoch 31, Loss: 0.0029081218177452683, lr = 0.0019500000000000001\n"
          ]
        },
        {
          "output_type": "stream",
          "name": "stderr",
          "text": [
            "Conv->BN->ReLU with epoch 32: 100%|██████████| 20/20 [00:04<00:00,  4.22it/s, Loss=0.00323]\n"
          ]
        },
        {
          "output_type": "stream",
          "name": "stdout",
          "text": [
            "Epoch 32, Loss: 0.0028232257813215257, lr = 0.0019500000000000001\n"
          ]
        },
        {
          "output_type": "stream",
          "name": "stderr",
          "text": [
            "Conv->BN->ReLU with epoch 33: 100%|██████████| 20/20 [00:04<00:00,  4.24it/s, Loss=0.00388]\n"
          ]
        },
        {
          "output_type": "stream",
          "name": "stdout",
          "text": [
            "Epoch 33, Loss: 0.0027990611852146685, lr = 0.0019500000000000001\n"
          ]
        },
        {
          "output_type": "stream",
          "name": "stderr",
          "text": [
            "Conv->BN->ReLU with epoch 34: 100%|██████████| 20/20 [00:04<00:00,  4.23it/s, Loss=0.00286]\n"
          ]
        },
        {
          "output_type": "stream",
          "name": "stdout",
          "text": [
            "Epoch 34, Loss: 0.002719049493316561, lr = 0.0019500000000000001\n"
          ]
        },
        {
          "output_type": "stream",
          "name": "stderr",
          "text": [
            "Conv->BN->ReLU with epoch 35: 100%|██████████| 20/20 [00:04<00:00,  4.24it/s, Loss=0.00364]\n"
          ]
        },
        {
          "output_type": "stream",
          "name": "stdout",
          "text": [
            "Epoch 35, Loss: 0.002715095179155469, lr = 0.0019500000000000001\n"
          ]
        },
        {
          "output_type": "stream",
          "name": "stderr",
          "text": [
            "Conv->BN->ReLU with epoch 36: 100%|██████████| 20/20 [00:04<00:00,  4.26it/s, Loss=0.00245]\n"
          ]
        },
        {
          "output_type": "stream",
          "name": "stdout",
          "text": [
            "Epoch 36, Loss: 0.0026126797660253943, lr = 0.0019500000000000001\n"
          ]
        },
        {
          "output_type": "stream",
          "name": "stderr",
          "text": [
            "Conv->BN->ReLU with epoch 37: 100%|██████████| 20/20 [00:04<00:00,  4.24it/s, Loss=0.00226]\n"
          ]
        },
        {
          "output_type": "stream",
          "name": "stdout",
          "text": [
            "Epoch 37, Loss: 0.0024379824521020056, lr = 0.0019500000000000001\n"
          ]
        },
        {
          "output_type": "stream",
          "name": "stderr",
          "text": [
            "Conv->BN->ReLU with epoch 38: 100%|██████████| 20/20 [00:04<00:00,  4.22it/s, Loss=0.00274]\n"
          ]
        },
        {
          "output_type": "stream",
          "name": "stdout",
          "text": [
            "Epoch 38, Loss: 0.0024897666880860925, lr = 0.0019500000000000001\n"
          ]
        },
        {
          "output_type": "stream",
          "name": "stderr",
          "text": [
            "Conv->BN->ReLU with epoch 39: 100%|██████████| 20/20 [00:04<00:00,  4.25it/s, Loss=0.00244]\n"
          ]
        },
        {
          "output_type": "stream",
          "name": "stdout",
          "text": [
            "Epoch 39, Loss: 0.0023550254059955477, lr = 0.0019500000000000001\n"
          ]
        },
        {
          "output_type": "stream",
          "name": "stderr",
          "text": [
            "Conv->BN->ReLU with epoch 40: 100%|██████████| 20/20 [00:04<00:00,  4.25it/s, Loss=0.00289]\n"
          ]
        },
        {
          "output_type": "stream",
          "name": "stdout",
          "text": [
            "Epoch 40, Loss: 0.0023313586483709515, lr = 0.00019500000000000002\n"
          ]
        },
        {
          "output_type": "stream",
          "name": "stderr",
          "text": [
            "Conv->BN->ReLU with epoch 41: 100%|██████████| 20/20 [00:04<00:00,  4.26it/s, Loss=0.0025]\n"
          ]
        },
        {
          "output_type": "stream",
          "name": "stdout",
          "text": [
            "Epoch 41, Loss: 0.0023027800722047686, lr = 0.00019500000000000002\n"
          ]
        },
        {
          "output_type": "stream",
          "name": "stderr",
          "text": [
            "Conv->BN->ReLU with epoch 42: 100%|██████████| 20/20 [00:04<00:00,  4.15it/s, Loss=0.0026]\n"
          ]
        },
        {
          "output_type": "stream",
          "name": "stdout",
          "text": [
            "Epoch 42, Loss: 0.0022986453725025056, lr = 0.00019500000000000002\n"
          ]
        },
        {
          "output_type": "stream",
          "name": "stderr",
          "text": [
            "Conv->BN->ReLU with epoch 43: 100%|██████████| 20/20 [00:04<00:00,  4.25it/s, Loss=0.00174]\n"
          ]
        },
        {
          "output_type": "stream",
          "name": "stdout",
          "text": [
            "Epoch 43, Loss: 0.002315571688814089, lr = 0.00019500000000000002\n"
          ]
        },
        {
          "output_type": "stream",
          "name": "stderr",
          "text": [
            "Conv->BN->ReLU with epoch 44: 100%|██████████| 20/20 [00:04<00:00,  4.26it/s, Loss=0.00258]\n"
          ]
        },
        {
          "output_type": "stream",
          "name": "stdout",
          "text": [
            "Epoch 44, Loss: 0.0022922912845388054, lr = 0.00019500000000000002\n"
          ]
        },
        {
          "output_type": "stream",
          "name": "stderr",
          "text": [
            "Conv->BN->ReLU with epoch 45: 100%|██████████| 20/20 [00:04<00:00,  4.24it/s, Loss=0.00233]\n"
          ]
        },
        {
          "output_type": "stream",
          "name": "stdout",
          "text": [
            "Epoch 45, Loss: 0.0022963845869526265, lr = 0.00019500000000000002\n"
          ]
        },
        {
          "output_type": "stream",
          "name": "stderr",
          "text": [
            "Conv->BN->ReLU with epoch 46: 100%|██████████| 20/20 [00:04<00:00,  4.24it/s, Loss=0.00274]\n"
          ]
        },
        {
          "output_type": "stream",
          "name": "stdout",
          "text": [
            "Epoch 46, Loss: 0.0023240908281877636, lr = 0.00019500000000000002\n"
          ]
        },
        {
          "output_type": "stream",
          "name": "stderr",
          "text": [
            "Conv->BN->ReLU with epoch 47: 100%|██████████| 20/20 [00:04<00:00,  4.20it/s, Loss=0.00245]\n"
          ]
        },
        {
          "output_type": "stream",
          "name": "stdout",
          "text": [
            "Epoch 47, Loss: 0.002287284086924046, lr = 0.00019500000000000002\n"
          ]
        },
        {
          "output_type": "stream",
          "name": "stderr",
          "text": [
            "Conv->BN->ReLU with epoch 48: 100%|██████████| 20/20 [00:04<00:00,  4.24it/s, Loss=0.00287]\n"
          ]
        },
        {
          "output_type": "stream",
          "name": "stdout",
          "text": [
            "Epoch 48, Loss: 0.0023296546074561774, lr = 0.00019500000000000002\n"
          ]
        },
        {
          "output_type": "stream",
          "name": "stderr",
          "text": [
            "Conv->BN->ReLU with epoch 49: 100%|██████████| 20/20 [00:04<00:00,  4.22it/s, Loss=0.00281]\n"
          ]
        },
        {
          "output_type": "stream",
          "name": "stdout",
          "text": [
            "Epoch 49, Loss: 0.0024498683866113423, lr = 0.00019500000000000002\n"
          ]
        },
        {
          "output_type": "stream",
          "name": "stderr",
          "text": [
            "Conv->BN->ReLU with epoch 50: 100%|██████████| 20/20 [00:04<00:00,  4.26it/s, Loss=0.00258]\n"
          ]
        },
        {
          "output_type": "stream",
          "name": "stdout",
          "text": [
            "Epoch 50, Loss: 0.002316974080167711, lr = 0.00019500000000000002\n"
          ]
        },
        {
          "output_type": "stream",
          "name": "stderr",
          "text": [
            "Conv->ReLU->BN with epoch 1: 100%|██████████| 20/20 [00:04<00:00,  4.22it/s, Loss=1.64]\n"
          ]
        },
        {
          "output_type": "stream",
          "name": "stdout",
          "text": [
            "Epoch 1, Loss: 1.9516969919204712, lr = 0.0195\n"
          ]
        },
        {
          "output_type": "stream",
          "name": "stderr",
          "text": [
            "Conv->ReLU->BN with epoch 2: 100%|██████████| 20/20 [00:04<00:00,  4.24it/s, Loss=1.53]\n"
          ]
        },
        {
          "output_type": "stream",
          "name": "stdout",
          "text": [
            "Epoch 2, Loss: 1.6231620013713837, lr = 0.0195\n"
          ]
        },
        {
          "output_type": "stream",
          "name": "stderr",
          "text": [
            "Conv->ReLU->BN with epoch 3: 100%|██████████| 20/20 [00:04<00:00,  4.21it/s, Loss=1.61]\n"
          ]
        },
        {
          "output_type": "stream",
          "name": "stdout",
          "text": [
            "Epoch 3, Loss: 1.4785111844539642, lr = 0.0195\n"
          ]
        },
        {
          "output_type": "stream",
          "name": "stderr",
          "text": [
            "Conv->ReLU->BN with epoch 4: 100%|██████████| 20/20 [00:04<00:00,  4.18it/s, Loss=1.38]\n"
          ]
        },
        {
          "output_type": "stream",
          "name": "stdout",
          "text": [
            "Epoch 4, Loss: 1.3409989595413208, lr = 0.0195\n"
          ]
        },
        {
          "output_type": "stream",
          "name": "stderr",
          "text": [
            "Conv->ReLU->BN with epoch 5: 100%|██████████| 20/20 [00:04<00:00,  4.25it/s, Loss=1.36]\n"
          ]
        },
        {
          "output_type": "stream",
          "name": "stdout",
          "text": [
            "Epoch 5, Loss: 1.2472634494304657, lr = 0.0195\n"
          ]
        },
        {
          "output_type": "stream",
          "name": "stderr",
          "text": [
            "Conv->ReLU->BN with epoch 6: 100%|██████████| 20/20 [00:04<00:00,  4.24it/s, Loss=1.09]\n"
          ]
        },
        {
          "output_type": "stream",
          "name": "stdout",
          "text": [
            "Epoch 6, Loss: 1.129169338941574, lr = 0.0195\n"
          ]
        },
        {
          "output_type": "stream",
          "name": "stderr",
          "text": [
            "Conv->ReLU->BN with epoch 7: 100%|██████████| 20/20 [00:04<00:00,  4.25it/s, Loss=1.1]\n"
          ]
        },
        {
          "output_type": "stream",
          "name": "stdout",
          "text": [
            "Epoch 7, Loss: 1.0129685610532762, lr = 0.0195\n"
          ]
        },
        {
          "output_type": "stream",
          "name": "stderr",
          "text": [
            "Conv->ReLU->BN with epoch 8: 100%|██████████| 20/20 [00:04<00:00,  4.24it/s, Loss=0.933]\n"
          ]
        },
        {
          "output_type": "stream",
          "name": "stdout",
          "text": [
            "Epoch 8, Loss: 0.9388699322938919, lr = 0.0195\n"
          ]
        },
        {
          "output_type": "stream",
          "name": "stderr",
          "text": [
            "Conv->ReLU->BN with epoch 9: 100%|██████████| 20/20 [00:04<00:00,  4.20it/s, Loss=0.927]\n"
          ]
        },
        {
          "output_type": "stream",
          "name": "stdout",
          "text": [
            "Epoch 9, Loss: 0.8363373905420304, lr = 0.0195\n"
          ]
        },
        {
          "output_type": "stream",
          "name": "stderr",
          "text": [
            "Conv->ReLU->BN with epoch 10: 100%|██████████| 20/20 [00:04<00:00,  4.22it/s, Loss=0.95]\n"
          ]
        },
        {
          "output_type": "stream",
          "name": "stdout",
          "text": [
            "Epoch 10, Loss: 0.7401512175798416, lr = 0.0195\n"
          ]
        },
        {
          "output_type": "stream",
          "name": "stderr",
          "text": [
            "Conv->ReLU->BN with epoch 11: 100%|██████████| 20/20 [00:04<00:00,  4.23it/s, Loss=0.843]\n"
          ]
        },
        {
          "output_type": "stream",
          "name": "stdout",
          "text": [
            "Epoch 11, Loss: 0.6603735744953155, lr = 0.0195\n"
          ]
        },
        {
          "output_type": "stream",
          "name": "stderr",
          "text": [
            "Conv->ReLU->BN with epoch 12: 100%|██████████| 20/20 [00:04<00:00,  4.25it/s, Loss=0.521]\n"
          ]
        },
        {
          "output_type": "stream",
          "name": "stdout",
          "text": [
            "Epoch 12, Loss: 0.5824691504240036, lr = 0.0195\n"
          ]
        },
        {
          "output_type": "stream",
          "name": "stderr",
          "text": [
            "Conv->ReLU->BN with epoch 13: 100%|██████████| 20/20 [00:04<00:00,  4.24it/s, Loss=0.534]\n"
          ]
        },
        {
          "output_type": "stream",
          "name": "stdout",
          "text": [
            "Epoch 13, Loss: 0.4607680454850197, lr = 0.0195\n"
          ]
        },
        {
          "output_type": "stream",
          "name": "stderr",
          "text": [
            "Conv->ReLU->BN with epoch 14: 100%|██████████| 20/20 [00:04<00:00,  4.23it/s, Loss=0.556]\n"
          ]
        },
        {
          "output_type": "stream",
          "name": "stdout",
          "text": [
            "Epoch 14, Loss: 0.3795494243502617, lr = 0.0195\n"
          ]
        },
        {
          "output_type": "stream",
          "name": "stderr",
          "text": [
            "Conv->ReLU->BN with epoch 15: 100%|██████████| 20/20 [00:04<00:00,  4.23it/s, Loss=0.306]\n"
          ]
        },
        {
          "output_type": "stream",
          "name": "stdout",
          "text": [
            "Epoch 15, Loss: 0.3098759576678276, lr = 0.0195\n"
          ]
        },
        {
          "output_type": "stream",
          "name": "stderr",
          "text": [
            "Conv->ReLU->BN with epoch 16: 100%|██████████| 20/20 [00:04<00:00,  4.19it/s, Loss=0.304]\n"
          ]
        },
        {
          "output_type": "stream",
          "name": "stdout",
          "text": [
            "Epoch 16, Loss: 0.2840235039591789, lr = 0.0195\n"
          ]
        },
        {
          "output_type": "stream",
          "name": "stderr",
          "text": [
            "Conv->ReLU->BN with epoch 17: 100%|██████████| 20/20 [00:04<00:00,  4.24it/s, Loss=0.297]\n"
          ]
        },
        {
          "output_type": "stream",
          "name": "stdout",
          "text": [
            "Epoch 17, Loss: 0.24134571477770805, lr = 0.0195\n"
          ]
        },
        {
          "output_type": "stream",
          "name": "stderr",
          "text": [
            "Conv->ReLU->BN with epoch 18: 100%|██████████| 20/20 [00:04<00:00,  4.24it/s, Loss=0.274]\n"
          ]
        },
        {
          "output_type": "stream",
          "name": "stdout",
          "text": [
            "Epoch 18, Loss: 0.2311929926276207, lr = 0.0195\n"
          ]
        },
        {
          "output_type": "stream",
          "name": "stderr",
          "text": [
            "Conv->ReLU->BN with epoch 19: 100%|██████████| 20/20 [00:04<00:00,  4.22it/s, Loss=0.271]\n"
          ]
        },
        {
          "output_type": "stream",
          "name": "stdout",
          "text": [
            "Epoch 19, Loss: 0.23905122578144072, lr = 0.0195\n"
          ]
        },
        {
          "output_type": "stream",
          "name": "stderr",
          "text": [
            "Conv->ReLU->BN with epoch 20: 100%|██████████| 20/20 [00:04<00:00,  4.24it/s, Loss=0.169]\n"
          ]
        },
        {
          "output_type": "stream",
          "name": "stdout",
          "text": [
            "Epoch 20, Loss: 0.18796518370509147, lr = 0.0019500000000000001\n"
          ]
        },
        {
          "output_type": "stream",
          "name": "stderr",
          "text": [
            "Conv->ReLU->BN with epoch 21: 100%|██████████| 20/20 [00:04<00:00,  4.22it/s, Loss=0.0802]\n"
          ]
        },
        {
          "output_type": "stream",
          "name": "stdout",
          "text": [
            "Epoch 21, Loss: 0.08374782800674438, lr = 0.0019500000000000001\n"
          ]
        },
        {
          "output_type": "stream",
          "name": "stderr",
          "text": [
            "Conv->ReLU->BN with epoch 22: 100%|██████████| 20/20 [00:04<00:00,  4.25it/s, Loss=0.0221]\n"
          ]
        },
        {
          "output_type": "stream",
          "name": "stdout",
          "text": [
            "Epoch 22, Loss: 0.036431953124701974, lr = 0.0019500000000000001\n"
          ]
        },
        {
          "output_type": "stream",
          "name": "stderr",
          "text": [
            "Conv->ReLU->BN with epoch 23: 100%|██████████| 20/20 [00:04<00:00,  4.22it/s, Loss=0.0254]\n"
          ]
        },
        {
          "output_type": "stream",
          "name": "stdout",
          "text": [
            "Epoch 23, Loss: 0.02356918971054256, lr = 0.0019500000000000001\n"
          ]
        },
        {
          "output_type": "stream",
          "name": "stderr",
          "text": [
            "Conv->ReLU->BN with epoch 24: 100%|██████████| 20/20 [00:04<00:00,  4.22it/s, Loss=0.0208]\n"
          ]
        },
        {
          "output_type": "stream",
          "name": "stdout",
          "text": [
            "Epoch 24, Loss: 0.01860971888527274, lr = 0.0019500000000000001\n"
          ]
        },
        {
          "output_type": "stream",
          "name": "stderr",
          "text": [
            "Conv->ReLU->BN with epoch 25: 100%|██████████| 20/20 [00:04<00:00,  4.26it/s, Loss=0.0229]\n"
          ]
        },
        {
          "output_type": "stream",
          "name": "stdout",
          "text": [
            "Epoch 25, Loss: 0.016609902307391167, lr = 0.0019500000000000001\n"
          ]
        },
        {
          "output_type": "stream",
          "name": "stderr",
          "text": [
            "Conv->ReLU->BN with epoch 26: 100%|██████████| 20/20 [00:04<00:00,  4.26it/s, Loss=0.0179]\n"
          ]
        },
        {
          "output_type": "stream",
          "name": "stdout",
          "text": [
            "Epoch 26, Loss: 0.014986894279718398, lr = 0.0019500000000000001\n"
          ]
        },
        {
          "output_type": "stream",
          "name": "stderr",
          "text": [
            "Conv->ReLU->BN with epoch 27: 100%|██████████| 20/20 [00:04<00:00,  4.22it/s, Loss=0.0136]\n"
          ]
        },
        {
          "output_type": "stream",
          "name": "stdout",
          "text": [
            "Epoch 27, Loss: 0.013452584762126208, lr = 0.0019500000000000001\n"
          ]
        },
        {
          "output_type": "stream",
          "name": "stderr",
          "text": [
            "Conv->ReLU->BN with epoch 28: 100%|██████████| 20/20 [00:04<00:00,  4.24it/s, Loss=0.0178]\n"
          ]
        },
        {
          "output_type": "stream",
          "name": "stdout",
          "text": [
            "Epoch 28, Loss: 0.011962335417047143, lr = 0.0019500000000000001\n"
          ]
        },
        {
          "output_type": "stream",
          "name": "stderr",
          "text": [
            "Conv->ReLU->BN with epoch 29: 100%|██████████| 20/20 [00:04<00:00,  4.22it/s, Loss=0.0121]\n"
          ]
        },
        {
          "output_type": "stream",
          "name": "stdout",
          "text": [
            "Epoch 29, Loss: 0.010908260382711888, lr = 0.0019500000000000001\n"
          ]
        },
        {
          "output_type": "stream",
          "name": "stderr",
          "text": [
            "Conv->ReLU->BN with epoch 30: 100%|██████████| 20/20 [00:04<00:00,  4.23it/s, Loss=0.0115]\n"
          ]
        },
        {
          "output_type": "stream",
          "name": "stdout",
          "text": [
            "Epoch 30, Loss: 0.010348585899919271, lr = 0.0019500000000000001\n"
          ]
        },
        {
          "output_type": "stream",
          "name": "stderr",
          "text": [
            "Conv->ReLU->BN with epoch 31: 100%|██████████| 20/20 [00:04<00:00,  4.24it/s, Loss=0.00969]\n"
          ]
        },
        {
          "output_type": "stream",
          "name": "stdout",
          "text": [
            "Epoch 31, Loss: 0.00956131685525179, lr = 0.0019500000000000001\n"
          ]
        },
        {
          "output_type": "stream",
          "name": "stderr",
          "text": [
            "Conv->ReLU->BN with epoch 32: 100%|██████████| 20/20 [00:04<00:00,  4.24it/s, Loss=0.00998]\n"
          ]
        },
        {
          "output_type": "stream",
          "name": "stdout",
          "text": [
            "Epoch 32, Loss: 0.008847470558248461, lr = 0.0019500000000000001\n"
          ]
        },
        {
          "output_type": "stream",
          "name": "stderr",
          "text": [
            "Conv->ReLU->BN with epoch 33: 100%|██████████| 20/20 [00:04<00:00,  4.22it/s, Loss=0.012]\n"
          ]
        },
        {
          "output_type": "stream",
          "name": "stdout",
          "text": [
            "Epoch 33, Loss: 0.0086245137732476, lr = 0.0019500000000000001\n"
          ]
        },
        {
          "output_type": "stream",
          "name": "stderr",
          "text": [
            "Conv->ReLU->BN with epoch 34: 100%|██████████| 20/20 [00:04<00:00,  4.26it/s, Loss=0.00942]\n"
          ]
        },
        {
          "output_type": "stream",
          "name": "stdout",
          "text": [
            "Epoch 34, Loss: 0.00819583162665367, lr = 0.0019500000000000001\n"
          ]
        },
        {
          "output_type": "stream",
          "name": "stderr",
          "text": [
            "Conv->ReLU->BN with epoch 35: 100%|██████████| 20/20 [00:04<00:00,  4.23it/s, Loss=0.00968]\n"
          ]
        },
        {
          "output_type": "stream",
          "name": "stdout",
          "text": [
            "Epoch 35, Loss: 0.007910386775620282, lr = 0.0019500000000000001\n"
          ]
        },
        {
          "output_type": "stream",
          "name": "stderr",
          "text": [
            "Conv->ReLU->BN with epoch 36: 100%|██████████| 20/20 [00:04<00:00,  4.24it/s, Loss=0.0062]\n"
          ]
        },
        {
          "output_type": "stream",
          "name": "stdout",
          "text": [
            "Epoch 36, Loss: 0.007331664557568729, lr = 0.0019500000000000001\n"
          ]
        },
        {
          "output_type": "stream",
          "name": "stderr",
          "text": [
            "Conv->ReLU->BN with epoch 37: 100%|██████████| 20/20 [00:04<00:00,  4.25it/s, Loss=0.0085]\n"
          ]
        },
        {
          "output_type": "stream",
          "name": "stdout",
          "text": [
            "Epoch 37, Loss: 0.00729752485640347, lr = 0.0019500000000000001\n"
          ]
        },
        {
          "output_type": "stream",
          "name": "stderr",
          "text": [
            "Conv->ReLU->BN with epoch 38: 100%|██████████| 20/20 [00:04<00:00,  4.25it/s, Loss=0.00647]\n"
          ]
        },
        {
          "output_type": "stream",
          "name": "stdout",
          "text": [
            "Epoch 38, Loss: 0.006855849549174309, lr = 0.0019500000000000001\n"
          ]
        },
        {
          "output_type": "stream",
          "name": "stderr",
          "text": [
            "Conv->ReLU->BN with epoch 39: 100%|██████████| 20/20 [00:04<00:00,  4.24it/s, Loss=0.00773]\n"
          ]
        },
        {
          "output_type": "stream",
          "name": "stdout",
          "text": [
            "Epoch 39, Loss: 0.006615224969573319, lr = 0.0019500000000000001\n"
          ]
        },
        {
          "output_type": "stream",
          "name": "stderr",
          "text": [
            "Conv->ReLU->BN with epoch 40: 100%|██████████| 20/20 [00:04<00:00,  4.24it/s, Loss=0.00795]\n"
          ]
        },
        {
          "output_type": "stream",
          "name": "stdout",
          "text": [
            "Epoch 40, Loss: 0.006471105525270105, lr = 0.00019500000000000002\n"
          ]
        },
        {
          "output_type": "stream",
          "name": "stderr",
          "text": [
            "Conv->ReLU->BN with epoch 41: 100%|██████████| 20/20 [00:04<00:00,  4.22it/s, Loss=0.00533]\n"
          ]
        },
        {
          "output_type": "stream",
          "name": "stdout",
          "text": [
            "Epoch 41, Loss: 0.006002503680065274, lr = 0.00019500000000000002\n"
          ]
        },
        {
          "output_type": "stream",
          "name": "stderr",
          "text": [
            "Conv->ReLU->BN with epoch 42: 100%|██████████| 20/20 [00:04<00:00,  4.22it/s, Loss=0.00818]\n"
          ]
        },
        {
          "output_type": "stream",
          "name": "stdout",
          "text": [
            "Epoch 42, Loss: 0.006210745871067047, lr = 0.00019500000000000002\n"
          ]
        },
        {
          "output_type": "stream",
          "name": "stderr",
          "text": [
            "Conv->ReLU->BN with epoch 43: 100%|██████████| 20/20 [00:04<00:00,  4.22it/s, Loss=0.00616]\n"
          ]
        },
        {
          "output_type": "stream",
          "name": "stdout",
          "text": [
            "Epoch 43, Loss: 0.006057289894670248, lr = 0.00019500000000000002\n"
          ]
        },
        {
          "output_type": "stream",
          "name": "stderr",
          "text": [
            "Conv->ReLU->BN with epoch 44: 100%|██████████| 20/20 [00:04<00:00,  4.24it/s, Loss=0.00472]\n"
          ]
        },
        {
          "output_type": "stream",
          "name": "stdout",
          "text": [
            "Epoch 44, Loss: 0.0059699974954128265, lr = 0.00019500000000000002\n"
          ]
        },
        {
          "output_type": "stream",
          "name": "stderr",
          "text": [
            "Conv->ReLU->BN with epoch 45: 100%|██████████| 20/20 [00:04<00:00,  4.23it/s, Loss=0.00642]\n"
          ]
        },
        {
          "output_type": "stream",
          "name": "stdout",
          "text": [
            "Epoch 45, Loss: 0.005978910042904318, lr = 0.00019500000000000002\n"
          ]
        },
        {
          "output_type": "stream",
          "name": "stderr",
          "text": [
            "Conv->ReLU->BN with epoch 46: 100%|██████████| 20/20 [00:04<00:00,  4.24it/s, Loss=0.012]\n"
          ]
        },
        {
          "output_type": "stream",
          "name": "stdout",
          "text": [
            "Epoch 46, Loss: 0.006272061518393457, lr = 0.00019500000000000002\n"
          ]
        },
        {
          "output_type": "stream",
          "name": "stderr",
          "text": [
            "Conv->ReLU->BN with epoch 47: 100%|██████████| 20/20 [00:04<00:00,  4.21it/s, Loss=0.00867]\n"
          ]
        },
        {
          "output_type": "stream",
          "name": "stdout",
          "text": [
            "Epoch 47, Loss: 0.0059669629205018285, lr = 0.00019500000000000002\n"
          ]
        },
        {
          "output_type": "stream",
          "name": "stderr",
          "text": [
            "Conv->ReLU->BN with epoch 48: 100%|██████████| 20/20 [00:04<00:00,  4.23it/s, Loss=0.00696]\n"
          ]
        },
        {
          "output_type": "stream",
          "name": "stdout",
          "text": [
            "Epoch 48, Loss: 0.005838865507394075, lr = 0.00019500000000000002\n"
          ]
        },
        {
          "output_type": "stream",
          "name": "stderr",
          "text": [
            "Conv->ReLU->BN with epoch 49: 100%|██████████| 20/20 [00:04<00:00,  4.21it/s, Loss=0.00696]\n"
          ]
        },
        {
          "output_type": "stream",
          "name": "stdout",
          "text": [
            "Epoch 49, Loss: 0.006515305861830712, lr = 0.00019500000000000002\n"
          ]
        },
        {
          "output_type": "stream",
          "name": "stderr",
          "text": [
            "Conv->ReLU->BN with epoch 50: 100%|██████████| 20/20 [00:04<00:00,  4.23it/s, Loss=0.00799]\n"
          ]
        },
        {
          "output_type": "stream",
          "name": "stdout",
          "text": [
            "Epoch 50, Loss: 0.00605618201661855, lr = 0.00019500000000000002\n"
          ]
        },
        {
          "output_type": "stream",
          "name": "stderr",
          "text": [
            "Conv->LeakyReLU->BN with epoch 1: 100%|██████████| 20/20 [00:04<00:00,  4.22it/s, Loss=1.63]\n"
          ]
        },
        {
          "output_type": "stream",
          "name": "stdout",
          "text": [
            "Epoch 1, Loss: 1.9641838431358338, lr = 0.0195\n"
          ]
        },
        {
          "output_type": "stream",
          "name": "stderr",
          "text": [
            "Conv->LeakyReLU->BN with epoch 2: 100%|██████████| 20/20 [00:04<00:00,  4.22it/s, Loss=1.58]\n"
          ]
        },
        {
          "output_type": "stream",
          "name": "stdout",
          "text": [
            "Epoch 2, Loss: 1.6221651434898376, lr = 0.0195\n"
          ]
        },
        {
          "output_type": "stream",
          "name": "stderr",
          "text": [
            "Conv->LeakyReLU->BN with epoch 3: 100%|██████████| 20/20 [00:04<00:00,  4.20it/s, Loss=1.47]\n"
          ]
        },
        {
          "output_type": "stream",
          "name": "stdout",
          "text": [
            "Epoch 3, Loss: 1.434573233127594, lr = 0.0195\n"
          ]
        },
        {
          "output_type": "stream",
          "name": "stderr",
          "text": [
            "Conv->LeakyReLU->BN with epoch 4: 100%|██████████| 20/20 [00:04<00:00,  4.21it/s, Loss=1.28]\n"
          ]
        },
        {
          "output_type": "stream",
          "name": "stdout",
          "text": [
            "Epoch 4, Loss: 1.3061174511909486, lr = 0.0195\n"
          ]
        },
        {
          "output_type": "stream",
          "name": "stderr",
          "text": [
            "Conv->LeakyReLU->BN with epoch 5: 100%|██████████| 20/20 [00:04<00:00,  4.23it/s, Loss=1.36]\n"
          ]
        },
        {
          "output_type": "stream",
          "name": "stdout",
          "text": [
            "Epoch 5, Loss: 1.196474516391754, lr = 0.0195\n"
          ]
        },
        {
          "output_type": "stream",
          "name": "stderr",
          "text": [
            "Conv->LeakyReLU->BN with epoch 6: 100%|██████████| 20/20 [00:04<00:00,  4.19it/s, Loss=1.1]\n"
          ]
        },
        {
          "output_type": "stream",
          "name": "stdout",
          "text": [
            "Epoch 6, Loss: 1.0819581270217895, lr = 0.0195\n"
          ]
        },
        {
          "output_type": "stream",
          "name": "stderr",
          "text": [
            "Conv->LeakyReLU->BN with epoch 7: 100%|██████████| 20/20 [00:04<00:00,  4.20it/s, Loss=1.13]\n"
          ]
        },
        {
          "output_type": "stream",
          "name": "stdout",
          "text": [
            "Epoch 7, Loss: 0.9628209143877029, lr = 0.0195\n"
          ]
        },
        {
          "output_type": "stream",
          "name": "stderr",
          "text": [
            "Conv->LeakyReLU->BN with epoch 8: 100%|██████████| 20/20 [00:04<00:00,  4.23it/s, Loss=0.939]\n"
          ]
        },
        {
          "output_type": "stream",
          "name": "stdout",
          "text": [
            "Epoch 8, Loss: 0.8793227344751358, lr = 0.0195\n"
          ]
        },
        {
          "output_type": "stream",
          "name": "stderr",
          "text": [
            "Conv->LeakyReLU->BN with epoch 9: 100%|██████████| 20/20 [00:04<00:00,  4.25it/s, Loss=0.756]\n"
          ]
        },
        {
          "output_type": "stream",
          "name": "stdout",
          "text": [
            "Epoch 9, Loss: 0.7954660028219223, lr = 0.0195\n"
          ]
        },
        {
          "output_type": "stream",
          "name": "stderr",
          "text": [
            "Conv->LeakyReLU->BN with epoch 10: 100%|██████████| 20/20 [00:04<00:00,  4.26it/s, Loss=0.86]\n"
          ]
        },
        {
          "output_type": "stream",
          "name": "stdout",
          "text": [
            "Epoch 10, Loss: 0.7395725816488266, lr = 0.0195\n"
          ]
        },
        {
          "output_type": "stream",
          "name": "stderr",
          "text": [
            "Conv->LeakyReLU->BN with epoch 11: 100%|██████████| 20/20 [00:04<00:00,  4.22it/s, Loss=0.623]\n"
          ]
        },
        {
          "output_type": "stream",
          "name": "stdout",
          "text": [
            "Epoch 11, Loss: 0.630315175652504, lr = 0.0195\n"
          ]
        },
        {
          "output_type": "stream",
          "name": "stderr",
          "text": [
            "Conv->LeakyReLU->BN with epoch 12: 100%|██████████| 20/20 [00:04<00:00,  4.24it/s, Loss=0.476]\n"
          ]
        },
        {
          "output_type": "stream",
          "name": "stdout",
          "text": [
            "Epoch 12, Loss: 0.5423799008131027, lr = 0.0195\n"
          ]
        },
        {
          "output_type": "stream",
          "name": "stderr",
          "text": [
            "Conv->LeakyReLU->BN with epoch 13: 100%|██████████| 20/20 [00:04<00:00,  4.26it/s, Loss=0.501]\n"
          ]
        },
        {
          "output_type": "stream",
          "name": "stdout",
          "text": [
            "Epoch 13, Loss: 0.4724923774600029, lr = 0.0195\n"
          ]
        },
        {
          "output_type": "stream",
          "name": "stderr",
          "text": [
            "Conv->LeakyReLU->BN with epoch 14: 100%|██████████| 20/20 [00:04<00:00,  4.21it/s, Loss=0.56]\n"
          ]
        },
        {
          "output_type": "stream",
          "name": "stdout",
          "text": [
            "Epoch 14, Loss: 0.4037094905972481, lr = 0.0195\n"
          ]
        },
        {
          "output_type": "stream",
          "name": "stderr",
          "text": [
            "Conv->LeakyReLU->BN with epoch 15: 100%|██████████| 20/20 [00:04<00:00,  4.22it/s, Loss=0.381]\n"
          ]
        },
        {
          "output_type": "stream",
          "name": "stdout",
          "text": [
            "Epoch 15, Loss: 0.32866242378950117, lr = 0.0195\n"
          ]
        },
        {
          "output_type": "stream",
          "name": "stderr",
          "text": [
            "Conv->LeakyReLU->BN with epoch 16: 100%|██████████| 20/20 [00:04<00:00,  4.24it/s, Loss=0.266]\n"
          ]
        },
        {
          "output_type": "stream",
          "name": "stdout",
          "text": [
            "Epoch 16, Loss: 0.28503080904483796, lr = 0.0195\n"
          ]
        },
        {
          "output_type": "stream",
          "name": "stderr",
          "text": [
            "Conv->LeakyReLU->BN with epoch 17: 100%|██████████| 20/20 [00:04<00:00,  4.24it/s, Loss=0.228]\n"
          ]
        },
        {
          "output_type": "stream",
          "name": "stdout",
          "text": [
            "Epoch 17, Loss: 0.24742751568555832, lr = 0.0195\n"
          ]
        },
        {
          "output_type": "stream",
          "name": "stderr",
          "text": [
            "Conv->LeakyReLU->BN with epoch 18: 100%|██████████| 20/20 [00:04<00:00,  4.21it/s, Loss=0.248]\n"
          ]
        },
        {
          "output_type": "stream",
          "name": "stdout",
          "text": [
            "Epoch 18, Loss: 0.1909186027944088, lr = 0.0195\n"
          ]
        },
        {
          "output_type": "stream",
          "name": "stderr",
          "text": [
            "Conv->LeakyReLU->BN with epoch 19: 100%|██████████| 20/20 [00:04<00:00,  4.17it/s, Loss=0.169]\n"
          ]
        },
        {
          "output_type": "stream",
          "name": "stdout",
          "text": [
            "Epoch 19, Loss: 0.15560702979564667, lr = 0.0195\n"
          ]
        },
        {
          "output_type": "stream",
          "name": "stderr",
          "text": [
            "Conv->LeakyReLU->BN with epoch 20: 100%|██████████| 20/20 [00:04<00:00,  4.24it/s, Loss=0.102]\n"
          ]
        },
        {
          "output_type": "stream",
          "name": "stdout",
          "text": [
            "Epoch 20, Loss: 0.11050316393375396, lr = 0.0019500000000000001\n"
          ]
        },
        {
          "output_type": "stream",
          "name": "stderr",
          "text": [
            "Conv->LeakyReLU->BN with epoch 21: 100%|██████████| 20/20 [00:04<00:00,  4.24it/s, Loss=0.028]\n"
          ]
        },
        {
          "output_type": "stream",
          "name": "stdout",
          "text": [
            "Epoch 21, Loss: 0.04987068958580494, lr = 0.0019500000000000001\n"
          ]
        },
        {
          "output_type": "stream",
          "name": "stderr",
          "text": [
            "Conv->LeakyReLU->BN with epoch 22: 100%|██████████| 20/20 [00:04<00:00,  4.25it/s, Loss=0.0187]\n"
          ]
        },
        {
          "output_type": "stream",
          "name": "stdout",
          "text": [
            "Epoch 22, Loss: 0.02167108077555895, lr = 0.0019500000000000001\n"
          ]
        },
        {
          "output_type": "stream",
          "name": "stderr",
          "text": [
            "Conv->LeakyReLU->BN with epoch 23: 100%|██████████| 20/20 [00:04<00:00,  4.25it/s, Loss=0.0199]\n"
          ]
        },
        {
          "output_type": "stream",
          "name": "stdout",
          "text": [
            "Epoch 23, Loss: 0.015640645613893868, lr = 0.0019500000000000001\n"
          ]
        },
        {
          "output_type": "stream",
          "name": "stderr",
          "text": [
            "Conv->LeakyReLU->BN with epoch 24: 100%|██████████| 20/20 [00:04<00:00,  4.23it/s, Loss=0.0137]\n"
          ]
        },
        {
          "output_type": "stream",
          "name": "stdout",
          "text": [
            "Epoch 24, Loss: 0.012817486422136426, lr = 0.0019500000000000001\n"
          ]
        },
        {
          "output_type": "stream",
          "name": "stderr",
          "text": [
            "Conv->LeakyReLU->BN with epoch 25: 100%|██████████| 20/20 [00:04<00:00,  4.25it/s, Loss=0.013]\n"
          ]
        },
        {
          "output_type": "stream",
          "name": "stdout",
          "text": [
            "Epoch 25, Loss: 0.011578952474519611, lr = 0.0019500000000000001\n"
          ]
        },
        {
          "output_type": "stream",
          "name": "stderr",
          "text": [
            "Conv->LeakyReLU->BN with epoch 26: 100%|██████████| 20/20 [00:04<00:00,  4.22it/s, Loss=0.0101]\n"
          ]
        },
        {
          "output_type": "stream",
          "name": "stdout",
          "text": [
            "Epoch 26, Loss: 0.010050793155096471, lr = 0.0019500000000000001\n"
          ]
        },
        {
          "output_type": "stream",
          "name": "stderr",
          "text": [
            "Conv->LeakyReLU->BN with epoch 27: 100%|██████████| 20/20 [00:04<00:00,  4.26it/s, Loss=0.0076]\n"
          ]
        },
        {
          "output_type": "stream",
          "name": "stdout",
          "text": [
            "Epoch 27, Loss: 0.009526643296703696, lr = 0.0019500000000000001\n"
          ]
        },
        {
          "output_type": "stream",
          "name": "stderr",
          "text": [
            "Conv->LeakyReLU->BN with epoch 28: 100%|██████████| 20/20 [00:04<00:00,  4.24it/s, Loss=0.00796]\n"
          ]
        },
        {
          "output_type": "stream",
          "name": "stdout",
          "text": [
            "Epoch 28, Loss: 0.008496867446228861, lr = 0.0019500000000000001\n"
          ]
        },
        {
          "output_type": "stream",
          "name": "stderr",
          "text": [
            "Conv->LeakyReLU->BN with epoch 29: 100%|██████████| 20/20 [00:04<00:00,  4.24it/s, Loss=0.0108]\n"
          ]
        },
        {
          "output_type": "stream",
          "name": "stdout",
          "text": [
            "Epoch 29, Loss: 0.007864814135245979, lr = 0.0019500000000000001\n"
          ]
        },
        {
          "output_type": "stream",
          "name": "stderr",
          "text": [
            "Conv->LeakyReLU->BN with epoch 30: 100%|██████████| 20/20 [00:04<00:00,  4.23it/s, Loss=0.011]\n"
          ]
        },
        {
          "output_type": "stream",
          "name": "stdout",
          "text": [
            "Epoch 30, Loss: 0.0074852414196357134, lr = 0.0019500000000000001\n"
          ]
        },
        {
          "output_type": "stream",
          "name": "stderr",
          "text": [
            "Conv->LeakyReLU->BN with epoch 31: 100%|██████████| 20/20 [00:04<00:00,  4.21it/s, Loss=0.00837]\n"
          ]
        },
        {
          "output_type": "stream",
          "name": "stdout",
          "text": [
            "Epoch 31, Loss: 0.007087788986973464, lr = 0.0019500000000000001\n"
          ]
        },
        {
          "output_type": "stream",
          "name": "stderr",
          "text": [
            "Conv->LeakyReLU->BN with epoch 32: 100%|██████████| 20/20 [00:04<00:00,  4.25it/s, Loss=0.00508]\n"
          ]
        },
        {
          "output_type": "stream",
          "name": "stdout",
          "text": [
            "Epoch 32, Loss: 0.006639288109727204, lr = 0.0019500000000000001\n"
          ]
        },
        {
          "output_type": "stream",
          "name": "stderr",
          "text": [
            "Conv->LeakyReLU->BN with epoch 33: 100%|██████████| 20/20 [00:04<00:00,  4.24it/s, Loss=0.00723]\n"
          ]
        },
        {
          "output_type": "stream",
          "name": "stdout",
          "text": [
            "Epoch 33, Loss: 0.006206587329506874, lr = 0.0019500000000000001\n"
          ]
        },
        {
          "output_type": "stream",
          "name": "stderr",
          "text": [
            "Conv->LeakyReLU->BN with epoch 34: 100%|██████████| 20/20 [00:04<00:00,  4.22it/s, Loss=0.00501]\n"
          ]
        },
        {
          "output_type": "stream",
          "name": "stdout",
          "text": [
            "Epoch 34, Loss: 0.006031880131922662, lr = 0.0019500000000000001\n"
          ]
        },
        {
          "output_type": "stream",
          "name": "stderr",
          "text": [
            "Conv->LeakyReLU->BN with epoch 35: 100%|██████████| 20/20 [00:04<00:00,  4.19it/s, Loss=0.00648]\n"
          ]
        },
        {
          "output_type": "stream",
          "name": "stdout",
          "text": [
            "Epoch 35, Loss: 0.006132320780307054, lr = 0.0019500000000000001\n"
          ]
        },
        {
          "output_type": "stream",
          "name": "stderr",
          "text": [
            "Conv->LeakyReLU->BN with epoch 36: 100%|██████████| 20/20 [00:04<00:00,  4.21it/s, Loss=0.00671]\n"
          ]
        },
        {
          "output_type": "stream",
          "name": "stdout",
          "text": [
            "Epoch 36, Loss: 0.005673390859737992, lr = 0.0019500000000000001\n"
          ]
        },
        {
          "output_type": "stream",
          "name": "stderr",
          "text": [
            "Conv->LeakyReLU->BN with epoch 37: 100%|██████████| 20/20 [00:04<00:00,  4.23it/s, Loss=0.00493]\n"
          ]
        },
        {
          "output_type": "stream",
          "name": "stdout",
          "text": [
            "Epoch 37, Loss: 0.00530396883841604, lr = 0.0019500000000000001\n"
          ]
        },
        {
          "output_type": "stream",
          "name": "stderr",
          "text": [
            "Conv->LeakyReLU->BN with epoch 38: 100%|██████████| 20/20 [00:04<00:00,  4.22it/s, Loss=0.00547]\n"
          ]
        },
        {
          "output_type": "stream",
          "name": "stdout",
          "text": [
            "Epoch 38, Loss: 0.005317377299070359, lr = 0.0019500000000000001\n"
          ]
        },
        {
          "output_type": "stream",
          "name": "stderr",
          "text": [
            "Conv->LeakyReLU->BN with epoch 39: 100%|██████████| 20/20 [00:04<00:00,  4.22it/s, Loss=0.00692]\n"
          ]
        },
        {
          "output_type": "stream",
          "name": "stdout",
          "text": [
            "Epoch 39, Loss: 0.005020665423944593, lr = 0.0019500000000000001\n"
          ]
        },
        {
          "output_type": "stream",
          "name": "stderr",
          "text": [
            "Conv->LeakyReLU->BN with epoch 40: 100%|██████████| 20/20 [00:04<00:00,  4.22it/s, Loss=0.00885]\n"
          ]
        },
        {
          "output_type": "stream",
          "name": "stdout",
          "text": [
            "Epoch 40, Loss: 0.004976123059168458, lr = 0.00019500000000000002\n"
          ]
        },
        {
          "output_type": "stream",
          "name": "stderr",
          "text": [
            "Conv->LeakyReLU->BN with epoch 41: 100%|██████████| 20/20 [00:04<00:00,  4.20it/s, Loss=0.00575]\n"
          ]
        },
        {
          "output_type": "stream",
          "name": "stdout",
          "text": [
            "Epoch 41, Loss: 0.004465090506710112, lr = 0.00019500000000000002\n"
          ]
        },
        {
          "output_type": "stream",
          "name": "stderr",
          "text": [
            "Conv->LeakyReLU->BN with epoch 42: 100%|██████████| 20/20 [00:04<00:00,  4.18it/s, Loss=0.00508]\n"
          ]
        },
        {
          "output_type": "stream",
          "name": "stdout",
          "text": [
            "Epoch 42, Loss: 0.00461907999124378, lr = 0.00019500000000000002\n"
          ]
        },
        {
          "output_type": "stream",
          "name": "stderr",
          "text": [
            "Conv->LeakyReLU->BN with epoch 43: 100%|██████████| 20/20 [00:04<00:00,  4.18it/s, Loss=0.00354]\n"
          ]
        },
        {
          "output_type": "stream",
          "name": "stdout",
          "text": [
            "Epoch 43, Loss: 0.004633843607734889, lr = 0.00019500000000000002\n"
          ]
        },
        {
          "output_type": "stream",
          "name": "stderr",
          "text": [
            "Conv->LeakyReLU->BN with epoch 44: 100%|██████████| 20/20 [00:04<00:00,  4.22it/s, Loss=0.00396]\n"
          ]
        },
        {
          "output_type": "stream",
          "name": "stdout",
          "text": [
            "Epoch 44, Loss: 0.004527665209025145, lr = 0.00019500000000000002\n"
          ]
        },
        {
          "output_type": "stream",
          "name": "stderr",
          "text": [
            "Conv->LeakyReLU->BN with epoch 45: 100%|██████████| 20/20 [00:04<00:00,  4.21it/s, Loss=0.00471]\n"
          ]
        },
        {
          "output_type": "stream",
          "name": "stdout",
          "text": [
            "Epoch 45, Loss: 0.0047415011329576375, lr = 0.00019500000000000002\n"
          ]
        },
        {
          "output_type": "stream",
          "name": "stderr",
          "text": [
            "Conv->LeakyReLU->BN with epoch 46: 100%|██████████| 20/20 [00:04<00:00,  4.24it/s, Loss=0.00552]\n"
          ]
        },
        {
          "output_type": "stream",
          "name": "stdout",
          "text": [
            "Epoch 46, Loss: 0.004635197320021689, lr = 0.00019500000000000002\n"
          ]
        },
        {
          "output_type": "stream",
          "name": "stderr",
          "text": [
            "Conv->LeakyReLU->BN with epoch 47: 100%|██████████| 20/20 [00:04<00:00,  4.19it/s, Loss=0.00701]\n"
          ]
        },
        {
          "output_type": "stream",
          "name": "stdout",
          "text": [
            "Epoch 47, Loss: 0.0045597712276503445, lr = 0.00019500000000000002\n"
          ]
        },
        {
          "output_type": "stream",
          "name": "stderr",
          "text": [
            "Conv->LeakyReLU->BN with epoch 48: 100%|██████████| 20/20 [00:04<00:00,  4.21it/s, Loss=0.00589]\n"
          ]
        },
        {
          "output_type": "stream",
          "name": "stdout",
          "text": [
            "Epoch 48, Loss: 0.004521380108781159, lr = 0.00019500000000000002\n"
          ]
        },
        {
          "output_type": "stream",
          "name": "stderr",
          "text": [
            "Conv->LeakyReLU->BN with epoch 49: 100%|██████████| 20/20 [00:04<00:00,  4.23it/s, Loss=0.00688]\n"
          ]
        },
        {
          "output_type": "stream",
          "name": "stdout",
          "text": [
            "Epoch 49, Loss: 0.005032408609986305, lr = 0.00019500000000000002\n"
          ]
        },
        {
          "output_type": "stream",
          "name": "stderr",
          "text": [
            "Conv->LeakyReLU->BN with epoch 50: 100%|██████████| 20/20 [00:04<00:00,  4.21it/s, Loss=0.00576]"
          ]
        },
        {
          "output_type": "stream",
          "name": "stdout",
          "text": [
            "Epoch 50, Loss: 0.004590147454291582, lr = 0.00019500000000000002\n"
          ]
        },
        {
          "output_type": "stream",
          "name": "stderr",
          "text": [
            "\n"
          ]
        },
        {
          "output_type": "stream",
          "name": "stdout",
          "text": [
            "sequence : Conv->BN->ReLU, Top1 Accuracy: 63.38%\n",
            "sequence : Conv->ReLU->BN, Top1 Accuracy: 59.39%\n",
            "sequence : Conv->LeakyReLU->BN, Top1 Accuracy: 59.42%\n"
          ]
        }
      ]
    },
    {
      "cell_type": "code",
      "source": [
        "# 결과 정리\n",
        "dfs = []\n",
        "for i in range(num_experiments):\n",
        "    print(f\"[Experiment Result]\")\n",
        "    Accuracies = results[i]\n",
        "    sorted_Accuracies = sorted(Accuracies, reverse=True)\n",
        "    ranks = [sorted_Accuracies.index(Accuracies[i]) + 1 for i in range(len(Accuracies))]\n",
        "\n",
        "    index = [\"Accuracy\", \"Rank\"]\n",
        "    data = {\n",
        "        \"Conv->BN->ReLU\": (Accuracies[0], int(ranks[0])),\n",
        "        \"Conv->ReLU->BN\": (Accuracies[1], ranks[1]),\n",
        "        \"Conv->LeakyReLU->BN\": (Accuracies[2], ranks[2])\n",
        "    }\n",
        "\n",
        "    df = pd.DataFrame(data, index=index)\n",
        "    dfs.append(df)\n",
        "\n",
        "    print(df)\n",
        "    print(\"\\n\")\n",
        "\n",
        "print(\"[Averages]\")\n",
        "average_df = dfs[0]\n",
        "for i in range(1, num_experiments):\n",
        "    average_df += dfs[i]\n",
        "average_df /= num_experiments\n",
        "print(average_df)"
      ],
      "metadata": {
        "id": "gw8GqXM-HQ0D",
        "colab": {
          "base_uri": "https://localhost:8080/"
        },
        "outputId": "e28be0b8-84aa-4c9d-c077-218ec5c651e1"
      },
      "execution_count": 40,
      "outputs": [
        {
          "output_type": "stream",
          "name": "stdout",
          "text": [
            "[Experiment Result]\n",
            "          Conv->BN->ReLU  Conv->ReLU->BN  Conv->LeakyReLU->BN\n",
            "Accuracy           62.32           59.56                60.97\n",
            "Rank                1.00            3.00                 2.00\n",
            "\n",
            "\n",
            "[Experiment Result]\n",
            "          Conv->BN->ReLU  Conv->ReLU->BN  Conv->LeakyReLU->BN\n",
            "Accuracy           62.23           56.54                59.87\n",
            "Rank                1.00            3.00                 2.00\n",
            "\n",
            "\n",
            "[Experiment Result]\n",
            "          Conv->BN->ReLU  Conv->ReLU->BN  Conv->LeakyReLU->BN\n",
            "Accuracy           63.38           59.39                59.42\n",
            "Rank                1.00            3.00                 2.00\n",
            "\n",
            "\n",
            "[Averages]\n",
            "          Conv->BN->ReLU  Conv->ReLU->BN  Conv->LeakyReLU->BN\n",
            "Accuracy       62.643333       58.496667            60.086667\n",
            "Rank            1.000000        3.000000             2.000000\n"
          ]
        }
      ]
    }
  ]
}