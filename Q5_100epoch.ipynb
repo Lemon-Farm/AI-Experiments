{
  "cells": [
    {
      "cell_type": "code",
      "execution_count": 1,
      "metadata": {
        "id": "ErvO-OF94ueq"
      },
      "outputs": [],
      "source": [
        "import torch\n",
        "import torch.nn as nn\n",
        "import torch.optim as optim\n",
        "import torch.nn.init as init\n",
        "import torch.nn.functional as F\n",
        "import os\n",
        "import random\n",
        "import numpy as np\n",
        "import matplotlib.pyplot as plt\n",
        "from torchvision import datasets, transforms\n",
        "from torch.utils.data import Dataset, DataLoader,Subset\n",
        "from tqdm import tqdm\n",
        "import pandas as pd\n",
        "from torch.optim.lr_scheduler import StepLR"
      ]
    },
    {
      "cell_type": "code",
      "execution_count": 8,
      "metadata": {
        "id": "44MQr3Uv4uer",
        "colab": {
          "base_uri": "https://localhost:8080/"
        },
        "outputId": "7375ae2c-fd72-4e55-f297-86ab0e33fa0e"
      },
      "outputs": [
        {
          "output_type": "stream",
          "name": "stdout",
          "text": [
            "Files already downloaded and verified\n",
            "Files already downloaded and verified\n"
          ]
        }
      ],
      "source": [
        "# 데이터 전처리 (CIFAR10은 3채널 이미지)\n",
        "transform = transforms.Compose([\n",
        "    transforms.ToTensor(),\n",
        "    transforms.Normalize(mean=[0.4914, 0.4822, 0.4465], std=[0.2023, 0.1994, 0.2010])\n",
        "])\n",
        "\n",
        "# CIFAR10 학습 및 테스트 데이터셋 불러오기\n",
        "train_dataset = datasets.CIFAR10(root='./data', train=True, transform=transform, download=True)\n",
        "test_dataset = datasets.CIFAR10(root='./data', train=False, transform=transform, download=True)\n",
        "\n",
        "# CIFAR10의 targets는 리스트로 되어 있으므로 tensor로 변환\n",
        "targets = torch.tensor(train_dataset.targets)\n",
        "\n",
        "num_samples_per_class = 500\n",
        "selected_indices = []\n",
        "\n",
        "# 0부터 9까지 각 클래스별로 인덱스를 추출하고, 랜덤하게 num_samples_per_class개 선택\n",
        "for class_label in range(10):\n",
        "    # 해당 클래스의 인덱스 추출\n",
        "    indices = (targets == class_label).nonzero(as_tuple=True)[0]\n",
        "    # 인덱스를 랜덤하게 섞은 후 원하는 개수만 선택\n",
        "    selected = indices[torch.randperm(len(indices))[:num_samples_per_class]]\n",
        "    selected_indices.extend(selected.tolist())\n",
        "\n",
        "# 선택한 인덱스만 남긴 서브셋 생성\n",
        "train_dataset = Subset(train_dataset, selected_indices)"
      ]
    },
    {
      "cell_type": "code",
      "execution_count": 9,
      "metadata": {
        "id": "FGzD9gLh4uer"
      },
      "outputs": [],
      "source": [
        "class MyNet(nn.Module):\n",
        "    def __init__(self, GN = False):\n",
        "        super(MyNet, self).__init__()\n",
        "        self.GN = GN\n",
        "\n",
        "        self.conv1 = nn.Conv2d(in_channels = 3, out_channels = 16, kernel_size = 3, padding = 1)\n",
        "        self.norm1 = nn.BatchNorm2d(16) if not GN else nn.GroupNorm(num_groups = 4, num_channels = 16)\n",
        "        self.conv2 = nn.Conv2d(in_channels = 16, out_channels = 32, kernel_size = 3, padding = 1)\n",
        "        self.norm2 = nn.BatchNorm2d(32) if not GN else nn.GroupNorm(num_groups = 8, num_channels = 32)\n",
        "        self.conv3 = nn.Conv2d(in_channels = 32, out_channels = 64, kernel_size = 3, padding = 1)\n",
        "        self.norm3 = nn.BatchNorm2d(64) if not GN else nn.GroupNorm(num_groups = 8, num_channels = 64)\n",
        "\n",
        "        self.relu = nn.ReLU()\n",
        "        self.pool = nn.MaxPool2d(kernel_size = 2, stride = 2)\n",
        "        self.classifier = nn.Linear(in_features=64 * 4 * 4, out_features=10)\n",
        "\n",
        "    def forward(self, x):\n",
        "        x = self.relu(self.norm1(self.conv1(x)))\n",
        "        x = self.pool(x)\n",
        "        x = self.relu(self.norm2(self.conv2(x)))\n",
        "        x = self.pool(x)\n",
        "        x = self.relu(self.norm3(self.conv3(x)))\n",
        "        x = self.pool(x)\n",
        "        x = x.view(x.size(0), -1)\n",
        "        x = self.classifier(x)\n",
        "        return x"
      ]
    },
    {
      "cell_type": "code",
      "source": [
        "def experiment(seed):\n",
        "    device = torch.device(\"cuda\" if torch.cuda.is_available() else \"cpu\")\n",
        "    batch_sizes = [2, 4, 8, 16, 32, 64, 128]\n",
        "    Accuracies = {\"BatchNorm\" : list(), \"GroupNorm\" : list()}\n",
        "    num_epochs = 100\n",
        "\n",
        "    def worker_init_fn(worker_id):\n",
        "        # 메인 프로세스의 torch.random.seed()로부터 worker에 고유 seed 부여\n",
        "        worker_seed = torch.initial_seed() % 2**32  # torch.initial_seed()는 메인 seed와 worker_id에 기반하여 결정됨\n",
        "        np.random.seed(worker_seed)\n",
        "        random.seed(worker_seed)\n",
        "\n",
        "    # 매 실험이 동일한 조건에서 시작하기 위해 시드 고정\n",
        "    print(f\"[Seed : {seed}] Experiment Start\")\n",
        "\n",
        "    for batch_size in batch_sizes:\n",
        "        # 시드 고정\n",
        "        torch.manual_seed(seed)\n",
        "        torch.cuda.manual_seed(seed)\n",
        "        torch.cuda.manual_seed_all(seed)\n",
        "        np.random.seed(seed)\n",
        "        random.seed(seed)\n",
        "        torch.backends.cudnn.deterministic = True\n",
        "        torch.backends.cudnn.benchmark = False\n",
        "\n",
        "        # DataLoader 생성\n",
        "        train_loader = DataLoader(train_dataset, batch_size=batch_size, shuffle=True, num_workers=8, pin_memory=True, worker_init_fn = worker_init_fn)\n",
        "        test_loader = DataLoader(test_dataset, batch_size=1024, shuffle=False, num_workers=8, pin_memory=True, worker_init_fn = worker_init_fn)\n",
        "        models = (model1:=MyNet(GN = False), model2:=MyNet(GN = True))\n",
        "        scaler = torch.amp.grad_scaler.GradScaler()\n",
        "\n",
        "        print(f\"ㅡㅡㅡㅡㅡㅡㅡㅡㅡㅡㅡㅡbatch_size: {batch_size}ㅡㅡㅡㅡㅡㅡㅡㅡㅡㅡㅡㅡㅡ\")\n",
        "        for model in models:\n",
        "            model.to(device)\n",
        "            criterion = nn.CrossEntropyLoss()\n",
        "            optimizer = optim.SGD(model.parameters(), lr=0.012, momentum=0.87, weight_decay=5e-4)\n",
        "            scheduler = torch.optim.lr_scheduler.CosineAnnealingLR(optimizer, T_max=num_epochs, eta_min=0.0005)\n",
        "            #Train Code\n",
        "            for epoch in range(num_epochs):\n",
        "                model.train()\n",
        "                epoch_loss = 0.0\n",
        "                progress_bar = tqdm(train_loader, desc=f\"{'BatchNorm' if not model.GN else 'GroupNorm'} with epoch {epoch + 1}\")\n",
        "                for (data, target) in progress_bar:\n",
        "                    data, target = data.to(device), target.to(device)\n",
        "                    optimizer.zero_grad()\n",
        "\n",
        "                    with torch.amp.autocast(device_type=\"cuda\", dtype=torch.bfloat16):\n",
        "                        output = model(data)\n",
        "                        loss = criterion(output, target)\n",
        "                    epoch_loss += loss.item()\n",
        "                    scaler.scale(loss).backward()\n",
        "                    scaler.step(optimizer)\n",
        "                    scaler.update()\n",
        "                    progress_bar.set_postfix({\"Loss\": loss.item()})\n",
        "                scheduler.step()\n",
        "                print(f\"Epoch {epoch + 1}, Loss: {epoch_loss / len(train_loader)}, lr = {optimizer.param_groups[0]['lr']}\")\n",
        "\n",
        "        for model in models:\n",
        "            #Test Code\n",
        "            model.to(device)\n",
        "            model.eval()\n",
        "            correct = 0\n",
        "            with torch.no_grad():\n",
        "                for _, (data, target) in enumerate(test_loader):\n",
        "                    data, target = data.to(device), target.to(device)\n",
        "                    output = model(data)\n",
        "                    correct += (output.argmax(dim=1) == target).sum().item()\n",
        "            top1_acc = 100 * correct / len(test_loader.dataset)\n",
        "            if model.GN == False:\n",
        "                Accuracies[\"BatchNorm\"].append(top1_acc)\n",
        "            else:\n",
        "                Accuracies[\"GroupNorm\"].append(top1_acc)\n",
        "            print(f\"Norm : {'GroupNorm' if model.GN else 'BatchNorm'}, Batch Size: {batch_size}, Top1 Accuracy: {top1_acc:.2f}%\")\n",
        "            del model\n",
        "            torch.cuda.empty_cache()\n",
        "        print(f\"ㅡㅡㅡㅡㅡㅡㅡㅡㅡㅡㅡㅡbatch_size: {batch_size}ㅡㅡㅡㅡㅡㅡㅡㅡㅡㅡㅡㅡㅡ\\n\")\n",
        "\n",
        "    return Accuracies\n",
        "\n",
        "\n",
        "if __name__ == \"__main__\":\n",
        "    results = []\n",
        "    print(\"\\n\\n\")\n",
        "    #Please...\n",
        "    seed = 1234\n",
        "    results.append(experiment(seed))"
      ],
      "metadata": {
        "colab": {
          "base_uri": "https://localhost:8080/"
        },
        "id": "eyLL9jq0UpvF",
        "outputId": "965cc02f-5494-4aad-8366-1399df29b514"
      },
      "execution_count": 17,
      "outputs": [
        {
          "output_type": "stream",
          "name": "stdout",
          "text": [
            "\n",
            "\n",
            "\n",
            "[Seed : 1234] Experiment Start\n",
            "ㅡㅡㅡㅡㅡㅡㅡㅡㅡㅡㅡㅡbatch_size: 2ㅡㅡㅡㅡㅡㅡㅡㅡㅡㅡㅡㅡㅡ\n"
          ]
        },
        {
          "output_type": "stream",
          "name": "stderr",
          "text": [
            "BatchNorm with epoch 1: 100%|██████████| 2500/2500 [00:11<00:00, 211.68it/s, Loss=1.48]\n"
          ]
        },
        {
          "output_type": "stream",
          "name": "stdout",
          "text": [
            "Epoch 1, Loss: 2.1914552734375, lr = 0.011997162722102958\n"
          ]
        },
        {
          "output_type": "stream",
          "name": "stderr",
          "text": [
            "BatchNorm with epoch 2: 100%|██████████| 2500/2500 [00:11<00:00, 211.34it/s, Loss=1.67]\n"
          ]
        },
        {
          "output_type": "stream",
          "name": "stdout",
          "text": [
            "Epoch 2, Loss: 1.94584228515625, lr = 0.011988653688462563\n"
          ]
        },
        {
          "output_type": "stream",
          "name": "stderr",
          "text": [
            "BatchNorm with epoch 3: 100%|██████████| 2500/2500 [00:11<00:00, 210.76it/s, Loss=1.59]\n"
          ]
        },
        {
          "output_type": "stream",
          "name": "stdout",
          "text": [
            "Epoch 3, Loss: 1.95733291015625, lr = 0.011974481296467712\n"
          ]
        },
        {
          "output_type": "stream",
          "name": "stderr",
          "text": [
            "BatchNorm with epoch 4: 100%|██████████| 2500/2500 [00:11<00:00, 209.49it/s, Loss=1.08]\n"
          ]
        },
        {
          "output_type": "stream",
          "name": "stdout",
          "text": [
            "Epoch 4, Loss: 1.884598388671875, lr = 0.01195465953255825\n"
          ]
        },
        {
          "output_type": "stream",
          "name": "stderr",
          "text": [
            "BatchNorm with epoch 5: 100%|██████████| 2500/2500 [00:11<00:00, 210.17it/s, Loss=2.1]\n"
          ]
        },
        {
          "output_type": "stream",
          "name": "stdout",
          "text": [
            "Epoch 5, Loss: 1.9017748779296875, lr = 0.011929207958422044\n"
          ]
        },
        {
          "output_type": "stream",
          "name": "stderr",
          "text": [
            "BatchNorm with epoch 6: 100%|██████████| 2500/2500 [00:11<00:00, 209.35it/s, Loss=1.9]\n"
          ]
        },
        {
          "output_type": "stream",
          "name": "stdout",
          "text": [
            "Epoch 6, Loss: 1.8866557739257812, lr = 0.011898151691689963\n"
          ]
        },
        {
          "output_type": "stream",
          "name": "stderr",
          "text": [
            "BatchNorm with epoch 7: 100%|██████████| 2500/2500 [00:11<00:00, 211.65it/s, Loss=2.95]\n"
          ]
        },
        {
          "output_type": "stream",
          "name": "stdout",
          "text": [
            "Epoch 7, Loss: 1.887012255859375, lr = 0.0118615213811478\n"
          ]
        },
        {
          "output_type": "stream",
          "name": "stderr",
          "text": [
            "BatchNorm with epoch 8: 100%|██████████| 2500/2500 [00:11<00:00, 211.44it/s, Loss=3.29]\n"
          ]
        },
        {
          "output_type": "stream",
          "name": "stdout",
          "text": [
            "Epoch 8, Loss: 1.83524375, lr = 0.011819353176489631\n"
          ]
        },
        {
          "output_type": "stream",
          "name": "stderr",
          "text": [
            "BatchNorm with epoch 9: 100%|██████████| 2500/2500 [00:11<00:00, 210.01it/s, Loss=1.65]\n"
          ]
        },
        {
          "output_type": "stream",
          "name": "stdout",
          "text": [
            "Epoch 9, Loss: 1.924895166015625, lr = 0.011771688692642425\n"
          ]
        },
        {
          "output_type": "stream",
          "name": "stderr",
          "text": [
            "BatchNorm with epoch 10: 100%|██████████| 2500/2500 [00:11<00:00, 210.88it/s, Loss=0.838]\n"
          ]
        },
        {
          "output_type": "stream",
          "name": "stdout",
          "text": [
            "Epoch 10, Loss: 1.929979345703125, lr = 0.011718574968697135\n"
          ]
        },
        {
          "output_type": "stream",
          "name": "stderr",
          "text": [
            "BatchNorm with epoch 11: 100%|██████████| 2500/2500 [00:11<00:00, 210.30it/s, Loss=3.39]\n"
          ]
        },
        {
          "output_type": "stream",
          "name": "stdout",
          "text": [
            "Epoch 11, Loss: 1.87082626953125, lr = 0.0116600644214868\n"
          ]
        },
        {
          "output_type": "stream",
          "name": "stderr",
          "text": [
            "BatchNorm with epoch 12: 100%|██████████| 2500/2500 [00:12<00:00, 207.36it/s, Loss=1.06]\n"
          ]
        },
        {
          "output_type": "stream",
          "name": "stdout",
          "text": [
            "Epoch 12, Loss: 1.8311552124023438, lr = 0.011596214793857449\n"
          ]
        },
        {
          "output_type": "stream",
          "name": "stderr",
          "text": [
            "BatchNorm with epoch 13: 100%|██████████| 2500/2500 [00:12<00:00, 207.71it/s, Loss=2.05]\n"
          ]
        },
        {
          "output_type": "stream",
          "name": "stdout",
          "text": [
            "Epoch 13, Loss: 1.801770068359375, lr = 0.011527089097682894\n"
          ]
        },
        {
          "output_type": "stream",
          "name": "stderr",
          "text": [
            "BatchNorm with epoch 14: 100%|██████████| 2500/2500 [00:11<00:00, 212.31it/s, Loss=1.9]\n"
          ]
        },
        {
          "output_type": "stream",
          "name": "stdout",
          "text": [
            "Epoch 14, Loss: 1.7897744384765626, lr = 0.011452755551679615\n"
          ]
        },
        {
          "output_type": "stream",
          "name": "stderr",
          "text": [
            "BatchNorm with epoch 15: 100%|██████████| 2500/2500 [00:11<00:00, 210.24it/s, Loss=2.32]\n"
          ]
        },
        {
          "output_type": "stream",
          "name": "stdout",
          "text": [
            "Epoch 15, Loss: 1.759276513671875, lr = 0.011373287514083117\n"
          ]
        },
        {
          "output_type": "stream",
          "name": "stderr",
          "text": [
            "BatchNorm with epoch 16: 100%|██████████| 2500/2500 [00:11<00:00, 211.23it/s, Loss=1.21]\n"
          ]
        },
        {
          "output_type": "stream",
          "name": "stdout",
          "text": [
            "Epoch 16, Loss: 1.7581400512695313, lr = 0.011288763410252218\n"
          ]
        },
        {
          "output_type": "stream",
          "name": "stderr",
          "text": [
            "BatchNorm with epoch 17: 100%|██████████| 2500/2500 [00:11<00:00, 210.23it/s, Loss=1.14]\n"
          ]
        },
        {
          "output_type": "stream",
          "name": "stdout",
          "text": [
            "Epoch 17, Loss: 1.7409877197265624, lr = 0.01119926665527268\n"
          ]
        },
        {
          "output_type": "stream",
          "name": "stderr",
          "text": [
            "BatchNorm with epoch 18: 100%|██████████| 2500/2500 [00:12<00:00, 207.72it/s, Loss=0.895]\n"
          ]
        },
        {
          "output_type": "stream",
          "name": "stdout",
          "text": [
            "Epoch 18, Loss: 1.7256934814453124, lr = 0.01110488557163659\n"
          ]
        },
        {
          "output_type": "stream",
          "name": "stderr",
          "text": [
            "BatchNorm with epoch 19: 100%|██████████| 2500/2500 [00:11<00:00, 208.67it/s, Loss=1.35]\n"
          ]
        },
        {
          "output_type": "stream",
          "name": "stdout",
          "text": [
            "Epoch 19, Loss: 1.73300810546875, lr = 0.011005713302078734\n"
          ]
        },
        {
          "output_type": "stream",
          "name": "stderr",
          "text": [
            "BatchNorm with epoch 20: 100%|██████████| 2500/2500 [00:11<00:00, 209.32it/s, Loss=1.8]\n"
          ]
        },
        {
          "output_type": "stream",
          "name": "stdout",
          "text": [
            "Epoch 20, Loss: 1.6984633239746094, lr = 0.010901847717655951\n"
          ]
        },
        {
          "output_type": "stream",
          "name": "stderr",
          "text": [
            "BatchNorm with epoch 21: 100%|██████████| 2500/2500 [00:11<00:00, 212.64it/s, Loss=1.81]\n"
          ]
        },
        {
          "output_type": "stream",
          "name": "stdout",
          "text": [
            "Epoch 21, Loss: 1.6836995178222656, lr = 0.010793391321160221\n"
          ]
        },
        {
          "output_type": "stream",
          "name": "stderr",
          "text": [
            "BatchNorm with epoch 22: 100%|██████████| 2500/2500 [00:11<00:00, 211.69it/s, Loss=0.73]\n"
          ]
        },
        {
          "output_type": "stream",
          "name": "stdout",
          "text": [
            "Epoch 22, Loss: 1.6866994140625, lr = 0.01068045114596079\n"
          ]
        },
        {
          "output_type": "stream",
          "name": "stderr",
          "text": [
            "BatchNorm with epoch 23: 100%|██████████| 2500/2500 [00:11<00:00, 212.13it/s, Loss=1.01]\n"
          ]
        },
        {
          "output_type": "stream",
          "name": "stdout",
          "text": [
            "Epoch 23, Loss: 1.6649313842773437, lr = 0.010563138650375146\n"
          ]
        },
        {
          "output_type": "stream",
          "name": "stderr",
          "text": [
            "BatchNorm with epoch 24: 100%|██████████| 2500/2500 [00:11<00:00, 212.08it/s, Loss=1.97]\n"
          ]
        },
        {
          "output_type": "stream",
          "name": "stdout",
          "text": [
            "Epoch 24, Loss: 1.673621795654297, lr = 0.01044156960767312\n"
          ]
        },
        {
          "output_type": "stream",
          "name": "stderr",
          "text": [
            "BatchNorm with epoch 25: 100%|██████████| 2500/2500 [00:11<00:00, 211.82it/s, Loss=3.67]\n"
          ]
        },
        {
          "output_type": "stream",
          "name": "stdout",
          "text": [
            "Epoch 25, Loss: 1.650351513671875, lr = 0.010315863991822652\n"
          ]
        },
        {
          "output_type": "stream",
          "name": "stderr",
          "text": [
            "BatchNorm with epoch 26: 100%|██████████| 2500/2500 [00:11<00:00, 211.97it/s, Loss=2.79]\n"
          ]
        },
        {
          "output_type": "stream",
          "name": "stdout",
          "text": [
            "Epoch 26, Loss: 1.6589306518554687, lr = 0.010186145859089965\n"
          ]
        },
        {
          "output_type": "stream",
          "name": "stderr",
          "text": [
            "BatchNorm with epoch 27: 100%|██████████| 2500/2500 [00:11<00:00, 212.23it/s, Loss=1.42]\n"
          ]
        },
        {
          "output_type": "stream",
          "name": "stdout",
          "text": [
            "Epoch 27, Loss: 1.644003466796875, lr = 0.010052543225611003\n"
          ]
        },
        {
          "output_type": "stream",
          "name": "stderr",
          "text": [
            "BatchNorm with epoch 28: 100%|██████████| 2500/2500 [00:11<00:00, 213.04it/s, Loss=0.533]\n"
          ]
        },
        {
          "output_type": "stream",
          "name": "stdout",
          "text": [
            "Epoch 28, Loss: 1.6317518753051758, lr = 0.00991518794105497\n"
          ]
        },
        {
          "output_type": "stream",
          "name": "stderr",
          "text": [
            "BatchNorm with epoch 29: 100%|██████████| 2500/2500 [00:11<00:00, 211.24it/s, Loss=0.564]\n"
          ]
        },
        {
          "output_type": "stream",
          "name": "stdout",
          "text": [
            "Epoch 29, Loss: 1.6250709716796874, lr = 0.00977421555850462\n"
          ]
        },
        {
          "output_type": "stream",
          "name": "stderr",
          "text": [
            "BatchNorm with epoch 30: 100%|██████████| 2500/2500 [00:11<00:00, 211.01it/s, Loss=0.582]\n"
          ]
        },
        {
          "output_type": "stream",
          "name": "stdout",
          "text": [
            "Epoch 30, Loss: 1.6263297485351562, lr = 0.009629765200681727\n"
          ]
        },
        {
          "output_type": "stream",
          "name": "stderr",
          "text": [
            "BatchNorm with epoch 31: 100%|██████████| 2500/2500 [00:11<00:00, 210.89it/s, Loss=1.39]\n"
          ]
        },
        {
          "output_type": "stream",
          "name": "stdout",
          "text": [
            "Epoch 31, Loss: 1.6165285400390625, lr = 0.009481979422649757\n"
          ]
        },
        {
          "output_type": "stream",
          "name": "stderr",
          "text": [
            "BatchNorm with epoch 32: 100%|██████████| 2500/2500 [00:12<00:00, 206.20it/s, Loss=0.906]\n"
          ]
        },
        {
          "output_type": "stream",
          "name": "stdout",
          "text": [
            "Epoch 32, Loss: 1.6046324951171875, lr = 0.009331004071129235\n"
          ]
        },
        {
          "output_type": "stream",
          "name": "stderr",
          "text": [
            "BatchNorm with epoch 33: 100%|██████████| 2500/2500 [00:13<00:00, 191.68it/s, Loss=2.7]\n"
          ]
        },
        {
          "output_type": "stream",
          "name": "stdout",
          "text": [
            "Epoch 33, Loss: 1.6005455688476562, lr = 0.00917698814056464\n"
          ]
        },
        {
          "output_type": "stream",
          "name": "stderr",
          "text": [
            "BatchNorm with epoch 34: 100%|██████████| 2500/2500 [00:12<00:00, 200.47it/s, Loss=1.86]\n"
          ]
        },
        {
          "output_type": "stream",
          "name": "stdout",
          "text": [
            "Epoch 34, Loss: 1.5924234741210936, lr = 0.009020083626084868\n"
          ]
        },
        {
          "output_type": "stream",
          "name": "stderr",
          "text": [
            "BatchNorm with epoch 35: 100%|██████████| 2500/2500 [00:13<00:00, 191.34it/s, Loss=3.62]\n"
          ]
        },
        {
          "output_type": "stream",
          "name": "stdout",
          "text": [
            "Epoch 35, Loss: 1.5980864624023436, lr = 0.008860445373502399\n"
          ]
        },
        {
          "output_type": "stream",
          "name": "stderr",
          "text": [
            "BatchNorm with epoch 36: 100%|██████████| 2500/2500 [00:13<00:00, 187.43it/s, Loss=1.38]\n"
          ]
        },
        {
          "output_type": "stream",
          "name": "stdout",
          "text": [
            "Epoch 36, Loss: 1.57440283203125, lr = 0.008698230926499172\n"
          ]
        },
        {
          "output_type": "stream",
          "name": "stderr",
          "text": [
            "BatchNorm with epoch 37: 100%|██████████| 2500/2500 [00:12<00:00, 193.04it/s, Loss=2.23]\n"
          ]
        },
        {
          "output_type": "stream",
          "name": "stdout",
          "text": [
            "Epoch 37, Loss: 1.5736024291992188, lr = 0.008533600371149993\n"
          ]
        },
        {
          "output_type": "stream",
          "name": "stderr",
          "text": [
            "BatchNorm with epoch 38: 100%|██████████| 2500/2500 [00:12<00:00, 197.84it/s, Loss=1.65]\n"
          ]
        },
        {
          "output_type": "stream",
          "name": "stdout",
          "text": [
            "Epoch 38, Loss: 1.5728168212890625, lr = 0.008366716177936905\n"
          ]
        },
        {
          "output_type": "stream",
          "name": "stderr",
          "text": [
            "BatchNorm with epoch 39: 100%|██████████| 2500/2500 [00:12<00:00, 199.74it/s, Loss=2.12]\n"
          ]
        },
        {
          "output_type": "stream",
          "name": "stdout",
          "text": [
            "Epoch 39, Loss: 1.553871337890625, lr = 0.008197743041410431\n"
          ]
        },
        {
          "output_type": "stream",
          "name": "stderr",
          "text": [
            "BatchNorm with epoch 40: 100%|██████████| 2500/2500 [00:12<00:00, 199.81it/s, Loss=1.19]\n"
          ]
        },
        {
          "output_type": "stream",
          "name": "stdout",
          "text": [
            "Epoch 40, Loss: 1.5570345825195313, lr = 0.008026847717655952\n"
          ]
        },
        {
          "output_type": "stream",
          "name": "stderr",
          "text": [
            "BatchNorm with epoch 41: 100%|██████████| 2500/2500 [00:12<00:00, 195.11it/s, Loss=0.705]\n"
          ]
        },
        {
          "output_type": "stream",
          "name": "stdout",
          "text": [
            "Epoch 41, Loss: 1.556589892578125, lr = 0.007854198859725573\n"
          ]
        },
        {
          "output_type": "stream",
          "name": "stderr",
          "text": [
            "BatchNorm with epoch 42: 100%|██████████| 2500/2500 [00:12<00:00, 197.30it/s, Loss=1.5]\n"
          ]
        },
        {
          "output_type": "stream",
          "name": "stdout",
          "text": [
            "Epoch 42, Loss: 1.5456722290039062, lr = 0.007679966851197918\n"
          ]
        },
        {
          "output_type": "stream",
          "name": "stderr",
          "text": [
            "BatchNorm with epoch 43: 100%|██████████| 2500/2500 [00:12<00:00, 200.98it/s, Loss=2.72]\n"
          ]
        },
        {
          "output_type": "stream",
          "name": "stdout",
          "text": [
            "Epoch 43, Loss: 1.5476546142578125, lr = 0.007504323638030124\n"
          ]
        },
        {
          "output_type": "stream",
          "name": "stderr",
          "text": [
            "BatchNorm with epoch 44: 100%|██████████| 2500/2500 [00:12<00:00, 201.40it/s, Loss=2.86]\n"
          ]
        },
        {
          "output_type": "stream",
          "name": "stdout",
          "text": [
            "Epoch 44, Loss: 1.533161376953125, lr = 0.007327442558867921\n"
          ]
        },
        {
          "output_type": "stream",
          "name": "stderr",
          "text": [
            "BatchNorm with epoch 45: 100%|██████████| 2500/2500 [00:12<00:00, 204.33it/s, Loss=1.78]\n"
          ]
        },
        {
          "output_type": "stream",
          "name": "stdout",
          "text": [
            "Epoch 45, Loss: 1.5244348266601562, lr = 0.00714949817398133\n"
          ]
        },
        {
          "output_type": "stream",
          "name": "stderr",
          "text": [
            "BatchNorm with epoch 46: 100%|██████████| 2500/2500 [00:12<00:00, 205.85it/s, Loss=0.601]\n"
          ]
        },
        {
          "output_type": "stream",
          "name": "stdout",
          "text": [
            "Epoch 46, Loss: 1.5124727783203125, lr = 0.006970666092994753\n"
          ]
        },
        {
          "output_type": "stream",
          "name": "stderr",
          "text": [
            "BatchNorm with epoch 47: 100%|██████████| 2500/2500 [00:12<00:00, 207.18it/s, Loss=0.697]\n"
          ]
        },
        {
          "output_type": "stream",
          "name": "stdout",
          "text": [
            "Epoch 47, Loss: 1.5094954956054687, lr = 0.006791122801581459\n"
          ]
        },
        {
          "output_type": "stream",
          "name": "stderr",
          "text": [
            "BatchNorm with epoch 48: 100%|██████████| 2500/2500 [00:12<00:00, 202.24it/s, Loss=0.76]\n"
          ]
        },
        {
          "output_type": "stream",
          "name": "stdout",
          "text": [
            "Epoch 48, Loss: 1.5032990234375, lr = 0.006611045487293554\n"
          ]
        },
        {
          "output_type": "stream",
          "name": "stderr",
          "text": [
            "BatchNorm with epoch 49: 100%|██████████| 2500/2500 [00:12<00:00, 201.70it/s, Loss=2.02]\n"
          ]
        },
        {
          "output_type": "stream",
          "name": "stdout",
          "text": [
            "Epoch 49, Loss: 1.501428125, lr = 0.006430611864699239\n"
          ]
        },
        {
          "output_type": "stream",
          "name": "stderr",
          "text": [
            "BatchNorm with epoch 50: 100%|██████████| 2500/2500 [00:12<00:00, 201.35it/s, Loss=2.22]\n"
          ]
        },
        {
          "output_type": "stream",
          "name": "stdout",
          "text": [
            "Epoch 50, Loss: 1.481591683959961, lr = 0.00625\n"
          ]
        },
        {
          "output_type": "stream",
          "name": "stderr",
          "text": [
            "BatchNorm with epoch 51: 100%|██████████| 2500/2500 [00:12<00:00, 205.81it/s, Loss=1.04]\n"
          ]
        },
        {
          "output_type": "stream",
          "name": "stdout",
          "text": [
            "Epoch 51, Loss: 1.47946044921875, lr = 0.006069388135300762\n"
          ]
        },
        {
          "output_type": "stream",
          "name": "stderr",
          "text": [
            "BatchNorm with epoch 52: 100%|██████████| 2500/2500 [00:11<00:00, 208.91it/s, Loss=2.52]\n"
          ]
        },
        {
          "output_type": "stream",
          "name": "stdout",
          "text": [
            "Epoch 52, Loss: 1.4674450561523438, lr = 0.005888954512706447\n"
          ]
        },
        {
          "output_type": "stream",
          "name": "stderr",
          "text": [
            "BatchNorm with epoch 53: 100%|██████████| 2500/2500 [00:11<00:00, 208.58it/s, Loss=1.31]\n"
          ]
        },
        {
          "output_type": "stream",
          "name": "stdout",
          "text": [
            "Epoch 53, Loss: 1.4610366256713867, lr = 0.005708877198418541\n"
          ]
        },
        {
          "output_type": "stream",
          "name": "stderr",
          "text": [
            "BatchNorm with epoch 54: 100%|██████████| 2500/2500 [00:12<00:00, 206.94it/s, Loss=0.688]\n"
          ]
        },
        {
          "output_type": "stream",
          "name": "stdout",
          "text": [
            "Epoch 54, Loss: 1.4460964477539062, lr = 0.0055293339070052495\n"
          ]
        },
        {
          "output_type": "stream",
          "name": "stderr",
          "text": [
            "BatchNorm with epoch 55: 100%|██████████| 2500/2500 [00:12<00:00, 196.47it/s, Loss=1.02]\n"
          ]
        },
        {
          "output_type": "stream",
          "name": "stdout",
          "text": [
            "Epoch 55, Loss: 1.4477892181396483, lr = 0.005350501826018671\n"
          ]
        },
        {
          "output_type": "stream",
          "name": "stderr",
          "text": [
            "BatchNorm with epoch 56: 100%|██████████| 2500/2500 [00:12<00:00, 204.12it/s, Loss=1.71]\n"
          ]
        },
        {
          "output_type": "stream",
          "name": "stdout",
          "text": [
            "Epoch 56, Loss: 1.4406076477050782, lr = 0.005172557441132082\n"
          ]
        },
        {
          "output_type": "stream",
          "name": "stderr",
          "text": [
            "BatchNorm with epoch 57: 100%|██████████| 2500/2500 [00:12<00:00, 202.72it/s, Loss=0.947]\n"
          ]
        },
        {
          "output_type": "stream",
          "name": "stdout",
          "text": [
            "Epoch 57, Loss: 1.417965673828125, lr = 0.00499567636196988\n"
          ]
        },
        {
          "output_type": "stream",
          "name": "stderr",
          "text": [
            "BatchNorm with epoch 58: 100%|██████████| 2500/2500 [00:12<00:00, 199.75it/s, Loss=0.666]\n"
          ]
        },
        {
          "output_type": "stream",
          "name": "stdout",
          "text": [
            "Epoch 58, Loss: 1.4212121887207032, lr = 0.004820033148802083\n"
          ]
        },
        {
          "output_type": "stream",
          "name": "stderr",
          "text": [
            "BatchNorm with epoch 59: 100%|██████████| 2500/2500 [00:12<00:00, 203.12it/s, Loss=0.646]\n"
          ]
        },
        {
          "output_type": "stream",
          "name": "stdout",
          "text": [
            "Epoch 59, Loss: 1.3964291625976561, lr = 0.004645801140274431\n"
          ]
        },
        {
          "output_type": "stream",
          "name": "stderr",
          "text": [
            "BatchNorm with epoch 60: 100%|██████████| 2500/2500 [00:12<00:00, 207.99it/s, Loss=0.725]\n"
          ]
        },
        {
          "output_type": "stream",
          "name": "stdout",
          "text": [
            "Epoch 60, Loss: 1.3986942016601562, lr = 0.004473152282344052\n"
          ]
        },
        {
          "output_type": "stream",
          "name": "stderr",
          "text": [
            "BatchNorm with epoch 61: 100%|██████████| 2500/2500 [00:12<00:00, 207.49it/s, Loss=3.41]\n"
          ]
        },
        {
          "output_type": "stream",
          "name": "stdout",
          "text": [
            "Epoch 61, Loss: 1.3942688598632813, lr = 0.004302256958589572\n"
          ]
        },
        {
          "output_type": "stream",
          "name": "stderr",
          "text": [
            "BatchNorm with epoch 62: 100%|██████████| 2500/2500 [00:12<00:00, 206.44it/s, Loss=0.915]\n"
          ]
        },
        {
          "output_type": "stream",
          "name": "stdout",
          "text": [
            "Epoch 62, Loss: 1.38092041015625, lr = 0.004133283822063101\n"
          ]
        },
        {
          "output_type": "stream",
          "name": "stderr",
          "text": [
            "BatchNorm with epoch 63: 100%|██████████| 2500/2500 [00:12<00:00, 205.88it/s, Loss=1.49]\n"
          ]
        },
        {
          "output_type": "stream",
          "name": "stdout",
          "text": [
            "Epoch 63, Loss: 1.3697471221923827, lr = 0.003966399628850009\n"
          ]
        },
        {
          "output_type": "stream",
          "name": "stderr",
          "text": [
            "BatchNorm with epoch 64: 100%|██████████| 2500/2500 [00:12<00:00, 208.16it/s, Loss=0.319]\n"
          ]
        },
        {
          "output_type": "stream",
          "name": "stdout",
          "text": [
            "Epoch 64, Loss: 1.3635254486083985, lr = 0.0038017690735008304\n"
          ]
        },
        {
          "output_type": "stream",
          "name": "stderr",
          "text": [
            "BatchNorm with epoch 65: 100%|██████████| 2500/2500 [00:11<00:00, 209.28it/s, Loss=2.27]\n"
          ]
        },
        {
          "output_type": "stream",
          "name": "stdout",
          "text": [
            "Epoch 65, Loss: 1.3416648468017578, lr = 0.0036395546264976044\n"
          ]
        },
        {
          "output_type": "stream",
          "name": "stderr",
          "text": [
            "BatchNorm with epoch 66: 100%|██████████| 2500/2500 [00:12<00:00, 202.01it/s, Loss=0.249]\n"
          ]
        },
        {
          "output_type": "stream",
          "name": "stdout",
          "text": [
            "Epoch 66, Loss: 1.3290165130615235, lr = 0.0034799163739151345\n"
          ]
        },
        {
          "output_type": "stream",
          "name": "stderr",
          "text": [
            "BatchNorm with epoch 67: 100%|██████████| 2500/2500 [00:12<00:00, 205.17it/s, Loss=1.04]\n"
          ]
        },
        {
          "output_type": "stream",
          "name": "stdout",
          "text": [
            "Epoch 67, Loss: 1.3157842681884766, lr = 0.0033230118594353634\n"
          ]
        },
        {
          "output_type": "stream",
          "name": "stderr",
          "text": [
            "BatchNorm with epoch 68: 100%|██████████| 2500/2500 [00:12<00:00, 205.58it/s, Loss=0.63]\n"
          ]
        },
        {
          "output_type": "stream",
          "name": "stdout",
          "text": [
            "Epoch 68, Loss: 1.3146665756225586, lr = 0.0031689959288707667\n"
          ]
        },
        {
          "output_type": "stream",
          "name": "stderr",
          "text": [
            "BatchNorm with epoch 69: 100%|██████████| 2500/2500 [00:12<00:00, 204.61it/s, Loss=2.05]\n"
          ]
        },
        {
          "output_type": "stream",
          "name": "stdout",
          "text": [
            "Epoch 69, Loss: 1.295156854248047, lr = 0.0030180205773502476\n"
          ]
        },
        {
          "output_type": "stream",
          "name": "stderr",
          "text": [
            "BatchNorm with epoch 70: 100%|██████████| 2500/2500 [00:12<00:00, 205.95it/s, Loss=0.547]\n"
          ]
        },
        {
          "output_type": "stream",
          "name": "stdout",
          "text": [
            "Epoch 70, Loss: 1.2842905952453614, lr = 0.0028702347993182793\n"
          ]
        },
        {
          "output_type": "stream",
          "name": "stderr",
          "text": [
            "BatchNorm with epoch 71: 100%|██████████| 2500/2500 [00:12<00:00, 203.96it/s, Loss=1.25]\n"
          ]
        },
        {
          "output_type": "stream",
          "name": "stdout",
          "text": [
            "Epoch 71, Loss: 1.2791893920898438, lr = 0.002725784441495384\n"
          ]
        },
        {
          "output_type": "stream",
          "name": "stderr",
          "text": [
            "BatchNorm with epoch 72: 100%|██████████| 2500/2500 [00:12<00:00, 203.62it/s, Loss=1.12]\n"
          ]
        },
        {
          "output_type": "stream",
          "name": "stdout",
          "text": [
            "Epoch 72, Loss: 1.2702685195922852, lr = 0.0025848120589450334\n"
          ]
        },
        {
          "output_type": "stream",
          "name": "stderr",
          "text": [
            "BatchNorm with epoch 73: 100%|██████████| 2500/2500 [00:12<00:00, 204.18it/s, Loss=0.293]\n"
          ]
        },
        {
          "output_type": "stream",
          "name": "stdout",
          "text": [
            "Epoch 73, Loss: 1.255613803100586, lr = 0.0024474567743890023\n"
          ]
        },
        {
          "output_type": "stream",
          "name": "stderr",
          "text": [
            "BatchNorm with epoch 74: 100%|██████████| 2500/2500 [00:12<00:00, 203.07it/s, Loss=1.16]\n"
          ]
        },
        {
          "output_type": "stream",
          "name": "stdout",
          "text": [
            "Epoch 74, Loss: 1.233782421875, lr = 0.0023138541409100395\n"
          ]
        },
        {
          "output_type": "stream",
          "name": "stderr",
          "text": [
            "BatchNorm with epoch 75: 100%|██████████| 2500/2500 [00:12<00:00, 203.84it/s, Loss=0.297]\n"
          ]
        },
        {
          "output_type": "stream",
          "name": "stdout",
          "text": [
            "Epoch 75, Loss: 1.2281211349487304, lr = 0.0021841360081773517\n"
          ]
        },
        {
          "output_type": "stream",
          "name": "stderr",
          "text": [
            "BatchNorm with epoch 76: 100%|██████████| 2500/2500 [00:12<00:00, 202.15it/s, Loss=1.52]\n"
          ]
        },
        {
          "output_type": "stream",
          "name": "stdout",
          "text": [
            "Epoch 76, Loss: 1.2156649740219116, lr = 0.0020584303923268845\n"
          ]
        },
        {
          "output_type": "stream",
          "name": "stderr",
          "text": [
            "BatchNorm with epoch 77: 100%|██████████| 2500/2500 [00:12<00:00, 202.00it/s, Loss=1.57]\n"
          ]
        },
        {
          "output_type": "stream",
          "name": "stdout",
          "text": [
            "Epoch 77, Loss: 1.2049317840576173, lr = 0.0019368613496248569\n"
          ]
        },
        {
          "output_type": "stream",
          "name": "stderr",
          "text": [
            "BatchNorm with epoch 78: 100%|██████████| 2500/2500 [00:12<00:00, 205.64it/s, Loss=0.797]\n"
          ]
        },
        {
          "output_type": "stream",
          "name": "stdout",
          "text": [
            "Epoch 78, Loss: 1.188188907623291, lr = 0.001819548854039212\n"
          ]
        },
        {
          "output_type": "stream",
          "name": "stderr",
          "text": [
            "BatchNorm with epoch 79: 100%|██████████| 2500/2500 [00:12<00:00, 204.20it/s, Loss=1.36]\n"
          ]
        },
        {
          "output_type": "stream",
          "name": "stdout",
          "text": [
            "Epoch 79, Loss: 1.1777100173950195, lr = 0.0017066086788397798\n"
          ]
        },
        {
          "output_type": "stream",
          "name": "stderr",
          "text": [
            "BatchNorm with epoch 80: 100%|██████████| 2500/2500 [00:12<00:00, 206.84it/s, Loss=0.424]\n"
          ]
        },
        {
          "output_type": "stream",
          "name": "stdout",
          "text": [
            "Epoch 80, Loss: 1.1572121154785155, lr = 0.0015981522823440525\n"
          ]
        },
        {
          "output_type": "stream",
          "name": "stderr",
          "text": [
            "BatchNorm with epoch 81: 100%|██████████| 2500/2500 [00:12<00:00, 206.31it/s, Loss=0.695]\n"
          ]
        },
        {
          "output_type": "stream",
          "name": "stdout",
          "text": [
            "Epoch 81, Loss: 1.1455948348999023, lr = 0.0014942866979212699\n"
          ]
        },
        {
          "output_type": "stream",
          "name": "stderr",
          "text": [
            "BatchNorm with epoch 82: 100%|██████████| 2500/2500 [00:12<00:00, 202.86it/s, Loss=0.803]\n"
          ]
        },
        {
          "output_type": "stream",
          "name": "stdout",
          "text": [
            "Epoch 82, Loss: 1.129581144618988, lr = 0.0013951144283634144\n"
          ]
        },
        {
          "output_type": "stream",
          "name": "stderr",
          "text": [
            "BatchNorm with epoch 83: 100%|██████████| 2500/2500 [00:12<00:00, 203.80it/s, Loss=0.988]\n"
          ]
        },
        {
          "output_type": "stream",
          "name": "stdout",
          "text": [
            "Epoch 83, Loss: 1.1084072509765626, lr = 0.0013007333447273232\n"
          ]
        },
        {
          "output_type": "stream",
          "name": "stderr",
          "text": [
            "BatchNorm with epoch 84: 100%|██████████| 2500/2500 [00:12<00:00, 202.02it/s, Loss=0.544]\n"
          ]
        },
        {
          "output_type": "stream",
          "name": "stdout",
          "text": [
            "Epoch 84, Loss: 1.0984440765380858, lr = 0.0012112365897477841\n"
          ]
        },
        {
          "output_type": "stream",
          "name": "stderr",
          "text": [
            "BatchNorm with epoch 85: 100%|██████████| 2500/2500 [00:12<00:00, 204.79it/s, Loss=1.2]\n"
          ]
        },
        {
          "output_type": "stream",
          "name": "stdout",
          "text": [
            "Epoch 85, Loss: 1.0810926040649413, lr = 0.001126712485916885\n"
          ]
        },
        {
          "output_type": "stream",
          "name": "stderr",
          "text": [
            "BatchNorm with epoch 86: 100%|██████████| 2500/2500 [00:12<00:00, 205.84it/s, Loss=0.579]\n"
          ]
        },
        {
          "output_type": "stream",
          "name": "stdout",
          "text": [
            "Epoch 86, Loss: 1.0763255325317382, lr = 0.0010472444483203885\n"
          ]
        },
        {
          "output_type": "stream",
          "name": "stderr",
          "text": [
            "BatchNorm with epoch 87: 100%|██████████| 2500/2500 [00:12<00:00, 207.54it/s, Loss=0.92]\n"
          ]
        },
        {
          "output_type": "stream",
          "name": "stdout",
          "text": [
            "Epoch 87, Loss: 1.060322986793518, lr = 0.0009729109023171096\n"
          ]
        },
        {
          "output_type": "stream",
          "name": "stderr",
          "text": [
            "BatchNorm with epoch 88: 100%|██████████| 2500/2500 [00:12<00:00, 205.06it/s, Loss=3.07]\n"
          ]
        },
        {
          "output_type": "stream",
          "name": "stdout",
          "text": [
            "Epoch 88, Loss: 1.0444233619689942, lr = 0.0009037852061425547\n"
          ]
        },
        {
          "output_type": "stream",
          "name": "stderr",
          "text": [
            "BatchNorm with epoch 89: 100%|██████████| 2500/2500 [00:12<00:00, 204.78it/s, Loss=0.0474]\n"
          ]
        },
        {
          "output_type": "stream",
          "name": "stdout",
          "text": [
            "Epoch 89, Loss: 1.0349636163711549, lr = 0.0008399355785132036\n"
          ]
        },
        {
          "output_type": "stream",
          "name": "stderr",
          "text": [
            "BatchNorm with epoch 90: 100%|██████████| 2500/2500 [00:12<00:00, 205.90it/s, Loss=0.339]\n"
          ]
        },
        {
          "output_type": "stream",
          "name": "stdout",
          "text": [
            "Epoch 90, Loss: 1.0107301377773286, lr = 0.0007814250313028671\n"
          ]
        },
        {
          "output_type": "stream",
          "name": "stderr",
          "text": [
            "BatchNorm with epoch 91: 100%|██████████| 2500/2500 [00:12<00:00, 204.11it/s, Loss=0.0768]\n"
          ]
        },
        {
          "output_type": "stream",
          "name": "stdout",
          "text": [
            "Epoch 91, Loss: 1.0169908630371094, lr = 0.0007283113073575779\n"
          ]
        },
        {
          "output_type": "stream",
          "name": "stderr",
          "text": [
            "BatchNorm with epoch 92: 100%|██████████| 2500/2500 [00:12<00:00, 206.29it/s, Loss=0.224]\n"
          ]
        },
        {
          "output_type": "stream",
          "name": "stdout",
          "text": [
            "Epoch 92, Loss: 0.9946683690071106, lr = 0.0006806468235103719\n"
          ]
        },
        {
          "output_type": "stream",
          "name": "stderr",
          "text": [
            "BatchNorm with epoch 93: 100%|██████████| 2500/2500 [00:12<00:00, 206.93it/s, Loss=1.12]\n"
          ]
        },
        {
          "output_type": "stream",
          "name": "stdout",
          "text": [
            "Epoch 93, Loss: 0.9763105937957763, lr = 0.0006384786188522028\n"
          ]
        },
        {
          "output_type": "stream",
          "name": "stderr",
          "text": [
            "BatchNorm with epoch 94: 100%|██████████| 2500/2500 [00:12<00:00, 207.41it/s, Loss=0.4]\n"
          ]
        },
        {
          "output_type": "stream",
          "name": "stdout",
          "text": [
            "Epoch 94, Loss: 0.964410942697525, lr = 0.0006018483083100398\n"
          ]
        },
        {
          "output_type": "stream",
          "name": "stderr",
          "text": [
            "BatchNorm with epoch 95: 100%|██████████| 2500/2500 [00:12<00:00, 206.00it/s, Loss=0.696]\n"
          ]
        },
        {
          "output_type": "stream",
          "name": "stdout",
          "text": [
            "Epoch 95, Loss: 0.9590133930206299, lr = 0.0005707920415779584\n"
          ]
        },
        {
          "output_type": "stream",
          "name": "stderr",
          "text": [
            "BatchNorm with epoch 96: 100%|██████████| 2500/2500 [00:12<00:00, 204.81it/s, Loss=1.3]\n"
          ]
        },
        {
          "output_type": "stream",
          "name": "stdout",
          "text": [
            "Epoch 96, Loss: 0.958224418258667, lr = 0.0005453404674417528\n"
          ]
        },
        {
          "output_type": "stream",
          "name": "stderr",
          "text": [
            "BatchNorm with epoch 97: 100%|██████████| 2500/2500 [00:12<00:00, 206.32it/s, Loss=0.579]\n"
          ]
        },
        {
          "output_type": "stream",
          "name": "stdout",
          "text": [
            "Epoch 97, Loss: 0.9461296029090881, lr = 0.00052551870353229\n"
          ]
        },
        {
          "output_type": "stream",
          "name": "stderr",
          "text": [
            "BatchNorm with epoch 98: 100%|██████████| 2500/2500 [00:12<00:00, 207.57it/s, Loss=4.41]\n"
          ]
        },
        {
          "output_type": "stream",
          "name": "stdout",
          "text": [
            "Epoch 98, Loss: 0.9476480020523071, lr = 0.0005113463115374385\n"
          ]
        },
        {
          "output_type": "stream",
          "name": "stderr",
          "text": [
            "BatchNorm with epoch 99: 100%|██████████| 2500/2500 [00:12<00:00, 197.95it/s, Loss=0.654]\n"
          ]
        },
        {
          "output_type": "stream",
          "name": "stdout",
          "text": [
            "Epoch 99, Loss: 0.9321845333576202, lr = 0.0005028372778970433\n"
          ]
        },
        {
          "output_type": "stream",
          "name": "stderr",
          "text": [
            "BatchNorm with epoch 100: 100%|██████████| 2500/2500 [00:13<00:00, 190.13it/s, Loss=0.229]\n"
          ]
        },
        {
          "output_type": "stream",
          "name": "stdout",
          "text": [
            "Epoch 100, Loss: 0.9191821096420288, lr = 0.0005\n"
          ]
        },
        {
          "output_type": "stream",
          "name": "stderr",
          "text": [
            "GroupNorm with epoch 1: 100%|██████████| 2500/2500 [00:13<00:00, 187.81it/s, Loss=2.1]\n"
          ]
        },
        {
          "output_type": "stream",
          "name": "stdout",
          "text": [
            "Epoch 1, Loss: 2.16012880859375, lr = 0.011997162722102958\n"
          ]
        },
        {
          "output_type": "stream",
          "name": "stderr",
          "text": [
            "GroupNorm with epoch 2: 100%|██████████| 2500/2500 [00:12<00:00, 198.74it/s, Loss=1.69]\n"
          ]
        },
        {
          "output_type": "stream",
          "name": "stdout",
          "text": [
            "Epoch 2, Loss: 1.8982749877929688, lr = 0.011988653688462563\n"
          ]
        },
        {
          "output_type": "stream",
          "name": "stderr",
          "text": [
            "GroupNorm with epoch 3: 100%|██████████| 2500/2500 [00:12<00:00, 199.00it/s, Loss=1.95]\n"
          ]
        },
        {
          "output_type": "stream",
          "name": "stdout",
          "text": [
            "Epoch 3, Loss: 1.7823645660400391, lr = 0.011974481296467712\n"
          ]
        },
        {
          "output_type": "stream",
          "name": "stderr",
          "text": [
            "GroupNorm with epoch 4: 100%|██████████| 2500/2500 [00:12<00:00, 196.64it/s, Loss=2.1]\n"
          ]
        },
        {
          "output_type": "stream",
          "name": "stdout",
          "text": [
            "Epoch 4, Loss: 1.7194333923339844, lr = 0.01195465953255825\n"
          ]
        },
        {
          "output_type": "stream",
          "name": "stderr",
          "text": [
            "GroupNorm with epoch 5: 100%|██████████| 2500/2500 [00:12<00:00, 192.64it/s, Loss=0.564]\n"
          ]
        },
        {
          "output_type": "stream",
          "name": "stdout",
          "text": [
            "Epoch 5, Loss: 1.6464365467071533, lr = 0.011929207958422044\n"
          ]
        },
        {
          "output_type": "stream",
          "name": "stderr",
          "text": [
            "GroupNorm with epoch 6: 100%|██████████| 2500/2500 [00:12<00:00, 192.88it/s, Loss=1]\n"
          ]
        },
        {
          "output_type": "stream",
          "name": "stdout",
          "text": [
            "Epoch 6, Loss: 1.5948169464111328, lr = 0.011898151691689963\n"
          ]
        },
        {
          "output_type": "stream",
          "name": "stderr",
          "text": [
            "GroupNorm with epoch 7: 100%|██████████| 2500/2500 [00:12<00:00, 196.47it/s, Loss=1.5]\n"
          ]
        },
        {
          "output_type": "stream",
          "name": "stdout",
          "text": [
            "Epoch 7, Loss: 1.5383712800979614, lr = 0.0118615213811478\n"
          ]
        },
        {
          "output_type": "stream",
          "name": "stderr",
          "text": [
            "GroupNorm with epoch 8: 100%|██████████| 2500/2500 [00:12<00:00, 194.87it/s, Loss=1.63]\n"
          ]
        },
        {
          "output_type": "stream",
          "name": "stdout",
          "text": [
            "Epoch 8, Loss: 1.4925705032348633, lr = 0.011819353176489631\n"
          ]
        },
        {
          "output_type": "stream",
          "name": "stderr",
          "text": [
            "GroupNorm with epoch 9: 100%|██████████| 2500/2500 [00:12<00:00, 195.72it/s, Loss=1.73]\n"
          ]
        },
        {
          "output_type": "stream",
          "name": "stdout",
          "text": [
            "Epoch 9, Loss: 1.449760525894165, lr = 0.011771688692642425\n"
          ]
        },
        {
          "output_type": "stream",
          "name": "stderr",
          "text": [
            "GroupNorm with epoch 10: 100%|██████████| 2500/2500 [00:12<00:00, 196.73it/s, Loss=2.78]\n"
          ]
        },
        {
          "output_type": "stream",
          "name": "stdout",
          "text": [
            "Epoch 10, Loss: 1.4179959378242493, lr = 0.011718574968697135\n"
          ]
        },
        {
          "output_type": "stream",
          "name": "stderr",
          "text": [
            "GroupNorm with epoch 11: 100%|██████████| 2500/2500 [00:12<00:00, 195.95it/s, Loss=0.0829]\n"
          ]
        },
        {
          "output_type": "stream",
          "name": "stdout",
          "text": [
            "Epoch 11, Loss: 1.3835550422668457, lr = 0.0116600644214868\n"
          ]
        },
        {
          "output_type": "stream",
          "name": "stderr",
          "text": [
            "GroupNorm with epoch 12: 100%|██████████| 2500/2500 [00:12<00:00, 196.91it/s, Loss=2.1]\n"
          ]
        },
        {
          "output_type": "stream",
          "name": "stdout",
          "text": [
            "Epoch 12, Loss: 1.344636146259308, lr = 0.011596214793857449\n"
          ]
        },
        {
          "output_type": "stream",
          "name": "stderr",
          "text": [
            "GroupNorm with epoch 13: 100%|██████████| 2500/2500 [00:12<00:00, 194.80it/s, Loss=0.754]\n"
          ]
        },
        {
          "output_type": "stream",
          "name": "stdout",
          "text": [
            "Epoch 13, Loss: 1.3233739822387696, lr = 0.011527089097682894\n"
          ]
        },
        {
          "output_type": "stream",
          "name": "stderr",
          "text": [
            "GroupNorm with epoch 14: 100%|██████████| 2500/2500 [00:12<00:00, 196.99it/s, Loss=1.84]\n"
          ]
        },
        {
          "output_type": "stream",
          "name": "stdout",
          "text": [
            "Epoch 14, Loss: 1.2926053331375122, lr = 0.011452755551679615\n"
          ]
        },
        {
          "output_type": "stream",
          "name": "stderr",
          "text": [
            "GroupNorm with epoch 15: 100%|██████████| 2500/2500 [00:12<00:00, 194.63it/s, Loss=1.44]\n"
          ]
        },
        {
          "output_type": "stream",
          "name": "stdout",
          "text": [
            "Epoch 15, Loss: 1.2486074747085572, lr = 0.011373287514083117\n"
          ]
        },
        {
          "output_type": "stream",
          "name": "stderr",
          "text": [
            "GroupNorm with epoch 16: 100%|██████████| 2500/2500 [00:12<00:00, 196.52it/s, Loss=0.503]\n"
          ]
        },
        {
          "output_type": "stream",
          "name": "stdout",
          "text": [
            "Epoch 16, Loss: 1.2109103261947631, lr = 0.011288763410252218\n"
          ]
        },
        {
          "output_type": "stream",
          "name": "stderr",
          "text": [
            "GroupNorm with epoch 17: 100%|██████████| 2500/2500 [00:12<00:00, 195.67it/s, Loss=0.187]\n"
          ]
        },
        {
          "output_type": "stream",
          "name": "stdout",
          "text": [
            "Epoch 17, Loss: 1.1974216785907745, lr = 0.01119926665527268\n"
          ]
        },
        {
          "output_type": "stream",
          "name": "stderr",
          "text": [
            "GroupNorm with epoch 18: 100%|██████████| 2500/2500 [00:12<00:00, 196.64it/s, Loss=0.23]\n"
          ]
        },
        {
          "output_type": "stream",
          "name": "stdout",
          "text": [
            "Epoch 18, Loss: 1.170263185596466, lr = 0.01110488557163659\n"
          ]
        },
        {
          "output_type": "stream",
          "name": "stderr",
          "text": [
            "GroupNorm with epoch 19: 100%|██████████| 2500/2500 [00:12<00:00, 197.81it/s, Loss=1.12]\n"
          ]
        },
        {
          "output_type": "stream",
          "name": "stdout",
          "text": [
            "Epoch 19, Loss: 1.1410328703165054, lr = 0.011005713302078734\n"
          ]
        },
        {
          "output_type": "stream",
          "name": "stderr",
          "text": [
            "GroupNorm with epoch 20: 100%|██████████| 2500/2500 [00:12<00:00, 196.07it/s, Loss=0.74]\n"
          ]
        },
        {
          "output_type": "stream",
          "name": "stdout",
          "text": [
            "Epoch 20, Loss: 1.1109312898635864, lr = 0.010901847717655951\n"
          ]
        },
        {
          "output_type": "stream",
          "name": "stderr",
          "text": [
            "GroupNorm with epoch 21: 100%|██████████| 2500/2500 [00:12<00:00, 195.46it/s, Loss=1.62]\n"
          ]
        },
        {
          "output_type": "stream",
          "name": "stdout",
          "text": [
            "Epoch 21, Loss: 1.0922940216064454, lr = 0.010793391321160221\n"
          ]
        },
        {
          "output_type": "stream",
          "name": "stderr",
          "text": [
            "GroupNorm with epoch 22: 100%|██████████| 2500/2500 [00:12<00:00, 195.28it/s, Loss=0.33]\n"
          ]
        },
        {
          "output_type": "stream",
          "name": "stdout",
          "text": [
            "Epoch 22, Loss: 1.0768153468370438, lr = 0.01068045114596079\n"
          ]
        },
        {
          "output_type": "stream",
          "name": "stderr",
          "text": [
            "GroupNorm with epoch 23: 100%|██████████| 2500/2500 [00:12<00:00, 194.93it/s, Loss=0.309]\n"
          ]
        },
        {
          "output_type": "stream",
          "name": "stdout",
          "text": [
            "Epoch 23, Loss: 1.0491309804439544, lr = 0.010563138650375146\n"
          ]
        },
        {
          "output_type": "stream",
          "name": "stderr",
          "text": [
            "GroupNorm with epoch 24: 100%|██████████| 2500/2500 [00:12<00:00, 194.86it/s, Loss=0.0774]\n"
          ]
        },
        {
          "output_type": "stream",
          "name": "stdout",
          "text": [
            "Epoch 24, Loss: 1.021406909918785, lr = 0.01044156960767312\n"
          ]
        },
        {
          "output_type": "stream",
          "name": "stderr",
          "text": [
            "GroupNorm with epoch 25: 100%|██████████| 2500/2500 [00:12<00:00, 196.58it/s, Loss=1.06]\n"
          ]
        },
        {
          "output_type": "stream",
          "name": "stdout",
          "text": [
            "Epoch 25, Loss: 1.0003523624897004, lr = 0.010315863991822652\n"
          ]
        },
        {
          "output_type": "stream",
          "name": "stderr",
          "text": [
            "GroupNorm with epoch 26: 100%|██████████| 2500/2500 [00:12<00:00, 196.82it/s, Loss=1.51]\n"
          ]
        },
        {
          "output_type": "stream",
          "name": "stdout",
          "text": [
            "Epoch 26, Loss: 0.983465551495552, lr = 0.010186145859089965\n"
          ]
        },
        {
          "output_type": "stream",
          "name": "stderr",
          "text": [
            "GroupNorm with epoch 27: 100%|██████████| 2500/2500 [00:12<00:00, 195.36it/s, Loss=0.145]\n"
          ]
        },
        {
          "output_type": "stream",
          "name": "stdout",
          "text": [
            "Epoch 27, Loss: 0.9476475044250489, lr = 0.010052543225611003\n"
          ]
        },
        {
          "output_type": "stream",
          "name": "stderr",
          "text": [
            "GroupNorm with epoch 28: 100%|██████████| 2500/2500 [00:12<00:00, 195.72it/s, Loss=1.22]\n"
          ]
        },
        {
          "output_type": "stream",
          "name": "stdout",
          "text": [
            "Epoch 28, Loss: 0.9121841109514236, lr = 0.00991518794105497\n"
          ]
        },
        {
          "output_type": "stream",
          "name": "stderr",
          "text": [
            "GroupNorm with epoch 29: 100%|██████████| 2500/2500 [00:12<00:00, 195.13it/s, Loss=1.1]\n"
          ]
        },
        {
          "output_type": "stream",
          "name": "stdout",
          "text": [
            "Epoch 29, Loss: 0.9222398646831512, lr = 0.00977421555850462\n"
          ]
        },
        {
          "output_type": "stream",
          "name": "stderr",
          "text": [
            "GroupNorm with epoch 30: 100%|██████████| 2500/2500 [00:12<00:00, 194.00it/s, Loss=0.59]\n"
          ]
        },
        {
          "output_type": "stream",
          "name": "stdout",
          "text": [
            "Epoch 30, Loss: 0.8893736914873123, lr = 0.009629765200681727\n"
          ]
        },
        {
          "output_type": "stream",
          "name": "stderr",
          "text": [
            "GroupNorm with epoch 31: 100%|██████████| 2500/2500 [00:13<00:00, 179.76it/s, Loss=2.11]\n"
          ]
        },
        {
          "output_type": "stream",
          "name": "stdout",
          "text": [
            "Epoch 31, Loss: 0.8688941995620727, lr = 0.009481979422649757\n"
          ]
        },
        {
          "output_type": "stream",
          "name": "stderr",
          "text": [
            "GroupNorm with epoch 32: 100%|██████████| 2500/2500 [00:13<00:00, 178.92it/s, Loss=0.385]\n"
          ]
        },
        {
          "output_type": "stream",
          "name": "stdout",
          "text": [
            "Epoch 32, Loss: 0.8437463678359985, lr = 0.009331004071129235\n"
          ]
        },
        {
          "output_type": "stream",
          "name": "stderr",
          "text": [
            "GroupNorm with epoch 33: 100%|██████████| 2500/2500 [00:14<00:00, 175.67it/s, Loss=1.69]\n"
          ]
        },
        {
          "output_type": "stream",
          "name": "stdout",
          "text": [
            "Epoch 33, Loss: 0.8250811396121979, lr = 0.00917698814056464\n"
          ]
        },
        {
          "output_type": "stream",
          "name": "stderr",
          "text": [
            "GroupNorm with epoch 34: 100%|██████████| 2500/2500 [00:14<00:00, 177.42it/s, Loss=0.0595]\n"
          ]
        },
        {
          "output_type": "stream",
          "name": "stdout",
          "text": [
            "Epoch 34, Loss: 0.7934600412607193, lr = 0.009020083626084868\n"
          ]
        },
        {
          "output_type": "stream",
          "name": "stderr",
          "text": [
            "GroupNorm with epoch 35: 100%|██████████| 2500/2500 [00:14<00:00, 175.17it/s, Loss=0.0942]\n"
          ]
        },
        {
          "output_type": "stream",
          "name": "stdout",
          "text": [
            "Epoch 35, Loss: 0.7720040355205536, lr = 0.008860445373502399\n"
          ]
        },
        {
          "output_type": "stream",
          "name": "stderr",
          "text": [
            "GroupNorm with epoch 36: 100%|██████████| 2500/2500 [00:14<00:00, 178.56it/s, Loss=0.00384]\n"
          ]
        },
        {
          "output_type": "stream",
          "name": "stdout",
          "text": [
            "Epoch 36, Loss: 0.7644302553415299, lr = 0.008698230926499172\n"
          ]
        },
        {
          "output_type": "stream",
          "name": "stderr",
          "text": [
            "GroupNorm with epoch 37: 100%|██████████| 2500/2500 [00:14<00:00, 174.47it/s, Loss=0.064]\n"
          ]
        },
        {
          "output_type": "stream",
          "name": "stdout",
          "text": [
            "Epoch 37, Loss: 0.7359493664741517, lr = 0.008533600371149993\n"
          ]
        },
        {
          "output_type": "stream",
          "name": "stderr",
          "text": [
            "GroupNorm with epoch 38: 100%|██████████| 2500/2500 [00:14<00:00, 178.10it/s, Loss=1.76]\n"
          ]
        },
        {
          "output_type": "stream",
          "name": "stdout",
          "text": [
            "Epoch 38, Loss: 0.7164469802379608, lr = 0.008366716177936905\n"
          ]
        },
        {
          "output_type": "stream",
          "name": "stderr",
          "text": [
            "GroupNorm with epoch 39: 100%|██████████| 2500/2500 [00:14<00:00, 177.53it/s, Loss=0.489]\n"
          ]
        },
        {
          "output_type": "stream",
          "name": "stdout",
          "text": [
            "Epoch 39, Loss: 0.6936847606420516, lr = 0.008197743041410431\n"
          ]
        },
        {
          "output_type": "stream",
          "name": "stderr",
          "text": [
            "GroupNorm with epoch 40: 100%|██████████| 2500/2500 [00:14<00:00, 177.12it/s, Loss=0.0765]\n"
          ]
        },
        {
          "output_type": "stream",
          "name": "stdout",
          "text": [
            "Epoch 40, Loss: 0.6822987230062485, lr = 0.008026847717655952\n"
          ]
        },
        {
          "output_type": "stream",
          "name": "stderr",
          "text": [
            "GroupNorm with epoch 41: 100%|██████████| 2500/2500 [00:14<00:00, 177.90it/s, Loss=1.3]\n"
          ]
        },
        {
          "output_type": "stream",
          "name": "stdout",
          "text": [
            "Epoch 41, Loss: 0.6518312153816224, lr = 0.007854198859725573\n"
          ]
        },
        {
          "output_type": "stream",
          "name": "stderr",
          "text": [
            "GroupNorm with epoch 42: 100%|██████████| 2500/2500 [00:14<00:00, 178.46it/s, Loss=0.178]\n"
          ]
        },
        {
          "output_type": "stream",
          "name": "stdout",
          "text": [
            "Epoch 42, Loss: 0.6485372984409332, lr = 0.007679966851197918\n"
          ]
        },
        {
          "output_type": "stream",
          "name": "stderr",
          "text": [
            "GroupNorm with epoch 43: 100%|██████████| 2500/2500 [00:13<00:00, 180.53it/s, Loss=0.22]\n"
          ]
        },
        {
          "output_type": "stream",
          "name": "stdout",
          "text": [
            "Epoch 43, Loss: 0.6196295789957047, lr = 0.007504323638030124\n"
          ]
        },
        {
          "output_type": "stream",
          "name": "stderr",
          "text": [
            "GroupNorm with epoch 44: 100%|██████████| 2500/2500 [00:13<00:00, 178.90it/s, Loss=0.0354]\n"
          ]
        },
        {
          "output_type": "stream",
          "name": "stdout",
          "text": [
            "Epoch 44, Loss: 0.5765798709869385, lr = 0.007327442558867921\n"
          ]
        },
        {
          "output_type": "stream",
          "name": "stderr",
          "text": [
            "GroupNorm with epoch 45: 100%|██████████| 2500/2500 [00:13<00:00, 187.91it/s, Loss=0.452]\n"
          ]
        },
        {
          "output_type": "stream",
          "name": "stdout",
          "text": [
            "Epoch 45, Loss: 0.5706291052103043, lr = 0.00714949817398133\n"
          ]
        },
        {
          "output_type": "stream",
          "name": "stderr",
          "text": [
            "GroupNorm with epoch 46: 100%|██████████| 2500/2500 [00:12<00:00, 193.70it/s, Loss=0.147]\n"
          ]
        },
        {
          "output_type": "stream",
          "name": "stdout",
          "text": [
            "Epoch 46, Loss: 0.5558507902622223, lr = 0.006970666092994753\n"
          ]
        },
        {
          "output_type": "stream",
          "name": "stderr",
          "text": [
            "GroupNorm with epoch 47: 100%|██████████| 2500/2500 [00:14<00:00, 177.54it/s, Loss=0.812]\n"
          ]
        },
        {
          "output_type": "stream",
          "name": "stdout",
          "text": [
            "Epoch 47, Loss: 0.5179881058454514, lr = 0.006791122801581459\n"
          ]
        },
        {
          "output_type": "stream",
          "name": "stderr",
          "text": [
            "GroupNorm with epoch 48: 100%|██████████| 2500/2500 [00:14<00:00, 177.38it/s, Loss=0.226]\n"
          ]
        },
        {
          "output_type": "stream",
          "name": "stdout",
          "text": [
            "Epoch 48, Loss: 0.5078901849269867, lr = 0.006611045487293554\n"
          ]
        },
        {
          "output_type": "stream",
          "name": "stderr",
          "text": [
            "GroupNorm with epoch 49: 100%|██████████| 2500/2500 [00:13<00:00, 180.25it/s, Loss=0.344]\n"
          ]
        },
        {
          "output_type": "stream",
          "name": "stdout",
          "text": [
            "Epoch 49, Loss: 0.48768987700939176, lr = 0.006430611864699239\n"
          ]
        },
        {
          "output_type": "stream",
          "name": "stderr",
          "text": [
            "GroupNorm with epoch 50: 100%|██████████| 2500/2500 [00:13<00:00, 180.41it/s, Loss=0.987]\n"
          ]
        },
        {
          "output_type": "stream",
          "name": "stdout",
          "text": [
            "Epoch 50, Loss: 0.4385463016748428, lr = 0.00625\n"
          ]
        },
        {
          "output_type": "stream",
          "name": "stderr",
          "text": [
            "GroupNorm with epoch 51: 100%|██████████| 2500/2500 [00:13<00:00, 179.12it/s, Loss=0.00571]\n"
          ]
        },
        {
          "output_type": "stream",
          "name": "stdout",
          "text": [
            "Epoch 51, Loss: 0.4480399172067642, lr = 0.006069388135300762\n"
          ]
        },
        {
          "output_type": "stream",
          "name": "stderr",
          "text": [
            "GroupNorm with epoch 52: 100%|██████████| 2500/2500 [00:14<00:00, 178.17it/s, Loss=0.402]\n"
          ]
        },
        {
          "output_type": "stream",
          "name": "stdout",
          "text": [
            "Epoch 52, Loss: 0.4186036015748978, lr = 0.005888954512706447\n"
          ]
        },
        {
          "output_type": "stream",
          "name": "stderr",
          "text": [
            "GroupNorm with epoch 53: 100%|██████████| 2500/2500 [00:13<00:00, 183.34it/s, Loss=3.61]\n"
          ]
        },
        {
          "output_type": "stream",
          "name": "stdout",
          "text": [
            "Epoch 53, Loss: 0.3890583398103714, lr = 0.005708877198418541\n"
          ]
        },
        {
          "output_type": "stream",
          "name": "stderr",
          "text": [
            "GroupNorm with epoch 54: 100%|██████████| 2500/2500 [00:13<00:00, 180.88it/s, Loss=1.28]\n"
          ]
        },
        {
          "output_type": "stream",
          "name": "stdout",
          "text": [
            "Epoch 54, Loss: 0.3708520270347595, lr = 0.0055293339070052495\n"
          ]
        },
        {
          "output_type": "stream",
          "name": "stderr",
          "text": [
            "GroupNorm with epoch 55: 100%|██████████| 2500/2500 [00:13<00:00, 182.37it/s, Loss=0.0481]\n"
          ]
        },
        {
          "output_type": "stream",
          "name": "stdout",
          "text": [
            "Epoch 55, Loss: 0.34218439197540285, lr = 0.005350501826018671\n"
          ]
        },
        {
          "output_type": "stream",
          "name": "stderr",
          "text": [
            "GroupNorm with epoch 56: 100%|██████████| 2500/2500 [00:13<00:00, 180.48it/s, Loss=0.647]\n"
          ]
        },
        {
          "output_type": "stream",
          "name": "stdout",
          "text": [
            "Epoch 56, Loss: 0.3352467843532562, lr = 0.005172557441132082\n"
          ]
        },
        {
          "output_type": "stream",
          "name": "stderr",
          "text": [
            "GroupNorm with epoch 57: 100%|██████████| 2500/2500 [00:13<00:00, 180.97it/s, Loss=1.68]\n"
          ]
        },
        {
          "output_type": "stream",
          "name": "stdout",
          "text": [
            "Epoch 57, Loss: 0.31126708488464355, lr = 0.00499567636196988\n"
          ]
        },
        {
          "output_type": "stream",
          "name": "stderr",
          "text": [
            "GroupNorm with epoch 58: 100%|██████████| 2500/2500 [00:13<00:00, 182.51it/s, Loss=2.21]\n"
          ]
        },
        {
          "output_type": "stream",
          "name": "stdout",
          "text": [
            "Epoch 58, Loss: 0.2688263118267059, lr = 0.004820033148802083\n"
          ]
        },
        {
          "output_type": "stream",
          "name": "stderr",
          "text": [
            "GroupNorm with epoch 59: 100%|██████████| 2500/2500 [00:13<00:00, 179.91it/s, Loss=0.0342]\n"
          ]
        },
        {
          "output_type": "stream",
          "name": "stdout",
          "text": [
            "Epoch 59, Loss: 0.2811649129867554, lr = 0.004645801140274431\n"
          ]
        },
        {
          "output_type": "stream",
          "name": "stderr",
          "text": [
            "GroupNorm with epoch 60: 100%|██████████| 2500/2500 [00:13<00:00, 182.55it/s, Loss=0.225]\n"
          ]
        },
        {
          "output_type": "stream",
          "name": "stdout",
          "text": [
            "Epoch 60, Loss: 0.26418038172721864, lr = 0.004473152282344052\n"
          ]
        },
        {
          "output_type": "stream",
          "name": "stderr",
          "text": [
            "GroupNorm with epoch 61: 100%|██████████| 2500/2500 [00:13<00:00, 180.63it/s, Loss=1.78]\n"
          ]
        },
        {
          "output_type": "stream",
          "name": "stdout",
          "text": [
            "Epoch 61, Loss: 0.21932507393360137, lr = 0.004302256958589572\n"
          ]
        },
        {
          "output_type": "stream",
          "name": "stderr",
          "text": [
            "GroupNorm with epoch 62: 100%|██████████| 2500/2500 [00:13<00:00, 191.08it/s, Loss=0.235]\n"
          ]
        },
        {
          "output_type": "stream",
          "name": "stdout",
          "text": [
            "Epoch 62, Loss: 0.20092645559310912, lr = 0.004133283822063101\n"
          ]
        },
        {
          "output_type": "stream",
          "name": "stderr",
          "text": [
            "GroupNorm with epoch 63: 100%|██████████| 2500/2500 [00:12<00:00, 197.38it/s, Loss=0.0751]\n"
          ]
        },
        {
          "output_type": "stream",
          "name": "stdout",
          "text": [
            "Epoch 63, Loss: 0.1628989419698715, lr = 0.003966399628850009\n"
          ]
        },
        {
          "output_type": "stream",
          "name": "stderr",
          "text": [
            "GroupNorm with epoch 64: 100%|██████████| 2500/2500 [00:12<00:00, 197.48it/s, Loss=0.88]\n"
          ]
        },
        {
          "output_type": "stream",
          "name": "stdout",
          "text": [
            "Epoch 64, Loss: 0.12775601193904876, lr = 0.0038017690735008304\n"
          ]
        },
        {
          "output_type": "stream",
          "name": "stderr",
          "text": [
            "GroupNorm with epoch 65: 100%|██████████| 2500/2500 [00:12<00:00, 198.20it/s, Loss=0.143]\n"
          ]
        },
        {
          "output_type": "stream",
          "name": "stdout",
          "text": [
            "Epoch 65, Loss: 0.1253598177433014, lr = 0.0036395546264976044\n"
          ]
        },
        {
          "output_type": "stream",
          "name": "stderr",
          "text": [
            "GroupNorm with epoch 66: 100%|██████████| 2500/2500 [00:12<00:00, 197.03it/s, Loss=0.505]\n"
          ]
        },
        {
          "output_type": "stream",
          "name": "stdout",
          "text": [
            "Epoch 66, Loss: 0.14054210023880004, lr = 0.0034799163739151345\n"
          ]
        },
        {
          "output_type": "stream",
          "name": "stderr",
          "text": [
            "GroupNorm with epoch 67: 100%|██████████| 2500/2500 [00:12<00:00, 199.97it/s, Loss=0.269]\n"
          ]
        },
        {
          "output_type": "stream",
          "name": "stdout",
          "text": [
            "Epoch 67, Loss: 0.13379753212928772, lr = 0.0033230118594353634\n"
          ]
        },
        {
          "output_type": "stream",
          "name": "stderr",
          "text": [
            "GroupNorm with epoch 68: 100%|██████████| 2500/2500 [00:12<00:00, 195.75it/s, Loss=0.816]\n"
          ]
        },
        {
          "output_type": "stream",
          "name": "stdout",
          "text": [
            "Epoch 68, Loss: 0.07685658080577851, lr = 0.0031689959288707667\n"
          ]
        },
        {
          "output_type": "stream",
          "name": "stderr",
          "text": [
            "GroupNorm with epoch 69: 100%|██████████| 2500/2500 [00:12<00:00, 198.05it/s, Loss=0.561]\n"
          ]
        },
        {
          "output_type": "stream",
          "name": "stdout",
          "text": [
            "Epoch 69, Loss: 0.06097875816822052, lr = 0.0030180205773502476\n"
          ]
        },
        {
          "output_type": "stream",
          "name": "stderr",
          "text": [
            "GroupNorm with epoch 70: 100%|██████████| 2500/2500 [00:12<00:00, 198.25it/s, Loss=0.0298]\n"
          ]
        },
        {
          "output_type": "stream",
          "name": "stdout",
          "text": [
            "Epoch 70, Loss: 0.02288838219642639, lr = 0.0028702347993182793\n"
          ]
        },
        {
          "output_type": "stream",
          "name": "stderr",
          "text": [
            "GroupNorm with epoch 71: 100%|██████████| 2500/2500 [00:12<00:00, 197.48it/s, Loss=0.0034]\n"
          ]
        },
        {
          "output_type": "stream",
          "name": "stdout",
          "text": [
            "Epoch 71, Loss: 0.006992864751815796, lr = 0.002725784441495384\n"
          ]
        },
        {
          "output_type": "stream",
          "name": "stderr",
          "text": [
            "GroupNorm with epoch 72: 100%|██████████| 2500/2500 [00:12<00:00, 197.42it/s, Loss=0.00396]\n"
          ]
        },
        {
          "output_type": "stream",
          "name": "stdout",
          "text": [
            "Epoch 72, Loss: 0.004490290117263794, lr = 0.0025848120589450334\n"
          ]
        },
        {
          "output_type": "stream",
          "name": "stderr",
          "text": [
            "GroupNorm with epoch 73: 100%|██████████| 2500/2500 [00:12<00:00, 198.52it/s, Loss=0.00261]\n"
          ]
        },
        {
          "output_type": "stream",
          "name": "stdout",
          "text": [
            "Epoch 73, Loss: 0.004193963694572448, lr = 0.0024474567743890023\n"
          ]
        },
        {
          "output_type": "stream",
          "name": "stderr",
          "text": [
            "GroupNorm with epoch 74: 100%|██████████| 2500/2500 [00:12<00:00, 197.23it/s, Loss=0.000116]\n"
          ]
        },
        {
          "output_type": "stream",
          "name": "stdout",
          "text": [
            "Epoch 74, Loss: 0.004236305809020996, lr = 0.0023138541409100395\n"
          ]
        },
        {
          "output_type": "stream",
          "name": "stderr",
          "text": [
            "GroupNorm with epoch 75: 100%|██████████| 2500/2500 [00:12<00:00, 196.93it/s, Loss=9.54e-7]\n"
          ]
        },
        {
          "output_type": "stream",
          "name": "stdout",
          "text": [
            "Epoch 75, Loss: 0.0043840059280395504, lr = 0.0021841360081773517\n"
          ]
        },
        {
          "output_type": "stream",
          "name": "stderr",
          "text": [
            "GroupNorm with epoch 76: 100%|██████████| 2500/2500 [00:12<00:00, 197.13it/s, Loss=0.0292]\n"
          ]
        },
        {
          "output_type": "stream",
          "name": "stdout",
          "text": [
            "Epoch 76, Loss: 0.004536690783500672, lr = 0.0020584303923268845\n"
          ]
        },
        {
          "output_type": "stream",
          "name": "stderr",
          "text": [
            "GroupNorm with epoch 77: 100%|██████████| 2500/2500 [00:12<00:00, 196.32it/s, Loss=0.00114]\n"
          ]
        },
        {
          "output_type": "stream",
          "name": "stdout",
          "text": [
            "Epoch 77, Loss: 0.004726545023918152, lr = 0.0019368613496248569\n"
          ]
        },
        {
          "output_type": "stream",
          "name": "stderr",
          "text": [
            "GroupNorm with epoch 78: 100%|██████████| 2500/2500 [00:12<00:00, 196.94it/s, Loss=0.000323]\n"
          ]
        },
        {
          "output_type": "stream",
          "name": "stdout",
          "text": [
            "Epoch 78, Loss: 0.004839487957954407, lr = 0.001819548854039212\n"
          ]
        },
        {
          "output_type": "stream",
          "name": "stderr",
          "text": [
            "GroupNorm with epoch 79: 100%|██████████| 2500/2500 [00:12<00:00, 197.52it/s, Loss=0.0103]\n"
          ]
        },
        {
          "output_type": "stream",
          "name": "stdout",
          "text": [
            "Epoch 79, Loss: 0.0049918159246444705, lr = 0.0017066086788397798\n"
          ]
        },
        {
          "output_type": "stream",
          "name": "stderr",
          "text": [
            "GroupNorm with epoch 80: 100%|██████████| 2500/2500 [00:12<00:00, 198.50it/s, Loss=5.16e-5]\n"
          ]
        },
        {
          "output_type": "stream",
          "name": "stdout",
          "text": [
            "Epoch 80, Loss: 0.005114218688011169, lr = 0.0015981522823440525\n"
          ]
        },
        {
          "output_type": "stream",
          "name": "stderr",
          "text": [
            "GroupNorm with epoch 81: 100%|██████████| 2500/2500 [00:12<00:00, 197.08it/s, Loss=0.00728]\n"
          ]
        },
        {
          "output_type": "stream",
          "name": "stdout",
          "text": [
            "Epoch 81, Loss: 0.005244787764549255, lr = 0.0014942866979212699\n"
          ]
        },
        {
          "output_type": "stream",
          "name": "stderr",
          "text": [
            "GroupNorm with epoch 82: 100%|██████████| 2500/2500 [00:12<00:00, 197.70it/s, Loss=0.00145]\n"
          ]
        },
        {
          "output_type": "stream",
          "name": "stdout",
          "text": [
            "Epoch 82, Loss: 0.0053324791431427, lr = 0.0013951144283634144\n"
          ]
        },
        {
          "output_type": "stream",
          "name": "stderr",
          "text": [
            "GroupNorm with epoch 83: 100%|██████████| 2500/2500 [00:12<00:00, 195.57it/s, Loss=0.00889]\n"
          ]
        },
        {
          "output_type": "stream",
          "name": "stdout",
          "text": [
            "Epoch 83, Loss: 0.0054374071598052975, lr = 0.0013007333447273232\n"
          ]
        },
        {
          "output_type": "stream",
          "name": "stderr",
          "text": [
            "GroupNorm with epoch 84: 100%|██████████| 2500/2500 [00:12<00:00, 195.54it/s, Loss=0.00267]\n"
          ]
        },
        {
          "output_type": "stream",
          "name": "stdout",
          "text": [
            "Epoch 84, Loss: 0.005469534635543823, lr = 0.0012112365897477841\n"
          ]
        },
        {
          "output_type": "stream",
          "name": "stderr",
          "text": [
            "GroupNorm with epoch 85: 100%|██████████| 2500/2500 [00:12<00:00, 196.48it/s, Loss=0.00297]\n"
          ]
        },
        {
          "output_type": "stream",
          "name": "stdout",
          "text": [
            "Epoch 85, Loss: 0.005481893587112427, lr = 0.001126712485916885\n"
          ]
        },
        {
          "output_type": "stream",
          "name": "stderr",
          "text": [
            "GroupNorm with epoch 86: 100%|██████████| 2500/2500 [00:12<00:00, 198.25it/s, Loss=0.000289]\n"
          ]
        },
        {
          "output_type": "stream",
          "name": "stdout",
          "text": [
            "Epoch 86, Loss: 0.005529049181938171, lr = 0.0010472444483203885\n"
          ]
        },
        {
          "output_type": "stream",
          "name": "stderr",
          "text": [
            "GroupNorm with epoch 87: 100%|██████████| 2500/2500 [00:12<00:00, 194.93it/s, Loss=0.000541]\n"
          ]
        },
        {
          "output_type": "stream",
          "name": "stdout",
          "text": [
            "Epoch 87, Loss: 0.005592069482803345, lr = 0.0009729109023171096\n"
          ]
        },
        {
          "output_type": "stream",
          "name": "stderr",
          "text": [
            "GroupNorm with epoch 88: 100%|██████████| 2500/2500 [00:12<00:00, 196.39it/s, Loss=0.00437]\n"
          ]
        },
        {
          "output_type": "stream",
          "name": "stdout",
          "text": [
            "Epoch 88, Loss: 0.005620908737182617, lr = 0.0009037852061425547\n"
          ]
        },
        {
          "output_type": "stream",
          "name": "stderr",
          "text": [
            "GroupNorm with epoch 89: 100%|██████████| 2500/2500 [00:12<00:00, 196.75it/s, Loss=0.00443]\n"
          ]
        },
        {
          "output_type": "stream",
          "name": "stdout",
          "text": [
            "Epoch 89, Loss: 0.005620703172683716, lr = 0.0008399355785132036\n"
          ]
        },
        {
          "output_type": "stream",
          "name": "stderr",
          "text": [
            "GroupNorm with epoch 90: 100%|██████████| 2500/2500 [00:12<00:00, 195.85it/s, Loss=0.0333]\n"
          ]
        },
        {
          "output_type": "stream",
          "name": "stdout",
          "text": [
            "Epoch 90, Loss: 0.00563024868965149, lr = 0.0007814250313028671\n"
          ]
        },
        {
          "output_type": "stream",
          "name": "stderr",
          "text": [
            "GroupNorm with epoch 91: 100%|██████████| 2500/2500 [00:12<00:00, 196.37it/s, Loss=0.000405]\n"
          ]
        },
        {
          "output_type": "stream",
          "name": "stdout",
          "text": [
            "Epoch 91, Loss: 0.0056342885732650755, lr = 0.0007283113073575779\n"
          ]
        },
        {
          "output_type": "stream",
          "name": "stderr",
          "text": [
            "GroupNorm with epoch 92: 100%|██████████| 2500/2500 [00:12<00:00, 196.55it/s, Loss=0.00664]\n"
          ]
        },
        {
          "output_type": "stream",
          "name": "stdout",
          "text": [
            "Epoch 92, Loss: 0.005647828841209412, lr = 0.0006806468235103719\n"
          ]
        },
        {
          "output_type": "stream",
          "name": "stderr",
          "text": [
            "GroupNorm with epoch 93: 100%|██████████| 2500/2500 [00:12<00:00, 197.26it/s, Loss=0.0129]\n"
          ]
        },
        {
          "output_type": "stream",
          "name": "stdout",
          "text": [
            "Epoch 93, Loss: 0.005681900334358216, lr = 0.0006384786188522028\n"
          ]
        },
        {
          "output_type": "stream",
          "name": "stderr",
          "text": [
            "GroupNorm with epoch 94: 100%|██████████| 2500/2500 [00:12<00:00, 196.12it/s, Loss=0.00386]\n"
          ]
        },
        {
          "output_type": "stream",
          "name": "stdout",
          "text": [
            "Epoch 94, Loss: 0.005662296152114868, lr = 0.0006018483083100398\n"
          ]
        },
        {
          "output_type": "stream",
          "name": "stderr",
          "text": [
            "GroupNorm with epoch 95: 100%|██████████| 2500/2500 [00:12<00:00, 197.06it/s, Loss=1.46e-5]\n"
          ]
        },
        {
          "output_type": "stream",
          "name": "stdout",
          "text": [
            "Epoch 95, Loss: 0.005661096167564392, lr = 0.0005707920415779584\n"
          ]
        },
        {
          "output_type": "stream",
          "name": "stderr",
          "text": [
            "GroupNorm with epoch 96: 100%|██████████| 2500/2500 [00:12<00:00, 196.84it/s, Loss=0.00198]\n"
          ]
        },
        {
          "output_type": "stream",
          "name": "stdout",
          "text": [
            "Epoch 96, Loss: 0.005691189193725586, lr = 0.0005453404674417528\n"
          ]
        },
        {
          "output_type": "stream",
          "name": "stderr",
          "text": [
            "GroupNorm with epoch 97: 100%|██████████| 2500/2500 [00:12<00:00, 196.57it/s, Loss=0.000826]\n"
          ]
        },
        {
          "output_type": "stream",
          "name": "stdout",
          "text": [
            "Epoch 97, Loss: 0.005693750619888306, lr = 0.00052551870353229\n"
          ]
        },
        {
          "output_type": "stream",
          "name": "stderr",
          "text": [
            "GroupNorm with epoch 98: 100%|██████████| 2500/2500 [00:12<00:00, 196.80it/s, Loss=0.0232]\n"
          ]
        },
        {
          "output_type": "stream",
          "name": "stdout",
          "text": [
            "Epoch 98, Loss: 0.005700069546699524, lr = 0.0005113463115374385\n"
          ]
        },
        {
          "output_type": "stream",
          "name": "stderr",
          "text": [
            "GroupNorm with epoch 99: 100%|██████████| 2500/2500 [00:12<00:00, 197.48it/s, Loss=0.00576]\n"
          ]
        },
        {
          "output_type": "stream",
          "name": "stdout",
          "text": [
            "Epoch 99, Loss: 0.005731905031204224, lr = 0.0005028372778970433\n"
          ]
        },
        {
          "output_type": "stream",
          "name": "stderr",
          "text": [
            "GroupNorm with epoch 100: 100%|██████████| 2500/2500 [00:12<00:00, 196.37it/s, Loss=0.00987]"
          ]
        },
        {
          "output_type": "stream",
          "name": "stdout",
          "text": [
            "Epoch 100, Loss: 0.005746360373497009, lr = 0.0005\n"
          ]
        },
        {
          "output_type": "stream",
          "name": "stderr",
          "text": [
            "\n"
          ]
        },
        {
          "output_type": "stream",
          "name": "stdout",
          "text": [
            "Norm : BatchNorm, Batch Size: 2, Top1 Accuracy: 39.93%\n",
            "Norm : GroupNorm, Batch Size: 2, Top1 Accuracy: 55.53%\n",
            "ㅡㅡㅡㅡㅡㅡㅡㅡㅡㅡㅡㅡbatch_size: 2ㅡㅡㅡㅡㅡㅡㅡㅡㅡㅡㅡㅡㅡ\n",
            "\n",
            "ㅡㅡㅡㅡㅡㅡㅡㅡㅡㅡㅡㅡbatch_size: 4ㅡㅡㅡㅡㅡㅡㅡㅡㅡㅡㅡㅡㅡ\n"
          ]
        },
        {
          "output_type": "stream",
          "name": "stderr",
          "text": [
            "BatchNorm with epoch 1: 100%|██████████| 1250/1250 [00:06<00:00, 188.88it/s, Loss=1.21]\n"
          ]
        },
        {
          "output_type": "stream",
          "name": "stdout",
          "text": [
            "Epoch 1, Loss: 2.0847129150390624, lr = 0.011997162722102958\n"
          ]
        },
        {
          "output_type": "stream",
          "name": "stderr",
          "text": [
            "BatchNorm with epoch 2: 100%|██████████| 1250/1250 [00:06<00:00, 191.51it/s, Loss=0.93]\n"
          ]
        },
        {
          "output_type": "stream",
          "name": "stdout",
          "text": [
            "Epoch 2, Loss: 1.7002932067871093, lr = 0.011988653688462563\n"
          ]
        },
        {
          "output_type": "stream",
          "name": "stderr",
          "text": [
            "BatchNorm with epoch 3: 100%|██████████| 1250/1250 [00:06<00:00, 189.46it/s, Loss=0.944]\n"
          ]
        },
        {
          "output_type": "stream",
          "name": "stdout",
          "text": [
            "Epoch 3, Loss: 1.574789422607422, lr = 0.011974481296467712\n"
          ]
        },
        {
          "output_type": "stream",
          "name": "stderr",
          "text": [
            "BatchNorm with epoch 4: 100%|██████████| 1250/1250 [00:06<00:00, 188.41it/s, Loss=0.938]\n"
          ]
        },
        {
          "output_type": "stream",
          "name": "stdout",
          "text": [
            "Epoch 4, Loss: 1.476002716064453, lr = 0.01195465953255825\n"
          ]
        },
        {
          "output_type": "stream",
          "name": "stderr",
          "text": [
            "BatchNorm with epoch 5: 100%|██████████| 1250/1250 [00:06<00:00, 193.00it/s, Loss=1.34]\n"
          ]
        },
        {
          "output_type": "stream",
          "name": "stdout",
          "text": [
            "Epoch 5, Loss: 1.4114902282714843, lr = 0.011929207958422044\n"
          ]
        },
        {
          "output_type": "stream",
          "name": "stderr",
          "text": [
            "BatchNorm with epoch 6: 100%|██████████| 1250/1250 [00:06<00:00, 188.57it/s, Loss=3.45]\n"
          ]
        },
        {
          "output_type": "stream",
          "name": "stdout",
          "text": [
            "Epoch 6, Loss: 1.324744718170166, lr = 0.011898151691689963\n"
          ]
        },
        {
          "output_type": "stream",
          "name": "stderr",
          "text": [
            "BatchNorm with epoch 7: 100%|██████████| 1250/1250 [00:06<00:00, 193.43it/s, Loss=2.09]\n"
          ]
        },
        {
          "output_type": "stream",
          "name": "stdout",
          "text": [
            "Epoch 7, Loss: 1.2546037057876587, lr = 0.0118615213811478\n"
          ]
        },
        {
          "output_type": "stream",
          "name": "stderr",
          "text": [
            "BatchNorm with epoch 8: 100%|██████████| 1250/1250 [00:06<00:00, 189.36it/s, Loss=1.2]\n"
          ]
        },
        {
          "output_type": "stream",
          "name": "stdout",
          "text": [
            "Epoch 8, Loss: 1.1946434410095215, lr = 0.011819353176489631\n"
          ]
        },
        {
          "output_type": "stream",
          "name": "stderr",
          "text": [
            "BatchNorm with epoch 9: 100%|██████████| 1250/1250 [00:06<00:00, 195.39it/s, Loss=1.68]\n"
          ]
        },
        {
          "output_type": "stream",
          "name": "stdout",
          "text": [
            "Epoch 9, Loss: 1.1238136771678924, lr = 0.011771688692642425\n"
          ]
        },
        {
          "output_type": "stream",
          "name": "stderr",
          "text": [
            "BatchNorm with epoch 10: 100%|██████████| 1250/1250 [00:06<00:00, 189.65it/s, Loss=0.553]\n"
          ]
        },
        {
          "output_type": "stream",
          "name": "stdout",
          "text": [
            "Epoch 10, Loss: 1.0818636157274246, lr = 0.011718574968697135\n"
          ]
        },
        {
          "output_type": "stream",
          "name": "stderr",
          "text": [
            "BatchNorm with epoch 11: 100%|██████████| 1250/1250 [00:06<00:00, 186.54it/s, Loss=0.625]\n"
          ]
        },
        {
          "output_type": "stream",
          "name": "stdout",
          "text": [
            "Epoch 11, Loss: 1.0341792127132416, lr = 0.0116600644214868\n"
          ]
        },
        {
          "output_type": "stream",
          "name": "stderr",
          "text": [
            "BatchNorm with epoch 12: 100%|██████████| 1250/1250 [00:06<00:00, 190.11it/s, Loss=0.766]\n"
          ]
        },
        {
          "output_type": "stream",
          "name": "stdout",
          "text": [
            "Epoch 12, Loss: 0.997398927116394, lr = 0.011596214793857449\n"
          ]
        },
        {
          "output_type": "stream",
          "name": "stderr",
          "text": [
            "BatchNorm with epoch 13: 100%|██████████| 1250/1250 [00:06<00:00, 188.30it/s, Loss=0.551]\n"
          ]
        },
        {
          "output_type": "stream",
          "name": "stdout",
          "text": [
            "Epoch 13, Loss: 0.9624940529823304, lr = 0.011527089097682894\n"
          ]
        },
        {
          "output_type": "stream",
          "name": "stderr",
          "text": [
            "BatchNorm with epoch 14: 100%|██████████| 1250/1250 [00:06<00:00, 189.26it/s, Loss=1.2]\n"
          ]
        },
        {
          "output_type": "stream",
          "name": "stdout",
          "text": [
            "Epoch 14, Loss: 0.9106180589675903, lr = 0.011452755551679615\n"
          ]
        },
        {
          "output_type": "stream",
          "name": "stderr",
          "text": [
            "BatchNorm with epoch 15: 100%|██████████| 1250/1250 [00:06<00:00, 185.34it/s, Loss=0.781]\n"
          ]
        },
        {
          "output_type": "stream",
          "name": "stdout",
          "text": [
            "Epoch 15, Loss: 0.8529748023033142, lr = 0.011373287514083117\n"
          ]
        },
        {
          "output_type": "stream",
          "name": "stderr",
          "text": [
            "BatchNorm with epoch 16: 100%|██████████| 1250/1250 [00:06<00:00, 191.36it/s, Loss=0.624]\n"
          ]
        },
        {
          "output_type": "stream",
          "name": "stdout",
          "text": [
            "Epoch 16, Loss: 0.8311225289821624, lr = 0.011288763410252218\n"
          ]
        },
        {
          "output_type": "stream",
          "name": "stderr",
          "text": [
            "BatchNorm with epoch 17: 100%|██████████| 1250/1250 [00:06<00:00, 187.27it/s, Loss=0.0814]\n"
          ]
        },
        {
          "output_type": "stream",
          "name": "stdout",
          "text": [
            "Epoch 17, Loss: 0.7944297411203385, lr = 0.01119926665527268\n"
          ]
        },
        {
          "output_type": "stream",
          "name": "stderr",
          "text": [
            "BatchNorm with epoch 18: 100%|██████████| 1250/1250 [00:06<00:00, 188.82it/s, Loss=0.555]\n"
          ]
        },
        {
          "output_type": "stream",
          "name": "stdout",
          "text": [
            "Epoch 18, Loss: 0.7388777002334594, lr = 0.01110488557163659\n"
          ]
        },
        {
          "output_type": "stream",
          "name": "stderr",
          "text": [
            "BatchNorm with epoch 19: 100%|██████████| 1250/1250 [00:06<00:00, 188.52it/s, Loss=0.687]\n"
          ]
        },
        {
          "output_type": "stream",
          "name": "stdout",
          "text": [
            "Epoch 19, Loss: 0.7171319227457047, lr = 0.011005713302078734\n"
          ]
        },
        {
          "output_type": "stream",
          "name": "stderr",
          "text": [
            "BatchNorm with epoch 20: 100%|██████████| 1250/1250 [00:06<00:00, 188.12it/s, Loss=0.729]\n"
          ]
        },
        {
          "output_type": "stream",
          "name": "stdout",
          "text": [
            "Epoch 20, Loss: 0.709264637708664, lr = 0.010901847717655951\n"
          ]
        },
        {
          "output_type": "stream",
          "name": "stderr",
          "text": [
            "BatchNorm with epoch 21: 100%|██████████| 1250/1250 [00:06<00:00, 189.16it/s, Loss=0.545]\n"
          ]
        },
        {
          "output_type": "stream",
          "name": "stdout",
          "text": [
            "Epoch 21, Loss: 0.6825241172790527, lr = 0.010793391321160221\n"
          ]
        },
        {
          "output_type": "stream",
          "name": "stderr",
          "text": [
            "BatchNorm with epoch 22: 100%|██████████| 1250/1250 [00:06<00:00, 186.07it/s, Loss=0.195]\n"
          ]
        },
        {
          "output_type": "stream",
          "name": "stdout",
          "text": [
            "Epoch 22, Loss: 0.6348303550720215, lr = 0.01068045114596079\n"
          ]
        },
        {
          "output_type": "stream",
          "name": "stderr",
          "text": [
            "BatchNorm with epoch 23: 100%|██████████| 1250/1250 [00:06<00:00, 186.85it/s, Loss=1.2]\n"
          ]
        },
        {
          "output_type": "stream",
          "name": "stdout",
          "text": [
            "Epoch 23, Loss: 0.6017170177459716, lr = 0.010563138650375146\n"
          ]
        },
        {
          "output_type": "stream",
          "name": "stderr",
          "text": [
            "BatchNorm with epoch 24: 100%|██████████| 1250/1250 [00:06<00:00, 182.38it/s, Loss=0.475]\n"
          ]
        },
        {
          "output_type": "stream",
          "name": "stdout",
          "text": [
            "Epoch 24, Loss: 0.5997981847763062, lr = 0.01044156960767312\n"
          ]
        },
        {
          "output_type": "stream",
          "name": "stderr",
          "text": [
            "BatchNorm with epoch 25: 100%|██████████| 1250/1250 [00:06<00:00, 184.44it/s, Loss=2.92]\n"
          ]
        },
        {
          "output_type": "stream",
          "name": "stdout",
          "text": [
            "Epoch 25, Loss: 0.5710221040964126, lr = 0.010315863991822652\n"
          ]
        },
        {
          "output_type": "stream",
          "name": "stderr",
          "text": [
            "BatchNorm with epoch 26: 100%|██████████| 1250/1250 [00:06<00:00, 185.43it/s, Loss=0.385]\n"
          ]
        },
        {
          "output_type": "stream",
          "name": "stdout",
          "text": [
            "Epoch 26, Loss: 0.5268571885824204, lr = 0.010186145859089965\n"
          ]
        },
        {
          "output_type": "stream",
          "name": "stderr",
          "text": [
            "BatchNorm with epoch 27: 100%|██████████| 1250/1250 [00:06<00:00, 183.71it/s, Loss=1.09]\n"
          ]
        },
        {
          "output_type": "stream",
          "name": "stdout",
          "text": [
            "Epoch 27, Loss: 0.5186462240695954, lr = 0.010052543225611003\n"
          ]
        },
        {
          "output_type": "stream",
          "name": "stderr",
          "text": [
            "BatchNorm with epoch 28: 100%|██████████| 1250/1250 [00:06<00:00, 188.58it/s, Loss=0.377]\n"
          ]
        },
        {
          "output_type": "stream",
          "name": "stdout",
          "text": [
            "Epoch 28, Loss: 0.47192210538387297, lr = 0.00991518794105497\n"
          ]
        },
        {
          "output_type": "stream",
          "name": "stderr",
          "text": [
            "BatchNorm with epoch 29: 100%|██████████| 1250/1250 [00:06<00:00, 188.50it/s, Loss=1.45]\n"
          ]
        },
        {
          "output_type": "stream",
          "name": "stdout",
          "text": [
            "Epoch 29, Loss: 0.4785952781200409, lr = 0.00977421555850462\n"
          ]
        },
        {
          "output_type": "stream",
          "name": "stderr",
          "text": [
            "BatchNorm with epoch 30: 100%|██████████| 1250/1250 [00:06<00:00, 190.33it/s, Loss=0.973]\n"
          ]
        },
        {
          "output_type": "stream",
          "name": "stdout",
          "text": [
            "Epoch 30, Loss: 0.4473336979627609, lr = 0.009629765200681727\n"
          ]
        },
        {
          "output_type": "stream",
          "name": "stderr",
          "text": [
            "BatchNorm with epoch 31: 100%|██████████| 1250/1250 [00:06<00:00, 186.30it/s, Loss=0.131]\n"
          ]
        },
        {
          "output_type": "stream",
          "name": "stdout",
          "text": [
            "Epoch 31, Loss: 0.42199846444129946, lr = 0.009481979422649757\n"
          ]
        },
        {
          "output_type": "stream",
          "name": "stderr",
          "text": [
            "BatchNorm with epoch 32: 100%|██████████| 1250/1250 [00:06<00:00, 189.50it/s, Loss=0.06]\n"
          ]
        },
        {
          "output_type": "stream",
          "name": "stdout",
          "text": [
            "Epoch 32, Loss: 0.3941194081068039, lr = 0.009331004071129235\n"
          ]
        },
        {
          "output_type": "stream",
          "name": "stderr",
          "text": [
            "BatchNorm with epoch 33: 100%|██████████| 1250/1250 [00:06<00:00, 190.57it/s, Loss=0.391]\n"
          ]
        },
        {
          "output_type": "stream",
          "name": "stdout",
          "text": [
            "Epoch 33, Loss: 0.3717188328027725, lr = 0.00917698814056464\n"
          ]
        },
        {
          "output_type": "stream",
          "name": "stderr",
          "text": [
            "BatchNorm with epoch 34: 100%|██████████| 1250/1250 [00:06<00:00, 188.40it/s, Loss=0.518]\n"
          ]
        },
        {
          "output_type": "stream",
          "name": "stdout",
          "text": [
            "Epoch 34, Loss: 0.3849415168762207, lr = 0.009020083626084868\n"
          ]
        },
        {
          "output_type": "stream",
          "name": "stderr",
          "text": [
            "BatchNorm with epoch 35: 100%|██████████| 1250/1250 [00:06<00:00, 190.45it/s, Loss=0.317]\n"
          ]
        },
        {
          "output_type": "stream",
          "name": "stdout",
          "text": [
            "Epoch 35, Loss: 0.34492765991687774, lr = 0.008860445373502399\n"
          ]
        },
        {
          "output_type": "stream",
          "name": "stderr",
          "text": [
            "BatchNorm with epoch 36: 100%|██████████| 1250/1250 [00:06<00:00, 189.08it/s, Loss=0.359]\n"
          ]
        },
        {
          "output_type": "stream",
          "name": "stdout",
          "text": [
            "Epoch 36, Loss: 0.3498639429330826, lr = 0.008698230926499172\n"
          ]
        },
        {
          "output_type": "stream",
          "name": "stderr",
          "text": [
            "BatchNorm with epoch 37: 100%|██████████| 1250/1250 [00:06<00:00, 189.71it/s, Loss=0.00538]\n"
          ]
        },
        {
          "output_type": "stream",
          "name": "stdout",
          "text": [
            "Epoch 37, Loss: 0.30518086347579954, lr = 0.008533600371149993\n"
          ]
        },
        {
          "output_type": "stream",
          "name": "stderr",
          "text": [
            "BatchNorm with epoch 38: 100%|██████████| 1250/1250 [00:06<00:00, 187.54it/s, Loss=0.249]\n"
          ]
        },
        {
          "output_type": "stream",
          "name": "stdout",
          "text": [
            "Epoch 38, Loss: 0.3026562888383865, lr = 0.008366716177936905\n"
          ]
        },
        {
          "output_type": "stream",
          "name": "stderr",
          "text": [
            "BatchNorm with epoch 39: 100%|██████████| 1250/1250 [00:06<00:00, 187.50it/s, Loss=0.425]\n"
          ]
        },
        {
          "output_type": "stream",
          "name": "stdout",
          "text": [
            "Epoch 39, Loss: 0.27969013469219206, lr = 0.008197743041410431\n"
          ]
        },
        {
          "output_type": "stream",
          "name": "stderr",
          "text": [
            "BatchNorm with epoch 40: 100%|██████████| 1250/1250 [00:06<00:00, 187.58it/s, Loss=0.152]\n"
          ]
        },
        {
          "output_type": "stream",
          "name": "stdout",
          "text": [
            "Epoch 40, Loss: 0.2974467246770859, lr = 0.008026847717655952\n"
          ]
        },
        {
          "output_type": "stream",
          "name": "stderr",
          "text": [
            "BatchNorm with epoch 41: 100%|██████████| 1250/1250 [00:06<00:00, 182.07it/s, Loss=0.0191]\n"
          ]
        },
        {
          "output_type": "stream",
          "name": "stdout",
          "text": [
            "Epoch 41, Loss: 0.2351809939622879, lr = 0.007854198859725573\n"
          ]
        },
        {
          "output_type": "stream",
          "name": "stderr",
          "text": [
            "BatchNorm with epoch 42: 100%|██████████| 1250/1250 [00:06<00:00, 188.09it/s, Loss=0.302]\n"
          ]
        },
        {
          "output_type": "stream",
          "name": "stdout",
          "text": [
            "Epoch 42, Loss: 0.21689103274345398, lr = 0.007679966851197918\n"
          ]
        },
        {
          "output_type": "stream",
          "name": "stderr",
          "text": [
            "BatchNorm with epoch 43: 100%|██████████| 1250/1250 [00:06<00:00, 187.83it/s, Loss=0.0698]\n"
          ]
        },
        {
          "output_type": "stream",
          "name": "stdout",
          "text": [
            "Epoch 43, Loss: 0.22844565391540528, lr = 0.007504323638030124\n"
          ]
        },
        {
          "output_type": "stream",
          "name": "stderr",
          "text": [
            "BatchNorm with epoch 44: 100%|██████████| 1250/1250 [00:06<00:00, 185.54it/s, Loss=0.0338]\n"
          ]
        },
        {
          "output_type": "stream",
          "name": "stdout",
          "text": [
            "Epoch 44, Loss: 0.22905050086975098, lr = 0.007327442558867921\n"
          ]
        },
        {
          "output_type": "stream",
          "name": "stderr",
          "text": [
            "BatchNorm with epoch 45: 100%|██████████| 1250/1250 [00:06<00:00, 190.02it/s, Loss=0.0289]\n"
          ]
        },
        {
          "output_type": "stream",
          "name": "stdout",
          "text": [
            "Epoch 45, Loss: 0.18301316604614257, lr = 0.00714949817398133\n"
          ]
        },
        {
          "output_type": "stream",
          "name": "stderr",
          "text": [
            "BatchNorm with epoch 46: 100%|██████████| 1250/1250 [00:06<00:00, 182.84it/s, Loss=0.337]\n"
          ]
        },
        {
          "output_type": "stream",
          "name": "stdout",
          "text": [
            "Epoch 46, Loss: 0.1743968846797943, lr = 0.006970666092994753\n"
          ]
        },
        {
          "output_type": "stream",
          "name": "stderr",
          "text": [
            "BatchNorm with epoch 47: 100%|██████████| 1250/1250 [00:06<00:00, 188.12it/s, Loss=0.0277]\n"
          ]
        },
        {
          "output_type": "stream",
          "name": "stdout",
          "text": [
            "Epoch 47, Loss: 0.1892889324903488, lr = 0.006791122801581459\n"
          ]
        },
        {
          "output_type": "stream",
          "name": "stderr",
          "text": [
            "BatchNorm with epoch 48: 100%|██████████| 1250/1250 [00:06<00:00, 187.00it/s, Loss=0.517]\n"
          ]
        },
        {
          "output_type": "stream",
          "name": "stdout",
          "text": [
            "Epoch 48, Loss: 0.18594104554653168, lr = 0.006611045487293554\n"
          ]
        },
        {
          "output_type": "stream",
          "name": "stderr",
          "text": [
            "BatchNorm with epoch 49: 100%|██████████| 1250/1250 [00:06<00:00, 187.73it/s, Loss=0.00498]\n"
          ]
        },
        {
          "output_type": "stream",
          "name": "stdout",
          "text": [
            "Epoch 49, Loss: 0.16605721967220308, lr = 0.006430611864699239\n"
          ]
        },
        {
          "output_type": "stream",
          "name": "stderr",
          "text": [
            "BatchNorm with epoch 50: 100%|██████████| 1250/1250 [00:06<00:00, 187.64it/s, Loss=0.323]\n"
          ]
        },
        {
          "output_type": "stream",
          "name": "stdout",
          "text": [
            "Epoch 50, Loss: 0.13925749039649962, lr = 0.00625\n"
          ]
        },
        {
          "output_type": "stream",
          "name": "stderr",
          "text": [
            "BatchNorm with epoch 51: 100%|██████████| 1250/1250 [00:06<00:00, 187.58it/s, Loss=0.676]\n"
          ]
        },
        {
          "output_type": "stream",
          "name": "stdout",
          "text": [
            "Epoch 51, Loss: 0.13396303894519807, lr = 0.006069388135300762\n"
          ]
        },
        {
          "output_type": "stream",
          "name": "stderr",
          "text": [
            "BatchNorm with epoch 52: 100%|██████████| 1250/1250 [00:06<00:00, 189.34it/s, Loss=0.114]\n"
          ]
        },
        {
          "output_type": "stream",
          "name": "stdout",
          "text": [
            "Epoch 52, Loss: 0.11268831865787506, lr = 0.005888954512706447\n"
          ]
        },
        {
          "output_type": "stream",
          "name": "stderr",
          "text": [
            "BatchNorm with epoch 53: 100%|██████████| 1250/1250 [00:06<00:00, 185.00it/s, Loss=0.00891]\n"
          ]
        },
        {
          "output_type": "stream",
          "name": "stdout",
          "text": [
            "Epoch 53, Loss: 0.10905726189613342, lr = 0.005708877198418541\n"
          ]
        },
        {
          "output_type": "stream",
          "name": "stderr",
          "text": [
            "BatchNorm with epoch 54: 100%|██████████| 1250/1250 [00:06<00:00, 189.54it/s, Loss=0.0381]\n"
          ]
        },
        {
          "output_type": "stream",
          "name": "stdout",
          "text": [
            "Epoch 54, Loss: 0.07317427198886871, lr = 0.0055293339070052495\n"
          ]
        },
        {
          "output_type": "stream",
          "name": "stderr",
          "text": [
            "BatchNorm with epoch 55: 100%|██████████| 1250/1250 [00:06<00:00, 186.02it/s, Loss=0.0433]\n"
          ]
        },
        {
          "output_type": "stream",
          "name": "stdout",
          "text": [
            "Epoch 55, Loss: 0.05986599938869476, lr = 0.005350501826018671\n"
          ]
        },
        {
          "output_type": "stream",
          "name": "stderr",
          "text": [
            "BatchNorm with epoch 56: 100%|██████████| 1250/1250 [00:06<00:00, 183.50it/s, Loss=0.0745]\n"
          ]
        },
        {
          "output_type": "stream",
          "name": "stdout",
          "text": [
            "Epoch 56, Loss: 0.04475097477436066, lr = 0.005172557441132082\n"
          ]
        },
        {
          "output_type": "stream",
          "name": "stderr",
          "text": [
            "BatchNorm with epoch 57: 100%|██████████| 1250/1250 [00:07<00:00, 171.54it/s, Loss=0.00235]\n"
          ]
        },
        {
          "output_type": "stream",
          "name": "stdout",
          "text": [
            "Epoch 57, Loss: 0.039117944145202636, lr = 0.00499567636196988\n"
          ]
        },
        {
          "output_type": "stream",
          "name": "stderr",
          "text": [
            "BatchNorm with epoch 58: 100%|██████████| 1250/1250 [00:07<00:00, 171.43it/s, Loss=0.00022]\n"
          ]
        },
        {
          "output_type": "stream",
          "name": "stdout",
          "text": [
            "Epoch 58, Loss: 0.03359047486782074, lr = 0.004820033148802083\n"
          ]
        },
        {
          "output_type": "stream",
          "name": "stderr",
          "text": [
            "BatchNorm with epoch 59: 100%|██████████| 1250/1250 [00:07<00:00, 171.93it/s, Loss=0.0025]\n"
          ]
        },
        {
          "output_type": "stream",
          "name": "stdout",
          "text": [
            "Epoch 59, Loss: 0.026289910745620728, lr = 0.004645801140274431\n"
          ]
        },
        {
          "output_type": "stream",
          "name": "stderr",
          "text": [
            "BatchNorm with epoch 60: 100%|██████████| 1250/1250 [00:07<00:00, 167.54it/s, Loss=0.00295]\n"
          ]
        },
        {
          "output_type": "stream",
          "name": "stdout",
          "text": [
            "Epoch 60, Loss: 0.021278288078308106, lr = 0.004473152282344052\n"
          ]
        },
        {
          "output_type": "stream",
          "name": "stderr",
          "text": [
            "BatchNorm with epoch 61: 100%|██████████| 1250/1250 [00:07<00:00, 166.25it/s, Loss=0.0266]\n"
          ]
        },
        {
          "output_type": "stream",
          "name": "stdout",
          "text": [
            "Epoch 61, Loss: 0.022736617970466614, lr = 0.004302256958589572\n"
          ]
        },
        {
          "output_type": "stream",
          "name": "stderr",
          "text": [
            "BatchNorm with epoch 62: 100%|██████████| 1250/1250 [00:07<00:00, 172.02it/s, Loss=0.0144]\n"
          ]
        },
        {
          "output_type": "stream",
          "name": "stdout",
          "text": [
            "Epoch 62, Loss: 0.01770418164730072, lr = 0.004133283822063101\n"
          ]
        },
        {
          "output_type": "stream",
          "name": "stderr",
          "text": [
            "BatchNorm with epoch 63: 100%|██████████| 1250/1250 [00:07<00:00, 168.30it/s, Loss=0.00278]\n"
          ]
        },
        {
          "output_type": "stream",
          "name": "stdout",
          "text": [
            "Epoch 63, Loss: 0.014378381299972534, lr = 0.003966399628850009\n"
          ]
        },
        {
          "output_type": "stream",
          "name": "stderr",
          "text": [
            "BatchNorm with epoch 64: 100%|██████████| 1250/1250 [00:07<00:00, 170.41it/s, Loss=0.000982]\n"
          ]
        },
        {
          "output_type": "stream",
          "name": "stdout",
          "text": [
            "Epoch 64, Loss: 0.01701134030818939, lr = 0.0038017690735008304\n"
          ]
        },
        {
          "output_type": "stream",
          "name": "stderr",
          "text": [
            "BatchNorm with epoch 65: 100%|██████████| 1250/1250 [00:07<00:00, 169.21it/s, Loss=0.0146]\n"
          ]
        },
        {
          "output_type": "stream",
          "name": "stdout",
          "text": [
            "Epoch 65, Loss: 0.012918658638000489, lr = 0.0036395546264976044\n"
          ]
        },
        {
          "output_type": "stream",
          "name": "stderr",
          "text": [
            "BatchNorm with epoch 66: 100%|██████████| 1250/1250 [00:07<00:00, 168.45it/s, Loss=0.00462]\n"
          ]
        },
        {
          "output_type": "stream",
          "name": "stdout",
          "text": [
            "Epoch 66, Loss: 0.013876287102699279, lr = 0.0034799163739151345\n"
          ]
        },
        {
          "output_type": "stream",
          "name": "stderr",
          "text": [
            "BatchNorm with epoch 67: 100%|██████████| 1250/1250 [00:06<00:00, 179.06it/s, Loss=0.0215]\n"
          ]
        },
        {
          "output_type": "stream",
          "name": "stdout",
          "text": [
            "Epoch 67, Loss: 0.011889324522018433, lr = 0.0033230118594353634\n"
          ]
        },
        {
          "output_type": "stream",
          "name": "stderr",
          "text": [
            "BatchNorm with epoch 68: 100%|██████████| 1250/1250 [00:07<00:00, 171.21it/s, Loss=0.023]\n"
          ]
        },
        {
          "output_type": "stream",
          "name": "stdout",
          "text": [
            "Epoch 68, Loss: 0.010492492461204529, lr = 0.0031689959288707667\n"
          ]
        },
        {
          "output_type": "stream",
          "name": "stderr",
          "text": [
            "BatchNorm with epoch 69: 100%|██████████| 1250/1250 [00:07<00:00, 171.08it/s, Loss=0.0158]\n"
          ]
        },
        {
          "output_type": "stream",
          "name": "stdout",
          "text": [
            "Epoch 69, Loss: 0.01379903438091278, lr = 0.0030180205773502476\n"
          ]
        },
        {
          "output_type": "stream",
          "name": "stderr",
          "text": [
            "BatchNorm with epoch 70: 100%|██████████| 1250/1250 [00:07<00:00, 171.63it/s, Loss=0.000267]\n"
          ]
        },
        {
          "output_type": "stream",
          "name": "stdout",
          "text": [
            "Epoch 70, Loss: 0.011242163181304932, lr = 0.0028702347993182793\n"
          ]
        },
        {
          "output_type": "stream",
          "name": "stderr",
          "text": [
            "BatchNorm with epoch 71: 100%|██████████| 1250/1250 [00:07<00:00, 169.31it/s, Loss=0.00443]\n"
          ]
        },
        {
          "output_type": "stream",
          "name": "stdout",
          "text": [
            "Epoch 71, Loss: 0.011630678486824036, lr = 0.002725784441495384\n"
          ]
        },
        {
          "output_type": "stream",
          "name": "stderr",
          "text": [
            "BatchNorm with epoch 72: 100%|██████████| 1250/1250 [00:07<00:00, 170.84it/s, Loss=0.012]\n"
          ]
        },
        {
          "output_type": "stream",
          "name": "stdout",
          "text": [
            "Epoch 72, Loss: 0.01145964217185974, lr = 0.0025848120589450334\n"
          ]
        },
        {
          "output_type": "stream",
          "name": "stderr",
          "text": [
            "BatchNorm with epoch 73: 100%|██████████| 1250/1250 [00:07<00:00, 170.94it/s, Loss=0.00769]\n"
          ]
        },
        {
          "output_type": "stream",
          "name": "stdout",
          "text": [
            "Epoch 73, Loss: 0.011275155639648437, lr = 0.0024474567743890023\n"
          ]
        },
        {
          "output_type": "stream",
          "name": "stderr",
          "text": [
            "BatchNorm with epoch 74: 100%|██████████| 1250/1250 [00:07<00:00, 168.61it/s, Loss=0.0031]\n"
          ]
        },
        {
          "output_type": "stream",
          "name": "stdout",
          "text": [
            "Epoch 74, Loss: 0.009578443360328674, lr = 0.0023138541409100395\n"
          ]
        },
        {
          "output_type": "stream",
          "name": "stderr",
          "text": [
            "BatchNorm with epoch 75: 100%|██████████| 1250/1250 [00:07<00:00, 175.37it/s, Loss=0.000329]\n"
          ]
        },
        {
          "output_type": "stream",
          "name": "stdout",
          "text": [
            "Epoch 75, Loss: 0.010111754751205444, lr = 0.0021841360081773517\n"
          ]
        },
        {
          "output_type": "stream",
          "name": "stderr",
          "text": [
            "BatchNorm with epoch 76: 100%|██████████| 1250/1250 [00:07<00:00, 169.38it/s, Loss=0.00213]\n"
          ]
        },
        {
          "output_type": "stream",
          "name": "stdout",
          "text": [
            "Epoch 76, Loss: 0.00965225968360901, lr = 0.0020584303923268845\n"
          ]
        },
        {
          "output_type": "stream",
          "name": "stderr",
          "text": [
            "BatchNorm with epoch 77: 100%|██████████| 1250/1250 [00:07<00:00, 170.55it/s, Loss=0.00421]\n"
          ]
        },
        {
          "output_type": "stream",
          "name": "stdout",
          "text": [
            "Epoch 77, Loss: 0.009539238810539245, lr = 0.0019368613496248569\n"
          ]
        },
        {
          "output_type": "stream",
          "name": "stderr",
          "text": [
            "BatchNorm with epoch 78: 100%|██████████| 1250/1250 [00:07<00:00, 172.31it/s, Loss=0.00324]\n"
          ]
        },
        {
          "output_type": "stream",
          "name": "stdout",
          "text": [
            "Epoch 78, Loss: 0.00978615643978119, lr = 0.001819548854039212\n"
          ]
        },
        {
          "output_type": "stream",
          "name": "stderr",
          "text": [
            "BatchNorm with epoch 79: 100%|██████████| 1250/1250 [00:07<00:00, 170.51it/s, Loss=0.0032]\n"
          ]
        },
        {
          "output_type": "stream",
          "name": "stdout",
          "text": [
            "Epoch 79, Loss: 0.009312012243270874, lr = 0.0017066086788397798\n"
          ]
        },
        {
          "output_type": "stream",
          "name": "stderr",
          "text": [
            "BatchNorm with epoch 80: 100%|██████████| 1250/1250 [00:07<00:00, 171.15it/s, Loss=0.00687]\n"
          ]
        },
        {
          "output_type": "stream",
          "name": "stdout",
          "text": [
            "Epoch 80, Loss: 0.009893415212631226, lr = 0.0015981522823440525\n"
          ]
        },
        {
          "output_type": "stream",
          "name": "stderr",
          "text": [
            "BatchNorm with epoch 81: 100%|██████████| 1250/1250 [00:07<00:00, 168.57it/s, Loss=0.00731]\n"
          ]
        },
        {
          "output_type": "stream",
          "name": "stdout",
          "text": [
            "Epoch 81, Loss: 0.01000426037311554, lr = 0.0014942866979212699\n"
          ]
        },
        {
          "output_type": "stream",
          "name": "stderr",
          "text": [
            "BatchNorm with epoch 82: 100%|██████████| 1250/1250 [00:07<00:00, 168.63it/s, Loss=0.0151]\n"
          ]
        },
        {
          "output_type": "stream",
          "name": "stdout",
          "text": [
            "Epoch 82, Loss: 0.008876855802536011, lr = 0.0013951144283634144\n"
          ]
        },
        {
          "output_type": "stream",
          "name": "stderr",
          "text": [
            "BatchNorm with epoch 83: 100%|██████████| 1250/1250 [00:07<00:00, 178.03it/s, Loss=0.00226]\n"
          ]
        },
        {
          "output_type": "stream",
          "name": "stdout",
          "text": [
            "Epoch 83, Loss: 0.009517274904251099, lr = 0.0013007333447273232\n"
          ]
        },
        {
          "output_type": "stream",
          "name": "stderr",
          "text": [
            "BatchNorm with epoch 84: 100%|██████████| 1250/1250 [00:07<00:00, 177.87it/s, Loss=0.0036]\n"
          ]
        },
        {
          "output_type": "stream",
          "name": "stdout",
          "text": [
            "Epoch 84, Loss: 0.008729610919952393, lr = 0.0012112365897477841\n"
          ]
        },
        {
          "output_type": "stream",
          "name": "stderr",
          "text": [
            "BatchNorm with epoch 85: 100%|██████████| 1250/1250 [00:06<00:00, 186.48it/s, Loss=0.00849]\n"
          ]
        },
        {
          "output_type": "stream",
          "name": "stdout",
          "text": [
            "Epoch 85, Loss: 0.00913968164920807, lr = 0.001126712485916885\n"
          ]
        },
        {
          "output_type": "stream",
          "name": "stderr",
          "text": [
            "BatchNorm with epoch 86: 100%|██████████| 1250/1250 [00:06<00:00, 179.75it/s, Loss=0.00513]\n"
          ]
        },
        {
          "output_type": "stream",
          "name": "stdout",
          "text": [
            "Epoch 86, Loss: 0.008425309395790101, lr = 0.0010472444483203885\n"
          ]
        },
        {
          "output_type": "stream",
          "name": "stderr",
          "text": [
            "BatchNorm with epoch 87: 100%|██████████| 1250/1250 [00:07<00:00, 168.52it/s, Loss=0.00232]\n"
          ]
        },
        {
          "output_type": "stream",
          "name": "stdout",
          "text": [
            "Epoch 87, Loss: 0.009536386609077454, lr = 0.0009729109023171096\n"
          ]
        },
        {
          "output_type": "stream",
          "name": "stderr",
          "text": [
            "BatchNorm with epoch 88: 100%|██████████| 1250/1250 [00:07<00:00, 173.24it/s, Loss=0.00348]\n"
          ]
        },
        {
          "output_type": "stream",
          "name": "stdout",
          "text": [
            "Epoch 88, Loss: 0.00863056571483612, lr = 0.0009037852061425547\n"
          ]
        },
        {
          "output_type": "stream",
          "name": "stderr",
          "text": [
            "BatchNorm with epoch 89: 100%|██████████| 1250/1250 [00:07<00:00, 169.43it/s, Loss=0.0042]\n"
          ]
        },
        {
          "output_type": "stream",
          "name": "stdout",
          "text": [
            "Epoch 89, Loss: 0.009058494424819947, lr = 0.0008399355785132036\n"
          ]
        },
        {
          "output_type": "stream",
          "name": "stderr",
          "text": [
            "BatchNorm with epoch 90: 100%|██████████| 1250/1250 [00:07<00:00, 169.10it/s, Loss=0.0164]\n"
          ]
        },
        {
          "output_type": "stream",
          "name": "stdout",
          "text": [
            "Epoch 90, Loss: 0.0097576176404953, lr = 0.0007814250313028671\n"
          ]
        },
        {
          "output_type": "stream",
          "name": "stderr",
          "text": [
            "BatchNorm with epoch 91: 100%|██████████| 1250/1250 [00:07<00:00, 171.78it/s, Loss=0.00514]\n"
          ]
        },
        {
          "output_type": "stream",
          "name": "stdout",
          "text": [
            "Epoch 91, Loss: 0.009103323197364807, lr = 0.0007283113073575779\n"
          ]
        },
        {
          "output_type": "stream",
          "name": "stderr",
          "text": [
            "BatchNorm with epoch 92: 100%|██████████| 1250/1250 [00:07<00:00, 167.59it/s, Loss=0.00594]\n"
          ]
        },
        {
          "output_type": "stream",
          "name": "stdout",
          "text": [
            "Epoch 92, Loss: 0.009181698608398438, lr = 0.0006806468235103719\n"
          ]
        },
        {
          "output_type": "stream",
          "name": "stderr",
          "text": [
            "BatchNorm with epoch 93: 100%|██████████| 1250/1250 [00:07<00:00, 170.37it/s, Loss=0.00152]\n"
          ]
        },
        {
          "output_type": "stream",
          "name": "stdout",
          "text": [
            "Epoch 93, Loss: 0.008533992052078247, lr = 0.0006384786188522028\n"
          ]
        },
        {
          "output_type": "stream",
          "name": "stderr",
          "text": [
            "BatchNorm with epoch 94: 100%|██████████| 1250/1250 [00:07<00:00, 170.25it/s, Loss=0.00981]\n"
          ]
        },
        {
          "output_type": "stream",
          "name": "stdout",
          "text": [
            "Epoch 94, Loss: 0.008866526246070861, lr = 0.0006018483083100398\n"
          ]
        },
        {
          "output_type": "stream",
          "name": "stderr",
          "text": [
            "BatchNorm with epoch 95: 100%|██████████| 1250/1250 [00:07<00:00, 165.67it/s, Loss=0.0105]\n"
          ]
        },
        {
          "output_type": "stream",
          "name": "stdout",
          "text": [
            "Epoch 95, Loss: 0.008733889818191528, lr = 0.0005707920415779584\n"
          ]
        },
        {
          "output_type": "stream",
          "name": "stderr",
          "text": [
            "BatchNorm with epoch 96: 100%|██████████| 1250/1250 [00:07<00:00, 171.28it/s, Loss=0.00313]\n"
          ]
        },
        {
          "output_type": "stream",
          "name": "stdout",
          "text": [
            "Epoch 96, Loss: 0.008555181765556336, lr = 0.0005453404674417528\n"
          ]
        },
        {
          "output_type": "stream",
          "name": "stderr",
          "text": [
            "BatchNorm with epoch 97: 100%|██████████| 1250/1250 [00:07<00:00, 174.60it/s, Loss=0.00114]\n"
          ]
        },
        {
          "output_type": "stream",
          "name": "stdout",
          "text": [
            "Epoch 97, Loss: 0.008827771663665772, lr = 0.00052551870353229\n"
          ]
        },
        {
          "output_type": "stream",
          "name": "stderr",
          "text": [
            "BatchNorm with epoch 98: 100%|██████████| 1250/1250 [00:07<00:00, 170.69it/s, Loss=0.0584]\n"
          ]
        },
        {
          "output_type": "stream",
          "name": "stdout",
          "text": [
            "Epoch 98, Loss: 0.00866905381679535, lr = 0.0005113463115374385\n"
          ]
        },
        {
          "output_type": "stream",
          "name": "stderr",
          "text": [
            "BatchNorm with epoch 99: 100%|██████████| 1250/1250 [00:07<00:00, 170.35it/s, Loss=0.0212]\n"
          ]
        },
        {
          "output_type": "stream",
          "name": "stdout",
          "text": [
            "Epoch 99, Loss: 0.008760093927383424, lr = 0.0005028372778970433\n"
          ]
        },
        {
          "output_type": "stream",
          "name": "stderr",
          "text": [
            "BatchNorm with epoch 100: 100%|██████████| 1250/1250 [00:07<00:00, 168.51it/s, Loss=0.00317]\n"
          ]
        },
        {
          "output_type": "stream",
          "name": "stdout",
          "text": [
            "Epoch 100, Loss: 0.00861418240070343, lr = 0.0005\n"
          ]
        },
        {
          "output_type": "stream",
          "name": "stderr",
          "text": [
            "GroupNorm with epoch 1: 100%|██████████| 1250/1250 [00:07<00:00, 164.43it/s, Loss=2.46]\n"
          ]
        },
        {
          "output_type": "stream",
          "name": "stdout",
          "text": [
            "Epoch 1, Loss: 2.043483396911621, lr = 0.011997162722102958\n"
          ]
        },
        {
          "output_type": "stream",
          "name": "stderr",
          "text": [
            "GroupNorm with epoch 2: 100%|██████████| 1250/1250 [00:07<00:00, 165.22it/s, Loss=1.25]\n"
          ]
        },
        {
          "output_type": "stream",
          "name": "stdout",
          "text": [
            "Epoch 2, Loss: 1.683539111328125, lr = 0.011988653688462563\n"
          ]
        },
        {
          "output_type": "stream",
          "name": "stderr",
          "text": [
            "GroupNorm with epoch 3: 100%|██████████| 1250/1250 [00:07<00:00, 160.01it/s, Loss=3.29]\n"
          ]
        },
        {
          "output_type": "stream",
          "name": "stdout",
          "text": [
            "Epoch 3, Loss: 1.5124638793945313, lr = 0.011974481296467712\n"
          ]
        },
        {
          "output_type": "stream",
          "name": "stderr",
          "text": [
            "GroupNorm with epoch 4: 100%|██████████| 1250/1250 [00:07<00:00, 164.42it/s, Loss=1.08]\n"
          ]
        },
        {
          "output_type": "stream",
          "name": "stdout",
          "text": [
            "Epoch 4, Loss: 1.418576708984375, lr = 0.01195465953255825\n"
          ]
        },
        {
          "output_type": "stream",
          "name": "stderr",
          "text": [
            "GroupNorm with epoch 5: 100%|██████████| 1250/1250 [00:07<00:00, 163.71it/s, Loss=1.25]\n"
          ]
        },
        {
          "output_type": "stream",
          "name": "stdout",
          "text": [
            "Epoch 5, Loss: 1.3046061820983887, lr = 0.011929207958422044\n"
          ]
        },
        {
          "output_type": "stream",
          "name": "stderr",
          "text": [
            "GroupNorm with epoch 6: 100%|██████████| 1250/1250 [00:07<00:00, 163.70it/s, Loss=1.14]\n"
          ]
        },
        {
          "output_type": "stream",
          "name": "stdout",
          "text": [
            "Epoch 6, Loss: 1.2097156715393067, lr = 0.011898151691689963\n"
          ]
        },
        {
          "output_type": "stream",
          "name": "stderr",
          "text": [
            "GroupNorm with epoch 7: 100%|██████████| 1250/1250 [00:07<00:00, 163.98it/s, Loss=2.06]\n"
          ]
        },
        {
          "output_type": "stream",
          "name": "stdout",
          "text": [
            "Epoch 7, Loss: 1.1264718988418578, lr = 0.0118615213811478\n"
          ]
        },
        {
          "output_type": "stream",
          "name": "stderr",
          "text": [
            "GroupNorm with epoch 8: 100%|██████████| 1250/1250 [00:07<00:00, 163.77it/s, Loss=1.19]\n"
          ]
        },
        {
          "output_type": "stream",
          "name": "stdout",
          "text": [
            "Epoch 8, Loss: 1.042792501449585, lr = 0.011819353176489631\n"
          ]
        },
        {
          "output_type": "stream",
          "name": "stderr",
          "text": [
            "GroupNorm with epoch 9: 100%|██████████| 1250/1250 [00:07<00:00, 162.96it/s, Loss=0.874]\n"
          ]
        },
        {
          "output_type": "stream",
          "name": "stdout",
          "text": [
            "Epoch 9, Loss: 0.9866156148910522, lr = 0.011771688692642425\n"
          ]
        },
        {
          "output_type": "stream",
          "name": "stderr",
          "text": [
            "GroupNorm with epoch 10: 100%|██████████| 1250/1250 [00:07<00:00, 164.98it/s, Loss=1.54]\n"
          ]
        },
        {
          "output_type": "stream",
          "name": "stdout",
          "text": [
            "Epoch 10, Loss: 0.9153034178733825, lr = 0.011718574968697135\n"
          ]
        },
        {
          "output_type": "stream",
          "name": "stderr",
          "text": [
            "GroupNorm with epoch 11: 100%|██████████| 1250/1250 [00:07<00:00, 162.85it/s, Loss=0.3]\n"
          ]
        },
        {
          "output_type": "stream",
          "name": "stdout",
          "text": [
            "Epoch 11, Loss: 0.8485220178604126, lr = 0.0116600644214868\n"
          ]
        },
        {
          "output_type": "stream",
          "name": "stderr",
          "text": [
            "GroupNorm with epoch 12: 100%|██████████| 1250/1250 [00:07<00:00, 172.97it/s, Loss=1.44]\n"
          ]
        },
        {
          "output_type": "stream",
          "name": "stdout",
          "text": [
            "Epoch 12, Loss: 0.8005991307735443, lr = 0.011596214793857449\n"
          ]
        },
        {
          "output_type": "stream",
          "name": "stderr",
          "text": [
            "GroupNorm with epoch 13: 100%|██████████| 1250/1250 [00:06<00:00, 181.42it/s, Loss=2.13]\n"
          ]
        },
        {
          "output_type": "stream",
          "name": "stdout",
          "text": [
            "Epoch 13, Loss: 0.74932173640728, lr = 0.011527089097682894\n"
          ]
        },
        {
          "output_type": "stream",
          "name": "stderr",
          "text": [
            "GroupNorm with epoch 14: 100%|██████████| 1250/1250 [00:06<00:00, 180.19it/s, Loss=1.05]\n"
          ]
        },
        {
          "output_type": "stream",
          "name": "stdout",
          "text": [
            "Epoch 14, Loss: 0.7144250103473664, lr = 0.011452755551679615\n"
          ]
        },
        {
          "output_type": "stream",
          "name": "stderr",
          "text": [
            "GroupNorm with epoch 15: 100%|██████████| 1250/1250 [00:06<00:00, 179.39it/s, Loss=0.492]\n"
          ]
        },
        {
          "output_type": "stream",
          "name": "stdout",
          "text": [
            "Epoch 15, Loss: 0.6396041030883789, lr = 0.011373287514083117\n"
          ]
        },
        {
          "output_type": "stream",
          "name": "stderr",
          "text": [
            "GroupNorm with epoch 16: 100%|██████████| 1250/1250 [00:06<00:00, 181.46it/s, Loss=0.535]\n"
          ]
        },
        {
          "output_type": "stream",
          "name": "stdout",
          "text": [
            "Epoch 16, Loss: 0.5813197904348374, lr = 0.011288763410252218\n"
          ]
        },
        {
          "output_type": "stream",
          "name": "stderr",
          "text": [
            "GroupNorm with epoch 17: 100%|██████████| 1250/1250 [00:06<00:00, 179.56it/s, Loss=1.15]\n"
          ]
        },
        {
          "output_type": "stream",
          "name": "stdout",
          "text": [
            "Epoch 17, Loss: 0.5514958131074905, lr = 0.01119926665527268\n"
          ]
        },
        {
          "output_type": "stream",
          "name": "stderr",
          "text": [
            "GroupNorm with epoch 18: 100%|██████████| 1250/1250 [00:06<00:00, 182.99it/s, Loss=0.232]\n"
          ]
        },
        {
          "output_type": "stream",
          "name": "stdout",
          "text": [
            "Epoch 18, Loss: 0.501875284743309, lr = 0.01110488557163659\n"
          ]
        },
        {
          "output_type": "stream",
          "name": "stderr",
          "text": [
            "GroupNorm with epoch 19: 100%|██████████| 1250/1250 [00:06<00:00, 179.16it/s, Loss=0.321]\n"
          ]
        },
        {
          "output_type": "stream",
          "name": "stdout",
          "text": [
            "Epoch 19, Loss: 0.4605541028022766, lr = 0.011005713302078734\n"
          ]
        },
        {
          "output_type": "stream",
          "name": "stderr",
          "text": [
            "GroupNorm with epoch 20: 100%|██████████| 1250/1250 [00:06<00:00, 181.58it/s, Loss=0.555]\n"
          ]
        },
        {
          "output_type": "stream",
          "name": "stdout",
          "text": [
            "Epoch 20, Loss: 0.4551259277105331, lr = 0.010901847717655951\n"
          ]
        },
        {
          "output_type": "stream",
          "name": "stderr",
          "text": [
            "GroupNorm with epoch 21: 100%|██████████| 1250/1250 [00:06<00:00, 180.51it/s, Loss=0.0445]\n"
          ]
        },
        {
          "output_type": "stream",
          "name": "stdout",
          "text": [
            "Epoch 21, Loss: 0.40062346186637876, lr = 0.010793391321160221\n"
          ]
        },
        {
          "output_type": "stream",
          "name": "stderr",
          "text": [
            "GroupNorm with epoch 22: 100%|██████████| 1250/1250 [00:06<00:00, 179.88it/s, Loss=0.331]\n"
          ]
        },
        {
          "output_type": "stream",
          "name": "stdout",
          "text": [
            "Epoch 22, Loss: 0.3694849647521973, lr = 0.01068045114596079\n"
          ]
        },
        {
          "output_type": "stream",
          "name": "stderr",
          "text": [
            "GroupNorm with epoch 23: 100%|██████████| 1250/1250 [00:06<00:00, 181.95it/s, Loss=0.0639]\n"
          ]
        },
        {
          "output_type": "stream",
          "name": "stdout",
          "text": [
            "Epoch 23, Loss: 0.3455381428003311, lr = 0.010563138650375146\n"
          ]
        },
        {
          "output_type": "stream",
          "name": "stderr",
          "text": [
            "GroupNorm with epoch 24: 100%|██████████| 1250/1250 [00:06<00:00, 181.01it/s, Loss=0.0194]\n"
          ]
        },
        {
          "output_type": "stream",
          "name": "stdout",
          "text": [
            "Epoch 24, Loss: 0.30597662732601166, lr = 0.01044156960767312\n"
          ]
        },
        {
          "output_type": "stream",
          "name": "stderr",
          "text": [
            "GroupNorm with epoch 25: 100%|██████████| 1250/1250 [00:06<00:00, 182.34it/s, Loss=0.739]\n"
          ]
        },
        {
          "output_type": "stream",
          "name": "stdout",
          "text": [
            "Epoch 25, Loss: 0.3140998239994049, lr = 0.010315863991822652\n"
          ]
        },
        {
          "output_type": "stream",
          "name": "stderr",
          "text": [
            "GroupNorm with epoch 26: 100%|██████████| 1250/1250 [00:06<00:00, 180.04it/s, Loss=0.886]\n"
          ]
        },
        {
          "output_type": "stream",
          "name": "stdout",
          "text": [
            "Epoch 26, Loss: 0.30743744294643405, lr = 0.010186145859089965\n"
          ]
        },
        {
          "output_type": "stream",
          "name": "stderr",
          "text": [
            "GroupNorm with epoch 27: 100%|██████████| 1250/1250 [00:06<00:00, 179.89it/s, Loss=0.252]\n"
          ]
        },
        {
          "output_type": "stream",
          "name": "stdout",
          "text": [
            "Epoch 27, Loss: 0.2624924168109894, lr = 0.010052543225611003\n"
          ]
        },
        {
          "output_type": "stream",
          "name": "stderr",
          "text": [
            "GroupNorm with epoch 28: 100%|██████████| 1250/1250 [00:06<00:00, 181.55it/s, Loss=0.447]\n"
          ]
        },
        {
          "output_type": "stream",
          "name": "stdout",
          "text": [
            "Epoch 28, Loss: 0.2607101072788239, lr = 0.00991518794105497\n"
          ]
        },
        {
          "output_type": "stream",
          "name": "stderr",
          "text": [
            "GroupNorm with epoch 29: 100%|██████████| 1250/1250 [00:06<00:00, 179.72it/s, Loss=0.0778]\n"
          ]
        },
        {
          "output_type": "stream",
          "name": "stdout",
          "text": [
            "Epoch 29, Loss: 0.22477985830307007, lr = 0.00977421555850462\n"
          ]
        },
        {
          "output_type": "stream",
          "name": "stderr",
          "text": [
            "GroupNorm with epoch 30: 100%|██████████| 1250/1250 [00:06<00:00, 182.08it/s, Loss=0.0364]\n"
          ]
        },
        {
          "output_type": "stream",
          "name": "stdout",
          "text": [
            "Epoch 30, Loss: 0.2202934748649597, lr = 0.009629765200681727\n"
          ]
        },
        {
          "output_type": "stream",
          "name": "stderr",
          "text": [
            "GroupNorm with epoch 31: 100%|██████████| 1250/1250 [00:06<00:00, 180.10it/s, Loss=0.128]\n"
          ]
        },
        {
          "output_type": "stream",
          "name": "stdout",
          "text": [
            "Epoch 31, Loss: 0.22159585468769075, lr = 0.009481979422649757\n"
          ]
        },
        {
          "output_type": "stream",
          "name": "stderr",
          "text": [
            "GroupNorm with epoch 32: 100%|██████████| 1250/1250 [00:06<00:00, 181.19it/s, Loss=0.0594]\n"
          ]
        },
        {
          "output_type": "stream",
          "name": "stdout",
          "text": [
            "Epoch 32, Loss: 0.158605144739151, lr = 0.009331004071129235\n"
          ]
        },
        {
          "output_type": "stream",
          "name": "stderr",
          "text": [
            "GroupNorm with epoch 33: 100%|██████████| 1250/1250 [00:06<00:00, 181.44it/s, Loss=0.172]\n"
          ]
        },
        {
          "output_type": "stream",
          "name": "stdout",
          "text": [
            "Epoch 33, Loss: 0.1888794282913208, lr = 0.00917698814056464\n"
          ]
        },
        {
          "output_type": "stream",
          "name": "stderr",
          "text": [
            "GroupNorm with epoch 34: 100%|██████████| 1250/1250 [00:06<00:00, 180.89it/s, Loss=0.161]\n"
          ]
        },
        {
          "output_type": "stream",
          "name": "stdout",
          "text": [
            "Epoch 34, Loss: 0.15884523169994355, lr = 0.009020083626084868\n"
          ]
        },
        {
          "output_type": "stream",
          "name": "stderr",
          "text": [
            "GroupNorm with epoch 35: 100%|██████████| 1250/1250 [00:06<00:00, 182.67it/s, Loss=0.0152]\n"
          ]
        },
        {
          "output_type": "stream",
          "name": "stdout",
          "text": [
            "Epoch 35, Loss: 0.12939356999397278, lr = 0.008860445373502399\n"
          ]
        },
        {
          "output_type": "stream",
          "name": "stderr",
          "text": [
            "GroupNorm with epoch 36: 100%|██████████| 1250/1250 [00:06<00:00, 181.66it/s, Loss=0.0593]\n"
          ]
        },
        {
          "output_type": "stream",
          "name": "stdout",
          "text": [
            "Epoch 36, Loss: 0.11125310845375061, lr = 0.008698230926499172\n"
          ]
        },
        {
          "output_type": "stream",
          "name": "stderr",
          "text": [
            "GroupNorm with epoch 37: 100%|██████████| 1250/1250 [00:06<00:00, 179.23it/s, Loss=0.187]\n"
          ]
        },
        {
          "output_type": "stream",
          "name": "stdout",
          "text": [
            "Epoch 37, Loss: 0.14023385078907014, lr = 0.008533600371149993\n"
          ]
        },
        {
          "output_type": "stream",
          "name": "stderr",
          "text": [
            "GroupNorm with epoch 38: 100%|██████████| 1250/1250 [00:06<00:00, 181.91it/s, Loss=0.357]\n"
          ]
        },
        {
          "output_type": "stream",
          "name": "stdout",
          "text": [
            "Epoch 38, Loss: 0.15202303709983825, lr = 0.008366716177936905\n"
          ]
        },
        {
          "output_type": "stream",
          "name": "stderr",
          "text": [
            "GroupNorm with epoch 39: 100%|██████████| 1250/1250 [00:06<00:00, 180.17it/s, Loss=0.367]\n"
          ]
        },
        {
          "output_type": "stream",
          "name": "stdout",
          "text": [
            "Epoch 39, Loss: 0.13298720281124116, lr = 0.008197743041410431\n"
          ]
        },
        {
          "output_type": "stream",
          "name": "stderr",
          "text": [
            "GroupNorm with epoch 40: 100%|██████████| 1250/1250 [00:06<00:00, 181.97it/s, Loss=0.0053]\n"
          ]
        },
        {
          "output_type": "stream",
          "name": "stdout",
          "text": [
            "Epoch 40, Loss: 0.10001254303455352, lr = 0.008026847717655952\n"
          ]
        },
        {
          "output_type": "stream",
          "name": "stderr",
          "text": [
            "GroupNorm with epoch 41: 100%|██████████| 1250/1250 [00:06<00:00, 179.81it/s, Loss=0.126]\n"
          ]
        },
        {
          "output_type": "stream",
          "name": "stdout",
          "text": [
            "Epoch 41, Loss: 0.10471073813438415, lr = 0.007854198859725573\n"
          ]
        },
        {
          "output_type": "stream",
          "name": "stderr",
          "text": [
            "GroupNorm with epoch 42: 100%|██████████| 1250/1250 [00:06<00:00, 179.96it/s, Loss=0.0603]\n"
          ]
        },
        {
          "output_type": "stream",
          "name": "stdout",
          "text": [
            "Epoch 42, Loss: 0.09753462235927582, lr = 0.007679966851197918\n"
          ]
        },
        {
          "output_type": "stream",
          "name": "stderr",
          "text": [
            "GroupNorm with epoch 43: 100%|██████████| 1250/1250 [00:06<00:00, 182.53it/s, Loss=0.00703]\n"
          ]
        },
        {
          "output_type": "stream",
          "name": "stdout",
          "text": [
            "Epoch 43, Loss: 0.05391258027553558, lr = 0.007504323638030124\n"
          ]
        },
        {
          "output_type": "stream",
          "name": "stderr",
          "text": [
            "GroupNorm with epoch 44: 100%|██████████| 1250/1250 [00:06<00:00, 180.24it/s, Loss=0.00263]\n"
          ]
        },
        {
          "output_type": "stream",
          "name": "stdout",
          "text": [
            "Epoch 44, Loss: 0.020891167950630188, lr = 0.007327442558867921\n"
          ]
        },
        {
          "output_type": "stream",
          "name": "stderr",
          "text": [
            "GroupNorm with epoch 45: 100%|██████████| 1250/1250 [00:06<00:00, 180.82it/s, Loss=0.00875]\n"
          ]
        },
        {
          "output_type": "stream",
          "name": "stdout",
          "text": [
            "Epoch 45, Loss: 0.005858797359466553, lr = 0.00714949817398133\n"
          ]
        },
        {
          "output_type": "stream",
          "name": "stderr",
          "text": [
            "GroupNorm with epoch 46: 100%|██████████| 1250/1250 [00:07<00:00, 178.39it/s, Loss=0.00193]\n"
          ]
        },
        {
          "output_type": "stream",
          "name": "stdout",
          "text": [
            "Epoch 46, Loss: 0.0032565133333206176, lr = 0.006970666092994753\n"
          ]
        },
        {
          "output_type": "stream",
          "name": "stderr",
          "text": [
            "GroupNorm with epoch 47: 100%|██████████| 1250/1250 [00:07<00:00, 174.16it/s, Loss=0.0146]\n"
          ]
        },
        {
          "output_type": "stream",
          "name": "stdout",
          "text": [
            "Epoch 47, Loss: 0.0029840807914733886, lr = 0.006791122801581459\n"
          ]
        },
        {
          "output_type": "stream",
          "name": "stderr",
          "text": [
            "GroupNorm with epoch 48: 100%|██████████| 1250/1250 [00:06<00:00, 180.66it/s, Loss=0.0024]\n"
          ]
        },
        {
          "output_type": "stream",
          "name": "stdout",
          "text": [
            "Epoch 48, Loss: 0.003177023720741272, lr = 0.006611045487293554\n"
          ]
        },
        {
          "output_type": "stream",
          "name": "stderr",
          "text": [
            "GroupNorm with epoch 49: 100%|██████████| 1250/1250 [00:06<00:00, 180.73it/s, Loss=0.00218]\n"
          ]
        },
        {
          "output_type": "stream",
          "name": "stdout",
          "text": [
            "Epoch 49, Loss: 0.0034950519323348997, lr = 0.006430611864699239\n"
          ]
        },
        {
          "output_type": "stream",
          "name": "stderr",
          "text": [
            "GroupNorm with epoch 50: 100%|██████████| 1250/1250 [00:06<00:00, 180.48it/s, Loss=0.00487]\n"
          ]
        },
        {
          "output_type": "stream",
          "name": "stdout",
          "text": [
            "Epoch 50, Loss: 0.003837546396255493, lr = 0.00625\n"
          ]
        },
        {
          "output_type": "stream",
          "name": "stderr",
          "text": [
            "GroupNorm with epoch 51: 100%|██████████| 1250/1250 [00:06<00:00, 180.75it/s, Loss=0.00106]\n"
          ]
        },
        {
          "output_type": "stream",
          "name": "stdout",
          "text": [
            "Epoch 51, Loss: 0.004132762861251831, lr = 0.006069388135300762\n"
          ]
        },
        {
          "output_type": "stream",
          "name": "stderr",
          "text": [
            "GroupNorm with epoch 52: 100%|██████████| 1250/1250 [00:06<00:00, 179.45it/s, Loss=0.0106]\n"
          ]
        },
        {
          "output_type": "stream",
          "name": "stdout",
          "text": [
            "Epoch 52, Loss: 0.0044708114385604856, lr = 0.005888954512706447\n"
          ]
        },
        {
          "output_type": "stream",
          "name": "stderr",
          "text": [
            "GroupNorm with epoch 53: 100%|██████████| 1250/1250 [00:06<00:00, 182.41it/s, Loss=0.00187]\n"
          ]
        },
        {
          "output_type": "stream",
          "name": "stdout",
          "text": [
            "Epoch 53, Loss: 0.004731844997406006, lr = 0.005708877198418541\n"
          ]
        },
        {
          "output_type": "stream",
          "name": "stderr",
          "text": [
            "GroupNorm with epoch 54: 100%|██████████| 1250/1250 [00:06<00:00, 178.68it/s, Loss=0.00599]\n"
          ]
        },
        {
          "output_type": "stream",
          "name": "stdout",
          "text": [
            "Epoch 54, Loss: 0.005014626598358154, lr = 0.0055293339070052495\n"
          ]
        },
        {
          "output_type": "stream",
          "name": "stderr",
          "text": [
            "GroupNorm with epoch 55: 100%|██████████| 1250/1250 [00:07<00:00, 178.21it/s, Loss=0.00693]\n"
          ]
        },
        {
          "output_type": "stream",
          "name": "stdout",
          "text": [
            "Epoch 55, Loss: 0.005209512639045715, lr = 0.005350501826018671\n"
          ]
        },
        {
          "output_type": "stream",
          "name": "stderr",
          "text": [
            "GroupNorm with epoch 56: 100%|██████████| 1250/1250 [00:07<00:00, 177.63it/s, Loss=0.00263]\n"
          ]
        },
        {
          "output_type": "stream",
          "name": "stdout",
          "text": [
            "Epoch 56, Loss: 0.005421422910690307, lr = 0.005172557441132082\n"
          ]
        },
        {
          "output_type": "stream",
          "name": "stderr",
          "text": [
            "GroupNorm with epoch 57: 100%|██████████| 1250/1250 [00:07<00:00, 176.66it/s, Loss=0.00297]\n"
          ]
        },
        {
          "output_type": "stream",
          "name": "stdout",
          "text": [
            "Epoch 57, Loss: 0.005507669520378113, lr = 0.00499567636196988\n"
          ]
        },
        {
          "output_type": "stream",
          "name": "stderr",
          "text": [
            "GroupNorm with epoch 58: 100%|██████████| 1250/1250 [00:06<00:00, 181.54it/s, Loss=0.00805]\n"
          ]
        },
        {
          "output_type": "stream",
          "name": "stdout",
          "text": [
            "Epoch 58, Loss: 0.005639838910102844, lr = 0.004820033148802083\n"
          ]
        },
        {
          "output_type": "stream",
          "name": "stderr",
          "text": [
            "GroupNorm with epoch 59: 100%|██████████| 1250/1250 [00:06<00:00, 180.31it/s, Loss=0.00728]\n"
          ]
        },
        {
          "output_type": "stream",
          "name": "stdout",
          "text": [
            "Epoch 59, Loss: 0.005814883327484131, lr = 0.004645801140274431\n"
          ]
        },
        {
          "output_type": "stream",
          "name": "stderr",
          "text": [
            "GroupNorm with epoch 60: 100%|██████████| 1250/1250 [00:06<00:00, 181.11it/s, Loss=0.00571]\n"
          ]
        },
        {
          "output_type": "stream",
          "name": "stdout",
          "text": [
            "Epoch 60, Loss: 0.005869476222991944, lr = 0.004473152282344052\n"
          ]
        },
        {
          "output_type": "stream",
          "name": "stderr",
          "text": [
            "GroupNorm with epoch 61: 100%|██████████| 1250/1250 [00:06<00:00, 180.36it/s, Loss=0.00958]\n"
          ]
        },
        {
          "output_type": "stream",
          "name": "stdout",
          "text": [
            "Epoch 61, Loss: 0.005899147891998291, lr = 0.004302256958589572\n"
          ]
        },
        {
          "output_type": "stream",
          "name": "stderr",
          "text": [
            "GroupNorm with epoch 62: 100%|██████████| 1250/1250 [00:06<00:00, 178.80it/s, Loss=0.0084]\n"
          ]
        },
        {
          "output_type": "stream",
          "name": "stdout",
          "text": [
            "Epoch 62, Loss: 0.005939787435531616, lr = 0.004133283822063101\n"
          ]
        },
        {
          "output_type": "stream",
          "name": "stderr",
          "text": [
            "GroupNorm with epoch 63: 100%|██████████| 1250/1250 [00:06<00:00, 181.47it/s, Loss=0.0112]\n"
          ]
        },
        {
          "output_type": "stream",
          "name": "stdout",
          "text": [
            "Epoch 63, Loss: 0.005983859372138977, lr = 0.003966399628850009\n"
          ]
        },
        {
          "output_type": "stream",
          "name": "stderr",
          "text": [
            "GroupNorm with epoch 64: 100%|██████████| 1250/1250 [00:06<00:00, 179.33it/s, Loss=0.00352]\n"
          ]
        },
        {
          "output_type": "stream",
          "name": "stdout",
          "text": [
            "Epoch 64, Loss: 0.006005379366874695, lr = 0.0038017690735008304\n"
          ]
        },
        {
          "output_type": "stream",
          "name": "stderr",
          "text": [
            "GroupNorm with epoch 65: 100%|██████████| 1250/1250 [00:06<00:00, 179.94it/s, Loss=0.00266]\n"
          ]
        },
        {
          "output_type": "stream",
          "name": "stdout",
          "text": [
            "Epoch 65, Loss: 0.00600314211845398, lr = 0.0036395546264976044\n"
          ]
        },
        {
          "output_type": "stream",
          "name": "stderr",
          "text": [
            "GroupNorm with epoch 66: 100%|██████████| 1250/1250 [00:06<00:00, 179.90it/s, Loss=0.00317]\n"
          ]
        },
        {
          "output_type": "stream",
          "name": "stdout",
          "text": [
            "Epoch 66, Loss: 0.005931880450248718, lr = 0.0034799163739151345\n"
          ]
        },
        {
          "output_type": "stream",
          "name": "stderr",
          "text": [
            "GroupNorm with epoch 67: 100%|██████████| 1250/1250 [00:07<00:00, 172.89it/s, Loss=0.00267]\n"
          ]
        },
        {
          "output_type": "stream",
          "name": "stdout",
          "text": [
            "Epoch 67, Loss: 0.005929093217849731, lr = 0.0033230118594353634\n"
          ]
        },
        {
          "output_type": "stream",
          "name": "stderr",
          "text": [
            "GroupNorm with epoch 68: 100%|██████████| 1250/1250 [00:06<00:00, 180.80it/s, Loss=0.00245]\n"
          ]
        },
        {
          "output_type": "stream",
          "name": "stdout",
          "text": [
            "Epoch 68, Loss: 0.005965779423713684, lr = 0.0031689959288707667\n"
          ]
        },
        {
          "output_type": "stream",
          "name": "stderr",
          "text": [
            "GroupNorm with epoch 69: 100%|██████████| 1250/1250 [00:07<00:00, 176.72it/s, Loss=0.0089]\n"
          ]
        },
        {
          "output_type": "stream",
          "name": "stdout",
          "text": [
            "Epoch 69, Loss: 0.0059541412353515625, lr = 0.0030180205773502476\n"
          ]
        },
        {
          "output_type": "stream",
          "name": "stderr",
          "text": [
            "GroupNorm with epoch 70: 100%|██████████| 1250/1250 [00:06<00:00, 181.95it/s, Loss=0.0113]\n"
          ]
        },
        {
          "output_type": "stream",
          "name": "stdout",
          "text": [
            "Epoch 70, Loss: 0.005893960881233215, lr = 0.0028702347993182793\n"
          ]
        },
        {
          "output_type": "stream",
          "name": "stderr",
          "text": [
            "GroupNorm with epoch 71: 100%|██████████| 1250/1250 [00:06<00:00, 180.37it/s, Loss=0.0124]\n"
          ]
        },
        {
          "output_type": "stream",
          "name": "stdout",
          "text": [
            "Epoch 71, Loss: 0.005914266848564148, lr = 0.002725784441495384\n"
          ]
        },
        {
          "output_type": "stream",
          "name": "stderr",
          "text": [
            "GroupNorm with epoch 72: 100%|██████████| 1250/1250 [00:07<00:00, 178.42it/s, Loss=0.00123]\n"
          ]
        },
        {
          "output_type": "stream",
          "name": "stdout",
          "text": [
            "Epoch 72, Loss: 0.005860624098777771, lr = 0.0025848120589450334\n"
          ]
        },
        {
          "output_type": "stream",
          "name": "stderr",
          "text": [
            "GroupNorm with epoch 73: 100%|██████████| 1250/1250 [00:06<00:00, 179.30it/s, Loss=0.00971]\n"
          ]
        },
        {
          "output_type": "stream",
          "name": "stdout",
          "text": [
            "Epoch 73, Loss: 0.0058044089794158935, lr = 0.0024474567743890023\n"
          ]
        },
        {
          "output_type": "stream",
          "name": "stderr",
          "text": [
            "GroupNorm with epoch 74: 100%|██████████| 1250/1250 [00:07<00:00, 176.64it/s, Loss=0.00392]\n"
          ]
        },
        {
          "output_type": "stream",
          "name": "stdout",
          "text": [
            "Epoch 74, Loss: 0.005777691149711609, lr = 0.0023138541409100395\n"
          ]
        },
        {
          "output_type": "stream",
          "name": "stderr",
          "text": [
            "GroupNorm with epoch 75: 100%|██████████| 1250/1250 [00:07<00:00, 178.45it/s, Loss=0.0052]\n"
          ]
        },
        {
          "output_type": "stream",
          "name": "stdout",
          "text": [
            "Epoch 75, Loss: 0.005795958781242371, lr = 0.0021841360081773517\n"
          ]
        },
        {
          "output_type": "stream",
          "name": "stderr",
          "text": [
            "GroupNorm with epoch 76: 100%|██████████| 1250/1250 [00:06<00:00, 179.66it/s, Loss=0.00315]\n"
          ]
        },
        {
          "output_type": "stream",
          "name": "stdout",
          "text": [
            "Epoch 76, Loss: 0.0057230888843536375, lr = 0.0020584303923268845\n"
          ]
        },
        {
          "output_type": "stream",
          "name": "stderr",
          "text": [
            "GroupNorm with epoch 77: 100%|██████████| 1250/1250 [00:07<00:00, 177.14it/s, Loss=0.00244]\n"
          ]
        },
        {
          "output_type": "stream",
          "name": "stdout",
          "text": [
            "Epoch 77, Loss: 0.005725246882438659, lr = 0.0019368613496248569\n"
          ]
        },
        {
          "output_type": "stream",
          "name": "stderr",
          "text": [
            "GroupNorm with epoch 78: 100%|██████████| 1250/1250 [00:06<00:00, 179.91it/s, Loss=0.00991]\n"
          ]
        },
        {
          "output_type": "stream",
          "name": "stdout",
          "text": [
            "Epoch 78, Loss: 0.005663254451751709, lr = 0.001819548854039212\n"
          ]
        },
        {
          "output_type": "stream",
          "name": "stderr",
          "text": [
            "GroupNorm with epoch 79: 100%|██████████| 1250/1250 [00:07<00:00, 177.38it/s, Loss=0.0018]\n"
          ]
        },
        {
          "output_type": "stream",
          "name": "stdout",
          "text": [
            "Epoch 79, Loss: 0.005639146184921264, lr = 0.0017066086788397798\n"
          ]
        },
        {
          "output_type": "stream",
          "name": "stderr",
          "text": [
            "GroupNorm with epoch 80: 100%|██████████| 1250/1250 [00:07<00:00, 178.39it/s, Loss=0.0046]\n"
          ]
        },
        {
          "output_type": "stream",
          "name": "stdout",
          "text": [
            "Epoch 80, Loss: 0.0056079236268997195, lr = 0.0015981522823440525\n"
          ]
        },
        {
          "output_type": "stream",
          "name": "stderr",
          "text": [
            "GroupNorm with epoch 81: 100%|██████████| 1250/1250 [00:07<00:00, 175.63it/s, Loss=0.00536]\n"
          ]
        },
        {
          "output_type": "stream",
          "name": "stdout",
          "text": [
            "Epoch 81, Loss: 0.005632312250137329, lr = 0.0014942866979212699\n"
          ]
        },
        {
          "output_type": "stream",
          "name": "stderr",
          "text": [
            "GroupNorm with epoch 82: 100%|██████████| 1250/1250 [00:06<00:00, 179.24it/s, Loss=0.00314]\n"
          ]
        },
        {
          "output_type": "stream",
          "name": "stdout",
          "text": [
            "Epoch 82, Loss: 0.005579828357696533, lr = 0.0013951144283634144\n"
          ]
        },
        {
          "output_type": "stream",
          "name": "stderr",
          "text": [
            "GroupNorm with epoch 83: 100%|██████████| 1250/1250 [00:06<00:00, 182.80it/s, Loss=0.01]\n"
          ]
        },
        {
          "output_type": "stream",
          "name": "stdout",
          "text": [
            "Epoch 83, Loss: 0.005558775782585144, lr = 0.0013007333447273232\n"
          ]
        },
        {
          "output_type": "stream",
          "name": "stderr",
          "text": [
            "GroupNorm with epoch 84: 100%|██████████| 1250/1250 [00:06<00:00, 178.68it/s, Loss=0.0106]\n"
          ]
        },
        {
          "output_type": "stream",
          "name": "stdout",
          "text": [
            "Epoch 84, Loss: 0.005524207091331482, lr = 0.0012112365897477841\n"
          ]
        },
        {
          "output_type": "stream",
          "name": "stderr",
          "text": [
            "GroupNorm with epoch 85: 100%|██████████| 1250/1250 [00:06<00:00, 179.84it/s, Loss=0.00586]\n"
          ]
        },
        {
          "output_type": "stream",
          "name": "stdout",
          "text": [
            "Epoch 85, Loss: 0.005495707821846009, lr = 0.001126712485916885\n"
          ]
        },
        {
          "output_type": "stream",
          "name": "stderr",
          "text": [
            "GroupNorm with epoch 86: 100%|██████████| 1250/1250 [00:06<00:00, 180.67it/s, Loss=0.00494]\n"
          ]
        },
        {
          "output_type": "stream",
          "name": "stdout",
          "text": [
            "Epoch 86, Loss: 0.005480403232574463, lr = 0.0010472444483203885\n"
          ]
        },
        {
          "output_type": "stream",
          "name": "stderr",
          "text": [
            "GroupNorm with epoch 87: 100%|██████████| 1250/1250 [00:06<00:00, 179.34it/s, Loss=0.00385]\n"
          ]
        },
        {
          "output_type": "stream",
          "name": "stdout",
          "text": [
            "Epoch 87, Loss: 0.005452656722068787, lr = 0.0009729109023171096\n"
          ]
        },
        {
          "output_type": "stream",
          "name": "stderr",
          "text": [
            "GroupNorm with epoch 88: 100%|██████████| 1250/1250 [00:06<00:00, 180.08it/s, Loss=0.00638]\n"
          ]
        },
        {
          "output_type": "stream",
          "name": "stdout",
          "text": [
            "Epoch 88, Loss: 0.005448278856277466, lr = 0.0009037852061425547\n"
          ]
        },
        {
          "output_type": "stream",
          "name": "stderr",
          "text": [
            "GroupNorm with epoch 89: 100%|██████████| 1250/1250 [00:07<00:00, 178.52it/s, Loss=0.00286]\n"
          ]
        },
        {
          "output_type": "stream",
          "name": "stdout",
          "text": [
            "Epoch 89, Loss: 0.005437106394767762, lr = 0.0008399355785132036\n"
          ]
        },
        {
          "output_type": "stream",
          "name": "stderr",
          "text": [
            "GroupNorm with epoch 90: 100%|██████████| 1250/1250 [00:07<00:00, 175.95it/s, Loss=0.0135]\n"
          ]
        },
        {
          "output_type": "stream",
          "name": "stdout",
          "text": [
            "Epoch 90, Loss: 0.005406025910377503, lr = 0.0007814250313028671\n"
          ]
        },
        {
          "output_type": "stream",
          "name": "stderr",
          "text": [
            "GroupNorm with epoch 91: 100%|██████████| 1250/1250 [00:07<00:00, 172.29it/s, Loss=0.00123]\n"
          ]
        },
        {
          "output_type": "stream",
          "name": "stdout",
          "text": [
            "Epoch 91, Loss: 0.005389536809921265, lr = 0.0007283113073575779\n"
          ]
        },
        {
          "output_type": "stream",
          "name": "stderr",
          "text": [
            "GroupNorm with epoch 92: 100%|██████████| 1250/1250 [00:07<00:00, 172.20it/s, Loss=0.00594]\n"
          ]
        },
        {
          "output_type": "stream",
          "name": "stdout",
          "text": [
            "Epoch 92, Loss: 0.0053825813293457035, lr = 0.0006806468235103719\n"
          ]
        },
        {
          "output_type": "stream",
          "name": "stderr",
          "text": [
            "GroupNorm with epoch 93: 100%|██████████| 1250/1250 [00:06<00:00, 178.91it/s, Loss=0.00397]\n"
          ]
        },
        {
          "output_type": "stream",
          "name": "stdout",
          "text": [
            "Epoch 93, Loss: 0.005362619113922119, lr = 0.0006384786188522028\n"
          ]
        },
        {
          "output_type": "stream",
          "name": "stderr",
          "text": [
            "GroupNorm with epoch 94: 100%|██████████| 1250/1250 [00:07<00:00, 176.27it/s, Loss=0.00525]\n"
          ]
        },
        {
          "output_type": "stream",
          "name": "stdout",
          "text": [
            "Epoch 94, Loss: 0.005349015545845032, lr = 0.0006018483083100398\n"
          ]
        },
        {
          "output_type": "stream",
          "name": "stderr",
          "text": [
            "GroupNorm with epoch 95: 100%|██████████| 1250/1250 [00:07<00:00, 175.60it/s, Loss=0.00281]\n"
          ]
        },
        {
          "output_type": "stream",
          "name": "stdout",
          "text": [
            "Epoch 95, Loss: 0.0053439199924469, lr = 0.0005707920415779584\n"
          ]
        },
        {
          "output_type": "stream",
          "name": "stderr",
          "text": [
            "GroupNorm with epoch 96: 100%|██████████| 1250/1250 [00:06<00:00, 178.76it/s, Loss=0.00614]\n"
          ]
        },
        {
          "output_type": "stream",
          "name": "stdout",
          "text": [
            "Epoch 96, Loss: 0.005337261581420899, lr = 0.0005453404674417528\n"
          ]
        },
        {
          "output_type": "stream",
          "name": "stderr",
          "text": [
            "GroupNorm with epoch 97: 100%|██████████| 1250/1250 [00:07<00:00, 175.46it/s, Loss=0.00636]\n"
          ]
        },
        {
          "output_type": "stream",
          "name": "stdout",
          "text": [
            "Epoch 97, Loss: 0.005328595900535584, lr = 0.00052551870353229\n"
          ]
        },
        {
          "output_type": "stream",
          "name": "stderr",
          "text": [
            "GroupNorm with epoch 98: 100%|██████████| 1250/1250 [00:07<00:00, 176.93it/s, Loss=0.00679]\n"
          ]
        },
        {
          "output_type": "stream",
          "name": "stdout",
          "text": [
            "Epoch 98, Loss: 0.005333526372909546, lr = 0.0005113463115374385\n"
          ]
        },
        {
          "output_type": "stream",
          "name": "stderr",
          "text": [
            "GroupNorm with epoch 99: 100%|██████████| 1250/1250 [00:07<00:00, 177.93it/s, Loss=0.00764]\n"
          ]
        },
        {
          "output_type": "stream",
          "name": "stdout",
          "text": [
            "Epoch 99, Loss: 0.005323978638648987, lr = 0.0005028372778970433\n"
          ]
        },
        {
          "output_type": "stream",
          "name": "stderr",
          "text": [
            "GroupNorm with epoch 100: 100%|██████████| 1250/1250 [00:07<00:00, 178.43it/s, Loss=0.00399]"
          ]
        },
        {
          "output_type": "stream",
          "name": "stdout",
          "text": [
            "Epoch 100, Loss: 0.005333598160743714, lr = 0.0005\n"
          ]
        },
        {
          "output_type": "stream",
          "name": "stderr",
          "text": [
            "\n"
          ]
        },
        {
          "output_type": "stream",
          "name": "stdout",
          "text": [
            "Norm : BatchNorm, Batch Size: 4, Top1 Accuracy: 56.67%\n",
            "Norm : GroupNorm, Batch Size: 4, Top1 Accuracy: 59.33%\n",
            "ㅡㅡㅡㅡㅡㅡㅡㅡㅡㅡㅡㅡbatch_size: 4ㅡㅡㅡㅡㅡㅡㅡㅡㅡㅡㅡㅡㅡ\n",
            "\n",
            "ㅡㅡㅡㅡㅡㅡㅡㅡㅡㅡㅡㅡbatch_size: 8ㅡㅡㅡㅡㅡㅡㅡㅡㅡㅡㅡㅡㅡ\n"
          ]
        },
        {
          "output_type": "stream",
          "name": "stderr",
          "text": [
            "BatchNorm with epoch 1: 100%|██████████| 625/625 [00:03<00:00, 163.89it/s, Loss=1.42]\n"
          ]
        },
        {
          "output_type": "stream",
          "name": "stdout",
          "text": [
            "Epoch 1, Loss: 2.044144140625, lr = 0.011997162722102958\n"
          ]
        },
        {
          "output_type": "stream",
          "name": "stderr",
          "text": [
            "BatchNorm with epoch 2: 100%|██████████| 625/625 [00:03<00:00, 166.89it/s, Loss=1.02]\n"
          ]
        },
        {
          "output_type": "stream",
          "name": "stdout",
          "text": [
            "Epoch 2, Loss: 1.554153631591797, lr = 0.011988653688462563\n"
          ]
        },
        {
          "output_type": "stream",
          "name": "stderr",
          "text": [
            "BatchNorm with epoch 3: 100%|██████████| 625/625 [00:03<00:00, 161.47it/s, Loss=1.33]\n"
          ]
        },
        {
          "output_type": "stream",
          "name": "stdout",
          "text": [
            "Epoch 3, Loss: 1.386310971069336, lr = 0.011974481296467712\n"
          ]
        },
        {
          "output_type": "stream",
          "name": "stderr",
          "text": [
            "BatchNorm with epoch 4: 100%|██████████| 625/625 [00:03<00:00, 165.50it/s, Loss=1.29]\n"
          ]
        },
        {
          "output_type": "stream",
          "name": "stdout",
          "text": [
            "Epoch 4, Loss: 1.2614740020751953, lr = 0.01195465953255825\n"
          ]
        },
        {
          "output_type": "stream",
          "name": "stderr",
          "text": [
            "BatchNorm with epoch 5: 100%|██████████| 625/625 [00:03<00:00, 167.00it/s, Loss=1.08]\n"
          ]
        },
        {
          "output_type": "stream",
          "name": "stdout",
          "text": [
            "Epoch 5, Loss: 1.1807357254028321, lr = 0.011929207958422044\n"
          ]
        },
        {
          "output_type": "stream",
          "name": "stderr",
          "text": [
            "BatchNorm with epoch 6: 100%|██████████| 625/625 [00:03<00:00, 162.48it/s, Loss=2.16]\n"
          ]
        },
        {
          "output_type": "stream",
          "name": "stdout",
          "text": [
            "Epoch 6, Loss: 1.0626250445365906, lr = 0.011898151691689963\n"
          ]
        },
        {
          "output_type": "stream",
          "name": "stderr",
          "text": [
            "BatchNorm with epoch 7: 100%|██████████| 625/625 [00:03<00:00, 166.21it/s, Loss=1.26]\n"
          ]
        },
        {
          "output_type": "stream",
          "name": "stdout",
          "text": [
            "Epoch 7, Loss: 0.9825906000137329, lr = 0.0118615213811478\n"
          ]
        },
        {
          "output_type": "stream",
          "name": "stderr",
          "text": [
            "BatchNorm with epoch 8: 100%|██████████| 625/625 [00:03<00:00, 168.00it/s, Loss=1.07]\n"
          ]
        },
        {
          "output_type": "stream",
          "name": "stdout",
          "text": [
            "Epoch 8, Loss: 0.8850126191139221, lr = 0.011819353176489631\n"
          ]
        },
        {
          "output_type": "stream",
          "name": "stderr",
          "text": [
            "BatchNorm with epoch 9: 100%|██████████| 625/625 [00:03<00:00, 163.76it/s, Loss=1.14]\n"
          ]
        },
        {
          "output_type": "stream",
          "name": "stdout",
          "text": [
            "Epoch 9, Loss: 0.8096728645801544, lr = 0.011771688692642425\n"
          ]
        },
        {
          "output_type": "stream",
          "name": "stderr",
          "text": [
            "BatchNorm with epoch 10: 100%|██████████| 625/625 [00:03<00:00, 165.86it/s, Loss=1.86]\n"
          ]
        },
        {
          "output_type": "stream",
          "name": "stdout",
          "text": [
            "Epoch 10, Loss: 0.7374891964435577, lr = 0.011718574968697135\n"
          ]
        },
        {
          "output_type": "stream",
          "name": "stderr",
          "text": [
            "BatchNorm with epoch 11: 100%|██████████| 625/625 [00:03<00:00, 165.74it/s, Loss=0.395]\n"
          ]
        },
        {
          "output_type": "stream",
          "name": "stdout",
          "text": [
            "Epoch 11, Loss: 0.6696918453931808, lr = 0.0116600644214868\n"
          ]
        },
        {
          "output_type": "stream",
          "name": "stderr",
          "text": [
            "BatchNorm with epoch 12: 100%|██████████| 625/625 [00:03<00:00, 161.13it/s, Loss=0.371]\n"
          ]
        },
        {
          "output_type": "stream",
          "name": "stdout",
          "text": [
            "Epoch 12, Loss: 0.6101430206298828, lr = 0.011596214793857449\n"
          ]
        },
        {
          "output_type": "stream",
          "name": "stderr",
          "text": [
            "BatchNorm with epoch 13: 100%|██████████| 625/625 [00:03<00:00, 164.55it/s, Loss=0.928]\n"
          ]
        },
        {
          "output_type": "stream",
          "name": "stdout",
          "text": [
            "Epoch 13, Loss: 0.5472761823892593, lr = 0.011527089097682894\n"
          ]
        },
        {
          "output_type": "stream",
          "name": "stderr",
          "text": [
            "BatchNorm with epoch 14: 100%|██████████| 625/625 [00:03<00:00, 167.13it/s, Loss=0.534]\n"
          ]
        },
        {
          "output_type": "stream",
          "name": "stdout",
          "text": [
            "Epoch 14, Loss: 0.4980097804546356, lr = 0.011452755551679615\n"
          ]
        },
        {
          "output_type": "stream",
          "name": "stderr",
          "text": [
            "BatchNorm with epoch 15: 100%|██████████| 625/625 [00:03<00:00, 162.14it/s, Loss=0.608]\n"
          ]
        },
        {
          "output_type": "stream",
          "name": "stdout",
          "text": [
            "Epoch 15, Loss: 0.4467348241329193, lr = 0.011373287514083117\n"
          ]
        },
        {
          "output_type": "stream",
          "name": "stderr",
          "text": [
            "BatchNorm with epoch 16: 100%|██████████| 625/625 [00:03<00:00, 165.31it/s, Loss=0.173]\n"
          ]
        },
        {
          "output_type": "stream",
          "name": "stdout",
          "text": [
            "Epoch 16, Loss: 0.4069622455835342, lr = 0.011288763410252218\n"
          ]
        },
        {
          "output_type": "stream",
          "name": "stderr",
          "text": [
            "BatchNorm with epoch 17: 100%|██████████| 625/625 [00:03<00:00, 166.73it/s, Loss=0.111]\n"
          ]
        },
        {
          "output_type": "stream",
          "name": "stdout",
          "text": [
            "Epoch 17, Loss: 0.3496096260547638, lr = 0.01119926665527268\n"
          ]
        },
        {
          "output_type": "stream",
          "name": "stderr",
          "text": [
            "BatchNorm with epoch 18: 100%|██████████| 625/625 [00:03<00:00, 163.56it/s, Loss=0.592]\n"
          ]
        },
        {
          "output_type": "stream",
          "name": "stdout",
          "text": [
            "Epoch 18, Loss: 0.32245322000980375, lr = 0.01110488557163659\n"
          ]
        },
        {
          "output_type": "stream",
          "name": "stderr",
          "text": [
            "BatchNorm with epoch 19: 100%|██████████| 625/625 [00:03<00:00, 163.97it/s, Loss=0.212]\n"
          ]
        },
        {
          "output_type": "stream",
          "name": "stdout",
          "text": [
            "Epoch 19, Loss: 0.2918863169908524, lr = 0.011005713302078734\n"
          ]
        },
        {
          "output_type": "stream",
          "name": "stderr",
          "text": [
            "BatchNorm with epoch 20: 100%|██████████| 625/625 [00:03<00:00, 165.27it/s, Loss=0.272]\n"
          ]
        },
        {
          "output_type": "stream",
          "name": "stdout",
          "text": [
            "Epoch 20, Loss: 0.25495592153072355, lr = 0.010901847717655951\n"
          ]
        },
        {
          "output_type": "stream",
          "name": "stderr",
          "text": [
            "BatchNorm with epoch 21: 100%|██████████| 625/625 [00:03<00:00, 161.13it/s, Loss=0.333]\n"
          ]
        },
        {
          "output_type": "stream",
          "name": "stdout",
          "text": [
            "Epoch 21, Loss: 0.24732529520988464, lr = 0.010793391321160221\n"
          ]
        },
        {
          "output_type": "stream",
          "name": "stderr",
          "text": [
            "BatchNorm with epoch 22: 100%|██████████| 625/625 [00:03<00:00, 163.31it/s, Loss=0.342]\n"
          ]
        },
        {
          "output_type": "stream",
          "name": "stdout",
          "text": [
            "Epoch 22, Loss: 0.22452147221565247, lr = 0.01068045114596079\n"
          ]
        },
        {
          "output_type": "stream",
          "name": "stderr",
          "text": [
            "BatchNorm with epoch 23: 100%|██████████| 625/625 [00:03<00:00, 166.88it/s, Loss=0.0421]\n"
          ]
        },
        {
          "output_type": "stream",
          "name": "stdout",
          "text": [
            "Epoch 23, Loss: 0.16556255950927734, lr = 0.010563138650375146\n"
          ]
        },
        {
          "output_type": "stream",
          "name": "stderr",
          "text": [
            "BatchNorm with epoch 24: 100%|██████████| 625/625 [00:03<00:00, 162.88it/s, Loss=0.0111]\n"
          ]
        },
        {
          "output_type": "stream",
          "name": "stdout",
          "text": [
            "Epoch 24, Loss: 0.2095599262714386, lr = 0.01044156960767312\n"
          ]
        },
        {
          "output_type": "stream",
          "name": "stderr",
          "text": [
            "BatchNorm with epoch 25: 100%|██████████| 625/625 [00:03<00:00, 163.66it/s, Loss=0.0552]\n"
          ]
        },
        {
          "output_type": "stream",
          "name": "stdout",
          "text": [
            "Epoch 25, Loss: 0.17241046054363252, lr = 0.010315863991822652\n"
          ]
        },
        {
          "output_type": "stream",
          "name": "stderr",
          "text": [
            "BatchNorm with epoch 26: 100%|██████████| 625/625 [00:03<00:00, 162.40it/s, Loss=0.105]\n"
          ]
        },
        {
          "output_type": "stream",
          "name": "stdout",
          "text": [
            "Epoch 26, Loss: 0.13841122179031373, lr = 0.010186145859089965\n"
          ]
        },
        {
          "output_type": "stream",
          "name": "stderr",
          "text": [
            "BatchNorm with epoch 27: 100%|██████████| 625/625 [00:03<00:00, 159.95it/s, Loss=0.209]\n"
          ]
        },
        {
          "output_type": "stream",
          "name": "stdout",
          "text": [
            "Epoch 27, Loss: 0.13594914598464966, lr = 0.010052543225611003\n"
          ]
        },
        {
          "output_type": "stream",
          "name": "stderr",
          "text": [
            "BatchNorm with epoch 28: 100%|██████████| 625/625 [00:03<00:00, 164.14it/s, Loss=0.155]\n"
          ]
        },
        {
          "output_type": "stream",
          "name": "stdout",
          "text": [
            "Epoch 28, Loss: 0.12275560858249664, lr = 0.00991518794105497\n"
          ]
        },
        {
          "output_type": "stream",
          "name": "stderr",
          "text": [
            "BatchNorm with epoch 29: 100%|██████████| 625/625 [00:03<00:00, 167.11it/s, Loss=0.314]\n"
          ]
        },
        {
          "output_type": "stream",
          "name": "stdout",
          "text": [
            "Epoch 29, Loss: 0.1259731437444687, lr = 0.00977421555850462\n"
          ]
        },
        {
          "output_type": "stream",
          "name": "stderr",
          "text": [
            "BatchNorm with epoch 30: 100%|██████████| 625/625 [00:03<00:00, 163.57it/s, Loss=0.552]\n"
          ]
        },
        {
          "output_type": "stream",
          "name": "stdout",
          "text": [
            "Epoch 30, Loss: 0.12177970252037049, lr = 0.009629765200681727\n"
          ]
        },
        {
          "output_type": "stream",
          "name": "stderr",
          "text": [
            "BatchNorm with epoch 31: 100%|██████████| 625/625 [00:03<00:00, 164.61it/s, Loss=0.203]\n"
          ]
        },
        {
          "output_type": "stream",
          "name": "stdout",
          "text": [
            "Epoch 31, Loss: 0.10353388752937318, lr = 0.009481979422649757\n"
          ]
        },
        {
          "output_type": "stream",
          "name": "stderr",
          "text": [
            "BatchNorm with epoch 32: 100%|██████████| 625/625 [00:03<00:00, 166.37it/s, Loss=0.046]\n"
          ]
        },
        {
          "output_type": "stream",
          "name": "stdout",
          "text": [
            "Epoch 32, Loss: 0.07231266062259674, lr = 0.009331004071129235\n"
          ]
        },
        {
          "output_type": "stream",
          "name": "stderr",
          "text": [
            "BatchNorm with epoch 33: 100%|██████████| 625/625 [00:03<00:00, 162.54it/s, Loss=0.0244]\n"
          ]
        },
        {
          "output_type": "stream",
          "name": "stdout",
          "text": [
            "Epoch 33, Loss: 0.05655618054866791, lr = 0.00917698814056464\n"
          ]
        },
        {
          "output_type": "stream",
          "name": "stderr",
          "text": [
            "BatchNorm with epoch 34: 100%|██████████| 625/625 [00:03<00:00, 167.39it/s, Loss=0.112]\n"
          ]
        },
        {
          "output_type": "stream",
          "name": "stdout",
          "text": [
            "Epoch 34, Loss: 0.06556443622112273, lr = 0.009020083626084868\n"
          ]
        },
        {
          "output_type": "stream",
          "name": "stderr",
          "text": [
            "BatchNorm with epoch 35: 100%|██████████| 625/625 [00:03<00:00, 164.98it/s, Loss=0.00325]\n"
          ]
        },
        {
          "output_type": "stream",
          "name": "stdout",
          "text": [
            "Epoch 35, Loss: 0.05971505641937256, lr = 0.008860445373502399\n"
          ]
        },
        {
          "output_type": "stream",
          "name": "stderr",
          "text": [
            "BatchNorm with epoch 36: 100%|██████████| 625/625 [00:03<00:00, 161.07it/s, Loss=0.0152]\n"
          ]
        },
        {
          "output_type": "stream",
          "name": "stdout",
          "text": [
            "Epoch 36, Loss: 0.04015198707580567, lr = 0.008698230926499172\n"
          ]
        },
        {
          "output_type": "stream",
          "name": "stderr",
          "text": [
            "BatchNorm with epoch 37: 100%|██████████| 625/625 [00:03<00:00, 164.99it/s, Loss=0.00563]\n"
          ]
        },
        {
          "output_type": "stream",
          "name": "stdout",
          "text": [
            "Epoch 37, Loss: 0.024628285026550293, lr = 0.008533600371149993\n"
          ]
        },
        {
          "output_type": "stream",
          "name": "stderr",
          "text": [
            "BatchNorm with epoch 38: 100%|██████████| 625/625 [00:03<00:00, 161.53it/s, Loss=0.0135]\n"
          ]
        },
        {
          "output_type": "stream",
          "name": "stdout",
          "text": [
            "Epoch 38, Loss: 0.01990189321041107, lr = 0.008366716177936905\n"
          ]
        },
        {
          "output_type": "stream",
          "name": "stderr",
          "text": [
            "BatchNorm with epoch 39: 100%|██████████| 625/625 [00:03<00:00, 158.59it/s, Loss=0.018]\n"
          ]
        },
        {
          "output_type": "stream",
          "name": "stdout",
          "text": [
            "Epoch 39, Loss: 0.016340143609046936, lr = 0.008197743041410431\n"
          ]
        },
        {
          "output_type": "stream",
          "name": "stderr",
          "text": [
            "BatchNorm with epoch 40: 100%|██████████| 625/625 [00:03<00:00, 165.28it/s, Loss=0.0059]\n"
          ]
        },
        {
          "output_type": "stream",
          "name": "stdout",
          "text": [
            "Epoch 40, Loss: 0.013648302912712098, lr = 0.008026847717655952\n"
          ]
        },
        {
          "output_type": "stream",
          "name": "stderr",
          "text": [
            "BatchNorm with epoch 41: 100%|██████████| 625/625 [00:03<00:00, 164.73it/s, Loss=0.0106]\n"
          ]
        },
        {
          "output_type": "stream",
          "name": "stdout",
          "text": [
            "Epoch 41, Loss: 0.011941403174400329, lr = 0.007854198859725573\n"
          ]
        },
        {
          "output_type": "stream",
          "name": "stderr",
          "text": [
            "BatchNorm with epoch 42: 100%|██████████| 625/625 [00:03<00:00, 162.93it/s, Loss=0.000893]\n"
          ]
        },
        {
          "output_type": "stream",
          "name": "stdout",
          "text": [
            "Epoch 42, Loss: 0.012242802286148071, lr = 0.007679966851197918\n"
          ]
        },
        {
          "output_type": "stream",
          "name": "stderr",
          "text": [
            "BatchNorm with epoch 43: 100%|██████████| 625/625 [00:03<00:00, 162.09it/s, Loss=0.0297]\n"
          ]
        },
        {
          "output_type": "stream",
          "name": "stdout",
          "text": [
            "Epoch 43, Loss: 0.012031018447875977, lr = 0.007504323638030124\n"
          ]
        },
        {
          "output_type": "stream",
          "name": "stderr",
          "text": [
            "BatchNorm with epoch 44: 100%|██████████| 625/625 [00:03<00:00, 164.84it/s, Loss=0.00889]\n"
          ]
        },
        {
          "output_type": "stream",
          "name": "stdout",
          "text": [
            "Epoch 44, Loss: 0.01008760483264923, lr = 0.007327442558867921\n"
          ]
        },
        {
          "output_type": "stream",
          "name": "stderr",
          "text": [
            "BatchNorm with epoch 45: 100%|██████████| 625/625 [00:03<00:00, 165.46it/s, Loss=0.0861]\n"
          ]
        },
        {
          "output_type": "stream",
          "name": "stdout",
          "text": [
            "Epoch 45, Loss: 0.009116015815734863, lr = 0.00714949817398133\n"
          ]
        },
        {
          "output_type": "stream",
          "name": "stderr",
          "text": [
            "BatchNorm with epoch 46: 100%|██████████| 625/625 [00:03<00:00, 164.88it/s, Loss=0.0182]\n"
          ]
        },
        {
          "output_type": "stream",
          "name": "stdout",
          "text": [
            "Epoch 46, Loss: 0.010218545627593995, lr = 0.006970666092994753\n"
          ]
        },
        {
          "output_type": "stream",
          "name": "stderr",
          "text": [
            "BatchNorm with epoch 47: 100%|██████████| 625/625 [00:03<00:00, 166.16it/s, Loss=0.00557]\n"
          ]
        },
        {
          "output_type": "stream",
          "name": "stdout",
          "text": [
            "Epoch 47, Loss: 0.009817403316497803, lr = 0.006791122801581459\n"
          ]
        },
        {
          "output_type": "stream",
          "name": "stderr",
          "text": [
            "BatchNorm with epoch 48: 100%|██████████| 625/625 [00:03<00:00, 166.79it/s, Loss=0.0104]\n"
          ]
        },
        {
          "output_type": "stream",
          "name": "stdout",
          "text": [
            "Epoch 48, Loss: 0.010044230246543884, lr = 0.006611045487293554\n"
          ]
        },
        {
          "output_type": "stream",
          "name": "stderr",
          "text": [
            "BatchNorm with epoch 49: 100%|██████████| 625/625 [00:03<00:00, 165.13it/s, Loss=0.0114]\n"
          ]
        },
        {
          "output_type": "stream",
          "name": "stdout",
          "text": [
            "Epoch 49, Loss: 0.012506003522872925, lr = 0.006430611864699239\n"
          ]
        },
        {
          "output_type": "stream",
          "name": "stderr",
          "text": [
            "BatchNorm with epoch 50: 100%|██████████| 625/625 [00:03<00:00, 167.79it/s, Loss=0.0174]\n"
          ]
        },
        {
          "output_type": "stream",
          "name": "stdout",
          "text": [
            "Epoch 50, Loss: 0.011306769728660583, lr = 0.00625\n"
          ]
        },
        {
          "output_type": "stream",
          "name": "stderr",
          "text": [
            "BatchNorm with epoch 51: 100%|██████████| 625/625 [00:03<00:00, 169.09it/s, Loss=0.00533]\n"
          ]
        },
        {
          "output_type": "stream",
          "name": "stdout",
          "text": [
            "Epoch 51, Loss: 0.009484780836105346, lr = 0.006069388135300762\n"
          ]
        },
        {
          "output_type": "stream",
          "name": "stderr",
          "text": [
            "BatchNorm with epoch 52: 100%|██████████| 625/625 [00:03<00:00, 162.08it/s, Loss=0.00738]\n"
          ]
        },
        {
          "output_type": "stream",
          "name": "stdout",
          "text": [
            "Epoch 52, Loss: 0.011609341025352478, lr = 0.005888954512706447\n"
          ]
        },
        {
          "output_type": "stream",
          "name": "stderr",
          "text": [
            "BatchNorm with epoch 53: 100%|██████████| 625/625 [00:03<00:00, 165.26it/s, Loss=0.019]\n"
          ]
        },
        {
          "output_type": "stream",
          "name": "stdout",
          "text": [
            "Epoch 53, Loss: 0.008678287196159363, lr = 0.005708877198418541\n"
          ]
        },
        {
          "output_type": "stream",
          "name": "stderr",
          "text": [
            "BatchNorm with epoch 54: 100%|██████████| 625/625 [00:03<00:00, 168.11it/s, Loss=0.00118]\n"
          ]
        },
        {
          "output_type": "stream",
          "name": "stdout",
          "text": [
            "Epoch 54, Loss: 0.00915681676864624, lr = 0.0055293339070052495\n"
          ]
        },
        {
          "output_type": "stream",
          "name": "stderr",
          "text": [
            "BatchNorm with epoch 55: 100%|██████████| 625/625 [00:03<00:00, 163.93it/s, Loss=0.00495]\n"
          ]
        },
        {
          "output_type": "stream",
          "name": "stdout",
          "text": [
            "Epoch 55, Loss: 0.008645383262634277, lr = 0.005350501826018671\n"
          ]
        },
        {
          "output_type": "stream",
          "name": "stderr",
          "text": [
            "BatchNorm with epoch 56: 100%|██████████| 625/625 [00:03<00:00, 168.34it/s, Loss=0.0049]\n"
          ]
        },
        {
          "output_type": "stream",
          "name": "stdout",
          "text": [
            "Epoch 56, Loss: 0.009116943883895874, lr = 0.005172557441132082\n"
          ]
        },
        {
          "output_type": "stream",
          "name": "stderr",
          "text": [
            "BatchNorm with epoch 57: 100%|██████████| 625/625 [00:03<00:00, 166.56it/s, Loss=0.00654]\n"
          ]
        },
        {
          "output_type": "stream",
          "name": "stdout",
          "text": [
            "Epoch 57, Loss: 0.008743905973434449, lr = 0.00499567636196988\n"
          ]
        },
        {
          "output_type": "stream",
          "name": "stderr",
          "text": [
            "BatchNorm with epoch 58: 100%|██████████| 625/625 [00:03<00:00, 162.93it/s, Loss=0.00587]\n"
          ]
        },
        {
          "output_type": "stream",
          "name": "stdout",
          "text": [
            "Epoch 58, Loss: 0.008750066637992859, lr = 0.004820033148802083\n"
          ]
        },
        {
          "output_type": "stream",
          "name": "stderr",
          "text": [
            "BatchNorm with epoch 59: 100%|██████████| 625/625 [00:03<00:00, 164.35it/s, Loss=0.00836]\n"
          ]
        },
        {
          "output_type": "stream",
          "name": "stdout",
          "text": [
            "Epoch 59, Loss: 0.01002647535800934, lr = 0.004645801140274431\n"
          ]
        },
        {
          "output_type": "stream",
          "name": "stderr",
          "text": [
            "BatchNorm with epoch 60: 100%|██████████| 625/625 [00:03<00:00, 165.60it/s, Loss=0.00576]\n"
          ]
        },
        {
          "output_type": "stream",
          "name": "stdout",
          "text": [
            "Epoch 60, Loss: 0.008938492703437806, lr = 0.004473152282344052\n"
          ]
        },
        {
          "output_type": "stream",
          "name": "stderr",
          "text": [
            "BatchNorm with epoch 61: 100%|██████████| 625/625 [00:03<00:00, 162.52it/s, Loss=0.0143]\n"
          ]
        },
        {
          "output_type": "stream",
          "name": "stdout",
          "text": [
            "Epoch 61, Loss: 0.009631590390205383, lr = 0.004302256958589572\n"
          ]
        },
        {
          "output_type": "stream",
          "name": "stderr",
          "text": [
            "BatchNorm with epoch 62: 100%|██████████| 625/625 [00:03<00:00, 164.44it/s, Loss=0.00916]\n"
          ]
        },
        {
          "output_type": "stream",
          "name": "stdout",
          "text": [
            "Epoch 62, Loss: 0.009256297516822816, lr = 0.004133283822063101\n"
          ]
        },
        {
          "output_type": "stream",
          "name": "stderr",
          "text": [
            "BatchNorm with epoch 63: 100%|██████████| 625/625 [00:03<00:00, 162.23it/s, Loss=0.00766]\n"
          ]
        },
        {
          "output_type": "stream",
          "name": "stdout",
          "text": [
            "Epoch 63, Loss: 0.008834913992881775, lr = 0.003966399628850009\n"
          ]
        },
        {
          "output_type": "stream",
          "name": "stderr",
          "text": [
            "BatchNorm with epoch 64: 100%|██████████| 625/625 [00:03<00:00, 159.43it/s, Loss=0.00427]\n"
          ]
        },
        {
          "output_type": "stream",
          "name": "stdout",
          "text": [
            "Epoch 64, Loss: 0.008954095315933228, lr = 0.0038017690735008304\n"
          ]
        },
        {
          "output_type": "stream",
          "name": "stderr",
          "text": [
            "BatchNorm with epoch 65: 100%|██████████| 625/625 [00:03<00:00, 164.31it/s, Loss=0.00514]\n"
          ]
        },
        {
          "output_type": "stream",
          "name": "stdout",
          "text": [
            "Epoch 65, Loss: 0.009377847170829772, lr = 0.0036395546264976044\n"
          ]
        },
        {
          "output_type": "stream",
          "name": "stderr",
          "text": [
            "BatchNorm with epoch 66: 100%|██████████| 625/625 [00:03<00:00, 162.70it/s, Loss=0.00729]\n"
          ]
        },
        {
          "output_type": "stream",
          "name": "stdout",
          "text": [
            "Epoch 66, Loss: 0.008708069920539857, lr = 0.0034799163739151345\n"
          ]
        },
        {
          "output_type": "stream",
          "name": "stderr",
          "text": [
            "BatchNorm with epoch 67: 100%|██████████| 625/625 [00:03<00:00, 161.40it/s, Loss=0.00241]\n"
          ]
        },
        {
          "output_type": "stream",
          "name": "stdout",
          "text": [
            "Epoch 67, Loss: 0.008508142066001891, lr = 0.0033230118594353634\n"
          ]
        },
        {
          "output_type": "stream",
          "name": "stderr",
          "text": [
            "BatchNorm with epoch 68: 100%|██████████| 625/625 [00:03<00:00, 165.37it/s, Loss=0.00469]\n"
          ]
        },
        {
          "output_type": "stream",
          "name": "stdout",
          "text": [
            "Epoch 68, Loss: 0.008595043659210206, lr = 0.0031689959288707667\n"
          ]
        },
        {
          "output_type": "stream",
          "name": "stderr",
          "text": [
            "BatchNorm with epoch 69: 100%|██████████| 625/625 [00:03<00:00, 165.00it/s, Loss=0.00656]\n"
          ]
        },
        {
          "output_type": "stream",
          "name": "stdout",
          "text": [
            "Epoch 69, Loss: 0.008823248195648193, lr = 0.0030180205773502476\n"
          ]
        },
        {
          "output_type": "stream",
          "name": "stderr",
          "text": [
            "BatchNorm with epoch 70: 100%|██████████| 625/625 [00:03<00:00, 161.81it/s, Loss=0.00521]\n"
          ]
        },
        {
          "output_type": "stream",
          "name": "stdout",
          "text": [
            "Epoch 70, Loss: 0.008334215593338013, lr = 0.0028702347993182793\n"
          ]
        },
        {
          "output_type": "stream",
          "name": "stderr",
          "text": [
            "BatchNorm with epoch 71: 100%|██████████| 625/625 [00:03<00:00, 166.49it/s, Loss=0.0661]\n"
          ]
        },
        {
          "output_type": "stream",
          "name": "stdout",
          "text": [
            "Epoch 71, Loss: 0.008423126649856567, lr = 0.002725784441495384\n"
          ]
        },
        {
          "output_type": "stream",
          "name": "stderr",
          "text": [
            "BatchNorm with epoch 72: 100%|██████████| 625/625 [00:03<00:00, 166.19it/s, Loss=0.009]\n"
          ]
        },
        {
          "output_type": "stream",
          "name": "stdout",
          "text": [
            "Epoch 72, Loss: 0.007997195863723754, lr = 0.0025848120589450334\n"
          ]
        },
        {
          "output_type": "stream",
          "name": "stderr",
          "text": [
            "BatchNorm with epoch 73: 100%|██████████| 625/625 [00:03<00:00, 157.19it/s, Loss=0.00931]\n"
          ]
        },
        {
          "output_type": "stream",
          "name": "stdout",
          "text": [
            "Epoch 73, Loss: 0.009150045251846314, lr = 0.0024474567743890023\n"
          ]
        },
        {
          "output_type": "stream",
          "name": "stderr",
          "text": [
            "BatchNorm with epoch 74: 100%|██████████| 625/625 [00:04<00:00, 151.70it/s, Loss=0.00746]\n"
          ]
        },
        {
          "output_type": "stream",
          "name": "stdout",
          "text": [
            "Epoch 74, Loss: 0.008616630744934082, lr = 0.0023138541409100395\n"
          ]
        },
        {
          "output_type": "stream",
          "name": "stderr",
          "text": [
            "BatchNorm with epoch 75: 100%|██████████| 625/625 [00:03<00:00, 162.49it/s, Loss=0.00392]\n"
          ]
        },
        {
          "output_type": "stream",
          "name": "stdout",
          "text": [
            "Epoch 75, Loss: 0.008520042443275451, lr = 0.0021841360081773517\n"
          ]
        },
        {
          "output_type": "stream",
          "name": "stderr",
          "text": [
            "BatchNorm with epoch 76: 100%|██████████| 625/625 [00:04<00:00, 155.18it/s, Loss=0.00232]\n"
          ]
        },
        {
          "output_type": "stream",
          "name": "stdout",
          "text": [
            "Epoch 76, Loss: 0.008160589623451233, lr = 0.0020584303923268845\n"
          ]
        },
        {
          "output_type": "stream",
          "name": "stderr",
          "text": [
            "BatchNorm with epoch 77: 100%|██████████| 625/625 [00:03<00:00, 163.70it/s, Loss=0.00412]\n"
          ]
        },
        {
          "output_type": "stream",
          "name": "stdout",
          "text": [
            "Epoch 77, Loss: 0.008428986382484436, lr = 0.0019368613496248569\n"
          ]
        },
        {
          "output_type": "stream",
          "name": "stderr",
          "text": [
            "BatchNorm with epoch 78: 100%|██████████| 625/625 [00:03<00:00, 162.64it/s, Loss=0.00649]\n"
          ]
        },
        {
          "output_type": "stream",
          "name": "stdout",
          "text": [
            "Epoch 78, Loss: 0.00836260039806366, lr = 0.001819548854039212\n"
          ]
        },
        {
          "output_type": "stream",
          "name": "stderr",
          "text": [
            "BatchNorm with epoch 79: 100%|██████████| 625/625 [00:03<00:00, 159.83it/s, Loss=0.00417]\n"
          ]
        },
        {
          "output_type": "stream",
          "name": "stdout",
          "text": [
            "Epoch 79, Loss: 0.008049741792678833, lr = 0.0017066086788397798\n"
          ]
        },
        {
          "output_type": "stream",
          "name": "stderr",
          "text": [
            "BatchNorm with epoch 80: 100%|██████████| 625/625 [00:03<00:00, 163.11it/s, Loss=0.00705]\n"
          ]
        },
        {
          "output_type": "stream",
          "name": "stdout",
          "text": [
            "Epoch 80, Loss: 0.00788783187866211, lr = 0.0015981522823440525\n"
          ]
        },
        {
          "output_type": "stream",
          "name": "stderr",
          "text": [
            "BatchNorm with epoch 81: 100%|██████████| 625/625 [00:03<00:00, 163.57it/s, Loss=0.00378]\n"
          ]
        },
        {
          "output_type": "stream",
          "name": "stdout",
          "text": [
            "Epoch 81, Loss: 0.008106664347648621, lr = 0.0014942866979212699\n"
          ]
        },
        {
          "output_type": "stream",
          "name": "stderr",
          "text": [
            "BatchNorm with epoch 82: 100%|██████████| 625/625 [00:03<00:00, 160.70it/s, Loss=0.00561]\n"
          ]
        },
        {
          "output_type": "stream",
          "name": "stdout",
          "text": [
            "Epoch 82, Loss: 0.008264072012901306, lr = 0.0013951144283634144\n"
          ]
        },
        {
          "output_type": "stream",
          "name": "stderr",
          "text": [
            "BatchNorm with epoch 83: 100%|██████████| 625/625 [00:03<00:00, 163.41it/s, Loss=0.00261]\n"
          ]
        },
        {
          "output_type": "stream",
          "name": "stdout",
          "text": [
            "Epoch 83, Loss: 0.007963253021240234, lr = 0.0013007333447273232\n"
          ]
        },
        {
          "output_type": "stream",
          "name": "stderr",
          "text": [
            "BatchNorm with epoch 84: 100%|██████████| 625/625 [00:03<00:00, 160.10it/s, Loss=0.00288]\n"
          ]
        },
        {
          "output_type": "stream",
          "name": "stdout",
          "text": [
            "Epoch 84, Loss: 0.007761786794662475, lr = 0.0012112365897477841\n"
          ]
        },
        {
          "output_type": "stream",
          "name": "stderr",
          "text": [
            "BatchNorm with epoch 85: 100%|██████████| 625/625 [00:03<00:00, 157.25it/s, Loss=0.0068]\n"
          ]
        },
        {
          "output_type": "stream",
          "name": "stdout",
          "text": [
            "Epoch 85, Loss: 0.007924939274787903, lr = 0.001126712485916885\n"
          ]
        },
        {
          "output_type": "stream",
          "name": "stderr",
          "text": [
            "BatchNorm with epoch 86: 100%|██████████| 625/625 [00:03<00:00, 157.34it/s, Loss=0.00694]\n"
          ]
        },
        {
          "output_type": "stream",
          "name": "stdout",
          "text": [
            "Epoch 86, Loss: 0.007973259711265564, lr = 0.0010472444483203885\n"
          ]
        },
        {
          "output_type": "stream",
          "name": "stderr",
          "text": [
            "BatchNorm with epoch 87: 100%|██████████| 625/625 [00:03<00:00, 161.55it/s, Loss=0.00691]\n"
          ]
        },
        {
          "output_type": "stream",
          "name": "stdout",
          "text": [
            "Epoch 87, Loss: 0.008589877200126647, lr = 0.0009729109023171096\n"
          ]
        },
        {
          "output_type": "stream",
          "name": "stderr",
          "text": [
            "BatchNorm with epoch 88: 100%|██████████| 625/625 [00:03<00:00, 157.21it/s, Loss=0.0208]\n"
          ]
        },
        {
          "output_type": "stream",
          "name": "stdout",
          "text": [
            "Epoch 88, Loss: 0.007627946186065674, lr = 0.0009037852061425547\n"
          ]
        },
        {
          "output_type": "stream",
          "name": "stderr",
          "text": [
            "BatchNorm with epoch 89: 100%|██████████| 625/625 [00:04<00:00, 153.42it/s, Loss=0.00413]\n"
          ]
        },
        {
          "output_type": "stream",
          "name": "stdout",
          "text": [
            "Epoch 89, Loss: 0.008726804113388062, lr = 0.0008399355785132036\n"
          ]
        },
        {
          "output_type": "stream",
          "name": "stderr",
          "text": [
            "BatchNorm with epoch 90: 100%|██████████| 625/625 [00:04<00:00, 153.21it/s, Loss=0.00835]\n"
          ]
        },
        {
          "output_type": "stream",
          "name": "stdout",
          "text": [
            "Epoch 90, Loss: 0.007853894019126893, lr = 0.0007814250313028671\n"
          ]
        },
        {
          "output_type": "stream",
          "name": "stderr",
          "text": [
            "BatchNorm with epoch 91: 100%|██████████| 625/625 [00:04<00:00, 155.06it/s, Loss=0.00421]\n"
          ]
        },
        {
          "output_type": "stream",
          "name": "stdout",
          "text": [
            "Epoch 91, Loss: 0.0074014010906219485, lr = 0.0007283113073575779\n"
          ]
        },
        {
          "output_type": "stream",
          "name": "stderr",
          "text": [
            "BatchNorm with epoch 92: 100%|██████████| 625/625 [00:03<00:00, 162.85it/s, Loss=0.00736]\n"
          ]
        },
        {
          "output_type": "stream",
          "name": "stdout",
          "text": [
            "Epoch 92, Loss: 0.008241975855827331, lr = 0.0006806468235103719\n"
          ]
        },
        {
          "output_type": "stream",
          "name": "stderr",
          "text": [
            "BatchNorm with epoch 93: 100%|██████████| 625/625 [00:03<00:00, 164.84it/s, Loss=0.00573]\n"
          ]
        },
        {
          "output_type": "stream",
          "name": "stdout",
          "text": [
            "Epoch 93, Loss: 0.0077264845371246334, lr = 0.0006384786188522028\n"
          ]
        },
        {
          "output_type": "stream",
          "name": "stderr",
          "text": [
            "BatchNorm with epoch 94: 100%|██████████| 625/625 [00:03<00:00, 159.04it/s, Loss=0.00515]\n"
          ]
        },
        {
          "output_type": "stream",
          "name": "stdout",
          "text": [
            "Epoch 94, Loss: 0.007566986846923828, lr = 0.0006018483083100398\n"
          ]
        },
        {
          "output_type": "stream",
          "name": "stderr",
          "text": [
            "BatchNorm with epoch 95: 100%|██████████| 625/625 [00:03<00:00, 161.78it/s, Loss=0.0097]\n"
          ]
        },
        {
          "output_type": "stream",
          "name": "stdout",
          "text": [
            "Epoch 95, Loss: 0.0076989434957504274, lr = 0.0005707920415779584\n"
          ]
        },
        {
          "output_type": "stream",
          "name": "stderr",
          "text": [
            "BatchNorm with epoch 96: 100%|██████████| 625/625 [00:03<00:00, 162.82it/s, Loss=0.00409]\n"
          ]
        },
        {
          "output_type": "stream",
          "name": "stdout",
          "text": [
            "Epoch 96, Loss: 0.007627858757972717, lr = 0.0005453404674417528\n"
          ]
        },
        {
          "output_type": "stream",
          "name": "stderr",
          "text": [
            "BatchNorm with epoch 97: 100%|██████████| 625/625 [00:03<00:00, 159.15it/s, Loss=0.00555]\n"
          ]
        },
        {
          "output_type": "stream",
          "name": "stdout",
          "text": [
            "Epoch 97, Loss: 0.007966010904312135, lr = 0.00052551870353229\n"
          ]
        },
        {
          "output_type": "stream",
          "name": "stderr",
          "text": [
            "BatchNorm with epoch 98: 100%|██████████| 625/625 [00:03<00:00, 159.51it/s, Loss=0.0433]\n"
          ]
        },
        {
          "output_type": "stream",
          "name": "stdout",
          "text": [
            "Epoch 98, Loss: 0.007709066700935364, lr = 0.0005113463115374385\n"
          ]
        },
        {
          "output_type": "stream",
          "name": "stderr",
          "text": [
            "BatchNorm with epoch 99: 100%|██████████| 625/625 [00:03<00:00, 158.73it/s, Loss=0.0177]\n"
          ]
        },
        {
          "output_type": "stream",
          "name": "stdout",
          "text": [
            "Epoch 99, Loss: 0.007934125638008117, lr = 0.0005028372778970433\n"
          ]
        },
        {
          "output_type": "stream",
          "name": "stderr",
          "text": [
            "BatchNorm with epoch 100: 100%|██████████| 625/625 [00:03<00:00, 156.29it/s, Loss=0.00367]\n"
          ]
        },
        {
          "output_type": "stream",
          "name": "stdout",
          "text": [
            "Epoch 100, Loss: 0.00754705650806427, lr = 0.0005\n"
          ]
        },
        {
          "output_type": "stream",
          "name": "stderr",
          "text": [
            "GroupNorm with epoch 1: 100%|██████████| 625/625 [00:04<00:00, 147.02it/s, Loss=1.82]\n"
          ]
        },
        {
          "output_type": "stream",
          "name": "stdout",
          "text": [
            "Epoch 1, Loss: 2.027386279296875, lr = 0.011997162722102958\n"
          ]
        },
        {
          "output_type": "stream",
          "name": "stderr",
          "text": [
            "GroupNorm with epoch 2: 100%|██████████| 625/625 [00:04<00:00, 154.66it/s, Loss=1.21]\n"
          ]
        },
        {
          "output_type": "stream",
          "name": "stdout",
          "text": [
            "Epoch 2, Loss: 1.596421630859375, lr = 0.011988653688462563\n"
          ]
        },
        {
          "output_type": "stream",
          "name": "stderr",
          "text": [
            "GroupNorm with epoch 3: 100%|██████████| 625/625 [00:04<00:00, 156.00it/s, Loss=1.58]\n"
          ]
        },
        {
          "output_type": "stream",
          "name": "stdout",
          "text": [
            "Epoch 3, Loss: 1.4279890991210937, lr = 0.011974481296467712\n"
          ]
        },
        {
          "output_type": "stream",
          "name": "stderr",
          "text": [
            "GroupNorm with epoch 4: 100%|██████████| 625/625 [00:03<00:00, 157.22it/s, Loss=1.13]\n"
          ]
        },
        {
          "output_type": "stream",
          "name": "stdout",
          "text": [
            "Epoch 4, Loss: 1.2949838806152343, lr = 0.01195465953255825\n"
          ]
        },
        {
          "output_type": "stream",
          "name": "stderr",
          "text": [
            "GroupNorm with epoch 5: 100%|██████████| 625/625 [00:04<00:00, 154.99it/s, Loss=0.741]\n"
          ]
        },
        {
          "output_type": "stream",
          "name": "stdout",
          "text": [
            "Epoch 5, Loss: 1.1841991119384765, lr = 0.011929207958422044\n"
          ]
        },
        {
          "output_type": "stream",
          "name": "stderr",
          "text": [
            "GroupNorm with epoch 6: 100%|██████████| 625/625 [00:03<00:00, 156.94it/s, Loss=1.25]\n"
          ]
        },
        {
          "output_type": "stream",
          "name": "stdout",
          "text": [
            "Epoch 6, Loss: 1.0925779230117798, lr = 0.011898151691689963\n"
          ]
        },
        {
          "output_type": "stream",
          "name": "stderr",
          "text": [
            "GroupNorm with epoch 7: 100%|██████████| 625/625 [00:03<00:00, 156.74it/s, Loss=1.46]\n"
          ]
        },
        {
          "output_type": "stream",
          "name": "stdout",
          "text": [
            "Epoch 7, Loss: 0.9913784183502198, lr = 0.0118615213811478\n"
          ]
        },
        {
          "output_type": "stream",
          "name": "stderr",
          "text": [
            "GroupNorm with epoch 8: 100%|██████████| 625/625 [00:04<00:00, 154.77it/s, Loss=1.67]\n"
          ]
        },
        {
          "output_type": "stream",
          "name": "stdout",
          "text": [
            "Epoch 8, Loss: 0.8968822221755981, lr = 0.011819353176489631\n"
          ]
        },
        {
          "output_type": "stream",
          "name": "stderr",
          "text": [
            "GroupNorm with epoch 9: 100%|██████████| 625/625 [00:03<00:00, 157.08it/s, Loss=0.425]\n"
          ]
        },
        {
          "output_type": "stream",
          "name": "stdout",
          "text": [
            "Epoch 9, Loss: 0.8205399826049805, lr = 0.011771688692642425\n"
          ]
        },
        {
          "output_type": "stream",
          "name": "stderr",
          "text": [
            "GroupNorm with epoch 10: 100%|██████████| 625/625 [00:03<00:00, 157.76it/s, Loss=1.08]\n"
          ]
        },
        {
          "output_type": "stream",
          "name": "stdout",
          "text": [
            "Epoch 10, Loss: 0.7352627511024475, lr = 0.011718574968697135\n"
          ]
        },
        {
          "output_type": "stream",
          "name": "stderr",
          "text": [
            "GroupNorm with epoch 11: 100%|██████████| 625/625 [00:04<00:00, 153.62it/s, Loss=0.487]\n"
          ]
        },
        {
          "output_type": "stream",
          "name": "stdout",
          "text": [
            "Epoch 11, Loss: 0.6588568157196045, lr = 0.0116600644214868\n"
          ]
        },
        {
          "output_type": "stream",
          "name": "stderr",
          "text": [
            "GroupNorm with epoch 12: 100%|██████████| 625/625 [00:03<00:00, 159.82it/s, Loss=1.7]\n"
          ]
        },
        {
          "output_type": "stream",
          "name": "stdout",
          "text": [
            "Epoch 12, Loss: 0.5998529812812805, lr = 0.011596214793857449\n"
          ]
        },
        {
          "output_type": "stream",
          "name": "stderr",
          "text": [
            "GroupNorm with epoch 13: 100%|██████████| 625/625 [00:03<00:00, 159.31it/s, Loss=0.648]\n"
          ]
        },
        {
          "output_type": "stream",
          "name": "stdout",
          "text": [
            "Epoch 13, Loss: 0.5187760247707367, lr = 0.011527089097682894\n"
          ]
        },
        {
          "output_type": "stream",
          "name": "stderr",
          "text": [
            "GroupNorm with epoch 14: 100%|██████████| 625/625 [00:04<00:00, 154.23it/s, Loss=0.323]\n"
          ]
        },
        {
          "output_type": "stream",
          "name": "stdout",
          "text": [
            "Epoch 14, Loss: 0.46031613199710847, lr = 0.011452755551679615\n"
          ]
        },
        {
          "output_type": "stream",
          "name": "stderr",
          "text": [
            "GroupNorm with epoch 15: 100%|██████████| 625/625 [00:03<00:00, 159.14it/s, Loss=0.193]\n"
          ]
        },
        {
          "output_type": "stream",
          "name": "stdout",
          "text": [
            "Epoch 15, Loss: 0.4035365830421448, lr = 0.011373287514083117\n"
          ]
        },
        {
          "output_type": "stream",
          "name": "stderr",
          "text": [
            "GroupNorm with epoch 16: 100%|██████████| 625/625 [00:03<00:00, 158.36it/s, Loss=0.718]\n"
          ]
        },
        {
          "output_type": "stream",
          "name": "stdout",
          "text": [
            "Epoch 16, Loss: 0.3649621361732483, lr = 0.011288763410252218\n"
          ]
        },
        {
          "output_type": "stream",
          "name": "stderr",
          "text": [
            "GroupNorm with epoch 17: 100%|██████████| 625/625 [00:04<00:00, 153.51it/s, Loss=0.0984]\n"
          ]
        },
        {
          "output_type": "stream",
          "name": "stdout",
          "text": [
            "Epoch 17, Loss: 0.3224667852640152, lr = 0.01119926665527268\n"
          ]
        },
        {
          "output_type": "stream",
          "name": "stderr",
          "text": [
            "GroupNorm with epoch 18: 100%|██████████| 625/625 [00:03<00:00, 158.46it/s, Loss=0.245]\n"
          ]
        },
        {
          "output_type": "stream",
          "name": "stdout",
          "text": [
            "Epoch 18, Loss: 0.24913664236068725, lr = 0.01110488557163659\n"
          ]
        },
        {
          "output_type": "stream",
          "name": "stderr",
          "text": [
            "GroupNorm with epoch 19: 100%|██████████| 625/625 [00:03<00:00, 157.72it/s, Loss=0.189]\n"
          ]
        },
        {
          "output_type": "stream",
          "name": "stdout",
          "text": [
            "Epoch 19, Loss: 0.22140231347084047, lr = 0.011005713302078734\n"
          ]
        },
        {
          "output_type": "stream",
          "name": "stderr",
          "text": [
            "GroupNorm with epoch 20: 100%|██████████| 625/625 [00:04<00:00, 154.82it/s, Loss=0.18]\n"
          ]
        },
        {
          "output_type": "stream",
          "name": "stdout",
          "text": [
            "Epoch 20, Loss: 0.17375166792869567, lr = 0.010901847717655951\n"
          ]
        },
        {
          "output_type": "stream",
          "name": "stderr",
          "text": [
            "GroupNorm with epoch 21: 100%|██████████| 625/625 [00:03<00:00, 159.45it/s, Loss=0.228]\n"
          ]
        },
        {
          "output_type": "stream",
          "name": "stdout",
          "text": [
            "Epoch 21, Loss: 0.17190811214447022, lr = 0.010793391321160221\n"
          ]
        },
        {
          "output_type": "stream",
          "name": "stderr",
          "text": [
            "GroupNorm with epoch 22: 100%|██████████| 625/625 [00:03<00:00, 157.71it/s, Loss=0.448]\n"
          ]
        },
        {
          "output_type": "stream",
          "name": "stdout",
          "text": [
            "Epoch 22, Loss: 0.15231394879817964, lr = 0.01068045114596079\n"
          ]
        },
        {
          "output_type": "stream",
          "name": "stderr",
          "text": [
            "GroupNorm with epoch 23: 100%|██████████| 625/625 [00:04<00:00, 154.73it/s, Loss=0.0161]\n"
          ]
        },
        {
          "output_type": "stream",
          "name": "stdout",
          "text": [
            "Epoch 23, Loss: 0.14906044609546662, lr = 0.010563138650375146\n"
          ]
        },
        {
          "output_type": "stream",
          "name": "stderr",
          "text": [
            "GroupNorm with epoch 24: 100%|██████████| 625/625 [00:03<00:00, 158.90it/s, Loss=0.201]\n"
          ]
        },
        {
          "output_type": "stream",
          "name": "stdout",
          "text": [
            "Epoch 24, Loss: 0.10373400149345398, lr = 0.01044156960767312\n"
          ]
        },
        {
          "output_type": "stream",
          "name": "stderr",
          "text": [
            "GroupNorm with epoch 25: 100%|██████████| 625/625 [00:03<00:00, 158.53it/s, Loss=0.0504]\n"
          ]
        },
        {
          "output_type": "stream",
          "name": "stdout",
          "text": [
            "Epoch 25, Loss: 0.07604341130256653, lr = 0.010315863991822652\n"
          ]
        },
        {
          "output_type": "stream",
          "name": "stderr",
          "text": [
            "GroupNorm with epoch 26: 100%|██████████| 625/625 [00:04<00:00, 155.06it/s, Loss=0.168]\n"
          ]
        },
        {
          "output_type": "stream",
          "name": "stdout",
          "text": [
            "Epoch 26, Loss: 0.06217884125709534, lr = 0.010186145859089965\n"
          ]
        },
        {
          "output_type": "stream",
          "name": "stderr",
          "text": [
            "GroupNorm with epoch 27: 100%|██████████| 625/625 [00:03<00:00, 160.57it/s, Loss=0.0849]\n"
          ]
        },
        {
          "output_type": "stream",
          "name": "stdout",
          "text": [
            "Epoch 27, Loss: 0.09619358584880829, lr = 0.010052543225611003\n"
          ]
        },
        {
          "output_type": "stream",
          "name": "stderr",
          "text": [
            "GroupNorm with epoch 28: 100%|██████████| 625/625 [00:03<00:00, 158.82it/s, Loss=0.079]\n"
          ]
        },
        {
          "output_type": "stream",
          "name": "stdout",
          "text": [
            "Epoch 28, Loss: 0.05720357358455658, lr = 0.00991518794105497\n"
          ]
        },
        {
          "output_type": "stream",
          "name": "stderr",
          "text": [
            "GroupNorm with epoch 29: 100%|██████████| 625/625 [00:03<00:00, 156.34it/s, Loss=0.00323]\n"
          ]
        },
        {
          "output_type": "stream",
          "name": "stdout",
          "text": [
            "Epoch 29, Loss: 0.017005008435249328, lr = 0.00977421555850462\n"
          ]
        },
        {
          "output_type": "stream",
          "name": "stderr",
          "text": [
            "GroupNorm with epoch 30: 100%|██████████| 625/625 [00:03<00:00, 158.66it/s, Loss=0.00132]\n"
          ]
        },
        {
          "output_type": "stream",
          "name": "stdout",
          "text": [
            "Epoch 30, Loss: 0.00518213746547699, lr = 0.009629765200681727\n"
          ]
        },
        {
          "output_type": "stream",
          "name": "stderr",
          "text": [
            "GroupNorm with epoch 31: 100%|██████████| 625/625 [00:03<00:00, 158.83it/s, Loss=0.0033]\n"
          ]
        },
        {
          "output_type": "stream",
          "name": "stdout",
          "text": [
            "Epoch 31, Loss: 0.003972559928894043, lr = 0.009481979422649757\n"
          ]
        },
        {
          "output_type": "stream",
          "name": "stderr",
          "text": [
            "GroupNorm with epoch 32: 100%|██████████| 625/625 [00:03<00:00, 156.77it/s, Loss=0.00106]\n"
          ]
        },
        {
          "output_type": "stream",
          "name": "stdout",
          "text": [
            "Epoch 32, Loss: 0.003882127785682678, lr = 0.009331004071129235\n"
          ]
        },
        {
          "output_type": "stream",
          "name": "stderr",
          "text": [
            "GroupNorm with epoch 33: 100%|██████████| 625/625 [00:03<00:00, 160.60it/s, Loss=0.00326]\n"
          ]
        },
        {
          "output_type": "stream",
          "name": "stdout",
          "text": [
            "Epoch 33, Loss: 0.003919931483268738, lr = 0.00917698814056464\n"
          ]
        },
        {
          "output_type": "stream",
          "name": "stderr",
          "text": [
            "GroupNorm with epoch 34: 100%|██████████| 625/625 [00:03<00:00, 160.84it/s, Loss=0.00306]\n"
          ]
        },
        {
          "output_type": "stream",
          "name": "stdout",
          "text": [
            "Epoch 34, Loss: 0.004094663047790528, lr = 0.009020083626084868\n"
          ]
        },
        {
          "output_type": "stream",
          "name": "stderr",
          "text": [
            "GroupNorm with epoch 35: 100%|██████████| 625/625 [00:04<00:00, 154.63it/s, Loss=0.00499]\n"
          ]
        },
        {
          "output_type": "stream",
          "name": "stdout",
          "text": [
            "Epoch 35, Loss: 0.004256489682197571, lr = 0.008860445373502399\n"
          ]
        },
        {
          "output_type": "stream",
          "name": "stderr",
          "text": [
            "GroupNorm with epoch 36: 100%|██████████| 625/625 [00:03<00:00, 158.94it/s, Loss=0.00533]\n"
          ]
        },
        {
          "output_type": "stream",
          "name": "stdout",
          "text": [
            "Epoch 36, Loss: 0.0044565346956253055, lr = 0.008698230926499172\n"
          ]
        },
        {
          "output_type": "stream",
          "name": "stderr",
          "text": [
            "GroupNorm with epoch 37: 100%|██████████| 625/625 [00:03<00:00, 158.67it/s, Loss=0.00782]\n"
          ]
        },
        {
          "output_type": "stream",
          "name": "stdout",
          "text": [
            "Epoch 37, Loss: 0.004650735688209534, lr = 0.008533600371149993\n"
          ]
        },
        {
          "output_type": "stream",
          "name": "stderr",
          "text": [
            "GroupNorm with epoch 38: 100%|██████████| 625/625 [00:04<00:00, 154.86it/s, Loss=0.00566]\n"
          ]
        },
        {
          "output_type": "stream",
          "name": "stdout",
          "text": [
            "Epoch 38, Loss: 0.004836537837982178, lr = 0.008366716177936905\n"
          ]
        },
        {
          "output_type": "stream",
          "name": "stderr",
          "text": [
            "GroupNorm with epoch 39: 100%|██████████| 625/625 [00:03<00:00, 159.51it/s, Loss=0.00528]\n"
          ]
        },
        {
          "output_type": "stream",
          "name": "stdout",
          "text": [
            "Epoch 39, Loss: 0.0050529308557510375, lr = 0.008197743041410431\n"
          ]
        },
        {
          "output_type": "stream",
          "name": "stderr",
          "text": [
            "GroupNorm with epoch 40: 100%|██████████| 625/625 [00:03<00:00, 157.96it/s, Loss=0.00496]\n"
          ]
        },
        {
          "output_type": "stream",
          "name": "stdout",
          "text": [
            "Epoch 40, Loss: 0.005195287823677063, lr = 0.008026847717655952\n"
          ]
        },
        {
          "output_type": "stream",
          "name": "stderr",
          "text": [
            "GroupNorm with epoch 41: 100%|██████████| 625/625 [00:04<00:00, 154.83it/s, Loss=0.00335]\n"
          ]
        },
        {
          "output_type": "stream",
          "name": "stdout",
          "text": [
            "Epoch 41, Loss: 0.0053553536653518675, lr = 0.007854198859725573\n"
          ]
        },
        {
          "output_type": "stream",
          "name": "stderr",
          "text": [
            "GroupNorm with epoch 42: 100%|██████████| 625/625 [00:03<00:00, 156.82it/s, Loss=0.00533]\n"
          ]
        },
        {
          "output_type": "stream",
          "name": "stdout",
          "text": [
            "Epoch 42, Loss: 0.005488762712478638, lr = 0.007679966851197918\n"
          ]
        },
        {
          "output_type": "stream",
          "name": "stderr",
          "text": [
            "GroupNorm with epoch 43: 100%|██████████| 625/625 [00:03<00:00, 157.12it/s, Loss=0.00656]\n"
          ]
        },
        {
          "output_type": "stream",
          "name": "stdout",
          "text": [
            "Epoch 43, Loss: 0.0056186549663543705, lr = 0.007504323638030124\n"
          ]
        },
        {
          "output_type": "stream",
          "name": "stderr",
          "text": [
            "GroupNorm with epoch 44: 100%|██████████| 625/625 [00:04<00:00, 153.58it/s, Loss=0.00389]\n"
          ]
        },
        {
          "output_type": "stream",
          "name": "stdout",
          "text": [
            "Epoch 44, Loss: 0.005705408930778503, lr = 0.007327442558867921\n"
          ]
        },
        {
          "output_type": "stream",
          "name": "stderr",
          "text": [
            "GroupNorm with epoch 45: 100%|██████████| 625/625 [00:03<00:00, 157.77it/s, Loss=0.0113]\n"
          ]
        },
        {
          "output_type": "stream",
          "name": "stdout",
          "text": [
            "Epoch 45, Loss: 0.005823249220848084, lr = 0.00714949817398133\n"
          ]
        },
        {
          "output_type": "stream",
          "name": "stderr",
          "text": [
            "GroupNorm with epoch 46: 100%|██████████| 625/625 [00:04<00:00, 155.49it/s, Loss=0.00726]\n"
          ]
        },
        {
          "output_type": "stream",
          "name": "stdout",
          "text": [
            "Epoch 46, Loss: 0.005902762508392334, lr = 0.006970666092994753\n"
          ]
        },
        {
          "output_type": "stream",
          "name": "stderr",
          "text": [
            "GroupNorm with epoch 47: 100%|██████████| 625/625 [00:03<00:00, 156.43it/s, Loss=0.0113]\n"
          ]
        },
        {
          "output_type": "stream",
          "name": "stdout",
          "text": [
            "Epoch 47, Loss: 0.005946044540405274, lr = 0.006791122801581459\n"
          ]
        },
        {
          "output_type": "stream",
          "name": "stderr",
          "text": [
            "GroupNorm with epoch 48: 100%|██████████| 625/625 [00:03<00:00, 160.94it/s, Loss=0.00661]\n"
          ]
        },
        {
          "output_type": "stream",
          "name": "stdout",
          "text": [
            "Epoch 48, Loss: 0.0060085816383361815, lr = 0.006611045487293554\n"
          ]
        },
        {
          "output_type": "stream",
          "name": "stderr",
          "text": [
            "GroupNorm with epoch 49: 100%|██████████| 625/625 [00:03<00:00, 157.04it/s, Loss=0.0103]\n"
          ]
        },
        {
          "output_type": "stream",
          "name": "stdout",
          "text": [
            "Epoch 49, Loss: 0.006019263076782227, lr = 0.006430611864699239\n"
          ]
        },
        {
          "output_type": "stream",
          "name": "stderr",
          "text": [
            "GroupNorm with epoch 50: 100%|██████████| 625/625 [00:04<00:00, 150.89it/s, Loss=0.00338]\n"
          ]
        },
        {
          "output_type": "stream",
          "name": "stdout",
          "text": [
            "Epoch 50, Loss: 0.0060743929862976075, lr = 0.00625\n"
          ]
        },
        {
          "output_type": "stream",
          "name": "stderr",
          "text": [
            "GroupNorm with epoch 51: 100%|██████████| 625/625 [00:03<00:00, 160.89it/s, Loss=0.00738]\n"
          ]
        },
        {
          "output_type": "stream",
          "name": "stdout",
          "text": [
            "Epoch 51, Loss: 0.006073392415046692, lr = 0.006069388135300762\n"
          ]
        },
        {
          "output_type": "stream",
          "name": "stderr",
          "text": [
            "GroupNorm with epoch 52: 100%|██████████| 625/625 [00:03<00:00, 156.69it/s, Loss=0.00896]\n"
          ]
        },
        {
          "output_type": "stream",
          "name": "stdout",
          "text": [
            "Epoch 52, Loss: 0.006114525413513184, lr = 0.005888954512706447\n"
          ]
        },
        {
          "output_type": "stream",
          "name": "stderr",
          "text": [
            "GroupNorm with epoch 53: 100%|██████████| 625/625 [00:03<00:00, 158.85it/s, Loss=0.00878]\n"
          ]
        },
        {
          "output_type": "stream",
          "name": "stdout",
          "text": [
            "Epoch 53, Loss: 0.006122610759735108, lr = 0.005708877198418541\n"
          ]
        },
        {
          "output_type": "stream",
          "name": "stderr",
          "text": [
            "GroupNorm with epoch 54: 100%|██████████| 625/625 [00:03<00:00, 163.01it/s, Loss=0.00452]\n"
          ]
        },
        {
          "output_type": "stream",
          "name": "stdout",
          "text": [
            "Epoch 54, Loss: 0.00609631130695343, lr = 0.0055293339070052495\n"
          ]
        },
        {
          "output_type": "stream",
          "name": "stderr",
          "text": [
            "GroupNorm with epoch 55: 100%|██████████| 625/625 [00:04<00:00, 154.17it/s, Loss=0.00746]\n"
          ]
        },
        {
          "output_type": "stream",
          "name": "stdout",
          "text": [
            "Epoch 55, Loss: 0.006096922135353088, lr = 0.005350501826018671\n"
          ]
        },
        {
          "output_type": "stream",
          "name": "stderr",
          "text": [
            "GroupNorm with epoch 56: 100%|██████████| 625/625 [00:03<00:00, 157.91it/s, Loss=0.00879]\n"
          ]
        },
        {
          "output_type": "stream",
          "name": "stdout",
          "text": [
            "Epoch 56, Loss: 0.006107155394554138, lr = 0.005172557441132082\n"
          ]
        },
        {
          "output_type": "stream",
          "name": "stderr",
          "text": [
            "GroupNorm with epoch 57: 100%|██████████| 625/625 [00:03<00:00, 160.40it/s, Loss=0.00556]\n"
          ]
        },
        {
          "output_type": "stream",
          "name": "stdout",
          "text": [
            "Epoch 57, Loss: 0.006075885701179505, lr = 0.00499567636196988\n"
          ]
        },
        {
          "output_type": "stream",
          "name": "stderr",
          "text": [
            "GroupNorm with epoch 58: 100%|██████████| 625/625 [00:04<00:00, 154.41it/s, Loss=0.00711]\n"
          ]
        },
        {
          "output_type": "stream",
          "name": "stdout",
          "text": [
            "Epoch 58, Loss: 0.006088285374641418, lr = 0.004820033148802083\n"
          ]
        },
        {
          "output_type": "stream",
          "name": "stderr",
          "text": [
            "GroupNorm with epoch 59: 100%|██████████| 625/625 [00:03<00:00, 157.24it/s, Loss=0.00371]\n"
          ]
        },
        {
          "output_type": "stream",
          "name": "stdout",
          "text": [
            "Epoch 59, Loss: 0.006083936429023743, lr = 0.004645801140274431\n"
          ]
        },
        {
          "output_type": "stream",
          "name": "stderr",
          "text": [
            "GroupNorm with epoch 60: 100%|██████████| 625/625 [00:03<00:00, 159.62it/s, Loss=0.00677]\n"
          ]
        },
        {
          "output_type": "stream",
          "name": "stdout",
          "text": [
            "Epoch 60, Loss: 0.006071829509735107, lr = 0.004473152282344052\n"
          ]
        },
        {
          "output_type": "stream",
          "name": "stderr",
          "text": [
            "GroupNorm with epoch 61: 100%|██████████| 625/625 [00:03<00:00, 156.57it/s, Loss=0.00598]\n"
          ]
        },
        {
          "output_type": "stream",
          "name": "stdout",
          "text": [
            "Epoch 61, Loss: 0.006023143124580383, lr = 0.004302256958589572\n"
          ]
        },
        {
          "output_type": "stream",
          "name": "stderr",
          "text": [
            "GroupNorm with epoch 62: 100%|██████████| 625/625 [00:04<00:00, 155.77it/s, Loss=0.00896]\n"
          ]
        },
        {
          "output_type": "stream",
          "name": "stdout",
          "text": [
            "Epoch 62, Loss: 0.006019485974311829, lr = 0.004133283822063101\n"
          ]
        },
        {
          "output_type": "stream",
          "name": "stderr",
          "text": [
            "GroupNorm with epoch 63: 100%|██████████| 625/625 [00:04<00:00, 156.08it/s, Loss=0.00952]\n"
          ]
        },
        {
          "output_type": "stream",
          "name": "stdout",
          "text": [
            "Epoch 63, Loss: 0.0060141952276229855, lr = 0.003966399628850009\n"
          ]
        },
        {
          "output_type": "stream",
          "name": "stderr",
          "text": [
            "GroupNorm with epoch 64: 100%|██████████| 625/625 [00:04<00:00, 151.42it/s, Loss=0.00724]\n"
          ]
        },
        {
          "output_type": "stream",
          "name": "stdout",
          "text": [
            "Epoch 64, Loss: 0.005954601645469666, lr = 0.0038017690735008304\n"
          ]
        },
        {
          "output_type": "stream",
          "name": "stderr",
          "text": [
            "GroupNorm with epoch 65: 100%|██████████| 625/625 [00:04<00:00, 153.74it/s, Loss=0.00723]\n"
          ]
        },
        {
          "output_type": "stream",
          "name": "stdout",
          "text": [
            "Epoch 65, Loss: 0.0059597984790802005, lr = 0.0036395546264976044\n"
          ]
        },
        {
          "output_type": "stream",
          "name": "stderr",
          "text": [
            "GroupNorm with epoch 66: 100%|██████████| 625/625 [00:03<00:00, 159.11it/s, Loss=0.00519]\n"
          ]
        },
        {
          "output_type": "stream",
          "name": "stdout",
          "text": [
            "Epoch 66, Loss: 0.005901459002494812, lr = 0.0034799163739151345\n"
          ]
        },
        {
          "output_type": "stream",
          "name": "stderr",
          "text": [
            "GroupNorm with epoch 67: 100%|██████████| 625/625 [00:04<00:00, 155.79it/s, Loss=0.00271]\n"
          ]
        },
        {
          "output_type": "stream",
          "name": "stdout",
          "text": [
            "Epoch 67, Loss: 0.005903606605529785, lr = 0.0033230118594353634\n"
          ]
        },
        {
          "output_type": "stream",
          "name": "stderr",
          "text": [
            "GroupNorm with epoch 68: 100%|██████████| 625/625 [00:03<00:00, 156.75it/s, Loss=0.00659]\n"
          ]
        },
        {
          "output_type": "stream",
          "name": "stdout",
          "text": [
            "Epoch 68, Loss: 0.005875404357910156, lr = 0.0031689959288707667\n"
          ]
        },
        {
          "output_type": "stream",
          "name": "stderr",
          "text": [
            "GroupNorm with epoch 69: 100%|██████████| 625/625 [00:03<00:00, 157.43it/s, Loss=0.00642]\n"
          ]
        },
        {
          "output_type": "stream",
          "name": "stdout",
          "text": [
            "Epoch 69, Loss: 0.005840752649307251, lr = 0.0030180205773502476\n"
          ]
        },
        {
          "output_type": "stream",
          "name": "stderr",
          "text": [
            "GroupNorm with epoch 70: 100%|██████████| 625/625 [00:04<00:00, 156.03it/s, Loss=0.0131]\n"
          ]
        },
        {
          "output_type": "stream",
          "name": "stdout",
          "text": [
            "Epoch 70, Loss: 0.005831414484977722, lr = 0.0028702347993182793\n"
          ]
        },
        {
          "output_type": "stream",
          "name": "stderr",
          "text": [
            "GroupNorm with epoch 71: 100%|██████████| 625/625 [00:03<00:00, 156.30it/s, Loss=0.00853]\n"
          ]
        },
        {
          "output_type": "stream",
          "name": "stdout",
          "text": [
            "Epoch 71, Loss: 0.005797625970840454, lr = 0.002725784441495384\n"
          ]
        },
        {
          "output_type": "stream",
          "name": "stderr",
          "text": [
            "GroupNorm with epoch 72: 100%|██████████| 625/625 [00:03<00:00, 160.98it/s, Loss=0.00694]\n"
          ]
        },
        {
          "output_type": "stream",
          "name": "stdout",
          "text": [
            "Epoch 72, Loss: 0.005776861882209778, lr = 0.0025848120589450334\n"
          ]
        },
        {
          "output_type": "stream",
          "name": "stderr",
          "text": [
            "GroupNorm with epoch 73: 100%|██████████| 625/625 [00:04<00:00, 155.13it/s, Loss=0.00716]\n"
          ]
        },
        {
          "output_type": "stream",
          "name": "stdout",
          "text": [
            "Epoch 73, Loss: 0.0057524577856063845, lr = 0.0024474567743890023\n"
          ]
        },
        {
          "output_type": "stream",
          "name": "stderr",
          "text": [
            "GroupNorm with epoch 74: 100%|██████████| 625/625 [00:03<00:00, 160.08it/s, Loss=0.00486]\n"
          ]
        },
        {
          "output_type": "stream",
          "name": "stdout",
          "text": [
            "Epoch 74, Loss: 0.005721895503997803, lr = 0.0023138541409100395\n"
          ]
        },
        {
          "output_type": "stream",
          "name": "stderr",
          "text": [
            "GroupNorm with epoch 75: 100%|██████████| 625/625 [00:03<00:00, 159.14it/s, Loss=0.00334]\n"
          ]
        },
        {
          "output_type": "stream",
          "name": "stdout",
          "text": [
            "Epoch 75, Loss: 0.00570759220123291, lr = 0.0021841360081773517\n"
          ]
        },
        {
          "output_type": "stream",
          "name": "stderr",
          "text": [
            "GroupNorm with epoch 76: 100%|██████████| 625/625 [00:04<00:00, 155.53it/s, Loss=0.00525]\n"
          ]
        },
        {
          "output_type": "stream",
          "name": "stdout",
          "text": [
            "Epoch 76, Loss: 0.005696958947181701, lr = 0.0020584303923268845\n"
          ]
        },
        {
          "output_type": "stream",
          "name": "stderr",
          "text": [
            "GroupNorm with epoch 77: 100%|██████████| 625/625 [00:03<00:00, 157.02it/s, Loss=0.00798]\n"
          ]
        },
        {
          "output_type": "stream",
          "name": "stdout",
          "text": [
            "Epoch 77, Loss: 0.005676694512367249, lr = 0.0019368613496248569\n"
          ]
        },
        {
          "output_type": "stream",
          "name": "stderr",
          "text": [
            "GroupNorm with epoch 78: 100%|██████████| 625/625 [00:03<00:00, 159.35it/s, Loss=0.00564]\n"
          ]
        },
        {
          "output_type": "stream",
          "name": "stdout",
          "text": [
            "Epoch 78, Loss: 0.005651994156837464, lr = 0.001819548854039212\n"
          ]
        },
        {
          "output_type": "stream",
          "name": "stderr",
          "text": [
            "GroupNorm with epoch 79: 100%|██████████| 625/625 [00:03<00:00, 157.97it/s, Loss=0.00299]\n"
          ]
        },
        {
          "output_type": "stream",
          "name": "stdout",
          "text": [
            "Epoch 79, Loss: 0.005629710221290589, lr = 0.0017066086788397798\n"
          ]
        },
        {
          "output_type": "stream",
          "name": "stderr",
          "text": [
            "GroupNorm with epoch 80: 100%|██████████| 625/625 [00:03<00:00, 158.75it/s, Loss=0.00275]\n"
          ]
        },
        {
          "output_type": "stream",
          "name": "stdout",
          "text": [
            "Epoch 80, Loss: 0.00559977719783783, lr = 0.0015981522823440525\n"
          ]
        },
        {
          "output_type": "stream",
          "name": "stderr",
          "text": [
            "GroupNorm with epoch 81: 100%|██████████| 625/625 [00:03<00:00, 158.07it/s, Loss=0.0043]\n"
          ]
        },
        {
          "output_type": "stream",
          "name": "stdout",
          "text": [
            "Epoch 81, Loss: 0.005610701942443848, lr = 0.0014942866979212699\n"
          ]
        },
        {
          "output_type": "stream",
          "name": "stderr",
          "text": [
            "GroupNorm with epoch 82: 100%|██████████| 625/625 [00:03<00:00, 157.04it/s, Loss=0.00312]\n"
          ]
        },
        {
          "output_type": "stream",
          "name": "stdout",
          "text": [
            "Epoch 82, Loss: 0.005565176439285278, lr = 0.0013951144283634144\n"
          ]
        },
        {
          "output_type": "stream",
          "name": "stderr",
          "text": [
            "GroupNorm with epoch 83: 100%|██████████| 625/625 [00:03<00:00, 157.07it/s, Loss=0.00907]\n"
          ]
        },
        {
          "output_type": "stream",
          "name": "stdout",
          "text": [
            "Epoch 83, Loss: 0.005562962460517884, lr = 0.0013007333447273232\n"
          ]
        },
        {
          "output_type": "stream",
          "name": "stderr",
          "text": [
            "GroupNorm with epoch 84: 100%|██████████| 625/625 [00:03<00:00, 158.07it/s, Loss=0.00288]\n"
          ]
        },
        {
          "output_type": "stream",
          "name": "stdout",
          "text": [
            "Epoch 84, Loss: 0.005536430382728576, lr = 0.0012112365897477841\n"
          ]
        },
        {
          "output_type": "stream",
          "name": "stderr",
          "text": [
            "GroupNorm with epoch 85: 100%|██████████| 625/625 [00:03<00:00, 157.26it/s, Loss=0.00486]\n"
          ]
        },
        {
          "output_type": "stream",
          "name": "stdout",
          "text": [
            "Epoch 85, Loss: 0.005531976747512817, lr = 0.001126712485916885\n"
          ]
        },
        {
          "output_type": "stream",
          "name": "stderr",
          "text": [
            "GroupNorm with epoch 86: 100%|██████████| 625/625 [00:03<00:00, 159.87it/s, Loss=0.00299]\n"
          ]
        },
        {
          "output_type": "stream",
          "name": "stdout",
          "text": [
            "Epoch 86, Loss: 0.005523935437202454, lr = 0.0010472444483203885\n"
          ]
        },
        {
          "output_type": "stream",
          "name": "stderr",
          "text": [
            "GroupNorm with epoch 87: 100%|██████████| 625/625 [00:03<00:00, 158.42it/s, Loss=0.00507]\n"
          ]
        },
        {
          "output_type": "stream",
          "name": "stdout",
          "text": [
            "Epoch 87, Loss: 0.005494078874588013, lr = 0.0009729109023171096\n"
          ]
        },
        {
          "output_type": "stream",
          "name": "stderr",
          "text": [
            "GroupNorm with epoch 88: 100%|██████████| 625/625 [00:04<00:00, 156.11it/s, Loss=0.00771]\n"
          ]
        },
        {
          "output_type": "stream",
          "name": "stdout",
          "text": [
            "Epoch 88, Loss: 0.005488550567626953, lr = 0.0009037852061425547\n"
          ]
        },
        {
          "output_type": "stream",
          "name": "stderr",
          "text": [
            "GroupNorm with epoch 89: 100%|██████████| 625/625 [00:03<00:00, 157.94it/s, Loss=0.00467]\n"
          ]
        },
        {
          "output_type": "stream",
          "name": "stdout",
          "text": [
            "Epoch 89, Loss: 0.0054758327245712285, lr = 0.0008399355785132036\n"
          ]
        },
        {
          "output_type": "stream",
          "name": "stderr",
          "text": [
            "GroupNorm with epoch 90: 100%|██████████| 625/625 [00:03<00:00, 157.17it/s, Loss=0.0117]\n"
          ]
        },
        {
          "output_type": "stream",
          "name": "stdout",
          "text": [
            "Epoch 90, Loss: 0.005465403747558594, lr = 0.0007814250313028671\n"
          ]
        },
        {
          "output_type": "stream",
          "name": "stderr",
          "text": [
            "GroupNorm with epoch 91: 100%|██████████| 625/625 [00:03<00:00, 156.88it/s, Loss=0.0019]\n"
          ]
        },
        {
          "output_type": "stream",
          "name": "stdout",
          "text": [
            "Epoch 91, Loss: 0.005460269451141357, lr = 0.0007283113073575779\n"
          ]
        },
        {
          "output_type": "stream",
          "name": "stderr",
          "text": [
            "GroupNorm with epoch 92: 100%|██████████| 625/625 [00:03<00:00, 157.77it/s, Loss=0.00686]\n"
          ]
        },
        {
          "output_type": "stream",
          "name": "stdout",
          "text": [
            "Epoch 92, Loss: 0.005447514915466308, lr = 0.0006806468235103719\n"
          ]
        },
        {
          "output_type": "stream",
          "name": "stderr",
          "text": [
            "GroupNorm with epoch 93: 100%|██████████| 625/625 [00:04<00:00, 153.30it/s, Loss=0.00557]\n"
          ]
        },
        {
          "output_type": "stream",
          "name": "stdout",
          "text": [
            "Epoch 93, Loss: 0.005440636992454529, lr = 0.0006384786188522028\n"
          ]
        },
        {
          "output_type": "stream",
          "name": "stderr",
          "text": [
            "GroupNorm with epoch 94: 100%|██████████| 625/625 [00:03<00:00, 159.44it/s, Loss=0.00572]\n"
          ]
        },
        {
          "output_type": "stream",
          "name": "stdout",
          "text": [
            "Epoch 94, Loss: 0.005439729380607605, lr = 0.0006018483083100398\n"
          ]
        },
        {
          "output_type": "stream",
          "name": "stderr",
          "text": [
            "GroupNorm with epoch 95: 100%|██████████| 625/625 [00:03<00:00, 156.91it/s, Loss=0.00696]\n"
          ]
        },
        {
          "output_type": "stream",
          "name": "stdout",
          "text": [
            "Epoch 95, Loss: 0.005432836842536926, lr = 0.0005707920415779584\n"
          ]
        },
        {
          "output_type": "stream",
          "name": "stderr",
          "text": [
            "GroupNorm with epoch 96: 100%|██████████| 625/625 [00:04<00:00, 143.81it/s, Loss=0.00601]\n"
          ]
        },
        {
          "output_type": "stream",
          "name": "stdout",
          "text": [
            "Epoch 96, Loss: 0.005432408905029297, lr = 0.0005453404674417528\n"
          ]
        },
        {
          "output_type": "stream",
          "name": "stderr",
          "text": [
            "GroupNorm with epoch 97: 100%|██████████| 625/625 [00:04<00:00, 149.71it/s, Loss=0.00582]\n"
          ]
        },
        {
          "output_type": "stream",
          "name": "stdout",
          "text": [
            "Epoch 97, Loss: 0.005424558877944946, lr = 0.00052551870353229\n"
          ]
        },
        {
          "output_type": "stream",
          "name": "stderr",
          "text": [
            "GroupNorm with epoch 98: 100%|██████████| 625/625 [00:04<00:00, 153.09it/s, Loss=0.00551]\n"
          ]
        },
        {
          "output_type": "stream",
          "name": "stdout",
          "text": [
            "Epoch 98, Loss: 0.005426899671554565, lr = 0.0005113463115374385\n"
          ]
        },
        {
          "output_type": "stream",
          "name": "stderr",
          "text": [
            "GroupNorm with epoch 99: 100%|██████████| 625/625 [00:04<00:00, 149.92it/s, Loss=0.00705]\n"
          ]
        },
        {
          "output_type": "stream",
          "name": "stdout",
          "text": [
            "Epoch 99, Loss: 0.005416780400276184, lr = 0.0005028372778970433\n"
          ]
        },
        {
          "output_type": "stream",
          "name": "stderr",
          "text": [
            "GroupNorm with epoch 100: 100%|██████████| 625/625 [00:04<00:00, 155.76it/s, Loss=0.00503]\n"
          ]
        },
        {
          "output_type": "stream",
          "name": "stdout",
          "text": [
            "Epoch 100, Loss: 0.00541469783782959, lr = 0.0005\n",
            "Norm : BatchNorm, Batch Size: 8, Top1 Accuracy: 57.72%\n",
            "Norm : GroupNorm, Batch Size: 8, Top1 Accuracy: 59.61%\n",
            "ㅡㅡㅡㅡㅡㅡㅡㅡㅡㅡㅡㅡbatch_size: 8ㅡㅡㅡㅡㅡㅡㅡㅡㅡㅡㅡㅡㅡ\n",
            "\n",
            "ㅡㅡㅡㅡㅡㅡㅡㅡㅡㅡㅡㅡbatch_size: 16ㅡㅡㅡㅡㅡㅡㅡㅡㅡㅡㅡㅡㅡ\n"
          ]
        },
        {
          "output_type": "stream",
          "name": "stderr",
          "text": [
            "BatchNorm with epoch 1: 100%|██████████| 313/313 [00:02<00:00, 125.03it/s, Loss=1.41]\n"
          ]
        },
        {
          "output_type": "stream",
          "name": "stdout",
          "text": [
            "Epoch 1, Loss: 2.0234687975801218, lr = 0.011997162722102958\n"
          ]
        },
        {
          "output_type": "stream",
          "name": "stderr",
          "text": [
            "BatchNorm with epoch 2: 100%|██████████| 313/313 [00:02<00:00, 123.15it/s, Loss=1.1]\n"
          ]
        },
        {
          "output_type": "stream",
          "name": "stdout",
          "text": [
            "Epoch 2, Loss: 1.5157326646506215, lr = 0.011988653688462563\n"
          ]
        },
        {
          "output_type": "stream",
          "name": "stderr",
          "text": [
            "BatchNorm with epoch 3: 100%|██████████| 313/313 [00:02<00:00, 126.20it/s, Loss=1.23]\n"
          ]
        },
        {
          "output_type": "stream",
          "name": "stdout",
          "text": [
            "Epoch 3, Loss: 1.3358837529874077, lr = 0.011974481296467712\n"
          ]
        },
        {
          "output_type": "stream",
          "name": "stderr",
          "text": [
            "BatchNorm with epoch 4: 100%|██████████| 313/313 [00:02<00:00, 124.54it/s, Loss=1.24]\n"
          ]
        },
        {
          "output_type": "stream",
          "name": "stdout",
          "text": [
            "Epoch 4, Loss: 1.2147366596867863, lr = 0.01195465953255825\n"
          ]
        },
        {
          "output_type": "stream",
          "name": "stderr",
          "text": [
            "BatchNorm with epoch 5: 100%|██████████| 313/313 [00:02<00:00, 123.86it/s, Loss=1.02]\n"
          ]
        },
        {
          "output_type": "stream",
          "name": "stdout",
          "text": [
            "Epoch 5, Loss: 1.1015208673934205, lr = 0.011929207958422044\n"
          ]
        },
        {
          "output_type": "stream",
          "name": "stderr",
          "text": [
            "BatchNorm with epoch 6: 100%|██████████| 313/313 [00:02<00:00, 122.87it/s, Loss=1.92]\n"
          ]
        },
        {
          "output_type": "stream",
          "name": "stdout",
          "text": [
            "Epoch 6, Loss: 0.970182084618285, lr = 0.011898151691689963\n"
          ]
        },
        {
          "output_type": "stream",
          "name": "stderr",
          "text": [
            "BatchNorm with epoch 7: 100%|██████████| 313/313 [00:02<00:00, 120.88it/s, Loss=1.26]\n"
          ]
        },
        {
          "output_type": "stream",
          "name": "stdout",
          "text": [
            "Epoch 7, Loss: 0.8850742247157966, lr = 0.0118615213811478\n"
          ]
        },
        {
          "output_type": "stream",
          "name": "stderr",
          "text": [
            "BatchNorm with epoch 8: 100%|██████████| 313/313 [00:02<00:00, 124.29it/s, Loss=0.63]\n"
          ]
        },
        {
          "output_type": "stream",
          "name": "stdout",
          "text": [
            "Epoch 8, Loss: 0.7778622749895333, lr = 0.011819353176489631\n"
          ]
        },
        {
          "output_type": "stream",
          "name": "stderr",
          "text": [
            "BatchNorm with epoch 9: 100%|██████████| 313/313 [00:02<00:00, 122.97it/s, Loss=0.994]\n"
          ]
        },
        {
          "output_type": "stream",
          "name": "stdout",
          "text": [
            "Epoch 9, Loss: 0.6998956392938718, lr = 0.011771688692642425\n"
          ]
        },
        {
          "output_type": "stream",
          "name": "stderr",
          "text": [
            "BatchNorm with epoch 10: 100%|██████████| 313/313 [00:02<00:00, 125.56it/s, Loss=1.6]\n"
          ]
        },
        {
          "output_type": "stream",
          "name": "stdout",
          "text": [
            "Epoch 10, Loss: 0.6005004671054145, lr = 0.011718574968697135\n"
          ]
        },
        {
          "output_type": "stream",
          "name": "stderr",
          "text": [
            "BatchNorm with epoch 11: 100%|██████████| 313/313 [00:02<00:00, 122.70it/s, Loss=0.67]\n"
          ]
        },
        {
          "output_type": "stream",
          "name": "stdout",
          "text": [
            "Epoch 11, Loss: 0.5462840445125445, lr = 0.0116600644214868\n"
          ]
        },
        {
          "output_type": "stream",
          "name": "stderr",
          "text": [
            "BatchNorm with epoch 12: 100%|██████████| 313/313 [00:02<00:00, 122.93it/s, Loss=0.408]\n"
          ]
        },
        {
          "output_type": "stream",
          "name": "stdout",
          "text": [
            "Epoch 12, Loss: 0.4604071898582264, lr = 0.011596214793857449\n"
          ]
        },
        {
          "output_type": "stream",
          "name": "stderr",
          "text": [
            "BatchNorm with epoch 13: 100%|██████████| 313/313 [00:02<00:00, 123.66it/s, Loss=0.887]\n"
          ]
        },
        {
          "output_type": "stream",
          "name": "stdout",
          "text": [
            "Epoch 13, Loss: 0.39084280303682384, lr = 0.011527089097682894\n"
          ]
        },
        {
          "output_type": "stream",
          "name": "stderr",
          "text": [
            "BatchNorm with epoch 14: 100%|██████████| 313/313 [00:02<00:00, 119.33it/s, Loss=0.76]\n"
          ]
        },
        {
          "output_type": "stream",
          "name": "stdout",
          "text": [
            "Epoch 14, Loss: 0.32008912647589327, lr = 0.011452755551679615\n"
          ]
        },
        {
          "output_type": "stream",
          "name": "stderr",
          "text": [
            "BatchNorm with epoch 15: 100%|██████████| 313/313 [00:02<00:00, 119.76it/s, Loss=0.673]\n"
          ]
        },
        {
          "output_type": "stream",
          "name": "stdout",
          "text": [
            "Epoch 15, Loss: 0.29812059534814794, lr = 0.011373287514083117\n"
          ]
        },
        {
          "output_type": "stream",
          "name": "stderr",
          "text": [
            "BatchNorm with epoch 16: 100%|██████████| 313/313 [00:02<00:00, 119.35it/s, Loss=0.13]\n"
          ]
        },
        {
          "output_type": "stream",
          "name": "stdout",
          "text": [
            "Epoch 16, Loss: 0.2337398718768796, lr = 0.011288763410252218\n"
          ]
        },
        {
          "output_type": "stream",
          "name": "stderr",
          "text": [
            "BatchNorm with epoch 17: 100%|██████████| 313/313 [00:02<00:00, 124.53it/s, Loss=0.133]\n"
          ]
        },
        {
          "output_type": "stream",
          "name": "stdout",
          "text": [
            "Epoch 17, Loss: 0.19653646935955785, lr = 0.01119926665527268\n"
          ]
        },
        {
          "output_type": "stream",
          "name": "stderr",
          "text": [
            "BatchNorm with epoch 18: 100%|██████████| 313/313 [00:02<00:00, 124.53it/s, Loss=0.83]\n"
          ]
        },
        {
          "output_type": "stream",
          "name": "stdout",
          "text": [
            "Epoch 18, Loss: 0.17790932915271662, lr = 0.01110488557163659\n"
          ]
        },
        {
          "output_type": "stream",
          "name": "stderr",
          "text": [
            "BatchNorm with epoch 19: 100%|██████████| 313/313 [00:02<00:00, 124.45it/s, Loss=0.193]\n"
          ]
        },
        {
          "output_type": "stream",
          "name": "stdout",
          "text": [
            "Epoch 19, Loss: 0.18601652439505148, lr = 0.011005713302078734\n"
          ]
        },
        {
          "output_type": "stream",
          "name": "stderr",
          "text": [
            "BatchNorm with epoch 20: 100%|██████████| 313/313 [00:02<00:00, 124.10it/s, Loss=0.0365]\n"
          ]
        },
        {
          "output_type": "stream",
          "name": "stdout",
          "text": [
            "Epoch 20, Loss: 0.11662630834423315, lr = 0.010901847717655951\n"
          ]
        },
        {
          "output_type": "stream",
          "name": "stderr",
          "text": [
            "BatchNorm with epoch 21: 100%|██████████| 313/313 [00:02<00:00, 125.31it/s, Loss=0.0191]\n"
          ]
        },
        {
          "output_type": "stream",
          "name": "stdout",
          "text": [
            "Epoch 21, Loss: 0.08815902345382368, lr = 0.010793391321160221\n"
          ]
        },
        {
          "output_type": "stream",
          "name": "stderr",
          "text": [
            "BatchNorm with epoch 22: 100%|██████████| 313/313 [00:02<00:00, 127.22it/s, Loss=0.00319]\n"
          ]
        },
        {
          "output_type": "stream",
          "name": "stdout",
          "text": [
            "Epoch 22, Loss: 0.07788396507692032, lr = 0.01068045114596079\n"
          ]
        },
        {
          "output_type": "stream",
          "name": "stderr",
          "text": [
            "BatchNorm with epoch 23: 100%|██████████| 313/313 [00:02<00:00, 126.49it/s, Loss=0.114]\n"
          ]
        },
        {
          "output_type": "stream",
          "name": "stdout",
          "text": [
            "Epoch 23, Loss: 0.06539192393469734, lr = 0.010563138650375146\n"
          ]
        },
        {
          "output_type": "stream",
          "name": "stderr",
          "text": [
            "BatchNorm with epoch 24: 100%|██████████| 313/313 [00:02<00:00, 127.69it/s, Loss=0.0214]\n"
          ]
        },
        {
          "output_type": "stream",
          "name": "stdout",
          "text": [
            "Epoch 24, Loss: 0.05710331710001912, lr = 0.01044156960767312\n"
          ]
        },
        {
          "output_type": "stream",
          "name": "stderr",
          "text": [
            "BatchNorm with epoch 25: 100%|██████████| 313/313 [00:02<00:00, 125.25it/s, Loss=0.122]\n"
          ]
        },
        {
          "output_type": "stream",
          "name": "stdout",
          "text": [
            "Epoch 25, Loss: 0.03825547691351309, lr = 0.010315863991822652\n"
          ]
        },
        {
          "output_type": "stream",
          "name": "stderr",
          "text": [
            "BatchNorm with epoch 26: 100%|██████████| 313/313 [00:02<00:00, 128.67it/s, Loss=0.0202]\n"
          ]
        },
        {
          "output_type": "stream",
          "name": "stdout",
          "text": [
            "Epoch 26, Loss: 0.03653820818319869, lr = 0.010186145859089965\n"
          ]
        },
        {
          "output_type": "stream",
          "name": "stderr",
          "text": [
            "BatchNorm with epoch 27: 100%|██████████| 313/313 [00:02<00:00, 127.11it/s, Loss=0.051]\n"
          ]
        },
        {
          "output_type": "stream",
          "name": "stdout",
          "text": [
            "Epoch 27, Loss: 0.03059368992385011, lr = 0.010052543225611003\n"
          ]
        },
        {
          "output_type": "stream",
          "name": "stderr",
          "text": [
            "BatchNorm with epoch 28: 100%|██████████| 313/313 [00:02<00:00, 125.40it/s, Loss=0.0316]\n"
          ]
        },
        {
          "output_type": "stream",
          "name": "stdout",
          "text": [
            "Epoch 28, Loss: 0.017320388184187893, lr = 0.00991518794105497\n"
          ]
        },
        {
          "output_type": "stream",
          "name": "stderr",
          "text": [
            "BatchNorm with epoch 29: 100%|██████████| 313/313 [00:02<00:00, 127.82it/s, Loss=0.101]\n"
          ]
        },
        {
          "output_type": "stream",
          "name": "stdout",
          "text": [
            "Epoch 29, Loss: 0.01555751411678692, lr = 0.00977421555850462\n"
          ]
        },
        {
          "output_type": "stream",
          "name": "stderr",
          "text": [
            "BatchNorm with epoch 30: 100%|██████████| 313/313 [00:02<00:00, 125.08it/s, Loss=0.0104]\n"
          ]
        },
        {
          "output_type": "stream",
          "name": "stdout",
          "text": [
            "Epoch 30, Loss: 0.01207222311070171, lr = 0.009629765200681727\n"
          ]
        },
        {
          "output_type": "stream",
          "name": "stderr",
          "text": [
            "BatchNorm with epoch 31: 100%|██████████| 313/313 [00:02<00:00, 126.82it/s, Loss=0.0576]\n"
          ]
        },
        {
          "output_type": "stream",
          "name": "stdout",
          "text": [
            "Epoch 31, Loss: 0.010381453191510405, lr = 0.009481979422649757\n"
          ]
        },
        {
          "output_type": "stream",
          "name": "stderr",
          "text": [
            "BatchNorm with epoch 32: 100%|██████████| 313/313 [00:02<00:00, 126.11it/s, Loss=0.0607]\n"
          ]
        },
        {
          "output_type": "stream",
          "name": "stdout",
          "text": [
            "Epoch 32, Loss: 0.011321655025306982, lr = 0.009331004071129235\n"
          ]
        },
        {
          "output_type": "stream",
          "name": "stderr",
          "text": [
            "BatchNorm with epoch 33: 100%|██████████| 313/313 [00:02<00:00, 123.02it/s, Loss=0.0156]\n"
          ]
        },
        {
          "output_type": "stream",
          "name": "stdout",
          "text": [
            "Epoch 33, Loss: 0.010888315808658783, lr = 0.00917698814056464\n"
          ]
        },
        {
          "output_type": "stream",
          "name": "stderr",
          "text": [
            "BatchNorm with epoch 34: 100%|██████████| 313/313 [00:02<00:00, 120.31it/s, Loss=0.0037]\n"
          ]
        },
        {
          "output_type": "stream",
          "name": "stdout",
          "text": [
            "Epoch 34, Loss: 0.009285254624133673, lr = 0.009020083626084868\n"
          ]
        },
        {
          "output_type": "stream",
          "name": "stderr",
          "text": [
            "BatchNorm with epoch 35: 100%|██████████| 313/313 [00:02<00:00, 123.54it/s, Loss=0.00215]\n"
          ]
        },
        {
          "output_type": "stream",
          "name": "stdout",
          "text": [
            "Epoch 35, Loss: 0.009108676578099736, lr = 0.008860445373502399\n"
          ]
        },
        {
          "output_type": "stream",
          "name": "stderr",
          "text": [
            "BatchNorm with epoch 36: 100%|██████████| 313/313 [00:02<00:00, 125.43it/s, Loss=0.00645]\n"
          ]
        },
        {
          "output_type": "stream",
          "name": "stdout",
          "text": [
            "Epoch 36, Loss: 0.00802676041667073, lr = 0.008698230926499172\n"
          ]
        },
        {
          "output_type": "stream",
          "name": "stderr",
          "text": [
            "BatchNorm with epoch 37: 100%|██████████| 313/313 [00:02<00:00, 127.22it/s, Loss=0.00765]\n"
          ]
        },
        {
          "output_type": "stream",
          "name": "stdout",
          "text": [
            "Epoch 37, Loss: 0.008669032694432682, lr = 0.008533600371149993\n"
          ]
        },
        {
          "output_type": "stream",
          "name": "stderr",
          "text": [
            "BatchNorm with epoch 38: 100%|██████████| 313/313 [00:02<00:00, 124.70it/s, Loss=0.0317]\n"
          ]
        },
        {
          "output_type": "stream",
          "name": "stdout",
          "text": [
            "Epoch 38, Loss: 0.008838323168099498, lr = 0.008366716177936905\n"
          ]
        },
        {
          "output_type": "stream",
          "name": "stderr",
          "text": [
            "BatchNorm with epoch 39: 100%|██████████| 313/313 [00:02<00:00, 123.52it/s, Loss=0.0141]\n"
          ]
        },
        {
          "output_type": "stream",
          "name": "stdout",
          "text": [
            "Epoch 39, Loss: 0.007685417041610986, lr = 0.008197743041410431\n"
          ]
        },
        {
          "output_type": "stream",
          "name": "stderr",
          "text": [
            "BatchNorm with epoch 40: 100%|██████████| 313/313 [00:02<00:00, 127.78it/s, Loss=0.00916]\n"
          ]
        },
        {
          "output_type": "stream",
          "name": "stdout",
          "text": [
            "Epoch 40, Loss: 0.008158744143220945, lr = 0.008026847717655952\n"
          ]
        },
        {
          "output_type": "stream",
          "name": "stderr",
          "text": [
            "BatchNorm with epoch 41: 100%|██████████| 313/313 [00:02<00:00, 128.01it/s, Loss=0.00845]\n"
          ]
        },
        {
          "output_type": "stream",
          "name": "stdout",
          "text": [
            "Epoch 41, Loss: 0.00900623854547263, lr = 0.007854198859725573\n"
          ]
        },
        {
          "output_type": "stream",
          "name": "stderr",
          "text": [
            "BatchNorm with epoch 42: 100%|██████████| 313/313 [00:02<00:00, 126.27it/s, Loss=0.00839]\n"
          ]
        },
        {
          "output_type": "stream",
          "name": "stdout",
          "text": [
            "Epoch 42, Loss: 0.008691047089168439, lr = 0.007679966851197918\n"
          ]
        },
        {
          "output_type": "stream",
          "name": "stderr",
          "text": [
            "BatchNorm with epoch 43: 100%|██████████| 313/313 [00:02<00:00, 124.85it/s, Loss=0.00252]\n"
          ]
        },
        {
          "output_type": "stream",
          "name": "stdout",
          "text": [
            "Epoch 43, Loss: 0.008484674480776437, lr = 0.007504323638030124\n"
          ]
        },
        {
          "output_type": "stream",
          "name": "stderr",
          "text": [
            "BatchNorm with epoch 44: 100%|██████████| 313/313 [00:02<00:00, 125.86it/s, Loss=0.0568]\n"
          ]
        },
        {
          "output_type": "stream",
          "name": "stdout",
          "text": [
            "Epoch 44, Loss: 0.00814353974577718, lr = 0.007327442558867921\n"
          ]
        },
        {
          "output_type": "stream",
          "name": "stderr",
          "text": [
            "BatchNorm with epoch 45: 100%|██████████| 313/313 [00:02<00:00, 125.38it/s, Loss=0.00451]\n"
          ]
        },
        {
          "output_type": "stream",
          "name": "stdout",
          "text": [
            "Epoch 45, Loss: 0.009438414281359116, lr = 0.00714949817398133\n"
          ]
        },
        {
          "output_type": "stream",
          "name": "stderr",
          "text": [
            "BatchNorm with epoch 46: 100%|██████████| 313/313 [00:02<00:00, 126.91it/s, Loss=0.05]\n"
          ]
        },
        {
          "output_type": "stream",
          "name": "stdout",
          "text": [
            "Epoch 46, Loss: 0.008327931784593259, lr = 0.006970666092994753\n"
          ]
        },
        {
          "output_type": "stream",
          "name": "stderr",
          "text": [
            "BatchNorm with epoch 47: 100%|██████████| 313/313 [00:02<00:00, 125.46it/s, Loss=0.0044]\n"
          ]
        },
        {
          "output_type": "stream",
          "name": "stdout",
          "text": [
            "Epoch 47, Loss: 0.008933690861581613, lr = 0.006791122801581459\n"
          ]
        },
        {
          "output_type": "stream",
          "name": "stderr",
          "text": [
            "BatchNorm with epoch 48: 100%|██████████| 313/313 [00:02<00:00, 124.08it/s, Loss=0.0143]\n"
          ]
        },
        {
          "output_type": "stream",
          "name": "stdout",
          "text": [
            "Epoch 48, Loss: 0.007680087519910769, lr = 0.006611045487293554\n"
          ]
        },
        {
          "output_type": "stream",
          "name": "stderr",
          "text": [
            "BatchNorm with epoch 49: 100%|██████████| 313/313 [00:02<00:00, 126.79it/s, Loss=0.02]\n"
          ]
        },
        {
          "output_type": "stream",
          "name": "stdout",
          "text": [
            "Epoch 49, Loss: 0.0074531436918642575, lr = 0.006430611864699239\n"
          ]
        },
        {
          "output_type": "stream",
          "name": "stderr",
          "text": [
            "BatchNorm with epoch 50: 100%|██████████| 313/313 [00:02<00:00, 127.19it/s, Loss=0.025]\n"
          ]
        },
        {
          "output_type": "stream",
          "name": "stdout",
          "text": [
            "Epoch 50, Loss: 0.00841603866114784, lr = 0.00625\n"
          ]
        },
        {
          "output_type": "stream",
          "name": "stderr",
          "text": [
            "BatchNorm with epoch 51: 100%|██████████| 313/313 [00:02<00:00, 128.27it/s, Loss=0.00937]\n"
          ]
        },
        {
          "output_type": "stream",
          "name": "stdout",
          "text": [
            "Epoch 51, Loss: 0.007834428724960778, lr = 0.006069388135300762\n"
          ]
        },
        {
          "output_type": "stream",
          "name": "stderr",
          "text": [
            "BatchNorm with epoch 52: 100%|██████████| 313/313 [00:02<00:00, 126.66it/s, Loss=0.014]\n"
          ]
        },
        {
          "output_type": "stream",
          "name": "stdout",
          "text": [
            "Epoch 52, Loss: 0.007957771087226015, lr = 0.005888954512706447\n"
          ]
        },
        {
          "output_type": "stream",
          "name": "stderr",
          "text": [
            "BatchNorm with epoch 53: 100%|██████████| 313/313 [00:02<00:00, 125.41it/s, Loss=0.00591]\n"
          ]
        },
        {
          "output_type": "stream",
          "name": "stdout",
          "text": [
            "Epoch 53, Loss: 0.007444479214116788, lr = 0.005708877198418541\n"
          ]
        },
        {
          "output_type": "stream",
          "name": "stderr",
          "text": [
            "BatchNorm with epoch 54: 100%|██████████| 313/313 [00:02<00:00, 128.93it/s, Loss=0.00907]\n"
          ]
        },
        {
          "output_type": "stream",
          "name": "stdout",
          "text": [
            "Epoch 54, Loss: 0.008277223133050595, lr = 0.0055293339070052495\n"
          ]
        },
        {
          "output_type": "stream",
          "name": "stderr",
          "text": [
            "BatchNorm with epoch 55: 100%|██████████| 313/313 [00:02<00:00, 128.83it/s, Loss=0.00525]\n"
          ]
        },
        {
          "output_type": "stream",
          "name": "stdout",
          "text": [
            "Epoch 55, Loss: 0.00798023596834451, lr = 0.005350501826018671\n"
          ]
        },
        {
          "output_type": "stream",
          "name": "stderr",
          "text": [
            "BatchNorm with epoch 56: 100%|██████████| 313/313 [00:02<00:00, 124.83it/s, Loss=0.0081]\n"
          ]
        },
        {
          "output_type": "stream",
          "name": "stdout",
          "text": [
            "Epoch 56, Loss: 0.007188242321578078, lr = 0.005172557441132082\n"
          ]
        },
        {
          "output_type": "stream",
          "name": "stderr",
          "text": [
            "BatchNorm with epoch 57: 100%|██████████| 313/313 [00:02<00:00, 122.57it/s, Loss=0.00488]\n"
          ]
        },
        {
          "output_type": "stream",
          "name": "stdout",
          "text": [
            "Epoch 57, Loss: 0.007672267623793203, lr = 0.00499567636196988\n"
          ]
        },
        {
          "output_type": "stream",
          "name": "stderr",
          "text": [
            "BatchNorm with epoch 58: 100%|██████████| 313/313 [00:02<00:00, 118.20it/s, Loss=0.0011]\n"
          ]
        },
        {
          "output_type": "stream",
          "name": "stdout",
          "text": [
            "Epoch 58, Loss: 0.007390280120288983, lr = 0.004820033148802083\n"
          ]
        },
        {
          "output_type": "stream",
          "name": "stderr",
          "text": [
            "BatchNorm with epoch 59: 100%|██████████| 313/313 [00:02<00:00, 126.41it/s, Loss=0.0184]\n"
          ]
        },
        {
          "output_type": "stream",
          "name": "stdout",
          "text": [
            "Epoch 59, Loss: 0.007411974544723194, lr = 0.004645801140274431\n"
          ]
        },
        {
          "output_type": "stream",
          "name": "stderr",
          "text": [
            "BatchNorm with epoch 60: 100%|██████████| 313/313 [00:02<00:00, 128.37it/s, Loss=0.0101]\n"
          ]
        },
        {
          "output_type": "stream",
          "name": "stdout",
          "text": [
            "Epoch 60, Loss: 0.007297113847237425, lr = 0.004473152282344052\n"
          ]
        },
        {
          "output_type": "stream",
          "name": "stderr",
          "text": [
            "BatchNorm with epoch 61: 100%|██████████| 313/313 [00:02<00:00, 127.15it/s, Loss=0.00626]\n"
          ]
        },
        {
          "output_type": "stream",
          "name": "stdout",
          "text": [
            "Epoch 61, Loss: 0.007229556409886089, lr = 0.004302256958589572\n"
          ]
        },
        {
          "output_type": "stream",
          "name": "stderr",
          "text": [
            "BatchNorm with epoch 62: 100%|██████████| 313/313 [00:02<00:00, 124.28it/s, Loss=0.0124]\n"
          ]
        },
        {
          "output_type": "stream",
          "name": "stdout",
          "text": [
            "Epoch 62, Loss: 0.0073539933409934605, lr = 0.004133283822063101\n"
          ]
        },
        {
          "output_type": "stream",
          "name": "stderr",
          "text": [
            "BatchNorm with epoch 63: 100%|██████████| 313/313 [00:02<00:00, 125.81it/s, Loss=0.0219]\n"
          ]
        },
        {
          "output_type": "stream",
          "name": "stdout",
          "text": [
            "Epoch 63, Loss: 0.006970794984517387, lr = 0.003966399628850009\n"
          ]
        },
        {
          "output_type": "stream",
          "name": "stderr",
          "text": [
            "BatchNorm with epoch 64: 100%|██████████| 313/313 [00:02<00:00, 127.82it/s, Loss=0.0102]\n"
          ]
        },
        {
          "output_type": "stream",
          "name": "stdout",
          "text": [
            "Epoch 64, Loss: 0.007388422616754477, lr = 0.0038017690735008304\n"
          ]
        },
        {
          "output_type": "stream",
          "name": "stderr",
          "text": [
            "BatchNorm with epoch 65: 100%|██████████| 313/313 [00:02<00:00, 128.84it/s, Loss=0.0139]\n"
          ]
        },
        {
          "output_type": "stream",
          "name": "stdout",
          "text": [
            "Epoch 65, Loss: 0.007264681041431123, lr = 0.0036395546264976044\n"
          ]
        },
        {
          "output_type": "stream",
          "name": "stderr",
          "text": [
            "BatchNorm with epoch 66: 100%|██████████| 313/313 [00:02<00:00, 126.37it/s, Loss=0.0307]\n"
          ]
        },
        {
          "output_type": "stream",
          "name": "stdout",
          "text": [
            "Epoch 66, Loss: 0.007124262043652824, lr = 0.0034799163739151345\n"
          ]
        },
        {
          "output_type": "stream",
          "name": "stderr",
          "text": [
            "BatchNorm with epoch 67: 100%|██████████| 313/313 [00:02<00:00, 120.74it/s, Loss=0.0092]\n"
          ]
        },
        {
          "output_type": "stream",
          "name": "stdout",
          "text": [
            "Epoch 67, Loss: 0.006847294089131462, lr = 0.0033230118594353634\n"
          ]
        },
        {
          "output_type": "stream",
          "name": "stderr",
          "text": [
            "BatchNorm with epoch 68: 100%|██████████| 313/313 [00:02<00:00, 128.18it/s, Loss=0.0119]\n"
          ]
        },
        {
          "output_type": "stream",
          "name": "stdout",
          "text": [
            "Epoch 68, Loss: 0.006886004092403875, lr = 0.0031689959288707667\n"
          ]
        },
        {
          "output_type": "stream",
          "name": "stderr",
          "text": [
            "BatchNorm with epoch 69: 100%|██████████| 313/313 [00:02<00:00, 128.35it/s, Loss=0.00604]\n"
          ]
        },
        {
          "output_type": "stream",
          "name": "stdout",
          "text": [
            "Epoch 69, Loss: 0.00708928973244402, lr = 0.0030180205773502476\n"
          ]
        },
        {
          "output_type": "stream",
          "name": "stderr",
          "text": [
            "BatchNorm with epoch 70: 100%|██████████| 313/313 [00:02<00:00, 126.52it/s, Loss=0.00598]\n"
          ]
        },
        {
          "output_type": "stream",
          "name": "stdout",
          "text": [
            "Epoch 70, Loss: 0.00745624646592064, lr = 0.0028702347993182793\n"
          ]
        },
        {
          "output_type": "stream",
          "name": "stderr",
          "text": [
            "BatchNorm with epoch 71: 100%|██████████| 313/313 [00:02<00:00, 124.60it/s, Loss=0.0561]\n"
          ]
        },
        {
          "output_type": "stream",
          "name": "stdout",
          "text": [
            "Epoch 71, Loss: 0.007284232340872097, lr = 0.002725784441495384\n"
          ]
        },
        {
          "output_type": "stream",
          "name": "stderr",
          "text": [
            "BatchNorm with epoch 72: 100%|██████████| 313/313 [00:02<00:00, 122.06it/s, Loss=0.00324]\n"
          ]
        },
        {
          "output_type": "stream",
          "name": "stdout",
          "text": [
            "Epoch 72, Loss: 0.007248879764407587, lr = 0.0025848120589450334\n"
          ]
        },
        {
          "output_type": "stream",
          "name": "stderr",
          "text": [
            "BatchNorm with epoch 73: 100%|██████████| 313/313 [00:02<00:00, 127.77it/s, Loss=0.00631]\n"
          ]
        },
        {
          "output_type": "stream",
          "name": "stdout",
          "text": [
            "Epoch 73, Loss: 0.006985567248286531, lr = 0.0024474567743890023\n"
          ]
        },
        {
          "output_type": "stream",
          "name": "stderr",
          "text": [
            "BatchNorm with epoch 74: 100%|██████████| 313/313 [00:02<00:00, 127.31it/s, Loss=0.00361]\n"
          ]
        },
        {
          "output_type": "stream",
          "name": "stdout",
          "text": [
            "Epoch 74, Loss: 0.006982442860405285, lr = 0.0023138541409100395\n"
          ]
        },
        {
          "output_type": "stream",
          "name": "stderr",
          "text": [
            "BatchNorm with epoch 75: 100%|██████████| 313/313 [00:02<00:00, 128.57it/s, Loss=0.00278]\n"
          ]
        },
        {
          "output_type": "stream",
          "name": "stdout",
          "text": [
            "Epoch 75, Loss: 0.006501259395299247, lr = 0.0021841360081773517\n"
          ]
        },
        {
          "output_type": "stream",
          "name": "stderr",
          "text": [
            "BatchNorm with epoch 76: 100%|██████████| 313/313 [00:02<00:00, 123.78it/s, Loss=0.00186]\n"
          ]
        },
        {
          "output_type": "stream",
          "name": "stdout",
          "text": [
            "Epoch 76, Loss: 0.0071202467758053785, lr = 0.0020584303923268845\n"
          ]
        },
        {
          "output_type": "stream",
          "name": "stderr",
          "text": [
            "BatchNorm with epoch 77: 100%|██████████| 313/313 [00:02<00:00, 125.07it/s, Loss=0.0113]\n"
          ]
        },
        {
          "output_type": "stream",
          "name": "stdout",
          "text": [
            "Epoch 77, Loss: 0.007436110736272586, lr = 0.0019368613496248569\n"
          ]
        },
        {
          "output_type": "stream",
          "name": "stderr",
          "text": [
            "BatchNorm with epoch 78: 100%|██████████| 313/313 [00:02<00:00, 127.30it/s, Loss=0.0155]\n"
          ]
        },
        {
          "output_type": "stream",
          "name": "stdout",
          "text": [
            "Epoch 78, Loss: 0.00669669169492234, lr = 0.001819548854039212\n"
          ]
        },
        {
          "output_type": "stream",
          "name": "stderr",
          "text": [
            "BatchNorm with epoch 79: 100%|██████████| 313/313 [00:02<00:00, 127.79it/s, Loss=0.00625]\n"
          ]
        },
        {
          "output_type": "stream",
          "name": "stdout",
          "text": [
            "Epoch 79, Loss: 0.006535188077737729, lr = 0.0017066086788397798\n"
          ]
        },
        {
          "output_type": "stream",
          "name": "stderr",
          "text": [
            "BatchNorm with epoch 80: 100%|██████████| 313/313 [00:02<00:00, 126.84it/s, Loss=0.00542]\n"
          ]
        },
        {
          "output_type": "stream",
          "name": "stdout",
          "text": [
            "Epoch 80, Loss: 0.006909813577184281, lr = 0.0015981522823440525\n"
          ]
        },
        {
          "output_type": "stream",
          "name": "stderr",
          "text": [
            "BatchNorm with epoch 81: 100%|██████████| 313/313 [00:02<00:00, 119.50it/s, Loss=0.0053]\n"
          ]
        },
        {
          "output_type": "stream",
          "name": "stdout",
          "text": [
            "Epoch 81, Loss: 0.006679461334650509, lr = 0.0014942866979212699\n"
          ]
        },
        {
          "output_type": "stream",
          "name": "stderr",
          "text": [
            "BatchNorm with epoch 82: 100%|██████████| 313/313 [00:02<00:00, 128.58it/s, Loss=0.00414]\n"
          ]
        },
        {
          "output_type": "stream",
          "name": "stdout",
          "text": [
            "Epoch 82, Loss: 0.006926308234278767, lr = 0.0013951144283634144\n"
          ]
        },
        {
          "output_type": "stream",
          "name": "stderr",
          "text": [
            "BatchNorm with epoch 83: 100%|██████████| 313/313 [00:02<00:00, 128.95it/s, Loss=0.00276]\n"
          ]
        },
        {
          "output_type": "stream",
          "name": "stdout",
          "text": [
            "Epoch 83, Loss: 0.006933160411854522, lr = 0.0013007333447273232\n"
          ]
        },
        {
          "output_type": "stream",
          "name": "stderr",
          "text": [
            "BatchNorm with epoch 84: 100%|██████████| 313/313 [00:02<00:00, 127.04it/s, Loss=0.00454]\n"
          ]
        },
        {
          "output_type": "stream",
          "name": "stdout",
          "text": [
            "Epoch 84, Loss: 0.0065476008640310635, lr = 0.0012112365897477841\n"
          ]
        },
        {
          "output_type": "stream",
          "name": "stderr",
          "text": [
            "BatchNorm with epoch 85: 100%|██████████| 313/313 [00:02<00:00, 126.78it/s, Loss=0.00323]\n"
          ]
        },
        {
          "output_type": "stream",
          "name": "stdout",
          "text": [
            "Epoch 85, Loss: 0.00675251646735036, lr = 0.001126712485916885\n"
          ]
        },
        {
          "output_type": "stream",
          "name": "stderr",
          "text": [
            "BatchNorm with epoch 86: 100%|██████████| 313/313 [00:02<00:00, 121.52it/s, Loss=0.0174]\n"
          ]
        },
        {
          "output_type": "stream",
          "name": "stdout",
          "text": [
            "Epoch 86, Loss: 0.006819780094745441, lr = 0.0010472444483203885\n"
          ]
        },
        {
          "output_type": "stream",
          "name": "stderr",
          "text": [
            "BatchNorm with epoch 87: 100%|██████████| 313/313 [00:02<00:00, 128.47it/s, Loss=0.00418]\n"
          ]
        },
        {
          "output_type": "stream",
          "name": "stdout",
          "text": [
            "Epoch 87, Loss: 0.007245755995424411, lr = 0.0009729109023171096\n"
          ]
        },
        {
          "output_type": "stream",
          "name": "stderr",
          "text": [
            "BatchNorm with epoch 88: 100%|██████████| 313/313 [00:02<00:00, 127.73it/s, Loss=0.00958]\n"
          ]
        },
        {
          "output_type": "stream",
          "name": "stdout",
          "text": [
            "Epoch 88, Loss: 0.00656758760587095, lr = 0.0009037852061425547\n"
          ]
        },
        {
          "output_type": "stream",
          "name": "stderr",
          "text": [
            "BatchNorm with epoch 89: 100%|██████████| 313/313 [00:02<00:00, 127.70it/s, Loss=0.00516]\n"
          ]
        },
        {
          "output_type": "stream",
          "name": "stdout",
          "text": [
            "Epoch 89, Loss: 0.006924149922479075, lr = 0.0008399355785132036\n"
          ]
        },
        {
          "output_type": "stream",
          "name": "stderr",
          "text": [
            "BatchNorm with epoch 90: 100%|██████████| 313/313 [00:02<00:00, 123.58it/s, Loss=0.0202]\n"
          ]
        },
        {
          "output_type": "stream",
          "name": "stdout",
          "text": [
            "Epoch 90, Loss: 0.006966043965885052, lr = 0.0007814250313028671\n"
          ]
        },
        {
          "output_type": "stream",
          "name": "stderr",
          "text": [
            "BatchNorm with epoch 91: 100%|██████████| 313/313 [00:02<00:00, 124.11it/s, Loss=0.00589]\n"
          ]
        },
        {
          "output_type": "stream",
          "name": "stdout",
          "text": [
            "Epoch 91, Loss: 0.006706973377127236, lr = 0.0007283113073575779\n"
          ]
        },
        {
          "output_type": "stream",
          "name": "stderr",
          "text": [
            "BatchNorm with epoch 92: 100%|██████████| 313/313 [00:02<00:00, 127.49it/s, Loss=0.00532]\n"
          ]
        },
        {
          "output_type": "stream",
          "name": "stdout",
          "text": [
            "Epoch 92, Loss: 0.006391834979430555, lr = 0.0006806468235103719\n"
          ]
        },
        {
          "output_type": "stream",
          "name": "stderr",
          "text": [
            "BatchNorm with epoch 93: 100%|██████████| 313/313 [00:02<00:00, 125.75it/s, Loss=0.0151]\n"
          ]
        },
        {
          "output_type": "stream",
          "name": "stdout",
          "text": [
            "Epoch 93, Loss: 0.0068062587905996525, lr = 0.0006384786188522028\n"
          ]
        },
        {
          "output_type": "stream",
          "name": "stderr",
          "text": [
            "BatchNorm with epoch 94: 100%|██████████| 313/313 [00:02<00:00, 125.54it/s, Loss=0.00874]\n"
          ]
        },
        {
          "output_type": "stream",
          "name": "stdout",
          "text": [
            "Epoch 94, Loss: 0.006676027235893396, lr = 0.0006018483083100398\n"
          ]
        },
        {
          "output_type": "stream",
          "name": "stderr",
          "text": [
            "BatchNorm with epoch 95: 100%|██████████| 313/313 [00:02<00:00, 118.63it/s, Loss=0.00839]\n"
          ]
        },
        {
          "output_type": "stream",
          "name": "stdout",
          "text": [
            "Epoch 95, Loss: 0.006652663786190387, lr = 0.0005707920415779584\n"
          ]
        },
        {
          "output_type": "stream",
          "name": "stderr",
          "text": [
            "BatchNorm with epoch 96: 100%|██████████| 313/313 [00:02<00:00, 127.08it/s, Loss=0.00363]\n"
          ]
        },
        {
          "output_type": "stream",
          "name": "stdout",
          "text": [
            "Epoch 96, Loss: 0.006426000223753932, lr = 0.0005453404674417528\n"
          ]
        },
        {
          "output_type": "stream",
          "name": "stderr",
          "text": [
            "BatchNorm with epoch 97: 100%|██████████| 313/313 [00:02<00:00, 127.38it/s, Loss=0.00982]\n"
          ]
        },
        {
          "output_type": "stream",
          "name": "stdout",
          "text": [
            "Epoch 97, Loss: 0.006711323921101543, lr = 0.00052551870353229\n"
          ]
        },
        {
          "output_type": "stream",
          "name": "stderr",
          "text": [
            "BatchNorm with epoch 98: 100%|██████████| 313/313 [00:02<00:00, 125.91it/s, Loss=0.0264]\n"
          ]
        },
        {
          "output_type": "stream",
          "name": "stdout",
          "text": [
            "Epoch 98, Loss: 0.006752233987989517, lr = 0.0005113463115374385\n"
          ]
        },
        {
          "output_type": "stream",
          "name": "stderr",
          "text": [
            "BatchNorm with epoch 99: 100%|██████████| 313/313 [00:02<00:00, 124.59it/s, Loss=0.0485]\n"
          ]
        },
        {
          "output_type": "stream",
          "name": "stdout",
          "text": [
            "Epoch 99, Loss: 0.006836582034731063, lr = 0.0005028372778970433\n"
          ]
        },
        {
          "output_type": "stream",
          "name": "stderr",
          "text": [
            "BatchNorm with epoch 100: 100%|██████████| 313/313 [00:02<00:00, 121.15it/s, Loss=0.0105]\n"
          ]
        },
        {
          "output_type": "stream",
          "name": "stdout",
          "text": [
            "Epoch 100, Loss: 0.006872456009014727, lr = 0.0005\n"
          ]
        },
        {
          "output_type": "stream",
          "name": "stderr",
          "text": [
            "GroupNorm with epoch 1: 100%|██████████| 313/313 [00:02<00:00, 123.92it/s, Loss=1.81]\n"
          ]
        },
        {
          "output_type": "stream",
          "name": "stdout",
          "text": [
            "Epoch 1, Loss: 1.97474485159682, lr = 0.011997162722102958\n"
          ]
        },
        {
          "output_type": "stream",
          "name": "stderr",
          "text": [
            "GroupNorm with epoch 2: 100%|██████████| 313/313 [00:02<00:00, 123.89it/s, Loss=1.3]\n"
          ]
        },
        {
          "output_type": "stream",
          "name": "stdout",
          "text": [
            "Epoch 2, Loss: 1.5609484297779803, lr = 0.011988653688462563\n"
          ]
        },
        {
          "output_type": "stream",
          "name": "stderr",
          "text": [
            "GroupNorm with epoch 3: 100%|██████████| 313/313 [00:02<00:00, 123.16it/s, Loss=1.37]\n"
          ]
        },
        {
          "output_type": "stream",
          "name": "stdout",
          "text": [
            "Epoch 3, Loss: 1.372855421072378, lr = 0.011974481296467712\n"
          ]
        },
        {
          "output_type": "stream",
          "name": "stderr",
          "text": [
            "GroupNorm with epoch 4: 100%|██████████| 313/313 [00:02<00:00, 118.44it/s, Loss=0.99]\n"
          ]
        },
        {
          "output_type": "stream",
          "name": "stdout",
          "text": [
            "Epoch 4, Loss: 1.2363064220538154, lr = 0.01195465953255825\n"
          ]
        },
        {
          "output_type": "stream",
          "name": "stderr",
          "text": [
            "GroupNorm with epoch 5: 100%|██████████| 313/313 [00:02<00:00, 119.10it/s, Loss=1.02]\n"
          ]
        },
        {
          "output_type": "stream",
          "name": "stdout",
          "text": [
            "Epoch 5, Loss: 1.1311167954636838, lr = 0.011929207958422044\n"
          ]
        },
        {
          "output_type": "stream",
          "name": "stderr",
          "text": [
            "GroupNorm with epoch 6: 100%|██████████| 313/313 [00:02<00:00, 122.51it/s, Loss=0.946]\n"
          ]
        },
        {
          "output_type": "stream",
          "name": "stdout",
          "text": [
            "Epoch 6, Loss: 1.017934915737603, lr = 0.011898151691689963\n"
          ]
        },
        {
          "output_type": "stream",
          "name": "stderr",
          "text": [
            "GroupNorm with epoch 7: 100%|██████████| 313/313 [00:02<00:00, 119.72it/s, Loss=0.948]\n"
          ]
        },
        {
          "output_type": "stream",
          "name": "stdout",
          "text": [
            "Epoch 7, Loss: 0.9170955354794146, lr = 0.0118615213811478\n"
          ]
        },
        {
          "output_type": "stream",
          "name": "stderr",
          "text": [
            "GroupNorm with epoch 8: 100%|██████████| 313/313 [00:02<00:00, 115.76it/s, Loss=1.92]\n"
          ]
        },
        {
          "output_type": "stream",
          "name": "stdout",
          "text": [
            "Epoch 8, Loss: 0.8085528250319508, lr = 0.011819353176489631\n"
          ]
        },
        {
          "output_type": "stream",
          "name": "stderr",
          "text": [
            "GroupNorm with epoch 9: 100%|██████████| 313/313 [00:02<00:00, 114.85it/s, Loss=0.312]\n"
          ]
        },
        {
          "output_type": "stream",
          "name": "stdout",
          "text": [
            "Epoch 9, Loss: 0.707812220334245, lr = 0.011771688692642425\n"
          ]
        },
        {
          "output_type": "stream",
          "name": "stderr",
          "text": [
            "GroupNorm with epoch 10: 100%|██████████| 313/313 [00:02<00:00, 120.74it/s, Loss=1.53]\n"
          ]
        },
        {
          "output_type": "stream",
          "name": "stdout",
          "text": [
            "Epoch 10, Loss: 0.6313069470393391, lr = 0.011718574968697135\n"
          ]
        },
        {
          "output_type": "stream",
          "name": "stderr",
          "text": [
            "GroupNorm with epoch 11: 100%|██████████| 313/313 [00:02<00:00, 121.94it/s, Loss=0.261]\n"
          ]
        },
        {
          "output_type": "stream",
          "name": "stdout",
          "text": [
            "Epoch 11, Loss: 0.5374587237263639, lr = 0.0116600644214868\n"
          ]
        },
        {
          "output_type": "stream",
          "name": "stderr",
          "text": [
            "GroupNorm with epoch 12: 100%|██████████| 313/313 [00:02<00:00, 118.70it/s, Loss=0.863]\n"
          ]
        },
        {
          "output_type": "stream",
          "name": "stdout",
          "text": [
            "Epoch 12, Loss: 0.4573414827973698, lr = 0.011596214793857449\n"
          ]
        },
        {
          "output_type": "stream",
          "name": "stderr",
          "text": [
            "GroupNorm with epoch 13: 100%|██████████| 313/313 [00:02<00:00, 116.33it/s, Loss=0.307]\n"
          ]
        },
        {
          "output_type": "stream",
          "name": "stdout",
          "text": [
            "Epoch 13, Loss: 0.3638088083305298, lr = 0.011527089097682894\n"
          ]
        },
        {
          "output_type": "stream",
          "name": "stderr",
          "text": [
            "GroupNorm with epoch 14: 100%|██████████| 313/313 [00:02<00:00, 120.78it/s, Loss=0.227]\n"
          ]
        },
        {
          "output_type": "stream",
          "name": "stdout",
          "text": [
            "Epoch 14, Loss: 0.3175798894022219, lr = 0.011452755551679615\n"
          ]
        },
        {
          "output_type": "stream",
          "name": "stderr",
          "text": [
            "GroupNorm with epoch 15: 100%|██████████| 313/313 [00:02<00:00, 123.24it/s, Loss=0.309]\n"
          ]
        },
        {
          "output_type": "stream",
          "name": "stdout",
          "text": [
            "Epoch 15, Loss: 0.2629758862974926, lr = 0.011373287514083117\n"
          ]
        },
        {
          "output_type": "stream",
          "name": "stderr",
          "text": [
            "GroupNorm with epoch 16: 100%|██████████| 313/313 [00:02<00:00, 123.42it/s, Loss=0.604]\n"
          ]
        },
        {
          "output_type": "stream",
          "name": "stdout",
          "text": [
            "Epoch 16, Loss: 0.2079789567584047, lr = 0.011288763410252218\n"
          ]
        },
        {
          "output_type": "stream",
          "name": "stderr",
          "text": [
            "GroupNorm with epoch 17: 100%|██████████| 313/313 [00:02<00:00, 123.78it/s, Loss=0.25]\n"
          ]
        },
        {
          "output_type": "stream",
          "name": "stdout",
          "text": [
            "Epoch 17, Loss: 0.17885925477971665, lr = 0.01119926665527268\n"
          ]
        },
        {
          "output_type": "stream",
          "name": "stderr",
          "text": [
            "GroupNorm with epoch 18: 100%|██████████| 313/313 [00:02<00:00, 117.94it/s, Loss=0.365]\n"
          ]
        },
        {
          "output_type": "stream",
          "name": "stdout",
          "text": [
            "Epoch 18, Loss: 0.10125821550338032, lr = 0.01110488557163659\n"
          ]
        },
        {
          "output_type": "stream",
          "name": "stderr",
          "text": [
            "GroupNorm with epoch 19: 100%|██████████| 313/313 [00:02<00:00, 124.15it/s, Loss=0.0159]\n"
          ]
        },
        {
          "output_type": "stream",
          "name": "stdout",
          "text": [
            "Epoch 19, Loss: 0.09000039548157884, lr = 0.011005713302078734\n"
          ]
        },
        {
          "output_type": "stream",
          "name": "stderr",
          "text": [
            "GroupNorm with epoch 20: 100%|██████████| 313/313 [00:02<00:00, 124.77it/s, Loss=0.00831]\n"
          ]
        },
        {
          "output_type": "stream",
          "name": "stdout",
          "text": [
            "Epoch 20, Loss: 0.043581819310546305, lr = 0.010901847717655951\n"
          ]
        },
        {
          "output_type": "stream",
          "name": "stderr",
          "text": [
            "GroupNorm with epoch 21: 100%|██████████| 313/313 [00:02<00:00, 122.68it/s, Loss=0.0168]\n"
          ]
        },
        {
          "output_type": "stream",
          "name": "stdout",
          "text": [
            "Epoch 21, Loss: 0.016173577251525732, lr = 0.010793391321160221\n"
          ]
        },
        {
          "output_type": "stream",
          "name": "stderr",
          "text": [
            "GroupNorm with epoch 22: 100%|██████████| 313/313 [00:02<00:00, 119.31it/s, Loss=0.00436]\n"
          ]
        },
        {
          "output_type": "stream",
          "name": "stdout",
          "text": [
            "Epoch 22, Loss: 0.007840051271092777, lr = 0.01068045114596079\n"
          ]
        },
        {
          "output_type": "stream",
          "name": "stderr",
          "text": [
            "GroupNorm with epoch 23: 100%|██████████| 313/313 [00:02<00:00, 118.62it/s, Loss=0.00336]\n"
          ]
        },
        {
          "output_type": "stream",
          "name": "stdout",
          "text": [
            "Epoch 23, Loss: 0.006631088356811779, lr = 0.010563138650375146\n"
          ]
        },
        {
          "output_type": "stream",
          "name": "stderr",
          "text": [
            "GroupNorm with epoch 24: 100%|██████████| 313/313 [00:02<00:00, 124.03it/s, Loss=0.00615]\n"
          ]
        },
        {
          "output_type": "stream",
          "name": "stdout",
          "text": [
            "Epoch 24, Loss: 0.0061068407500894685, lr = 0.01044156960767312\n"
          ]
        },
        {
          "output_type": "stream",
          "name": "stderr",
          "text": [
            "GroupNorm with epoch 25: 100%|██████████| 313/313 [00:02<00:00, 123.15it/s, Loss=0.00395]\n"
          ]
        },
        {
          "output_type": "stream",
          "name": "stdout",
          "text": [
            "Epoch 25, Loss: 0.0058885487123800165, lr = 0.010315863991822652\n"
          ]
        },
        {
          "output_type": "stream",
          "name": "stderr",
          "text": [
            "GroupNorm with epoch 26: 100%|██████████| 313/313 [00:02<00:00, 123.79it/s, Loss=0.00489]\n"
          ]
        },
        {
          "output_type": "stream",
          "name": "stdout",
          "text": [
            "Epoch 26, Loss: 0.0056968108771708065, lr = 0.010186145859089965\n"
          ]
        },
        {
          "output_type": "stream",
          "name": "stderr",
          "text": [
            "GroupNorm with epoch 27: 100%|██████████| 313/313 [00:02<00:00, 117.79it/s, Loss=0.0069]\n"
          ]
        },
        {
          "output_type": "stream",
          "name": "stdout",
          "text": [
            "Epoch 27, Loss: 0.005601918902069616, lr = 0.010052543225611003\n"
          ]
        },
        {
          "output_type": "stream",
          "name": "stderr",
          "text": [
            "GroupNorm with epoch 28: 100%|██████████| 313/313 [00:02<00:00, 123.25it/s, Loss=0.00617]\n"
          ]
        },
        {
          "output_type": "stream",
          "name": "stdout",
          "text": [
            "Epoch 28, Loss: 0.005562334253003422, lr = 0.00991518794105497\n"
          ]
        },
        {
          "output_type": "stream",
          "name": "stderr",
          "text": [
            "GroupNorm with epoch 29: 100%|██████████| 313/313 [00:02<00:00, 124.68it/s, Loss=0.00443]\n"
          ]
        },
        {
          "output_type": "stream",
          "name": "stdout",
          "text": [
            "Epoch 29, Loss: 0.005524976827656499, lr = 0.00977421555850462\n"
          ]
        },
        {
          "output_type": "stream",
          "name": "stderr",
          "text": [
            "GroupNorm with epoch 30: 100%|██████████| 313/313 [00:02<00:00, 122.34it/s, Loss=0.00625]\n"
          ]
        },
        {
          "output_type": "stream",
          "name": "stdout",
          "text": [
            "Epoch 30, Loss: 0.005497873329316465, lr = 0.009629765200681727\n"
          ]
        },
        {
          "output_type": "stream",
          "name": "stderr",
          "text": [
            "GroupNorm with epoch 31: 100%|██████████| 313/313 [00:02<00:00, 122.22it/s, Loss=0.00553]\n"
          ]
        },
        {
          "output_type": "stream",
          "name": "stdout",
          "text": [
            "Epoch 31, Loss: 0.00552119114718879, lr = 0.009481979422649757\n"
          ]
        },
        {
          "output_type": "stream",
          "name": "stderr",
          "text": [
            "GroupNorm with epoch 32: 100%|██████████| 313/313 [00:02<00:00, 118.07it/s, Loss=0.00146]\n"
          ]
        },
        {
          "output_type": "stream",
          "name": "stdout",
          "text": [
            "Epoch 32, Loss: 0.005536738057106067, lr = 0.009331004071129235\n"
          ]
        },
        {
          "output_type": "stream",
          "name": "stderr",
          "text": [
            "GroupNorm with epoch 33: 100%|██████████| 313/313 [00:02<00:00, 124.31it/s, Loss=0.00585]\n"
          ]
        },
        {
          "output_type": "stream",
          "name": "stdout",
          "text": [
            "Epoch 33, Loss: 0.005544144529313706, lr = 0.00917698814056464\n"
          ]
        },
        {
          "output_type": "stream",
          "name": "stderr",
          "text": [
            "GroupNorm with epoch 34: 100%|██████████| 313/313 [00:02<00:00, 124.95it/s, Loss=0.00469]\n"
          ]
        },
        {
          "output_type": "stream",
          "name": "stdout",
          "text": [
            "Epoch 34, Loss: 0.0055361713845128065, lr = 0.009020083626084868\n"
          ]
        },
        {
          "output_type": "stream",
          "name": "stderr",
          "text": [
            "GroupNorm with epoch 35: 100%|██████████| 313/313 [00:02<00:00, 124.25it/s, Loss=0.0048]\n"
          ]
        },
        {
          "output_type": "stream",
          "name": "stdout",
          "text": [
            "Epoch 35, Loss: 0.005556984736134831, lr = 0.008860445373502399\n"
          ]
        },
        {
          "output_type": "stream",
          "name": "stderr",
          "text": [
            "GroupNorm with epoch 36: 100%|██████████| 313/313 [00:02<00:00, 119.26it/s, Loss=0.0067]\n"
          ]
        },
        {
          "output_type": "stream",
          "name": "stdout",
          "text": [
            "Epoch 36, Loss: 0.005608134400159026, lr = 0.008698230926499172\n"
          ]
        },
        {
          "output_type": "stream",
          "name": "stderr",
          "text": [
            "GroupNorm with epoch 37: 100%|██████████| 313/313 [00:02<00:00, 121.59it/s, Loss=0.00654]\n"
          ]
        },
        {
          "output_type": "stream",
          "name": "stdout",
          "text": [
            "Epoch 37, Loss: 0.005638164096175672, lr = 0.008533600371149993\n"
          ]
        },
        {
          "output_type": "stream",
          "name": "stderr",
          "text": [
            "GroupNorm with epoch 38: 100%|██████████| 313/313 [00:02<00:00, 124.87it/s, Loss=0.00546]\n"
          ]
        },
        {
          "output_type": "stream",
          "name": "stdout",
          "text": [
            "Epoch 38, Loss: 0.005643930131444535, lr = 0.008366716177936905\n"
          ]
        },
        {
          "output_type": "stream",
          "name": "stderr",
          "text": [
            "GroupNorm with epoch 39: 100%|██████████| 313/313 [00:02<00:00, 123.05it/s, Loss=0.00366]\n"
          ]
        },
        {
          "output_type": "stream",
          "name": "stdout",
          "text": [
            "Epoch 39, Loss: 0.00564880607227167, lr = 0.008197743041410431\n"
          ]
        },
        {
          "output_type": "stream",
          "name": "stderr",
          "text": [
            "GroupNorm with epoch 40: 100%|██████████| 313/313 [00:02<00:00, 123.49it/s, Loss=0.00403]\n"
          ]
        },
        {
          "output_type": "stream",
          "name": "stdout",
          "text": [
            "Epoch 40, Loss: 0.005649122448203663, lr = 0.008026847717655952\n"
          ]
        },
        {
          "output_type": "stream",
          "name": "stderr",
          "text": [
            "GroupNorm with epoch 41: 100%|██████████| 313/313 [00:02<00:00, 119.54it/s, Loss=0.004]\n"
          ]
        },
        {
          "output_type": "stream",
          "name": "stdout",
          "text": [
            "Epoch 41, Loss: 0.005694334189922284, lr = 0.007854198859725573\n"
          ]
        },
        {
          "output_type": "stream",
          "name": "stderr",
          "text": [
            "GroupNorm with epoch 42: 100%|██████████| 313/313 [00:02<00:00, 122.40it/s, Loss=0.00686]\n"
          ]
        },
        {
          "output_type": "stream",
          "name": "stdout",
          "text": [
            "Epoch 42, Loss: 0.005677095902994418, lr = 0.007679966851197918\n"
          ]
        },
        {
          "output_type": "stream",
          "name": "stderr",
          "text": [
            "GroupNorm with epoch 43: 100%|██████████| 313/313 [00:02<00:00, 120.95it/s, Loss=0.00429]\n"
          ]
        },
        {
          "output_type": "stream",
          "name": "stdout",
          "text": [
            "Epoch 43, Loss: 0.0057128236269036806, lr = 0.007504323638030124\n"
          ]
        },
        {
          "output_type": "stream",
          "name": "stderr",
          "text": [
            "GroupNorm with epoch 44: 100%|██████████| 313/313 [00:02<00:00, 124.99it/s, Loss=0.00667]\n"
          ]
        },
        {
          "output_type": "stream",
          "name": "stdout",
          "text": [
            "Epoch 44, Loss: 0.005712246742492285, lr = 0.007327442558867921\n"
          ]
        },
        {
          "output_type": "stream",
          "name": "stderr",
          "text": [
            "GroupNorm with epoch 45: 100%|██████████| 313/313 [00:02<00:00, 119.32it/s, Loss=0.00497]\n"
          ]
        },
        {
          "output_type": "stream",
          "name": "stdout",
          "text": [
            "Epoch 45, Loss: 0.005731300828746333, lr = 0.00714949817398133\n"
          ]
        },
        {
          "output_type": "stream",
          "name": "stderr",
          "text": [
            "GroupNorm with epoch 46: 100%|██████████| 313/313 [00:02<00:00, 120.08it/s, Loss=0.00891]\n"
          ]
        },
        {
          "output_type": "stream",
          "name": "stdout",
          "text": [
            "Epoch 46, Loss: 0.0057173422255074255, lr = 0.006970666092994753\n"
          ]
        },
        {
          "output_type": "stream",
          "name": "stderr",
          "text": [
            "GroupNorm with epoch 47: 100%|██████████| 313/313 [00:02<00:00, 124.40it/s, Loss=0.0094]\n"
          ]
        },
        {
          "output_type": "stream",
          "name": "stdout",
          "text": [
            "Epoch 47, Loss: 0.00572116656330066, lr = 0.006791122801581459\n"
          ]
        },
        {
          "output_type": "stream",
          "name": "stderr",
          "text": [
            "GroupNorm with epoch 48: 100%|██████████| 313/313 [00:02<00:00, 124.57it/s, Loss=0.00239]\n"
          ]
        },
        {
          "output_type": "stream",
          "name": "stdout",
          "text": [
            "Epoch 48, Loss: 0.005701195555753982, lr = 0.006611045487293554\n"
          ]
        },
        {
          "output_type": "stream",
          "name": "stderr",
          "text": [
            "GroupNorm with epoch 49: 100%|██████████| 313/313 [00:02<00:00, 124.23it/s, Loss=0.00579]\n"
          ]
        },
        {
          "output_type": "stream",
          "name": "stdout",
          "text": [
            "Epoch 49, Loss: 0.00571600328714322, lr = 0.006430611864699239\n"
          ]
        },
        {
          "output_type": "stream",
          "name": "stderr",
          "text": [
            "GroupNorm with epoch 50: 100%|██████████| 313/313 [00:02<00:00, 121.07it/s, Loss=0.00539]\n"
          ]
        },
        {
          "output_type": "stream",
          "name": "stdout",
          "text": [
            "Epoch 50, Loss: 0.00569275649972617, lr = 0.00625\n"
          ]
        },
        {
          "output_type": "stream",
          "name": "stderr",
          "text": [
            "GroupNorm with epoch 51: 100%|██████████| 313/313 [00:02<00:00, 122.41it/s, Loss=0.00827]\n"
          ]
        },
        {
          "output_type": "stream",
          "name": "stdout",
          "text": [
            "Epoch 51, Loss: 0.005703483264857588, lr = 0.006069388135300762\n"
          ]
        },
        {
          "output_type": "stream",
          "name": "stderr",
          "text": [
            "GroupNorm with epoch 52: 100%|██████████| 313/313 [00:02<00:00, 125.03it/s, Loss=0.00295]\n"
          ]
        },
        {
          "output_type": "stream",
          "name": "stdout",
          "text": [
            "Epoch 52, Loss: 0.005708437972365857, lr = 0.005888954512706447\n"
          ]
        },
        {
          "output_type": "stream",
          "name": "stderr",
          "text": [
            "GroupNorm with epoch 53: 100%|██████████| 313/313 [00:02<00:00, 122.88it/s, Loss=0.00889]\n"
          ]
        },
        {
          "output_type": "stream",
          "name": "stdout",
          "text": [
            "Epoch 53, Loss: 0.005698671737037147, lr = 0.005708877198418541\n"
          ]
        },
        {
          "output_type": "stream",
          "name": "stderr",
          "text": [
            "GroupNorm with epoch 54: 100%|██████████| 313/313 [00:02<00:00, 118.44it/s, Loss=0.00655]\n"
          ]
        },
        {
          "output_type": "stream",
          "name": "stdout",
          "text": [
            "Epoch 54, Loss: 0.005678740457985729, lr = 0.0055293339070052495\n"
          ]
        },
        {
          "output_type": "stream",
          "name": "stderr",
          "text": [
            "GroupNorm with epoch 55: 100%|██████████| 313/313 [00:02<00:00, 120.76it/s, Loss=0.00485]\n"
          ]
        },
        {
          "output_type": "stream",
          "name": "stdout",
          "text": [
            "Epoch 55, Loss: 0.0056620623928289445, lr = 0.005350501826018671\n"
          ]
        },
        {
          "output_type": "stream",
          "name": "stderr",
          "text": [
            "GroupNorm with epoch 56: 100%|██████████| 313/313 [00:02<00:00, 122.94it/s, Loss=0.00845]\n"
          ]
        },
        {
          "output_type": "stream",
          "name": "stdout",
          "text": [
            "Epoch 56, Loss: 0.005663026659823835, lr = 0.005172557441132082\n"
          ]
        },
        {
          "output_type": "stream",
          "name": "stderr",
          "text": [
            "GroupNorm with epoch 57: 100%|██████████| 313/313 [00:02<00:00, 122.10it/s, Loss=0.0041]\n"
          ]
        },
        {
          "output_type": "stream",
          "name": "stdout",
          "text": [
            "Epoch 57, Loss: 0.0056400016759531185, lr = 0.00499567636196988\n"
          ]
        },
        {
          "output_type": "stream",
          "name": "stderr",
          "text": [
            "GroupNorm with epoch 58: 100%|██████████| 313/313 [00:02<00:00, 122.86it/s, Loss=0.00593]\n"
          ]
        },
        {
          "output_type": "stream",
          "name": "stdout",
          "text": [
            "Epoch 58, Loss: 0.005630571906939863, lr = 0.004820033148802083\n"
          ]
        },
        {
          "output_type": "stream",
          "name": "stderr",
          "text": [
            "GroupNorm with epoch 59: 100%|██████████| 313/313 [00:02<00:00, 120.09it/s, Loss=0.0038]\n"
          ]
        },
        {
          "output_type": "stream",
          "name": "stdout",
          "text": [
            "Epoch 59, Loss: 0.0056199396427827905, lr = 0.004645801140274431\n"
          ]
        },
        {
          "output_type": "stream",
          "name": "stderr",
          "text": [
            "GroupNorm with epoch 60: 100%|██████████| 313/313 [00:02<00:00, 121.36it/s, Loss=0.00461]\n"
          ]
        },
        {
          "output_type": "stream",
          "name": "stdout",
          "text": [
            "Epoch 60, Loss: 0.0056343972920990595, lr = 0.004473152282344052\n"
          ]
        },
        {
          "output_type": "stream",
          "name": "stderr",
          "text": [
            "GroupNorm with epoch 61: 100%|██████████| 313/313 [00:02<00:00, 122.88it/s, Loss=0.00906]\n"
          ]
        },
        {
          "output_type": "stream",
          "name": "stdout",
          "text": [
            "Epoch 61, Loss: 0.005635919376684073, lr = 0.004302256958589572\n"
          ]
        },
        {
          "output_type": "stream",
          "name": "stderr",
          "text": [
            "GroupNorm with epoch 62: 100%|██████████| 313/313 [00:02<00:00, 124.13it/s, Loss=0.00949]\n"
          ]
        },
        {
          "output_type": "stream",
          "name": "stdout",
          "text": [
            "Epoch 62, Loss: 0.005592755092599521, lr = 0.004133283822063101\n"
          ]
        },
        {
          "output_type": "stream",
          "name": "stderr",
          "text": [
            "GroupNorm with epoch 63: 100%|██████████| 313/313 [00:02<00:00, 120.55it/s, Loss=0.00539]\n"
          ]
        },
        {
          "output_type": "stream",
          "name": "stdout",
          "text": [
            "Epoch 63, Loss: 0.005588302573266502, lr = 0.003966399628850009\n"
          ]
        },
        {
          "output_type": "stream",
          "name": "stderr",
          "text": [
            "GroupNorm with epoch 64: 100%|██████████| 313/313 [00:02<00:00, 122.00it/s, Loss=0.00602]\n"
          ]
        },
        {
          "output_type": "stream",
          "name": "stdout",
          "text": [
            "Epoch 64, Loss: 0.0055747925045010385, lr = 0.0038017690735008304\n"
          ]
        },
        {
          "output_type": "stream",
          "name": "stderr",
          "text": [
            "GroupNorm with epoch 65: 100%|██████████| 313/313 [00:02<00:00, 122.26it/s, Loss=0.00734]\n"
          ]
        },
        {
          "output_type": "stream",
          "name": "stdout",
          "text": [
            "Epoch 65, Loss: 0.005564762904240301, lr = 0.0036395546264976044\n"
          ]
        },
        {
          "output_type": "stream",
          "name": "stderr",
          "text": [
            "GroupNorm with epoch 66: 100%|██████████| 313/313 [00:02<00:00, 122.11it/s, Loss=0.00509]\n"
          ]
        },
        {
          "output_type": "stream",
          "name": "stdout",
          "text": [
            "Epoch 66, Loss: 0.005540462300038566, lr = 0.0034799163739151345\n"
          ]
        },
        {
          "output_type": "stream",
          "name": "stderr",
          "text": [
            "GroupNorm with epoch 67: 100%|██████████| 313/313 [00:02<00:00, 122.37it/s, Loss=0.00491]\n"
          ]
        },
        {
          "output_type": "stream",
          "name": "stdout",
          "text": [
            "Epoch 67, Loss: 0.0055240466714667055, lr = 0.0033230118594353634\n"
          ]
        },
        {
          "output_type": "stream",
          "name": "stderr",
          "text": [
            "GroupNorm with epoch 68: 100%|██████████| 313/313 [00:02<00:00, 121.30it/s, Loss=0.00404]\n"
          ]
        },
        {
          "output_type": "stream",
          "name": "stdout",
          "text": [
            "Epoch 68, Loss: 0.005528638062004845, lr = 0.0031689959288707667\n"
          ]
        },
        {
          "output_type": "stream",
          "name": "stderr",
          "text": [
            "GroupNorm with epoch 69: 100%|██████████| 313/313 [00:02<00:00, 120.20it/s, Loss=0.00461]\n"
          ]
        },
        {
          "output_type": "stream",
          "name": "stdout",
          "text": [
            "Epoch 69, Loss: 0.005495526134586944, lr = 0.0030180205773502476\n"
          ]
        },
        {
          "output_type": "stream",
          "name": "stderr",
          "text": [
            "GroupNorm with epoch 70: 100%|██████████| 313/313 [00:02<00:00, 123.32it/s, Loss=0.0133]\n"
          ]
        },
        {
          "output_type": "stream",
          "name": "stdout",
          "text": [
            "Epoch 70, Loss: 0.005507411000827631, lr = 0.0028702347993182793\n"
          ]
        },
        {
          "output_type": "stream",
          "name": "stderr",
          "text": [
            "GroupNorm with epoch 71: 100%|██████████| 313/313 [00:02<00:00, 123.96it/s, Loss=0.00909]\n"
          ]
        },
        {
          "output_type": "stream",
          "name": "stdout",
          "text": [
            "Epoch 71, Loss: 0.005490545933238995, lr = 0.002725784441495384\n"
          ]
        },
        {
          "output_type": "stream",
          "name": "stderr",
          "text": [
            "GroupNorm with epoch 72: 100%|██████████| 313/313 [00:02<00:00, 120.96it/s, Loss=0.00575]\n"
          ]
        },
        {
          "output_type": "stream",
          "name": "stdout",
          "text": [
            "Epoch 72, Loss: 0.005467392004336031, lr = 0.0025848120589450334\n"
          ]
        },
        {
          "output_type": "stream",
          "name": "stderr",
          "text": [
            "GroupNorm with epoch 73: 100%|██████████| 313/313 [00:02<00:00, 122.40it/s, Loss=0.00684]\n"
          ]
        },
        {
          "output_type": "stream",
          "name": "stdout",
          "text": [
            "Epoch 73, Loss: 0.005462188333177719, lr = 0.0024474567743890023\n"
          ]
        },
        {
          "output_type": "stream",
          "name": "stderr",
          "text": [
            "GroupNorm with epoch 74: 100%|██████████| 313/313 [00:02<00:00, 120.23it/s, Loss=0.00187]\n"
          ]
        },
        {
          "output_type": "stream",
          "name": "stdout",
          "text": [
            "Epoch 74, Loss: 0.005450201920046212, lr = 0.0023138541409100395\n"
          ]
        },
        {
          "output_type": "stream",
          "name": "stderr",
          "text": [
            "GroupNorm with epoch 75: 100%|██████████| 313/313 [00:02<00:00, 124.52it/s, Loss=0.0016]\n"
          ]
        },
        {
          "output_type": "stream",
          "name": "stdout",
          "text": [
            "Epoch 75, Loss: 0.005433961796684387, lr = 0.0021841360081773517\n"
          ]
        },
        {
          "output_type": "stream",
          "name": "stderr",
          "text": [
            "GroupNorm with epoch 76: 100%|██████████| 313/313 [00:02<00:00, 123.56it/s, Loss=0.00424]\n"
          ]
        },
        {
          "output_type": "stream",
          "name": "stdout",
          "text": [
            "Epoch 76, Loss: 0.005416861928689975, lr = 0.0020584303923268845\n"
          ]
        },
        {
          "output_type": "stream",
          "name": "stderr",
          "text": [
            "GroupNorm with epoch 77: 100%|██████████| 313/313 [00:02<00:00, 120.78it/s, Loss=0.00605]\n"
          ]
        },
        {
          "output_type": "stream",
          "name": "stdout",
          "text": [
            "Epoch 77, Loss: 0.005421754722587597, lr = 0.0019368613496248569\n"
          ]
        },
        {
          "output_type": "stream",
          "name": "stderr",
          "text": [
            "GroupNorm with epoch 78: 100%|██████████| 313/313 [00:02<00:00, 120.70it/s, Loss=0.00525]\n"
          ]
        },
        {
          "output_type": "stream",
          "name": "stdout",
          "text": [
            "Epoch 78, Loss: 0.005396037722547976, lr = 0.001819548854039212\n"
          ]
        },
        {
          "output_type": "stream",
          "name": "stderr",
          "text": [
            "GroupNorm with epoch 79: 100%|██████████| 313/313 [00:02<00:00, 122.36it/s, Loss=0.00341]\n"
          ]
        },
        {
          "output_type": "stream",
          "name": "stdout",
          "text": [
            "Epoch 79, Loss: 0.005396417511728244, lr = 0.0017066086788397798\n"
          ]
        },
        {
          "output_type": "stream",
          "name": "stderr",
          "text": [
            "GroupNorm with epoch 80: 100%|██████████| 313/313 [00:02<00:00, 125.10it/s, Loss=0.00339]\n"
          ]
        },
        {
          "output_type": "stream",
          "name": "stdout",
          "text": [
            "Epoch 80, Loss: 0.005382406825836474, lr = 0.0015981522823440525\n"
          ]
        },
        {
          "output_type": "stream",
          "name": "stderr",
          "text": [
            "GroupNorm with epoch 81: 100%|██████████| 313/313 [00:02<00:00, 121.75it/s, Loss=0.00621]\n"
          ]
        },
        {
          "output_type": "stream",
          "name": "stdout",
          "text": [
            "Epoch 81, Loss: 0.005383864426003478, lr = 0.0014942866979212699\n"
          ]
        },
        {
          "output_type": "stream",
          "name": "stderr",
          "text": [
            "GroupNorm with epoch 82: 100%|██████████| 313/313 [00:02<00:00, 123.32it/s, Loss=0.00323]\n"
          ]
        },
        {
          "output_type": "stream",
          "name": "stdout",
          "text": [
            "Epoch 82, Loss: 0.005362741077860323, lr = 0.0013951144283634144\n"
          ]
        },
        {
          "output_type": "stream",
          "name": "stderr",
          "text": [
            "GroupNorm with epoch 83: 100%|██████████| 313/313 [00:02<00:00, 119.61it/s, Loss=0.00793]\n"
          ]
        },
        {
          "output_type": "stream",
          "name": "stdout",
          "text": [
            "Epoch 83, Loss: 0.005367683264584587, lr = 0.0013007333447273232\n"
          ]
        },
        {
          "output_type": "stream",
          "name": "stderr",
          "text": [
            "GroupNorm with epoch 84: 100%|██████████| 313/313 [00:02<00:00, 123.05it/s, Loss=0.00282]\n"
          ]
        },
        {
          "output_type": "stream",
          "name": "stdout",
          "text": [
            "Epoch 84, Loss: 0.005337665613276509, lr = 0.0012112365897477841\n"
          ]
        },
        {
          "output_type": "stream",
          "name": "stderr",
          "text": [
            "GroupNorm with epoch 85: 100%|██████████| 313/313 [00:02<00:00, 123.47it/s, Loss=0.0053]\n"
          ]
        },
        {
          "output_type": "stream",
          "name": "stdout",
          "text": [
            "Epoch 85, Loss: 0.005342531723145859, lr = 0.001126712485916885\n"
          ]
        },
        {
          "output_type": "stream",
          "name": "stderr",
          "text": [
            "GroupNorm with epoch 86: 100%|██████████| 313/313 [00:02<00:00, 119.99it/s, Loss=0.00273]\n"
          ]
        },
        {
          "output_type": "stream",
          "name": "stdout",
          "text": [
            "Epoch 86, Loss: 0.005335535294712542, lr = 0.0010472444483203885\n"
          ]
        },
        {
          "output_type": "stream",
          "name": "stderr",
          "text": [
            "GroupNorm with epoch 87: 100%|██████████| 313/313 [00:02<00:00, 120.08it/s, Loss=0.00411]\n"
          ]
        },
        {
          "output_type": "stream",
          "name": "stdout",
          "text": [
            "Epoch 87, Loss: 0.005321597138913676, lr = 0.0009729109023171096\n"
          ]
        },
        {
          "output_type": "stream",
          "name": "stderr",
          "text": [
            "GroupNorm with epoch 88: 100%|██████████| 313/313 [00:02<00:00, 122.24it/s, Loss=0.0057]\n"
          ]
        },
        {
          "output_type": "stream",
          "name": "stdout",
          "text": [
            "Epoch 88, Loss: 0.005322191685723801, lr = 0.0009037852061425547\n"
          ]
        },
        {
          "output_type": "stream",
          "name": "stderr",
          "text": [
            "GroupNorm with epoch 89: 100%|██████████| 313/313 [00:02<00:00, 122.33it/s, Loss=0.00388]\n"
          ]
        },
        {
          "output_type": "stream",
          "name": "stdout",
          "text": [
            "Epoch 89, Loss: 0.005317239644237981, lr = 0.0008399355785132036\n"
          ]
        },
        {
          "output_type": "stream",
          "name": "stderr",
          "text": [
            "GroupNorm with epoch 90: 100%|██████████| 313/313 [00:02<00:00, 120.45it/s, Loss=0.00839]\n"
          ]
        },
        {
          "output_type": "stream",
          "name": "stdout",
          "text": [
            "Epoch 90, Loss: 0.005319469010296721, lr = 0.0007814250313028671\n"
          ]
        },
        {
          "output_type": "stream",
          "name": "stderr",
          "text": [
            "GroupNorm with epoch 91: 100%|██████████| 313/313 [00:02<00:00, 121.10it/s, Loss=0.00304]\n"
          ]
        },
        {
          "output_type": "stream",
          "name": "stdout",
          "text": [
            "Epoch 91, Loss: 0.005308745839534857, lr = 0.0007283113073575779\n"
          ]
        },
        {
          "output_type": "stream",
          "name": "stderr",
          "text": [
            "GroupNorm with epoch 92: 100%|██████████| 313/313 [00:02<00:00, 120.15it/s, Loss=0.00928]\n"
          ]
        },
        {
          "output_type": "stream",
          "name": "stdout",
          "text": [
            "Epoch 92, Loss: 0.005311145973853029, lr = 0.0006806468235103719\n"
          ]
        },
        {
          "output_type": "stream",
          "name": "stderr",
          "text": [
            "GroupNorm with epoch 93: 100%|██████████| 313/313 [00:02<00:00, 121.29it/s, Loss=0.00366]\n"
          ]
        },
        {
          "output_type": "stream",
          "name": "stdout",
          "text": [
            "Epoch 93, Loss: 0.005298093556405637, lr = 0.0006384786188522028\n"
          ]
        },
        {
          "output_type": "stream",
          "name": "stderr",
          "text": [
            "GroupNorm with epoch 94: 100%|██████████| 313/313 [00:02<00:00, 123.33it/s, Loss=0.0045]\n"
          ]
        },
        {
          "output_type": "stream",
          "name": "stdout",
          "text": [
            "Epoch 94, Loss: 0.005296914103312995, lr = 0.0006018483083100398\n"
          ]
        },
        {
          "output_type": "stream",
          "name": "stderr",
          "text": [
            "GroupNorm with epoch 95: 100%|██████████| 313/313 [00:02<00:00, 118.93it/s, Loss=0.00591]\n"
          ]
        },
        {
          "output_type": "stream",
          "name": "stdout",
          "text": [
            "Epoch 95, Loss: 0.005295620415919124, lr = 0.0005707920415779584\n"
          ]
        },
        {
          "output_type": "stream",
          "name": "stderr",
          "text": [
            "GroupNorm with epoch 96: 100%|██████████| 313/313 [00:02<00:00, 121.43it/s, Loss=0.00543]\n"
          ]
        },
        {
          "output_type": "stream",
          "name": "stdout",
          "text": [
            "Epoch 96, Loss: 0.005292470224749166, lr = 0.0005453404674417528\n"
          ]
        },
        {
          "output_type": "stream",
          "name": "stderr",
          "text": [
            "GroupNorm with epoch 97: 100%|██████████| 313/313 [00:02<00:00, 120.55it/s, Loss=0.00758]\n"
          ]
        },
        {
          "output_type": "stream",
          "name": "stdout",
          "text": [
            "Epoch 97, Loss: 0.0052910743001550915, lr = 0.00052551870353229\n"
          ]
        },
        {
          "output_type": "stream",
          "name": "stderr",
          "text": [
            "GroupNorm with epoch 98: 100%|██████████| 313/313 [00:02<00:00, 124.49it/s, Loss=0.00456]\n"
          ]
        },
        {
          "output_type": "stream",
          "name": "stdout",
          "text": [
            "Epoch 98, Loss: 0.005284070754393983, lr = 0.0005113463115374385\n"
          ]
        },
        {
          "output_type": "stream",
          "name": "stderr",
          "text": [
            "GroupNorm with epoch 99: 100%|██████████| 313/313 [00:02<00:00, 119.46it/s, Loss=0.00705]\n"
          ]
        },
        {
          "output_type": "stream",
          "name": "stdout",
          "text": [
            "Epoch 99, Loss: 0.00528794653213824, lr = 0.0005028372778970433\n"
          ]
        },
        {
          "output_type": "stream",
          "name": "stderr",
          "text": [
            "GroupNorm with epoch 100: 100%|██████████| 313/313 [00:02<00:00, 116.50it/s, Loss=0.00564]\n"
          ]
        },
        {
          "output_type": "stream",
          "name": "stdout",
          "text": [
            "Epoch 100, Loss: 0.005286680457119743, lr = 0.0005\n",
            "Norm : BatchNorm, Batch Size: 16, Top1 Accuracy: 60.41%\n",
            "Norm : GroupNorm, Batch Size: 16, Top1 Accuracy: 59.32%\n",
            "ㅡㅡㅡㅡㅡㅡㅡㅡㅡㅡㅡㅡbatch_size: 16ㅡㅡㅡㅡㅡㅡㅡㅡㅡㅡㅡㅡㅡ\n",
            "\n",
            "ㅡㅡㅡㅡㅡㅡㅡㅡㅡㅡㅡㅡbatch_size: 32ㅡㅡㅡㅡㅡㅡㅡㅡㅡㅡㅡㅡㅡ\n"
          ]
        },
        {
          "output_type": "stream",
          "name": "stderr",
          "text": [
            "BatchNorm with epoch 1: 100%|██████████| 157/157 [00:01<00:00, 82.82it/s, Loss=1.5]\n"
          ]
        },
        {
          "output_type": "stream",
          "name": "stdout",
          "text": [
            "Epoch 1, Loss: 2.0361788553796756, lr = 0.011997162722102958\n"
          ]
        },
        {
          "output_type": "stream",
          "name": "stderr",
          "text": [
            "BatchNorm with epoch 2: 100%|██████████| 157/157 [00:01<00:00, 86.64it/s, Loss=1.33] \n"
          ]
        },
        {
          "output_type": "stream",
          "name": "stdout",
          "text": [
            "Epoch 2, Loss: 1.5002847173411376, lr = 0.011988653688462563\n"
          ]
        },
        {
          "output_type": "stream",
          "name": "stderr",
          "text": [
            "BatchNorm with epoch 3: 100%|██████████| 157/157 [00:01<00:00, 85.93it/s, Loss=0.91] \n"
          ]
        },
        {
          "output_type": "stream",
          "name": "stdout",
          "text": [
            "Epoch 3, Loss: 1.302514062565603, lr = 0.011974481296467712\n"
          ]
        },
        {
          "output_type": "stream",
          "name": "stderr",
          "text": [
            "BatchNorm with epoch 4: 100%|██████████| 157/157 [00:01<00:00, 84.60it/s, Loss=1.01]\n"
          ]
        },
        {
          "output_type": "stream",
          "name": "stdout",
          "text": [
            "Epoch 4, Loss: 1.1478867838337163, lr = 0.01195465953255825\n"
          ]
        },
        {
          "output_type": "stream",
          "name": "stderr",
          "text": [
            "BatchNorm with epoch 5: 100%|██████████| 157/157 [00:01<00:00, 85.39it/s, Loss=1.22] \n"
          ]
        },
        {
          "output_type": "stream",
          "name": "stdout",
          "text": [
            "Epoch 5, Loss: 1.0306598358093553, lr = 0.011929207958422044\n"
          ]
        },
        {
          "output_type": "stream",
          "name": "stderr",
          "text": [
            "BatchNorm with epoch 6: 100%|██████████| 157/157 [00:01<00:00, 86.07it/s, Loss=2.33] \n"
          ]
        },
        {
          "output_type": "stream",
          "name": "stdout",
          "text": [
            "Epoch 6, Loss: 0.9325320709283185, lr = 0.011898151691689963\n"
          ]
        },
        {
          "output_type": "stream",
          "name": "stderr",
          "text": [
            "BatchNorm with epoch 7: 100%|██████████| 157/157 [00:01<00:00, 85.44it/s, Loss=1.24] \n"
          ]
        },
        {
          "output_type": "stream",
          "name": "stdout",
          "text": [
            "Epoch 7, Loss: 0.844791096486863, lr = 0.0118615213811478\n"
          ]
        },
        {
          "output_type": "stream",
          "name": "stderr",
          "text": [
            "BatchNorm with epoch 8: 100%|██████████| 157/157 [00:01<00:00, 86.23it/s, Loss=0.519] \n"
          ]
        },
        {
          "output_type": "stream",
          "name": "stdout",
          "text": [
            "Epoch 8, Loss: 0.7259688424836298, lr = 0.011819353176489631\n"
          ]
        },
        {
          "output_type": "stream",
          "name": "stderr",
          "text": [
            "BatchNorm with epoch 9: 100%|██████████| 157/157 [00:01<00:00, 87.77it/s, Loss=0.867] \n"
          ]
        },
        {
          "output_type": "stream",
          "name": "stdout",
          "text": [
            "Epoch 9, Loss: 0.6553044271696905, lr = 0.011771688692642425\n"
          ]
        },
        {
          "output_type": "stream",
          "name": "stderr",
          "text": [
            "BatchNorm with epoch 10: 100%|██████████| 157/157 [00:01<00:00, 86.31it/s, Loss=0.849] \n"
          ]
        },
        {
          "output_type": "stream",
          "name": "stdout",
          "text": [
            "Epoch 10, Loss: 0.5807998677727523, lr = 0.011718574968697135\n"
          ]
        },
        {
          "output_type": "stream",
          "name": "stderr",
          "text": [
            "BatchNorm with epoch 11: 100%|██████████| 157/157 [00:01<00:00, 85.88it/s, Loss=0.827] \n"
          ]
        },
        {
          "output_type": "stream",
          "name": "stdout",
          "text": [
            "Epoch 11, Loss: 0.5170450491510379, lr = 0.0116600644214868\n"
          ]
        },
        {
          "output_type": "stream",
          "name": "stderr",
          "text": [
            "BatchNorm with epoch 12: 100%|██████████| 157/157 [00:01<00:00, 86.19it/s, Loss=0.504] \n"
          ]
        },
        {
          "output_type": "stream",
          "name": "stdout",
          "text": [
            "Epoch 12, Loss: 0.4492201136935289, lr = 0.011596214793857449\n"
          ]
        },
        {
          "output_type": "stream",
          "name": "stderr",
          "text": [
            "BatchNorm with epoch 13: 100%|██████████| 157/157 [00:01<00:00, 86.33it/s, Loss=0.389] \n"
          ]
        },
        {
          "output_type": "stream",
          "name": "stdout",
          "text": [
            "Epoch 13, Loss: 0.33211781416728997, lr = 0.011527089097682894\n"
          ]
        },
        {
          "output_type": "stream",
          "name": "stderr",
          "text": [
            "BatchNorm with epoch 14: 100%|██████████| 157/157 [00:01<00:00, 86.86it/s, Loss=0.674] \n"
          ]
        },
        {
          "output_type": "stream",
          "name": "stdout",
          "text": [
            "Epoch 14, Loss: 0.2949652696965606, lr = 0.011452755551679615\n"
          ]
        },
        {
          "output_type": "stream",
          "name": "stderr",
          "text": [
            "BatchNorm with epoch 15: 100%|██████████| 157/157 [00:01<00:00, 87.43it/s, Loss=0.29] \n"
          ]
        },
        {
          "output_type": "stream",
          "name": "stdout",
          "text": [
            "Epoch 15, Loss: 0.2643187553829448, lr = 0.011373287514083117\n"
          ]
        },
        {
          "output_type": "stream",
          "name": "stderr",
          "text": [
            "BatchNorm with epoch 16: 100%|██████████| 157/157 [00:01<00:00, 87.00it/s, Loss=0.157] \n"
          ]
        },
        {
          "output_type": "stream",
          "name": "stdout",
          "text": [
            "Epoch 16, Loss: 0.20022643253112296, lr = 0.011288763410252218\n"
          ]
        },
        {
          "output_type": "stream",
          "name": "stderr",
          "text": [
            "BatchNorm with epoch 17: 100%|██████████| 157/157 [00:01<00:00, 85.82it/s, Loss=0.0817]\n"
          ]
        },
        {
          "output_type": "stream",
          "name": "stdout",
          "text": [
            "Epoch 17, Loss: 0.1454817370814123, lr = 0.01119926665527268\n"
          ]
        },
        {
          "output_type": "stream",
          "name": "stderr",
          "text": [
            "BatchNorm with epoch 18: 100%|██████████| 157/157 [00:01<00:00, 85.88it/s, Loss=0.0395] \n"
          ]
        },
        {
          "output_type": "stream",
          "name": "stdout",
          "text": [
            "Epoch 18, Loss: 0.11187891636020059, lr = 0.01110488557163659\n"
          ]
        },
        {
          "output_type": "stream",
          "name": "stderr",
          "text": [
            "BatchNorm with epoch 19: 100%|██████████| 157/157 [00:01<00:00, 85.53it/s, Loss=0.0527] \n"
          ]
        },
        {
          "output_type": "stream",
          "name": "stdout",
          "text": [
            "Epoch 19, Loss: 0.09667297272355693, lr = 0.011005713302078734\n"
          ]
        },
        {
          "output_type": "stream",
          "name": "stderr",
          "text": [
            "BatchNorm with epoch 20: 100%|██████████| 157/157 [00:01<00:00, 85.68it/s, Loss=0.0421] \n"
          ]
        },
        {
          "output_type": "stream",
          "name": "stdout",
          "text": [
            "Epoch 20, Loss: 0.08684055511928668, lr = 0.010901847717655951\n"
          ]
        },
        {
          "output_type": "stream",
          "name": "stderr",
          "text": [
            "BatchNorm with epoch 21: 100%|██████████| 157/157 [00:02<00:00, 76.34it/s, Loss=0.0621] \n"
          ]
        },
        {
          "output_type": "stream",
          "name": "stdout",
          "text": [
            "Epoch 21, Loss: 0.06151508039255051, lr = 0.010793391321160221\n"
          ]
        },
        {
          "output_type": "stream",
          "name": "stderr",
          "text": [
            "BatchNorm with epoch 22: 100%|██████████| 157/157 [00:01<00:00, 86.99it/s, Loss=0.0556] \n"
          ]
        },
        {
          "output_type": "stream",
          "name": "stdout",
          "text": [
            "Epoch 22, Loss: 0.040277841459414, lr = 0.01068045114596079\n"
          ]
        },
        {
          "output_type": "stream",
          "name": "stderr",
          "text": [
            "BatchNorm with epoch 23: 100%|██████████| 157/157 [00:01<00:00, 85.70it/s, Loss=0.0493] \n"
          ]
        },
        {
          "output_type": "stream",
          "name": "stdout",
          "text": [
            "Epoch 23, Loss: 0.03647131086060196, lr = 0.010563138650375146\n"
          ]
        },
        {
          "output_type": "stream",
          "name": "stderr",
          "text": [
            "BatchNorm with epoch 24: 100%|██████████| 157/157 [00:01<00:00, 86.36it/s, Loss=0.0495] \n"
          ]
        },
        {
          "output_type": "stream",
          "name": "stdout",
          "text": [
            "Epoch 24, Loss: 0.02478198298982754, lr = 0.01044156960767312\n"
          ]
        },
        {
          "output_type": "stream",
          "name": "stderr",
          "text": [
            "BatchNorm with epoch 25: 100%|██████████| 157/157 [00:01<00:00, 86.51it/s, Loss=0.164] \n"
          ]
        },
        {
          "output_type": "stream",
          "name": "stdout",
          "text": [
            "Epoch 25, Loss: 0.021088918825243688, lr = 0.010315863991822652\n"
          ]
        },
        {
          "output_type": "stream",
          "name": "stderr",
          "text": [
            "BatchNorm with epoch 26: 100%|██████████| 157/157 [00:01<00:00, 86.52it/s, Loss=0.00882] \n"
          ]
        },
        {
          "output_type": "stream",
          "name": "stdout",
          "text": [
            "Epoch 26, Loss: 0.02626714743911081, lr = 0.010186145859089965\n"
          ]
        },
        {
          "output_type": "stream",
          "name": "stderr",
          "text": [
            "BatchNorm with epoch 27: 100%|██████████| 157/157 [00:01<00:00, 86.21it/s, Loss=0.0037] \n"
          ]
        },
        {
          "output_type": "stream",
          "name": "stdout",
          "text": [
            "Epoch 27, Loss: 0.01727030772692079, lr = 0.010052543225611003\n"
          ]
        },
        {
          "output_type": "stream",
          "name": "stderr",
          "text": [
            "BatchNorm with epoch 28: 100%|██████████| 157/157 [00:01<00:00, 85.98it/s, Loss=0.0231] \n"
          ]
        },
        {
          "output_type": "stream",
          "name": "stdout",
          "text": [
            "Epoch 28, Loss: 0.0153994766200424, lr = 0.00991518794105497\n"
          ]
        },
        {
          "output_type": "stream",
          "name": "stderr",
          "text": [
            "BatchNorm with epoch 29: 100%|██████████| 157/157 [00:01<00:00, 85.55it/s, Loss=0.0983]\n"
          ]
        },
        {
          "output_type": "stream",
          "name": "stdout",
          "text": [
            "Epoch 29, Loss: 0.014851222585910444, lr = 0.00977421555850462\n"
          ]
        },
        {
          "output_type": "stream",
          "name": "stderr",
          "text": [
            "BatchNorm with epoch 30: 100%|██████████| 157/157 [00:01<00:00, 84.43it/s, Loss=0.0121] \n"
          ]
        },
        {
          "output_type": "stream",
          "name": "stdout",
          "text": [
            "Epoch 30, Loss: 0.016065746071232352, lr = 0.009629765200681727\n"
          ]
        },
        {
          "output_type": "stream",
          "name": "stderr",
          "text": [
            "BatchNorm with epoch 31: 100%|██████████| 157/157 [00:01<00:00, 87.16it/s, Loss=0.0498] \n"
          ]
        },
        {
          "output_type": "stream",
          "name": "stdout",
          "text": [
            "Epoch 31, Loss: 0.012880502992374882, lr = 0.009481979422649757\n"
          ]
        },
        {
          "output_type": "stream",
          "name": "stderr",
          "text": [
            "BatchNorm with epoch 32: 100%|██████████| 157/157 [00:01<00:00, 85.72it/s, Loss=0.00744] \n"
          ]
        },
        {
          "output_type": "stream",
          "name": "stdout",
          "text": [
            "Epoch 32, Loss: 0.013597088088844992, lr = 0.009331004071129235\n"
          ]
        },
        {
          "output_type": "stream",
          "name": "stderr",
          "text": [
            "BatchNorm with epoch 33: 100%|██████████| 157/157 [00:01<00:00, 86.14it/s, Loss=0.00176] \n"
          ]
        },
        {
          "output_type": "stream",
          "name": "stdout",
          "text": [
            "Epoch 33, Loss: 0.011411717814055217, lr = 0.00917698814056464\n"
          ]
        },
        {
          "output_type": "stream",
          "name": "stderr",
          "text": [
            "BatchNorm with epoch 34: 100%|██████████| 157/157 [00:01<00:00, 86.02it/s, Loss=0.0106] \n"
          ]
        },
        {
          "output_type": "stream",
          "name": "stdout",
          "text": [
            "Epoch 34, Loss: 0.010202909801985807, lr = 0.009020083626084868\n"
          ]
        },
        {
          "output_type": "stream",
          "name": "stderr",
          "text": [
            "BatchNorm with epoch 35: 100%|██████████| 157/157 [00:01<00:00, 85.52it/s, Loss=0.00703] \n"
          ]
        },
        {
          "output_type": "stream",
          "name": "stdout",
          "text": [
            "Epoch 35, Loss: 0.010266155407876726, lr = 0.008860445373502399\n"
          ]
        },
        {
          "output_type": "stream",
          "name": "stderr",
          "text": [
            "BatchNorm with epoch 36: 100%|██████████| 157/157 [00:01<00:00, 83.25it/s, Loss=0.0589]\n"
          ]
        },
        {
          "output_type": "stream",
          "name": "stdout",
          "text": [
            "Epoch 36, Loss: 0.009711190109040327, lr = 0.008698230926499172\n"
          ]
        },
        {
          "output_type": "stream",
          "name": "stderr",
          "text": [
            "BatchNorm with epoch 37: 100%|██████████| 157/157 [00:01<00:00, 87.77it/s, Loss=0.00878] \n"
          ]
        },
        {
          "output_type": "stream",
          "name": "stdout",
          "text": [
            "Epoch 37, Loss: 0.010050135314654393, lr = 0.008533600371149993\n"
          ]
        },
        {
          "output_type": "stream",
          "name": "stderr",
          "text": [
            "BatchNorm with epoch 38: 100%|██████████| 157/157 [00:01<00:00, 86.67it/s, Loss=0.00458] \n"
          ]
        },
        {
          "output_type": "stream",
          "name": "stdout",
          "text": [
            "Epoch 38, Loss: 0.009531465922571291, lr = 0.008366716177936905\n"
          ]
        },
        {
          "output_type": "stream",
          "name": "stderr",
          "text": [
            "BatchNorm with epoch 39: 100%|██████████| 157/157 [00:01<00:00, 86.85it/s, Loss=0.0497] \n"
          ]
        },
        {
          "output_type": "stream",
          "name": "stdout",
          "text": [
            "Epoch 39, Loss: 0.008770305497251498, lr = 0.008197743041410431\n"
          ]
        },
        {
          "output_type": "stream",
          "name": "stderr",
          "text": [
            "BatchNorm with epoch 40: 100%|██████████| 157/157 [00:01<00:00, 85.69it/s, Loss=0.00724]\n"
          ]
        },
        {
          "output_type": "stream",
          "name": "stdout",
          "text": [
            "Epoch 40, Loss: 0.008804372019448857, lr = 0.008026847717655952\n"
          ]
        },
        {
          "output_type": "stream",
          "name": "stderr",
          "text": [
            "BatchNorm with epoch 41: 100%|██████████| 157/157 [00:01<00:00, 86.42it/s, Loss=0.00665]\n"
          ]
        },
        {
          "output_type": "stream",
          "name": "stdout",
          "text": [
            "Epoch 41, Loss: 0.008316849565999523, lr = 0.007854198859725573\n"
          ]
        },
        {
          "output_type": "stream",
          "name": "stderr",
          "text": [
            "BatchNorm with epoch 42: 100%|██████████| 157/157 [00:01<00:00, 85.72it/s, Loss=0.00339]\n"
          ]
        },
        {
          "output_type": "stream",
          "name": "stdout",
          "text": [
            "Epoch 42, Loss: 0.008217471040737856, lr = 0.007679966851197918\n"
          ]
        },
        {
          "output_type": "stream",
          "name": "stderr",
          "text": [
            "BatchNorm with epoch 43: 100%|██████████| 157/157 [00:01<00:00, 85.69it/s, Loss=0.0174] \n"
          ]
        },
        {
          "output_type": "stream",
          "name": "stdout",
          "text": [
            "Epoch 43, Loss: 0.008135390485737734, lr = 0.007504323638030124\n"
          ]
        },
        {
          "output_type": "stream",
          "name": "stderr",
          "text": [
            "BatchNorm with epoch 44: 100%|██████████| 157/157 [00:01<00:00, 87.08it/s, Loss=0.0736] \n"
          ]
        },
        {
          "output_type": "stream",
          "name": "stdout",
          "text": [
            "Epoch 44, Loss: 0.00838955558219533, lr = 0.007327442558867921\n"
          ]
        },
        {
          "output_type": "stream",
          "name": "stderr",
          "text": [
            "BatchNorm with epoch 45: 100%|██████████| 157/157 [00:01<00:00, 86.76it/s, Loss=0.0112] \n"
          ]
        },
        {
          "output_type": "stream",
          "name": "stdout",
          "text": [
            "Epoch 45, Loss: 0.009048476316936456, lr = 0.00714949817398133\n"
          ]
        },
        {
          "output_type": "stream",
          "name": "stderr",
          "text": [
            "BatchNorm with epoch 46: 100%|██████████| 157/157 [00:01<00:00, 86.31it/s, Loss=0.0591] \n"
          ]
        },
        {
          "output_type": "stream",
          "name": "stdout",
          "text": [
            "Epoch 46, Loss: 0.008296045931471381, lr = 0.006970666092994753\n"
          ]
        },
        {
          "output_type": "stream",
          "name": "stderr",
          "text": [
            "BatchNorm with epoch 47: 100%|██████████| 157/157 [00:01<00:00, 87.22it/s, Loss=0.00299]\n"
          ]
        },
        {
          "output_type": "stream",
          "name": "stdout",
          "text": [
            "Epoch 47, Loss: 0.008804721745905603, lr = 0.006791122801581459\n"
          ]
        },
        {
          "output_type": "stream",
          "name": "stderr",
          "text": [
            "BatchNorm with epoch 48: 100%|██████████| 157/157 [00:01<00:00, 86.81it/s, Loss=0.0105]\n"
          ]
        },
        {
          "output_type": "stream",
          "name": "stdout",
          "text": [
            "Epoch 48, Loss: 0.00758809048184164, lr = 0.006611045487293554\n"
          ]
        },
        {
          "output_type": "stream",
          "name": "stderr",
          "text": [
            "BatchNorm with epoch 49: 100%|██████████| 157/157 [00:01<00:00, 85.17it/s, Loss=0.0209] \n"
          ]
        },
        {
          "output_type": "stream",
          "name": "stdout",
          "text": [
            "Epoch 49, Loss: 0.007654549115023036, lr = 0.006430611864699239\n"
          ]
        },
        {
          "output_type": "stream",
          "name": "stderr",
          "text": [
            "BatchNorm with epoch 50: 100%|██████████| 157/157 [00:01<00:00, 86.81it/s, Loss=0.0499] \n"
          ]
        },
        {
          "output_type": "stream",
          "name": "stdout",
          "text": [
            "Epoch 50, Loss: 0.007787664391242775, lr = 0.00625\n"
          ]
        },
        {
          "output_type": "stream",
          "name": "stderr",
          "text": [
            "BatchNorm with epoch 51: 100%|██████████| 157/157 [00:01<00:00, 86.04it/s, Loss=0.00801] \n"
          ]
        },
        {
          "output_type": "stream",
          "name": "stdout",
          "text": [
            "Epoch 51, Loss: 0.007607648018628928, lr = 0.006069388135300762\n"
          ]
        },
        {
          "output_type": "stream",
          "name": "stderr",
          "text": [
            "BatchNorm with epoch 52: 100%|██████████| 157/157 [00:01<00:00, 85.72it/s, Loss=0.0579] \n"
          ]
        },
        {
          "output_type": "stream",
          "name": "stdout",
          "text": [
            "Epoch 52, Loss: 0.008297870730518535, lr = 0.005888954512706447\n"
          ]
        },
        {
          "output_type": "stream",
          "name": "stderr",
          "text": [
            "BatchNorm with epoch 53: 100%|██████████| 157/157 [00:01<00:00, 84.98it/s, Loss=0.0137]\n"
          ]
        },
        {
          "output_type": "stream",
          "name": "stdout",
          "text": [
            "Epoch 53, Loss: 0.007728211344427364, lr = 0.005708877198418541\n"
          ]
        },
        {
          "output_type": "stream",
          "name": "stderr",
          "text": [
            "BatchNorm with epoch 54: 100%|██████████| 157/157 [00:01<00:00, 86.22it/s, Loss=0.0052] \n"
          ]
        },
        {
          "output_type": "stream",
          "name": "stdout",
          "text": [
            "Epoch 54, Loss: 0.007841415798208516, lr = 0.0055293339070052495\n"
          ]
        },
        {
          "output_type": "stream",
          "name": "stderr",
          "text": [
            "BatchNorm with epoch 55: 100%|██████████| 157/157 [00:01<00:00, 84.39it/s, Loss=0.00244]\n"
          ]
        },
        {
          "output_type": "stream",
          "name": "stdout",
          "text": [
            "Epoch 55, Loss: 0.007301805457871431, lr = 0.005350501826018671\n"
          ]
        },
        {
          "output_type": "stream",
          "name": "stderr",
          "text": [
            "BatchNorm with epoch 56: 100%|██████████| 157/157 [00:01<00:00, 86.17it/s, Loss=0.0136] \n"
          ]
        },
        {
          "output_type": "stream",
          "name": "stdout",
          "text": [
            "Epoch 56, Loss: 0.007097042456364176, lr = 0.005172557441132082\n"
          ]
        },
        {
          "output_type": "stream",
          "name": "stderr",
          "text": [
            "BatchNorm with epoch 57: 100%|██████████| 157/157 [00:01<00:00, 86.65it/s, Loss=0.00797] \n"
          ]
        },
        {
          "output_type": "stream",
          "name": "stdout",
          "text": [
            "Epoch 57, Loss: 0.007104088617548062, lr = 0.00499567636196988\n"
          ]
        },
        {
          "output_type": "stream",
          "name": "stderr",
          "text": [
            "BatchNorm with epoch 58: 100%|██████████| 157/157 [00:01<00:00, 86.02it/s, Loss=0.00318] \n"
          ]
        },
        {
          "output_type": "stream",
          "name": "stdout",
          "text": [
            "Epoch 58, Loss: 0.006974674144368263, lr = 0.004820033148802083\n"
          ]
        },
        {
          "output_type": "stream",
          "name": "stderr",
          "text": [
            "BatchNorm with epoch 59: 100%|██████████| 157/157 [00:01<00:00, 85.59it/s, Loss=0.0114] \n"
          ]
        },
        {
          "output_type": "stream",
          "name": "stdout",
          "text": [
            "Epoch 59, Loss: 0.00677600403310387, lr = 0.004645801140274431\n"
          ]
        },
        {
          "output_type": "stream",
          "name": "stderr",
          "text": [
            "BatchNorm with epoch 60: 100%|██████████| 157/157 [00:01<00:00, 85.38it/s, Loss=0.0127]\n"
          ]
        },
        {
          "output_type": "stream",
          "name": "stdout",
          "text": [
            "Epoch 60, Loss: 0.00670159520332221, lr = 0.004473152282344052\n"
          ]
        },
        {
          "output_type": "stream",
          "name": "stderr",
          "text": [
            "BatchNorm with epoch 61: 100%|██████████| 157/157 [00:01<00:00, 86.74it/s, Loss=0.0307] \n"
          ]
        },
        {
          "output_type": "stream",
          "name": "stdout",
          "text": [
            "Epoch 61, Loss: 0.00717079494694236, lr = 0.004302256958589572\n"
          ]
        },
        {
          "output_type": "stream",
          "name": "stderr",
          "text": [
            "BatchNorm with epoch 62: 100%|██████████| 157/157 [00:01<00:00, 86.25it/s, Loss=0.00621] \n"
          ]
        },
        {
          "output_type": "stream",
          "name": "stdout",
          "text": [
            "Epoch 62, Loss: 0.006692998799358963, lr = 0.004133283822063101\n"
          ]
        },
        {
          "output_type": "stream",
          "name": "stderr",
          "text": [
            "BatchNorm with epoch 63: 100%|██████████| 157/157 [00:01<00:00, 87.27it/s, Loss=0.0455] \n"
          ]
        },
        {
          "output_type": "stream",
          "name": "stdout",
          "text": [
            "Epoch 63, Loss: 0.007197645131000288, lr = 0.003966399628850009\n"
          ]
        },
        {
          "output_type": "stream",
          "name": "stderr",
          "text": [
            "BatchNorm with epoch 64: 100%|██████████| 157/157 [00:01<00:00, 86.64it/s, Loss=0.0131] \n"
          ]
        },
        {
          "output_type": "stream",
          "name": "stdout",
          "text": [
            "Epoch 64, Loss: 0.006985078263244811, lr = 0.0038017690735008304\n"
          ]
        },
        {
          "output_type": "stream",
          "name": "stderr",
          "text": [
            "BatchNorm with epoch 65: 100%|██████████| 157/157 [00:01<00:00, 86.57it/s, Loss=0.0219] \n"
          ]
        },
        {
          "output_type": "stream",
          "name": "stdout",
          "text": [
            "Epoch 65, Loss: 0.006908920445259969, lr = 0.0036395546264976044\n"
          ]
        },
        {
          "output_type": "stream",
          "name": "stderr",
          "text": [
            "BatchNorm with epoch 66: 100%|██████████| 157/157 [00:01<00:00, 86.55it/s, Loss=0.671]\n"
          ]
        },
        {
          "output_type": "stream",
          "name": "stdout",
          "text": [
            "Epoch 66, Loss: 0.011214925462652924, lr = 0.0034799163739151345\n"
          ]
        },
        {
          "output_type": "stream",
          "name": "stderr",
          "text": [
            "BatchNorm with epoch 67: 100%|██████████| 157/157 [00:01<00:00, 86.22it/s, Loss=0.021] \n"
          ]
        },
        {
          "output_type": "stream",
          "name": "stdout",
          "text": [
            "Epoch 67, Loss: 0.01855665775146454, lr = 0.0033230118594353634\n"
          ]
        },
        {
          "output_type": "stream",
          "name": "stderr",
          "text": [
            "BatchNorm with epoch 68: 100%|██████████| 157/157 [00:01<00:00, 84.14it/s, Loss=0.012]\n"
          ]
        },
        {
          "output_type": "stream",
          "name": "stdout",
          "text": [
            "Epoch 68, Loss: 0.008070380254915565, lr = 0.0031689959288707667\n"
          ]
        },
        {
          "output_type": "stream",
          "name": "stderr",
          "text": [
            "BatchNorm with epoch 69: 100%|██████████| 157/157 [00:01<00:00, 87.74it/s, Loss=0.00417] \n"
          ]
        },
        {
          "output_type": "stream",
          "name": "stdout",
          "text": [
            "Epoch 69, Loss: 0.00763873309846137, lr = 0.0030180205773502476\n"
          ]
        },
        {
          "output_type": "stream",
          "name": "stderr",
          "text": [
            "BatchNorm with epoch 70: 100%|██████████| 157/157 [00:01<00:00, 87.00it/s, Loss=0.0449] \n"
          ]
        },
        {
          "output_type": "stream",
          "name": "stdout",
          "text": [
            "Epoch 70, Loss: 0.0076567464431000366, lr = 0.0028702347993182793\n"
          ]
        },
        {
          "output_type": "stream",
          "name": "stderr",
          "text": [
            "BatchNorm with epoch 71: 100%|██████████| 157/157 [00:01<00:00, 86.56it/s, Loss=0.349] \n"
          ]
        },
        {
          "output_type": "stream",
          "name": "stdout",
          "text": [
            "Epoch 71, Loss: 0.010011431470418431, lr = 0.002725784441495384\n"
          ]
        },
        {
          "output_type": "stream",
          "name": "stderr",
          "text": [
            "BatchNorm with epoch 72: 100%|██████████| 157/157 [00:01<00:00, 85.84it/s, Loss=0.00551] \n"
          ]
        },
        {
          "output_type": "stream",
          "name": "stdout",
          "text": [
            "Epoch 72, Loss: 0.010371035878445692, lr = 0.0025848120589450334\n"
          ]
        },
        {
          "output_type": "stream",
          "name": "stderr",
          "text": [
            "BatchNorm with epoch 73: 100%|██████████| 157/157 [00:01<00:00, 85.02it/s, Loss=0.00791] \n"
          ]
        },
        {
          "output_type": "stream",
          "name": "stdout",
          "text": [
            "Epoch 73, Loss: 0.00734171762493006, lr = 0.0024474567743890023\n"
          ]
        },
        {
          "output_type": "stream",
          "name": "stderr",
          "text": [
            "BatchNorm with epoch 74: 100%|██████████| 157/157 [00:01<00:00, 85.47it/s, Loss=0.00888]\n"
          ]
        },
        {
          "output_type": "stream",
          "name": "stdout",
          "text": [
            "Epoch 74, Loss: 0.007150887565058508, lr = 0.0023138541409100395\n"
          ]
        },
        {
          "output_type": "stream",
          "name": "stderr",
          "text": [
            "BatchNorm with epoch 75: 100%|██████████| 157/157 [00:01<00:00, 84.75it/s, Loss=0.0048] \n"
          ]
        },
        {
          "output_type": "stream",
          "name": "stdout",
          "text": [
            "Epoch 75, Loss: 0.006620148612055809, lr = 0.0021841360081773517\n"
          ]
        },
        {
          "output_type": "stream",
          "name": "stderr",
          "text": [
            "BatchNorm with epoch 76: 100%|██████████| 157/157 [00:01<00:00, 87.04it/s, Loss=0.0142] \n"
          ]
        },
        {
          "output_type": "stream",
          "name": "stdout",
          "text": [
            "Epoch 76, Loss: 0.0069907014109906115, lr = 0.0020584303923268845\n"
          ]
        },
        {
          "output_type": "stream",
          "name": "stderr",
          "text": [
            "BatchNorm with epoch 77: 100%|██████████| 157/157 [00:01<00:00, 86.46it/s, Loss=0.018]\n"
          ]
        },
        {
          "output_type": "stream",
          "name": "stdout",
          "text": [
            "Epoch 77, Loss: 0.006723460498129486, lr = 0.0019368613496248569\n"
          ]
        },
        {
          "output_type": "stream",
          "name": "stderr",
          "text": [
            "BatchNorm with epoch 78: 100%|██████████| 157/157 [00:01<00:00, 86.07it/s, Loss=0.00993] \n"
          ]
        },
        {
          "output_type": "stream",
          "name": "stdout",
          "text": [
            "Epoch 78, Loss: 0.006337634222522663, lr = 0.001819548854039212\n"
          ]
        },
        {
          "output_type": "stream",
          "name": "stderr",
          "text": [
            "BatchNorm with epoch 79: 100%|██████████| 157/157 [00:01<00:00, 86.39it/s, Loss=0.0125] \n"
          ]
        },
        {
          "output_type": "stream",
          "name": "stdout",
          "text": [
            "Epoch 79, Loss: 0.006593097950432711, lr = 0.0017066086788397798\n"
          ]
        },
        {
          "output_type": "stream",
          "name": "stderr",
          "text": [
            "BatchNorm with epoch 80: 100%|██████████| 157/157 [00:01<00:00, 84.85it/s, Loss=0.0128]\n"
          ]
        },
        {
          "output_type": "stream",
          "name": "stdout",
          "text": [
            "Epoch 80, Loss: 0.006645452705728021, lr = 0.0015981522823440525\n"
          ]
        },
        {
          "output_type": "stream",
          "name": "stderr",
          "text": [
            "BatchNorm with epoch 81: 100%|██████████| 157/157 [00:01<00:00, 84.79it/s, Loss=0.0111] \n"
          ]
        },
        {
          "output_type": "stream",
          "name": "stdout",
          "text": [
            "Epoch 81, Loss: 0.006454744726229625, lr = 0.0014942866979212699\n"
          ]
        },
        {
          "output_type": "stream",
          "name": "stderr",
          "text": [
            "BatchNorm with epoch 82: 100%|██████████| 157/157 [00:01<00:00, 87.24it/s, Loss=0.00693] \n"
          ]
        },
        {
          "output_type": "stream",
          "name": "stdout",
          "text": [
            "Epoch 82, Loss: 0.006519502111870772, lr = 0.0013951144283634144\n"
          ]
        },
        {
          "output_type": "stream",
          "name": "stderr",
          "text": [
            "BatchNorm with epoch 83: 100%|██████████| 157/157 [00:01<00:00, 87.39it/s, Loss=0.00253]\n"
          ]
        },
        {
          "output_type": "stream",
          "name": "stdout",
          "text": [
            "Epoch 83, Loss: 0.006361178887687671, lr = 0.0013007333447273232\n"
          ]
        },
        {
          "output_type": "stream",
          "name": "stderr",
          "text": [
            "BatchNorm with epoch 84: 100%|██████████| 157/157 [00:01<00:00, 85.13it/s, Loss=0.00685]\n"
          ]
        },
        {
          "output_type": "stream",
          "name": "stdout",
          "text": [
            "Epoch 84, Loss: 0.006229191923597057, lr = 0.0012112365897477841\n"
          ]
        },
        {
          "output_type": "stream",
          "name": "stderr",
          "text": [
            "BatchNorm with epoch 85: 100%|██████████| 157/157 [00:01<00:00, 86.47it/s, Loss=0.0116] \n"
          ]
        },
        {
          "output_type": "stream",
          "name": "stdout",
          "text": [
            "Epoch 85, Loss: 0.0064136548216935175, lr = 0.001126712485916885\n"
          ]
        },
        {
          "output_type": "stream",
          "name": "stderr",
          "text": [
            "BatchNorm with epoch 86: 100%|██████████| 157/157 [00:01<00:00, 85.99it/s, Loss=0.00842] \n"
          ]
        },
        {
          "output_type": "stream",
          "name": "stdout",
          "text": [
            "Epoch 86, Loss: 0.006244488962137016, lr = 0.0010472444483203885\n"
          ]
        },
        {
          "output_type": "stream",
          "name": "stderr",
          "text": [
            "BatchNorm with epoch 87: 100%|██████████| 157/157 [00:01<00:00, 84.62it/s, Loss=0.0087]\n"
          ]
        },
        {
          "output_type": "stream",
          "name": "stdout",
          "text": [
            "Epoch 87, Loss: 0.0069018258553022035, lr = 0.0009729109023171096\n"
          ]
        },
        {
          "output_type": "stream",
          "name": "stderr",
          "text": [
            "BatchNorm with epoch 88: 100%|██████████| 157/157 [00:01<00:00, 87.82it/s, Loss=0.0165] \n"
          ]
        },
        {
          "output_type": "stream",
          "name": "stdout",
          "text": [
            "Epoch 88, Loss: 0.0063663313912737905, lr = 0.0009037852061425547\n"
          ]
        },
        {
          "output_type": "stream",
          "name": "stderr",
          "text": [
            "BatchNorm with epoch 89: 100%|██████████| 157/157 [00:01<00:00, 88.29it/s, Loss=0.0126] \n"
          ]
        },
        {
          "output_type": "stream",
          "name": "stdout",
          "text": [
            "Epoch 89, Loss: 0.006532137988099627, lr = 0.0008399355785132036\n"
          ]
        },
        {
          "output_type": "stream",
          "name": "stderr",
          "text": [
            "BatchNorm with epoch 90: 100%|██████████| 157/157 [00:01<00:00, 87.28it/s, Loss=0.00914] \n"
          ]
        },
        {
          "output_type": "stream",
          "name": "stdout",
          "text": [
            "Epoch 90, Loss: 0.00617128617729351, lr = 0.0007814250313028671\n"
          ]
        },
        {
          "output_type": "stream",
          "name": "stderr",
          "text": [
            "BatchNorm with epoch 91: 100%|██████████| 157/157 [00:01<00:00, 87.14it/s, Loss=0.00792] \n"
          ]
        },
        {
          "output_type": "stream",
          "name": "stdout",
          "text": [
            "Epoch 91, Loss: 0.0061300733619055175, lr = 0.0007283113073575779\n"
          ]
        },
        {
          "output_type": "stream",
          "name": "stderr",
          "text": [
            "BatchNorm with epoch 92: 100%|██████████| 157/157 [00:01<00:00, 86.50it/s, Loss=0.00631] \n"
          ]
        },
        {
          "output_type": "stream",
          "name": "stdout",
          "text": [
            "Epoch 92, Loss: 0.006170249668655882, lr = 0.0006806468235103719\n"
          ]
        },
        {
          "output_type": "stream",
          "name": "stderr",
          "text": [
            "BatchNorm with epoch 93: 100%|██████████| 157/157 [00:01<00:00, 83.53it/s, Loss=0.0165]\n"
          ]
        },
        {
          "output_type": "stream",
          "name": "stdout",
          "text": [
            "Epoch 93, Loss: 0.006495895113345165, lr = 0.0006384786188522028\n"
          ]
        },
        {
          "output_type": "stream",
          "name": "stderr",
          "text": [
            "BatchNorm with epoch 94: 100%|██████████| 157/157 [00:01<00:00, 83.99it/s, Loss=0.0219]\n"
          ]
        },
        {
          "output_type": "stream",
          "name": "stdout",
          "text": [
            "Epoch 94, Loss: 0.006327008555649193, lr = 0.0006018483083100398\n"
          ]
        },
        {
          "output_type": "stream",
          "name": "stderr",
          "text": [
            "BatchNorm with epoch 95: 100%|██████████| 157/157 [00:01<00:00, 87.15it/s, Loss=0.0263] \n"
          ]
        },
        {
          "output_type": "stream",
          "name": "stdout",
          "text": [
            "Epoch 95, Loss: 0.0064698827874128985, lr = 0.0005707920415779584\n"
          ]
        },
        {
          "output_type": "stream",
          "name": "stderr",
          "text": [
            "BatchNorm with epoch 96: 100%|██████████| 157/157 [00:01<00:00, 86.93it/s, Loss=0.00854] \n"
          ]
        },
        {
          "output_type": "stream",
          "name": "stdout",
          "text": [
            "Epoch 96, Loss: 0.006445079021582938, lr = 0.0005453404674417528\n"
          ]
        },
        {
          "output_type": "stream",
          "name": "stderr",
          "text": [
            "BatchNorm with epoch 97: 100%|██████████| 157/157 [00:01<00:00, 86.25it/s, Loss=0.0145] \n"
          ]
        },
        {
          "output_type": "stream",
          "name": "stdout",
          "text": [
            "Epoch 97, Loss: 0.006218233875408294, lr = 0.00052551870353229\n"
          ]
        },
        {
          "output_type": "stream",
          "name": "stderr",
          "text": [
            "BatchNorm with epoch 98: 100%|██████████| 157/157 [00:01<00:00, 85.70it/s, Loss=0.0328]\n"
          ]
        },
        {
          "output_type": "stream",
          "name": "stdout",
          "text": [
            "Epoch 98, Loss: 0.006440696514146343, lr = 0.0005113463115374385\n"
          ]
        },
        {
          "output_type": "stream",
          "name": "stderr",
          "text": [
            "BatchNorm with epoch 99: 100%|██████████| 157/157 [00:01<00:00, 85.18it/s, Loss=0.0517]\n"
          ]
        },
        {
          "output_type": "stream",
          "name": "stdout",
          "text": [
            "Epoch 99, Loss: 0.006570258504076368, lr = 0.0005028372778970433\n"
          ]
        },
        {
          "output_type": "stream",
          "name": "stderr",
          "text": [
            "BatchNorm with epoch 100: 100%|██████████| 157/157 [00:01<00:00, 84.99it/s, Loss=0.00481] \n"
          ]
        },
        {
          "output_type": "stream",
          "name": "stdout",
          "text": [
            "Epoch 100, Loss: 0.006445268869020377, lr = 0.0005\n"
          ]
        },
        {
          "output_type": "stream",
          "name": "stderr",
          "text": [
            "GroupNorm with epoch 1: 100%|██████████| 157/157 [00:01<00:00, 83.39it/s, Loss=1.95]\n"
          ]
        },
        {
          "output_type": "stream",
          "name": "stdout",
          "text": [
            "Epoch 1, Loss: 1.9623724579051802, lr = 0.011997162722102958\n"
          ]
        },
        {
          "output_type": "stream",
          "name": "stderr",
          "text": [
            "GroupNorm with epoch 2: 100%|██████████| 157/157 [00:01<00:00, 85.66it/s, Loss=1.26]\n"
          ]
        },
        {
          "output_type": "stream",
          "name": "stdout",
          "text": [
            "Epoch 2, Loss: 1.5630978748297235, lr = 0.011988653688462563\n"
          ]
        },
        {
          "output_type": "stream",
          "name": "stderr",
          "text": [
            "GroupNorm with epoch 3: 100%|██████████| 157/157 [00:01<00:00, 84.14it/s, Loss=1.41]\n"
          ]
        },
        {
          "output_type": "stream",
          "name": "stdout",
          "text": [
            "Epoch 3, Loss: 1.3776264069186654, lr = 0.011974481296467712\n"
          ]
        },
        {
          "output_type": "stream",
          "name": "stderr",
          "text": [
            "GroupNorm with epoch 4: 100%|██████████| 157/157 [00:01<00:00, 83.31it/s, Loss=0.683]\n"
          ]
        },
        {
          "output_type": "stream",
          "name": "stdout",
          "text": [
            "Epoch 4, Loss: 1.269630189154558, lr = 0.01195465953255825\n"
          ]
        },
        {
          "output_type": "stream",
          "name": "stderr",
          "text": [
            "GroupNorm with epoch 5: 100%|██████████| 157/157 [00:01<00:00, 84.04it/s, Loss=0.833]\n"
          ]
        },
        {
          "output_type": "stream",
          "name": "stdout",
          "text": [
            "Epoch 5, Loss: 1.1686813117592199, lr = 0.011929207958422044\n"
          ]
        },
        {
          "output_type": "stream",
          "name": "stderr",
          "text": [
            "GroupNorm with epoch 6: 100%|██████████| 157/157 [00:01<00:00, 81.03it/s, Loss=1.27]\n"
          ]
        },
        {
          "output_type": "stream",
          "name": "stdout",
          "text": [
            "Epoch 6, Loss: 1.0391679721273435, lr = 0.011898151691689963\n"
          ]
        },
        {
          "output_type": "stream",
          "name": "stderr",
          "text": [
            "GroupNorm with epoch 7: 100%|██████████| 157/157 [00:01<00:00, 84.57it/s, Loss=1.31]\n"
          ]
        },
        {
          "output_type": "stream",
          "name": "stdout",
          "text": [
            "Epoch 7, Loss: 0.9593525418810024, lr = 0.0118615213811478\n"
          ]
        },
        {
          "output_type": "stream",
          "name": "stderr",
          "text": [
            "GroupNorm with epoch 8: 100%|██████████| 157/157 [00:01<00:00, 83.70it/s, Loss=1.28]\n"
          ]
        },
        {
          "output_type": "stream",
          "name": "stdout",
          "text": [
            "Epoch 8, Loss: 0.8837297824537678, lr = 0.011819353176489631\n"
          ]
        },
        {
          "output_type": "stream",
          "name": "stderr",
          "text": [
            "GroupNorm with epoch 9: 100%|██████████| 157/157 [00:01<00:00, 85.61it/s, Loss=0.706]\n"
          ]
        },
        {
          "output_type": "stream",
          "name": "stdout",
          "text": [
            "Epoch 9, Loss: 0.7421549068894356, lr = 0.011771688692642425\n"
          ]
        },
        {
          "output_type": "stream",
          "name": "stderr",
          "text": [
            "GroupNorm with epoch 10: 100%|██████████| 157/157 [00:01<00:00, 84.86it/s, Loss=0.782] \n"
          ]
        },
        {
          "output_type": "stream",
          "name": "stdout",
          "text": [
            "Epoch 10, Loss: 0.6520939930609078, lr = 0.011718574968697135\n"
          ]
        },
        {
          "output_type": "stream",
          "name": "stderr",
          "text": [
            "GroupNorm with epoch 11: 100%|██████████| 157/157 [00:01<00:00, 84.46it/s, Loss=0.535]\n"
          ]
        },
        {
          "output_type": "stream",
          "name": "stdout",
          "text": [
            "Epoch 11, Loss: 0.5908111166802181, lr = 0.0116600644214868\n"
          ]
        },
        {
          "output_type": "stream",
          "name": "stderr",
          "text": [
            "GroupNorm with epoch 12: 100%|██████████| 157/157 [00:01<00:00, 81.76it/s, Loss=0.712]\n"
          ]
        },
        {
          "output_type": "stream",
          "name": "stdout",
          "text": [
            "Epoch 12, Loss: 0.5069752419070833, lr = 0.011596214793857449\n"
          ]
        },
        {
          "output_type": "stream",
          "name": "stderr",
          "text": [
            "GroupNorm with epoch 13: 100%|██████████| 157/157 [00:01<00:00, 83.62it/s, Loss=0.148]\n"
          ]
        },
        {
          "output_type": "stream",
          "name": "stdout",
          "text": [
            "Epoch 13, Loss: 0.40984948586886094, lr = 0.011527089097682894\n"
          ]
        },
        {
          "output_type": "stream",
          "name": "stderr",
          "text": [
            "GroupNorm with epoch 14: 100%|██████████| 157/157 [00:01<00:00, 85.08it/s, Loss=0.767]\n"
          ]
        },
        {
          "output_type": "stream",
          "name": "stdout",
          "text": [
            "Epoch 14, Loss: 0.3244766339564779, lr = 0.011452755551679615\n"
          ]
        },
        {
          "output_type": "stream",
          "name": "stderr",
          "text": [
            "GroupNorm with epoch 15: 100%|██████████| 157/157 [00:01<00:00, 85.63it/s, Loss=0.0498]\n"
          ]
        },
        {
          "output_type": "stream",
          "name": "stdout",
          "text": [
            "Epoch 15, Loss: 0.27168846149353465, lr = 0.011373287514083117\n"
          ]
        },
        {
          "output_type": "stream",
          "name": "stderr",
          "text": [
            "GroupNorm with epoch 16: 100%|██████████| 157/157 [00:01<00:00, 84.88it/s, Loss=0.228]\n"
          ]
        },
        {
          "output_type": "stream",
          "name": "stdout",
          "text": [
            "Epoch 16, Loss: 0.20464890108556505, lr = 0.011288763410252218\n"
          ]
        },
        {
          "output_type": "stream",
          "name": "stderr",
          "text": [
            "GroupNorm with epoch 17: 100%|██████████| 157/157 [00:01<00:00, 81.08it/s, Loss=0.123]\n"
          ]
        },
        {
          "output_type": "stream",
          "name": "stdout",
          "text": [
            "Epoch 17, Loss: 0.17697825278066526, lr = 0.01119926665527268\n"
          ]
        },
        {
          "output_type": "stream",
          "name": "stderr",
          "text": [
            "GroupNorm with epoch 18: 100%|██████████| 157/157 [00:01<00:00, 81.56it/s, Loss=0.0246]\n"
          ]
        },
        {
          "output_type": "stream",
          "name": "stdout",
          "text": [
            "Epoch 18, Loss: 0.10649657565032601, lr = 0.01110488557163659\n"
          ]
        },
        {
          "output_type": "stream",
          "name": "stderr",
          "text": [
            "GroupNorm with epoch 19: 100%|██████████| 157/157 [00:01<00:00, 83.05it/s, Loss=0.0361]\n"
          ]
        },
        {
          "output_type": "stream",
          "name": "stdout",
          "text": [
            "Epoch 19, Loss: 0.05738808584820693, lr = 0.011005713302078734\n"
          ]
        },
        {
          "output_type": "stream",
          "name": "stderr",
          "text": [
            "GroupNorm with epoch 20: 100%|██████████| 157/157 [00:01<00:00, 84.50it/s, Loss=0.0107]\n"
          ]
        },
        {
          "output_type": "stream",
          "name": "stdout",
          "text": [
            "Epoch 20, Loss: 0.029691133885436757, lr = 0.010901847717655951\n"
          ]
        },
        {
          "output_type": "stream",
          "name": "stderr",
          "text": [
            "GroupNorm with epoch 21: 100%|██████████| 157/157 [00:01<00:00, 84.15it/s, Loss=0.0108]\n"
          ]
        },
        {
          "output_type": "stream",
          "name": "stdout",
          "text": [
            "Epoch 21, Loss: 0.02013135307533726, lr = 0.010793391321160221\n"
          ]
        },
        {
          "output_type": "stream",
          "name": "stderr",
          "text": [
            "GroupNorm with epoch 22: 100%|██████████| 157/157 [00:01<00:00, 84.42it/s, Loss=0.0254]\n"
          ]
        },
        {
          "output_type": "stream",
          "name": "stdout",
          "text": [
            "Epoch 22, Loss: 0.015665644032370512, lr = 0.01068045114596079\n"
          ]
        },
        {
          "output_type": "stream",
          "name": "stderr",
          "text": [
            "GroupNorm with epoch 23: 100%|██████████| 157/157 [00:01<00:00, 82.89it/s, Loss=0.016]\n"
          ]
        },
        {
          "output_type": "stream",
          "name": "stdout",
          "text": [
            "Epoch 23, Loss: 0.013470797734275746, lr = 0.010563138650375146\n"
          ]
        },
        {
          "output_type": "stream",
          "name": "stderr",
          "text": [
            "GroupNorm with epoch 24: 100%|██████████| 157/157 [00:01<00:00, 78.56it/s, Loss=0.00737]\n"
          ]
        },
        {
          "output_type": "stream",
          "name": "stdout",
          "text": [
            "Epoch 24, Loss: 0.011978419106097737, lr = 0.01044156960767312\n"
          ]
        },
        {
          "output_type": "stream",
          "name": "stderr",
          "text": [
            "GroupNorm with epoch 25: 100%|██████████| 157/157 [00:01<00:00, 83.85it/s, Loss=0.0138]\n"
          ]
        },
        {
          "output_type": "stream",
          "name": "stdout",
          "text": [
            "Epoch 25, Loss: 0.011064320280673397, lr = 0.010315863991822652\n"
          ]
        },
        {
          "output_type": "stream",
          "name": "stderr",
          "text": [
            "GroupNorm with epoch 26: 100%|██████████| 157/157 [00:01<00:00, 83.88it/s, Loss=0.00909]\n"
          ]
        },
        {
          "output_type": "stream",
          "name": "stdout",
          "text": [
            "Epoch 26, Loss: 0.010294545845241304, lr = 0.010186145859089965\n"
          ]
        },
        {
          "output_type": "stream",
          "name": "stderr",
          "text": [
            "GroupNorm with epoch 27: 100%|██████████| 157/157 [00:01<00:00, 80.81it/s, Loss=0.0158]\n"
          ]
        },
        {
          "output_type": "stream",
          "name": "stdout",
          "text": [
            "Epoch 27, Loss: 0.009652342410034435, lr = 0.010052543225611003\n"
          ]
        },
        {
          "output_type": "stream",
          "name": "stderr",
          "text": [
            "GroupNorm with epoch 28: 100%|██████████| 157/157 [00:01<00:00, 83.25it/s, Loss=0.0115]\n"
          ]
        },
        {
          "output_type": "stream",
          "name": "stdout",
          "text": [
            "Epoch 28, Loss: 0.009270082233817714, lr = 0.00991518794105497\n"
          ]
        },
        {
          "output_type": "stream",
          "name": "stderr",
          "text": [
            "GroupNorm with epoch 29: 100%|██████████| 157/157 [00:01<00:00, 83.68it/s, Loss=0.00482]\n"
          ]
        },
        {
          "output_type": "stream",
          "name": "stdout",
          "text": [
            "Epoch 29, Loss: 0.00881755012710383, lr = 0.00977421555850462\n"
          ]
        },
        {
          "output_type": "stream",
          "name": "stderr",
          "text": [
            "GroupNorm with epoch 30: 100%|██████████| 157/157 [00:01<00:00, 82.52it/s, Loss=0.00883]\n"
          ]
        },
        {
          "output_type": "stream",
          "name": "stdout",
          "text": [
            "Epoch 30, Loss: 0.008413036514049883, lr = 0.009629765200681727\n"
          ]
        },
        {
          "output_type": "stream",
          "name": "stderr",
          "text": [
            "GroupNorm with epoch 31: 100%|██████████| 157/157 [00:01<00:00, 82.06it/s, Loss=0.0133]\n"
          ]
        },
        {
          "output_type": "stream",
          "name": "stdout",
          "text": [
            "Epoch 31, Loss: 0.008248853740418793, lr = 0.009481979422649757\n"
          ]
        },
        {
          "output_type": "stream",
          "name": "stderr",
          "text": [
            "GroupNorm with epoch 32: 100%|██████████| 157/157 [00:01<00:00, 83.70it/s, Loss=0.00409]\n"
          ]
        },
        {
          "output_type": "stream",
          "name": "stdout",
          "text": [
            "Epoch 32, Loss: 0.007877815870722388, lr = 0.009331004071129235\n"
          ]
        },
        {
          "output_type": "stream",
          "name": "stderr",
          "text": [
            "GroupNorm with epoch 33: 100%|██████████| 157/157 [00:01<00:00, 82.74it/s, Loss=0.00536]\n"
          ]
        },
        {
          "output_type": "stream",
          "name": "stdout",
          "text": [
            "Epoch 33, Loss: 0.007612777672186019, lr = 0.00917698814056464\n"
          ]
        },
        {
          "output_type": "stream",
          "name": "stderr",
          "text": [
            "GroupNorm with epoch 34: 100%|██████████| 157/157 [00:01<00:00, 84.25it/s, Loss=0.00747]\n"
          ]
        },
        {
          "output_type": "stream",
          "name": "stdout",
          "text": [
            "Epoch 34, Loss: 0.007506243457460099, lr = 0.009020083626084868\n"
          ]
        },
        {
          "output_type": "stream",
          "name": "stderr",
          "text": [
            "GroupNorm with epoch 35: 100%|██████████| 157/157 [00:01<00:00, 83.94it/s, Loss=0.00898]\n"
          ]
        },
        {
          "output_type": "stream",
          "name": "stdout",
          "text": [
            "Epoch 35, Loss: 0.007305396993638603, lr = 0.008860445373502399\n"
          ]
        },
        {
          "output_type": "stream",
          "name": "stderr",
          "text": [
            "GroupNorm with epoch 36: 100%|██████████| 157/157 [00:01<00:00, 82.36it/s, Loss=0.0107]\n"
          ]
        },
        {
          "output_type": "stream",
          "name": "stdout",
          "text": [
            "Epoch 36, Loss: 0.007170831986293672, lr = 0.008698230926499172\n"
          ]
        },
        {
          "output_type": "stream",
          "name": "stderr",
          "text": [
            "GroupNorm with epoch 37: 100%|██████████| 157/157 [00:01<00:00, 79.12it/s, Loss=0.00879]\n"
          ]
        },
        {
          "output_type": "stream",
          "name": "stdout",
          "text": [
            "Epoch 37, Loss: 0.007138726604022798, lr = 0.008533600371149993\n"
          ]
        },
        {
          "output_type": "stream",
          "name": "stderr",
          "text": [
            "GroupNorm with epoch 38: 100%|██████████| 157/157 [00:01<00:00, 83.48it/s, Loss=0.0104]\n"
          ]
        },
        {
          "output_type": "stream",
          "name": "stdout",
          "text": [
            "Epoch 38, Loss: 0.006944513885648387, lr = 0.008366716177936905\n"
          ]
        },
        {
          "output_type": "stream",
          "name": "stderr",
          "text": [
            "GroupNorm with epoch 39: 100%|██████████| 157/157 [00:01<00:00, 84.15it/s, Loss=0.00559]\n"
          ]
        },
        {
          "output_type": "stream",
          "name": "stdout",
          "text": [
            "Epoch 39, Loss: 0.00679584758676541, lr = 0.008197743041410431\n"
          ]
        },
        {
          "output_type": "stream",
          "name": "stderr",
          "text": [
            "GroupNorm with epoch 40: 100%|██████████| 157/157 [00:01<00:00, 82.79it/s, Loss=0.00701]\n"
          ]
        },
        {
          "output_type": "stream",
          "name": "stdout",
          "text": [
            "Epoch 40, Loss: 0.006740897466802293, lr = 0.008026847717655952\n"
          ]
        },
        {
          "output_type": "stream",
          "name": "stderr",
          "text": [
            "GroupNorm with epoch 41: 100%|██████████| 157/157 [00:01<00:00, 82.55it/s, Loss=0.00528]\n"
          ]
        },
        {
          "output_type": "stream",
          "name": "stdout",
          "text": [
            "Epoch 41, Loss: 0.006613858779714365, lr = 0.007854198859725573\n"
          ]
        },
        {
          "output_type": "stream",
          "name": "stderr",
          "text": [
            "GroupNorm with epoch 42: 100%|██████████| 157/157 [00:01<00:00, 82.99it/s, Loss=0.0039]\n"
          ]
        },
        {
          "output_type": "stream",
          "name": "stdout",
          "text": [
            "Epoch 42, Loss: 0.00656015667945716, lr = 0.007679966851197918\n"
          ]
        },
        {
          "output_type": "stream",
          "name": "stderr",
          "text": [
            "GroupNorm with epoch 43: 100%|██████████| 157/157 [00:01<00:00, 78.68it/s, Loss=0.00422]\n"
          ]
        },
        {
          "output_type": "stream",
          "name": "stdout",
          "text": [
            "Epoch 43, Loss: 0.006466649591353289, lr = 0.007504323638030124\n"
          ]
        },
        {
          "output_type": "stream",
          "name": "stderr",
          "text": [
            "GroupNorm with epoch 44: 100%|██████████| 157/157 [00:01<00:00, 81.84it/s, Loss=0.0048]\n"
          ]
        },
        {
          "output_type": "stream",
          "name": "stdout",
          "text": [
            "Epoch 44, Loss: 0.006383616738258654, lr = 0.007327442558867921\n"
          ]
        },
        {
          "output_type": "stream",
          "name": "stderr",
          "text": [
            "GroupNorm with epoch 45: 100%|██████████| 157/157 [00:01<00:00, 83.07it/s, Loss=0.00586]\n"
          ]
        },
        {
          "output_type": "stream",
          "name": "stdout",
          "text": [
            "Epoch 45, Loss: 0.006337024603679681, lr = 0.00714949817398133\n"
          ]
        },
        {
          "output_type": "stream",
          "name": "stderr",
          "text": [
            "GroupNorm with epoch 46: 100%|██████████| 157/157 [00:01<00:00, 83.66it/s, Loss=0.00649]\n"
          ]
        },
        {
          "output_type": "stream",
          "name": "stdout",
          "text": [
            "Epoch 46, Loss: 0.0062905441328978086, lr = 0.006970666092994753\n"
          ]
        },
        {
          "output_type": "stream",
          "name": "stderr",
          "text": [
            "GroupNorm with epoch 47: 100%|██████████| 157/157 [00:01<00:00, 82.58it/s, Loss=0.00629]\n"
          ]
        },
        {
          "output_type": "stream",
          "name": "stdout",
          "text": [
            "Epoch 47, Loss: 0.006225540379809726, lr = 0.006791122801581459\n"
          ]
        },
        {
          "output_type": "stream",
          "name": "stderr",
          "text": [
            "GroupNorm with epoch 48: 100%|██████████| 157/157 [00:01<00:00, 83.81it/s, Loss=0.00572]\n"
          ]
        },
        {
          "output_type": "stream",
          "name": "stdout",
          "text": [
            "Epoch 48, Loss: 0.006208103624688592, lr = 0.006611045487293554\n"
          ]
        },
        {
          "output_type": "stream",
          "name": "stderr",
          "text": [
            "GroupNorm with epoch 49: 100%|██████████| 157/157 [00:01<00:00, 79.48it/s, Loss=0.00725]\n"
          ]
        },
        {
          "output_type": "stream",
          "name": "stdout",
          "text": [
            "Epoch 49, Loss: 0.006131882002209402, lr = 0.006430611864699239\n"
          ]
        },
        {
          "output_type": "stream",
          "name": "stderr",
          "text": [
            "GroupNorm with epoch 50: 100%|██████████| 157/157 [00:01<00:00, 82.45it/s, Loss=0.0056]\n"
          ]
        },
        {
          "output_type": "stream",
          "name": "stdout",
          "text": [
            "Epoch 50, Loss: 0.006123937191856894, lr = 0.00625\n"
          ]
        },
        {
          "output_type": "stream",
          "name": "stderr",
          "text": [
            "GroupNorm with epoch 51: 100%|██████████| 157/157 [00:01<00:00, 83.45it/s, Loss=0.00785]\n"
          ]
        },
        {
          "output_type": "stream",
          "name": "stdout",
          "text": [
            "Epoch 51, Loss: 0.0060587486216596735, lr = 0.006069388135300762\n"
          ]
        },
        {
          "output_type": "stream",
          "name": "stderr",
          "text": [
            "GroupNorm with epoch 52: 100%|██████████| 157/157 [00:01<00:00, 83.76it/s, Loss=0.00727]\n"
          ]
        },
        {
          "output_type": "stream",
          "name": "stdout",
          "text": [
            "Epoch 52, Loss: 0.006031620606874964, lr = 0.005888954512706447\n"
          ]
        },
        {
          "output_type": "stream",
          "name": "stderr",
          "text": [
            "GroupNorm with epoch 53: 100%|██████████| 157/157 [00:01<00:00, 82.59it/s, Loss=0.0104]\n"
          ]
        },
        {
          "output_type": "stream",
          "name": "stdout",
          "text": [
            "Epoch 53, Loss: 0.00601367818511975, lr = 0.005708877198418541\n"
          ]
        },
        {
          "output_type": "stream",
          "name": "stderr",
          "text": [
            "GroupNorm with epoch 54: 100%|██████████| 157/157 [00:01<00:00, 82.79it/s, Loss=0.00771]\n"
          ]
        },
        {
          "output_type": "stream",
          "name": "stdout",
          "text": [
            "Epoch 54, Loss: 0.005963523937448575, lr = 0.0055293339070052495\n"
          ]
        },
        {
          "output_type": "stream",
          "name": "stderr",
          "text": [
            "GroupNorm with epoch 55: 100%|██████████| 157/157 [00:01<00:00, 80.72it/s, Loss=0.00517]\n"
          ]
        },
        {
          "output_type": "stream",
          "name": "stdout",
          "text": [
            "Epoch 55, Loss: 0.0059036559122762865, lr = 0.005350501826018671\n"
          ]
        },
        {
          "output_type": "stream",
          "name": "stderr",
          "text": [
            "GroupNorm with epoch 56: 100%|██████████| 157/157 [00:01<00:00, 81.43it/s, Loss=0.00761]\n"
          ]
        },
        {
          "output_type": "stream",
          "name": "stdout",
          "text": [
            "Epoch 56, Loss: 0.005897493214364264, lr = 0.005172557441132082\n"
          ]
        },
        {
          "output_type": "stream",
          "name": "stderr",
          "text": [
            "GroupNorm with epoch 57: 100%|██████████| 157/157 [00:01<00:00, 83.43it/s, Loss=0.00372]\n"
          ]
        },
        {
          "output_type": "stream",
          "name": "stdout",
          "text": [
            "Epoch 57, Loss: 0.005857218080645155, lr = 0.00499567636196988\n"
          ]
        },
        {
          "output_type": "stream",
          "name": "stderr",
          "text": [
            "GroupNorm with epoch 58: 100%|██████████| 157/157 [00:01<00:00, 84.56it/s, Loss=0.00599]\n"
          ]
        },
        {
          "output_type": "stream",
          "name": "stdout",
          "text": [
            "Epoch 58, Loss: 0.005820727865597245, lr = 0.004820033148802083\n"
          ]
        },
        {
          "output_type": "stream",
          "name": "stderr",
          "text": [
            "GroupNorm with epoch 59: 100%|██████████| 157/157 [00:01<00:00, 84.44it/s, Loss=0.00793]\n"
          ]
        },
        {
          "output_type": "stream",
          "name": "stdout",
          "text": [
            "Epoch 59, Loss: 0.005797516483410149, lr = 0.004645801140274431\n"
          ]
        },
        {
          "output_type": "stream",
          "name": "stderr",
          "text": [
            "GroupNorm with epoch 60: 100%|██████████| 157/157 [00:01<00:00, 83.54it/s, Loss=0.00424]\n"
          ]
        },
        {
          "output_type": "stream",
          "name": "stdout",
          "text": [
            "Epoch 60, Loss: 0.005759197364377368, lr = 0.004473152282344052\n"
          ]
        },
        {
          "output_type": "stream",
          "name": "stderr",
          "text": [
            "GroupNorm with epoch 61: 100%|██████████| 157/157 [00:01<00:00, 82.10it/s, Loss=0.00668]\n"
          ]
        },
        {
          "output_type": "stream",
          "name": "stdout",
          "text": [
            "Epoch 61, Loss: 0.005755043784334402, lr = 0.004302256958589572\n"
          ]
        },
        {
          "output_type": "stream",
          "name": "stderr",
          "text": [
            "GroupNorm with epoch 62: 100%|██████████| 157/157 [00:01<00:00, 82.45it/s, Loss=0.00508]\n"
          ]
        },
        {
          "output_type": "stream",
          "name": "stdout",
          "text": [
            "Epoch 62, Loss: 0.005734445633971767, lr = 0.004133283822063101\n"
          ]
        },
        {
          "output_type": "stream",
          "name": "stderr",
          "text": [
            "GroupNorm with epoch 63: 100%|██████████| 157/157 [00:01<00:00, 84.10it/s, Loss=0.00681]\n"
          ]
        },
        {
          "output_type": "stream",
          "name": "stdout",
          "text": [
            "Epoch 63, Loss: 0.005722133335983677, lr = 0.003966399628850009\n"
          ]
        },
        {
          "output_type": "stream",
          "name": "stderr",
          "text": [
            "GroupNorm with epoch 64: 100%|██████████| 157/157 [00:01<00:00, 84.58it/s, Loss=0.00671]\n"
          ]
        },
        {
          "output_type": "stream",
          "name": "stdout",
          "text": [
            "Epoch 64, Loss: 0.005705367583947576, lr = 0.0038017690735008304\n"
          ]
        },
        {
          "output_type": "stream",
          "name": "stderr",
          "text": [
            "GroupNorm with epoch 65: 100%|██████████| 157/157 [00:01<00:00, 82.86it/s, Loss=0.00893]\n"
          ]
        },
        {
          "output_type": "stream",
          "name": "stdout",
          "text": [
            "Epoch 65, Loss: 0.005677205551961425, lr = 0.0036395546264976044\n"
          ]
        },
        {
          "output_type": "stream",
          "name": "stderr",
          "text": [
            "GroupNorm with epoch 66: 100%|██████████| 157/157 [00:01<00:00, 84.94it/s, Loss=0.00216]\n"
          ]
        },
        {
          "output_type": "stream",
          "name": "stdout",
          "text": [
            "Epoch 66, Loss: 0.005630401977498061, lr = 0.0034799163739151345\n"
          ]
        },
        {
          "output_type": "stream",
          "name": "stderr",
          "text": [
            "GroupNorm with epoch 67: 100%|██████████| 157/157 [00:01<00:00, 83.69it/s, Loss=0.00566]\n"
          ]
        },
        {
          "output_type": "stream",
          "name": "stdout",
          "text": [
            "Epoch 67, Loss: 0.005637256582831121, lr = 0.0033230118594353634\n"
          ]
        },
        {
          "output_type": "stream",
          "name": "stderr",
          "text": [
            "GroupNorm with epoch 68: 100%|██████████| 157/157 [00:01<00:00, 82.23it/s, Loss=0.00336]\n"
          ]
        },
        {
          "output_type": "stream",
          "name": "stdout",
          "text": [
            "Epoch 68, Loss: 0.005619076098416262, lr = 0.0031689959288707667\n"
          ]
        },
        {
          "output_type": "stream",
          "name": "stderr",
          "text": [
            "GroupNorm with epoch 69: 100%|██████████| 157/157 [00:01<00:00, 84.97it/s, Loss=0.0055]\n"
          ]
        },
        {
          "output_type": "stream",
          "name": "stdout",
          "text": [
            "Epoch 69, Loss: 0.005583837794460309, lr = 0.0030180205773502476\n"
          ]
        },
        {
          "output_type": "stream",
          "name": "stderr",
          "text": [
            "GroupNorm with epoch 70: 100%|██████████| 157/157 [00:01<00:00, 84.89it/s, Loss=0.0113]\n"
          ]
        },
        {
          "output_type": "stream",
          "name": "stdout",
          "text": [
            "Epoch 70, Loss: 0.005595617826767029, lr = 0.0028702347993182793\n"
          ]
        },
        {
          "output_type": "stream",
          "name": "stderr",
          "text": [
            "GroupNorm with epoch 71: 100%|██████████| 157/157 [00:01<00:00, 84.56it/s, Loss=0.00648]\n"
          ]
        },
        {
          "output_type": "stream",
          "name": "stdout",
          "text": [
            "Epoch 71, Loss: 0.005567228243609143, lr = 0.002725784441495384\n"
          ]
        },
        {
          "output_type": "stream",
          "name": "stderr",
          "text": [
            "GroupNorm with epoch 72: 100%|██████████| 157/157 [00:01<00:00, 83.24it/s, Loss=0.00532]\n"
          ]
        },
        {
          "output_type": "stream",
          "name": "stdout",
          "text": [
            "Epoch 72, Loss: 0.005548604331008947, lr = 0.0025848120589450334\n"
          ]
        },
        {
          "output_type": "stream",
          "name": "stderr",
          "text": [
            "GroupNorm with epoch 73: 100%|██████████| 157/157 [00:01<00:00, 83.73it/s, Loss=0.00522]\n"
          ]
        },
        {
          "output_type": "stream",
          "name": "stdout",
          "text": [
            "Epoch 73, Loss: 0.005538576110533089, lr = 0.0024474567743890023\n"
          ]
        },
        {
          "output_type": "stream",
          "name": "stderr",
          "text": [
            "GroupNorm with epoch 74: 100%|██████████| 157/157 [00:01<00:00, 82.24it/s, Loss=0.00259]\n"
          ]
        },
        {
          "output_type": "stream",
          "name": "stdout",
          "text": [
            "Epoch 74, Loss: 0.005498956034707416, lr = 0.0023138541409100395\n"
          ]
        },
        {
          "output_type": "stream",
          "name": "stderr",
          "text": [
            "GroupNorm with epoch 75: 100%|██████████| 157/157 [00:01<00:00, 84.36it/s, Loss=0.00275]\n"
          ]
        },
        {
          "output_type": "stream",
          "name": "stdout",
          "text": [
            "Epoch 75, Loss: 0.005493660309132497, lr = 0.0021841360081773517\n"
          ]
        },
        {
          "output_type": "stream",
          "name": "stderr",
          "text": [
            "GroupNorm with epoch 76: 100%|██████████| 157/157 [00:01<00:00, 83.81it/s, Loss=0.0022]\n"
          ]
        },
        {
          "output_type": "stream",
          "name": "stdout",
          "text": [
            "Epoch 76, Loss: 0.005481332872703576, lr = 0.0020584303923268845\n"
          ]
        },
        {
          "output_type": "stream",
          "name": "stderr",
          "text": [
            "GroupNorm with epoch 77: 100%|██████████| 157/157 [00:01<00:00, 84.13it/s, Loss=0.00466]\n"
          ]
        },
        {
          "output_type": "stream",
          "name": "stdout",
          "text": [
            "Epoch 77, Loss: 0.005482752445586927, lr = 0.0019368613496248569\n"
          ]
        },
        {
          "output_type": "stream",
          "name": "stderr",
          "text": [
            "GroupNorm with epoch 78: 100%|██████████| 157/157 [00:01<00:00, 85.28it/s, Loss=0.00556]\n"
          ]
        },
        {
          "output_type": "stream",
          "name": "stdout",
          "text": [
            "Epoch 78, Loss: 0.005478170077512219, lr = 0.001819548854039212\n"
          ]
        },
        {
          "output_type": "stream",
          "name": "stderr",
          "text": [
            "GroupNorm with epoch 79: 100%|██████████| 157/157 [00:01<00:00, 84.32it/s, Loss=0.00515]\n"
          ]
        },
        {
          "output_type": "stream",
          "name": "stdout",
          "text": [
            "Epoch 79, Loss: 0.005464696248245846, lr = 0.0017066086788397798\n"
          ]
        },
        {
          "output_type": "stream",
          "name": "stderr",
          "text": [
            "GroupNorm with epoch 80: 100%|██████████| 157/157 [00:01<00:00, 82.25it/s, Loss=0.00422]\n"
          ]
        },
        {
          "output_type": "stream",
          "name": "stdout",
          "text": [
            "Epoch 80, Loss: 0.005452711182604929, lr = 0.0015981522823440525\n"
          ]
        },
        {
          "output_type": "stream",
          "name": "stderr",
          "text": [
            "GroupNorm with epoch 81: 100%|██████████| 157/157 [00:01<00:00, 84.18it/s, Loss=0.00552]\n"
          ]
        },
        {
          "output_type": "stream",
          "name": "stdout",
          "text": [
            "Epoch 81, Loss: 0.005454852394047816, lr = 0.0014942866979212699\n"
          ]
        },
        {
          "output_type": "stream",
          "name": "stderr",
          "text": [
            "GroupNorm with epoch 82: 100%|██████████| 157/157 [00:01<00:00, 83.87it/s, Loss=0.005]\n"
          ]
        },
        {
          "output_type": "stream",
          "name": "stdout",
          "text": [
            "Epoch 82, Loss: 0.005435704734105214, lr = 0.0013951144283634144\n"
          ]
        },
        {
          "output_type": "stream",
          "name": "stderr",
          "text": [
            "GroupNorm with epoch 83: 100%|██████████| 157/157 [00:01<00:00, 84.05it/s, Loss=0.00706]\n"
          ]
        },
        {
          "output_type": "stream",
          "name": "stdout",
          "text": [
            "Epoch 83, Loss: 0.005431145951626407, lr = 0.0013007333447273232\n"
          ]
        },
        {
          "output_type": "stream",
          "name": "stderr",
          "text": [
            "GroupNorm with epoch 84: 100%|██████████| 157/157 [00:01<00:00, 83.61it/s, Loss=0.0037]\n"
          ]
        },
        {
          "output_type": "stream",
          "name": "stdout",
          "text": [
            "Epoch 84, Loss: 0.0054086138773116335, lr = 0.0012112365897477841\n"
          ]
        },
        {
          "output_type": "stream",
          "name": "stderr",
          "text": [
            "GroupNorm with epoch 85: 100%|██████████| 157/157 [00:01<00:00, 84.07it/s, Loss=0.00397]\n"
          ]
        },
        {
          "output_type": "stream",
          "name": "stdout",
          "text": [
            "Epoch 85, Loss: 0.005403422507320999, lr = 0.001126712485916885\n"
          ]
        },
        {
          "output_type": "stream",
          "name": "stderr",
          "text": [
            "GroupNorm with epoch 86: 100%|██████████| 157/157 [00:01<00:00, 81.38it/s, Loss=0.00558]\n"
          ]
        },
        {
          "output_type": "stream",
          "name": "stdout",
          "text": [
            "Epoch 86, Loss: 0.005409274226540972, lr = 0.0010472444483203885\n"
          ]
        },
        {
          "output_type": "stream",
          "name": "stderr",
          "text": [
            "GroupNorm with epoch 87: 100%|██████████| 157/157 [00:01<00:00, 84.10it/s, Loss=0.00703]\n"
          ]
        },
        {
          "output_type": "stream",
          "name": "stdout",
          "text": [
            "Epoch 87, Loss: 0.005408898209500464, lr = 0.0009729109023171096\n"
          ]
        },
        {
          "output_type": "stream",
          "name": "stderr",
          "text": [
            "GroupNorm with epoch 88: 100%|██████████| 157/157 [00:01<00:00, 84.35it/s, Loss=0.00876]\n"
          ]
        },
        {
          "output_type": "stream",
          "name": "stdout",
          "text": [
            "Epoch 88, Loss: 0.005408558353876612, lr = 0.0009037852061425547\n"
          ]
        },
        {
          "output_type": "stream",
          "name": "stderr",
          "text": [
            "GroupNorm with epoch 89: 100%|██████████| 157/157 [00:01<00:00, 84.30it/s, Loss=0.00648]\n"
          ]
        },
        {
          "output_type": "stream",
          "name": "stdout",
          "text": [
            "Epoch 89, Loss: 0.005389124938067358, lr = 0.0008399355785132036\n"
          ]
        },
        {
          "output_type": "stream",
          "name": "stderr",
          "text": [
            "GroupNorm with epoch 90: 100%|██████████| 157/157 [00:01<00:00, 85.74it/s, Loss=0.00752]\n"
          ]
        },
        {
          "output_type": "stream",
          "name": "stdout",
          "text": [
            "Epoch 90, Loss: 0.005391852752228451, lr = 0.0007814250313028671\n"
          ]
        },
        {
          "output_type": "stream",
          "name": "stderr",
          "text": [
            "GroupNorm with epoch 91: 100%|██████████| 157/157 [00:01<00:00, 84.71it/s, Loss=0.00132]\n"
          ]
        },
        {
          "output_type": "stream",
          "name": "stdout",
          "text": [
            "Epoch 91, Loss: 0.005360002516751077, lr = 0.0007283113073575779\n"
          ]
        },
        {
          "output_type": "stream",
          "name": "stderr",
          "text": [
            "GroupNorm with epoch 92: 100%|██████████| 157/157 [00:01<00:00, 83.22it/s, Loss=0.0055]\n"
          ]
        },
        {
          "output_type": "stream",
          "name": "stdout",
          "text": [
            "Epoch 92, Loss: 0.005379155634125327, lr = 0.0006806468235103719\n"
          ]
        },
        {
          "output_type": "stream",
          "name": "stderr",
          "text": [
            "GroupNorm with epoch 93: 100%|██████████| 157/157 [00:01<00:00, 83.53it/s, Loss=0.00739]\n"
          ]
        },
        {
          "output_type": "stream",
          "name": "stdout",
          "text": [
            "Epoch 93, Loss: 0.00538746099088602, lr = 0.0006384786188522028\n"
          ]
        },
        {
          "output_type": "stream",
          "name": "stderr",
          "text": [
            "GroupNorm with epoch 94: 100%|██████████| 157/157 [00:01<00:00, 84.01it/s, Loss=0.0036]\n"
          ]
        },
        {
          "output_type": "stream",
          "name": "stdout",
          "text": [
            "Epoch 94, Loss: 0.0053588636219501495, lr = 0.0006018483083100398\n"
          ]
        },
        {
          "output_type": "stream",
          "name": "stderr",
          "text": [
            "GroupNorm with epoch 95: 100%|██████████| 157/157 [00:01<00:00, 83.67it/s, Loss=0.00512]\n"
          ]
        },
        {
          "output_type": "stream",
          "name": "stdout",
          "text": [
            "Epoch 95, Loss: 0.0053630775659327294, lr = 0.0005707920415779584\n"
          ]
        },
        {
          "output_type": "stream",
          "name": "stderr",
          "text": [
            "GroupNorm with epoch 96: 100%|██████████| 157/157 [00:01<00:00, 83.77it/s, Loss=0.00628]\n"
          ]
        },
        {
          "output_type": "stream",
          "name": "stdout",
          "text": [
            "Epoch 96, Loss: 0.005363398462913598, lr = 0.0005453404674417528\n"
          ]
        },
        {
          "output_type": "stream",
          "name": "stderr",
          "text": [
            "GroupNorm with epoch 97: 100%|██████████| 157/157 [00:01<00:00, 84.79it/s, Loss=0.00604]\n"
          ]
        },
        {
          "output_type": "stream",
          "name": "stdout",
          "text": [
            "Epoch 97, Loss: 0.005365951734173829, lr = 0.00052551870353229\n"
          ]
        },
        {
          "output_type": "stream",
          "name": "stderr",
          "text": [
            "GroupNorm with epoch 98: 100%|██████████| 157/157 [00:01<00:00, 81.59it/s, Loss=0.006]\n"
          ]
        },
        {
          "output_type": "stream",
          "name": "stdout",
          "text": [
            "Epoch 98, Loss: 0.0053627468455748955, lr = 0.0005113463115374385\n"
          ]
        },
        {
          "output_type": "stream",
          "name": "stderr",
          "text": [
            "GroupNorm with epoch 99: 100%|██████████| 157/157 [00:01<00:00, 82.40it/s, Loss=0.0085]\n"
          ]
        },
        {
          "output_type": "stream",
          "name": "stdout",
          "text": [
            "Epoch 99, Loss: 0.005373624930526041, lr = 0.0005028372778970433\n"
          ]
        },
        {
          "output_type": "stream",
          "name": "stderr",
          "text": [
            "GroupNorm with epoch 100: 100%|██████████| 157/157 [00:01<00:00, 83.86it/s, Loss=0.00497]"
          ]
        },
        {
          "output_type": "stream",
          "name": "stdout",
          "text": [
            "Epoch 100, Loss: 0.005359448777262572, lr = 0.0005\n"
          ]
        },
        {
          "output_type": "stream",
          "name": "stderr",
          "text": [
            "\n"
          ]
        },
        {
          "output_type": "stream",
          "name": "stdout",
          "text": [
            "Norm : BatchNorm, Batch Size: 32, Top1 Accuracy: 60.88%\n",
            "Norm : GroupNorm, Batch Size: 32, Top1 Accuracy: 59.80%\n",
            "ㅡㅡㅡㅡㅡㅡㅡㅡㅡㅡㅡㅡbatch_size: 32ㅡㅡㅡㅡㅡㅡㅡㅡㅡㅡㅡㅡㅡ\n",
            "\n",
            "ㅡㅡㅡㅡㅡㅡㅡㅡㅡㅡㅡㅡbatch_size: 64ㅡㅡㅡㅡㅡㅡㅡㅡㅡㅡㅡㅡㅡ\n"
          ]
        },
        {
          "output_type": "stream",
          "name": "stderr",
          "text": [
            "BatchNorm with epoch 1: 100%|██████████| 79/79 [00:01<00:00, 50.44it/s, Loss=1.56]\n"
          ]
        },
        {
          "output_type": "stream",
          "name": "stdout",
          "text": [
            "Epoch 1, Loss: 1.9249813043618504, lr = 0.011997162722102958\n"
          ]
        },
        {
          "output_type": "stream",
          "name": "stderr",
          "text": [
            "BatchNorm with epoch 2: 100%|██████████| 79/79 [00:01<00:00, 51.52it/s, Loss=0.811]\n"
          ]
        },
        {
          "output_type": "stream",
          "name": "stdout",
          "text": [
            "Epoch 2, Loss: 1.4894603249392933, lr = 0.011988653688462563\n"
          ]
        },
        {
          "output_type": "stream",
          "name": "stderr",
          "text": [
            "BatchNorm with epoch 3: 100%|██████████| 79/79 [00:01<00:00, 51.36it/s, Loss=1.22]\n"
          ]
        },
        {
          "output_type": "stream",
          "name": "stdout",
          "text": [
            "Epoch 3, Loss: 1.2993213662618324, lr = 0.011974481296467712\n"
          ]
        },
        {
          "output_type": "stream",
          "name": "stderr",
          "text": [
            "BatchNorm with epoch 4: 100%|██████████| 79/79 [00:01<00:00, 51.96it/s, Loss=0.936]\n"
          ]
        },
        {
          "output_type": "stream",
          "name": "stdout",
          "text": [
            "Epoch 4, Loss: 1.1398953327649757, lr = 0.01195465953255825\n"
          ]
        },
        {
          "output_type": "stream",
          "name": "stderr",
          "text": [
            "BatchNorm with epoch 5: 100%|██████████| 79/79 [00:01<00:00, 50.79it/s, Loss=1.29]\n"
          ]
        },
        {
          "output_type": "stream",
          "name": "stdout",
          "text": [
            "Epoch 5, Loss: 1.0347956139830095, lr = 0.011929207958422044\n"
          ]
        },
        {
          "output_type": "stream",
          "name": "stderr",
          "text": [
            "BatchNorm with epoch 6: 100%|██████████| 79/79 [00:01<00:00, 51.01it/s, Loss=2.1]\n"
          ]
        },
        {
          "output_type": "stream",
          "name": "stdout",
          "text": [
            "Epoch 6, Loss: 0.9189578830441342, lr = 0.011898151691689963\n"
          ]
        },
        {
          "output_type": "stream",
          "name": "stderr",
          "text": [
            "BatchNorm with epoch 7: 100%|██████████| 79/79 [00:01<00:00, 50.93it/s, Loss=1.21]\n"
          ]
        },
        {
          "output_type": "stream",
          "name": "stdout",
          "text": [
            "Epoch 7, Loss: 0.8230128220365017, lr = 0.0118615213811478\n"
          ]
        },
        {
          "output_type": "stream",
          "name": "stderr",
          "text": [
            "BatchNorm with epoch 8: 100%|██████████| 79/79 [00:01<00:00, 51.96it/s, Loss=0.975]\n"
          ]
        },
        {
          "output_type": "stream",
          "name": "stdout",
          "text": [
            "Epoch 8, Loss: 0.7008684511426129, lr = 0.011819353176489631\n"
          ]
        },
        {
          "output_type": "stream",
          "name": "stderr",
          "text": [
            "BatchNorm with epoch 9: 100%|██████████| 79/79 [00:01<00:00, 51.58it/s, Loss=0.863]\n"
          ]
        },
        {
          "output_type": "stream",
          "name": "stdout",
          "text": [
            "Epoch 9, Loss: 0.6620595877683615, lr = 0.011771688692642425\n"
          ]
        },
        {
          "output_type": "stream",
          "name": "stderr",
          "text": [
            "BatchNorm with epoch 10: 100%|██████████| 79/79 [00:01<00:00, 52.47it/s, Loss=0.764]\n"
          ]
        },
        {
          "output_type": "stream",
          "name": "stdout",
          "text": [
            "Epoch 10, Loss: 0.5790060751045807, lr = 0.011718574968697135\n"
          ]
        },
        {
          "output_type": "stream",
          "name": "stderr",
          "text": [
            "BatchNorm with epoch 11: 100%|██████████| 79/79 [00:01<00:00, 50.79it/s, Loss=0.639]\n"
          ]
        },
        {
          "output_type": "stream",
          "name": "stdout",
          "text": [
            "Epoch 11, Loss: 0.528868910632556, lr = 0.0116600644214868\n"
          ]
        },
        {
          "output_type": "stream",
          "name": "stderr",
          "text": [
            "BatchNorm with epoch 12: 100%|██████████| 79/79 [00:01<00:00, 50.04it/s, Loss=0.442]\n"
          ]
        },
        {
          "output_type": "stream",
          "name": "stdout",
          "text": [
            "Epoch 12, Loss: 0.4373493451106397, lr = 0.011596214793857449\n"
          ]
        },
        {
          "output_type": "stream",
          "name": "stderr",
          "text": [
            "BatchNorm with epoch 13: 100%|██████████| 79/79 [00:01<00:00, 51.71it/s, Loss=1.07]\n"
          ]
        },
        {
          "output_type": "stream",
          "name": "stdout",
          "text": [
            "Epoch 13, Loss: 0.3495459694273864, lr = 0.011527089097682894\n"
          ]
        },
        {
          "output_type": "stream",
          "name": "stderr",
          "text": [
            "BatchNorm with epoch 14: 100%|██████████| 79/79 [00:01<00:00, 51.21it/s, Loss=0.442]\n"
          ]
        },
        {
          "output_type": "stream",
          "name": "stdout",
          "text": [
            "Epoch 14, Loss: 0.33302260407164125, lr = 0.011452755551679615\n"
          ]
        },
        {
          "output_type": "stream",
          "name": "stderr",
          "text": [
            "BatchNorm with epoch 15: 100%|██████████| 79/79 [00:01<00:00, 51.08it/s, Loss=1.03]\n"
          ]
        },
        {
          "output_type": "stream",
          "name": "stdout",
          "text": [
            "Epoch 15, Loss: 0.2684293178063405, lr = 0.011373287514083117\n"
          ]
        },
        {
          "output_type": "stream",
          "name": "stderr",
          "text": [
            "BatchNorm with epoch 16: 100%|██████████| 79/79 [00:01<00:00, 51.56it/s, Loss=0.178]\n"
          ]
        },
        {
          "output_type": "stream",
          "name": "stdout",
          "text": [
            "Epoch 16, Loss: 0.24884348126906383, lr = 0.011288763410252218\n"
          ]
        },
        {
          "output_type": "stream",
          "name": "stderr",
          "text": [
            "BatchNorm with epoch 17: 100%|██████████| 79/79 [00:01<00:00, 51.53it/s, Loss=0.141]\n"
          ]
        },
        {
          "output_type": "stream",
          "name": "stdout",
          "text": [
            "Epoch 17, Loss: 0.16878508616097365, lr = 0.01119926665527268\n"
          ]
        },
        {
          "output_type": "stream",
          "name": "stderr",
          "text": [
            "BatchNorm with epoch 18: 100%|██████████| 79/79 [00:01<00:00, 51.60it/s, Loss=0.302]\n"
          ]
        },
        {
          "output_type": "stream",
          "name": "stdout",
          "text": [
            "Epoch 18, Loss: 0.13603466145599943, lr = 0.01110488557163659\n"
          ]
        },
        {
          "output_type": "stream",
          "name": "stderr",
          "text": [
            "BatchNorm with epoch 19: 100%|██████████| 79/79 [00:01<00:00, 50.88it/s, Loss=0.0768]\n"
          ]
        },
        {
          "output_type": "stream",
          "name": "stdout",
          "text": [
            "Epoch 19, Loss: 0.15952717012996914, lr = 0.011005713302078734\n"
          ]
        },
        {
          "output_type": "stream",
          "name": "stderr",
          "text": [
            "BatchNorm with epoch 20: 100%|██████████| 79/79 [00:01<00:00, 50.80it/s, Loss=0.0748]\n"
          ]
        },
        {
          "output_type": "stream",
          "name": "stdout",
          "text": [
            "Epoch 20, Loss: 0.08965300080142444, lr = 0.010901847717655951\n"
          ]
        },
        {
          "output_type": "stream",
          "name": "stderr",
          "text": [
            "BatchNorm with epoch 21: 100%|██████████| 79/79 [00:01<00:00, 50.97it/s, Loss=0.115]\n"
          ]
        },
        {
          "output_type": "stream",
          "name": "stdout",
          "text": [
            "Epoch 21, Loss: 0.0724070313610608, lr = 0.010793391321160221\n"
          ]
        },
        {
          "output_type": "stream",
          "name": "stderr",
          "text": [
            "BatchNorm with epoch 22: 100%|██████████| 79/79 [00:01<00:00, 51.19it/s, Loss=0.0294]\n"
          ]
        },
        {
          "output_type": "stream",
          "name": "stdout",
          "text": [
            "Epoch 22, Loss: 0.059305818657143204, lr = 0.01068045114596079\n"
          ]
        },
        {
          "output_type": "stream",
          "name": "stderr",
          "text": [
            "BatchNorm with epoch 23: 100%|██████████| 79/79 [00:01<00:00, 51.49it/s, Loss=0.144]\n"
          ]
        },
        {
          "output_type": "stream",
          "name": "stdout",
          "text": [
            "Epoch 23, Loss: 0.05001863523657563, lr = 0.010563138650375146\n"
          ]
        },
        {
          "output_type": "stream",
          "name": "stderr",
          "text": [
            "BatchNorm with epoch 24: 100%|██████████| 79/79 [00:01<00:00, 51.39it/s, Loss=0.203]\n"
          ]
        },
        {
          "output_type": "stream",
          "name": "stdout",
          "text": [
            "Epoch 24, Loss: 0.048665418513590776, lr = 0.01044156960767312\n"
          ]
        },
        {
          "output_type": "stream",
          "name": "stderr",
          "text": [
            "BatchNorm with epoch 25: 100%|██████████| 79/79 [00:01<00:00, 51.43it/s, Loss=0.271]\n"
          ]
        },
        {
          "output_type": "stream",
          "name": "stdout",
          "text": [
            "Epoch 25, Loss: 0.05660260506445849, lr = 0.010315863991822652\n"
          ]
        },
        {
          "output_type": "stream",
          "name": "stderr",
          "text": [
            "BatchNorm with epoch 26: 100%|██████████| 79/79 [00:01<00:00, 51.09it/s, Loss=0.0461]\n"
          ]
        },
        {
          "output_type": "stream",
          "name": "stdout",
          "text": [
            "Epoch 26, Loss: 0.06306163054195386, lr = 0.010186145859089965\n"
          ]
        },
        {
          "output_type": "stream",
          "name": "stderr",
          "text": [
            "BatchNorm with epoch 27: 100%|██████████| 79/79 [00:01<00:00, 50.66it/s, Loss=0.0182]\n"
          ]
        },
        {
          "output_type": "stream",
          "name": "stdout",
          "text": [
            "Epoch 27, Loss: 0.03141150807466688, lr = 0.010052543225611003\n"
          ]
        },
        {
          "output_type": "stream",
          "name": "stderr",
          "text": [
            "BatchNorm with epoch 28: 100%|██████████| 79/79 [00:01<00:00, 50.86it/s, Loss=0.0777]\n"
          ]
        },
        {
          "output_type": "stream",
          "name": "stdout",
          "text": [
            "Epoch 28, Loss: 0.024365747889763194, lr = 0.00991518794105497\n"
          ]
        },
        {
          "output_type": "stream",
          "name": "stderr",
          "text": [
            "BatchNorm with epoch 29: 100%|██████████| 79/79 [00:01<00:00, 51.00it/s, Loss=0.218]\n"
          ]
        },
        {
          "output_type": "stream",
          "name": "stdout",
          "text": [
            "Epoch 29, Loss: 0.03103254002200652, lr = 0.00977421555850462\n"
          ]
        },
        {
          "output_type": "stream",
          "name": "stderr",
          "text": [
            "BatchNorm with epoch 30: 100%|██████████| 79/79 [00:01<00:00, 51.25it/s, Loss=0.0597]\n"
          ]
        },
        {
          "output_type": "stream",
          "name": "stdout",
          "text": [
            "Epoch 30, Loss: 0.035399162481668627, lr = 0.009629765200681727\n"
          ]
        },
        {
          "output_type": "stream",
          "name": "stderr",
          "text": [
            "BatchNorm with epoch 31: 100%|██████████| 79/79 [00:01<00:00, 51.36it/s, Loss=0.292]\n"
          ]
        },
        {
          "output_type": "stream",
          "name": "stdout",
          "text": [
            "Epoch 31, Loss: 0.025172030694688423, lr = 0.009481979422649757\n"
          ]
        },
        {
          "output_type": "stream",
          "name": "stderr",
          "text": [
            "BatchNorm with epoch 32: 100%|██████████| 79/79 [00:01<00:00, 52.31it/s, Loss=0.0549]\n"
          ]
        },
        {
          "output_type": "stream",
          "name": "stdout",
          "text": [
            "Epoch 32, Loss: 0.08706597788141499, lr = 0.009331004071129235\n"
          ]
        },
        {
          "output_type": "stream",
          "name": "stderr",
          "text": [
            "BatchNorm with epoch 33: 100%|██████████| 79/79 [00:01<00:00, 51.69it/s, Loss=0.0113]\n"
          ]
        },
        {
          "output_type": "stream",
          "name": "stdout",
          "text": [
            "Epoch 33, Loss: 0.02547208997833578, lr = 0.00917698814056464\n"
          ]
        },
        {
          "output_type": "stream",
          "name": "stderr",
          "text": [
            "BatchNorm with epoch 34: 100%|██████████| 79/79 [00:01<00:00, 50.53it/s, Loss=0.0589]\n"
          ]
        },
        {
          "output_type": "stream",
          "name": "stdout",
          "text": [
            "Epoch 34, Loss: 0.018094766224864164, lr = 0.009020083626084868\n"
          ]
        },
        {
          "output_type": "stream",
          "name": "stderr",
          "text": [
            "BatchNorm with epoch 35: 100%|██████████| 79/79 [00:01<00:00, 50.66it/s, Loss=0.0371]\n"
          ]
        },
        {
          "output_type": "stream",
          "name": "stdout",
          "text": [
            "Epoch 35, Loss: 0.019228511949694608, lr = 0.008860445373502399\n"
          ]
        },
        {
          "output_type": "stream",
          "name": "stderr",
          "text": [
            "BatchNorm with epoch 36: 100%|██████████| 79/79 [00:01<00:00, 51.60it/s, Loss=0.261]\n"
          ]
        },
        {
          "output_type": "stream",
          "name": "stdout",
          "text": [
            "Epoch 36, Loss: 0.017971748769094673, lr = 0.008698230926499172\n"
          ]
        },
        {
          "output_type": "stream",
          "name": "stderr",
          "text": [
            "BatchNorm with epoch 37: 100%|██████████| 79/79 [00:01<00:00, 51.13it/s, Loss=0.0223]\n"
          ]
        },
        {
          "output_type": "stream",
          "name": "stdout",
          "text": [
            "Epoch 37, Loss: 0.03410524363287642, lr = 0.008533600371149993\n"
          ]
        },
        {
          "output_type": "stream",
          "name": "stderr",
          "text": [
            "BatchNorm with epoch 38: 100%|██████████| 79/79 [00:01<00:00, 51.02it/s, Loss=0.00844]\n"
          ]
        },
        {
          "output_type": "stream",
          "name": "stdout",
          "text": [
            "Epoch 38, Loss: 0.014894902328901652, lr = 0.008366716177936905\n"
          ]
        },
        {
          "output_type": "stream",
          "name": "stderr",
          "text": [
            "BatchNorm with epoch 39: 100%|██████████| 79/79 [00:01<00:00, 51.76it/s, Loss=0.0218]\n"
          ]
        },
        {
          "output_type": "stream",
          "name": "stdout",
          "text": [
            "Epoch 39, Loss: 0.012848459019125262, lr = 0.008197743041410431\n"
          ]
        },
        {
          "output_type": "stream",
          "name": "stderr",
          "text": [
            "BatchNorm with epoch 40: 100%|██████████| 79/79 [00:01<00:00, 51.57it/s, Loss=0.0804]\n"
          ]
        },
        {
          "output_type": "stream",
          "name": "stdout",
          "text": [
            "Epoch 40, Loss: 0.012750387734061555, lr = 0.008026847717655952\n"
          ]
        },
        {
          "output_type": "stream",
          "name": "stderr",
          "text": [
            "BatchNorm with epoch 41: 100%|██████████| 79/79 [00:01<00:00, 52.04it/s, Loss=0.0203]\n"
          ]
        },
        {
          "output_type": "stream",
          "name": "stdout",
          "text": [
            "Epoch 41, Loss: 0.013646418063700953, lr = 0.007854198859725573\n"
          ]
        },
        {
          "output_type": "stream",
          "name": "stderr",
          "text": [
            "BatchNorm with epoch 42: 100%|██████████| 79/79 [00:01<00:00, 50.45it/s, Loss=0.0085]\n"
          ]
        },
        {
          "output_type": "stream",
          "name": "stdout",
          "text": [
            "Epoch 42, Loss: 0.011616372208617911, lr = 0.007679966851197918\n"
          ]
        },
        {
          "output_type": "stream",
          "name": "stderr",
          "text": [
            "BatchNorm with epoch 43: 100%|██████████| 79/79 [00:01<00:00, 51.59it/s, Loss=0.0308]\n"
          ]
        },
        {
          "output_type": "stream",
          "name": "stdout",
          "text": [
            "Epoch 43, Loss: 0.01061203771659845, lr = 0.007504323638030124\n"
          ]
        },
        {
          "output_type": "stream",
          "name": "stderr",
          "text": [
            "BatchNorm with epoch 44: 100%|██████████| 79/79 [00:01<00:00, 51.60it/s, Loss=0.25]\n"
          ]
        },
        {
          "output_type": "stream",
          "name": "stdout",
          "text": [
            "Epoch 44, Loss: 0.013785703508537027, lr = 0.007327442558867921\n"
          ]
        },
        {
          "output_type": "stream",
          "name": "stderr",
          "text": [
            "BatchNorm with epoch 45: 100%|██████████| 79/79 [00:01<00:00, 51.21it/s, Loss=0.0236]\n"
          ]
        },
        {
          "output_type": "stream",
          "name": "stdout",
          "text": [
            "Epoch 45, Loss: 0.04584660869138905, lr = 0.00714949817398133\n"
          ]
        },
        {
          "output_type": "stream",
          "name": "stderr",
          "text": [
            "BatchNorm with epoch 46: 100%|██████████| 79/79 [00:01<00:00, 51.79it/s, Loss=0.0243]\n"
          ]
        },
        {
          "output_type": "stream",
          "name": "stdout",
          "text": [
            "Epoch 46, Loss: 0.01359755413818963, lr = 0.006970666092994753\n"
          ]
        },
        {
          "output_type": "stream",
          "name": "stderr",
          "text": [
            "BatchNorm with epoch 47: 100%|██████████| 79/79 [00:01<00:00, 51.37it/s, Loss=0.0123]\n"
          ]
        },
        {
          "output_type": "stream",
          "name": "stdout",
          "text": [
            "Epoch 47, Loss: 0.011381908048745951, lr = 0.006791122801581459\n"
          ]
        },
        {
          "output_type": "stream",
          "name": "stderr",
          "text": [
            "BatchNorm with epoch 48: 100%|██████████| 79/79 [00:01<00:00, 51.00it/s, Loss=0.0178]\n"
          ]
        },
        {
          "output_type": "stream",
          "name": "stdout",
          "text": [
            "Epoch 48, Loss: 0.010421980832573733, lr = 0.006611045487293554\n"
          ]
        },
        {
          "output_type": "stream",
          "name": "stderr",
          "text": [
            "BatchNorm with epoch 49: 100%|██████████| 79/79 [00:01<00:00, 50.96it/s, Loss=0.0432]\n"
          ]
        },
        {
          "output_type": "stream",
          "name": "stdout",
          "text": [
            "Epoch 49, Loss: 0.010310010678028758, lr = 0.006430611864699239\n"
          ]
        },
        {
          "output_type": "stream",
          "name": "stderr",
          "text": [
            "BatchNorm with epoch 50: 100%|██████████| 79/79 [00:01<00:00, 50.89it/s, Loss=0.0985]\n"
          ]
        },
        {
          "output_type": "stream",
          "name": "stdout",
          "text": [
            "Epoch 50, Loss: 0.011933719574273386, lr = 0.00625\n"
          ]
        },
        {
          "output_type": "stream",
          "name": "stderr",
          "text": [
            "BatchNorm with epoch 51: 100%|██████████| 79/79 [00:01<00:00, 51.82it/s, Loss=0.0122]\n"
          ]
        },
        {
          "output_type": "stream",
          "name": "stdout",
          "text": [
            "Epoch 51, Loss: 0.012138317798889136, lr = 0.006069388135300762\n"
          ]
        },
        {
          "output_type": "stream",
          "name": "stderr",
          "text": [
            "BatchNorm with epoch 52: 100%|██████████| 79/79 [00:01<00:00, 51.42it/s, Loss=0.0241]\n"
          ]
        },
        {
          "output_type": "stream",
          "name": "stdout",
          "text": [
            "Epoch 52, Loss: 0.009954445559201362, lr = 0.005888954512706447\n"
          ]
        },
        {
          "output_type": "stream",
          "name": "stderr",
          "text": [
            "BatchNorm with epoch 53: 100%|██████████| 79/79 [00:01<00:00, 51.74it/s, Loss=0.00835]\n"
          ]
        },
        {
          "output_type": "stream",
          "name": "stdout",
          "text": [
            "Epoch 53, Loss: 0.009059776375188103, lr = 0.005708877198418541\n"
          ]
        },
        {
          "output_type": "stream",
          "name": "stderr",
          "text": [
            "BatchNorm with epoch 54: 100%|██████████| 79/79 [00:01<00:00, 52.00it/s, Loss=0.00922]\n"
          ]
        },
        {
          "output_type": "stream",
          "name": "stdout",
          "text": [
            "Epoch 54, Loss: 0.008850870559675783, lr = 0.0055293339070052495\n"
          ]
        },
        {
          "output_type": "stream",
          "name": "stderr",
          "text": [
            "BatchNorm with epoch 55: 100%|██████████| 79/79 [00:01<00:00, 51.15it/s, Loss=0.00642]\n"
          ]
        },
        {
          "output_type": "stream",
          "name": "stdout",
          "text": [
            "Epoch 55, Loss: 0.00828038943530638, lr = 0.005350501826018671\n"
          ]
        },
        {
          "output_type": "stream",
          "name": "stderr",
          "text": [
            "BatchNorm with epoch 56: 100%|██████████| 79/79 [00:01<00:00, 51.36it/s, Loss=0.019]\n"
          ]
        },
        {
          "output_type": "stream",
          "name": "stdout",
          "text": [
            "Epoch 56, Loss: 0.008256044238805771, lr = 0.005172557441132082\n"
          ]
        },
        {
          "output_type": "stream",
          "name": "stderr",
          "text": [
            "BatchNorm with epoch 57: 100%|██████████| 79/79 [00:01<00:00, 49.77it/s, Loss=0.00879]\n"
          ]
        },
        {
          "output_type": "stream",
          "name": "stdout",
          "text": [
            "Epoch 57, Loss: 0.00827004930263833, lr = 0.00499567636196988\n"
          ]
        },
        {
          "output_type": "stream",
          "name": "stderr",
          "text": [
            "BatchNorm with epoch 58: 100%|██████████| 79/79 [00:01<00:00, 51.78it/s, Loss=0.0174]\n"
          ]
        },
        {
          "output_type": "stream",
          "name": "stdout",
          "text": [
            "Epoch 58, Loss: 0.008150175237391569, lr = 0.004820033148802083\n"
          ]
        },
        {
          "output_type": "stream",
          "name": "stderr",
          "text": [
            "BatchNorm with epoch 59: 100%|██████████| 79/79 [00:01<00:00, 51.46it/s, Loss=0.0149]\n"
          ]
        },
        {
          "output_type": "stream",
          "name": "stdout",
          "text": [
            "Epoch 59, Loss: 0.008053978315637082, lr = 0.004645801140274431\n"
          ]
        },
        {
          "output_type": "stream",
          "name": "stderr",
          "text": [
            "BatchNorm with epoch 60: 100%|██████████| 79/79 [00:01<00:00, 51.05it/s, Loss=0.0454]\n"
          ]
        },
        {
          "output_type": "stream",
          "name": "stdout",
          "text": [
            "Epoch 60, Loss: 0.0083980626556315, lr = 0.004473152282344052\n"
          ]
        },
        {
          "output_type": "stream",
          "name": "stderr",
          "text": [
            "BatchNorm with epoch 61: 100%|██████████| 79/79 [00:01<00:00, 51.01it/s, Loss=0.0542]\n"
          ]
        },
        {
          "output_type": "stream",
          "name": "stdout",
          "text": [
            "Epoch 61, Loss: 0.008763085649926452, lr = 0.004302256958589572\n"
          ]
        },
        {
          "output_type": "stream",
          "name": "stderr",
          "text": [
            "BatchNorm with epoch 62: 100%|██████████| 79/79 [00:01<00:00, 51.83it/s, Loss=0.0214]\n"
          ]
        },
        {
          "output_type": "stream",
          "name": "stdout",
          "text": [
            "Epoch 62, Loss: 0.008155739642208136, lr = 0.004133283822063101\n"
          ]
        },
        {
          "output_type": "stream",
          "name": "stderr",
          "text": [
            "BatchNorm with epoch 63: 100%|██████████| 79/79 [00:01<00:00, 51.04it/s, Loss=0.034]\n"
          ]
        },
        {
          "output_type": "stream",
          "name": "stdout",
          "text": [
            "Epoch 63, Loss: 0.008069484247059762, lr = 0.003966399628850009\n"
          ]
        },
        {
          "output_type": "stream",
          "name": "stderr",
          "text": [
            "BatchNorm with epoch 64: 100%|██████████| 79/79 [00:01<00:00, 49.48it/s, Loss=0.01]\n"
          ]
        },
        {
          "output_type": "stream",
          "name": "stdout",
          "text": [
            "Epoch 64, Loss: 0.007717754833305938, lr = 0.0038017690735008304\n"
          ]
        },
        {
          "output_type": "stream",
          "name": "stderr",
          "text": [
            "BatchNorm with epoch 65: 100%|██████████| 79/79 [00:01<00:00, 50.13it/s, Loss=0.0284]\n"
          ]
        },
        {
          "output_type": "stream",
          "name": "stdout",
          "text": [
            "Epoch 65, Loss: 0.007779950676839563, lr = 0.0036395546264976044\n"
          ]
        },
        {
          "output_type": "stream",
          "name": "stderr",
          "text": [
            "BatchNorm with epoch 66: 100%|██████████| 79/79 [00:01<00:00, 51.71it/s, Loss=0.394]\n"
          ]
        },
        {
          "output_type": "stream",
          "name": "stdout",
          "text": [
            "Epoch 66, Loss: 0.012413750461573843, lr = 0.0034799163739151345\n"
          ]
        },
        {
          "output_type": "stream",
          "name": "stderr",
          "text": [
            "BatchNorm with epoch 67: 100%|██████████| 79/79 [00:01<00:00, 51.19it/s, Loss=0.03]\n"
          ]
        },
        {
          "output_type": "stream",
          "name": "stdout",
          "text": [
            "Epoch 67, Loss: 0.025551234100815615, lr = 0.0033230118594353634\n"
          ]
        },
        {
          "output_type": "stream",
          "name": "stderr",
          "text": [
            "BatchNorm with epoch 68: 100%|██████████| 79/79 [00:01<00:00, 51.41it/s, Loss=0.033]\n"
          ]
        },
        {
          "output_type": "stream",
          "name": "stdout",
          "text": [
            "Epoch 68, Loss: 0.009739499256203446, lr = 0.0031689959288707667\n"
          ]
        },
        {
          "output_type": "stream",
          "name": "stderr",
          "text": [
            "BatchNorm with epoch 69: 100%|██████████| 79/79 [00:01<00:00, 51.60it/s, Loss=0.0131]\n"
          ]
        },
        {
          "output_type": "stream",
          "name": "stdout",
          "text": [
            "Epoch 69, Loss: 0.008709638273414177, lr = 0.0030180205773502476\n"
          ]
        },
        {
          "output_type": "stream",
          "name": "stderr",
          "text": [
            "BatchNorm with epoch 70: 100%|██████████| 79/79 [00:01<00:00, 51.53it/s, Loss=0.0372]\n"
          ]
        },
        {
          "output_type": "stream",
          "name": "stdout",
          "text": [
            "Epoch 70, Loss: 0.0086712820007454, lr = 0.0028702347993182793\n"
          ]
        },
        {
          "output_type": "stream",
          "name": "stderr",
          "text": [
            "BatchNorm with epoch 71: 100%|██████████| 79/79 [00:01<00:00, 51.21it/s, Loss=0.13]\n"
          ]
        },
        {
          "output_type": "stream",
          "name": "stdout",
          "text": [
            "Epoch 71, Loss: 0.009988535242744638, lr = 0.002725784441495384\n"
          ]
        },
        {
          "output_type": "stream",
          "name": "stderr",
          "text": [
            "BatchNorm with epoch 72: 100%|██████████| 79/79 [00:01<00:00, 50.12it/s, Loss=0.0189]\n"
          ]
        },
        {
          "output_type": "stream",
          "name": "stdout",
          "text": [
            "Epoch 72, Loss: 0.010454629394638388, lr = 0.0025848120589450334\n"
          ]
        },
        {
          "output_type": "stream",
          "name": "stderr",
          "text": [
            "BatchNorm with epoch 73: 100%|██████████| 79/79 [00:01<00:00, 51.67it/s, Loss=0.0172]\n"
          ]
        },
        {
          "output_type": "stream",
          "name": "stdout",
          "text": [
            "Epoch 73, Loss: 0.007935172512750083, lr = 0.0024474567743890023\n"
          ]
        },
        {
          "output_type": "stream",
          "name": "stderr",
          "text": [
            "BatchNorm with epoch 74: 100%|██████████| 79/79 [00:01<00:00, 51.71it/s, Loss=0.0149]\n"
          ]
        },
        {
          "output_type": "stream",
          "name": "stdout",
          "text": [
            "Epoch 74, Loss: 0.00789707290786731, lr = 0.0023138541409100395\n"
          ]
        },
        {
          "output_type": "stream",
          "name": "stderr",
          "text": [
            "BatchNorm with epoch 75: 100%|██████████| 79/79 [00:01<00:00, 51.09it/s, Loss=0.00198]\n"
          ]
        },
        {
          "output_type": "stream",
          "name": "stdout",
          "text": [
            "Epoch 75, Loss: 0.007426729190010059, lr = 0.0021841360081773517\n"
          ]
        },
        {
          "output_type": "stream",
          "name": "stderr",
          "text": [
            "BatchNorm with epoch 76: 100%|██████████| 79/79 [00:01<00:00, 51.53it/s, Loss=0.0258]\n"
          ]
        },
        {
          "output_type": "stream",
          "name": "stdout",
          "text": [
            "Epoch 76, Loss: 0.007579034359394749, lr = 0.0020584303923268845\n"
          ]
        },
        {
          "output_type": "stream",
          "name": "stderr",
          "text": [
            "BatchNorm with epoch 77: 100%|██████████| 79/79 [00:01<00:00, 51.24it/s, Loss=0.0191]\n"
          ]
        },
        {
          "output_type": "stream",
          "name": "stdout",
          "text": [
            "Epoch 77, Loss: 0.007520655240816406, lr = 0.0019368613496248569\n"
          ]
        },
        {
          "output_type": "stream",
          "name": "stderr",
          "text": [
            "BatchNorm with epoch 78: 100%|██████████| 79/79 [00:01<00:00, 51.61it/s, Loss=0.0136]\n"
          ]
        },
        {
          "output_type": "stream",
          "name": "stdout",
          "text": [
            "Epoch 78, Loss: 0.007244239973871014, lr = 0.001819548854039212\n"
          ]
        },
        {
          "output_type": "stream",
          "name": "stderr",
          "text": [
            "BatchNorm with epoch 79: 100%|██████████| 79/79 [00:01<00:00, 50.40it/s, Loss=0.00228]\n"
          ]
        },
        {
          "output_type": "stream",
          "name": "stdout",
          "text": [
            "Epoch 79, Loss: 0.007045949679575389, lr = 0.0017066086788397798\n"
          ]
        },
        {
          "output_type": "stream",
          "name": "stderr",
          "text": [
            "BatchNorm with epoch 80: 100%|██████████| 79/79 [00:01<00:00, 50.33it/s, Loss=0.0312]\n"
          ]
        },
        {
          "output_type": "stream",
          "name": "stdout",
          "text": [
            "Epoch 80, Loss: 0.007466562823215618, lr = 0.0015981522823440525\n"
          ]
        },
        {
          "output_type": "stream",
          "name": "stderr",
          "text": [
            "BatchNorm with epoch 81: 100%|██████████| 79/79 [00:01<00:00, 50.80it/s, Loss=0.0154]\n"
          ]
        },
        {
          "output_type": "stream",
          "name": "stdout",
          "text": [
            "Epoch 81, Loss: 0.007231160904033275, lr = 0.0014942866979212699\n"
          ]
        },
        {
          "output_type": "stream",
          "name": "stderr",
          "text": [
            "BatchNorm with epoch 82: 100%|██████████| 79/79 [00:01<00:00, 51.74it/s, Loss=0.0108]\n"
          ]
        },
        {
          "output_type": "stream",
          "name": "stdout",
          "text": [
            "Epoch 82, Loss: 0.006964469894389563, lr = 0.0013951144283634144\n"
          ]
        },
        {
          "output_type": "stream",
          "name": "stderr",
          "text": [
            "BatchNorm with epoch 83: 100%|██████████| 79/79 [00:01<00:00, 51.20it/s, Loss=0.00591]\n"
          ]
        },
        {
          "output_type": "stream",
          "name": "stdout",
          "text": [
            "Epoch 83, Loss: 0.0071063471510063245, lr = 0.0013007333447273232\n"
          ]
        },
        {
          "output_type": "stream",
          "name": "stderr",
          "text": [
            "BatchNorm with epoch 84: 100%|██████████| 79/79 [00:01<00:00, 51.35it/s, Loss=0.0132]\n"
          ]
        },
        {
          "output_type": "stream",
          "name": "stdout",
          "text": [
            "Epoch 84, Loss: 0.006969621169227588, lr = 0.0012112365897477841\n"
          ]
        },
        {
          "output_type": "stream",
          "name": "stderr",
          "text": [
            "BatchNorm with epoch 85: 100%|██████████| 79/79 [00:01<00:00, 51.21it/s, Loss=0.0125]\n"
          ]
        },
        {
          "output_type": "stream",
          "name": "stdout",
          "text": [
            "Epoch 85, Loss: 0.0068912893014995355, lr = 0.001126712485916885\n"
          ]
        },
        {
          "output_type": "stream",
          "name": "stderr",
          "text": [
            "BatchNorm with epoch 86: 100%|██████████| 79/79 [00:01<00:00, 51.33it/s, Loss=0.0145]\n"
          ]
        },
        {
          "output_type": "stream",
          "name": "stdout",
          "text": [
            "Epoch 86, Loss: 0.006937045509679408, lr = 0.0010472444483203885\n"
          ]
        },
        {
          "output_type": "stream",
          "name": "stderr",
          "text": [
            "BatchNorm with epoch 87: 100%|██████████| 79/79 [00:01<00:00, 49.48it/s, Loss=0.0254]\n"
          ]
        },
        {
          "output_type": "stream",
          "name": "stdout",
          "text": [
            "Epoch 87, Loss: 0.007325109707403786, lr = 0.0009729109023171096\n"
          ]
        },
        {
          "output_type": "stream",
          "name": "stderr",
          "text": [
            "BatchNorm with epoch 88: 100%|██████████| 79/79 [00:01<00:00, 51.82it/s, Loss=0.026]\n"
          ]
        },
        {
          "output_type": "stream",
          "name": "stdout",
          "text": [
            "Epoch 88, Loss: 0.007015756932617743, lr = 0.0009037852061425547\n"
          ]
        },
        {
          "output_type": "stream",
          "name": "stderr",
          "text": [
            "BatchNorm with epoch 89: 100%|██████████| 79/79 [00:01<00:00, 51.51it/s, Loss=0.0279]\n"
          ]
        },
        {
          "output_type": "stream",
          "name": "stdout",
          "text": [
            "Epoch 89, Loss: 0.006905411782709858, lr = 0.0008399355785132036\n"
          ]
        },
        {
          "output_type": "stream",
          "name": "stderr",
          "text": [
            "BatchNorm with epoch 90: 100%|██████████| 79/79 [00:01<00:00, 51.46it/s, Loss=0.0204]\n"
          ]
        },
        {
          "output_type": "stream",
          "name": "stdout",
          "text": [
            "Epoch 90, Loss: 0.007004690722008294, lr = 0.0007814250313028671\n"
          ]
        },
        {
          "output_type": "stream",
          "name": "stderr",
          "text": [
            "BatchNorm with epoch 91: 100%|██████████| 79/79 [00:01<00:00, 50.98it/s, Loss=0.0104]\n"
          ]
        },
        {
          "output_type": "stream",
          "name": "stdout",
          "text": [
            "Epoch 91, Loss: 0.006852897426372842, lr = 0.0007283113073575779\n"
          ]
        },
        {
          "output_type": "stream",
          "name": "stderr",
          "text": [
            "BatchNorm with epoch 92: 100%|██████████| 79/79 [00:01<00:00, 51.76it/s, Loss=0.011]\n"
          ]
        },
        {
          "output_type": "stream",
          "name": "stdout",
          "text": [
            "Epoch 92, Loss: 0.0069407137653118445, lr = 0.0006806468235103719\n"
          ]
        },
        {
          "output_type": "stream",
          "name": "stderr",
          "text": [
            "BatchNorm with epoch 93: 100%|██████████| 79/79 [00:01<00:00, 51.41it/s, Loss=0.0153]\n"
          ]
        },
        {
          "output_type": "stream",
          "name": "stdout",
          "text": [
            "Epoch 93, Loss: 0.007180828742588623, lr = 0.0006384786188522028\n"
          ]
        },
        {
          "output_type": "stream",
          "name": "stderr",
          "text": [
            "BatchNorm with epoch 94: 100%|██████████| 79/79 [00:01<00:00, 50.97it/s, Loss=0.0122]\n"
          ]
        },
        {
          "output_type": "stream",
          "name": "stdout",
          "text": [
            "Epoch 94, Loss: 0.006857803091406822, lr = 0.0006018483083100398\n"
          ]
        },
        {
          "output_type": "stream",
          "name": "stderr",
          "text": [
            "BatchNorm with epoch 95: 100%|██████████| 79/79 [00:01<00:00, 49.98it/s, Loss=0.0267]\n"
          ]
        },
        {
          "output_type": "stream",
          "name": "stdout",
          "text": [
            "Epoch 95, Loss: 0.007106691363114345, lr = 0.0005707920415779584\n"
          ]
        },
        {
          "output_type": "stream",
          "name": "stderr",
          "text": [
            "BatchNorm with epoch 96: 100%|██████████| 79/79 [00:01<00:00, 51.69it/s, Loss=0.0116]\n"
          ]
        },
        {
          "output_type": "stream",
          "name": "stdout",
          "text": [
            "Epoch 96, Loss: 0.0069170295956391325, lr = 0.0005453404674417528\n"
          ]
        },
        {
          "output_type": "stream",
          "name": "stderr",
          "text": [
            "BatchNorm with epoch 97: 100%|██████████| 79/79 [00:01<00:00, 51.38it/s, Loss=0.0257]\n"
          ]
        },
        {
          "output_type": "stream",
          "name": "stdout",
          "text": [
            "Epoch 97, Loss: 0.007058968861834912, lr = 0.00052551870353229\n"
          ]
        },
        {
          "output_type": "stream",
          "name": "stderr",
          "text": [
            "BatchNorm with epoch 98: 100%|██████████| 79/79 [00:01<00:00, 51.69it/s, Loss=0.0564]\n"
          ]
        },
        {
          "output_type": "stream",
          "name": "stdout",
          "text": [
            "Epoch 98, Loss: 0.007356237030670613, lr = 0.0005113463115374385\n"
          ]
        },
        {
          "output_type": "stream",
          "name": "stderr",
          "text": [
            "BatchNorm with epoch 99: 100%|██████████| 79/79 [00:01<00:00, 51.11it/s, Loss=0.235]\n"
          ]
        },
        {
          "output_type": "stream",
          "name": "stdout",
          "text": [
            "Epoch 99, Loss: 0.00955325145793112, lr = 0.0005028372778970433\n"
          ]
        },
        {
          "output_type": "stream",
          "name": "stderr",
          "text": [
            "BatchNorm with epoch 100: 100%|██████████| 79/79 [00:01<00:00, 51.83it/s, Loss=0.0203]\n"
          ]
        },
        {
          "output_type": "stream",
          "name": "stdout",
          "text": [
            "Epoch 100, Loss: 0.007661019440127324, lr = 0.0005\n"
          ]
        },
        {
          "output_type": "stream",
          "name": "stderr",
          "text": [
            "GroupNorm with epoch 1: 100%|██████████| 79/79 [00:01<00:00, 50.58it/s, Loss=1.81]\n"
          ]
        },
        {
          "output_type": "stream",
          "name": "stdout",
          "text": [
            "Epoch 1, Loss: 1.9458813727656497, lr = 0.011997162722102958\n"
          ]
        },
        {
          "output_type": "stream",
          "name": "stderr",
          "text": [
            "GroupNorm with epoch 2: 100%|██████████| 79/79 [00:01<00:00, 49.87it/s, Loss=1.15]\n"
          ]
        },
        {
          "output_type": "stream",
          "name": "stdout",
          "text": [
            "Epoch 2, Loss: 1.5882117597362664, lr = 0.011988653688462563\n"
          ]
        },
        {
          "output_type": "stream",
          "name": "stderr",
          "text": [
            "GroupNorm with epoch 3: 100%|██████████| 79/79 [00:01<00:00, 50.48it/s, Loss=1.46]\n"
          ]
        },
        {
          "output_type": "stream",
          "name": "stdout",
          "text": [
            "Epoch 3, Loss: 1.406538287295571, lr = 0.011974481296467712\n"
          ]
        },
        {
          "output_type": "stream",
          "name": "stderr",
          "text": [
            "GroupNorm with epoch 4: 100%|██████████| 79/79 [00:01<00:00, 50.98it/s, Loss=0.658]\n"
          ]
        },
        {
          "output_type": "stream",
          "name": "stdout",
          "text": [
            "Epoch 4, Loss: 1.2860589359380021, lr = 0.01195465953255825\n"
          ]
        },
        {
          "output_type": "stream",
          "name": "stderr",
          "text": [
            "GroupNorm with epoch 5: 100%|██████████| 79/79 [00:01<00:00, 50.69it/s, Loss=1.05]\n"
          ]
        },
        {
          "output_type": "stream",
          "name": "stdout",
          "text": [
            "Epoch 5, Loss: 1.1712982005710844, lr = 0.011929207958422044\n"
          ]
        },
        {
          "output_type": "stream",
          "name": "stderr",
          "text": [
            "GroupNorm with epoch 6: 100%|██████████| 79/79 [00:01<00:00, 50.09it/s, Loss=1.24]\n"
          ]
        },
        {
          "output_type": "stream",
          "name": "stdout",
          "text": [
            "Epoch 6, Loss: 1.081283827371235, lr = 0.011898151691689963\n"
          ]
        },
        {
          "output_type": "stream",
          "name": "stderr",
          "text": [
            "GroupNorm with epoch 7: 100%|██████████| 79/79 [00:01<00:00, 50.58it/s, Loss=0.894]\n"
          ]
        },
        {
          "output_type": "stream",
          "name": "stdout",
          "text": [
            "Epoch 7, Loss: 1.0101741552352905, lr = 0.0118615213811478\n"
          ]
        },
        {
          "output_type": "stream",
          "name": "stderr",
          "text": [
            "GroupNorm with epoch 8: 100%|██████████| 79/79 [00:01<00:00, 50.41it/s, Loss=1.43]\n"
          ]
        },
        {
          "output_type": "stream",
          "name": "stdout",
          "text": [
            "Epoch 8, Loss: 0.8624996392032768, lr = 0.011819353176489631\n"
          ]
        },
        {
          "output_type": "stream",
          "name": "stderr",
          "text": [
            "GroupNorm with epoch 9: 100%|██████████| 79/79 [00:01<00:00, 49.71it/s, Loss=0.617]\n"
          ]
        },
        {
          "output_type": "stream",
          "name": "stdout",
          "text": [
            "Epoch 9, Loss: 0.7957869398443005, lr = 0.011771688692642425\n"
          ]
        },
        {
          "output_type": "stream",
          "name": "stderr",
          "text": [
            "GroupNorm with epoch 10: 100%|██████████| 79/79 [00:01<00:00, 49.58it/s, Loss=0.985]\n"
          ]
        },
        {
          "output_type": "stream",
          "name": "stdout",
          "text": [
            "Epoch 10, Loss: 0.6851460141471669, lr = 0.011718574968697135\n"
          ]
        },
        {
          "output_type": "stream",
          "name": "stderr",
          "text": [
            "GroupNorm with epoch 11: 100%|██████████| 79/79 [00:01<00:00, 50.57it/s, Loss=0.179]\n"
          ]
        },
        {
          "output_type": "stream",
          "name": "stdout",
          "text": [
            "Epoch 11, Loss: 0.6293373304077342, lr = 0.0116600644214868\n"
          ]
        },
        {
          "output_type": "stream",
          "name": "stderr",
          "text": [
            "GroupNorm with epoch 12: 100%|██████████| 79/79 [00:01<00:00, 50.59it/s, Loss=0.774]\n"
          ]
        },
        {
          "output_type": "stream",
          "name": "stdout",
          "text": [
            "Epoch 12, Loss: 0.5405430774899977, lr = 0.011596214793857449\n"
          ]
        },
        {
          "output_type": "stream",
          "name": "stderr",
          "text": [
            "GroupNorm with epoch 13: 100%|██████████| 79/79 [00:01<00:00, 50.89it/s, Loss=0.264]\n"
          ]
        },
        {
          "output_type": "stream",
          "name": "stdout",
          "text": [
            "Epoch 13, Loss: 0.4691150569463078, lr = 0.011527089097682894\n"
          ]
        },
        {
          "output_type": "stream",
          "name": "stderr",
          "text": [
            "GroupNorm with epoch 14: 100%|██████████| 79/79 [00:01<00:00, 50.52it/s, Loss=0.62]\n"
          ]
        },
        {
          "output_type": "stream",
          "name": "stdout",
          "text": [
            "Epoch 14, Loss: 0.3930234026305283, lr = 0.011452755551679615\n"
          ]
        },
        {
          "output_type": "stream",
          "name": "stderr",
          "text": [
            "GroupNorm with epoch 15: 100%|██████████| 79/79 [00:01<00:00, 50.09it/s, Loss=0.101]\n"
          ]
        },
        {
          "output_type": "stream",
          "name": "stdout",
          "text": [
            "Epoch 15, Loss: 0.346450173779379, lr = 0.011373287514083117\n"
          ]
        },
        {
          "output_type": "stream",
          "name": "stderr",
          "text": [
            "GroupNorm with epoch 16: 100%|██████████| 79/79 [00:01<00:00, 50.15it/s, Loss=0.235]\n"
          ]
        },
        {
          "output_type": "stream",
          "name": "stdout",
          "text": [
            "Epoch 16, Loss: 0.25006010732318784, lr = 0.011288763410252218\n"
          ]
        },
        {
          "output_type": "stream",
          "name": "stderr",
          "text": [
            "GroupNorm with epoch 17: 100%|██████████| 79/79 [00:01<00:00, 48.97it/s, Loss=0.54]\n"
          ]
        },
        {
          "output_type": "stream",
          "name": "stdout",
          "text": [
            "Epoch 17, Loss: 0.19264185956761806, lr = 0.01119926665527268\n"
          ]
        },
        {
          "output_type": "stream",
          "name": "stderr",
          "text": [
            "GroupNorm with epoch 18: 100%|██████████| 79/79 [00:01<00:00, 49.91it/s, Loss=0.159]\n"
          ]
        },
        {
          "output_type": "stream",
          "name": "stdout",
          "text": [
            "Epoch 18, Loss: 0.21747547614423535, lr = 0.01110488557163659\n"
          ]
        },
        {
          "output_type": "stream",
          "name": "stderr",
          "text": [
            "GroupNorm with epoch 19: 100%|██████████| 79/79 [00:01<00:00, 49.63it/s, Loss=0.0691]\n"
          ]
        },
        {
          "output_type": "stream",
          "name": "stdout",
          "text": [
            "Epoch 19, Loss: 0.1251190684830086, lr = 0.011005713302078734\n"
          ]
        },
        {
          "output_type": "stream",
          "name": "stderr",
          "text": [
            "GroupNorm with epoch 20: 100%|██████████| 79/79 [00:01<00:00, 49.82it/s, Loss=0.0742]\n"
          ]
        },
        {
          "output_type": "stream",
          "name": "stdout",
          "text": [
            "Epoch 20, Loss: 0.08444340946742251, lr = 0.010901847717655951\n"
          ]
        },
        {
          "output_type": "stream",
          "name": "stderr",
          "text": [
            "GroupNorm with epoch 21: 100%|██████████| 79/79 [00:01<00:00, 49.26it/s, Loss=0.0208]\n"
          ]
        },
        {
          "output_type": "stream",
          "name": "stdout",
          "text": [
            "Epoch 21, Loss: 0.06578942991887467, lr = 0.010793391321160221\n"
          ]
        },
        {
          "output_type": "stream",
          "name": "stderr",
          "text": [
            "GroupNorm with epoch 22: 100%|██████████| 79/79 [00:01<00:00, 50.70it/s, Loss=0.0324]\n"
          ]
        },
        {
          "output_type": "stream",
          "name": "stdout",
          "text": [
            "Epoch 22, Loss: 0.03971990815634969, lr = 0.01068045114596079\n"
          ]
        },
        {
          "output_type": "stream",
          "name": "stderr",
          "text": [
            "GroupNorm with epoch 23: 100%|██████████| 79/79 [00:01<00:00, 50.32it/s, Loss=0.0142]\n"
          ]
        },
        {
          "output_type": "stream",
          "name": "stdout",
          "text": [
            "Epoch 23, Loss: 0.03029555975919283, lr = 0.010563138650375146\n"
          ]
        },
        {
          "output_type": "stream",
          "name": "stderr",
          "text": [
            "GroupNorm with epoch 24: 100%|██████████| 79/79 [00:01<00:00, 48.83it/s, Loss=0.0254]\n"
          ]
        },
        {
          "output_type": "stream",
          "name": "stdout",
          "text": [
            "Epoch 24, Loss: 0.025321820632943623, lr = 0.01044156960767312\n"
          ]
        },
        {
          "output_type": "stream",
          "name": "stderr",
          "text": [
            "GroupNorm with epoch 25: 100%|██████████| 79/79 [00:01<00:00, 50.42it/s, Loss=0.02]\n"
          ]
        },
        {
          "output_type": "stream",
          "name": "stdout",
          "text": [
            "Epoch 25, Loss: 0.022313631670195844, lr = 0.010315863991822652\n"
          ]
        },
        {
          "output_type": "stream",
          "name": "stderr",
          "text": [
            "GroupNorm with epoch 26: 100%|██████████| 79/79 [00:01<00:00, 49.96it/s, Loss=0.0091]\n"
          ]
        },
        {
          "output_type": "stream",
          "name": "stdout",
          "text": [
            "Epoch 26, Loss: 0.019042780198439767, lr = 0.010186145859089965\n"
          ]
        },
        {
          "output_type": "stream",
          "name": "stderr",
          "text": [
            "GroupNorm with epoch 27: 100%|██████████| 79/79 [00:01<00:00, 50.37it/s, Loss=0.0265]\n"
          ]
        },
        {
          "output_type": "stream",
          "name": "stdout",
          "text": [
            "Epoch 27, Loss: 0.01816320202395886, lr = 0.010052543225611003\n"
          ]
        },
        {
          "output_type": "stream",
          "name": "stderr",
          "text": [
            "GroupNorm with epoch 28: 100%|██████████| 79/79 [00:01<00:00, 49.94it/s, Loss=0.0175]\n"
          ]
        },
        {
          "output_type": "stream",
          "name": "stdout",
          "text": [
            "Epoch 28, Loss: 0.016750880764632284, lr = 0.00991518794105497\n"
          ]
        },
        {
          "output_type": "stream",
          "name": "stderr",
          "text": [
            "GroupNorm with epoch 29: 100%|██████████| 79/79 [00:01<00:00, 50.09it/s, Loss=0.0129]\n"
          ]
        },
        {
          "output_type": "stream",
          "name": "stdout",
          "text": [
            "Epoch 29, Loss: 0.01521629099793072, lr = 0.00977421555850462\n"
          ]
        },
        {
          "output_type": "stream",
          "name": "stderr",
          "text": [
            "GroupNorm with epoch 30: 100%|██████████| 79/79 [00:01<00:00, 50.45it/s, Loss=0.0124]\n"
          ]
        },
        {
          "output_type": "stream",
          "name": "stdout",
          "text": [
            "Epoch 30, Loss: 0.014157638991180855, lr = 0.009629765200681727\n"
          ]
        },
        {
          "output_type": "stream",
          "name": "stderr",
          "text": [
            "GroupNorm with epoch 31: 100%|██████████| 79/79 [00:01<00:00, 49.51it/s, Loss=0.0114]\n"
          ]
        },
        {
          "output_type": "stream",
          "name": "stdout",
          "text": [
            "Epoch 31, Loss: 0.01343729599272903, lr = 0.009481979422649757\n"
          ]
        },
        {
          "output_type": "stream",
          "name": "stderr",
          "text": [
            "GroupNorm with epoch 32: 100%|██████████| 79/79 [00:01<00:00, 49.21it/s, Loss=0.0078]\n"
          ]
        },
        {
          "output_type": "stream",
          "name": "stdout",
          "text": [
            "Epoch 32, Loss: 0.012564001204092292, lr = 0.009331004071129235\n"
          ]
        },
        {
          "output_type": "stream",
          "name": "stderr",
          "text": [
            "GroupNorm with epoch 33: 100%|██████████| 79/79 [00:01<00:00, 49.38it/s, Loss=0.0098]\n"
          ]
        },
        {
          "output_type": "stream",
          "name": "stdout",
          "text": [
            "Epoch 33, Loss: 0.012031543716976914, lr = 0.00917698814056464\n"
          ]
        },
        {
          "output_type": "stream",
          "name": "stderr",
          "text": [
            "GroupNorm with epoch 34: 100%|██████████| 79/79 [00:01<00:00, 50.00it/s, Loss=0.0133]\n"
          ]
        },
        {
          "output_type": "stream",
          "name": "stdout",
          "text": [
            "Epoch 34, Loss: 0.011739241336531278, lr = 0.009020083626084868\n"
          ]
        },
        {
          "output_type": "stream",
          "name": "stderr",
          "text": [
            "GroupNorm with epoch 35: 100%|██████████| 79/79 [00:01<00:00, 49.97it/s, Loss=0.0097]\n"
          ]
        },
        {
          "output_type": "stream",
          "name": "stdout",
          "text": [
            "Epoch 35, Loss: 0.011052973733483991, lr = 0.008860445373502399\n"
          ]
        },
        {
          "output_type": "stream",
          "name": "stderr",
          "text": [
            "GroupNorm with epoch 36: 100%|██████████| 79/79 [00:01<00:00, 50.03it/s, Loss=0.0112]\n"
          ]
        },
        {
          "output_type": "stream",
          "name": "stdout",
          "text": [
            "Epoch 36, Loss: 0.010768456738206405, lr = 0.008698230926499172\n"
          ]
        },
        {
          "output_type": "stream",
          "name": "stderr",
          "text": [
            "GroupNorm with epoch 37: 100%|██████████| 79/79 [00:01<00:00, 50.21it/s, Loss=0.0114]\n"
          ]
        },
        {
          "output_type": "stream",
          "name": "stdout",
          "text": [
            "Epoch 37, Loss: 0.010392834397056435, lr = 0.008533600371149993\n"
          ]
        },
        {
          "output_type": "stream",
          "name": "stderr",
          "text": [
            "GroupNorm with epoch 38: 100%|██████████| 79/79 [00:01<00:00, 49.00it/s, Loss=0.011]\n"
          ]
        },
        {
          "output_type": "stream",
          "name": "stdout",
          "text": [
            "Epoch 38, Loss: 0.01007479165173784, lr = 0.008366716177936905\n"
          ]
        },
        {
          "output_type": "stream",
          "name": "stderr",
          "text": [
            "GroupNorm with epoch 39: 100%|██████████| 79/79 [00:01<00:00, 49.16it/s, Loss=0.00364]\n"
          ]
        },
        {
          "output_type": "stream",
          "name": "stdout",
          "text": [
            "Epoch 39, Loss: 0.009660532155746146, lr = 0.008197743041410431\n"
          ]
        },
        {
          "output_type": "stream",
          "name": "stderr",
          "text": [
            "GroupNorm with epoch 40: 100%|██████████| 79/79 [00:01<00:00, 49.14it/s, Loss=0.00811]\n"
          ]
        },
        {
          "output_type": "stream",
          "name": "stdout",
          "text": [
            "Epoch 40, Loss: 0.009425361063095588, lr = 0.008026847717655952\n"
          ]
        },
        {
          "output_type": "stream",
          "name": "stderr",
          "text": [
            "GroupNorm with epoch 41: 100%|██████████| 79/79 [00:01<00:00, 50.11it/s, Loss=0.00345]\n"
          ]
        },
        {
          "output_type": "stream",
          "name": "stdout",
          "text": [
            "Epoch 41, Loss: 0.009164744162861305, lr = 0.007854198859725573\n"
          ]
        },
        {
          "output_type": "stream",
          "name": "stderr",
          "text": [
            "GroupNorm with epoch 42: 100%|██████████| 79/79 [00:01<00:00, 50.33it/s, Loss=0.00651]\n"
          ]
        },
        {
          "output_type": "stream",
          "name": "stdout",
          "text": [
            "Epoch 42, Loss: 0.009019902093878275, lr = 0.007679966851197918\n"
          ]
        },
        {
          "output_type": "stream",
          "name": "stderr",
          "text": [
            "GroupNorm with epoch 43: 100%|██████████| 79/79 [00:01<00:00, 50.11it/s, Loss=0.00449]\n"
          ]
        },
        {
          "output_type": "stream",
          "name": "stdout",
          "text": [
            "Epoch 43, Loss: 0.00873865911006173, lr = 0.007504323638030124\n"
          ]
        },
        {
          "output_type": "stream",
          "name": "stderr",
          "text": [
            "GroupNorm with epoch 44: 100%|██████████| 79/79 [00:01<00:00, 49.46it/s, Loss=0.00454]\n"
          ]
        },
        {
          "output_type": "stream",
          "name": "stdout",
          "text": [
            "Epoch 44, Loss: 0.008547334542757348, lr = 0.007327442558867921\n"
          ]
        },
        {
          "output_type": "stream",
          "name": "stderr",
          "text": [
            "GroupNorm with epoch 45: 100%|██████████| 79/79 [00:01<00:00, 50.19it/s, Loss=0.0144]\n"
          ]
        },
        {
          "output_type": "stream",
          "name": "stdout",
          "text": [
            "Epoch 45, Loss: 0.008516569421449793, lr = 0.00714949817398133\n"
          ]
        },
        {
          "output_type": "stream",
          "name": "stderr",
          "text": [
            "GroupNorm with epoch 46: 100%|██████████| 79/79 [00:01<00:00, 49.24it/s, Loss=0.0108]\n"
          ]
        },
        {
          "output_type": "stream",
          "name": "stdout",
          "text": [
            "Epoch 46, Loss: 0.008359452921755706, lr = 0.006970666092994753\n"
          ]
        },
        {
          "output_type": "stream",
          "name": "stderr",
          "text": [
            "GroupNorm with epoch 47: 100%|██████████| 79/79 [00:01<00:00, 49.48it/s, Loss=0.00795]\n"
          ]
        },
        {
          "output_type": "stream",
          "name": "stdout",
          "text": [
            "Epoch 47, Loss: 0.008226630549076238, lr = 0.006791122801581459\n"
          ]
        },
        {
          "output_type": "stream",
          "name": "stderr",
          "text": [
            "GroupNorm with epoch 48: 100%|██████████| 79/79 [00:01<00:00, 51.09it/s, Loss=0.00849]\n"
          ]
        },
        {
          "output_type": "stream",
          "name": "stdout",
          "text": [
            "Epoch 48, Loss: 0.007994212139445015, lr = 0.006611045487293554\n"
          ]
        },
        {
          "output_type": "stream",
          "name": "stderr",
          "text": [
            "GroupNorm with epoch 49: 100%|██████████| 79/79 [00:01<00:00, 49.69it/s, Loss=0.0112]\n"
          ]
        },
        {
          "output_type": "stream",
          "name": "stdout",
          "text": [
            "Epoch 49, Loss: 0.007950507080819033, lr = 0.006430611864699239\n"
          ]
        },
        {
          "output_type": "stream",
          "name": "stderr",
          "text": [
            "GroupNorm with epoch 50: 100%|██████████| 79/79 [00:01<00:00, 50.38it/s, Loss=0.00882]\n"
          ]
        },
        {
          "output_type": "stream",
          "name": "stdout",
          "text": [
            "Epoch 50, Loss: 0.007849882675122611, lr = 0.00625\n"
          ]
        },
        {
          "output_type": "stream",
          "name": "stderr",
          "text": [
            "GroupNorm with epoch 51: 100%|██████████| 79/79 [00:01<00:00, 50.15it/s, Loss=0.00797]\n"
          ]
        },
        {
          "output_type": "stream",
          "name": "stdout",
          "text": [
            "Epoch 51, Loss: 0.007691796326750442, lr = 0.006069388135300762\n"
          ]
        },
        {
          "output_type": "stream",
          "name": "stderr",
          "text": [
            "GroupNorm with epoch 52: 100%|██████████| 79/79 [00:01<00:00, 50.22it/s, Loss=0.00878]\n"
          ]
        },
        {
          "output_type": "stream",
          "name": "stdout",
          "text": [
            "Epoch 52, Loss: 0.007602119276040717, lr = 0.005888954512706447\n"
          ]
        },
        {
          "output_type": "stream",
          "name": "stderr",
          "text": [
            "GroupNorm with epoch 53: 100%|██████████| 79/79 [00:01<00:00, 49.30it/s, Loss=0.00899]\n"
          ]
        },
        {
          "output_type": "stream",
          "name": "stdout",
          "text": [
            "Epoch 53, Loss: 0.007523382341937173, lr = 0.005708877198418541\n"
          ]
        },
        {
          "output_type": "stream",
          "name": "stderr",
          "text": [
            "GroupNorm with epoch 54: 100%|██████████| 79/79 [00:01<00:00, 49.30it/s, Loss=0.0084]\n"
          ]
        },
        {
          "output_type": "stream",
          "name": "stdout",
          "text": [
            "Epoch 54, Loss: 0.007416553748182103, lr = 0.0055293339070052495\n"
          ]
        },
        {
          "output_type": "stream",
          "name": "stderr",
          "text": [
            "GroupNorm with epoch 55: 100%|██████████| 79/79 [00:01<00:00, 50.28it/s, Loss=0.00434]\n"
          ]
        },
        {
          "output_type": "stream",
          "name": "stdout",
          "text": [
            "Epoch 55, Loss: 0.007309067617111568, lr = 0.005350501826018671\n"
          ]
        },
        {
          "output_type": "stream",
          "name": "stderr",
          "text": [
            "GroupNorm with epoch 56: 100%|██████████| 79/79 [00:01<00:00, 49.57it/s, Loss=0.00972]\n"
          ]
        },
        {
          "output_type": "stream",
          "name": "stdout",
          "text": [
            "Epoch 56, Loss: 0.007282386380660383, lr = 0.005172557441132082\n"
          ]
        },
        {
          "output_type": "stream",
          "name": "stderr",
          "text": [
            "GroupNorm with epoch 57: 100%|██████████| 79/79 [00:01<00:00, 49.58it/s, Loss=0.00712]\n"
          ]
        },
        {
          "output_type": "stream",
          "name": "stdout",
          "text": [
            "Epoch 57, Loss: 0.007220090260799927, lr = 0.00499567636196988\n"
          ]
        },
        {
          "output_type": "stream",
          "name": "stderr",
          "text": [
            "GroupNorm with epoch 58: 100%|██████████| 79/79 [00:01<00:00, 49.75it/s, Loss=0.00717]\n"
          ]
        },
        {
          "output_type": "stream",
          "name": "stdout",
          "text": [
            "Epoch 58, Loss: 0.007118481694708897, lr = 0.004820033148802083\n"
          ]
        },
        {
          "output_type": "stream",
          "name": "stderr",
          "text": [
            "GroupNorm with epoch 59: 100%|██████████| 79/79 [00:01<00:00, 49.92it/s, Loss=0.0095]\n"
          ]
        },
        {
          "output_type": "stream",
          "name": "stdout",
          "text": [
            "Epoch 59, Loss: 0.0070665751737129835, lr = 0.004645801140274431\n"
          ]
        },
        {
          "output_type": "stream",
          "name": "stderr",
          "text": [
            "GroupNorm with epoch 60: 100%|██████████| 79/79 [00:01<00:00, 49.95it/s, Loss=0.00808]\n"
          ]
        },
        {
          "output_type": "stream",
          "name": "stdout",
          "text": [
            "Epoch 60, Loss: 0.007041326358537131, lr = 0.004473152282344052\n"
          ]
        },
        {
          "output_type": "stream",
          "name": "stderr",
          "text": [
            "GroupNorm with epoch 61: 100%|██████████| 79/79 [00:01<00:00, 48.80it/s, Loss=0.00841]\n"
          ]
        },
        {
          "output_type": "stream",
          "name": "stdout",
          "text": [
            "Epoch 61, Loss: 0.006985854758303376, lr = 0.004302256958589572\n"
          ]
        },
        {
          "output_type": "stream",
          "name": "stderr",
          "text": [
            "GroupNorm with epoch 62: 100%|██████████| 79/79 [00:01<00:00, 49.88it/s, Loss=0.00683]\n"
          ]
        },
        {
          "output_type": "stream",
          "name": "stdout",
          "text": [
            "Epoch 62, Loss: 0.006881212013997609, lr = 0.004133283822063101\n"
          ]
        },
        {
          "output_type": "stream",
          "name": "stderr",
          "text": [
            "GroupNorm with epoch 63: 100%|██████████| 79/79 [00:01<00:00, 50.71it/s, Loss=0.00884]\n"
          ]
        },
        {
          "output_type": "stream",
          "name": "stdout",
          "text": [
            "Epoch 63, Loss: 0.006868606975561456, lr = 0.003966399628850009\n"
          ]
        },
        {
          "output_type": "stream",
          "name": "stderr",
          "text": [
            "GroupNorm with epoch 64: 100%|██████████| 79/79 [00:01<00:00, 50.29it/s, Loss=0.0109]\n"
          ]
        },
        {
          "output_type": "stream",
          "name": "stdout",
          "text": [
            "Epoch 64, Loss: 0.006848513042624993, lr = 0.0038017690735008304\n"
          ]
        },
        {
          "output_type": "stream",
          "name": "stderr",
          "text": [
            "GroupNorm with epoch 65: 100%|██████████| 79/79 [00:01<00:00, 50.98it/s, Loss=0.0101]\n"
          ]
        },
        {
          "output_type": "stream",
          "name": "stdout",
          "text": [
            "Epoch 65, Loss: 0.006790317618582822, lr = 0.0036395546264976044\n"
          ]
        },
        {
          "output_type": "stream",
          "name": "stderr",
          "text": [
            "GroupNorm with epoch 66: 100%|██████████| 79/79 [00:01<00:00, 51.30it/s, Loss=0.00555]\n"
          ]
        },
        {
          "output_type": "stream",
          "name": "stdout",
          "text": [
            "Epoch 66, Loss: 0.006711884554994258, lr = 0.0034799163739151345\n"
          ]
        },
        {
          "output_type": "stream",
          "name": "stderr",
          "text": [
            "GroupNorm with epoch 67: 100%|██████████| 79/79 [00:01<00:00, 50.86it/s, Loss=0.00602]\n"
          ]
        },
        {
          "output_type": "stream",
          "name": "stdout",
          "text": [
            "Epoch 67, Loss: 0.006684791556076158, lr = 0.0033230118594353634\n"
          ]
        },
        {
          "output_type": "stream",
          "name": "stderr",
          "text": [
            "GroupNorm with epoch 68: 100%|██████████| 79/79 [00:01<00:00, 49.43it/s, Loss=0.00493]\n"
          ]
        },
        {
          "output_type": "stream",
          "name": "stdout",
          "text": [
            "Epoch 68, Loss: 0.006619989258956306, lr = 0.0031689959288707667\n"
          ]
        },
        {
          "output_type": "stream",
          "name": "stderr",
          "text": [
            "GroupNorm with epoch 69: 100%|██████████| 79/79 [00:01<00:00, 49.55it/s, Loss=0.00564]\n"
          ]
        },
        {
          "output_type": "stream",
          "name": "stdout",
          "text": [
            "Epoch 69, Loss: 0.006594196339196797, lr = 0.0030180205773502476\n"
          ]
        },
        {
          "output_type": "stream",
          "name": "stderr",
          "text": [
            "GroupNorm with epoch 70: 100%|██████████| 79/79 [00:01<00:00, 49.57it/s, Loss=0.00843]\n"
          ]
        },
        {
          "output_type": "stream",
          "name": "stdout",
          "text": [
            "Epoch 70, Loss: 0.006596330152470855, lr = 0.0028702347993182793\n"
          ]
        },
        {
          "output_type": "stream",
          "name": "stderr",
          "text": [
            "GroupNorm with epoch 71: 100%|██████████| 79/79 [00:01<00:00, 50.74it/s, Loss=0.00841]\n"
          ]
        },
        {
          "output_type": "stream",
          "name": "stdout",
          "text": [
            "Epoch 71, Loss: 0.006553996990941748, lr = 0.002725784441495384\n"
          ]
        },
        {
          "output_type": "stream",
          "name": "stderr",
          "text": [
            "GroupNorm with epoch 72: 100%|██████████| 79/79 [00:01<00:00, 49.59it/s, Loss=0.00459]\n"
          ]
        },
        {
          "output_type": "stream",
          "name": "stdout",
          "text": [
            "Epoch 72, Loss: 0.006500318693586543, lr = 0.0025848120589450334\n"
          ]
        },
        {
          "output_type": "stream",
          "name": "stderr",
          "text": [
            "GroupNorm with epoch 73: 100%|██████████| 79/79 [00:01<00:00, 49.88it/s, Loss=0.00876]\n"
          ]
        },
        {
          "output_type": "stream",
          "name": "stdout",
          "text": [
            "Epoch 73, Loss: 0.006514589219719548, lr = 0.0024474567743890023\n"
          ]
        },
        {
          "output_type": "stream",
          "name": "stderr",
          "text": [
            "GroupNorm with epoch 74: 100%|██████████| 79/79 [00:01<00:00, 49.98it/s, Loss=0.00238]\n"
          ]
        },
        {
          "output_type": "stream",
          "name": "stdout",
          "text": [
            "Epoch 74, Loss: 0.006424363065935388, lr = 0.0023138541409100395\n"
          ]
        },
        {
          "output_type": "stream",
          "name": "stderr",
          "text": [
            "GroupNorm with epoch 75: 100%|██████████| 79/79 [00:01<00:00, 49.48it/s, Loss=0.00276]\n"
          ]
        },
        {
          "output_type": "stream",
          "name": "stdout",
          "text": [
            "Epoch 75, Loss: 0.0063906858993481985, lr = 0.0021841360081773517\n"
          ]
        },
        {
          "output_type": "stream",
          "name": "stderr",
          "text": [
            "GroupNorm with epoch 76: 100%|██████████| 79/79 [00:01<00:00, 49.27it/s, Loss=0.00561]\n"
          ]
        },
        {
          "output_type": "stream",
          "name": "stdout",
          "text": [
            "Epoch 76, Loss: 0.006401244315165508, lr = 0.0020584303923268845\n"
          ]
        },
        {
          "output_type": "stream",
          "name": "stderr",
          "text": [
            "GroupNorm with epoch 77: 100%|██████████| 79/79 [00:01<00:00, 50.02it/s, Loss=0.00752]\n"
          ]
        },
        {
          "output_type": "stream",
          "name": "stdout",
          "text": [
            "Epoch 77, Loss: 0.006401555188283135, lr = 0.0019368613496248569\n"
          ]
        },
        {
          "output_type": "stream",
          "name": "stderr",
          "text": [
            "GroupNorm with epoch 78: 100%|██████████| 79/79 [00:01<00:00, 49.96it/s, Loss=0.00742]\n"
          ]
        },
        {
          "output_type": "stream",
          "name": "stdout",
          "text": [
            "Epoch 78, Loss: 0.006391634056462517, lr = 0.001819548854039212\n"
          ]
        },
        {
          "output_type": "stream",
          "name": "stderr",
          "text": [
            "GroupNorm with epoch 79: 100%|██████████| 79/79 [00:01<00:00, 49.85it/s, Loss=0.00336]\n"
          ]
        },
        {
          "output_type": "stream",
          "name": "stdout",
          "text": [
            "Epoch 79, Loss: 0.00632314105765729, lr = 0.0017066086788397798\n"
          ]
        },
        {
          "output_type": "stream",
          "name": "stderr",
          "text": [
            "GroupNorm with epoch 80: 100%|██████████| 79/79 [00:01<00:00, 51.07it/s, Loss=0.00408]\n"
          ]
        },
        {
          "output_type": "stream",
          "name": "stdout",
          "text": [
            "Epoch 80, Loss: 0.006309498879539815, lr = 0.0015981522823440525\n"
          ]
        },
        {
          "output_type": "stream",
          "name": "stderr",
          "text": [
            "GroupNorm with epoch 81: 100%|██████████| 79/79 [00:01<00:00, 49.27it/s, Loss=0.0097]\n"
          ]
        },
        {
          "output_type": "stream",
          "name": "stdout",
          "text": [
            "Epoch 81, Loss: 0.0063562080311247065, lr = 0.0014942866979212699\n"
          ]
        },
        {
          "output_type": "stream",
          "name": "stderr",
          "text": [
            "GroupNorm with epoch 82: 100%|██████████| 79/79 [00:01<00:00, 48.93it/s, Loss=0.00482]\n"
          ]
        },
        {
          "output_type": "stream",
          "name": "stdout",
          "text": [
            "Epoch 82, Loss: 0.006298522311675397, lr = 0.0013951144283634144\n"
          ]
        },
        {
          "output_type": "stream",
          "name": "stderr",
          "text": [
            "GroupNorm with epoch 83: 100%|██████████| 79/79 [00:01<00:00, 49.08it/s, Loss=0.0101]\n"
          ]
        },
        {
          "output_type": "stream",
          "name": "stdout",
          "text": [
            "Epoch 83, Loss: 0.006332803046024299, lr = 0.0013007333447273232\n"
          ]
        },
        {
          "output_type": "stream",
          "name": "stderr",
          "text": [
            "GroupNorm with epoch 84: 100%|██████████| 79/79 [00:01<00:00, 50.12it/s, Loss=0.00587]\n"
          ]
        },
        {
          "output_type": "stream",
          "name": "stdout",
          "text": [
            "Epoch 84, Loss: 0.006274174026484731, lr = 0.0012112365897477841\n"
          ]
        },
        {
          "output_type": "stream",
          "name": "stderr",
          "text": [
            "GroupNorm with epoch 85: 100%|██████████| 79/79 [00:01<00:00, 49.69it/s, Loss=0.00503]\n"
          ]
        },
        {
          "output_type": "stream",
          "name": "stdout",
          "text": [
            "Epoch 85, Loss: 0.006247783527721333, lr = 0.001126712485916885\n"
          ]
        },
        {
          "output_type": "stream",
          "name": "stderr",
          "text": [
            "GroupNorm with epoch 86: 100%|██████████| 79/79 [00:01<00:00, 49.07it/s, Loss=0.00657]\n"
          ]
        },
        {
          "output_type": "stream",
          "name": "stdout",
          "text": [
            "Epoch 86, Loss: 0.006261620505512515, lr = 0.0010472444483203885\n"
          ]
        },
        {
          "output_type": "stream",
          "name": "stderr",
          "text": [
            "GroupNorm with epoch 87: 100%|██████████| 79/79 [00:01<00:00, 50.24it/s, Loss=0.00675]\n"
          ]
        },
        {
          "output_type": "stream",
          "name": "stdout",
          "text": [
            "Epoch 87, Loss: 0.006249522106556953, lr = 0.0009729109023171096\n"
          ]
        },
        {
          "output_type": "stream",
          "name": "stderr",
          "text": [
            "GroupNorm with epoch 88: 100%|██████████| 79/79 [00:01<00:00, 50.26it/s, Loss=0.00877]\n"
          ]
        },
        {
          "output_type": "stream",
          "name": "stdout",
          "text": [
            "Epoch 88, Loss: 0.0062548296785430064, lr = 0.0009037852061425547\n"
          ]
        },
        {
          "output_type": "stream",
          "name": "stderr",
          "text": [
            "GroupNorm with epoch 89: 100%|██████████| 79/79 [00:01<00:00, 49.10it/s, Loss=0.00628]\n"
          ]
        },
        {
          "output_type": "stream",
          "name": "stdout",
          "text": [
            "Epoch 89, Loss: 0.0062315851874366595, lr = 0.0008399355785132036\n"
          ]
        },
        {
          "output_type": "stream",
          "name": "stderr",
          "text": [
            "GroupNorm with epoch 90: 100%|██████████| 79/79 [00:01<00:00, 48.72it/s, Loss=0.0106]\n"
          ]
        },
        {
          "output_type": "stream",
          "name": "stdout",
          "text": [
            "Epoch 90, Loss: 0.006259128427769565, lr = 0.0007814250313028671\n"
          ]
        },
        {
          "output_type": "stream",
          "name": "stderr",
          "text": [
            "GroupNorm with epoch 91: 100%|██████████| 79/79 [00:01<00:00, 49.30it/s, Loss=0.00106]\n"
          ]
        },
        {
          "output_type": "stream",
          "name": "stdout",
          "text": [
            "Epoch 91, Loss: 0.0061524358071103884, lr = 0.0007283113073575779\n"
          ]
        },
        {
          "output_type": "stream",
          "name": "stderr",
          "text": [
            "GroupNorm with epoch 92: 100%|██████████| 79/79 [00:01<00:00, 49.54it/s, Loss=0.0067]\n"
          ]
        },
        {
          "output_type": "stream",
          "name": "stdout",
          "text": [
            "Epoch 92, Loss: 0.006204616207676598, lr = 0.0006806468235103719\n"
          ]
        },
        {
          "output_type": "stream",
          "name": "stderr",
          "text": [
            "GroupNorm with epoch 93: 100%|██████████| 79/79 [00:01<00:00, 49.92it/s, Loss=0.00631]\n"
          ]
        },
        {
          "output_type": "stream",
          "name": "stdout",
          "text": [
            "Epoch 93, Loss: 0.006190095568382287, lr = 0.0006384786188522028\n"
          ]
        },
        {
          "output_type": "stream",
          "name": "stderr",
          "text": [
            "GroupNorm with epoch 94: 100%|██████████| 79/79 [00:01<00:00, 50.78it/s, Loss=0.00481]\n"
          ]
        },
        {
          "output_type": "stream",
          "name": "stdout",
          "text": [
            "Epoch 94, Loss: 0.006170329013014141, lr = 0.0006018483083100398\n"
          ]
        },
        {
          "output_type": "stream",
          "name": "stderr",
          "text": [
            "GroupNorm with epoch 95: 100%|██████████| 79/79 [00:01<00:00, 50.14it/s, Loss=0.00598]\n"
          ]
        },
        {
          "output_type": "stream",
          "name": "stdout",
          "text": [
            "Epoch 95, Loss: 0.006179504992463921, lr = 0.0005707920415779584\n"
          ]
        },
        {
          "output_type": "stream",
          "name": "stderr",
          "text": [
            "GroupNorm with epoch 96: 100%|██████████| 79/79 [00:01<00:00, 49.60it/s, Loss=0.00659]\n"
          ]
        },
        {
          "output_type": "stream",
          "name": "stdout",
          "text": [
            "Epoch 96, Loss: 0.006180813135225562, lr = 0.0005453404674417528\n"
          ]
        },
        {
          "output_type": "stream",
          "name": "stderr",
          "text": [
            "GroupNorm with epoch 97: 100%|██████████| 79/79 [00:01<00:00, 48.23it/s, Loss=0.00829]\n"
          ]
        },
        {
          "output_type": "stream",
          "name": "stdout",
          "text": [
            "Epoch 97, Loss: 0.0061953083812435975, lr = 0.00052551870353229\n"
          ]
        },
        {
          "output_type": "stream",
          "name": "stderr",
          "text": [
            "GroupNorm with epoch 98: 100%|██████████| 79/79 [00:01<00:00, 49.41it/s, Loss=0.00689]\n"
          ]
        },
        {
          "output_type": "stream",
          "name": "stdout",
          "text": [
            "Epoch 98, Loss: 0.006182321170462838, lr = 0.0005113463115374385\n"
          ]
        },
        {
          "output_type": "stream",
          "name": "stderr",
          "text": [
            "GroupNorm with epoch 99: 100%|██████████| 79/79 [00:01<00:00, 49.99it/s, Loss=0.00793]\n"
          ]
        },
        {
          "output_type": "stream",
          "name": "stdout",
          "text": [
            "Epoch 99, Loss: 0.00617998906800264, lr = 0.0005028372778970433\n"
          ]
        },
        {
          "output_type": "stream",
          "name": "stderr",
          "text": [
            "GroupNorm with epoch 100: 100%|██████████| 79/79 [00:01<00:00, 50.60it/s, Loss=0.00881]"
          ]
        },
        {
          "output_type": "stream",
          "name": "stdout",
          "text": [
            "Epoch 100, Loss: 0.0061851589692921575, lr = 0.0005\n"
          ]
        },
        {
          "output_type": "stream",
          "name": "stderr",
          "text": [
            "\n"
          ]
        },
        {
          "output_type": "stream",
          "name": "stdout",
          "text": [
            "Norm : BatchNorm, Batch Size: 64, Top1 Accuracy: 60.77%\n",
            "Norm : GroupNorm, Batch Size: 64, Top1 Accuracy: 59.10%\n",
            "ㅡㅡㅡㅡㅡㅡㅡㅡㅡㅡㅡㅡbatch_size: 64ㅡㅡㅡㅡㅡㅡㅡㅡㅡㅡㅡㅡㅡ\n",
            "\n",
            "ㅡㅡㅡㅡㅡㅡㅡㅡㅡㅡㅡㅡbatch_size: 128ㅡㅡㅡㅡㅡㅡㅡㅡㅡㅡㅡㅡㅡ\n"
          ]
        },
        {
          "output_type": "stream",
          "name": "stderr",
          "text": [
            "BatchNorm with epoch 1: 100%|██████████| 40/40 [00:01<00:00, 25.50it/s, Loss=1.15]\n"
          ]
        },
        {
          "output_type": "stream",
          "name": "stdout",
          "text": [
            "Epoch 1, Loss: 1.89252268075943, lr = 0.011997162722102958\n"
          ]
        },
        {
          "output_type": "stream",
          "name": "stderr",
          "text": [
            "BatchNorm with epoch 2: 100%|██████████| 40/40 [00:01<00:00, 27.11it/s, Loss=1.13]\n"
          ]
        },
        {
          "output_type": "stream",
          "name": "stdout",
          "text": [
            "Epoch 2, Loss: 1.5636330246925354, lr = 0.011988653688462563\n"
          ]
        },
        {
          "output_type": "stream",
          "name": "stderr",
          "text": [
            "BatchNorm with epoch 3: 100%|██████████| 40/40 [00:01<00:00, 26.43it/s, Loss=1.05]\n"
          ]
        },
        {
          "output_type": "stream",
          "name": "stdout",
          "text": [
            "Epoch 3, Loss: 1.3637867003679276, lr = 0.011974481296467712\n"
          ]
        },
        {
          "output_type": "stream",
          "name": "stderr",
          "text": [
            "BatchNorm with epoch 4: 100%|██████████| 40/40 [00:01<00:00, 27.22it/s, Loss=1.44]\n"
          ]
        },
        {
          "output_type": "stream",
          "name": "stdout",
          "text": [
            "Epoch 4, Loss: 1.2343469142913819, lr = 0.01195465953255825\n"
          ]
        },
        {
          "output_type": "stream",
          "name": "stderr",
          "text": [
            "BatchNorm with epoch 5: 100%|██████████| 40/40 [00:01<00:00, 27.25it/s, Loss=1.21]\n"
          ]
        },
        {
          "output_type": "stream",
          "name": "stdout",
          "text": [
            "Epoch 5, Loss: 1.2017695337533951, lr = 0.011929207958422044\n"
          ]
        },
        {
          "output_type": "stream",
          "name": "stderr",
          "text": [
            "BatchNorm with epoch 6: 100%|██████████| 40/40 [00:01<00:00, 27.39it/s, Loss=2.26]\n"
          ]
        },
        {
          "output_type": "stream",
          "name": "stdout",
          "text": [
            "Epoch 6, Loss: 1.0795986860990525, lr = 0.011898151691689963\n"
          ]
        },
        {
          "output_type": "stream",
          "name": "stderr",
          "text": [
            "BatchNorm with epoch 7: 100%|██████████| 40/40 [00:01<00:00, 27.66it/s, Loss=1.2]\n"
          ]
        },
        {
          "output_type": "stream",
          "name": "stdout",
          "text": [
            "Epoch 7, Loss: 0.9862496525049209, lr = 0.0118615213811478\n"
          ]
        },
        {
          "output_type": "stream",
          "name": "stderr",
          "text": [
            "BatchNorm with epoch 8: 100%|██████████| 40/40 [00:01<00:00, 27.36it/s, Loss=1.2]\n"
          ]
        },
        {
          "output_type": "stream",
          "name": "stdout",
          "text": [
            "Epoch 8, Loss: 0.8835623309016227, lr = 0.011819353176489631\n"
          ]
        },
        {
          "output_type": "stream",
          "name": "stderr",
          "text": [
            "BatchNorm with epoch 9: 100%|██████████| 40/40 [00:01<00:00, 27.05it/s, Loss=0.903]\n"
          ]
        },
        {
          "output_type": "stream",
          "name": "stdout",
          "text": [
            "Epoch 9, Loss: 0.8459283486008644, lr = 0.011771688692642425\n"
          ]
        },
        {
          "output_type": "stream",
          "name": "stderr",
          "text": [
            "BatchNorm with epoch 10: 100%|██████████| 40/40 [00:01<00:00, 26.70it/s, Loss=0.676]\n"
          ]
        },
        {
          "output_type": "stream",
          "name": "stdout",
          "text": [
            "Epoch 10, Loss: 0.7415597468614579, lr = 0.011718574968697135\n"
          ]
        },
        {
          "output_type": "stream",
          "name": "stderr",
          "text": [
            "BatchNorm with epoch 11: 100%|██████████| 40/40 [00:01<00:00, 26.70it/s, Loss=0.602]\n"
          ]
        },
        {
          "output_type": "stream",
          "name": "stdout",
          "text": [
            "Epoch 11, Loss: 0.6700758606195449, lr = 0.0116600644214868\n"
          ]
        },
        {
          "output_type": "stream",
          "name": "stderr",
          "text": [
            "BatchNorm with epoch 12: 100%|██████████| 40/40 [00:01<00:00, 27.32it/s, Loss=0.861]\n"
          ]
        },
        {
          "output_type": "stream",
          "name": "stdout",
          "text": [
            "Epoch 12, Loss: 0.6096970245242119, lr = 0.011596214793857449\n"
          ]
        },
        {
          "output_type": "stream",
          "name": "stderr",
          "text": [
            "BatchNorm with epoch 13: 100%|██████████| 40/40 [00:01<00:00, 27.30it/s, Loss=1.13]\n"
          ]
        },
        {
          "output_type": "stream",
          "name": "stdout",
          "text": [
            "Epoch 13, Loss: 0.5659818477928639, lr = 0.011527089097682894\n"
          ]
        },
        {
          "output_type": "stream",
          "name": "stderr",
          "text": [
            "BatchNorm with epoch 14: 100%|██████████| 40/40 [00:01<00:00, 26.97it/s, Loss=0.691]\n"
          ]
        },
        {
          "output_type": "stream",
          "name": "stdout",
          "text": [
            "Epoch 14, Loss: 0.5911325074732303, lr = 0.011452755551679615\n"
          ]
        },
        {
          "output_type": "stream",
          "name": "stderr",
          "text": [
            "BatchNorm with epoch 15: 100%|██████████| 40/40 [00:01<00:00, 27.22it/s, Loss=1.22]\n"
          ]
        },
        {
          "output_type": "stream",
          "name": "stdout",
          "text": [
            "Epoch 15, Loss: 0.49940268099308016, lr = 0.011373287514083117\n"
          ]
        },
        {
          "output_type": "stream",
          "name": "stderr",
          "text": [
            "BatchNorm with epoch 16: 100%|██████████| 40/40 [00:01<00:00, 27.27it/s, Loss=0.309]\n"
          ]
        },
        {
          "output_type": "stream",
          "name": "stdout",
          "text": [
            "Epoch 16, Loss: 0.4269243136048317, lr = 0.011288763410252218\n"
          ]
        },
        {
          "output_type": "stream",
          "name": "stderr",
          "text": [
            "BatchNorm with epoch 17: 100%|██████████| 40/40 [00:01<00:00, 27.40it/s, Loss=0.263]\n"
          ]
        },
        {
          "output_type": "stream",
          "name": "stdout",
          "text": [
            "Epoch 17, Loss: 0.3614326257258654, lr = 0.01119926665527268\n"
          ]
        },
        {
          "output_type": "stream",
          "name": "stderr",
          "text": [
            "BatchNorm with epoch 18: 100%|██████████| 40/40 [00:01<00:00, 27.01it/s, Loss=0.366]\n"
          ]
        },
        {
          "output_type": "stream",
          "name": "stdout",
          "text": [
            "Epoch 18, Loss: 0.3078230805695057, lr = 0.01110488557163659\n"
          ]
        },
        {
          "output_type": "stream",
          "name": "stderr",
          "text": [
            "BatchNorm with epoch 19: 100%|██████████| 40/40 [00:01<00:00, 27.00it/s, Loss=0.457]\n"
          ]
        },
        {
          "output_type": "stream",
          "name": "stdout",
          "text": [
            "Epoch 19, Loss: 0.26680434718728063, lr = 0.011005713302078734\n"
          ]
        },
        {
          "output_type": "stream",
          "name": "stderr",
          "text": [
            "BatchNorm with epoch 20: 100%|██████████| 40/40 [00:01<00:00, 26.95it/s, Loss=0.293]\n"
          ]
        },
        {
          "output_type": "stream",
          "name": "stdout",
          "text": [
            "Epoch 20, Loss: 0.307890260592103, lr = 0.010901847717655951\n"
          ]
        },
        {
          "output_type": "stream",
          "name": "stderr",
          "text": [
            "BatchNorm with epoch 21: 100%|██████████| 40/40 [00:01<00:00, 27.44it/s, Loss=0.694]\n"
          ]
        },
        {
          "output_type": "stream",
          "name": "stdout",
          "text": [
            "Epoch 21, Loss: 0.23435226902365686, lr = 0.010793391321160221\n"
          ]
        },
        {
          "output_type": "stream",
          "name": "stderr",
          "text": [
            "BatchNorm with epoch 22: 100%|██████████| 40/40 [00:01<00:00, 26.87it/s, Loss=0.0319]\n"
          ]
        },
        {
          "output_type": "stream",
          "name": "stdout",
          "text": [
            "Epoch 22, Loss: 0.2700358159840107, lr = 0.01068045114596079\n"
          ]
        },
        {
          "output_type": "stream",
          "name": "stderr",
          "text": [
            "BatchNorm with epoch 23: 100%|██████████| 40/40 [00:01<00:00, 27.31it/s, Loss=0.0944]\n"
          ]
        },
        {
          "output_type": "stream",
          "name": "stdout",
          "text": [
            "Epoch 23, Loss: 0.15217820461839437, lr = 0.010563138650375146\n"
          ]
        },
        {
          "output_type": "stream",
          "name": "stderr",
          "text": [
            "BatchNorm with epoch 24: 100%|██████████| 40/40 [00:01<00:00, 27.80it/s, Loss=0.227]\n"
          ]
        },
        {
          "output_type": "stream",
          "name": "stdout",
          "text": [
            "Epoch 24, Loss: 0.13102323841303587, lr = 0.01044156960767312\n"
          ]
        },
        {
          "output_type": "stream",
          "name": "stderr",
          "text": [
            "BatchNorm with epoch 25: 100%|██████████| 40/40 [00:01<00:00, 27.56it/s, Loss=0.476]\n"
          ]
        },
        {
          "output_type": "stream",
          "name": "stdout",
          "text": [
            "Epoch 25, Loss: 0.14237554278224707, lr = 0.010315863991822652\n"
          ]
        },
        {
          "output_type": "stream",
          "name": "stderr",
          "text": [
            "BatchNorm with epoch 26: 100%|██████████| 40/40 [00:01<00:00, 27.41it/s, Loss=0.163]\n"
          ]
        },
        {
          "output_type": "stream",
          "name": "stdout",
          "text": [
            "Epoch 26, Loss: 0.17746001873165368, lr = 0.010186145859089965\n"
          ]
        },
        {
          "output_type": "stream",
          "name": "stderr",
          "text": [
            "BatchNorm with epoch 27: 100%|██████████| 40/40 [00:01<00:00, 26.83it/s, Loss=0.204]\n"
          ]
        },
        {
          "output_type": "stream",
          "name": "stdout",
          "text": [
            "Epoch 27, Loss: 0.11832710094749928, lr = 0.010052543225611003\n"
          ]
        },
        {
          "output_type": "stream",
          "name": "stderr",
          "text": [
            "BatchNorm with epoch 28: 100%|██████████| 40/40 [00:01<00:00, 26.69it/s, Loss=0.213]\n"
          ]
        },
        {
          "output_type": "stream",
          "name": "stdout",
          "text": [
            "Epoch 28, Loss: 0.11391847468912601, lr = 0.00991518794105497\n"
          ]
        },
        {
          "output_type": "stream",
          "name": "stderr",
          "text": [
            "BatchNorm with epoch 29: 100%|██████████| 40/40 [00:01<00:00, 27.44it/s, Loss=0.364]\n"
          ]
        },
        {
          "output_type": "stream",
          "name": "stdout",
          "text": [
            "Epoch 29, Loss: 0.1259559504687786, lr = 0.00977421555850462\n"
          ]
        },
        {
          "output_type": "stream",
          "name": "stderr",
          "text": [
            "BatchNorm with epoch 30: 100%|██████████| 40/40 [00:01<00:00, 26.95it/s, Loss=0.0802]\n"
          ]
        },
        {
          "output_type": "stream",
          "name": "stdout",
          "text": [
            "Epoch 30, Loss: 0.09965677661821246, lr = 0.009629765200681727\n"
          ]
        },
        {
          "output_type": "stream",
          "name": "stderr",
          "text": [
            "BatchNorm with epoch 31: 100%|██████████| 40/40 [00:01<00:00, 27.16it/s, Loss=0.214]\n"
          ]
        },
        {
          "output_type": "stream",
          "name": "stdout",
          "text": [
            "Epoch 31, Loss: 0.06941019119694829, lr = 0.009481979422649757\n"
          ]
        },
        {
          "output_type": "stream",
          "name": "stderr",
          "text": [
            "BatchNorm with epoch 32: 100%|██████████| 40/40 [00:01<00:00, 27.48it/s, Loss=0.0904]\n"
          ]
        },
        {
          "output_type": "stream",
          "name": "stdout",
          "text": [
            "Epoch 32, Loss: 0.07686470402404666, lr = 0.009331004071129235\n"
          ]
        },
        {
          "output_type": "stream",
          "name": "stderr",
          "text": [
            "BatchNorm with epoch 33: 100%|██████████| 40/40 [00:01<00:00, 27.29it/s, Loss=0.0368]\n"
          ]
        },
        {
          "output_type": "stream",
          "name": "stdout",
          "text": [
            "Epoch 33, Loss: 0.05116684287786484, lr = 0.00917698814056464\n"
          ]
        },
        {
          "output_type": "stream",
          "name": "stderr",
          "text": [
            "BatchNorm with epoch 34: 100%|██████████| 40/40 [00:01<00:00, 27.34it/s, Loss=0.0352]\n"
          ]
        },
        {
          "output_type": "stream",
          "name": "stdout",
          "text": [
            "Epoch 34, Loss: 0.04167373776435852, lr = 0.009020083626084868\n"
          ]
        },
        {
          "output_type": "stream",
          "name": "stderr",
          "text": [
            "BatchNorm with epoch 35: 100%|██████████| 40/40 [00:01<00:00, 26.42it/s, Loss=0.0456]\n"
          ]
        },
        {
          "output_type": "stream",
          "name": "stdout",
          "text": [
            "Epoch 35, Loss: 0.037292563589289784, lr = 0.008860445373502399\n"
          ]
        },
        {
          "output_type": "stream",
          "name": "stderr",
          "text": [
            "BatchNorm with epoch 36: 100%|██████████| 40/40 [00:01<00:00, 26.45it/s, Loss=0.287]\n"
          ]
        },
        {
          "output_type": "stream",
          "name": "stdout",
          "text": [
            "Epoch 36, Loss: 0.04445011983625591, lr = 0.008698230926499172\n"
          ]
        },
        {
          "output_type": "stream",
          "name": "stderr",
          "text": [
            "BatchNorm with epoch 37: 100%|██████████| 40/40 [00:01<00:00, 27.35it/s, Loss=0.0657]\n"
          ]
        },
        {
          "output_type": "stream",
          "name": "stdout",
          "text": [
            "Epoch 37, Loss: 0.0757907995954156, lr = 0.008533600371149993\n"
          ]
        },
        {
          "output_type": "stream",
          "name": "stderr",
          "text": [
            "BatchNorm with epoch 38: 100%|██████████| 40/40 [00:01<00:00, 27.28it/s, Loss=0.0246]\n"
          ]
        },
        {
          "output_type": "stream",
          "name": "stdout",
          "text": [
            "Epoch 38, Loss: 0.04048959156498313, lr = 0.008366716177936905\n"
          ]
        },
        {
          "output_type": "stream",
          "name": "stderr",
          "text": [
            "BatchNorm with epoch 39: 100%|██████████| 40/40 [00:01<00:00, 27.19it/s, Loss=0.0422]\n"
          ]
        },
        {
          "output_type": "stream",
          "name": "stdout",
          "text": [
            "Epoch 39, Loss: 0.03107004826888442, lr = 0.008197743041410431\n"
          ]
        },
        {
          "output_type": "stream",
          "name": "stderr",
          "text": [
            "BatchNorm with epoch 40: 100%|██████████| 40/40 [00:01<00:00, 27.73it/s, Loss=0.0758]\n"
          ]
        },
        {
          "output_type": "stream",
          "name": "stdout",
          "text": [
            "Epoch 40, Loss: 0.029359822859987617, lr = 0.008026847717655952\n"
          ]
        },
        {
          "output_type": "stream",
          "name": "stderr",
          "text": [
            "BatchNorm with epoch 41: 100%|██████████| 40/40 [00:01<00:00, 27.86it/s, Loss=0.0358]\n"
          ]
        },
        {
          "output_type": "stream",
          "name": "stdout",
          "text": [
            "Epoch 41, Loss: 0.02979617388918996, lr = 0.007854198859725573\n"
          ]
        },
        {
          "output_type": "stream",
          "name": "stderr",
          "text": [
            "BatchNorm with epoch 42: 100%|██████████| 40/40 [00:01<00:00, 27.81it/s, Loss=0.0385]\n"
          ]
        },
        {
          "output_type": "stream",
          "name": "stdout",
          "text": [
            "Epoch 42, Loss: 0.026775007834658027, lr = 0.007679966851197918\n"
          ]
        },
        {
          "output_type": "stream",
          "name": "stderr",
          "text": [
            "BatchNorm with epoch 43: 100%|██████████| 40/40 [00:01<00:00, 26.52it/s, Loss=0.0449]\n"
          ]
        },
        {
          "output_type": "stream",
          "name": "stdout",
          "text": [
            "Epoch 43, Loss: 0.02497584684751928, lr = 0.007504323638030124\n"
          ]
        },
        {
          "output_type": "stream",
          "name": "stderr",
          "text": [
            "BatchNorm with epoch 44: 100%|██████████| 40/40 [00:01<00:00, 27.25it/s, Loss=0.192]\n"
          ]
        },
        {
          "output_type": "stream",
          "name": "stdout",
          "text": [
            "Epoch 44, Loss: 0.028258743416517972, lr = 0.007327442558867921\n"
          ]
        },
        {
          "output_type": "stream",
          "name": "stderr",
          "text": [
            "BatchNorm with epoch 45: 100%|██████████| 40/40 [00:01<00:00, 27.59it/s, Loss=0.0253]\n"
          ]
        },
        {
          "output_type": "stream",
          "name": "stdout",
          "text": [
            "Epoch 45, Loss: 0.04300132105126977, lr = 0.00714949817398133\n"
          ]
        },
        {
          "output_type": "stream",
          "name": "stderr",
          "text": [
            "BatchNorm with epoch 46: 100%|██████████| 40/40 [00:01<00:00, 27.61it/s, Loss=0.0812]\n"
          ]
        },
        {
          "output_type": "stream",
          "name": "stdout",
          "text": [
            "Epoch 46, Loss: 0.02572474884800613, lr = 0.006970666092994753\n"
          ]
        },
        {
          "output_type": "stream",
          "name": "stderr",
          "text": [
            "BatchNorm with epoch 47: 100%|██████████| 40/40 [00:01<00:00, 27.27it/s, Loss=0.018]\n"
          ]
        },
        {
          "output_type": "stream",
          "name": "stdout",
          "text": [
            "Epoch 47, Loss: 0.026312221586704255, lr = 0.006791122801581459\n"
          ]
        },
        {
          "output_type": "stream",
          "name": "stderr",
          "text": [
            "BatchNorm with epoch 48: 100%|██████████| 40/40 [00:01<00:00, 26.94it/s, Loss=0.0271]\n"
          ]
        },
        {
          "output_type": "stream",
          "name": "stdout",
          "text": [
            "Epoch 48, Loss: 0.02113816551864147, lr = 0.006611045487293554\n"
          ]
        },
        {
          "output_type": "stream",
          "name": "stderr",
          "text": [
            "BatchNorm with epoch 49: 100%|██████████| 40/40 [00:01<00:00, 27.04it/s, Loss=0.0303]\n"
          ]
        },
        {
          "output_type": "stream",
          "name": "stdout",
          "text": [
            "Epoch 49, Loss: 0.019991758558899165, lr = 0.006430611864699239\n"
          ]
        },
        {
          "output_type": "stream",
          "name": "stderr",
          "text": [
            "BatchNorm with epoch 50: 100%|██████████| 40/40 [00:01<00:00, 27.60it/s, Loss=0.0598]\n"
          ]
        },
        {
          "output_type": "stream",
          "name": "stdout",
          "text": [
            "Epoch 50, Loss: 0.02046504821628332, lr = 0.00625\n"
          ]
        },
        {
          "output_type": "stream",
          "name": "stderr",
          "text": [
            "BatchNorm with epoch 51: 100%|██████████| 40/40 [00:01<00:00, 26.32it/s, Loss=0.0254]\n"
          ]
        },
        {
          "output_type": "stream",
          "name": "stdout",
          "text": [
            "Epoch 51, Loss: 0.020848186779767276, lr = 0.006069388135300762\n"
          ]
        },
        {
          "output_type": "stream",
          "name": "stderr",
          "text": [
            "BatchNorm with epoch 52: 100%|██████████| 40/40 [00:01<00:00, 26.68it/s, Loss=0.0706]\n"
          ]
        },
        {
          "output_type": "stream",
          "name": "stdout",
          "text": [
            "Epoch 52, Loss: 0.019356452114880084, lr = 0.005888954512706447\n"
          ]
        },
        {
          "output_type": "stream",
          "name": "stderr",
          "text": [
            "BatchNorm with epoch 53: 100%|██████████| 40/40 [00:01<00:00, 27.56it/s, Loss=0.0335]\n"
          ]
        },
        {
          "output_type": "stream",
          "name": "stdout",
          "text": [
            "Epoch 53, Loss: 0.02004207542631775, lr = 0.005708877198418541\n"
          ]
        },
        {
          "output_type": "stream",
          "name": "stderr",
          "text": [
            "BatchNorm with epoch 54: 100%|██████████| 40/40 [00:01<00:00, 27.75it/s, Loss=0.0228]\n"
          ]
        },
        {
          "output_type": "stream",
          "name": "stdout",
          "text": [
            "Epoch 54, Loss: 0.018087705480866134, lr = 0.0055293339070052495\n"
          ]
        },
        {
          "output_type": "stream",
          "name": "stderr",
          "text": [
            "BatchNorm with epoch 55: 100%|██████████| 40/40 [00:01<00:00, 27.40it/s, Loss=0.00799]\n"
          ]
        },
        {
          "output_type": "stream",
          "name": "stdout",
          "text": [
            "Epoch 55, Loss: 0.016926598269492388, lr = 0.005350501826018671\n"
          ]
        },
        {
          "output_type": "stream",
          "name": "stderr",
          "text": [
            "BatchNorm with epoch 56: 100%|██████████| 40/40 [00:01<00:00, 27.61it/s, Loss=0.0331]\n"
          ]
        },
        {
          "output_type": "stream",
          "name": "stdout",
          "text": [
            "Epoch 56, Loss: 0.016503789485432206, lr = 0.005172557441132082\n"
          ]
        },
        {
          "output_type": "stream",
          "name": "stderr",
          "text": [
            "BatchNorm with epoch 57: 100%|██████████| 40/40 [00:01<00:00, 27.60it/s, Loss=0.022]\n"
          ]
        },
        {
          "output_type": "stream",
          "name": "stdout",
          "text": [
            "Epoch 57, Loss: 0.016869157669134438, lr = 0.00499567636196988\n"
          ]
        },
        {
          "output_type": "stream",
          "name": "stderr",
          "text": [
            "BatchNorm with epoch 58: 100%|██████████| 40/40 [00:01<00:00, 27.28it/s, Loss=0.0417]\n"
          ]
        },
        {
          "output_type": "stream",
          "name": "stdout",
          "text": [
            "Epoch 58, Loss: 0.01654092816170305, lr = 0.004820033148802083\n"
          ]
        },
        {
          "output_type": "stream",
          "name": "stderr",
          "text": [
            "BatchNorm with epoch 59: 100%|██████████| 40/40 [00:01<00:00, 26.97it/s, Loss=0.0394]\n"
          ]
        },
        {
          "output_type": "stream",
          "name": "stdout",
          "text": [
            "Epoch 59, Loss: 0.01680317330174148, lr = 0.004645801140274431\n"
          ]
        },
        {
          "output_type": "stream",
          "name": "stderr",
          "text": [
            "BatchNorm with epoch 60: 100%|██████████| 40/40 [00:01<00:00, 26.75it/s, Loss=0.36]\n"
          ]
        },
        {
          "output_type": "stream",
          "name": "stdout",
          "text": [
            "Epoch 60, Loss: 0.024888593913055958, lr = 0.004473152282344052\n"
          ]
        },
        {
          "output_type": "stream",
          "name": "stderr",
          "text": [
            "BatchNorm with epoch 61: 100%|██████████| 40/40 [00:01<00:00, 27.58it/s, Loss=0.0836]\n"
          ]
        },
        {
          "output_type": "stream",
          "name": "stdout",
          "text": [
            "Epoch 61, Loss: 0.04808295015245676, lr = 0.004302256958589572\n"
          ]
        },
        {
          "output_type": "stream",
          "name": "stderr",
          "text": [
            "BatchNorm with epoch 62: 100%|██████████| 40/40 [00:01<00:00, 27.31it/s, Loss=0.0326]\n"
          ]
        },
        {
          "output_type": "stream",
          "name": "stdout",
          "text": [
            "Epoch 62, Loss: 0.02105468143709004, lr = 0.004133283822063101\n"
          ]
        },
        {
          "output_type": "stream",
          "name": "stderr",
          "text": [
            "BatchNorm with epoch 63: 100%|██████████| 40/40 [00:01<00:00, 27.37it/s, Loss=0.0791]\n"
          ]
        },
        {
          "output_type": "stream",
          "name": "stdout",
          "text": [
            "Epoch 63, Loss: 0.01872849608771503, lr = 0.003966399628850009\n"
          ]
        },
        {
          "output_type": "stream",
          "name": "stderr",
          "text": [
            "BatchNorm with epoch 64: 100%|██████████| 40/40 [00:01<00:00, 27.25it/s, Loss=0.0106]\n"
          ]
        },
        {
          "output_type": "stream",
          "name": "stdout",
          "text": [
            "Epoch 64, Loss: 0.017466559447348116, lr = 0.0038017690735008304\n"
          ]
        },
        {
          "output_type": "stream",
          "name": "stderr",
          "text": [
            "BatchNorm with epoch 65: 100%|██████████| 40/40 [00:01<00:00, 27.27it/s, Loss=0.135]\n"
          ]
        },
        {
          "output_type": "stream",
          "name": "stdout",
          "text": [
            "Epoch 65, Loss: 0.01823587322141975, lr = 0.0036395546264976044\n"
          ]
        },
        {
          "output_type": "stream",
          "name": "stderr",
          "text": [
            "BatchNorm with epoch 66: 100%|██████████| 40/40 [00:01<00:00, 27.30it/s, Loss=0.36]\n"
          ]
        },
        {
          "output_type": "stream",
          "name": "stdout",
          "text": [
            "Epoch 66, Loss: 0.028935914556495846, lr = 0.0034799163739151345\n"
          ]
        },
        {
          "output_type": "stream",
          "name": "stderr",
          "text": [
            "BatchNorm with epoch 67: 100%|██████████| 40/40 [00:01<00:00, 27.15it/s, Loss=0.072]\n"
          ]
        },
        {
          "output_type": "stream",
          "name": "stdout",
          "text": [
            "Epoch 67, Loss: 0.036789159011095765, lr = 0.0033230118594353634\n"
          ]
        },
        {
          "output_type": "stream",
          "name": "stderr",
          "text": [
            "BatchNorm with epoch 68: 100%|██████████| 40/40 [00:01<00:00, 26.64it/s, Loss=0.0163]\n"
          ]
        },
        {
          "output_type": "stream",
          "name": "stdout",
          "text": [
            "Epoch 68, Loss: 0.01925564706325531, lr = 0.0031689959288707667\n"
          ]
        },
        {
          "output_type": "stream",
          "name": "stderr",
          "text": [
            "BatchNorm with epoch 69: 100%|██████████| 40/40 [00:01<00:00, 27.37it/s, Loss=0.0144]\n"
          ]
        },
        {
          "output_type": "stream",
          "name": "stdout",
          "text": [
            "Epoch 69, Loss: 0.0159135126741603, lr = 0.0030180205773502476\n"
          ]
        },
        {
          "output_type": "stream",
          "name": "stderr",
          "text": [
            "BatchNorm with epoch 70: 100%|██████████| 40/40 [00:01<00:00, 27.23it/s, Loss=0.0317]\n"
          ]
        },
        {
          "output_type": "stream",
          "name": "stdout",
          "text": [
            "Epoch 70, Loss: 0.015411759004928171, lr = 0.0028702347993182793\n"
          ]
        },
        {
          "output_type": "stream",
          "name": "stderr",
          "text": [
            "BatchNorm with epoch 71: 100%|██████████| 40/40 [00:01<00:00, 27.07it/s, Loss=0.249]\n"
          ]
        },
        {
          "output_type": "stream",
          "name": "stdout",
          "text": [
            "Epoch 71, Loss: 0.020941380271688105, lr = 0.002725784441495384\n"
          ]
        },
        {
          "output_type": "stream",
          "name": "stderr",
          "text": [
            "BatchNorm with epoch 72: 100%|██████████| 40/40 [00:01<00:00, 28.13it/s, Loss=0.0138]\n"
          ]
        },
        {
          "output_type": "stream",
          "name": "stdout",
          "text": [
            "Epoch 72, Loss: 0.028939351509325206, lr = 0.0025848120589450334\n"
          ]
        },
        {
          "output_type": "stream",
          "name": "stderr",
          "text": [
            "BatchNorm with epoch 73: 100%|██████████| 40/40 [00:01<00:00, 27.45it/s, Loss=0.0227]\n"
          ]
        },
        {
          "output_type": "stream",
          "name": "stdout",
          "text": [
            "Epoch 73, Loss: 0.01522397082298994, lr = 0.0024474567743890023\n"
          ]
        },
        {
          "output_type": "stream",
          "name": "stderr",
          "text": [
            "BatchNorm with epoch 74: 100%|██████████| 40/40 [00:01<00:00, 27.55it/s, Loss=0.0543]\n"
          ]
        },
        {
          "output_type": "stream",
          "name": "stdout",
          "text": [
            "Epoch 74, Loss: 0.015980752115137876, lr = 0.0023138541409100395\n"
          ]
        },
        {
          "output_type": "stream",
          "name": "stderr",
          "text": [
            "BatchNorm with epoch 75: 100%|██████████| 40/40 [00:01<00:00, 26.78it/s, Loss=0.00737]\n"
          ]
        },
        {
          "output_type": "stream",
          "name": "stdout",
          "text": [
            "Epoch 75, Loss: 0.014239261578768491, lr = 0.0021841360081773517\n"
          ]
        },
        {
          "output_type": "stream",
          "name": "stderr",
          "text": [
            "BatchNorm with epoch 76: 100%|██████████| 40/40 [00:01<00:00, 26.57it/s, Loss=0.0121]\n"
          ]
        },
        {
          "output_type": "stream",
          "name": "stdout",
          "text": [
            "Epoch 76, Loss: 0.014014919986948371, lr = 0.0020584303923268845\n"
          ]
        },
        {
          "output_type": "stream",
          "name": "stderr",
          "text": [
            "BatchNorm with epoch 77: 100%|██████████| 40/40 [00:01<00:00, 27.41it/s, Loss=0.0431]\n"
          ]
        },
        {
          "output_type": "stream",
          "name": "stdout",
          "text": [
            "Epoch 77, Loss: 0.014132910920307041, lr = 0.0019368613496248569\n"
          ]
        },
        {
          "output_type": "stream",
          "name": "stderr",
          "text": [
            "BatchNorm with epoch 78: 100%|██████████| 40/40 [00:01<00:00, 27.29it/s, Loss=0.0488]\n"
          ]
        },
        {
          "output_type": "stream",
          "name": "stdout",
          "text": [
            "Epoch 78, Loss: 0.01448162782471627, lr = 0.001819548854039212\n"
          ]
        },
        {
          "output_type": "stream",
          "name": "stderr",
          "text": [
            "BatchNorm with epoch 79: 100%|██████████| 40/40 [00:01<00:00, 27.21it/s, Loss=0.0178]\n"
          ]
        },
        {
          "output_type": "stream",
          "name": "stdout",
          "text": [
            "Epoch 79, Loss: 0.013347116322256625, lr = 0.0017066086788397798\n"
          ]
        },
        {
          "output_type": "stream",
          "name": "stderr",
          "text": [
            "BatchNorm with epoch 80: 100%|██████████| 40/40 [00:01<00:00, 27.25it/s, Loss=0.0432]\n"
          ]
        },
        {
          "output_type": "stream",
          "name": "stdout",
          "text": [
            "Epoch 80, Loss: 0.014167337235994637, lr = 0.0015981522823440525\n"
          ]
        },
        {
          "output_type": "stream",
          "name": "stderr",
          "text": [
            "BatchNorm with epoch 81: 100%|██████████| 40/40 [00:01<00:00, 27.59it/s, Loss=0.055]\n"
          ]
        },
        {
          "output_type": "stream",
          "name": "stdout",
          "text": [
            "Epoch 81, Loss: 0.013895134977065026, lr = 0.0014942866979212699\n"
          ]
        },
        {
          "output_type": "stream",
          "name": "stderr",
          "text": [
            "BatchNorm with epoch 82: 100%|██████████| 40/40 [00:01<00:00, 27.23it/s, Loss=0.0127]\n"
          ]
        },
        {
          "output_type": "stream",
          "name": "stdout",
          "text": [
            "Epoch 82, Loss: 0.013357746344991029, lr = 0.0013951144283634144\n"
          ]
        },
        {
          "output_type": "stream",
          "name": "stderr",
          "text": [
            "BatchNorm with epoch 83: 100%|██████████| 40/40 [00:01<00:00, 26.77it/s, Loss=0.00975]\n"
          ]
        },
        {
          "output_type": "stream",
          "name": "stdout",
          "text": [
            "Epoch 83, Loss: 0.01283549885265529, lr = 0.0013007333447273232\n"
          ]
        },
        {
          "output_type": "stream",
          "name": "stderr",
          "text": [
            "BatchNorm with epoch 84: 100%|██████████| 40/40 [00:01<00:00, 26.35it/s, Loss=0.0178]\n"
          ]
        },
        {
          "output_type": "stream",
          "name": "stdout",
          "text": [
            "Epoch 84, Loss: 0.012733148667030037, lr = 0.0012112365897477841\n"
          ]
        },
        {
          "output_type": "stream",
          "name": "stderr",
          "text": [
            "BatchNorm with epoch 85: 100%|██████████| 40/40 [00:01<00:00, 27.27it/s, Loss=0.019]\n"
          ]
        },
        {
          "output_type": "stream",
          "name": "stdout",
          "text": [
            "Epoch 85, Loss: 0.012379993125796318, lr = 0.001126712485916885\n"
          ]
        },
        {
          "output_type": "stream",
          "name": "stderr",
          "text": [
            "BatchNorm with epoch 86: 100%|██████████| 40/40 [00:01<00:00, 27.06it/s, Loss=0.0247]\n"
          ]
        },
        {
          "output_type": "stream",
          "name": "stdout",
          "text": [
            "Epoch 86, Loss: 0.012688591447658836, lr = 0.0010472444483203885\n"
          ]
        },
        {
          "output_type": "stream",
          "name": "stderr",
          "text": [
            "BatchNorm with epoch 87: 100%|██████████| 40/40 [00:01<00:00, 27.12it/s, Loss=0.0317]\n"
          ]
        },
        {
          "output_type": "stream",
          "name": "stdout",
          "text": [
            "Epoch 87, Loss: 0.012830116995610296, lr = 0.0009729109023171096\n"
          ]
        },
        {
          "output_type": "stream",
          "name": "stderr",
          "text": [
            "BatchNorm with epoch 88: 100%|██████████| 40/40 [00:01<00:00, 27.29it/s, Loss=0.0749]\n"
          ]
        },
        {
          "output_type": "stream",
          "name": "stdout",
          "text": [
            "Epoch 88, Loss: 0.013993481569923461, lr = 0.0009037852061425547\n"
          ]
        },
        {
          "output_type": "stream",
          "name": "stderr",
          "text": [
            "BatchNorm with epoch 89: 100%|██████████| 40/40 [00:01<00:00, 27.19it/s, Loss=0.0479]\n"
          ]
        },
        {
          "output_type": "stream",
          "name": "stdout",
          "text": [
            "Epoch 89, Loss: 0.013644242472946645, lr = 0.0008399355785132036\n"
          ]
        },
        {
          "output_type": "stream",
          "name": "stderr",
          "text": [
            "BatchNorm with epoch 90: 100%|██████████| 40/40 [00:01<00:00, 27.15it/s, Loss=0.082]\n"
          ]
        },
        {
          "output_type": "stream",
          "name": "stdout",
          "text": [
            "Epoch 90, Loss: 0.014192677987739443, lr = 0.0007814250313028671\n"
          ]
        },
        {
          "output_type": "stream",
          "name": "stderr",
          "text": [
            "BatchNorm with epoch 91: 100%|██████████| 40/40 [00:01<00:00, 26.72it/s, Loss=0.0336]\n"
          ]
        },
        {
          "output_type": "stream",
          "name": "stdout",
          "text": [
            "Epoch 91, Loss: 0.012937915674410761, lr = 0.0007283113073575779\n"
          ]
        },
        {
          "output_type": "stream",
          "name": "stderr",
          "text": [
            "BatchNorm with epoch 92: 100%|██████████| 40/40 [00:01<00:00, 26.77it/s, Loss=0.0323]\n"
          ]
        },
        {
          "output_type": "stream",
          "name": "stdout",
          "text": [
            "Epoch 92, Loss: 0.01280573031399399, lr = 0.0006806468235103719\n"
          ]
        },
        {
          "output_type": "stream",
          "name": "stderr",
          "text": [
            "BatchNorm with epoch 93: 100%|██████████| 40/40 [00:01<00:00, 27.42it/s, Loss=0.0388]\n"
          ]
        },
        {
          "output_type": "stream",
          "name": "stdout",
          "text": [
            "Epoch 93, Loss: 0.013120247959159314, lr = 0.0006384786188522028\n"
          ]
        },
        {
          "output_type": "stream",
          "name": "stderr",
          "text": [
            "BatchNorm with epoch 94: 100%|██████████| 40/40 [00:01<00:00, 27.39it/s, Loss=0.0263]\n"
          ]
        },
        {
          "output_type": "stream",
          "name": "stdout",
          "text": [
            "Epoch 94, Loss: 0.012649384723044933, lr = 0.0006018483083100398\n"
          ]
        },
        {
          "output_type": "stream",
          "name": "stderr",
          "text": [
            "BatchNorm with epoch 95: 100%|██████████| 40/40 [00:01<00:00, 27.33it/s, Loss=0.0151]\n"
          ]
        },
        {
          "output_type": "stream",
          "name": "stdout",
          "text": [
            "Epoch 95, Loss: 0.012217843951657415, lr = 0.0005707920415779584\n"
          ]
        },
        {
          "output_type": "stream",
          "name": "stderr",
          "text": [
            "BatchNorm with epoch 96: 100%|██████████| 40/40 [00:01<00:00, 27.50it/s, Loss=0.0232]\n"
          ]
        },
        {
          "output_type": "stream",
          "name": "stdout",
          "text": [
            "Epoch 96, Loss: 0.012308876239694655, lr = 0.0005453404674417528\n"
          ]
        },
        {
          "output_type": "stream",
          "name": "stderr",
          "text": [
            "BatchNorm with epoch 97: 100%|██████████| 40/40 [00:01<00:00, 27.13it/s, Loss=0.208]\n"
          ]
        },
        {
          "output_type": "stream",
          "name": "stdout",
          "text": [
            "Epoch 97, Loss: 0.016974595235660674, lr = 0.00052551870353229\n"
          ]
        },
        {
          "output_type": "stream",
          "name": "stderr",
          "text": [
            "BatchNorm with epoch 98: 100%|██████████| 40/40 [00:01<00:00, 27.50it/s, Loss=0.0718]\n"
          ]
        },
        {
          "output_type": "stream",
          "name": "stdout",
          "text": [
            "Epoch 98, Loss: 0.014834908605553209, lr = 0.0005113463115374385\n"
          ]
        },
        {
          "output_type": "stream",
          "name": "stderr",
          "text": [
            "BatchNorm with epoch 99: 100%|██████████| 40/40 [00:01<00:00, 26.63it/s, Loss=0.139]\n"
          ]
        },
        {
          "output_type": "stream",
          "name": "stdout",
          "text": [
            "Epoch 99, Loss: 0.01596000394783914, lr = 0.0005028372778970433\n"
          ]
        },
        {
          "output_type": "stream",
          "name": "stderr",
          "text": [
            "BatchNorm with epoch 100: 100%|██████████| 40/40 [00:01<00:00, 26.46it/s, Loss=0.0395]\n"
          ]
        },
        {
          "output_type": "stream",
          "name": "stdout",
          "text": [
            "Epoch 100, Loss: 0.013389096525497735, lr = 0.0005\n"
          ]
        },
        {
          "output_type": "stream",
          "name": "stderr",
          "text": [
            "GroupNorm with epoch 1: 100%|██████████| 40/40 [00:01<00:00, 26.80it/s, Loss=1.9]\n"
          ]
        },
        {
          "output_type": "stream",
          "name": "stdout",
          "text": [
            "Epoch 1, Loss: 2.022957181930542, lr = 0.011997162722102958\n"
          ]
        },
        {
          "output_type": "stream",
          "name": "stderr",
          "text": [
            "GroupNorm with epoch 2: 100%|██████████| 40/40 [00:01<00:00, 27.09it/s, Loss=1.14]\n"
          ]
        },
        {
          "output_type": "stream",
          "name": "stdout",
          "text": [
            "Epoch 2, Loss: 1.7554487705230712, lr = 0.011988653688462563\n"
          ]
        },
        {
          "output_type": "stream",
          "name": "stderr",
          "text": [
            "GroupNorm with epoch 3: 100%|██████████| 40/40 [00:01<00:00, 26.78it/s, Loss=1.16]\n"
          ]
        },
        {
          "output_type": "stream",
          "name": "stdout",
          "text": [
            "Epoch 3, Loss: 1.5003127813339234, lr = 0.011974481296467712\n"
          ]
        },
        {
          "output_type": "stream",
          "name": "stderr",
          "text": [
            "GroupNorm with epoch 4: 100%|██████████| 40/40 [00:01<00:00, 26.86it/s, Loss=0.896]\n"
          ]
        },
        {
          "output_type": "stream",
          "name": "stdout",
          "text": [
            "Epoch 4, Loss: 1.3828957796096801, lr = 0.01195465953255825\n"
          ]
        },
        {
          "output_type": "stream",
          "name": "stderr",
          "text": [
            "GroupNorm with epoch 5: 100%|██████████| 40/40 [00:01<00:00, 27.46it/s, Loss=1.02]\n"
          ]
        },
        {
          "output_type": "stream",
          "name": "stdout",
          "text": [
            "Epoch 5, Loss: 1.3372181892395019, lr = 0.011929207958422044\n"
          ]
        },
        {
          "output_type": "stream",
          "name": "stderr",
          "text": [
            "GroupNorm with epoch 6: 100%|██████████| 40/40 [00:01<00:00, 26.81it/s, Loss=1.42]\n"
          ]
        },
        {
          "output_type": "stream",
          "name": "stdout",
          "text": [
            "Epoch 6, Loss: 1.1787827640771866, lr = 0.011898151691689963\n"
          ]
        },
        {
          "output_type": "stream",
          "name": "stderr",
          "text": [
            "GroupNorm with epoch 7: 100%|██████████| 40/40 [00:01<00:00, 26.39it/s, Loss=1.2]\n"
          ]
        },
        {
          "output_type": "stream",
          "name": "stdout",
          "text": [
            "Epoch 7, Loss: 1.117280697822571, lr = 0.0118615213811478\n"
          ]
        },
        {
          "output_type": "stream",
          "name": "stderr",
          "text": [
            "GroupNorm with epoch 8: 100%|██████████| 40/40 [00:01<00:00, 26.65it/s, Loss=1.36]\n"
          ]
        },
        {
          "output_type": "stream",
          "name": "stdout",
          "text": [
            "Epoch 8, Loss: 1.0450573459267616, lr = 0.011819353176489631\n"
          ]
        },
        {
          "output_type": "stream",
          "name": "stderr",
          "text": [
            "GroupNorm with epoch 9: 100%|██████████| 40/40 [00:01<00:00, 27.03it/s, Loss=0.841]\n"
          ]
        },
        {
          "output_type": "stream",
          "name": "stdout",
          "text": [
            "Epoch 9, Loss: 0.9641533449292183, lr = 0.011771688692642425\n"
          ]
        },
        {
          "output_type": "stream",
          "name": "stderr",
          "text": [
            "GroupNorm with epoch 10: 100%|██████████| 40/40 [00:01<00:00, 27.08it/s, Loss=1.09]\n"
          ]
        },
        {
          "output_type": "stream",
          "name": "stdout",
          "text": [
            "Epoch 10, Loss: 0.8857688516378402, lr = 0.011718574968697135\n"
          ]
        },
        {
          "output_type": "stream",
          "name": "stderr",
          "text": [
            "GroupNorm with epoch 11: 100%|██████████| 40/40 [00:01<00:00, 27.01it/s, Loss=0.431]\n"
          ]
        },
        {
          "output_type": "stream",
          "name": "stdout",
          "text": [
            "Epoch 11, Loss: 0.8836792528629303, lr = 0.0116600644214868\n"
          ]
        },
        {
          "output_type": "stream",
          "name": "stderr",
          "text": [
            "GroupNorm with epoch 12: 100%|██████████| 40/40 [00:01<00:00, 26.99it/s, Loss=1.01]\n"
          ]
        },
        {
          "output_type": "stream",
          "name": "stdout",
          "text": [
            "Epoch 12, Loss: 0.7294313430786132, lr = 0.011596214793857449\n"
          ]
        },
        {
          "output_type": "stream",
          "name": "stderr",
          "text": [
            "GroupNorm with epoch 13: 100%|██████████| 40/40 [00:01<00:00, 26.50it/s, Loss=0.721]\n"
          ]
        },
        {
          "output_type": "stream",
          "name": "stdout",
          "text": [
            "Epoch 13, Loss: 0.7259283781051635, lr = 0.011527089097682894\n"
          ]
        },
        {
          "output_type": "stream",
          "name": "stderr",
          "text": [
            "GroupNorm with epoch 14: 100%|██████████| 40/40 [00:01<00:00, 27.05it/s, Loss=0.535]\n"
          ]
        },
        {
          "output_type": "stream",
          "name": "stdout",
          "text": [
            "Epoch 14, Loss: 0.6402704611420631, lr = 0.011452755551679615\n"
          ]
        },
        {
          "output_type": "stream",
          "name": "stderr",
          "text": [
            "GroupNorm with epoch 15: 100%|██████████| 40/40 [00:01<00:00, 26.27it/s, Loss=0.613]\n"
          ]
        },
        {
          "output_type": "stream",
          "name": "stdout",
          "text": [
            "Epoch 15, Loss: 0.5607963465154171, lr = 0.011373287514083117\n"
          ]
        },
        {
          "output_type": "stream",
          "name": "stderr",
          "text": [
            "GroupNorm with epoch 16: 100%|██████████| 40/40 [00:01<00:00, 27.00it/s, Loss=0.806]\n"
          ]
        },
        {
          "output_type": "stream",
          "name": "stdout",
          "text": [
            "Epoch 16, Loss: 0.5127618752419949, lr = 0.011288763410252218\n"
          ]
        },
        {
          "output_type": "stream",
          "name": "stderr",
          "text": [
            "GroupNorm with epoch 17: 100%|██████████| 40/40 [00:01<00:00, 26.86it/s, Loss=0.186]\n"
          ]
        },
        {
          "output_type": "stream",
          "name": "stdout",
          "text": [
            "Epoch 17, Loss: 0.4632362127304077, lr = 0.01119926665527268\n"
          ]
        },
        {
          "output_type": "stream",
          "name": "stderr",
          "text": [
            "GroupNorm with epoch 18: 100%|██████████| 40/40 [00:01<00:00, 26.92it/s, Loss=0.298]\n"
          ]
        },
        {
          "output_type": "stream",
          "name": "stdout",
          "text": [
            "Epoch 18, Loss: 0.3971055790781975, lr = 0.01110488557163659\n"
          ]
        },
        {
          "output_type": "stream",
          "name": "stderr",
          "text": [
            "GroupNorm with epoch 19: 100%|██████████| 40/40 [00:01<00:00, 26.89it/s, Loss=0.367]\n"
          ]
        },
        {
          "output_type": "stream",
          "name": "stdout",
          "text": [
            "Epoch 19, Loss: 0.37468165904283524, lr = 0.011005713302078734\n"
          ]
        },
        {
          "output_type": "stream",
          "name": "stderr",
          "text": [
            "GroupNorm with epoch 20: 100%|██████████| 40/40 [00:01<00:00, 26.63it/s, Loss=0.559]\n"
          ]
        },
        {
          "output_type": "stream",
          "name": "stdout",
          "text": [
            "Epoch 20, Loss: 0.34649000503122807, lr = 0.010901847717655951\n"
          ]
        },
        {
          "output_type": "stream",
          "name": "stderr",
          "text": [
            "GroupNorm with epoch 21: 100%|██████████| 40/40 [00:01<00:00, 27.08it/s, Loss=0.0851]\n"
          ]
        },
        {
          "output_type": "stream",
          "name": "stdout",
          "text": [
            "Epoch 21, Loss: 0.31378518268465994, lr = 0.010793391321160221\n"
          ]
        },
        {
          "output_type": "stream",
          "name": "stderr",
          "text": [
            "GroupNorm with epoch 22: 100%|██████████| 40/40 [00:01<00:00, 26.88it/s, Loss=0.118]\n"
          ]
        },
        {
          "output_type": "stream",
          "name": "stdout",
          "text": [
            "Epoch 22, Loss: 0.2365098424255848, lr = 0.01068045114596079\n"
          ]
        },
        {
          "output_type": "stream",
          "name": "stderr",
          "text": [
            "GroupNorm with epoch 23: 100%|██████████| 40/40 [00:01<00:00, 26.16it/s, Loss=0.134]\n"
          ]
        },
        {
          "output_type": "stream",
          "name": "stdout",
          "text": [
            "Epoch 23, Loss: 0.17712030038237572, lr = 0.010563138650375146\n"
          ]
        },
        {
          "output_type": "stream",
          "name": "stderr",
          "text": [
            "GroupNorm with epoch 24: 100%|██████████| 40/40 [00:01<00:00, 26.77it/s, Loss=0.0726]\n"
          ]
        },
        {
          "output_type": "stream",
          "name": "stdout",
          "text": [
            "Epoch 24, Loss: 0.17160367481410504, lr = 0.01044156960767312\n"
          ]
        },
        {
          "output_type": "stream",
          "name": "stderr",
          "text": [
            "GroupNorm with epoch 25: 100%|██████████| 40/40 [00:01<00:00, 26.84it/s, Loss=0.189]\n"
          ]
        },
        {
          "output_type": "stream",
          "name": "stdout",
          "text": [
            "Epoch 25, Loss: 0.14142268113791942, lr = 0.010315863991822652\n"
          ]
        },
        {
          "output_type": "stream",
          "name": "stderr",
          "text": [
            "GroupNorm with epoch 26: 100%|██████████| 40/40 [00:01<00:00, 26.67it/s, Loss=0.0626]\n"
          ]
        },
        {
          "output_type": "stream",
          "name": "stdout",
          "text": [
            "Epoch 26, Loss: 0.12087409645318985, lr = 0.010186145859089965\n"
          ]
        },
        {
          "output_type": "stream",
          "name": "stderr",
          "text": [
            "GroupNorm with epoch 27: 100%|██████████| 40/40 [00:01<00:00, 26.93it/s, Loss=0.143]\n"
          ]
        },
        {
          "output_type": "stream",
          "name": "stdout",
          "text": [
            "Epoch 27, Loss: 0.08402130082249641, lr = 0.010052543225611003\n"
          ]
        },
        {
          "output_type": "stream",
          "name": "stderr",
          "text": [
            "GroupNorm with epoch 28: 100%|██████████| 40/40 [00:01<00:00, 26.87it/s, Loss=0.0751]\n"
          ]
        },
        {
          "output_type": "stream",
          "name": "stdout",
          "text": [
            "Epoch 28, Loss: 0.10041504381224513, lr = 0.00991518794105497\n"
          ]
        },
        {
          "output_type": "stream",
          "name": "stderr",
          "text": [
            "GroupNorm with epoch 29: 100%|██████████| 40/40 [00:01<00:00, 26.73it/s, Loss=0.0346]\n"
          ]
        },
        {
          "output_type": "stream",
          "name": "stdout",
          "text": [
            "Epoch 29, Loss: 0.06644698204472661, lr = 0.00977421555850462\n"
          ]
        },
        {
          "output_type": "stream",
          "name": "stderr",
          "text": [
            "GroupNorm with epoch 30: 100%|██████████| 40/40 [00:01<00:00, 26.58it/s, Loss=0.0597]\n"
          ]
        },
        {
          "output_type": "stream",
          "name": "stdout",
          "text": [
            "Epoch 30, Loss: 0.05232420265674591, lr = 0.009629765200681727\n"
          ]
        },
        {
          "output_type": "stream",
          "name": "stderr",
          "text": [
            "GroupNorm with epoch 31: 100%|██████████| 40/40 [00:01<00:00, 26.91it/s, Loss=0.0299]\n"
          ]
        },
        {
          "output_type": "stream",
          "name": "stdout",
          "text": [
            "Epoch 31, Loss: 0.04708395292982459, lr = 0.009481979422649757\n"
          ]
        },
        {
          "output_type": "stream",
          "name": "stderr",
          "text": [
            "GroupNorm with epoch 32: 100%|██████████| 40/40 [00:01<00:00, 26.98it/s, Loss=0.00766]\n"
          ]
        },
        {
          "output_type": "stream",
          "name": "stdout",
          "text": [
            "Epoch 32, Loss: 0.039050552807748315, lr = 0.009331004071129235\n"
          ]
        },
        {
          "output_type": "stream",
          "name": "stderr",
          "text": [
            "GroupNorm with epoch 33: 100%|██████████| 40/40 [00:01<00:00, 27.06it/s, Loss=0.0376]\n"
          ]
        },
        {
          "output_type": "stream",
          "name": "stdout",
          "text": [
            "Epoch 33, Loss: 0.03463467978872359, lr = 0.00917698814056464\n"
          ]
        },
        {
          "output_type": "stream",
          "name": "stderr",
          "text": [
            "GroupNorm with epoch 34: 100%|██████████| 40/40 [00:01<00:00, 27.09it/s, Loss=0.0413]\n"
          ]
        },
        {
          "output_type": "stream",
          "name": "stdout",
          "text": [
            "Epoch 34, Loss: 0.03649068209342658, lr = 0.009020083626084868\n"
          ]
        },
        {
          "output_type": "stream",
          "name": "stderr",
          "text": [
            "GroupNorm with epoch 35: 100%|██████████| 40/40 [00:01<00:00, 26.92it/s, Loss=0.027]\n"
          ]
        },
        {
          "output_type": "stream",
          "name": "stdout",
          "text": [
            "Epoch 35, Loss: 0.03136964021250606, lr = 0.008860445373502399\n"
          ]
        },
        {
          "output_type": "stream",
          "name": "stderr",
          "text": [
            "GroupNorm with epoch 36: 100%|██████████| 40/40 [00:01<00:00, 27.22it/s, Loss=0.0272]\n"
          ]
        },
        {
          "output_type": "stream",
          "name": "stdout",
          "text": [
            "Epoch 36, Loss: 0.02981336638331413, lr = 0.008698230926499172\n"
          ]
        },
        {
          "output_type": "stream",
          "name": "stderr",
          "text": [
            "GroupNorm with epoch 37: 100%|██████████| 40/40 [00:01<00:00, 27.55it/s, Loss=0.0276]\n"
          ]
        },
        {
          "output_type": "stream",
          "name": "stdout",
          "text": [
            "Epoch 37, Loss: 0.027289976924657823, lr = 0.008533600371149993\n"
          ]
        },
        {
          "output_type": "stream",
          "name": "stderr",
          "text": [
            "GroupNorm with epoch 38: 100%|██████████| 40/40 [00:01<00:00, 26.97it/s, Loss=0.0314]\n"
          ]
        },
        {
          "output_type": "stream",
          "name": "stdout",
          "text": [
            "Epoch 38, Loss: 0.025488907378166913, lr = 0.008366716177936905\n"
          ]
        },
        {
          "output_type": "stream",
          "name": "stderr",
          "text": [
            "GroupNorm with epoch 39: 100%|██████████| 40/40 [00:01<00:00, 26.67it/s, Loss=0.0123]\n"
          ]
        },
        {
          "output_type": "stream",
          "name": "stdout",
          "text": [
            "Epoch 39, Loss: 0.024102318193763496, lr = 0.008197743041410431\n"
          ]
        },
        {
          "output_type": "stream",
          "name": "stderr",
          "text": [
            "GroupNorm with epoch 40: 100%|██████████| 40/40 [00:01<00:00, 26.83it/s, Loss=0.0212]\n"
          ]
        },
        {
          "output_type": "stream",
          "name": "stdout",
          "text": [
            "Epoch 40, Loss: 0.022432381426915525, lr = 0.008026847717655952\n"
          ]
        },
        {
          "output_type": "stream",
          "name": "stderr",
          "text": [
            "GroupNorm with epoch 41: 100%|██████████| 40/40 [00:01<00:00, 27.12it/s, Loss=0.00938]\n"
          ]
        },
        {
          "output_type": "stream",
          "name": "stdout",
          "text": [
            "Epoch 41, Loss: 0.021537370793521405, lr = 0.007854198859725573\n"
          ]
        },
        {
          "output_type": "stream",
          "name": "stderr",
          "text": [
            "GroupNorm with epoch 42: 100%|██████████| 40/40 [00:01<00:00, 27.39it/s, Loss=0.0206]\n"
          ]
        },
        {
          "output_type": "stream",
          "name": "stdout",
          "text": [
            "Epoch 42, Loss: 0.02052800222299993, lr = 0.007679966851197918\n"
          ]
        },
        {
          "output_type": "stream",
          "name": "stderr",
          "text": [
            "GroupNorm with epoch 43: 100%|██████████| 40/40 [00:01<00:00, 26.62it/s, Loss=0.0139]\n"
          ]
        },
        {
          "output_type": "stream",
          "name": "stdout",
          "text": [
            "Epoch 43, Loss: 0.019775398541241884, lr = 0.007504323638030124\n"
          ]
        },
        {
          "output_type": "stream",
          "name": "stderr",
          "text": [
            "GroupNorm with epoch 44: 100%|██████████| 40/40 [00:01<00:00, 26.99it/s, Loss=0.0116]\n"
          ]
        },
        {
          "output_type": "stream",
          "name": "stdout",
          "text": [
            "Epoch 44, Loss: 0.018758193450048567, lr = 0.007327442558867921\n"
          ]
        },
        {
          "output_type": "stream",
          "name": "stderr",
          "text": [
            "GroupNorm with epoch 45: 100%|██████████| 40/40 [00:01<00:00, 27.10it/s, Loss=0.03]\n"
          ]
        },
        {
          "output_type": "stream",
          "name": "stdout",
          "text": [
            "Epoch 45, Loss: 0.018493161909282206, lr = 0.00714949817398133\n"
          ]
        },
        {
          "output_type": "stream",
          "name": "stderr",
          "text": [
            "GroupNorm with epoch 46: 100%|██████████| 40/40 [00:01<00:00, 26.26it/s, Loss=0.018]\n"
          ]
        },
        {
          "output_type": "stream",
          "name": "stdout",
          "text": [
            "Epoch 46, Loss: 0.0181737644597888, lr = 0.006970666092994753\n"
          ]
        },
        {
          "output_type": "stream",
          "name": "stderr",
          "text": [
            "GroupNorm with epoch 47: 100%|██████████| 40/40 [00:01<00:00, 26.81it/s, Loss=0.0202]\n"
          ]
        },
        {
          "output_type": "stream",
          "name": "stdout",
          "text": [
            "Epoch 47, Loss: 0.017793054087087513, lr = 0.006791122801581459\n"
          ]
        },
        {
          "output_type": "stream",
          "name": "stderr",
          "text": [
            "GroupNorm with epoch 48: 100%|██████████| 40/40 [00:01<00:00, 26.99it/s, Loss=0.0239]\n"
          ]
        },
        {
          "output_type": "stream",
          "name": "stdout",
          "text": [
            "Epoch 48, Loss: 0.016933291614986957, lr = 0.006611045487293554\n"
          ]
        },
        {
          "output_type": "stream",
          "name": "stderr",
          "text": [
            "GroupNorm with epoch 49: 100%|██████████| 40/40 [00:01<00:00, 27.16it/s, Loss=0.0205]\n"
          ]
        },
        {
          "output_type": "stream",
          "name": "stdout",
          "text": [
            "Epoch 49, Loss: 0.016714162123389543, lr = 0.006430611864699239\n"
          ]
        },
        {
          "output_type": "stream",
          "name": "stderr",
          "text": [
            "GroupNorm with epoch 50: 100%|██████████| 40/40 [00:01<00:00, 27.19it/s, Loss=0.0224]\n"
          ]
        },
        {
          "output_type": "stream",
          "name": "stdout",
          "text": [
            "Epoch 50, Loss: 0.016226247232407332, lr = 0.00625\n"
          ]
        },
        {
          "output_type": "stream",
          "name": "stderr",
          "text": [
            "GroupNorm with epoch 51: 100%|██████████| 40/40 [00:01<00:00, 26.85it/s, Loss=0.0314]\n"
          ]
        },
        {
          "output_type": "stream",
          "name": "stdout",
          "text": [
            "Epoch 51, Loss: 0.016099204891361296, lr = 0.006069388135300762\n"
          ]
        },
        {
          "output_type": "stream",
          "name": "stderr",
          "text": [
            "GroupNorm with epoch 52: 100%|██████████| 40/40 [00:01<00:00, 27.26it/s, Loss=0.0118]\n"
          ]
        },
        {
          "output_type": "stream",
          "name": "stdout",
          "text": [
            "Epoch 52, Loss: 0.015294591756537556, lr = 0.005888954512706447\n"
          ]
        },
        {
          "output_type": "stream",
          "name": "stderr",
          "text": [
            "GroupNorm with epoch 53: 100%|██████████| 40/40 [00:01<00:00, 27.18it/s, Loss=0.0181]\n"
          ]
        },
        {
          "output_type": "stream",
          "name": "stdout",
          "text": [
            "Epoch 53, Loss: 0.014741268148645759, lr = 0.005708877198418541\n"
          ]
        },
        {
          "output_type": "stream",
          "name": "stderr",
          "text": [
            "GroupNorm with epoch 54: 100%|██████████| 40/40 [00:01<00:00, 26.55it/s, Loss=0.0167]\n"
          ]
        },
        {
          "output_type": "stream",
          "name": "stdout",
          "text": [
            "Epoch 54, Loss: 0.014462022646330296, lr = 0.0055293339070052495\n"
          ]
        },
        {
          "output_type": "stream",
          "name": "stderr",
          "text": [
            "GroupNorm with epoch 55: 100%|██████████| 40/40 [00:01<00:00, 27.24it/s, Loss=0.00895]\n"
          ]
        },
        {
          "output_type": "stream",
          "name": "stdout",
          "text": [
            "Epoch 55, Loss: 0.01413757132831961, lr = 0.005350501826018671\n"
          ]
        },
        {
          "output_type": "stream",
          "name": "stderr",
          "text": [
            "GroupNorm with epoch 56: 100%|██████████| 40/40 [00:01<00:00, 26.85it/s, Loss=0.0138]\n"
          ]
        },
        {
          "output_type": "stream",
          "name": "stdout",
          "text": [
            "Epoch 56, Loss: 0.013741176179610192, lr = 0.005172557441132082\n"
          ]
        },
        {
          "output_type": "stream",
          "name": "stderr",
          "text": [
            "GroupNorm with epoch 57: 100%|██████████| 40/40 [00:01<00:00, 27.29it/s, Loss=0.00899]\n"
          ]
        },
        {
          "output_type": "stream",
          "name": "stdout",
          "text": [
            "Epoch 57, Loss: 0.013495700620114803, lr = 0.00499567636196988\n"
          ]
        },
        {
          "output_type": "stream",
          "name": "stderr",
          "text": [
            "GroupNorm with epoch 58: 100%|██████████| 40/40 [00:01<00:00, 27.11it/s, Loss=0.0155]\n"
          ]
        },
        {
          "output_type": "stream",
          "name": "stdout",
          "text": [
            "Epoch 58, Loss: 0.013357713981531561, lr = 0.004820033148802083\n"
          ]
        },
        {
          "output_type": "stream",
          "name": "stderr",
          "text": [
            "GroupNorm with epoch 59: 100%|██████████| 40/40 [00:01<00:00, 26.99it/s, Loss=0.0141]\n"
          ]
        },
        {
          "output_type": "stream",
          "name": "stdout",
          "text": [
            "Epoch 59, Loss: 0.013131550280377269, lr = 0.004645801140274431\n"
          ]
        },
        {
          "output_type": "stream",
          "name": "stderr",
          "text": [
            "GroupNorm with epoch 60: 100%|██████████| 40/40 [00:01<00:00, 27.32it/s, Loss=0.0141]\n"
          ]
        },
        {
          "output_type": "stream",
          "name": "stdout",
          "text": [
            "Epoch 60, Loss: 0.012931235413998366, lr = 0.004473152282344052\n"
          ]
        },
        {
          "output_type": "stream",
          "name": "stderr",
          "text": [
            "GroupNorm with epoch 61: 100%|██████████| 40/40 [00:01<00:00, 26.94it/s, Loss=0.0159]\n"
          ]
        },
        {
          "output_type": "stream",
          "name": "stdout",
          "text": [
            "Epoch 61, Loss: 0.012814465211704373, lr = 0.004302256958589572\n"
          ]
        },
        {
          "output_type": "stream",
          "name": "stderr",
          "text": [
            "GroupNorm with epoch 62: 100%|██████████| 40/40 [00:01<00:00, 26.55it/s, Loss=0.0136]\n"
          ]
        },
        {
          "output_type": "stream",
          "name": "stdout",
          "text": [
            "Epoch 62, Loss: 0.012543731834739447, lr = 0.004133283822063101\n"
          ]
        },
        {
          "output_type": "stream",
          "name": "stderr",
          "text": [
            "GroupNorm with epoch 63: 100%|██████████| 40/40 [00:01<00:00, 27.21it/s, Loss=0.0158]\n"
          ]
        },
        {
          "output_type": "stream",
          "name": "stdout",
          "text": [
            "Epoch 63, Loss: 0.012433227826841175, lr = 0.003966399628850009\n"
          ]
        },
        {
          "output_type": "stream",
          "name": "stderr",
          "text": [
            "GroupNorm with epoch 64: 100%|██████████| 40/40 [00:01<00:00, 26.89it/s, Loss=0.0167]\n"
          ]
        },
        {
          "output_type": "stream",
          "name": "stdout",
          "text": [
            "Epoch 64, Loss: 0.012387175648473202, lr = 0.0038017690735008304\n"
          ]
        },
        {
          "output_type": "stream",
          "name": "stderr",
          "text": [
            "GroupNorm with epoch 65: 100%|██████████| 40/40 [00:01<00:00, 26.95it/s, Loss=0.0131]\n"
          ]
        },
        {
          "output_type": "stream",
          "name": "stdout",
          "text": [
            "Epoch 65, Loss: 0.012149845389649272, lr = 0.0036395546264976044\n"
          ]
        },
        {
          "output_type": "stream",
          "name": "stderr",
          "text": [
            "GroupNorm with epoch 66: 100%|██████████| 40/40 [00:01<00:00, 26.06it/s, Loss=0.00652]\n"
          ]
        },
        {
          "output_type": "stream",
          "name": "stdout",
          "text": [
            "Epoch 66, Loss: 0.01184443833772093, lr = 0.0034799163739151345\n"
          ]
        },
        {
          "output_type": "stream",
          "name": "stderr",
          "text": [
            "GroupNorm with epoch 67: 100%|██████████| 40/40 [00:01<00:00, 26.99it/s, Loss=0.00598]\n"
          ]
        },
        {
          "output_type": "stream",
          "name": "stdout",
          "text": [
            "Epoch 67, Loss: 0.011668846849352122, lr = 0.0033230118594353634\n"
          ]
        },
        {
          "output_type": "stream",
          "name": "stderr",
          "text": [
            "GroupNorm with epoch 68: 100%|██████████| 40/40 [00:01<00:00, 27.40it/s, Loss=0.00661]\n"
          ]
        },
        {
          "output_type": "stream",
          "name": "stdout",
          "text": [
            "Epoch 68, Loss: 0.011550736986100674, lr = 0.0031689959288707667\n"
          ]
        },
        {
          "output_type": "stream",
          "name": "stderr",
          "text": [
            "GroupNorm with epoch 69: 100%|██████████| 40/40 [00:01<00:00, 26.86it/s, Loss=0.0127]\n"
          ]
        },
        {
          "output_type": "stream",
          "name": "stdout",
          "text": [
            "Epoch 69, Loss: 0.011594499670900404, lr = 0.0030180205773502476\n"
          ]
        },
        {
          "output_type": "stream",
          "name": "stderr",
          "text": [
            "GroupNorm with epoch 70: 100%|██████████| 40/40 [00:01<00:00, 26.71it/s, Loss=0.0154]\n"
          ]
        },
        {
          "output_type": "stream",
          "name": "stdout",
          "text": [
            "Epoch 70, Loss: 0.0115404789801687, lr = 0.0028702347993182793\n"
          ]
        },
        {
          "output_type": "stream",
          "name": "stderr",
          "text": [
            "GroupNorm with epoch 71: 100%|██████████| 40/40 [00:01<00:00, 26.89it/s, Loss=0.0169]\n"
          ]
        },
        {
          "output_type": "stream",
          "name": "stdout",
          "text": [
            "Epoch 71, Loss: 0.011512277345173062, lr = 0.002725784441495384\n"
          ]
        },
        {
          "output_type": "stream",
          "name": "stderr",
          "text": [
            "GroupNorm with epoch 72: 100%|██████████| 40/40 [00:01<00:00, 26.78it/s, Loss=0.01]\n"
          ]
        },
        {
          "output_type": "stream",
          "name": "stdout",
          "text": [
            "Epoch 72, Loss: 0.011312522203661501, lr = 0.0025848120589450334\n"
          ]
        },
        {
          "output_type": "stream",
          "name": "stderr",
          "text": [
            "GroupNorm with epoch 73: 100%|██████████| 40/40 [00:01<00:00, 27.48it/s, Loss=0.0131]\n"
          ]
        },
        {
          "output_type": "stream",
          "name": "stdout",
          "text": [
            "Epoch 73, Loss: 0.01124292155727744, lr = 0.0024474567743890023\n"
          ]
        },
        {
          "output_type": "stream",
          "name": "stderr",
          "text": [
            "GroupNorm with epoch 74: 100%|██████████| 40/40 [00:01<00:00, 27.24it/s, Loss=0.00492]\n"
          ]
        },
        {
          "output_type": "stream",
          "name": "stdout",
          "text": [
            "Epoch 74, Loss: 0.010981107503175736, lr = 0.0023138541409100395\n"
          ]
        },
        {
          "output_type": "stream",
          "name": "stderr",
          "text": [
            "GroupNorm with epoch 75: 100%|██████████| 40/40 [00:01<00:00, 27.12it/s, Loss=0.00566]\n"
          ]
        },
        {
          "output_type": "stream",
          "name": "stdout",
          "text": [
            "Epoch 75, Loss: 0.010881762695498764, lr = 0.0021841360081773517\n"
          ]
        },
        {
          "output_type": "stream",
          "name": "stderr",
          "text": [
            "GroupNorm with epoch 76: 100%|██████████| 40/40 [00:01<00:00, 27.50it/s, Loss=0.00782]\n"
          ]
        },
        {
          "output_type": "stream",
          "name": "stdout",
          "text": [
            "Epoch 76, Loss: 0.010881566139869393, lr = 0.0020584303923268845\n"
          ]
        },
        {
          "output_type": "stream",
          "name": "stderr",
          "text": [
            "GroupNorm with epoch 77: 100%|██████████| 40/40 [00:01<00:00, 26.84it/s, Loss=0.0136]\n"
          ]
        },
        {
          "output_type": "stream",
          "name": "stdout",
          "text": [
            "Epoch 77, Loss: 0.010949284490197896, lr = 0.0019368613496248569\n"
          ]
        },
        {
          "output_type": "stream",
          "name": "stderr",
          "text": [
            "GroupNorm with epoch 78: 100%|██████████| 40/40 [00:01<00:00, 26.35it/s, Loss=0.0145]\n"
          ]
        },
        {
          "output_type": "stream",
          "name": "stdout",
          "text": [
            "Epoch 78, Loss: 0.010926092392764986, lr = 0.001819548854039212\n"
          ]
        },
        {
          "output_type": "stream",
          "name": "stderr",
          "text": [
            "GroupNorm with epoch 79: 100%|██████████| 40/40 [00:01<00:00, 27.07it/s, Loss=0.0119]\n"
          ]
        },
        {
          "output_type": "stream",
          "name": "stdout",
          "text": [
            "Epoch 79, Loss: 0.010830274503678083, lr = 0.0017066086788397798\n"
          ]
        },
        {
          "output_type": "stream",
          "name": "stderr",
          "text": [
            "GroupNorm with epoch 80: 100%|██████████| 40/40 [00:01<00:00, 27.04it/s, Loss=0.00782]\n"
          ]
        },
        {
          "output_type": "stream",
          "name": "stdout",
          "text": [
            "Epoch 80, Loss: 0.010689762514084577, lr = 0.0015981522823440525\n"
          ]
        },
        {
          "output_type": "stream",
          "name": "stderr",
          "text": [
            "GroupNorm with epoch 81: 100%|██████████| 40/40 [00:01<00:00, 27.01it/s, Loss=0.0115]\n"
          ]
        },
        {
          "output_type": "stream",
          "name": "stdout",
          "text": [
            "Epoch 81, Loss: 0.010702148894779384, lr = 0.0014942866979212699\n"
          ]
        },
        {
          "output_type": "stream",
          "name": "stderr",
          "text": [
            "GroupNorm with epoch 82: 100%|██████████| 40/40 [00:01<00:00, 27.02it/s, Loss=0.0071]\n"
          ]
        },
        {
          "output_type": "stream",
          "name": "stdout",
          "text": [
            "Epoch 82, Loss: 0.010557377384975553, lr = 0.0013951144283634144\n"
          ]
        },
        {
          "output_type": "stream",
          "name": "stderr",
          "text": [
            "GroupNorm with epoch 83: 100%|██████████| 40/40 [00:01<00:00, 27.18it/s, Loss=0.0172]\n"
          ]
        },
        {
          "output_type": "stream",
          "name": "stdout",
          "text": [
            "Epoch 83, Loss: 0.010734380129724741, lr = 0.0013007333447273232\n"
          ]
        },
        {
          "output_type": "stream",
          "name": "stderr",
          "text": [
            "GroupNorm with epoch 84: 100%|██████████| 40/40 [00:01<00:00, 27.09it/s, Loss=0.00984]\n"
          ]
        },
        {
          "output_type": "stream",
          "name": "stdout",
          "text": [
            "Epoch 84, Loss: 0.010535163432359695, lr = 0.0012112365897477841\n"
          ]
        },
        {
          "output_type": "stream",
          "name": "stderr",
          "text": [
            "GroupNorm with epoch 85: 100%|██████████| 40/40 [00:01<00:00, 26.32it/s, Loss=0.0109]\n"
          ]
        },
        {
          "output_type": "stream",
          "name": "stdout",
          "text": [
            "Epoch 85, Loss: 0.01053906672168523, lr = 0.001126712485916885\n"
          ]
        },
        {
          "output_type": "stream",
          "name": "stderr",
          "text": [
            "GroupNorm with epoch 86: 100%|██████████| 40/40 [00:01<00:00, 26.83it/s, Loss=0.0102]\n"
          ]
        },
        {
          "output_type": "stream",
          "name": "stdout",
          "text": [
            "Epoch 86, Loss: 0.01048943989444524, lr = 0.0010472444483203885\n"
          ]
        },
        {
          "output_type": "stream",
          "name": "stderr",
          "text": [
            "GroupNorm with epoch 87: 100%|██████████| 40/40 [00:01<00:00, 27.27it/s, Loss=0.00975]\n"
          ]
        },
        {
          "output_type": "stream",
          "name": "stdout",
          "text": [
            "Epoch 87, Loss: 0.010430097696371377, lr = 0.0009729109023171096\n"
          ]
        },
        {
          "output_type": "stream",
          "name": "stderr",
          "text": [
            "GroupNorm with epoch 88: 100%|██████████| 40/40 [00:01<00:00, 27.23it/s, Loss=0.0138]\n"
          ]
        },
        {
          "output_type": "stream",
          "name": "stdout",
          "text": [
            "Epoch 88, Loss: 0.010494775581173598, lr = 0.0009037852061425547\n"
          ]
        },
        {
          "output_type": "stream",
          "name": "stderr",
          "text": [
            "GroupNorm with epoch 89: 100%|██████████| 40/40 [00:01<00:00, 27.27it/s, Loss=0.0107]\n"
          ]
        },
        {
          "output_type": "stream",
          "name": "stdout",
          "text": [
            "Epoch 89, Loss: 0.010416046832688153, lr = 0.0008399355785132036\n"
          ]
        },
        {
          "output_type": "stream",
          "name": "stderr",
          "text": [
            "GroupNorm with epoch 90: 100%|██████████| 40/40 [00:01<00:00, 26.88it/s, Loss=0.0167]\n"
          ]
        },
        {
          "output_type": "stream",
          "name": "stdout",
          "text": [
            "Epoch 90, Loss: 0.01052882329095155, lr = 0.0007814250313028671\n"
          ]
        },
        {
          "output_type": "stream",
          "name": "stderr",
          "text": [
            "GroupNorm with epoch 91: 100%|██████████| 40/40 [00:01<00:00, 27.39it/s, Loss=0.00429]\n"
          ]
        },
        {
          "output_type": "stream",
          "name": "stdout",
          "text": [
            "Epoch 91, Loss: 0.010236182087101042, lr = 0.0007283113073575779\n"
          ]
        },
        {
          "output_type": "stream",
          "name": "stderr",
          "text": [
            "GroupNorm with epoch 92: 100%|██████████| 40/40 [00:01<00:00, 27.28it/s, Loss=0.0142]\n"
          ]
        },
        {
          "output_type": "stream",
          "name": "stdout",
          "text": [
            "Epoch 92, Loss: 0.010413741366937757, lr = 0.0006806468235103719\n"
          ]
        },
        {
          "output_type": "stream",
          "name": "stderr",
          "text": [
            "GroupNorm with epoch 93: 100%|██████████| 40/40 [00:01<00:00, 22.54it/s, Loss=0.00952]\n"
          ]
        },
        {
          "output_type": "stream",
          "name": "stdout",
          "text": [
            "Epoch 93, Loss: 0.010297275963239372, lr = 0.0006384786188522028\n"
          ]
        },
        {
          "output_type": "stream",
          "name": "stderr",
          "text": [
            "GroupNorm with epoch 94: 100%|██████████| 40/40 [00:01<00:00, 27.19it/s, Loss=0.0135]\n"
          ]
        },
        {
          "output_type": "stream",
          "name": "stdout",
          "text": [
            "Epoch 94, Loss: 0.01036148825660348, lr = 0.0006018483083100398\n"
          ]
        },
        {
          "output_type": "stream",
          "name": "stderr",
          "text": [
            "GroupNorm with epoch 95: 100%|██████████| 40/40 [00:01<00:00, 27.29it/s, Loss=0.00847]\n"
          ]
        },
        {
          "output_type": "stream",
          "name": "stdout",
          "text": [
            "Epoch 95, Loss: 0.0102527393726632, lr = 0.0005707920415779584\n"
          ]
        },
        {
          "output_type": "stream",
          "name": "stderr",
          "text": [
            "GroupNorm with epoch 96: 100%|██████████| 40/40 [00:01<00:00, 26.76it/s, Loss=0.00817]\n"
          ]
        },
        {
          "output_type": "stream",
          "name": "stdout",
          "text": [
            "Epoch 96, Loss: 0.010207319539040327, lr = 0.0005453404674417528\n"
          ]
        },
        {
          "output_type": "stream",
          "name": "stderr",
          "text": [
            "GroupNorm with epoch 97: 100%|██████████| 40/40 [00:01<00:00, 27.05it/s, Loss=0.0121]\n"
          ]
        },
        {
          "output_type": "stream",
          "name": "stdout",
          "text": [
            "Epoch 97, Loss: 0.010286965360864996, lr = 0.00052551870353229\n"
          ]
        },
        {
          "output_type": "stream",
          "name": "stderr",
          "text": [
            "GroupNorm with epoch 98: 100%|██████████| 40/40 [00:01<00:00, 27.04it/s, Loss=0.0095]\n"
          ]
        },
        {
          "output_type": "stream",
          "name": "stdout",
          "text": [
            "Epoch 98, Loss: 0.010225143237039446, lr = 0.0005113463115374385\n"
          ]
        },
        {
          "output_type": "stream",
          "name": "stderr",
          "text": [
            "GroupNorm with epoch 99: 100%|██████████| 40/40 [00:01<00:00, 26.54it/s, Loss=0.0122]\n"
          ]
        },
        {
          "output_type": "stream",
          "name": "stdout",
          "text": [
            "Epoch 99, Loss: 0.010266622551716864, lr = 0.0005028372778970433\n"
          ]
        },
        {
          "output_type": "stream",
          "name": "stderr",
          "text": [
            "GroupNorm with epoch 100: 100%|██████████| 40/40 [00:01<00:00, 27.15it/s, Loss=0.0125]"
          ]
        },
        {
          "output_type": "stream",
          "name": "stdout",
          "text": [
            "Epoch 100, Loss: 0.010265785176306963, lr = 0.0005\n"
          ]
        },
        {
          "output_type": "stream",
          "name": "stderr",
          "text": [
            "\n"
          ]
        },
        {
          "output_type": "stream",
          "name": "stdout",
          "text": [
            "Norm : BatchNorm, Batch Size: 128, Top1 Accuracy: 60.30%\n",
            "Norm : GroupNorm, Batch Size: 128, Top1 Accuracy: 58.85%\n",
            "ㅡㅡㅡㅡㅡㅡㅡㅡㅡㅡㅡㅡbatch_size: 128ㅡㅡㅡㅡㅡㅡㅡㅡㅡㅡㅡㅡㅡ\n",
            "\n"
          ]
        }
      ]
    },
    {
      "cell_type": "code",
      "execution_count": 19,
      "metadata": {
        "id": "C5nw1oET4ues",
        "colab": {
          "base_uri": "https://localhost:8080/"
        },
        "outputId": "1b81ecca-35b6-4992-a9e6-89d604f66532"
      },
      "outputs": [
        {
          "output_type": "stream",
          "name": "stdout",
          "text": [
            "[Experiment Result]\n",
            "                  BatchNorm  GroupNorm  Differences\n",
            "batch_size : 2        39.93      55.53        15.60\n",
            "batch_size : 4        56.67      59.33         2.66\n",
            "batch_size : 8        57.72      59.61         1.89\n",
            "batch_size : 16       60.41      59.32         1.09\n",
            "batch_size : 32       60.88      59.80         1.08\n",
            "batch_size : 64       60.77      59.10         1.67\n",
            "batch_size : 128      60.30      58.85         1.45\n"
          ]
        }
      ],
      "source": [
        "dfs = []\n",
        "print(f\"[Experiment Result]\")\n",
        "Accuracies = results[0]\n",
        "differences = [relu - sig for sig, relu in zip(Accuracies[\"BatchNorm\"], Accuracies[\"GroupNorm\"])]\n",
        "\n",
        "index = [f\"batch_size : {i}\" for i in [2, 4, 8, 16, 32, 64, 128]]\n",
        "data = {\n",
        "    \"BatchNorm\": Accuracies[\"BatchNorm\"],\n",
        "    \"GroupNorm\": Accuracies[\"GroupNorm\"],\n",
        "    \"Differences\": np.abs(differences)\n",
        "}\n",
        "\n",
        "df = pd.DataFrame(data, index=index)\n",
        "dfs.append(df)\n",
        "\n",
        "print(df)"
      ]
    }
  ],
  "metadata": {
    "accelerator": "GPU",
    "colab": {
      "gpuType": "T4",
      "machine_shape": "hm",
      "provenance": []
    },
    "kernelspec": {
      "display_name": "Python 3",
      "name": "python3"
    },
    "language_info": {
      "name": "python",
      "version": "3.13.2"
    }
  },
  "nbformat": 4,
  "nbformat_minor": 0
}